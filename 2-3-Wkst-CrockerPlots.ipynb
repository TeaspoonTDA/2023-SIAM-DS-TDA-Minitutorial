{
 "cells": [
  {
   "cell_type": "markdown",
   "id": "e28d8f87",
   "metadata": {},
   "source": [
    "# Module 2-3 Worksheet: Crocker Plots\n",
    "\n",
    "<font color = 'purple'>\n",
    "    \n",
    "*Once we are done talking through the slides from [the main module 2-3 notebook](2-3-CrockerPlots.ipynb), we will take some time to test out your understanding of the definitions by working through the following questions. We encourage talking to your neighbor, and drawing pictures for understanding! Please ask if you need help!*\n",
    "    \n",
    "</font>\n"
   ]
  },
  {
   "cell_type": "code",
   "execution_count": 7,
   "id": "f1ccdca6",
   "metadata": {},
   "outputs": [],
   "source": [
    "import numpy as np\n",
    "import matplotlib.pyplot as plt"
   ]
  },
  {
   "cell_type": "markdown",
   "id": "5cab85eb",
   "metadata": {},
   "source": [
    "TODO\n"
   ]
  },
  {
   "cell_type": "markdown",
   "id": "5395a344",
   "metadata": {},
   "source": [
    "<font color = 'purple'><b>Question:</b></font>\n"
   ]
  },
  {
   "cell_type": "markdown",
   "id": "f44aea4c",
   "metadata": {},
   "source": [
    "*Space for your notes/answer*"
   ]
  },
  {
   "cell_type": "markdown",
   "id": "15d03b32",
   "metadata": {},
   "source": [
    "*The correct answer is hidden here. Highlight or double-click to open the cell to see it when you're ready. No peeking!*\n",
    "\n",
    "<font color='white'>\n",
    "    \n",
    "$\\beta_i(K_i)$ is $(0,1,2,2,1)$ for each of the $i=1,2,4,8,9$ in order.\n",
    "    \n",
    "</font>"
   ]
  },
  {
   "cell_type": "markdown",
   "id": "dad0af22",
   "metadata": {},
   "source": [
    "## <font color = 'purple'>Take home message:</font>\n",
    "- TODO"
   ]
  },
  {
   "cell_type": "markdown",
   "id": "a879266e",
   "metadata": {},
   "source": [
    "## Challenge problem\n",
    "\n",
    "If you have a ton of time left or just want something harder, here's a challenge problem to think about. \n",
    "\n",
    "\n",
    "TODO\n",
    "\n"
   ]
  },
  {
   "cell_type": "markdown",
   "id": "4698b786",
   "metadata": {},
   "source": [
    "*The correct answer is hidden here. Uncomment the figure to see the solution*\n",
    "\n",
    "<!-- ![](figures/1-1-Filtration-0dim-Soln.png) -->"
   ]
  },
  {
   "cell_type": "code",
   "execution_count": null,
   "id": "6316b80c",
   "metadata": {},
   "outputs": [],
   "source": []
  }
 ],
 "metadata": {
  "kernelspec": {
   "display_name": "Python 3 (ipykernel)",
   "language": "python",
   "name": "python3"
  },
  "language_info": {
   "codemirror_mode": {
    "name": "ipython",
    "version": 3
   },
   "file_extension": ".py",
   "mimetype": "text/x-python",
   "name": "python",
   "nbconvert_exporter": "python",
   "pygments_lexer": "ipython3",
   "version": "3.9.16"
  }
 },
 "nbformat": 4,
 "nbformat_minor": 5
}
