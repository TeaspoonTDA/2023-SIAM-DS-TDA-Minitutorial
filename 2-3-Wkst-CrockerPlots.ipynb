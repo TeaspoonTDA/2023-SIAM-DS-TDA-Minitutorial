{
 "cells": [
  {
   "cell_type": "markdown",
   "id": "e28d8f87",
   "metadata": {},
   "source": [
    "# Module 2-3 Worksheet: Crocker Plots\n",
    "\n",
    "<font color = 'purple'>\n",
    "    \n",
    "*Once we are done talking through the slides from [the main module 2-3 notebook](2-3-CrockerPlots.ipynb), we will take some time to test out your understanding of the definitions by working through the following questions. We encourage talking to your neighbor, and drawing pictures for understanding! Please ask if you need help!*\n",
    "    \n",
    "</font>\n"
   ]
  },
  {
   "cell_type": "code",
   "execution_count": 25,
   "id": "5b6a4c94",
   "metadata": {},
   "outputs": [],
   "source": [
    "# Import libraries\n",
    "from teaspoon.MakeData.PointCloud import Torus, Annulus, Circle\n",
    "from teaspoon.TDA.Persistence import BettiCurve\n",
    "from teaspoon.TDA.Persistence import CROCKER\n",
    "import matplotlib.pyplot as plt\n",
    "import numpy as np\n",
    "from ripser import ripser\n",
    "\n",
    "# Define function to draw point cloud, persistence diagram and Betti Curve\n",
    "def DrawFigures(A, Dgm, epsilon, betti):\n",
    "    \n",
    "    # Create subplots\n",
    "    f, (ax1, ax2, ax3) = plt.subplots(1, 3, figsize= (18,6))\n",
    "\n",
    "    # Point Cloud\n",
    "    ax1.scatter(*A.T)\n",
    "    ax1.set_title('Point Cloud')\n",
    "\n",
    "    # Persistence Dgm\n",
    "    ax2.scatter(Dgm[:, 0], Dgm[:, 1])\n",
    "    ax2.plot([0, Dgm.max() + 0.1], [0, Dgm.max() + 0.1], '--k')\n",
    "    ax2.axis('equal')\n",
    "    ax2.set_title('Persistence Diagram')\n",
    "\n",
    "    # Betti Curve\n",
    "    ax3.plot(epsilon, betti)\n",
    "    ax3.set_title('Betti Curve')\n",
    "    \n",
    "    plt.show()"
   ]
  },
  {
   "cell_type": "markdown",
   "id": "8804d32e",
   "metadata": {},
   "source": [
    "# Betti Curve Problem\n",
    "\n",
    "![](figures/Crocker/betti_problem.png)"
   ]
  },
  {
   "cell_type": "markdown",
   "id": "ab42bd84",
   "metadata": {},
   "source": [
    "### Given the persistence diagram, what is the value of Betti curve at epsilon = 2.2?"
   ]
  },
  {
   "cell_type": "markdown",
   "id": "c80c5a95",
   "metadata": {},
   "source": [
    "_Your answer_"
   ]
  },
  {
   "cell_type": "markdown",
   "id": "d30ee7cd",
   "metadata": {},
   "source": [
    "*The correct answer is hidden here. Highlight or double-click to open the cell to see it when you're ready. No peeking!*\n",
    "\n",
    "<font color='white'>    \n",
    "4, corresponding to the four point from the top. \n",
    "(Draw a line for y = 2.2 and x = 2.2 and count the points in the top-left quadrant)\n",
    "</font>"
   ]
  },
  {
   "cell_type": "markdown",
   "id": "f2f14920",
   "metadata": {},
   "source": [
    "### Given the persistence diagram, what is the value of Betti curve at epsilon = 3?"
   ]
  },
  {
   "cell_type": "markdown",
   "id": "6aa0eba6",
   "metadata": {},
   "source": [
    "_Your answer_"
   ]
  },
  {
   "cell_type": "markdown",
   "id": "db19b9dc",
   "metadata": {},
   "source": [
    "*The correct answer is hidden here. Highlight or double-click to open the cell to see it when you're ready. No peeking!*\n",
    "\n",
    "<font color='white'>    \n",
    "2, corresponding to the two point from the top. \n",
    "(Draw a line for y = 3 and x = 3 and count the points in the top-left quadrant)\n",
    "</font>"
   ]
  },
  {
   "cell_type": "markdown",
   "id": "d1d88613",
   "metadata": {},
   "source": [
    "### Given the persistence diagram, what is the value of Betti curve at epsilon = 4.5?"
   ]
  },
  {
   "cell_type": "markdown",
   "id": "fa9d1e89",
   "metadata": {},
   "source": [
    "_Your answer_"
   ]
  },
  {
   "cell_type": "markdown",
   "id": "538299a9",
   "metadata": {},
   "source": [
    "*The correct answer is hidden here. Highlight or double-click to open the cell to see it when you're ready. No peeking!*\n",
    "\n",
    "<font color='white'>    \n",
    "1, corresponding to the one point from the top. \n",
    "(Draw a line for y = 4.5 and x = 4.5 and count the points in the top-left quadrant)\n",
    "</font>"
   ]
  },
  {
   "cell_type": "markdown",
   "id": "42756ab0",
   "metadata": {},
   "source": [
    "### Given the persistence diagram, what would be the value of Betti curve at epsilon = 6?"
   ]
  },
  {
   "cell_type": "markdown",
   "id": "aa496e9a",
   "metadata": {},
   "source": [
    "_Your answer_"
   ]
  },
  {
   "cell_type": "markdown",
   "id": "c81f16a9",
   "metadata": {},
   "source": [
    "*The correct answer is hidden here. Highlight or double-click to open the cell to see it when you're ready. No peeking!*\n",
    "\n",
    "<font color='white'>    \n",
    "0, since all points died at ~5.5. \n",
    "(Draw a line for y = 6 and x = 6 and count the points in the top-left quadrant)\n",
    "</font>"
   ]
  },
  {
   "cell_type": "markdown",
   "id": "9b0225e8",
   "metadata": {},
   "source": [
    "# Betti Curve Problem\n",
    "\n",
    "![](figures/Crocker/betti_problem2.png)"
   ]
  },
  {
   "cell_type": "markdown",
   "id": "fe5f5213",
   "metadata": {},
   "source": [
    "## At what parameter value does the betti curve change to 1?"
   ]
  },
  {
   "cell_type": "markdown",
   "id": "cfecdc0f",
   "metadata": {},
   "source": [
    "_Your answer_"
   ]
  },
  {
   "cell_type": "markdown",
   "id": "3be98a23",
   "metadata": {},
   "source": [
    "*The correct answer is hidden here. Highlight or double-click to open the cell to see it when you're ready. No peeking!*\n",
    "\n",
    "<font color='white'>    \n",
    "Nearly 1 (when the first loop is born).\n",
    "</font>"
   ]
  },
  {
   "cell_type": "markdown",
   "id": "03ad8d57",
   "metadata": {},
   "source": [
    "## At what parameter value does the betti curve change to 3?"
   ]
  },
  {
   "cell_type": "markdown",
   "id": "535489f7",
   "metadata": {},
   "source": [
    "_Your answer_"
   ]
  },
  {
   "cell_type": "markdown",
   "id": "8ae9cd11",
   "metadata": {},
   "source": [
    "*The correct answer is hidden here. Highlight or double-click to open the cell to see it when you're ready. No peeking!*\n",
    "\n",
    "<font color='white'>    \n",
    "A little over 2 (when the last loop is born).\n",
    "</font>"
   ]
  },
  {
   "cell_type": "markdown",
   "id": "7cf32995",
   "metadata": {},
   "source": [
    "## At what parameter value (greater than 2) does the betti curve change to 0?"
   ]
  },
  {
   "cell_type": "markdown",
   "id": "780d328e",
   "metadata": {},
   "source": [
    "_Your answer_"
   ]
  },
  {
   "cell_type": "markdown",
   "id": "29aa72f8",
   "metadata": {},
   "source": [
    "*The correct answer is hidden here. Highlight or double-click to open the cell to see it when you're ready. No peeking!*\n",
    "\n",
    "<font color='white'>    \n",
    "At 7, when the last loop dies.\n",
    "</font>"
   ]
  },
  {
   "cell_type": "markdown",
   "id": "bd766850",
   "metadata": {},
   "source": [
    "# CROCKER Plots Problem\n",
    "![](figures/Crocker/crocker_problem.png)"
   ]
  },
  {
   "cell_type": "markdown",
   "id": "f2831a65",
   "metadata": {},
   "source": [
    "## Given the CROCKER plot, where do you expect to see windows of order?"
   ]
  },
  {
   "cell_type": "markdown",
   "id": "b0285e88",
   "metadata": {},
   "source": [
    "_Your answer_"
   ]
  },
  {
   "cell_type": "markdown",
   "id": "b46c08bf",
   "metadata": {},
   "source": [
    "*The correct answer is hidden here. Highlight or double-click to open the cell to see it when you're ready. No peeking!*\n",
    "\n",
    "<font color='white'>    \n",
    "Between ~7 and ~8, close to 10, between ~11.8 and ~12.2, around ~13.4, and between ~16 and ~16.5 values of the bifurcation parameter (x-axis).\n",
    "</font>"
   ]
  },
  {
   "cell_type": "markdown",
   "id": "1824723e",
   "metadata": {},
   "source": [
    "![](figures/Crocker/crocker_problem2.png)"
   ]
  },
  {
   "cell_type": "markdown",
   "id": "6e287d59",
   "metadata": {},
   "source": [
    "## Chaotic regions have higher $\\epsilon$ at which H0 rank becomes 1, while ordered regions have lower $\\epsilon$ for the same. Give the H0 crocker plot (top), where do you expect chaotic region to end?"
   ]
  },
  {
   "cell_type": "markdown",
   "id": "296cce18",
   "metadata": {},
   "source": [
    "_Your answer_"
   ]
  },
  {
   "cell_type": "markdown",
   "id": "a5d89bc0",
   "metadata": {},
   "source": [
    "*The correct answer is hidden here. Highlight or double-click to open the cell to see it when you're ready. No peeking!*\n",
    "\n",
    "<font color='white'>    \n",
    "Around value 10.5 of the bifurcation parameter (x-axis).\n",
    "</font>"
   ]
  },
  {
   "cell_type": "markdown",
   "id": "d5c2f263",
   "metadata": {},
   "source": [
    "## Given the H1 crocker plot (bottom), how many loops do you expect in the attractor for the system?"
   ]
  },
  {
   "cell_type": "markdown",
   "id": "49d994ac",
   "metadata": {},
   "source": [
    "_Your answer_"
   ]
  },
  {
   "cell_type": "markdown",
   "id": "dfca2503",
   "metadata": {},
   "source": [
    "*The correct answer is hidden here. Highlight or double-click to open the cell to see it when you're ready. No peeking!*\n",
    "\n",
    "<font color='white'>\n",
    "\n",
    "A1 = Circle(N = 50, r = 3)\n",
    "A2 = Annulus(N = 50, r = 2, R = 3)\n",
    "A2.T[0, :] = A2.T[0, :] + 8\n",
    "A3 = Circle(N = 50, r = 1)\n",
    "A3.T[1, :] = A3.T[1, :] + 5\n",
    "A = np.concatenate((A1, A2), axis=0)\n",
    "A = np.concatenate((A, A3), axis=0)\n",
    "\n",
    "Dgm = ripser(A,2)['dgms'][1]\n",
    "t,x = BettiCurve(Dgm, np.max(Dgm), 100)\n",
    "\n",
    "DrawFigures(A, Dgm, t, x)\n",
    "\n",
    "</font>"
   ]
  },
  {
   "cell_type": "markdown",
   "id": "ddf5b023",
   "metadata": {},
   "source": [
    "# Open Ended Problem"
   ]
  },
  {
   "cell_type": "markdown",
   "id": "7c43eb1c",
   "metadata": {},
   "source": [
    "### Use the imported libraries at the top and the function for plotting to generate the betti curve for a point cloud of your choice. "
   ]
  },
  {
   "cell_type": "markdown",
   "id": "5f7825ff",
   "metadata": {},
   "source": [
    "*A sample code is hidden here. Highlight or double-click to open the cell to see it when you're ready. No peeking!*\n",
    "\n",
    "<font color='white'>\n",
    "\n",
    "A1 = Circle(N = 50, r = 3)\n",
    "A2 = Annulus(N = 50, r = 2, R = 3)\n",
    "A2.T[0, :] = A2.T[0, :] + 8\n",
    "A3 = Circle(N = 50, r = 1)\n",
    "A3.T[1, :] = A3.T[1, :] + 5\n",
    "A = np.concatenate((A1, A2), axis=0)\n",
    "A = np.concatenate((A, A3), axis=0)\n",
    "\n",
    "Dgm = ripser(A,2)['dgms'][1]\n",
    "t, x = BettiCurve(Dgm, np.max(Dgm), 100)\n",
    "\n",
    "DrawFigures(A, Dgm, t, x)\n",
    "\n",
    "\n",
    "</font>"
   ]
  },
  {
   "cell_type": "markdown",
   "id": "7a616235",
   "metadata": {},
   "source": [
    "# Challenge Problem (do at home)"
   ]
  },
  {
   "cell_type": "markdown",
   "id": "2d2ee2ce",
   "metadata": {},
   "source": [
    "## Lorenz System Bifurcation Analysis\n",
    "\n",
    "The Lorenz system used is defined as\n",
    "\n",
    "\\begin{align*}\n",
    "\\dot{x}&=\\sigma (y-x),\\\\\n",
    "\\dot{y}&=x(\\rho−z)−y,\\\\\n",
    "\\dot{z}&=xy-\\beta z.\n",
    "\\end{align*}\n",
    "\n",
    "In Teaspoon, The Lorenz system is solved with a sampling rate of 100 Hz for 100 seconds with only the last 20 seconds used to avoid transients. Use parameters: \n",
    "- $\\sigma = 10.0$\n",
    "- $\\beta = 8.0/3.0$, and \n",
    "- initial conditions $[x_0,y_0,z_0] = [10^{−10},0,1]$, \n",
    "- with $\\rho$ being the varying bifurcation parameter to be studied.\n",
    "\n",
    "Using your knowledge from [the main module 2-1 notebook](2-1-Embedding.ipynb) and this [documentation](https://teaspoontda.github.io/teaspoon/DynSysLib.html), solve the system for ρ values of 90 to 100. Generate persistence diagrams against each solution and use them to plot a Crocker plot. Do you see any windows of order?\n",
    "\n",
    "<br>\n",
    "\n",
    "#### Function CROCKER in teaspoon:\n",
    "\n",
    "`teaspoon.TDA.Persistence.CROCKER(DGMS, maxEps=3, numStops=10, plotting=True)`\n",
    "\n",
    "Computes the CROCKER plot for a list of persistence diagrams for thresholds 0 to maxEps.\n",
    "\n",
    "**Parameters**\n",
    "\n",
    "- (list) (`DGMS`) – A python list of 2D numpy arrays of persistence diagrams of a specific homology class\n",
    "- (float) (`maxEps`) – Maximum value of threshold; default: 3\n",
    "- (int) (`numStops`) – Number of points between 0 and maxEps; default: 10\n",
    "- (bool) (`plotting`) – Plots the CROCKER for the given diagrams; default: True"
   ]
  },
  {
   "cell_type": "markdown",
   "id": "f62c8bc5",
   "metadata": {},
   "source": [
    "*A sample code is hidden here. Highlight or double-click to open the cell to see it when you're ready. No peeking!*\n",
    "\n",
    "<font color='white'>\n",
    "\n",
    "import teaspoon.MakeData.DynSysLib.DynSysLib as DSL\n",
    "from ripser import Rips\n",
    "\n",
    "DGMS = []\n",
    "MD = []\n",
    "for p in range(90, 101, 1):\n",
    "\n",
    "## Apply indent to lines below\n",
    "t, ts = DSL.DynamicSystems(system='lorenz', parameters=[10.0, 8.0/3.0, p], InitialConditions=[10^(−10), 0.0, 1.0])\n",
    "\n",
    "rips = Rips()\n",
    "diagram = rips.fit_transform(np.array(ts).T[::2])[1]\n",
    "\n",
    "maxdeath = np.amax(diagram[:, 1])\n",
    "DGMS.append(diagram)\n",
    "MD.append(maxdeath)\n",
    "    \n",
    "## No indent on line below\n",
    "CROCKER(DGMS, maxEps=1.1*maxdeath, numStops=100, plotting=True)\n",
    "\n",
    "</font>"
   ]
  },
  {
   "cell_type": "code",
   "execution_count": null,
   "id": "b9655ddf",
   "metadata": {},
   "outputs": [],
   "source": []
  }
 ],
 "metadata": {
  "kernelspec": {
   "display_name": "Python 3 (ipykernel)",
   "language": "python",
   "name": "python3"
  },
  "language_info": {
   "codemirror_mode": {
    "name": "ipython",
    "version": 3
   },
   "file_extension": ".py",
   "mimetype": "text/x-python",
   "name": "python",
   "nbconvert_exporter": "python",
   "pygments_lexer": "ipython3",
   "version": "3.11.0"
  }
 },
 "nbformat": 4,
 "nbformat_minor": 5
}
