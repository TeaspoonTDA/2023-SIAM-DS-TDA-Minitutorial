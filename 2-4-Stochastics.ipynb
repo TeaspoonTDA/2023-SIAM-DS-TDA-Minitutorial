{
 "cells": [
  {
   "cell_type": "code",
   "execution_count": 1,
   "id": "9843489e",
   "metadata": {
    "slideshow": {
     "slide_type": "skip"
    }
   },
   "outputs": [
    {
     "data": {
      "text/html": [
       "    \n",
       "<!-- reveal.js CSS theme and local overrides -->\n",
       "<link rel=\"stylesheet\" href=\"https://fonts.googleapis.com/css?family=Open+Sans:300,400,600,700&amp;lang=en\"/>\n",
       "<link rel=\"stylesheet\" href=\"https://fonts.googleapis.com/css?family=Merriweather:italic&amp;lang=en\"/>\n",
       "<link rel=\"stylesheet\" href=\"stylefiles/presentation.css\"/> \n"
      ],
      "text/plain": [
       "<IPython.core.display.HTML object>"
      ]
     },
     "metadata": {},
     "output_type": "display_data"
    }
   ],
   "source": [
    "%%HTML\n",
    "    \n",
    "<!-- reveal.js CSS theme and local overrides -->\n",
    "<link rel=\"stylesheet\" href=\"https://fonts.googleapis.com/css?family=Open+Sans:300,400,600,700&amp;lang=en\"/>\n",
    "<link rel=\"stylesheet\" href=\"https://fonts.googleapis.com/css?family=Merriweather:italic&amp;lang=en\"/>\n",
    "<link rel=\"stylesheet\" href=\"stylefiles/presentation.css\"/> "
   ]
  },
  {
   "cell_type": "markdown",
   "id": "f198536f",
   "metadata": {
    "slideshow": {
     "slide_type": "slide"
    }
   },
   "source": [
    "<section id=\"title-slide\"> \n",
    "    <br><br><br><h1><i>TDA for Detecting P-Bifurcations in Stochastic Dynamical Systems</i></h1>\n",
    "    <h3><i>Module 2-4</i></h3>\n",
    "    <br><br>\n",
    "    <h4><i>5/15/2023</i></h4>\n",
    "    <br><br>\n",
    "    <div class=\"uu_title_container\">\n",
    "        <smaller>\n",
    "        <div>\n",
    "            <b>Presented by:</b> Sunia Tanweer\n",
    "            <br><br><br><br>\n",
    "            <b>Topological Signal Processing for Dynamical Systems</b><br>\n",
    "            SIAM-DS Minitutorial 2023\n",
    "        </div>  \n",
    "        </smaller>\n",
    "    </div><br>\n",
    "    <div class='footer'>\n",
    "        Michigan State University\n",
    "    </div>\n",
    "</section>"
   ]
  },
  {
   "cell_type": "markdown",
   "id": "0fcd5705",
   "metadata": {
    "slideshow": {
     "slide_type": "slide"
    }
   },
   "source": [
    "# Visual Abstract \n",
    "\n",
    "![](figures/big_picture.png)"
   ]
  },
  {
   "cell_type": "markdown",
   "id": "6cbd941c",
   "metadata": {
    "slideshow": {
     "slide_type": "subslide"
    }
   },
   "source": [
    "## Goals of this module\n",
    "\n",
    "- Describe what P-bifurcations are and identify the difficulty in detecting them \n",
    "- Demonstrate the use of persistent homology to detect P-bifurcations\n",
    "- Learn to detect P-bifurcations given a density"
   ]
  },
  {
   "cell_type": "markdown",
   "id": "310927e2",
   "metadata": {
    "slideshow": {
     "slide_type": "notes"
    }
   },
   "source": [
    "We will discuss what P-bifurcations are in stochastic systems and how to identify them using TDA."
   ]
  },
  {
   "cell_type": "markdown",
   "id": "bbb5ff33",
   "metadata": {
    "slideshow": {
     "slide_type": "slide"
    }
   },
   "source": [
    "# Objective \n",
    "\n",
    "<center><img src = 'figures/Stochastic/Objective.png' width = 70% height = 'auto'></center>"
   ]
  },
  {
   "cell_type": "markdown",
   "id": "45e7bcb4",
   "metadata": {
    "slideshow": {
     "slide_type": "fragment"
    }
   },
   "source": [
    "### _Objective: Quantify Bifurcations in Stochastic Systems_"
   ]
  },
  {
   "cell_type": "markdown",
   "id": "285a2d17",
   "metadata": {
    "slideshow": {
     "slide_type": "notes"
    }
   },
   "source": [
    "Let's take a minute to see what motivated this work. For deterministic dynamical systems, we know that bifurcation analysis is well-researched and understood, with many analytical as well as numerical tools being available. E.g. the image on the left shows the supercritical pitchfork bifurcation diagram corresponding to its time series. But, practically many of the dynamical systems are stochastic due to the presence of random factors. Their solutions don't end up in the form of deterministic time series but instead in the form of PDFs. However, not many tools are available to analyse the bifurcation behaviour against the change in these PDFs which is what motivated this work. "
   ]
  },
  {
   "cell_type": "markdown",
   "id": "9715804d",
   "metadata": {
    "slideshow": {
     "slide_type": "slide"
    }
   },
   "source": [
    "# Current Techniques\n",
    "<center><img src = 'figures/Stochastic/methods-8.png' width = 70% height = 'auto'></center>"
   ]
  },
  {
   "cell_type": "markdown",
   "id": "10845f25",
   "metadata": {
    "slideshow": {
     "slide_type": "notes"
    }
   },
   "source": [
    "P-type bifurcations are characterized by a change in the topology of the probability density function, and hence are difficult to mathematically quantify.\n",
    "The current techniques used for identifying them are: visually inspecting the PDFs, quantifying the number of peaks in the PDF, and using the Shannon entropy. Each of these methods poses its own limitations such as subjectivity, inability to detect richer behavior or inapplicability to all systems."
   ]
  },
  {
   "cell_type": "markdown",
   "id": "f4f35c09",
   "metadata": {
    "slideshow": {
     "slide_type": "slide"
    }
   },
   "source": [
    "# P-Bifurcations\n",
    "\n",
    "<table>\n",
    "<tr>\n",
    "</tr>\n",
    "\n",
    "<tr>\n",
    "    <th><a href=\"#\" class=\"image\"><img src=\"figures/Stochastic/Duffing_MonostablePDF.png\" padding=\"50px;50px;50px;50px\"/></a></th>\n",
    "    <th><a href=\"#\" class=\"image\"><img src=\"figures/Stochastic/Duffing_BistablePDF.png\" padding=\"50px;50px;50px;50px\"/></a></th>\n",
    "    <th><a href=\"#\" class=\"image\"><img src=\"figures/Stochastic/Vander_LimitCyclePDF.png\" padding=\"50px;50px;50px;50px\"/></a></th>\n",
    "</tr>\n",
    "    <tr>\n",
    "</tr>\n",
    "\n",
    "<tr>\n",
    "    <th><center><h3>Monostable</h3></center></th>\n",
    "    <th><center><h3>Bistable</h3></center></th>\n",
    "    <th><center><h3>Limit Cycle Oscillations (LCO)</h3></center></th>\n",
    "</tr>\n",
    "\n",
    "</table>"
   ]
  },
  {
   "cell_type": "markdown",
   "id": "007f08a6",
   "metadata": {
    "slideshow": {
     "slide_type": "notes"
    }
   },
   "source": [
    "As I mentioned, P-bifurcations in stochastic systems are defined using the topology of the PDF. They may appear under several transformations. E.g. the change of PDF from monostable to bistable or LCO. "
   ]
  },
  {
   "cell_type": "markdown",
   "id": "fb5f36a4",
   "metadata": {
    "slideshow": {
     "slide_type": "subslide"
    }
   },
   "source": [
    "\n",
    "<table>\n",
    "<tr>\n",
    "</tr>\n",
    "\n",
    "<tr>\n",
    "    <th><a href=\"#\" class=\"image\"><img src=\"figures/Stochastic/Quintic_MonoCyclePDF.png\" padding=\"50px;50px;50px;50px\"/></a></th>\n",
    "    <th><a href=\"#\" class=\"image\"><img src=\"figures/Stochastic/Quintic_SymmetricPDF.png\" padding=\"50px;50px;50px;50px\"/></a></th>\n",
    "    <th><a href=\"#\" class=\"image\"><img src=\"figures/Stochastic/Quintic_AsymmetricPDF.png\" padding=\"50px;50px;50px;50px\"/></a></th>\n",
    "</tr>\n",
    "    <tr>\n",
    "</tr>\n",
    "\n",
    "<tr>\n",
    "    <th><center><h3>Monostable with LCO</h3></center></th>\n",
    "    <th><center><h3>Inverted Bistabilities, Symmetric</h3></center></th>\n",
    "    <th><center><h3>Inverted Bistabilities, Asymmetric</h3></center></th>\n",
    "</tr>\n",
    "\n",
    "</table>"
   ]
  },
  {
   "cell_type": "markdown",
   "id": "6b3e49ed",
   "metadata": {
    "slideshow": {
     "slide_type": "notes"
    }
   },
   "source": [
    "Or it may show more complex changes, such as changing to monostablity with LCO or inverted bistabilities in symmetric or asymmetric forms. The symmetry and asymmetry of the inverted bistabliities on the right refer to the difference in depths of both inverted peaks such that in asymmetric cases, the system shows a preference for one stable point over the other. To be able to detect these transformations, we need a tool which can describe these shapes."
   ]
  },
  {
   "cell_type": "markdown",
   "id": "a29b6760",
   "metadata": {
    "slideshow": {
     "slide_type": "slide"
    }
   },
   "source": [
    "# Superlevel Cubical Persistence"
   ]
  },
  {
   "cell_type": "markdown",
   "id": "54ba6894",
   "metadata": {
    "slideshow": {
     "slide_type": "fragment"
    }
   },
   "source": [
    "![](figures/Stochastic/Cubical.gif)"
   ]
  },
  {
   "cell_type": "markdown",
   "id": "a31fafb2",
   "metadata": {
    "slideshow": {
     "slide_type": "notes"
    }
   },
   "source": [
    "We discussed sublevel cubical persistence in Module 1-3. This means that while filtering, you include all data below your threshold and exclude the one above it. However, for this work, we require superlevel cubical persistent homology. The idea is the same, except here, at a particular threshold, we include all data above the threshold and ignore the data below it, and instead of raising our threshold from 0 to height H, we slowly lower it from height H to 0. E.g. for data displayed in the middle, the superlevel cubical persistence can be carried out by \"decreasing\" the level from the top, and binarizing the data into sets above and below level. All data above (which will be displayed in white on the diagram in the left) is included in computing the superlevel persistence while the data below (which will be displayed in black) is ignored.\n",
    "\n",
    "We begin with one connected component and one loop at the top. As we lower the threshold, we notice another connected component taking birth. Once the two connected components merge, we record the death of the younger connected component. Further, as we lower the threshold, we see that the loop fills up which is recorded as the death of the H1 component. Once we've reached the bottom, the remaining connected component also dies."
   ]
  },
  {
   "cell_type": "markdown",
   "id": "ed962b94",
   "metadata": {
    "slideshow": {
     "slide_type": "slide"
    }
   },
   "source": [
    "# Detection with Analytical PDFs\n",
    "\n",
    "![](figures/Stochastic/Analytical_Method.png)\n"
   ]
  },
  {
   "cell_type": "markdown",
   "id": "41d0fa9b",
   "metadata": {
    "slideshow": {
     "slide_type": "notes"
    }
   },
   "source": [
    "So given an analytical probability density funciton for your stochastic system. We compute its superlevel cubical persistence diagram. As you vary your bufurcation parameter, the ranks of different homology classes in the cubical persistence diagram would vary giving you a way to quantify the occurrence of a bifurcation."
   ]
  },
  {
   "cell_type": "markdown",
   "id": "6b3dab03",
   "metadata": {
    "slideshow": {
     "slide_type": "slide"
    }
   },
   "source": [
    "# PDFs and their Persistence Diagrams\n",
    "\n",
    "<table>\n",
    "\n",
    "<tr></tr>\n",
    "<tr>\n",
    "    <th><a href=\"#\" class=\"image\"><img src=\"figures/Stochastic/Duffing_MonostablePDF.png\" width = 60% height = 'auto' padding=\"50px;50px;50px;50px\"/></a></th>\n",
    "    <th><a href=\"#\" class=\"image\"><img src=\"figures/Stochastic/Duffing_BistablePDF.png\" width = 60% height = 'auto' padding=\"50px;50px;50px;50px\"/></a></th>\n",
    "    <th><a href=\"#\" class=\"image\"><img src=\"figures/Stochastic/Vander_LimitCyclePDF.png\" width = 60% height = 'auto' padding=\"50px;50px;50px;50px\"/></a></th>\n",
    "</tr>\n",
    "<tr></tr>\n",
    "<tr>\n",
    "    <th><center><h3>Monostable</h3></center></th>\n",
    "    <th><center><h3>Bistable</h3></center></th>\n",
    "    <th><center><h3>Limit Cycle Oscillations (LCO)</h3></center></th>\n",
    "</tr>\n",
    "<tr></tr>\n",
    "<tr>\n",
    "    <th><a href=\"#\" class=\"image\"><img src=\"figures/Stochastic/Duffing_MonostablePersistence.png\" width = 60% height = 'auto' padding=\"50px;50px;50px;50px\"/></a></th>\n",
    "    <th><a href=\"#\" class=\"image\"><img src=\"figures/Stochastic/Duffing_BistablePersistence.png\" width = 60% height = 'auto' padding=\"50px;50px;50px;50px\"/></a></th>\n",
    "    <th><a href=\"#\" class=\"image\"><img src=\"figures/Stochastic/Vander_LimitCyclePersistence.png\" width = 60% height = 'auto' padding=\"50px;50px;50px;50px\"/></a></th>\n",
    "</tr>\n",
    "\n",
    "</table>"
   ]
  },
  {
   "cell_type": "markdown",
   "id": "b32f22c9",
   "metadata": {
    "slideshow": {
     "slide_type": "notes"
    }
   },
   "source": [
    "This slide works as a non-exhaustive dictionary of possible PDFs and their unique persistence diagrams.\n",
    "\n",
    "E.g. a monostable PDF has a single H0 component in its persistence dgm. A bistable PDF has two H0 components, one H0 component for each peak. A limit cycle has one H0 comp and one H1 component corresponding to the loop."
   ]
  },
  {
   "cell_type": "markdown",
   "id": "5c2faa6c",
   "metadata": {
    "slideshow": {
     "slide_type": "subslide"
    }
   },
   "source": [
    "# PDFs and their Persistence Diagrams\n",
    "\n",
    "<table>\n",
    "\n",
    "<tr>\n",
    "</tr>\n",
    "<tr>\n",
    "    <th><a href=\"#\" class=\"image\"><img src=\"figures/Stochastic/Quintic_MonoCyclePDF.png\" width = 60% height = 'auto' padding=\"50px;50px;50px;50px\"/></a></th>\n",
    "    <th><a href=\"#\" class=\"image\"><img src=\"figures/Stochastic/Quintic_SymmetricPDF.png\" width = 60% height = 'auto' padding=\"50px;50px;50px;50px\"/></a></th>\n",
    "    <th><a href=\"#\" class=\"image\"><img src=\"figures/Stochastic/Quintic_AsymmetricPDF.png\" width = 60% height = 'auto' padding=\"50px;50px;50px;50px\"/></a></th>\n",
    "</tr>\n",
    "<tr></tr>\n",
    "<tr>\n",
    "    <th><center><h3>Monostable with LCO</h3></center></th>\n",
    "    <th><center><h3>Inverted Bistabilities, Symmetric</h3></center></th>\n",
    "    <th><center><h3>Inverted Bistabilities, Asymmetric</h3></center></th>\n",
    "</tr>\n",
    "<tr></tr>\n",
    "<tr>\n",
    "    <th><a href=\"#\" class=\"image\"><img src=\"figures/Stochastic/Quintic_MonoCyclePersistence.png\" width = 60% height = 'auto' padding=\"50px;50px;50px;50px\"/></a></th>\n",
    "    <th><a href=\"#\" class=\"image\"><img src=\"figures/Stochastic/Quintic_SymmetricPersistence.png\" width = 60% height = 'auto' padding=\"50px;50px;50px;50px\"/></a></th>\n",
    "    <th><a href=\"#\" class=\"image\"><img src=\"figures/Stochastic/Quintic_AsymmetricPersistence.png\" width = 60% height = 'auto' padding=\"50px;50px;50px;50px\"/></a></th>\n",
    "\n",
    "</tr>\n",
    "\n",
    "</table>"
   ]
  },
  {
   "cell_type": "markdown",
   "id": "8c6671a6",
   "metadata": {
    "slideshow": {
     "slide_type": "notes"
    }
   },
   "source": [
    "A limit cycle with monostability has two H0 and 1 H1 components, while inverted bistabilities have 1 H0 comp and 2 H1 components in the persistence diagram. Each of these has a unique persistence diagram, which allows us to detect a bifurcation with cubical persistence."
   ]
  },
  {
   "cell_type": "markdown",
   "id": "a0eaabec",
   "metadata": {
    "slideshow": {
     "slide_type": "slide"
    }
   },
   "source": [
    "# Stochastic Duffing Oscillator\n",
    "\n",
    "<br>\n",
    "\n",
    "## Equation\n",
    "\n",
    "$\\ddot x_{1} + \\dot x_{1} + hx_{1} + x_{1}^{3} = dW$   \n",
    "    \n",
    "where $h$ is the bifurcation parameter\n",
    "       "
   ]
  },
  {
   "cell_type": "markdown",
   "id": "e61834c3",
   "metadata": {
    "slideshow": {
     "slide_type": "fragment"
    }
   },
   "source": [
    "<br>\n",
    "\n",
    "## Analytical PDF\n",
    "\n",
    "$p_{x_{1}x_{2}} = Cexp(\\frac{-1}{2}(x^2_{2} + hx^{2}_{1} + 0.5x^{4}_{1}))$\n",
    "    \n",
    "where $x_{2} = \\dot x_{1}$ and $C$ is normalizing constant such that $\\int_{-\\infty}^\\infty pdx_{1}dx_{2} = 1$"
   ]
  },
  {
   "cell_type": "markdown",
   "id": "dc59bd69",
   "metadata": {
    "slideshow": {
     "slide_type": "notes"
    }
   },
   "source": [
    "Let's look at this stochastic Duffing oscillator forced by white noise. Its analytical PDF has the given formula where C is a normalizing constant and h is the bifurcation parameter. "
   ]
  },
  {
   "cell_type": "markdown",
   "id": "13d2a708",
   "metadata": {
    "slideshow": {
     "slide_type": "subslide"
    }
   },
   "source": [
    "<table>\n",
    "\n",
    "<tr></tr>    \n",
    "<tr>\n",
    "    <center><th><a href=\"#\" class=\"image\"><img src=\"figures/Stochastic/Duffing_BistablePDF.png\" width = 50%/></a></th></center>\n",
    "    <center><th><a href=\"#\" class=\"image\"><img src=\"figures/Stochastic/Duffing_MonostablePDF.png\" width = 50%/></a></th></center>\n",
    "</tr>\n",
    "    \n",
    "<tr></tr>    \n",
    "<tr>\n",
    "    <th><center>$h < 0$</center></th>\n",
    "    <th><center>$h \\geq 0$</center></th>\n",
    "</tr>\n",
    "\n",
    "    \n",
    "</table>\n"
   ]
  },
  {
   "cell_type": "markdown",
   "id": "6aabe172",
   "metadata": {
    "slideshow": {
     "slide_type": "notes"
    }
   },
   "source": [
    "This oscillator has two states. For negative h, it is bistable, while for non-negative h, it is monostable."
   ]
  },
  {
   "cell_type": "markdown",
   "id": "01f34e6f",
   "metadata": {
    "slideshow": {
     "slide_type": "slide"
    }
   },
   "source": [
    "### Duffing Oscillator: Detection with Analytical PDF"
   ]
  },
  {
   "cell_type": "markdown",
   "id": "b221cf6b",
   "metadata": {
    "slideshow": {
     "slide_type": "fragment"
    }
   },
   "source": [
    "<center><img src = 'figures/Stochastic/Duffing_Analytical.gif' width = 70% height = 'auto'></center>"
   ]
  },
  {
   "cell_type": "markdown",
   "id": "d6e0ba24",
   "metadata": {
    "slideshow": {
     "slide_type": "notes"
    }
   },
   "source": [
    "The animation shows the evolution of the persistence dgm as the bifurcation parameter is varied. We notice that the life of one H0 component decreases h approaches 0. At 0, the component vanishes. This discrete change is important since just by looking at the PDF, it is very difficult to know exactly at what point has the PDF turned monostable."
   ]
  },
  {
   "cell_type": "markdown",
   "id": "6e85489b",
   "metadata": {
    "slideshow": {
     "slide_type": "slide"
    }
   },
   "source": [
    "## Topologically Inconsistent Density Estimates\n",
    "\n",
    "<table>\n",
    "\n",
    "<tr>\n",
    "</tr>\n",
    "\n",
    "    \n",
    "<tr>\n",
    "    <th><center><a href=\"#\" class=\"image\"><img src=\"figures/Stochastic/KDE_clean.png\" width = 40% height = 'auto' padding=\"50px;50px;50px;50px\"/></a></center></th>\n",
    "    <th><center><a href=\"#\" class=\"image\"><img src=\"figures/Stochastic/KDE_clean_pd.png\" width = 60% height = 'auto' padding=\"50px;50px;50px;50px\"/></a></center></th>\n",
    "\n",
    "</tr>\n",
    "    \n",
    "<tr></tr>\n",
    "\n",
    "<tr>\n",
    "    <th><center><a href=\"#\" class=\"image\"><img src=\"figures/Stochastic/KDE_noisy.png\" width = 40% height = 'auto' padding=\"50px;50px;50px;50px\"/></a></center></th>\n",
    "    <th><center><a href=\"#\" class=\"image\"><img src=\"figures/Stochastic/KDE_noisy_pd.png\" width = 60% height = 'auto' padding=\"50px;50px;50px;50px\"/></a></center></th>\n",
    "\n",
    "</tr>\n",
    "\n",
    "</table>"
   ]
  },
  {
   "cell_type": "markdown",
   "id": "4d666c90",
   "metadata": {},
   "source": [
    "So far, weve only looked at analytical PDFs and their persistence diagrams, such as the two figures at the top. Note that in analytical cases, the persistence diagram is clean and just as we expected it to be. \n",
    "However, the figure on the bottom left is the density estimate for the same system and even though visually we can tell that it has two connected components, the persistence diagram is not consistent with the topology and has a lot of noise. \n",
    "Recall that detection of bifurcations here heavily relies on the finding the rank of the homology groups accurately. Hence, the topological inconsistency in density estimates is a problem."
   ]
  },
  {
   "cell_type": "markdown",
   "id": "a1dfd7bd",
   "metadata": {
    "slideshow": {
     "slide_type": "slide"
    }
   },
   "source": [
    "# Detection given a noisy density estimate?"
   ]
  },
  {
   "cell_type": "markdown",
   "id": "f13d2ebc",
   "metadata": {
    "slideshow": {
     "slide_type": "skip"
    }
   },
   "source": [
    "# Finding Topological Consistency$^{[1]}$\n",
    "\n",
    "<table>\n",
    "\n",
    "<tr></tr>    \n",
    "<tr>\n",
    "    <th><center><a href=\"#\" class=\"image\"><img src=\"figures/Stochastic/Lplus_cycles.jpg\"  width = 75% height = 'auto' padding=\"50px;50px;50px;50px\"/></a></center></th>\n",
    "    <th><center><a href=\"#\" class=\"image\"><img src=\"figures/Stochastic/Lminus_cycles.jpg\"  width = 75% height = 'auto'  padding=\"50px;50px;50px;50px\"/></a></center></th>\n",
    "    <th><center><a href=\"#\" class=\"image\"><img src=\"figures/Stochastic/intersection.png\"  width = 75% height = 'auto'  padding=\"50px;50px;50px;50px\"/></a></center></th>\n",
    "\n",
    "</tr>\n",
    "    \n",
    "<tr></tr>    \n",
    "<tr>\n",
    "    <th><center>$L + \\epsilon, \\quad Cycles = 1$</center></th>\n",
    "    <th><center>$L - \\epsilon, \\quad Cycles = 2$</center></th>\n",
    "    <th><center>$Intersection, \\quad Cycles = 1$</center></th>\n",
    "</tr>\n",
    "\n",
    "</table>\n",
    "\n",
    "$^{[1]}$ Omer Bobrowski, Sayan Mukherjee, and Jonathan E. Taylor. “Topological consistency via kernel estimation”. In: Bernoulli 23.1 (Feb. 2017). doi: 10.3150/15-bej744. url: https://doi.org/10.3150/15-bej744"
   ]
  },
  {
   "cell_type": "markdown",
   "id": "a6ce5f9e",
   "metadata": {
    "slideshow": {
     "slide_type": "skip"
    }
   },
   "source": [
    "# Algorithm\n",
    "\n",
    "![](figures/Stochastic/Kernel_Method.png)"
   ]
  },
  {
   "cell_type": "markdown",
   "id": "ed2a0db0",
   "metadata": {
    "slideshow": {
     "slide_type": "fragment"
    }
   },
   "source": [
    "### Read our paper for more details:\n",
    "    \n",
    "<center><a href=\"https://doi.org/10.48550/ARXIV.2305.03118\" class=\"image\"><img src=\"figures/Stochastic/QR.png\" style=\"width:150px;height:150px;\" padding=\"50px;50px;50px;50px\"/></a></center>\n",
    "\n",
    "Tanweer, S., Khasawneh, F. A., Munch, E., & Tempelman, J. R. (2023). A Topological Framework for Identifying Phenomenological Bifurcations in Stochastic Dynamical Systems (Version 1). arXiv. https://doi.org/10.48550/ARXIV.2305.03118\n",
    "\n",
    "### Module coming to _teaspoon_ soon"
   ]
  },
  {
   "cell_type": "markdown",
   "id": "6732e357",
   "metadata": {
    "slideshow": {
     "slide_type": "notes"
    }
   },
   "source": [
    "Due to time constraints, I will not be discussing the method here. Please refer to our paper for more details on how to detect P-bifurcations given density estimates. The function for doing this will also be included in teaspoon soon."
   ]
  },
  {
   "cell_type": "markdown",
   "id": "34959b28",
   "metadata": {
    "slideshow": {
     "slide_type": "slide"
    }
   },
   "source": [
    "# _You try it_\n",
    "\n",
    "<div class = 'row'>\n",
    "<div class = 'column'>\n",
    "    \n",
    "- Open the [2-4-Wkst-Stochastics](2-4-Wkst-Stochastics.ipynb) notebook and get started! \n",
    "- The notebook has examples and practice problems for **superlevel** cubical persistence.\n",
    "- Answers are included but either hidden or appear on running a cell.\n",
    "- Make sure to download your work as you go!  We won't be able to share any specific files after the conference.\n",
    "    \n",
    "<br>\n",
    "    \n",
    "</div>\n",
    "<div class = 'column'>\n",
    "\n",
    "![](figures/wkst-2-4.jpg)\n",
    "        \n",
    "</div>\n",
    "</div>"
   ]
  },
  {
   "cell_type": "markdown",
   "id": "1554fb51",
   "metadata": {
    "slideshow": {
     "slide_type": "notes"
    }
   },
   "source": [
    "Now it is itme for you to attempt this yourself. Open the worksheet for Stochastic Bifurcations and try. We will come back in about 10 minutes to move on to the next module."
   ]
  }
 ],
 "metadata": {
  "celltoolbar": "Slideshow",
  "kernelspec": {
   "display_name": "Python 3 (ipykernel)",
   "language": "python",
   "name": "python3"
  },
  "language_info": {
   "codemirror_mode": {
    "name": "ipython",
    "version": 3
   },
   "file_extension": ".py",
   "mimetype": "text/x-python",
   "name": "python",
   "nbconvert_exporter": "python",
   "pygments_lexer": "ipython3",
   "version": "3.11.0"
  }
 },
 "nbformat": 4,
 "nbformat_minor": 5
}
