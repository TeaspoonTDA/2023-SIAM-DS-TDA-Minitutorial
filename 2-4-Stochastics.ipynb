{
 "cells": [
  {
   "cell_type": "code",
   "execution_count": 5,
   "id": "9843489e",
   "metadata": {
    "slideshow": {
     "slide_type": "skip"
    }
   },
   "outputs": [
    {
     "data": {
      "text/html": [
       "    \n",
       "<!-- reveal.js CSS theme and local overrides -->\n",
       "<link rel=\"stylesheet\" href=\"https://fonts.googleapis.com/css?family=Open+Sans:300,400,600,700&amp;lang=en\"/>\n",
       "<link rel=\"stylesheet\" href=\"https://fonts.googleapis.com/css?family=Merriweather:italic&amp;lang=en\"/>\n",
       "<link rel=\"stylesheet\" href=\"stylefiles/presentation.css\"/> \n"
      ],
      "text/plain": [
       "<IPython.core.display.HTML object>"
      ]
     },
     "metadata": {},
     "output_type": "display_data"
    }
   ],
   "source": [
    "%%HTML\n",
    "    \n",
    "<!-- reveal.js CSS theme and local overrides -->\n",
    "<link rel=\"stylesheet\" href=\"https://fonts.googleapis.com/css?family=Open+Sans:300,400,600,700&amp;lang=en\"/>\n",
    "<link rel=\"stylesheet\" href=\"https://fonts.googleapis.com/css?family=Merriweather:italic&amp;lang=en\"/>\n",
    "<link rel=\"stylesheet\" href=\"stylefiles/presentation.css\"/> "
   ]
  },
  {
   "cell_type": "code",
   "execution_count": null,
   "id": "29d46aaa",
   "metadata": {
    "slideshow": {
     "slide_type": "skip"
    }
   },
   "outputs": [],
   "source": []
  },
  {
   "cell_type": "markdown",
   "id": "f198536f",
   "metadata": {
    "slideshow": {
     "slide_type": "slide"
    }
   },
   "source": [
    "<section id=\"title-slide\"> \n",
    "    <br><br><br><h1><i>Module 2-4: Stochastic Dynamical Systems</i></h1>\n",
    "    <h3><i>Exploring TDA for Detecting Bifurcations</i></h3>\n",
    "    <br><br>\n",
    "    <h4><i>5/15/2023</i></h4>\n",
    "    <br><br>\n",
    "    <div id='title-slide' class=\"pull-right\"><img id=\"logo\" src=\"figures/msu_seal.png\" width=\"100%\" height=\"100%\"></div>\n",
    "    <div class=\"uu_title_container\">\n",
    "        <smaller>\n",
    "        <div>\n",
    "            <b>Presented by:</b> Sunia Tanweer\n",
    "            <br><br><br><br>\n",
    "            <b>Topological Signal Processing for Dynamical Systems</b><br>\n",
    "            SIAM-DS Minitutorial 2023\n",
    "        </div>  \n",
    "        </smaller>\n",
    "    </div><br>\n",
    "    <div class='footer'>\n",
    "        Michigan State University\n",
    "    </div>\n",
    "</section>"
   ]
  },
  {
   "cell_type": "markdown",
   "id": "eaee8f1d",
   "metadata": {
    "slideshow": {
     "slide_type": "skip"
    }
   },
   "source": [
    "# Big picture intro slide"
   ]
  },
  {
   "cell_type": "markdown",
   "id": "6cbd941c",
   "metadata": {
    "slideshow": {
     "slide_type": "slide"
    }
   },
   "source": [
    "## Goals of this module\n",
    "\n",
    "- Describe what P-bifurcations are and identify the difficulty in detecting them "
   ]
  },
  {
   "cell_type": "markdown",
   "id": "25cd65ca",
   "metadata": {
    "slideshow": {
     "slide_type": "fragment"
    }
   },
   "source": [
    "- Demonstrate the use of persistent homology to detect P-bifurcations"
   ]
  },
  {
   "cell_type": "markdown",
   "id": "fa5ae9fd",
   "metadata": {
    "slideshow": {
     "slide_type": "fragment"
    }
   },
   "source": [
    "- Learn to detect P-bifurcations given analytical or estimated Density Functions"
   ]
  },
  {
   "cell_type": "markdown",
   "id": "5526e366",
   "metadata": {
    "slideshow": {
     "slide_type": "slide"
    }
   },
   "source": [
    "# Motivation\n",
    "\n",
    "![](figures/Stochastic/Motivation.png)"
   ]
  },
  {
   "cell_type": "markdown",
   "id": "bbb5ff33",
   "metadata": {
    "slideshow": {
     "slide_type": "slide"
    }
   },
   "source": [
    "# Objective \n",
    "\n",
    "<img src = 'figures/Stochastic/Objective.png' width = 70% height = 'auto'>"
   ]
  },
  {
   "cell_type": "markdown",
   "id": "45e7bcb4",
   "metadata": {
    "slideshow": {
     "slide_type": "fragment"
    }
   },
   "source": [
    "### _Objective: Quantify Bifurcations in Stochastic Systems_"
   ]
  },
  {
   "cell_type": "markdown",
   "id": "9715804d",
   "metadata": {
    "slideshow": {
     "slide_type": "slide"
    }
   },
   "source": [
    "# Current Techniques\n",
    "<img src = 'figures/Stochastic/methods-8.png' width = 70% height = 'auto'>"
   ]
  },
  {
   "cell_type": "markdown",
   "id": "f4f35c09",
   "metadata": {
    "slideshow": {
     "slide_type": "slide"
    }
   },
   "source": [
    "# P-Bifurcations\n",
    "\n",
    "<table>\n",
    "<tr>\n",
    "</tr>\n",
    "\n",
    "<tr>\n",
    "    <th><a href=\"#\" class=\"image\"><img src=\"figures/Stochastic/Duffing_MonostablePDF.png\" padding=\"50px;50px;50px;50px\"/></a></th>\n",
    "    <th><a href=\"#\" class=\"image\"><img src=\"figures/Stochastic/Duffing_BistablePDF.png\" padding=\"50px;50px;50px;50px\"/></a></th>\n",
    "    <th><a href=\"#\" class=\"image\"><img src=\"figures/Stochastic/Vander_LimitCyclePDF.png\" padding=\"50px;50px;50px;50px\"/></a></th>\n",
    "</tr>\n",
    "    <tr>\n",
    "</tr>\n",
    "\n",
    "<tr>\n",
    "    <th><center><h3>Monostable</h3></center></th>\n",
    "    <th><center><h3>Bistable</h3></center></th>\n",
    "    <th><center><h3>Limit Cycle Oscillations (LCO)</h3></center></th>\n",
    "</tr>\n",
    "\n",
    "</table>"
   ]
  },
  {
   "cell_type": "markdown",
   "id": "fb5f36a4",
   "metadata": {
    "slideshow": {
     "slide_type": "subslide"
    }
   },
   "source": [
    "\n",
    "<table>\n",
    "<tr>\n",
    "</tr>\n",
    "\n",
    "<tr>\n",
    "    <th><a href=\"#\" class=\"image\"><img src=\"figures/Stochastic/Quintic_MonoCyclePDF.png\" padding=\"50px;50px;50px;50px\"/></a></th>\n",
    "    <th><a href=\"#\" class=\"image\"><img src=\"figures/Stochastic/Quintic_SymmetricPDF.png\" padding=\"50px;50px;50px;50px\"/></a></th>\n",
    "    <th><a href=\"#\" class=\"image\"><img src=\"figures/Stochastic/Quintic_AsymmetricPDF.png\" padding=\"50px;50px;50px;50px\"/></a></th>\n",
    "</tr>\n",
    "    <tr>\n",
    "</tr>\n",
    "\n",
    "<tr>\n",
    "    <th><center><h3>Monostable with LCO</h3></center></th>\n",
    "    <th><center><h3>Inverted Bistabilities, Symmetric</h3></center></th>\n",
    "    <th><center><h3>Inverted Bistabilities, Asymmetric</h3></center></th>\n",
    "</tr>\n",
    "\n",
    "</table>"
   ]
  },
  {
   "cell_type": "markdown",
   "id": "a29b6760",
   "metadata": {
    "slideshow": {
     "slide_type": "slide"
    }
   },
   "source": [
    "# Superlevel Cubical Persistence\n",
    "\n",
    "![](figures/Stochastic/Cubical.gif)"
   ]
  },
  {
   "cell_type": "markdown",
   "id": "ed962b94",
   "metadata": {
    "slideshow": {
     "slide_type": "slide"
    }
   },
   "source": [
    "# Detection with Analytical PDFs\n",
    "\n",
    "![](figures/Stochastic/Analytical_Method.png)\n"
   ]
  },
  {
   "cell_type": "markdown",
   "id": "6b3dab03",
   "metadata": {
    "slideshow": {
     "slide_type": "slide"
    }
   },
   "source": [
    "# Proof of Concept\n",
    "\n",
    "<table>\n",
    "\n",
    "<tr>\n",
    "</tr>\n",
    "\n",
    "<tr>\n",
    "    <th><a href=\"#\" class=\"image\"><img src=\"figures/Stochastic/Duffing_MonostablePDF.png\" width = 60% height = 'auto' padding=\"50px;50px;50px;50px\"/></a></th>\n",
    "    <th><a href=\"#\" class=\"image\"><img src=\"figures/Stochastic/Duffing_BistablePDF.png\" width = 60% height = 'auto' padding=\"50px;50px;50px;50px\"/></a></th>\n",
    "    <th><a href=\"#\" class=\"image\"><img src=\"figures/Stochastic/Vander_LimitCyclePDF.png\" width = 60% height = 'auto' padding=\"50px;50px;50px;50px\"/></a></th>\n",
    "</tr>\n",
    "    \n",
    "<tr>\n",
    "</tr>\n",
    "\n",
    "<tr>\n",
    "    <th><a href=\"#\" class=\"image\"><img src=\"figures/Stochastic/Duffing_MonostablePersistence.png\" width = 60% height = 'auto' padding=\"50px;50px;50px;50px\"/></a></th>\n",
    "    <th><a href=\"#\" class=\"image\"><img src=\"figures/Stochastic/Duffing_BistablePersistence.png\" width = 60% height = 'auto' padding=\"50px;50px;50px;50px\"/></a></th>\n",
    "    <th><a href=\"#\" class=\"image\"><img src=\"figures/Stochastic/Vander_LimitCyclePersistence.png\" width = 60% height = 'auto' padding=\"50px;50px;50px;50px\"/></a></th>\n",
    "</tr>\n",
    "\n",
    "</table>"
   ]
  },
  {
   "cell_type": "markdown",
   "id": "5c2faa6c",
   "metadata": {
    "slideshow": {
     "slide_type": "subslide"
    }
   },
   "source": [
    "<table>\n",
    "\n",
    "<tr>\n",
    "</tr>\n",
    "\n",
    "<tr>\n",
    "    <th><a href=\"#\" class=\"image\"><img src=\"figures/Stochastic/Quintic_MonoCyclePDF.png\" width = 60% height = 'auto' padding=\"50px;50px;50px;50px\"/></a></th>\n",
    "    <th><a href=\"#\" class=\"image\"><img src=\"figures/Stochastic/Quintic_SymmetricPDF.png\" width = 60% height = 'auto' padding=\"50px;50px;50px;50px\"/></a></th>\n",
    "    <th><a href=\"#\" class=\"image\"><img src=\"figures/Stochastic/Quintic_AsymmetricPDF.png\" width = 60% height = 'auto' padding=\"50px;50px;50px;50px\"/></a></th>\n",
    "\n",
    "</tr>\n",
    "    \n",
    "<tr>\n",
    "</tr>\n",
    "\n",
    "<tr>\n",
    "    <th><a href=\"#\" class=\"image\"><img src=\"figures/Stochastic/Quintic_MonoCyclePersistence.png\" width = 60% height = 'auto' padding=\"50px;50px;50px;50px\"/></a></th>\n",
    "    <th><a href=\"#\" class=\"image\"><img src=\"figures/Stochastic/Quintic_SymmetricPersistence.png\" width = 60% height = 'auto' padding=\"50px;50px;50px;50px\"/></a></th>\n",
    "    <th><a href=\"#\" class=\"image\"><img src=\"figures/Stochastic/Quintic_AsymmetricPersistence.png\" width = 60% height = 'auto' padding=\"50px;50px;50px;50px\"/></a></th>\n",
    "\n",
    "</tr>\n",
    "\n",
    "</table>"
   ]
  },
  {
   "cell_type": "markdown",
   "id": "e2d55f72",
   "metadata": {
    "slideshow": {
     "slide_type": "slide"
    }
   },
   "source": [
    "# Topological Inconsistency with Kernel Density Estimates\n",
    "\n",
    "<table>\n",
    "\n",
    "<tr>\n",
    "</tr>\n",
    "\n",
    "    \n",
    "<tr>\n",
    "    <th><center><a href=\"#\" class=\"image\"><img src=\"figures/Stochastic/KDE_clean.png\" width = 40% height = 'auto' padding=\"50px;50px;50px;50px\"/></a></center></th>\n",
    "    <th><center><a href=\"#\" class=\"image\"><img src=\"figures/Stochastic/KDE_clean_pd.png\" width = 60% height = 'auto' padding=\"50px;50px;50px;50px\"/></a></center></th>\n",
    "\n",
    "</tr>\n",
    "    \n",
    "<tr></tr>\n",
    "\n",
    "<tr>\n",
    "    <th><center><a href=\"#\" class=\"image\"><img src=\"figures/Stochastic/KDE_noisy.png\" width = 40% height = 'auto' padding=\"50px;50px;50px;50px\"/></a></center></th>\n",
    "    <th><center><a href=\"#\" class=\"image\"><img src=\"figures/Stochastic/KDE_noisy_pd.png\" width = 60% height = 'auto' padding=\"50px;50px;50px;50px\"/></a></center></th>\n",
    "\n",
    "</tr>\n",
    "\n",
    "</table>"
   ]
  },
  {
   "cell_type": "markdown",
   "id": "7a85e403",
   "metadata": {
    "slideshow": {
     "slide_type": "subslide"
    }
   },
   "source": [
    "# Topological Inconsistency with Kernel Density Estimates\n",
    "\n",
    "<table>\n",
    "\n",
    "<tr></tr>    \n",
    "<tr>\n",
    "    <th><center><a href=\"#\" class=\"image\"><img src=\"figures/Stochastic/Lplus.jpg\" width = 45% height = 'auto' padding=\"50px;50px;50px;50px\"/></a></center></th>\n",
    "    <th><center><a href=\"#\" class=\"image\"><img src=\"figures/Stochastic/Lplus_persistence.jpg\" width = 45% height = 'auto' padding=\"50px;50px;50px;50px\"/></a></center></th>\n",
    "\n",
    "</tr>\n",
    "    \n",
    "</table>\n",
    "\n",
    "<table>\n",
    "\n",
    "<tr></tr>    \n",
    "<tr>\n",
    "    <th><center><a href=\"#\" class=\"image\"><img src=\"figures/Stochastic/Lminus.jpg\" width = 45% height = 'auto' padding=\"50px;50px;50px;50px\"/></a></center></th>\n",
    "    <th><center><a href=\"#\" class=\"image\"><img src=\"figures/Stochastic/Lminus_persistence.jpg\" width = 45% height = 'auto' padding=\"50px;50px;50px;50px\"/></a></center></th>\n",
    "\n",
    "</tr>\n",
    "    \n",
    "</table>"
   ]
  },
  {
   "cell_type": "markdown",
   "id": "32897916",
   "metadata": {
    "slideshow": {
     "slide_type": "subslide"
    }
   },
   "source": [
    "# Topological Consistency with Kernel Density Estimates $^{[1]}$\n",
    "\n",
    "<table>\n",
    "\n",
    "<tr></tr>    \n",
    "<tr>\n",
    "    <th><center><a href=\"#\" class=\"image\"><img src=\"figures/Stochastic/Lplus_cycles.jpg\"  width = 75% height = 'auto' padding=\"50px;50px;50px;50px\"/></a></center></th>\n",
    "    <th><center><a href=\"#\" class=\"image\"><img src=\"figures/Stochastic/Lminus_cycles.jpg\"  width = 75% height = 'auto'  padding=\"50px;50px;50px;50px\"/></a></center></th>\n",
    "    <th><center><a href=\"#\" class=\"image\"><img src=\"figures/Stochastic/Intersection.png\"  width = 75% height = 'auto'  padding=\"50px;50px;50px;50px\"/></a></center></th>\n",
    "\n",
    "</tr>\n",
    "    \n",
    "<tr></tr>    \n",
    "<tr>\n",
    "    <th><center>$L + \\epsilon, \\quad Cycles = 1$</center></th>\n",
    "    <th><center>$L - \\epsilon, \\quad Cycles = 2$</center></th>\n",
    "    <th><center>$Intersection, \\quad Cycles = 1$</center></th>\n",
    "</tr>\n",
    "\n",
    "</table>\n",
    "\n",
    "$^{[1]}$ Omer Bobrowski, Sayan Mukherjee, and Jonathan E. Taylor. “Topological consistency via kernel estimation”. In: Bernoulli 23.1 (Feb. 2017). doi: 10.3150/15-bej744. url: https://doi.org/10.3150/15-bej744"
   ]
  },
  {
   "cell_type": "markdown",
   "id": "1b84f15d",
   "metadata": {
    "slideshow": {
     "slide_type": "slide"
    }
   },
   "source": [
    "# Detection with Density Estimates\n",
    "\n",
    "<center><a href=\"#\" class=\"image\"><img src=\"figures/Stochastic/Kernel_Method.png\"  width = 75% height = 'auto' padding=\"50px;50px;50px;50px\"/></a></center>"
   ]
  },
  {
   "cell_type": "markdown",
   "id": "a0eaabec",
   "metadata": {
    "slideshow": {
     "slide_type": "slide"
    }
   },
   "source": [
    "# Stochastic Duffing Oscillator\n",
    "\n",
    "<br>\n",
    "\n",
    "## Equation\n",
    "\n",
    "$\\ddot x_{1} + \\dot x_{1} + hx_{1} + x_{1}^{3} = dW$   \n",
    "    \n",
    "where $h$ is the bifurcation parameter\n",
    "       "
   ]
  },
  {
   "cell_type": "markdown",
   "id": "e61834c3",
   "metadata": {
    "slideshow": {
     "slide_type": "fragment"
    }
   },
   "source": [
    "<br>\n",
    "\n",
    "## Analytical PDF\n",
    "\n",
    "$p_{x_{1}x_{2}} = Cexp(\\frac{-1}{2}(x^2_{2} + hx^{2}_{1} + 0.5x^{4}_{1}))$\n",
    "    \n",
    "where $x_{2} = \\dot x_{1}$ and $C$ is normalizing constant such that $\\int_{-\\infty}^\\infty pdx_{1}dx_{2} = 1$"
   ]
  },
  {
   "cell_type": "markdown",
   "id": "13d2a708",
   "metadata": {
    "slideshow": {
     "slide_type": "fragment"
    }
   },
   "source": [
    "<table>\n",
    "\n",
    "<tr></tr>    \n",
    "<tr>\n",
    "    <th><a href=\"#\" class=\"image\"><img src=\"figures/Stochastic/Duffing_BistablePDF.png\" style=\"width:200px;height:200px;\" padding=\"50px;50px;50px;50px\"/></a></th>\n",
    "    <th><a href=\"#\" class=\"image\"><img src=\"figures/Stochastic/Duffing_MonostablePDF.png\" style=\"width:200px;height:200px;\" padding=\"50px;50px;50px;50px\"/></a></th>\n",
    "</tr>\n",
    "    \n",
    "<tr></tr>    \n",
    "<tr>\n",
    "    <th><center>$h < 0$</center></th>\n",
    "    <th><center>$h \\geq 0$</center></th>\n",
    "</tr>\n",
    "\n",
    "    \n",
    "</table>\n"
   ]
  },
  {
   "cell_type": "markdown",
   "id": "01f34e6f",
   "metadata": {
    "slideshow": {
     "slide_type": "slide"
    }
   },
   "source": [
    "# Duffing Oscillator: Detection with Analytical PDF\n",
    "\n",
    "![](figures/Stochastic/Duffing_Analytical.gif)"
   ]
  },
  {
   "cell_type": "markdown",
   "id": "af4177dc",
   "metadata": {
    "slideshow": {
     "slide_type": "slide"
    }
   },
   "source": [
    "# Duffing Oscillator: Detection with Kernel Density\n",
    "\n",
    "<table>\n",
    "\n",
    "<tr></tr>    \n",
    "<tr>\n",
    "    <th><a href=\"#\" class=\"image\"><img src=\"figures/Stochastic/Duffing_PDF.png\" style=\"width:200px;height:350px;\" padding=\"50px;50px;50px;50px\"/></a></th>\n",
    "    <th><a href=\"#\" class=\"image\"><img src=\"figures/Stochastic/Crocker3D_Duffing_H0.png\" style=\"width:400px;height:350px;\" padding=\"50px;50px;50px;50px\"/></a></th>\n",
    "    <th><a href=\"#\" class=\"image\"><img src=\"figures/Stochastic/Crocker3D_Duffing_H1.png\" style=\"width:400px;height:350px;\" padding=\"50px;50px;50px;50px\"/></a></th>\n",
    "\n",
    "</tr>\n",
    "    \n",
    "</table>"
   ]
  },
  {
   "cell_type": "markdown",
   "id": "ae279cfc",
   "metadata": {
    "slideshow": {
     "slide_type": "slide"
    }
   },
   "source": [
    "# Thank You!\n",
    "\n",
    "#### Please refer to our paper for more details:\n",
    "\n",
    "\n",
    "<a href=\"#\" class=\"image\"><img src=\"figures/Stochastic/QR.png\" style=\"width:200px;height:200px;\" padding=\"50px;50px;50px;50px\"/></a>\n",
    "\n",
    "<br>\n",
    "Tanweer, S., Khasawneh, F. A., Munch, E., & Tempelman, J. R. (2023). A Topological Framework for Identifying Phenomenological Bifurcations in Stochastic Dynamical Systems (Version 1). arXiv. https://doi.org/10.48550/ARXIV.2305.03118"
   ]
  },
  {
   "cell_type": "code",
   "execution_count": null,
   "id": "dc469d6c",
   "metadata": {},
   "outputs": [],
   "source": []
  }
 ],
 "metadata": {
  "celltoolbar": "Slideshow",
  "kernelspec": {
   "display_name": "base_clone",
   "language": "python",
   "name": "base_clone"
  },
  "language_info": {
   "codemirror_mode": {
    "name": "ipython",
    "version": 3
   },
   "file_extension": ".py",
   "mimetype": "text/x-python",
   "name": "python",
   "nbconvert_exporter": "python",
   "pygments_lexer": "ipython3",
   "version": "3.9.15"
  }
 },
 "nbformat": 4,
 "nbformat_minor": 5
}
