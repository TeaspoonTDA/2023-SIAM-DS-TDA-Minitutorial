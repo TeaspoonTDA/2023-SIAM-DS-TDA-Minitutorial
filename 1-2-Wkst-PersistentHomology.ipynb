{
 "cells": [
  {
   "cell_type": "markdown",
   "id": "e28d8f87",
   "metadata": {},
   "source": [
    "# Module 1-2 Worksheet: Persistent Homology \n",
    "\n",
    "<font color = 'purple'>\n",
    "    \n",
    "*Once we are done talking through the slides from [the main module 1-2 notebook](1-2-PersistentHomology.ipynb), we will take some time to test out your understanding of the definitions by working through the following questions. We encourage talking to your neighbor, and drawing pictures for understanding! Please ask if you need help!*\n",
    "    \n",
    "</font>\n"
   ]
  },
  {
   "cell_type": "markdown",
   "id": "5cab85eb",
   "metadata": {},
   "source": [
    "Consider the following filtration. \n",
    "\n",
    "![](figures/1-1_ExFiltration2.png)\n",
    "\n",
    "First note that although our previous slide example had filtrations changing at each integer, this is by no means necessary. In this example we happen to have chosen $a_1 = 1$, $a_2 = 2$, $a_3 = 4$, $a_4 = 8$, and $a_5 = 9$, but there is no reason even for the entries to be integers beyond trying to create simple examples. \n",
    "\n",
    "We are going to be thinking about 1-dimensional homology. "
   ]
  },
  {
   "cell_type": "markdown",
   "id": "5395a344",
   "metadata": {},
   "source": [
    "<font color = 'purple'><b>Question:</b></font>\n",
    "What are the 1-dimensional Betti numbers at each step? That is, what is the dimension of $H_1(K_i)$ for each $i$? "
   ]
  },
  {
   "cell_type": "markdown",
   "id": "f44aea4c",
   "metadata": {},
   "source": [
    "*Space for your notes/answer*"
   ]
  },
  {
   "cell_type": "markdown",
   "id": "15d03b32",
   "metadata": {},
   "source": [
    "*The correct answer is hidden here. Highlight or double-click to open the cell to see it when you're ready. No peeking!*\n",
    "\n",
    "<font color='white'>\n",
    "    \n",
    "$\\beta_i(K_i)$ is $(0,1,2,2,1)$ for each of the $i=1,2,4,8,9$ in order.\n",
    "    \n",
    "</font>"
   ]
  },
  {
   "cell_type": "markdown",
   "id": "8254c611",
   "metadata": {},
   "source": [
    "<font color = 'purple'><b>Question:</b></font>\n",
    "Don't try to actually compute anything yet, where does your intuition say that a 1-dimensional cycle is born, as in, it wasn't there at the previous step. Where does your intuition say that it should die, AKA fill in or merge with another class?? "
   ]
  },
  {
   "cell_type": "markdown",
   "id": "b5eed3a8",
   "metadata": {},
   "source": [
    "*Space for your notes/answer*"
   ]
  },
  {
   "cell_type": "markdown",
   "id": "6cd90c6c",
   "metadata": {},
   "source": [
    "*The correct answer is hidden here. Highlight or double-click to open the cell to see it when you're ready. No peeking!*\n",
    "\n",
    "<font color='white'>\n",
    "    \n",
    "No right answers, just trying to get you out of the algebra weeds for a moment. On to the next step!\n",
    "    \n",
    "</font>"
   ]
  },
  {
   "cell_type": "markdown",
   "id": "cdeea83a",
   "metadata": {},
   "source": [
    "<font color = 'purple'><b>Question (Challenge):</b></font>\n",
    "\n",
    "For those of you who would like a bit of a challenge, try to see if you can determine $H_1(K_i)$ at each step. \n",
    "\n",
    "In case you want a further challenege try to figure out generators yourself.\n",
    "\n",
    "*N.B.: This question is very hard, particularly if this is the first time you're seeing this content. If we're going to be completely honest, most practictioners won't actaully do this by hand anyway since we have code that can determine the persistence diagram for us (even if it doesn't always give us generators). I have commented out the solution with the generators below. Double click to open the cell and uncomment to be able to skip the algebra computations.*"
   ]
  },
  {
   "cell_type": "markdown",
   "id": "8086cd0f",
   "metadata": {},
   "source": [
    "*Double click and uncomment here to see the algebra solution*\n",
    "\n",
    "<!-- \n",
    "![](figures/1-1_ExFiltration2-WithComputation.png)\n",
    " -->"
   ]
  },
  {
   "cell_type": "markdown",
   "id": "65da958b",
   "metadata": {},
   "source": [
    "<font color = 'purple'><b>Question:</b></font>\n",
    "Whether you figured out the generators yourself or used the posted solution, determine the list of persistence pairs, AKA points in the persistence diagram for this particular filtration. What is the persistence of each point? Do these persistence points match with your intuition from earlier? "
   ]
  },
  {
   "cell_type": "markdown",
   "id": "22117e70",
   "metadata": {},
   "source": [
    "*Space for your notes/answer*"
   ]
  },
  {
   "cell_type": "markdown",
   "id": "f39bc847",
   "metadata": {},
   "source": [
    "*The correct answer is hidden here. Highlight or double-click to open the cell to see it when you're ready. No peeking!*\n",
    "\n",
    "<font color='white'>\n",
    "    \n",
    "The points are $(2,\\infty)$, $(4,8)$, and $(8,9)$. I also have a drawing of the diagram itself which you can uncomment from the cell below. \n",
    "    \n",
    "<!-- \n",
    "![](figures/1-1_ExFiltration2-Dgm.png) \n",
    "-->\n",
    " \n",
    "    \n",
    "The persistence of each point is death time minus birth time, so the three points have persistence $\\infty$, $4$, and $1$ in order listed above. \n",
    "    \n",
    "</font>"
   ]
  },
  {
   "cell_type": "markdown",
   "id": "cd16d86c",
   "metadata": {},
   "source": [
    "If you drew the persistence diagram, note that higher persistence means a point is farther from the diagonal. The idea is that small persistence points represent fleeting structures in the filtration, so being near the diagonal is nearly the same as not being in the filtration at all. We will exploit this structure in the next module."
   ]
  },
  {
   "cell_type": "markdown",
   "id": "dad0af22",
   "metadata": {},
   "source": [
    "## <font color = 'purple'>Take home message:</font>\n",
    "- 1-dimensional classes are born in the persistent homology when you first see a new loop.\n",
    "- This class dies either when it fills in (like what happened with the $\\beta$ loop), or merges with another class (not as obvious in this particular example). \n",
    "- While this algebra is certainly difficult without quite a bit more background, the reality is we have computer programs to do this for us. It's really a giant Gaussian elimination problem, but that's outside the scope of this tutorial. More info can be found in fabulous textbooks such as the freely available [Computational Topology for Data Analysis by Dey and Wang](https://www.cs.purdue.edu/homes/tamaldey/book/CTDAbook/CTDAbook.html). "
   ]
  },
  {
   "cell_type": "markdown",
   "id": "a879266e",
   "metadata": {},
   "source": [
    "## Challenge problem\n",
    "\n",
    "If you have a ton of time left or just want something harder, here's a challenge problem to think about. If you did the challenge problem on the last worksheet, you already figured out what the 0-dimensional homology is at each step for the following filtration. \n",
    "\n",
    "<img src = 'figures/1-1-Filtration-0dim.png' > \n",
    "\n",
    "\n",
    "\n",
    "1. Find generators so that at each step, they either map to 0, or uniquely to another generator. *Hint: the obvious generators usually don't work, but you can often get a basis working with a sum of two generators.*\n",
    "2. Write down the persistence pairs and draw the persistence diagram. "
   ]
  },
  {
   "cell_type": "markdown",
   "id": "4698b786",
   "metadata": {},
   "source": [
    "*The correct answer is hidden here. Uncomment the figure to see the solution*\n",
    "\n",
    "<!-- ![](figures/1-1-Filtration-0dim-Soln.png) -->"
   ]
  }
 ],
 "metadata": {
  "kernelspec": {
   "display_name": "Python 3 (ipykernel)",
   "language": "python",
   "name": "python3"
  },
  "language_info": {
   "codemirror_mode": {
    "name": "ipython",
    "version": 3
   },
   "file_extension": ".py",
   "mimetype": "text/x-python",
   "name": "python",
   "nbconvert_exporter": "python",
   "pygments_lexer": "ipython3",
   "version": "3.9.7"
  }
 },
 "nbformat": 4,
 "nbformat_minor": 5
}
