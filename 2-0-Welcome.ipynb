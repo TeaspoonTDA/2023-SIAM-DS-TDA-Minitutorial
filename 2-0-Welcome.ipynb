{
 "cells": [
  {
   "cell_type": "code",
   "execution_count": 1,
   "id": "9843489e",
   "metadata": {
    "slideshow": {
     "slide_type": "skip"
    }
   },
   "outputs": [
    {
     "data": {
      "text/html": [
       "    \n",
       "<!-- reveal.js CSS theme and local overrides -->\n",
       "<link rel=\"stylesheet\" href=\"https://fonts.googleapis.com/css?family=Open+Sans:300,400,600,700&amp;lang=en\"/>\n",
       "<link rel=\"stylesheet\" href=\"https://fonts.googleapis.com/css?family=Merriweather:italic&amp;lang=en\"/>\n",
       "<link rel=\"stylesheet\" href=\"stylefiles/presentation.css\"/> \n"
      ],
      "text/plain": [
       "<IPython.core.display.HTML object>"
      ]
     },
     "metadata": {},
     "output_type": "display_data"
    }
   ],
   "source": [
    "%%HTML\n",
    "    \n",
    "<!-- reveal.js CSS theme and local overrides -->\n",
    "<link rel=\"stylesheet\" href=\"https://fonts.googleapis.com/css?family=Open+Sans:300,400,600,700&amp;lang=en\"/>\n",
    "<link rel=\"stylesheet\" href=\"https://fonts.googleapis.com/css?family=Merriweather:italic&amp;lang=en\"/>\n",
    "<link rel=\"stylesheet\" href=\"stylefiles/presentation.css\"/> "
   ]
  },
  {
   "cell_type": "markdown",
   "id": "f198536f",
   "metadata": {
    "slideshow": {
     "slide_type": "slide"
    }
   },
   "source": [
    "<section id=\"title-slide\"> \n",
    "    <br><br><br><h1><i>Part 2: Welcome and Introduction</i></h1>\n",
    "    <h3><i>Module 2-0</i></h3>\n",
    "    <br><br>\n",
    "    <h4><i>5/15/2023</i></h4>\n",
    "    <br><br>\n",
    "<!--     <div id='title-slide' class=\"pull-right\"><img id=\"logo\" src=\"figures/msu_seal.png\" width=\"100%\" height=\"100%\"></div> -->\n",
    "    <div class=\"uu_title_container\">\n",
    "        <smaller>\n",
    "        <div>\n",
    "            <b>Presented by:</b> Firas Khasawneh and Liz Munch\n",
    "            <br><br><br><br>\n",
    "            <b>Topological Signal Processing for Dynamical Systems</b><br>\n",
    "            SIAM-DS Minitutorial 2023\n",
    "        </div>  \n",
    "        </smaller>\n",
    "    </div><br>\n",
    "    <div class='footer'>\n",
    "        Michigan State University\n",
    "    </div>\n",
    "</section>"
   ]
  },
  {
   "cell_type": "markdown",
   "id": "37fd15d7",
   "metadata": {
    "slideshow": {
     "slide_type": "skip"
    }
   },
   "source": [
    "### A note\n",
    "\n",
    "This jupyter notebook creates the slides for the module. \n",
    "\n",
    "For the curious, these slide decks are created using [RISE](https://rise.readthedocs.io/). "
   ]
  },
  {
   "cell_type": "markdown",
   "id": "eaee8f1d",
   "metadata": {
    "slideshow": {
     "slide_type": "slide"
    }
   },
   "source": [
    "# Visual Abstract \n",
    "\n",
    "![](figures/big_picture.png)"
   ]
  },
  {
   "cell_type": "markdown",
   "id": "b9db899b",
   "metadata": {
    "slideshow": {
     "slide_type": "subslide"
    }
   },
   "source": [
    "# Organization of this minitutorial "
   ]
  },
  {
   "cell_type": "markdown",
   "id": "f83fd9c7",
   "metadata": {
    "slideshow": {
     "slide_type": "subslide"
    }
   },
   "source": [
    "# Schedule \n",
    "<div class = 'row'>\n",
    "<div class = 'column'>\n",
    "\n",
    "## Session 1\n",
    "1. Introduction, Simplicial complexes & Homology (Liz starts slides, 20 minutes)\n",
    "   - [Slides](1-1-Intro_SimplicialCpx_Homology.ipynb)\n",
    "   - Jupyter notebook (20 min)\n",
    "2. Persistent homology (10 min)\n",
    "   - [Slides](1-2-PersistentHomology.ipynb) \n",
    "   - Jupyter notebook (20 min)\n",
    "3. Flavors of persistence: Rips & Images (20 min)\n",
    "   - [Slides](1-3-PersistencePipelines.ipynb)\n",
    "   - Jupyter notebook (2o min, Sunia creating)\n",
    "4. Distances on persistence diagrams & Vectorization (10 min)\n",
    "   - [Slides](1-4-DistancesAndVectorization.ipynb) \n",
    "   \n",
    "</div>\n",
    "<div class = 'column'>\n",
    "    \n",
    "## Session 2\n",
    "1. Embedding of Time series (20 min)\n",
    "   - [Slides](2-1-Embedding.ipynb)\n",
    "   - Jupyter notebook, focus on persistence examples (20 min)\n",
    "   - Shows different behaviors like chaotic/periodic with persistence outputs\n",
    "2. Graph representations of time series (20 min)\n",
    "   - [Slides](2-2-GraphTimeSeries.ipynb)\n",
    "   - Jupyter notebook (20 min, Max has started)\n",
    "3. Crocker plots (10 min)\n",
    "   - [Slides](2-3-CrockerPlots.ipynb) \n",
    "   - Jupyter notebook (10 min)\n",
    "4. Stochastics (10 min, Sunia)\n",
    "   - [Slides](2-4-Stochastics.ipynb) \n",
    "5. Teaspoon contribution (10 min; Danielle)\n",
    "   - [Slides](2-5-ContributionAndConclusion.ipynb) \n",
    "</div>\n",
    "</div>"
   ]
  },
  {
   "cell_type": "markdown",
   "id": "259e0173",
   "metadata": {
    "slideshow": {
     "slide_type": "subslide"
    }
   },
   "source": [
    "# Teaspoon \n",
    "\n",
    "Some pointers to our code, github page, documentation, etc"
   ]
  },
  {
   "cell_type": "markdown",
   "id": "df4d9995",
   "metadata": {
    "slideshow": {
     "slide_type": "subslide"
    }
   },
   "source": [
    "# Accessing the content \n",
    "\n",
    "- Instructions to get into the cloud server will go here"
   ]
  },
  {
   "cell_type": "markdown",
   "id": "2404153e",
   "metadata": {
    "slideshow": {
     "slide_type": "subslide"
    }
   },
   "source": [
    "<!-- # People  -->\n",
    "\n",
    "<div class = 'row'>\n",
    "<div class = 'column'>\n",
    "\n",
    "<!-- Begin People bit  -->\n",
    "    \n",
    "## People\n",
    "    \n",
    "<div class = 'row'>\n",
    "<div class = 'column'>\n",
    "    \n",
    "**MechE, MSU**\n",
    "   \n",
    "<img src = 'figures/People/FirasKhasawneh.jpeg' width = 100px height = 'auto'>\n",
    "Firas Khasawneh\n",
    "    \n",
    "<img src = 'figures/People/MaxChumley.png' width = 100px height = 'auto'>\n",
    "\n",
    "Max Chumley\n",
    "    \n",
    "<img src = 'figures/People/SuniaTanweer.jpg' width = 100px height = 'auto'>\n",
    "Sunia Tanweer\n",
    "     \n",
    "</div>\n",
    "<div class = 'column'>\n",
    "    \n",
    "**CMSE/Math MSU**\n",
    " \n",
    "<img src = 'figures/People/LizMunch.jpg' width = 100px height = 'auto'>    \n",
    "Liz Munch, CMSE/Math, MSU\n",
    "    \n",
    "<img src = 'figures/People/DanielleBarnes.jpg' width = 100px height = 'auto'>    \n",
    "Danielle Barnes, CMSE, MSU\n",
    "    \n",
    "</div>\n",
    "</div>\n",
    "<!-- End people bit  -->\n",
    "\n",
    "    \n",
    "    \n",
    "</div>\n",
    "<div class = 'column'>\n",
    "    \n",
    "<!--   Start funding bit   -->\n",
    "    \n",
    "## Funding\n",
    "<div class = 'row'>\n",
    "<div class = 'column'>\n",
    "\n",
    "<img src = 'figures/Logos/AFOSR.jpeg' width = 100px height = 'auto' alt = 'AFOSR logo'>\n",
    "   \n",
    "<img src = 'figures/Logos/nsf1.jpg' width = 100px height = 'auto'>\n",
    "\n",
    "<!-- \n",
    "</div>\n",
    "<div class = 'column'> -->\n",
    "    \n",
    "<img src = 'figures/Logos/MSU-seal.png' width = 100px height = 'auto'>\n",
    "    \n",
    "\n",
    "    \n",
    "<img src = 'figures/Logos/SIAM.png' width = 100px height = 'auto'>  \n",
    "    \n",
    "</div>\n",
    "</div>\n",
    "<!-- End funding bit -->\n",
    "</div>\n",
    "</div>"
   ]
  }
 ],
 "metadata": {
  "celltoolbar": "Slideshow",
  "kernelspec": {
   "display_name": "Python 3 (ipykernel)",
   "language": "python",
   "name": "python3"
  },
  "language_info": {
   "codemirror_mode": {
    "name": "ipython",
    "version": 3
   },
   "file_extension": ".py",
   "mimetype": "text/x-python",
   "name": "python",
   "nbconvert_exporter": "python",
   "pygments_lexer": "ipython3",
   "version": "3.9.16"
  }
 },
 "nbformat": 4,
 "nbformat_minor": 5
}
