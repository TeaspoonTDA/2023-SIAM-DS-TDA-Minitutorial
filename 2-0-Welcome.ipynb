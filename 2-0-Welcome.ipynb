{
 "cells": [
  {
   "cell_type": "code",
   "execution_count": null,
   "id": "9843489e",
   "metadata": {
    "slideshow": {
     "slide_type": "skip"
    }
   },
   "outputs": [],
   "source": [
    "%%HTML\n",
    "    \n",
    "<!-- reveal.js CSS theme and local overrides -->\n",
    "<link rel=\"stylesheet\" href=\"https://fonts.googleapis.com/css?family=Open+Sans:300,400,600,700&amp;lang=en\"/>\n",
    "<link rel=\"stylesheet\" href=\"https://fonts.googleapis.com/css?family=Merriweather:italic&amp;lang=en\"/>\n",
    "<link rel=\"stylesheet\" href=\"stylefiles/presentation.css\"/> "
   ]
  },
  {
   "cell_type": "markdown",
   "id": "37fd15d7",
   "metadata": {
    "slideshow": {
     "slide_type": "skip"
    }
   },
   "source": [
    "### A note\n",
    "\n",
    "This jupyter notebook creates the slides for the module. For the curious, these slide decks are created using [RISE](https://rise.readthedocs.io/). "
   ]
  },
  {
   "cell_type": "markdown",
   "id": "f198536f",
   "metadata": {
    "slideshow": {
     "slide_type": "slide"
    }
   },
   "source": [
    "<section id=\"title-slide\"> \n",
    "    <br><br><br><h1><i>Part 2: Welcome and Introduction</i></h1>\n",
    "    <h3><i>Module 2-0</i></h3>\n",
    "    <br><br>\n",
    "    <h4><i>5/15/2023</i></h4>\n",
    "    <br><br>\n",
    "<!--     <div id='title-slide' class=\"pull-right\"><img id=\"logo\" src=\"figures/msu_seal.png\" width=\"100%\" height=\"100%\"></div> -->\n",
    "    <div class=\"uu_title_container\">\n",
    "        <smaller>\n",
    "        <div>\n",
    "            <b>Presented by:</b> Firas Khasawneh and Liz Munch\n",
    "            <br><br><br><br>\n",
    "            <b>Topological Signal Processing for Dynamical Systems</b><br>\n",
    "            SIAM-DS Minitutorial 2023\n",
    "        </div>  \n",
    "        </smaller>\n",
    "    </div><br>\n",
    "    <div class='footer'>\n",
    "        Michigan State University\n",
    "    </div>\n",
    "</section>"
   ]
  },
  {
   "cell_type": "markdown",
   "id": "79a9b09c",
   "metadata": {
    "slideshow": {
     "slide_type": "notes"
    }
   },
   "source": [
    "Welcome to our minitutorial on Topological Signal Processing for Dynamical Systems! "
   ]
  },
  {
   "cell_type": "markdown",
   "id": "322e1c7a",
   "metadata": {
    "slideshow": {
     "slide_type": "subslide"
    }
   },
   "source": [
    "<center>\n",
    "<img src = 'figures/PeopleAndFunding.png' width = 80% height = auto>\n",
    "</center>\n",
    "\n"
   ]
  },
  {
   "cell_type": "markdown",
   "id": "31a3812c",
   "metadata": {
    "slideshow": {
     "slide_type": "notes"
    }
   },
   "source": [
    "This minitutorial is made possible by AFOSR, NSF, and SIAM, and with the help of our excellent research group."
   ]
  },
  {
   "cell_type": "markdown",
   "id": "eaee8f1d",
   "metadata": {
    "slideshow": {
     "slide_type": "slide"
    }
   },
   "source": [
    "# Visual Abstract \n",
    "\n",
    "![](figures/big_picture.png)"
   ]
  },
  {
   "cell_type": "markdown",
   "id": "48b78020",
   "metadata": {
    "slideshow": {
     "slide_type": "notes"
    }
   },
   "source": [
    "Our minitutorial will focus on taking a stream of data, such as time series or images, and analyze them using tools from topological signal processing. The first part from earlier today focused on the underpinnings of topological data analysis methods; specifically, pipelines of taking data into what is called a persistence diagram. This second part will be focused on using the persistence diagrams as measurement tools for use in signal processing and dynamical systems' applications. "
   ]
  },
  {
   "cell_type": "markdown",
   "id": "b9db899b",
   "metadata": {
    "slideshow": {
     "slide_type": "slide"
    }
   },
   "source": [
    "# Organization of this minitutorial "
   ]
  },
  {
   "cell_type": "markdown",
   "id": "f83fd9c7",
   "metadata": {
    "slideshow": {
     "slide_type": "subslide"
    }
   },
   "source": [
    "# Schedule \n",
    "<div class = 'row'>\n",
    "<div class = 'column' >\n",
    "\n",
    "## Session 1: Persistent Homology Basics\n",
    "0. Welcome Remarks and Introduction \n",
    "   - [Slides](1-0-Welcome.ipynb)\n",
    "1. Simplicial complexes & Homology\n",
    "   - [Slides](1-1-SimplicialCpx_Homology.ipynb)\n",
    "   - [Jupyter notebook](1-1-Wkst-SimplicialCpx_Homology.ipynb) \n",
    "2. Persistent homology\n",
    "   - [Slides](1-2-PersistentHomology.ipynb) \n",
    "   - [Jupyter notebook](1-2-Wkst-PersistentHomology.ipynb) \n",
    "3. Persistence Pipelines: Rips & Images \n",
    "   - [Slides](1-3-PersistencePipelines.ipynb)\n",
    "   - [Jupyter notebook](1-3-Wkst-PersistencePipelines.ipynb) \n",
    "4. Distances on persistence diagrams & Vectorization \n",
    "   - [Slides](1-4-DistancesAndVectorization.ipynb)\n",
    "5. Session 1 Wrap up \n",
    "   - [Slides](1-6-Wrapup.ipynb)\n",
    "   \n",
    "</div>\n",
    "<div class = 'column'>\n",
    "    \n",
    "## Session 2: Using Persistence for Signal Processing\n",
    "0. Welcome Remarks and Introduction \n",
    "   - [Slides](2-0-Welcome.ipynb)\n",
    "1. Embedding of Time series \n",
    "   - [Slides](2-1-Embedding.ipynb)\n",
    "   - [Jupyter notebook](2-1-Wkst-Embedding.ipynb)\n",
    "2. Graph representations of time series \n",
    "   - [Slides](2-2-GraphTimeSeries.ipynb)\n",
    "   - [Jupyter notebook](2-2-Wkst-GraphTimeSeries.ipynb)\n",
    "3. Crocker plots \n",
    "   - [Slides](2-3-CrockerPlots.ipynb) \n",
    "   - [Jupyter notebook](2-3-Wkst-CrockerPlots.ipynb) \n",
    "4. Stochastics \n",
    "   - [Slides](2-4-Stochastics.ipynb)\n",
    "   - [Jupyter notebook](2-4-Wkst-Stochastics.ipynb)\n",
    "6. Session 2 Wrap up \n",
    "   - [Slides](2-5-Wrapup.ipynb)\n",
    "</div>\n",
    "</div>"
   ]
  },
  {
   "cell_type": "markdown",
   "id": "97a3eee5",
   "metadata": {
    "slideshow": {
     "slide_type": "notes"
    }
   },
   "source": [
    "Here you can see the schedule of the different parts of the minitutorial. We structured this program in an active learning style, where we will use slides to present the main ideas, followed by time for you to independently or in groups work on examples in our provided Jupyter notebboks. "
   ]
  },
  {
   "cell_type": "markdown",
   "id": "259e0173",
   "metadata": {
    "slideshow": {
     "slide_type": "subslide"
    }
   },
   "source": [
    "# Teaspoon \n",
    "\n",
    "    \n",
    "`pip install teaspoon`\n",
    "    \n",
    "\n",
    "<img src = 'figures/TeaspoonDocumentationScreenshot.png' width = 65% height = auto>\n",
    "\n",
    "Documentation: [teaspoontda.github.io/teaspoon/](https://teaspoontda.github.io/teaspoon/)\n"
   ]
  },
  {
   "cell_type": "markdown",
   "id": "72806729",
   "metadata": {
    "slideshow": {
     "slide_type": "notes"
    }
   },
   "source": [
    "Our Jupyter notebooks are based on our Python package teaspoon, which is pip installable and has extensive documentation available on github. "
   ]
  },
  {
   "cell_type": "markdown",
   "id": "df4d9995",
   "metadata": {
    "slideshow": {
     "slide_type": "subslide"
    }
   },
   "source": [
    "# Accessing the content \n",
    "\n",
    "<center>\n",
    " All content online: <a href = \"https://github.com/TeaspoonTDA/2023-SIAM-DS-TDA-Minitutorial\">bit.ly/3VYI0b4</a>\n",
    "    <br>(<i>That's the letter I and the number 0 in the middle</i>)\n",
    "</center>\n",
    "\n",
    "\n",
    "<div class = 'row'>\n",
    "<div class = 'column'>\n",
    "\n",
    "## Remote servers\n",
    "    \n",
    "- Create a [GitHub account](https://docs.github.com/en/get-started/signing-up-for-github/signing-up-for-a-new-github-account) if you don't have one already.\n",
    "- Use one of the following servers to access the content directly:\n",
    "    - **Server 1: [9g72.short.gy/server1](https://9g72.short.gy/server1)**\n",
    "    - **Server 2: [9g72.short.gy/server2](https://9g72.short.gy/server2)**\n",
    "- **Whichever link you pick, be sure to use that link for the rest of the conference to access your previous work!**\n",
    "- Servers will be shutdown at the end of the minitutorial so be sure to save your work locally if you want to keep it!\n",
    "- Download your work as you go - a bulk download at the end isn't available.\n",
    "    \n",
    "</div>\n",
    "<div class = 'column'>\n",
    "\n",
    "## Install locally \n",
    "  \n",
    "- Sorry! Limited ability to help with install issues during the minitutorial. \n",
    "- Follow instructions on the front page of the [github repo](https://github.com/TeaspoonTDA/2023-SIAM-DS-TDA-Minitutorial#accessing-the-content)\n",
    "- If you already installed, be sure to update!!!\n",
    "    - ```pip install --upgrade teaspoon```\n",
    "</div>\n",
    "</div>\n"
   ]
  },
  {
   "cell_type": "markdown",
   "id": "61d271ae",
   "metadata": {
    "slideshow": {
     "slide_type": "notes"
    }
   },
   "source": [
    "So this is how you can acccess our content. There are two ways to access our content. You can use everything locally. so if youhad  downloaded teaspoon, just make your update because we've made several updates. However, just for today, we have set up remote servers that are preloaded with all the software you'll need. \n",
    "You'll need to create a github account to access the servers. \n",
    "You can pick one of these two servers, but remember your choice because it will save your work. \n",
    "The servers will only be active during our minitutorial, so if you want to save your work for later, make sure to download your Jupyter notebboks as we go. \n",
    "\n",
    "All of our content is hosted and is available at github, and this short link will take you there. "
   ]
  }
 ],
 "metadata": {
  "celltoolbar": "Slideshow",
  "kernelspec": {
   "display_name": "Python 3 (ipykernel)",
   "language": "python",
   "name": "python3"
  },
  "language_info": {
   "codemirror_mode": {
    "name": "ipython",
    "version": 3
   },
   "file_extension": ".py",
   "mimetype": "text/x-python",
   "name": "python",
   "nbconvert_exporter": "python",
   "pygments_lexer": "ipython3",
   "version": "3.9.16"
  }
 },
 "nbformat": 4,
 "nbformat_minor": 5
}
