{
 "cells": [
  {
   "cell_type": "code",
   "execution_count": 2,
   "id": "9843489e",
   "metadata": {
    "slideshow": {
     "slide_type": "skip"
    }
   },
   "outputs": [
    {
     "data": {
      "text/html": [
       "    \n",
       "<!-- reveal.js CSS theme and local overrides -->\n",
       "<link rel=\"stylesheet\" href=\"https://fonts.googleapis.com/css?family=Open+Sans:300,400,600,700&amp;lang=en\"/>\n",
       "<link rel=\"stylesheet\" href=\"https://fonts.googleapis.com/css?family=Merriweather:italic&amp;lang=en\"/>\n",
       "<link rel=\"stylesheet\" href=\"stylefiles/presentation.css\"/> \n"
      ],
      "text/plain": [
       "<IPython.core.display.HTML object>"
      ]
     },
     "metadata": {},
     "output_type": "display_data"
    }
   ],
   "source": [
    "%%HTML\n",
    "    \n",
    "<!-- reveal.js CSS theme and local overrides -->\n",
    "<link rel=\"stylesheet\" href=\"https://fonts.googleapis.com/css?family=Open+Sans:300,400,600,700&amp;lang=en\"/>\n",
    "<link rel=\"stylesheet\" href=\"https://fonts.googleapis.com/css?family=Merriweather:italic&amp;lang=en\"/>\n",
    "<link rel=\"stylesheet\" href=\"stylefiles/presentation.css\"/> "
   ]
  },
  {
   "cell_type": "markdown",
   "id": "f198536f",
   "metadata": {
    "slideshow": {
     "slide_type": "slide"
    }
   },
   "source": [
    "<section id=\"title-slide\"> \n",
    "    <br><br><br><h1><i>Module 1: Introduction, Simplicial Complexes, and Homology</i></h1>\n",
    "    <h3><i>Subtitle</i></h3>\n",
    "    <br><br>\n",
    "    <h4><i>5/15/2023</i></h4>\n",
    "    <br><br>\n",
    "    <div id='title-slide' class=\"pull-right\"><img id=\"logo\" src=\"figures/msu_seal.png\" width=\"100%\" height=\"100%\"></div>\n",
    "    <div class=\"uu_title_container\">\n",
    "        <smaller>\n",
    "        <div>\n",
    "            <b>Presented by:</b> Your Name\n",
    "            <br><br><br><br>\n",
    "            <b>Topological Signal Processing for Dynamical Systems</b><br>\n",
    "            SIAM-DS Minitutorial 2023\n",
    "        </div>  \n",
    "        </smaller>\n",
    "    </div><br>\n",
    "    <div class='footer'>\n",
    "        Michigan State University\n",
    "    </div>\n",
    "</section>"
   ]
  },
  {
   "cell_type": "markdown",
   "id": "37fd15d7",
   "metadata": {
    "slideshow": {
     "slide_type": "skip"
    }
   },
   "source": [
    "### A note\n",
    "\n",
    "This jupyter notebook creates the slides for the module. If you are looking for the examples to work through see [insert link here!]. \n",
    "\n",
    "For the curious, these slide decks are created using [RISE](https://rise.readthedocs.io/). "
   ]
  },
  {
   "cell_type": "markdown",
   "id": "eaee8f1d",
   "metadata": {
    "slideshow": {
     "slide_type": "slide"
    }
   },
   "source": [
    "# Big picture intro slide "
   ]
  },
  {
   "cell_type": "markdown",
   "id": "b9db899b",
   "metadata": {
    "slideshow": {
     "slide_type": "slide"
    }
   },
   "source": [
    "# Organization of this minitutorial "
   ]
  },
  {
   "cell_type": "markdown",
   "id": "2404153e",
   "metadata": {
    "slideshow": {
     "slide_type": "subslide"
    }
   },
   "source": [
    "# People \n",
    "- Firas Khasawneh, Mech E, MSU\n",
    "- Liz Munch, CMSE/Math, MSU\n",
    "- Max Chumley, Mech E, MSU\n",
    "- Sunia Tanweer, Mech E, MSU\n",
    "- Danielle Barnes, CMSE, MSU"
   ]
  },
  {
   "cell_type": "markdown",
   "id": "f83fd9c7",
   "metadata": {
    "slideshow": {
     "slide_type": "subslide"
    }
   },
   "source": [
    "# Schedule \n",
    "<div class = 'row'>\n",
    "<div class = 'column'>\n",
    "\n",
    "## Session 1\n",
    "1. Introduction, Simplicial complexes & Homology (Liz starts slides, 20 minutes)\n",
    "   - [Slides](1-1-Intro_SimplicialCpx_Homology.ipynb)\n",
    "   - Jupyter notebook (20 min)\n",
    "2. Persistent homology (10 min)\n",
    "   - [Slides](1-2-PersistentHomology.ipynb) \n",
    "   - Jupyter notebook (20 min)\n",
    "3. Flavors of persistence: Rips & Images (20 min)\n",
    "   - [Slides](1-3-PersistencePipelines.ipynb)\n",
    "   - Jupyter notebook (2o min, Sunia creating)\n",
    "4. Distances on persistence diagrams & Vectorization (10 min)\n",
    "   - [Slides](1-4-DistancesAndVectorization.ipynb) \n",
    "   \n",
    "</div>\n",
    "<div class = 'column'>\n",
    "    \n",
    "## Session 2\n",
    "1. Embedding of Time series (20 min)\n",
    "   - [Slides](2-1-Embedding.ipynb)\n",
    "   - Jupyter notebook, focus on persistence examples (20 min)\n",
    "   - Shows different behaviors like chaotic/periodic with persistence outputs\n",
    "2. Graph representations of time series (20 min)\n",
    "   - [Slides](2-2-GraphTimeSeries.ipynb)\n",
    "   - Jupyter notebook (20 min, Max has started)\n",
    "3. Crocker plots (10 min)\n",
    "   - [Slides](2-3-CrockerPlots.ipynb) \n",
    "   - Jupyter notebook (10 min)\n",
    "4. Stochastics (10 min, Sunia)\n",
    "   - [Slides](2-4-Stochastics.ipynb) \n",
    "5. Teaspoon contribution (10 min; Danielle)\n",
    "   - [Slides](2-5-ContributionAndConclusion.ipynb) \n",
    "</div>\n",
    "</div>"
   ]
  },
  {
   "cell_type": "markdown",
   "id": "df4d9995",
   "metadata": {
    "slideshow": {
     "slide_type": "subslide"
    }
   },
   "source": [
    "# Accessing the content \n",
    "\n",
    "- Instructions to get into the cloud server will go here"
   ]
  },
  {
   "cell_type": "markdown",
   "id": "6cbd941c",
   "metadata": {
    "slideshow": {
     "slide_type": "slide"
    }
   },
   "source": [
    "## Goals of Module 1\n",
    "\n",
    "- Simplicial Complexes\n",
    "- Homology \n",
    "- Examples in jupyter notebook\n"
   ]
  },
  {
   "cell_type": "markdown",
   "id": "bbb5ff33",
   "metadata": {
    "slideshow": {
     "slide_type": "slide"
    }
   },
   "source": [
    "# Simplicial Complexes and Homology \n"
   ]
  },
  {
   "cell_type": "markdown",
   "id": "55c48393",
   "metadata": {
    "slideshow": {
     "slide_type": "subslide"
    }
   },
   "source": [
    "# What is a simplex? \n",
    "\n",
    "<div class = 'row'>\n",
    "<div class = 'column'>\n",
    "\n",
    "## Definition\n",
    "\n",
    "- Given a set of vertices $V$\n",
    "- A simplex is a subset of vertices $\\sigma \\subseteq V$ \n",
    "- Simplex $\\sigma$ is a face of $\\tau$ if $\\sigma \\subseteq \\tau$\n",
    "- Commonly denoted $\\sigma \\leq \\tau$\n",
    "- The dimension of $\\sigma = \\{v_0,\\cdots,v_d\\}$ is $d$: \n",
    "  - $\\dim(\\sigma) = |\\sigma|-1$\n",
    "    \n",
    "## From example at right\n",
    "- $\\sigma \\leq \\tau$\n",
    "- $\\nu \\leq \\tau$ and $\\nu \\leq \\rho$\n",
    "- $\\dim(\\sigma) = \\dim(\\nu) = 1$\n",
    "- $\\dim(\\tau) = 2$\n",
    "- $\\dim(\\rho) = 3$\n",
    "   \n",
    "</div>\n",
    "<div class = 'column'>\n",
    "    \n",
    "## Example\n",
    "\n",
    "![](figures/1-1_ExSimpComplex-SomeSimpsLabeled.jpg)\n",
    "    \n",
    "    \n",
    "</div>\n",
    "</div>"
   ]
  },
  {
   "cell_type": "markdown",
   "id": "c8537d78",
   "metadata": {
    "slideshow": {
     "slide_type": "subslide"
    }
   },
   "source": [
    "# What is a simplicial complex?\n",
    "\n",
    "<div class = 'row'>\n",
    "<div class = 'column'>\n",
    "\n",
    "## Definition\n",
    "\n",
    "A collection of simplices $K$ is a simplicial complex if is is closed under the face relation\n",
    "- $\\sigma \\in K$ and $\\tau \\leq \\sigma$ then $\\tau \\in K$.\n",
    "    \n",
    "## From example at right\n",
    "    \n",
    "- Triangle $\\tau = \\langle g, f, c\\rangle$ is included, so all of its edges are included. \n",
    "- Common notation: $\\langle v_0, \\cdots, \\hat{v_i}, \\cdots, v_p \\rangle$ means vertex $v_i$ is removed\n",
    "    - $\\langle f, c \\rangle = \\langle \\hat{g}, f, c\\rangle$\n",
    "    - $\\langle g, c \\rangle = \\langle g, \\hat{f}, c\\rangle$\n",
    "    - $\\langle g, f \\rangle = \\langle g, f, \\hat{c}\\rangle$\n",
    "   \n",
    "</div>\n",
    "<div class = 'column'>\n",
    "    \n",
    "## Example\n",
    "\n",
    "![](figures/1-1_ExSimpComplex.jpg)\n",
    "</div>\n",
    "</div>"
   ]
  },
  {
   "cell_type": "markdown",
   "id": "6f5e0093",
   "metadata": {
    "slideshow": {
     "slide_type": "subslide"
    }
   },
   "source": [
    "# $p$-Chains\n",
    "\n",
    "\n",
    "<div class = 'row'>\n",
    "<div class = 'column'>\n",
    "\n",
    "## Definition\n",
    "\n",
    "- The vector space $C_p$ consists of finite formal sums of $p$-dimensional simplices. \n",
    "    - $\\alpha = \\sum_{\\sigma_i \\in K} \\alpha_i\\sigma_i$\n",
    "- Coefficients $\\alpha_i$ are chosen from some field. \n",
    "    - In TDA, $\\mathbb{Z_2}=\\{0,1\\}$ is common, where $1+1=0 \\mod 2$.     \n",
    "\n",
    "\n",
    "## Examples from right (using $\\mathbb{Z}_2$)\n",
    "Elements of $C_1$:    \n",
    "- $\\alpha = \\langle g,e\\rangle +\\langle c, e\\rangle +\\langle c,g \\rangle  $\n",
    "- $\\beta = \\langle a, b \\rangle +\\langle b,c \\rangle +\\langle c,g \\rangle +\\langle a,g \\rangle$\n",
    "- $\\gamma = \\langle a,b \\rangle +\\langle b,c \\rangle +\\langle c,e \\rangle + \\langle g,e\\rangle +\\langle a,g \\rangle $\n",
    "\n",
    "    \n",
    "\n",
    "   \n",
    "</div>\n",
    "<div class = 'column'>\n",
    "    \n",
    "## Example\n",
    "\n",
    "![](figures/1-1_ExSimpComplex-SomeChains.jpg)\n",
    "</div>\n",
    "</div>"
   ]
  },
  {
   "cell_type": "markdown",
   "id": "5c3ea540",
   "metadata": {
    "slideshow": {
     "slide_type": "subslide"
    }
   },
   "source": [
    "# $p$-Chain addition \n",
    "\n",
    "<div class = 'row'>\n",
    "<div class = 'column'>\n",
    "\n",
    "## Definition \n",
    "- Chains can be added by adding coefficients from the same simplex\n",
    "    \n",
    "    \n",
    "## Example addition of $1$-chains\n",
    "\\begin{align}\n",
    "\\alpha &+ \\beta\\\\\n",
    "    &= \\big(\\langle g,e\\rangle +\\langle c, e\\rangle +\\langle c,g \\rangle \\big) + \\big(\\langle a, b \\rangle +\\langle b,c \\rangle +\\langle c,g \\rangle +\\langle a,g \\rangle\\big)\\\\\n",
    "&= \\langle g,e\\rangle +\\langle c, e\\rangle +2\\langle c,g \\rangle) + \\langle a, b \\rangle +\\langle b,c \\rangle +\\langle a,g \\rangle\\\\\n",
    "&= \\langle g,e\\rangle +\\langle c, e\\rangle + \\langle a, b \\rangle +\\langle b,c \\rangle +\\langle a,g \\rangle\\\\\n",
    "&= \\gamma\n",
    "\\end{align}\n",
    "\n",
    "    \n",
    "\n",
    "   \n",
    "</div>\n",
    "<div class = 'column'>\n",
    "    \n",
    "## Example\n",
    "\n",
    "![](figures/1-1_ExSimpComplex-SomeChains.jpg)\n",
    "</div>\n",
    "</div>\n",
    "\n"
   ]
  },
  {
   "cell_type": "markdown",
   "id": "0805b278",
   "metadata": {},
   "source": [
    "# Boundary maps $\\partial_p:C_p \\to C_{p-1}$\n",
    "\n",
    "$$ \n",
    "\\Large{\n",
    "\\dotsb \n",
    "{\\overset {\\partial _{4}}{\\longrightarrow \\,}}\n",
    "C_{3}\n",
    "{\\overset {\\partial _{3}}{\\longrightarrow \\,}}\n",
    "C_{2}\n",
    "{\\overset {\\partial _{2}}{\\longrightarrow \\,}}\n",
    "C_{1}\n",
    "{\\overset {\\partial _{1}}{\\longrightarrow \\,}}\n",
    "C_0\n",
    "}\n",
    "$$\n",
    "\n",
    "<div class = 'row'>\n",
    "<div class = 'column'>\n",
    "\n",
    "## Definition\n",
    "\n",
    "- The $p$-th boundary of a $p$-dimensional simplex $\\sigma = \\langle v_0,\\cdots,v_p \\rangle$ is \n",
    "    $$ \\partial_p(\\sigma) = \\sum_{i}(-1)^i \\langle v_0, \\cdots, \\hat{v_i}, \\cdots, v_p \\rangle$$\n",
    "  where $\\langle v_0, \\cdots, \\hat{v_i}, \\cdots, v_p \\rangle$ is the face with vertex $v_i$ is removed\n",
    "- The $p$th boundary of a $p$-chain is \n",
    "    $$ \\partial_p(\\alpha) = \\partial_p\\left(\\sum_j \\alpha_j \\sigma_j\\right) = \\sum_j \\partial_p(\\alpha_j)$$\n",
    "\n",
    "## Examples from right (using $\\mathbb{Z}_2$)\n",
    "    \n",
    "- $\\partial_2(\\langle g,f,c \\rangle) = \\langle f,c \\rangle + \\langle g,c \\rangle + \\langle g,f \\rangle$\n",
    "- $\\partial_1(\\alpha) = \\big(\\langle g \\rangle + \\langle e \\rangle \\big) +  \\big(\\langle e \\rangle+ \\langle c \\rangle\\big)+ \\big(\\langle c \\rangle+ \\langle g \\rangle\\big) = 0$\n",
    "- $\\partial_1(\\delta) = \\langle a \\rangle + \\langle d \\rangle$\n",
    "   \n",
    "</div>\n",
    "<div class = 'column'>\n",
    "    \n",
    "## Example\n",
    "\n",
    "![](figures/1-1_ExSimpComplex-BdyMapExamples.jpg)\n",
    "</div>\n",
    "</div>"
   ]
  },
  {
   "cell_type": "markdown",
   "id": "444666be",
   "metadata": {
    "slideshow": {
     "slide_type": "subslide"
    }
   },
   "source": [
    "# Cycles\n",
    "\n",
    "\n",
    "\n",
    "<div class = 'row'>\n",
    "<div class = 'column'>\n",
    "\n",
    "## Definition\n",
    "\n",
    "- A $p$-chain $\\alpha \\in C_p$ is a cycle if $\\alpha \\in \\mathrm{Ker}\\, \\partial_p:C_p \\to C_{p-1}$\n",
    "  - $\\partial_p(\\alpha) = 0$\n",
    "- **Note:** $\\mathrm{Ker}\\,\\partial_p \\subseteq C_p$\n",
    "- Commonly denoted $Z_p$\n",
    "    \n",
    "## Examples from right\n",
    "    \n",
    "- $\\alpha$, $\\beta$, and $\\gamma$ are all $1$-cycles\n",
    "\n",
    "   \n",
    "</div>\n",
    "<div class = 'column'>\n",
    "    \n",
    "## Example\n",
    "\n",
    "![](figures/1-1_ExSimpComplex-SomeChains.jpg)\n",
    "</div>\n",
    "</div>\n",
    "\n",
    "$$ \n",
    "\\Large{\n",
    "\\dotsb \n",
    "{\\overset {\\partial _{4}}{\\longrightarrow \\,}}\n",
    "C_{3}\n",
    "{\\overset {\\partial _{3}}{\\longrightarrow \\,}}\n",
    "C_{2}\n",
    "{\\overset {\\partial _{2}}{\\longrightarrow \\,}}\n",
    "C_{1}\n",
    "{\\overset {\\partial _{1}}{\\longrightarrow \\,}}\n",
    "C_0\n",
    "}\n",
    "$$"
   ]
  },
  {
   "cell_type": "markdown",
   "id": "9a97189e",
   "metadata": {},
   "source": [
    "# Boundaries\n",
    "\n",
    "\n",
    "<div class = 'row'>\n",
    "<div class = 'column'>\n",
    "\n",
    "## Definition\n",
    "\n",
    "- A $p$-chain $\\alpha \\in C_p$ is a boundary if $\\alpha \\in \\mathrm{Im}\\, \\partial_{p+1}:C_{p+1} \\to C_{p}$\n",
    "- **Note:** $\\mathrm{Im}\\,\\partial_{p+1} \\subseteq C_p$\n",
    "- Commonly denoted $B_p$\n",
    "\n",
    "## Examples from right\n",
    "    \n",
    "- $\\eta \\in B_1$ is a boundary. Note that $\\eta \\in Z_1$ also.\n",
    "- $\\beta \\not \\in B_1$ but it is a cycle in $Z_1$.\n",
    "   \n",
    "</div>\n",
    "<div class = 'column'>\n",
    "    \n",
    "## Example\n",
    "\n",
    "![](figures/1-1_ExSimpComplex-Boundaries.jpg)\n",
    "</div>\n",
    "</div>\n",
    "\n",
    "$$ \n",
    "\\Large{\n",
    "\\dotsb \n",
    "{\\overset {\\partial _{4}}{\\longrightarrow \\,}}\n",
    "C_{3}\n",
    "{\\overset {\\partial _{3}}{\\longrightarrow \\,}}\n",
    "C_{2}\n",
    "{\\overset {\\partial _{2}}{\\longrightarrow \\,}}\n",
    "C_{1}\n",
    "{\\overset {\\partial _{1}}{\\longrightarrow \\,}}\n",
    "C_0\n",
    "}\n",
    "$$"
   ]
  },
  {
   "cell_type": "markdown",
   "id": "4ebca873",
   "metadata": {
    "slideshow": {
     "slide_type": "subslide"
    }
   },
   "source": [
    "# Homology \n",
    "\n",
    "\n",
    "\n",
    "\n",
    "<div class = 'row'>\n",
    "<div class = 'column'>\n",
    "    \n",
    "## Properties \n",
    "  \n",
    "- $\\partial_{p+1}\\partial_p = 0$\n",
    "- $B_p \\subseteq Z_p \\subseteq C_p$\n",
    "\n",
    "## Definition\n",
    "\n",
    "- The $p$th homology group is \n",
    "    $$H_p(K) = Z_p/B_p = \\mathrm{Ker}\\,\\partial_p / \\mathrm{Im}\\,\\partial_{p+1}$$\n",
    "- Elements are equivalences classes $[\\alpha]$ consisting of all $p$-cycles $\\beta$ where $\\alpha - \\beta \\in B_p$\n",
    "- The dimension of the $p$th homology group is called the Betti number, often denoted $\\beta_p(K)$\n",
    "\n",
    "   \n",
    "</div>\n",
    "<div class = 'column'>\n",
    "    \n",
    "## Example\n",
    "\n",
    "![](figures/1-1_ExSimpComplex.jpg)\n",
    "</div>\n",
    "</div>\n",
    "\n",
    "$$ \n",
    "\\Large{\n",
    "\\dotsb \n",
    "{\\overset {\\partial _{4}}{\\longrightarrow \\,}}\n",
    "C_{3}\n",
    "{\\overset {\\partial _{3}}{\\longrightarrow \\,}}\n",
    "C_{2}\n",
    "{\\overset {\\partial _{2}}{\\longrightarrow \\,}}\n",
    "C_{1}\n",
    "{\\overset {\\partial _{1}}{\\longrightarrow \\,}}\n",
    "C_0\n",
    "}\n",
    "$$"
   ]
  },
  {
   "cell_type": "markdown",
   "id": "9c4dbe3b",
   "metadata": {
    "slideshow": {
     "slide_type": "subslide"
    }
   },
   "source": [
    "# This example \n",
    "\n",
    "\n",
    "\n",
    "\n",
    "<div class = 'row'>\n",
    "<div class = 'column'>\n",
    "    \n",
    "For this example, $H_1(K)$ has four elements:\n",
    "\n",
    "- $[\\alpha]$\n",
    "- $[\\beta]$\n",
    "- $[\\gamma]$\n",
    "- $0$\n",
    "\n",
    "But since $[\\alpha] + [\\beta] = [\\alpha + \\beta] = [\\gamma]$, this homology group has the structure \n",
    "    $$ \\mathbb{Z}_2 \\times \\mathbb{Z}_2$$\n",
    "generated by $[\\alpha]$ and $[\\beta]$. \n",
    "    \n",
    "This means $\\beta_1(K) = 2$\n",
    "    \n",
    "**Warning:**\n",
    "- I made lots of choices in terms of both representatives of homology classes and generators of the homology group.\n",
    "- This is by no means the only representation of $H_1(K)$\n",
    "   \n",
    "</div>\n",
    "<div class = 'column'>\n",
    "    \n",
    "## Example\n",
    "\n",
    "![](figures/1-1_ExSimpComplex-SomeChains.jpg)\n",
    "</div>\n",
    "</div>\n",
    "\n",
    "$$ \n",
    "\\Large{\n",
    "\\dotsb \n",
    "{\\overset {\\partial _{4}}{\\longrightarrow \\,}}\n",
    "C_{3}\n",
    "{\\overset {\\partial _{3}}{\\longrightarrow \\,}}\n",
    "C_{2}\n",
    "{\\overset {\\partial _{2}}{\\longrightarrow \\,}}\n",
    "C_{1}\n",
    "{\\overset {\\partial _{1}}{\\longrightarrow \\,}}\n",
    "C_0\n",
    "}\n",
    "$$"
   ]
  },
  {
   "cell_type": "markdown",
   "id": "e5d528c3",
   "metadata": {
    "slideshow": {
     "slide_type": "slide"
    }
   },
   "source": [
    "# A slide that makes it clear that they're about to start doing examples"
   ]
  }
 ],
 "metadata": {
  "celltoolbar": "Slideshow",
  "kernelspec": {
   "display_name": "Python 3 (ipykernel)",
   "language": "python",
   "name": "python3"
  },
  "language_info": {
   "codemirror_mode": {
    "name": "ipython",
    "version": 3
   },
   "file_extension": ".py",
   "mimetype": "text/x-python",
   "name": "python",
   "nbconvert_exporter": "python",
   "pygments_lexer": "ipython3",
   "version": "3.9.7"
  }
 },
 "nbformat": 4,
 "nbformat_minor": 5
}
