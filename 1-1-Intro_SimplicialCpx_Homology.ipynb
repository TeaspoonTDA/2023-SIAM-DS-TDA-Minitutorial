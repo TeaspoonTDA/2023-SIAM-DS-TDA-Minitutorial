{
 "cells": [
  {
   "cell_type": "code",
   "execution_count": 2,
   "id": "9843489e",
   "metadata": {
    "slideshow": {
     "slide_type": "skip"
    }
   },
   "outputs": [
    {
     "data": {
      "text/html": [
       "    \n",
       "<!-- reveal.js CSS theme and local overrides -->\n",
       "<link rel=\"stylesheet\" href=\"https://fonts.googleapis.com/css?family=Open+Sans:300,400,600,700&amp;lang=en\"/>\n",
       "<link rel=\"stylesheet\" href=\"https://fonts.googleapis.com/css?family=Merriweather:italic&amp;lang=en\"/>\n",
       "<link rel=\"stylesheet\" href=\"stylefiles/presentation.css\"/> \n"
      ],
      "text/plain": [
       "<IPython.core.display.HTML object>"
      ]
     },
     "metadata": {},
     "output_type": "display_data"
    }
   ],
   "source": [
    "%%HTML\n",
    "    \n",
    "<!-- reveal.js CSS theme and local overrides -->\n",
    "<link rel=\"stylesheet\" href=\"https://fonts.googleapis.com/css?family=Open+Sans:300,400,600,700&amp;lang=en\"/>\n",
    "<link rel=\"stylesheet\" href=\"https://fonts.googleapis.com/css?family=Merriweather:italic&amp;lang=en\"/>\n",
    "<link rel=\"stylesheet\" href=\"stylefiles/presentation.css\"/> "
   ]
  },
  {
   "cell_type": "markdown",
   "id": "f198536f",
   "metadata": {
    "slideshow": {
     "slide_type": "slide"
    }
   },
   "source": [
    "<section id=\"title-slide\"> \n",
    "    <br><br><br><h1><i>Module 1: Introduction, Simplicial Complexes, and Homology</i></h1>\n",
    "    <h3><i>Subtitle</i></h3>\n",
    "    <br><br>\n",
    "    <h4><i>5/15/2023</i></h4>\n",
    "    <br><br>\n",
    "    <div id='title-slide' class=\"pull-right\"><img id=\"logo\" src=\"figures/msu_seal.png\" width=\"100%\" height=\"100%\"></div>\n",
    "    <div class=\"uu_title_container\">\n",
    "        <smaller>\n",
    "        <div>\n",
    "            <b>Presented by:</b> Your Name\n",
    "            <br><br><br><br>\n",
    "            <b>Topological Signal Processing for Dynamical Systems</b><br>\n",
    "            SIAM-DS Minitutorial 2023\n",
    "        </div>  \n",
    "        </smaller>\n",
    "    </div><br>\n",
    "    <div class='footer'>\n",
    "        Michigan State University\n",
    "    </div>\n",
    "</section>"
   ]
  },
  {
   "cell_type": "markdown",
   "id": "591b34bd",
   "metadata": {
    "slideshow": {
     "slide_type": "skip"
    }
   },
   "source": [
    "### A note\n",
    "\n",
    "This jupyter notebook creates the slides for the module. If you are looking for the examples to work through see [insert link here!]. \n",
    "\n",
    "For the curious, these slide decks are created using [RISE](https://rise.readthedocs.io/). "
   ]
  },
  {
   "cell_type": "markdown",
   "id": "eaee8f1d",
   "metadata": {
    "slideshow": {
     "slide_type": "slide"
    }
   },
   "source": [
    "# Big picture intro slide "
   ]
  },
  {
   "cell_type": "markdown",
   "id": "b9db899b",
   "metadata": {
    "slideshow": {
     "slide_type": "slide"
    }
   },
   "source": [
    "# Organization of this minitutorial "
   ]
  },
  {
   "cell_type": "markdown",
   "id": "2404153e",
   "metadata": {
    "slideshow": {
     "slide_type": "subslide"
    }
   },
   "source": [
    "# People \n",
    "- Firas Khasawneh, Mech E, MSU\n",
    "- Liz Munch, CMSE/Math, MSU\n",
    "- Max Chumley, Mech E, MSU\n",
    "- Sunia Tanweer, Mech E, MSU\n",
    "- Danielle Barnes, CMSE, MSU"
   ]
  },
  {
   "cell_type": "markdown",
   "id": "f83fd9c7",
   "metadata": {
    "slideshow": {
     "slide_type": "subslide"
    }
   },
   "source": [
    "# Schedule \n",
    "<div class = 'row'>\n",
    "<div class = 'column'>\n",
    "\n",
    "## Session 1\n",
    "1. Introduction, Simplicial complexes & Homology (Liz starts slides, 20 minutes)\n",
    "   - [Slides](1-1-Intro_SimplicialCpx_Homology.ipynb)\n",
    "   - Jupyter notebook (20 min)\n",
    "2. Persistent homology (10 min)\n",
    "   - [Slides](1-2-PersistentHomology.ipynb) \n",
    "   - Jupyter notebook (20 min)\n",
    "3. Flavors of persistence: Rips & Images (20 min)\n",
    "   - [Slides](1-3-PersistencePipelines.ipynb)\n",
    "   - Jupyter notebook (2o min, Sunia creating)\n",
    "4. Distances on persistence diagrams & Vectorization (10 min)\n",
    "   - [Slides](1-4-DistancesAndVectorization.ipynb) \n",
    "   \n",
    "</div>\n",
    "<div class = 'column'>\n",
    "    \n",
    "## Session 2\n",
    "1. Embedding of Time series (20 min)\n",
    "   - [Slides](2-1-Embedding.ipynb)\n",
    "   - Jupyter notebook, focus on persistence examples (20 min)\n",
    "   - Shows different behaviors like chaotic/periodic with persistence outputs\n",
    "2. Graph representations of time series (20 min)\n",
    "   - [Slides](2-2-GraphTimeSeries.ipynb)\n",
    "   - Jupyter notebook (20 min, Max has started)\n",
    "3. Crocker plots (10 min)\n",
    "   - [Slides](2-3-CrockerPlots.ipynb) \n",
    "   - Jupyter notebook (10 min)\n",
    "4. Stochastics (10 min, Sunia)\n",
    "   - [Slides](2-4-Stochastics.ipynb) \n",
    "5. Teaspoon contribution (10 min; Danielle)\n",
    "   - [Slides](2-5-ContributionAndConclusion.ipynb) \n",
    "</div>\n",
    "</div>"
   ]
  },
  {
   "cell_type": "markdown",
   "id": "b0f7f6a0",
   "metadata": {
    "slideshow": {
     "slide_type": "subslide"
    }
   },
   "source": [
    "# Accessing the content \n",
    "\n",
    "- Instructions to get into the cloud server will go here"
   ]
  },
  {
   "cell_type": "markdown",
   "id": "6cbd941c",
   "metadata": {
    "slideshow": {
     "slide_type": "slide"
    }
   },
   "source": [
    "## Goals of Module 1\n",
    "\n",
    "- Simplicial Complexes\n",
    "- Homology \n",
    "- Examples in jupyter notebook\n"
   ]
  },
  {
   "cell_type": "markdown",
   "id": "bbb5ff33",
   "metadata": {
    "slideshow": {
     "slide_type": "slide"
    }
   },
   "source": [
    "# Simplicial Complexes and Homology \n"
   ]
  },
  {
   "cell_type": "markdown",
   "id": "4056c785",
   "metadata": {
    "slideshow": {
     "slide_type": "subslide"
    }
   },
   "source": [
    "# What is a simplex? \n",
    "\n",
    "<div class = 'row'>\n",
    "<div class = 'column'>\n",
    "\n",
    "## Definition\n",
    "\n",
    "- Given a set of vertices $V$\n",
    "- A simplex is a subset of vertices $\\sigma \\subseteq V$ \n",
    "- Simplex $\\sigma$ is a face of $\\tau$ if $\\sigma \\subseteq \\tau$\n",
    "- The dimension of $\\sigma = \\{v_0,\\cdots,v_d\\}$ is $d$: \n",
    "  - $\\dim(\\sigma) = |\\sigma|-1$\n",
    "   \n",
    "</div>\n",
    "<div class = 'column'>\n",
    "    \n",
    "## Example\n",
    "\n",
    "_Insert pic_\n",
    "</div>\n",
    "</div>"
   ]
  },
  {
   "cell_type": "markdown",
   "id": "fdd3dceb",
   "metadata": {
    "slideshow": {
     "slide_type": "subslide"
    }
   },
   "source": [
    "# What is a simplicial complex?\n",
    "\n",
    "<div class = 'row'>\n",
    "<div class = 'column'>\n",
    "\n",
    "## Definition\n",
    "\n",
    "A collection of simplices $K$ is a simplicial complex if is is closed under the face relation\n",
    "- $\\sigma \\in K$ and $\\tau \\leq \\sigma$ then $\\tau \\in K$.\n",
    "   \n",
    "</div>\n",
    "<div class = 'column'>\n",
    "    \n",
    "## Example\n",
    "\n",
    "_Insert pic_\n",
    "</div>\n",
    "</div>"
   ]
  },
  {
   "cell_type": "markdown",
   "id": "f3a31d4e",
   "metadata": {
    "slideshow": {
     "slide_type": "subslide"
    }
   },
   "source": [
    "# $p$-Chains\n",
    "\n",
    "\n",
    "<div class = 'row'>\n",
    "<div class = 'column'>\n",
    "\n",
    "## Definition\n",
    "\n",
    "- The vector space $C_p$ consists of finite formal sums of $p$-dimensional simplices. \n",
    "    - $\\alpha = \\sum_{\\sigma_i \\in K} \\alpha_i\\sigma_i$\n",
    "    - Ex. *Put an example from the figure at right here*\n",
    "- Coefficients $\\alpha_i$ chosen from some field. In TDA, $\\mathbb{Z_2}=$ is common.     \n",
    "    \n",
    "\n",
    "   \n",
    "</div>\n",
    "<div class = 'column'>\n",
    "    \n",
    "## Example\n",
    "\n",
    "_Insert pic_\n",
    "</div>\n",
    "</div>"
   ]
  },
  {
   "cell_type": "markdown",
   "id": "539ccbad",
   "metadata": {
    "slideshow": {
     "slide_type": "subslide"
    }
   },
   "source": []
  },
  {
   "cell_type": "markdown",
   "id": "9b0638f3",
   "metadata": {
    "slideshow": {
     "slide_type": "slide"
    }
   },
   "source": [
    "# Homology "
   ]
  },
  {
   "cell_type": "code",
   "execution_count": null,
   "id": "d7274547",
   "metadata": {
    "slideshow": {
     "slide_type": "subslide"
    }
   },
   "outputs": [],
   "source": []
  },
  {
   "cell_type": "code",
   "execution_count": null,
   "id": "346caf51",
   "metadata": {
    "slideshow": {
     "slide_type": "subslide"
    }
   },
   "outputs": [],
   "source": []
  },
  {
   "cell_type": "code",
   "execution_count": null,
   "id": "a73a3855",
   "metadata": {
    "slideshow": {
     "slide_type": "subslide"
    }
   },
   "outputs": [],
   "source": []
  },
  {
   "cell_type": "code",
   "execution_count": null,
   "id": "f8b2e719",
   "metadata": {
    "slideshow": {
     "slide_type": "subslide"
    }
   },
   "outputs": [],
   "source": []
  },
  {
   "cell_type": "markdown",
   "id": "e5d528c3",
   "metadata": {
    "slideshow": {
     "slide_type": "slide"
    }
   },
   "source": [
    "# A slide that makes it clear that they're about to start doing examples"
   ]
  },
  {
   "cell_type": "code",
   "execution_count": null,
   "id": "db56efed",
   "metadata": {},
   "outputs": [],
   "source": []
  }
 ],
 "metadata": {
  "celltoolbar": "Slideshow",
  "kernelspec": {
   "display_name": "Python 3 (ipykernel)",
   "language": "python",
   "name": "python3"
  },
  "language_info": {
   "codemirror_mode": {
    "name": "ipython",
    "version": 3
   },
   "file_extension": ".py",
   "mimetype": "text/x-python",
   "name": "python",
   "nbconvert_exporter": "python",
   "pygments_lexer": "ipython3",
   "version": "3.9.7"
  }
 },
 "nbformat": 4,
 "nbformat_minor": 5
}
