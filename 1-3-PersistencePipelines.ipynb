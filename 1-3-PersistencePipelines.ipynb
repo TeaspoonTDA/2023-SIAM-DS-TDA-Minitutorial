{
 "cells": [
  {
   "cell_type": "code",
   "execution_count": 3,
   "id": "9843489e",
   "metadata": {
    "slideshow": {
     "slide_type": "skip"
    }
   },
   "outputs": [
    {
     "data": {
      "text/html": [
       "    \n",
       "<!-- reveal.js CSS theme and local overrides -->\n",
       "<link rel=\"stylesheet\" href=\"https://fonts.googleapis.com/css?family=Open+Sans:300,400,600,700&amp;lang=en\"/>\n",
       "<link rel=\"stylesheet\" href=\"https://fonts.googleapis.com/css?family=Merriweather:italic&amp;lang=en\"/>\n",
       "<link rel=\"stylesheet\" href=\"stylefiles/presentation.css\"/> \n"
      ],
      "text/plain": [
       "<IPython.core.display.HTML object>"
      ]
     },
     "metadata": {},
     "output_type": "display_data"
    }
   ],
   "source": [
    "%%HTML\n",
    "    \n",
    "<!-- reveal.js CSS theme and local overrides -->\n",
    "<link rel=\"stylesheet\" href=\"https://fonts.googleapis.com/css?family=Open+Sans:300,400,600,700&amp;lang=en\"/>\n",
    "<link rel=\"stylesheet\" href=\"https://fonts.googleapis.com/css?family=Merriweather:italic&amp;lang=en\"/>\n",
    "<link rel=\"stylesheet\" href=\"stylefiles/presentation.css\"/> "
   ]
  },
  {
   "cell_type": "markdown",
   "id": "f198536f",
   "metadata": {
    "slideshow": {
     "slide_type": "slide"
    }
   },
   "source": [
    "<section id=\"title-slide\"> \n",
    "    <br><br><br><h1><i>Module 1-3: Flavors of Persistence</i></h1>\n",
    "    <h3><i>Subtitle</i></h3>\n",
    "    <br><br>\n",
    "    <h4><i>5/15/2023</i></h4>\n",
    "    <br><br>\n",
    "    <div id='title-slide' class=\"pull-right\"><img id=\"logo\" src=\"figures/msu_seal.png\" width=\"100%\" height=\"100%\"></div>\n",
    "    <div class=\"uu_title_container\">\n",
    "        <smaller>\n",
    "        <div>\n",
    "            <b>Presented by:</b> Your Name\n",
    "            <br><br><br><br>\n",
    "            <b>Topological Signal Processing for Dynamical Systems</b><br>\n",
    "            SIAM-DS Minitutorial 2023\n",
    "        </div>  \n",
    "        </smaller>\n",
    "    </div><br>\n",
    "    <div class='footer'>\n",
    "        Michigan State University\n",
    "    </div>\n",
    "</section>"
   ]
  },
  {
   "cell_type": "markdown",
   "id": "eaee8f1d",
   "metadata": {
    "slideshow": {
     "slide_type": "slide"
    }
   },
   "source": [
    "# Big picture intro slide "
   ]
  },
  {
   "cell_type": "markdown",
   "id": "6cbd941c",
   "metadata": {
    "slideshow": {
     "slide_type": "subslide"
    }
   },
   "source": [
    "## Goals of this module\n",
    "\n",
    "- Define filtrations based on a simplicial map\n",
    "- Define Rips complex filtrations from a point cloud \n",
    "- Define Cubical complex filtrations from a matrix/image\n"
   ]
  },
  {
   "cell_type": "markdown",
   "id": "bbb5ff33",
   "metadata": {
    "slideshow": {
     "slide_type": "slide"
    }
   },
   "source": [
    "# Filtrations from functions\n"
   ]
  },
  {
   "cell_type": "markdown",
   "id": "9dd55053",
   "metadata": {
    "slideshow": {
     "slide_type": "fragment"
    }
   },
   "source": [
    "<div class = 'row'>\n",
    "<div class = 'column'>\n",
    "\n",
    "## Definition\n",
    "\n",
    "A simplex-wise filtration $f:K \\to \\mathbb{R}$ is called monotone if: \n",
    "- for every $\\tau \\leq \\sigma$, $f(\\tau) \\leq f(\\sigma)$.\n",
    "    \n",
    "\n",
    "    \n",
    "\n",
    "   \n",
    "</div>\n",
    "<div class = 'column'>\n",
    "    \n",
    "## Example\n",
    "    \n",
    "<img src = 'figures/1-1_ExFiltration-Function.png' width = 40% height = 'auto'>\n",
    "\n",
    "<img src = 'figures/1-1_ExFiltration-NoCycles.png'>\n",
    "    \n",
    "\n",
    "    \n",
    "    \n",
    "</div>\n",
    "</div>"
   ]
  },
  {
   "cell_type": "markdown",
   "id": "d219479c",
   "metadata": {
    "slideshow": {
     "slide_type": "slide"
    }
   },
   "source": [
    "# Rips Complex\n",
    "<div class = 'row'>\n",
    "<div class = 'column'>\n",
    "\n",
    "## Definition\n",
    "\n",
    "Given an input point cloud $\\chi \\subseteq \\mathbb{R}^d$\n",
    "    \n",
    "Define a function on the complete simplicial complex $K$ with vertex set $V \\simeq \\chi$:\n",
    "    \n",
    "- *Vertices:* $f(v) = 0$\n",
    "- *Edges:* $f(uv) = \\|u-v\\|$ for the endpoints representing points in the point cloud \n",
    "- *Everything else:* $f(\\sigma) = \\max\\{ f(uv) \\mid uv \\leq \\sigma \\}$\n",
    "    \n",
    "*Note: point cloud in $\\mathbb{R}^d$ isn't required.... only need to have pairwise distance information*\n",
    "   \n",
    "</div>\n",
    "<div class = 'column'>\n",
    "    \n",
    "## Example\n",
    "    \n",
    "<img src = 'figures/EmbeddingDisksExample.png' width = 80% height = 'auto'>\n",
    "\n",
    "    \n",
    "\n",
    "    \n",
    "    \n",
    "</div>\n",
    "</div>"
   ]
  },
  {
   "cell_type": "markdown",
   "id": "71fa50e1",
   "metadata": {
    "slideshow": {
     "slide_type": "slide"
    }
   },
   "source": [
    "# Cubical Persistence"
   ]
  },
  {
   "cell_type": "markdown",
   "id": "1322cb03",
   "metadata": {
    "slideshow": {
     "slide_type": "subslide"
    }
   },
   "source": [
    "# Sunia's stuff goes here"
   ]
  },
  {
   "cell_type": "markdown",
   "id": "f4a7d32f",
   "metadata": {},
   "source": []
  },
  {
   "cell_type": "markdown",
   "id": "33adbae3",
   "metadata": {},
   "source": []
  },
  {
   "cell_type": "markdown",
   "id": "a68ab2f7",
   "metadata": {},
   "source": []
  },
  {
   "cell_type": "markdown",
   "id": "fe7cf5df",
   "metadata": {},
   "source": []
  },
  {
   "cell_type": "markdown",
   "id": "e5d528c3",
   "metadata": {
    "slideshow": {
     "slide_type": "slide"
    }
   },
   "source": [
    "# A slide that makes it clear that they're about to start doing examples"
   ]
  }
 ],
 "metadata": {
  "celltoolbar": "Slideshow",
  "kernelspec": {
   "display_name": "Python 3 (ipykernel)",
   "language": "python",
   "name": "python3"
  },
  "language_info": {
   "codemirror_mode": {
    "name": "ipython",
    "version": 3
   },
   "file_extension": ".py",
   "mimetype": "text/x-python",
   "name": "python",
   "nbconvert_exporter": "python",
   "pygments_lexer": "ipython3",
   "version": "3.9.7"
  }
 },
 "nbformat": 4,
 "nbformat_minor": 5
}
