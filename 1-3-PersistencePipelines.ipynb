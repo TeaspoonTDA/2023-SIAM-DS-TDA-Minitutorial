{
 "cells": [
  {
   "cell_type": "code",
   "execution_count": 1,
   "id": "9843489e",
   "metadata": {
    "slideshow": {
     "slide_type": "skip"
    }
   },
   "outputs": [
    {
     "data": {
      "text/html": [
       "    \n",
       "<!-- reveal.js CSS theme and local overrides -->\n",
       "<link rel=\"stylesheet\" href=\"https://fonts.googleapis.com/css?family=Open+Sans:300,400,600,700&amp;lang=en\"/>\n",
       "<link rel=\"stylesheet\" href=\"https://fonts.googleapis.com/css?family=Merriweather:italic&amp;lang=en\"/>\n",
       "<link rel=\"stylesheet\" href=\"stylefiles/presentation.css\"/> \n"
      ],
      "text/plain": [
       "<IPython.core.display.HTML object>"
      ]
     },
     "metadata": {},
     "output_type": "display_data"
    }
   ],
   "source": [
    "%%HTML\n",
    "    \n",
    "<!-- reveal.js CSS theme and local overrides -->\n",
    "<link rel=\"stylesheet\" href=\"https://fonts.googleapis.com/css?family=Open+Sans:300,400,600,700&amp;lang=en\"/>\n",
    "<link rel=\"stylesheet\" href=\"https://fonts.googleapis.com/css?family=Merriweather:italic&amp;lang=en\"/>\n",
    "<link rel=\"stylesheet\" href=\"stylefiles/presentation.css\"/> "
   ]
  },
  {
   "cell_type": "markdown",
   "id": "f198536f",
   "metadata": {
    "slideshow": {
     "slide_type": "slide"
    }
   },
   "source": [
    "<section id=\"title-slide\"> \n",
    "    <br><br><br><h1><i>Flavors of Persistence: Rips and Cubical</i></h1>\n",
    "    <h3><i>Module 1-3 </i></h3>\n",
    "    <br><br>\n",
    "    <h4><i>5/15/2023</i></h4>\n",
    "    <br><br>\n",
    "    <div class=\"uu_title_container\">\n",
    "        <smaller>\n",
    "        <div>\n",
    "            <b>Presented by:</b> Firas Khasawneh\n",
    "            <br><br><br><br>\n",
    "            <b>Topological Signal Processing for Dynamical Systems</b><br>\n",
    "            SIAM-DS Minitutorial 2023\n",
    "        </div>  \n",
    "        </smaller>\n",
    "    </div><br>\n",
    "    <div class='footer'>\n",
    "        Michigan State University\n",
    "    </div>\n",
    "</section>"
   ]
  },
  {
   "cell_type": "markdown",
   "id": "507b69de",
   "metadata": {
    "slideshow": {
     "slide_type": "slide"
    }
   },
   "source": [
    "\n",
    "<div class = 'row'>\n",
    "\n",
    "# Visual Abstract     \n",
    "    \n",
    "<img src = 'figures/big_picture.png' width = 80% height = auto>\n",
    "    \n",
    "</div>"
   ]
  },
  {
   "cell_type": "markdown",
   "id": "6cbd941c",
   "metadata": {
    "slideshow": {
     "slide_type": "subslide"
    }
   },
   "source": [
    "## Goals of this module\n",
    "\n",
    "- Define filtrations based on a simplicial map\n",
    "- Define Rips complex filtrations from a point cloud \n",
    "- Define Cubical complex filtrations from a matrix/image\n"
   ]
  },
  {
   "cell_type": "markdown",
   "id": "bbb5ff33",
   "metadata": {
    "slideshow": {
     "slide_type": "slide"
    }
   },
   "source": [
    "# Filtrations from functions\n"
   ]
  },
  {
   "cell_type": "markdown",
   "id": "9dd55053",
   "metadata": {
    "slideshow": {
     "slide_type": "subslide"
    }
   },
   "source": [
    "# Monotone Functions\n",
    "\n",
    "<div class = 'row'>\n",
    "<div class = 'column30'>\n",
    "\n",
    "## Definition\n",
    "\n",
    "A simplex-wise filtration $f:K \\to \\mathbb{R}$ is called monotone if: \n",
    "\n",
    "for every $\\tau \\leq \\sigma$, $f(\\tau) \\leq f(\\sigma)$.\n",
    "\n",
    "## Filtration\n",
    "    \n",
    "Define $K_a = \\{ \\sigma \\in K \\mid f(\\sigma) \\leq a\\}$.\n",
    "\n",
    "      \n",
    "</div>\n",
    "<div class = 'column60'>\n",
    "    \n",
    "## Example\n",
    "    \n",
    "<img src = 'figures/1-1_ExFiltration-Function.png' width = 40% height = 'auto'>\n",
    "\n",
    "<img src = 'figures/1-1_ExFiltration-NoCycles.png'>\n",
    "    \n",
    "\n",
    "    \n",
    "    \n",
    "</div>\n",
    "</div>"
   ]
  },
  {
   "cell_type": "markdown",
   "id": "d182af20",
   "metadata": {
    "slideshow": {
     "slide_type": "notes"
    }
   },
   "source": [
    "A simplex-wise filtration is called monotone if tau is a face of sigma, then the function value of tau is less than or equal to sigma. For example, the triangle on the left has function value 8, and all three of its edges have function value less than 8. \n",
    "\n",
    "This function induces a filtration by setting $K_a$ to be the simplicies with function value at most $a$. For example, $K_2$ includes all of the edges around the outer border. \n",
    "\n",
    "We're going to look at two different filtrations that can be built from two types of input data. "
   ]
  },
  {
   "cell_type": "markdown",
   "id": "20309bcc",
   "metadata": {
    "slideshow": {
     "slide_type": "slide"
    }
   },
   "source": [
    "# Input data: Point cloud"
   ]
  },
  {
   "cell_type": "markdown",
   "id": "d219479c",
   "metadata": {
    "slideshow": {
     "slide_type": "subslide"
    }
   },
   "source": [
    "# Rips Complex\n",
    "<div class = 'row'>\n",
    "<div class = 'column'>\n",
    "\n",
    "## Definition\n",
    "\n",
    "Given an input point cloud $\\chi \\subseteq \\mathbb{R}^d$\n",
    "    \n",
    "Define a function on the complete simplicial complex $K$ with vertex set $V \\simeq \\chi$:\n",
    "    \n",
    "- *Vertices:* $f(v) = 0$\n",
    "- *Edges:* $f(uv) = \\|u-v\\|$ for the endpoints representing points in the point cloud \n",
    "- *Everything else:* $f(\\sigma) = \\max\\{ f(uv) \\mid uv \\leq \\sigma \\}$\n",
    "    \n",
    "*Note: point cloud in $\\mathbb{R}^d$ isn't required.... only need to have pairwise distance information*\n",
    "   \n",
    "</div>\n",
    "<div class = 'column'>\n",
    "    \n",
    "## Example\n",
    "    \n",
    "<img src = 'figures/pt_cloud_filtration.gif' width = 150% height = 'auto'>\n",
    "\n",
    "   \n",
    "</div>\n",
    "</div>"
   ]
  },
  {
   "cell_type": "markdown",
   "id": "088492fd",
   "metadata": {
    "slideshow": {
     "slide_type": "notes"
    }
   },
   "source": [
    "The first one is point cloud data. We will define a function on the complete simplicial complex, which means the complex which has every possible simplex included. \n",
    "\n",
    "Given an input point cloud $\\chi$ subset of $\\mathbb{R}^d$, we have one vertex for each point in the point cloud, and we define the function value to be zero for every vertex. The function value on each edge is defined to be the distance between the vertex points. For higher-dimensional vertices, we set the function value to be the maximum of its included edges. \n",
    "\n",
    "Consider the example on the right. Here we have a point cloud embedded in $\\mathbb{R}^2$. As we increase the connectivitiy parameter, our filtration adds more and more edges. We can track when a circular structure appears in the persistence diagram because we can see a hole up here born around 0.2, and dies around 0.5. The farther the point from the diagonal, the larger the structure that is being measured. \n",
    "\n",
    "Note that the point cloud assumption is not required, we only need a collection of data pionts with distance information. "
   ]
  },
  {
   "cell_type": "markdown",
   "id": "e92e4af0",
   "metadata": {
    "slideshow": {
     "slide_type": "slide"
    }
   },
   "source": [
    "# Input data: Matrix"
   ]
  },
  {
   "cell_type": "markdown",
   "id": "71fa50e1",
   "metadata": {
    "slideshow": {
     "slide_type": "subslide"
    }
   },
   "source": [
    "# Cubical Complex\n",
    "\n",
    "## Definition\n",
    "An elementary interval is a unit interval $[k, k+1]$ or a degenerate interval $[k, k]$. For a $d$-dimensional space, a cube is a product of $d$ elementary intervals. The number of non-degenerate intervals in such a product is the dimension of this cube, defined as follows:\n",
    "\n",
    "<center><img src = 'figures/Cubical/cubical_blocks1.png' width = 60% height = 'auto'></center>"
   ]
  },
  {
   "cell_type": "markdown",
   "id": "c909b86f",
   "metadata": {
    "slideshow": {
     "slide_type": "notes"
    }
   },
   "source": [
    "Now we have a different type of input data, often arising in the case of images. Similar to a simplicial complex, a cubical complex is built from smaller combinatorial blocks. We still have vertices and edges, but higher dimensional structures are built from squares and cubes. \n",
    "\n",
    "Like with simplicies, the cubes have dimension where 0-cube is a vertex, the 1-cube is an edge, 2-cube is a square, etc. "
   ]
  },
  {
   "cell_type": "markdown",
   "id": "2d2379a4",
   "metadata": {
    "slideshow": {
     "slide_type": "subslide"
    }
   },
   "source": [
    "## Dimension $d$\n",
    "\n",
    "A cubical complex of dimension $d$ is a collection of cubes of dimension at most $d$."
   ]
  },
  {
   "cell_type": "markdown",
   "id": "fd7a9376",
   "metadata": {
    "slideshow": {
     "slide_type": "fragment"
    }
   },
   "source": [
    "<table>\n",
    "    <tr>\n",
    "        <td><h4>For 1D (time series) data, the cubical complex would be a collection of $0$- and $1$-cubes.</h4></td>\n",
    "        <td><h4>For 2D (image) data, the cubical complex would be a collection of $0$-, $1$- and $2$-cubes.</h4></td>\n",
    "        <td><h4>For 3D (volume) data, the cubical complex would be a collection of $0$-, $1$-, $2$- and $3$-cubes.</h4></td>\n",
    "    </tr>\n",
    "    <tr>\n",
    "        <td><a href=\"#\" class=\"image\"><img src=\"figures/Cubical/OneD.png\" width = 60% height = 'auto' padding=\"50px;50px;50px;50px\"/></a></td>\n",
    "        <td><a href=\"#\" class=\"image\"><img src=\"figures/Cubical/TwoD.png\" width = 60% height = 'auto' padding=\"50px;50px;50px;50px\"/></a></td>\n",
    "        <td><a href=\"#\" class=\"image\"><img src=\"figures/Cubical/ThreeD.png\" width = 60% height = 'auto' padding=\"50px;50px;50px;50px\"/></a></td>\n",
    "    </tr>\n",
    "</table>"
   ]
  },
  {
   "cell_type": "markdown",
   "id": "ebbdb6d5",
   "metadata": {
    "slideshow": {
     "slide_type": "notes"
    }
   },
   "source": [
    "Here, we focus only on 2D (image) data. "
   ]
  },
  {
   "cell_type": "markdown",
   "id": "8613ce4c",
   "metadata": {
    "slideshow": {
     "slide_type": "subslide"
    }
   },
   "source": [
    "# Cubical Complex Formulation\n",
    "\n",
    "Two possible ways to construct a cubical complex from images:"
   ]
  },
  {
   "cell_type": "markdown",
   "id": "38b3e611",
   "metadata": {
    "slideshow": {
     "slide_type": "fragment"
    }
   },
   "source": [
    "<table>\n",
    "<tr>\n",
    "    <th><center><h3>Assign function value to vertices</h3></center></th>\n",
    "    <th><center><h3>Assign function value to faces<br> (We use this one)</h3></center></th>\n",
    "</tr>\n",
    "\n",
    "<tr>\n",
    "    <th><center><img src = 'figures/Cubical/cubical_type2.png' width = 300px:300px height = 300px:300px></center></th>\n",
    "    <th><center><img src = 'figures/Cubical/cubical_type1.png' width = 300px:300px height = 300px:300px></center></th>\n",
    "</tr>\n",
    "\n",
    "<tr>\n",
    "    <th>\n",
    "        <h4>\n",
    "        $$f(\\mathrm{vertex}_{ij}) = M[i,j]$$</h4>\n",
    "    </th>\n",
    "    <th><h4>$$f(\\mathrm{square}_{ij}) = M[i,j]$$</h4></th>\n",
    "</tr>\n",
    "<tr>\n",
    "    <th>\n",
    "        <h4>\n",
    "        higher dimensional cells have function value maximum of all vertices.</h4>\n",
    "    </th>\n",
    "    <th><h4>\n",
    "        lower dimensional cells have function value minimum of all squares</h4></th>\n",
    "</tr>\n",
    "\n",
    "</table>\n",
    "\n"
   ]
  },
  {
   "cell_type": "markdown",
   "id": "e702d001",
   "metadata": {
    "slideshow": {
     "slide_type": "notes"
    }
   },
   "source": [
    "We can assign the pixel value to the vertices, then neighboring higher dimensional simplicies are added after their last vertex is included. \n",
    "\n",
    "Alternatively, we can assign the pixel values to the squares, and include lower dimensional edges and vertices as soon as they are necessary. This is the version we will use here."
   ]
  },
  {
   "cell_type": "markdown",
   "id": "df1bc01a",
   "metadata": {
    "slideshow": {
     "slide_type": "slide"
    }
   },
   "source": [
    "# Example Filtration\n",
    "\n",
    "<center><img src = 'figures/Cubical/Cubical_Sublevel.png' width = 70% height = 'auto'></center>"
   ]
  },
  {
   "cell_type": "markdown",
   "id": "7b12be24",
   "metadata": {
    "slideshow": {
     "slide_type": "notes"
    }
   },
   "source": [
    "Let's look at an example. Here we have 7 by 7 grid with pixel values shown on the squares. We see a loop structure that is born at function value 1, which persists until it dies at function value 5. You can see this information in the persistence diagram where we have this point born at 1 and dies at 5. \n",
    "\n",
    "We also see another connected component born at time 2, which merges with earlier connected component at time 5. This information is represented using this other point which was born at 2 and died at 5. "
   ]
  },
  {
   "cell_type": "markdown",
   "id": "55aaa9b0",
   "metadata": {
    "slideshow": {
     "slide_type": "subslide"
    }
   },
   "source": [
    "# Another Example\n",
    "\n",
    "\n",
    "<div class = 'row'>\n",
    "<div class = 'column30'>\n",
    "<center><img src = 'figures/Cubical/Density.png' width = 100% height = 'auto'></center>\n",
    "      \n",
    "</div>\n",
    "<div class = 'column60'>\n",
    "    \n",
    " ![](figures/Cubical/Sublevel.gif)\n",
    "    \n",
    "    \n",
    "</div>\n",
    "</div>\n",
    "\n",
    "\n",
    "\n",
    "\n"
   ]
  },
  {
   "cell_type": "markdown",
   "id": "c88e252d",
   "metadata": {
    "slideshow": {
     "slide_type": "notes"
    }
   },
   "source": [
    "As another example, we have a volcano-like function on the left. On the right you can see the pixels with function value below the current threshold colored in black. As the function value increases, we see a loop to begin. At approximately function value  0.4, a connected component is born in the middle. Then, a second loop is born when the bigger loop pinches off at approximately 1, but it fills up quickly. Finally the bigger loop fills in at the maximum function value, and the two components merge. \n",
    "\n",
    "This information is summarized in the persistence diagram."
   ]
  },
  {
   "cell_type": "markdown",
   "id": "1a3efe5b",
   "metadata": {
    "slideshow": {
     "slide_type": "slide"
    }
   },
   "source": [
    "# _You try it_\n",
    "\n",
    "<div class = 'row'>\n",
    "<div class = 'column'>\n",
    "\n",
    "\n",
    "- Open the [1-3 Worksheet notebook](1-3-Wkst-PersistencePipelines.ipynb) and get started!\n",
    "- The notebook has practice problems for sublevel persistence\n",
    "- Answers are included but either hidden or found by running a cell\n",
    "- We'll start the next module in 10-15 minutes!\n",
    "- Make sure to download your work as you go!  We won't be able to share any specific files after the conference.\n",
    "<br>\n",
    "   \n",
    "</div>\n",
    "<div class = 'column'>\n",
    "    \n",
    "<img src = 'figures/wkst-1-3.jpg' width = 85% height = 'auto' >\n",
    "\n",
    "</div>\n",
    "</div>\n"
   ]
  }
 ],
 "metadata": {
  "celltoolbar": "Slideshow",
  "kernelspec": {
   "display_name": "Python 3",
   "language": "python",
   "name": "python3"
  },
  "language_info": {
   "codemirror_mode": {
    "name": "ipython",
    "version": 3
   },
   "file_extension": ".py",
   "mimetype": "text/x-python",
   "name": "python",
   "nbconvert_exporter": "python",
   "pygments_lexer": "ipython3",
   "version": "3.8.8"
  }
 },
 "nbformat": 4,
 "nbformat_minor": 5
}
