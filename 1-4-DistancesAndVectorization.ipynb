{
 "cells": [
  {
   "cell_type": "code",
   "execution_count": 6,
   "id": "9843489e",
   "metadata": {
    "slideshow": {
     "slide_type": "skip"
    }
   },
   "outputs": [
    {
     "data": {
      "text/html": [
       "    \n",
       "<!-- reveal.js CSS theme and local overrides -->\n",
       "<link rel=\"stylesheet\" href=\"https://fonts.googleapis.com/css?family=Open+Sans:300,400,600,700&amp;lang=en\"/>\n",
       "<link rel=\"stylesheet\" href=\"https://fonts.googleapis.com/css?family=Merriweather:italic&amp;lang=en\"/>\n",
       "<link rel=\"stylesheet\" href=\"stylefiles/presentation.css\"/> \n"
      ],
      "text/plain": [
       "<IPython.core.display.HTML object>"
      ]
     },
     "metadata": {},
     "output_type": "display_data"
    }
   ],
   "source": [
    "%%HTML\n",
    "    \n",
    "<!-- reveal.js CSS theme and local overrides -->\n",
    "<link rel=\"stylesheet\" href=\"https://fonts.googleapis.com/css?family=Open+Sans:300,400,600,700&amp;lang=en\"/>\n",
    "<link rel=\"stylesheet\" href=\"https://fonts.googleapis.com/css?family=Merriweather:italic&amp;lang=en\"/>\n",
    "<link rel=\"stylesheet\" href=\"stylefiles/presentation.css\"/> "
   ]
  },
  {
   "cell_type": "markdown",
   "id": "f198536f",
   "metadata": {
    "slideshow": {
     "slide_type": "slide"
    }
   },
   "source": [
    "<section id=\"title-slide\"> \n",
    "    <br><br><br><h1><i>Module 1-4: Distances and Vectorization</i></h1>\n",
    "    <h3><i>Subtitle</i></h3>\n",
    "    <br><br>\n",
    "    <h4><i>5/15/2023</i></h4>\n",
    "    <br><br>\n",
    "    <div class=\"uu_title_container\">\n",
    "        <smaller>\n",
    "        <div>\n",
    "            <b>Presented by:</b> Your Name\n",
    "            <br><br><br><br>\n",
    "            <b>Topological Signal Processing for Dynamical Systems</b><br>\n",
    "            SIAM-DS Minitutorial 2023\n",
    "        </div>  \n",
    "        </smaller>\n",
    "    </div><br>\n",
    "    <div class='footer'>\n",
    "        Michigan State University\n",
    "    </div>\n",
    "</section>"
   ]
  },
  {
   "cell_type": "markdown",
   "id": "eaee8f1d",
   "metadata": {
    "slideshow": {
     "slide_type": "slide"
    }
   },
   "source": [
    "# Big picture intro slide "
   ]
  },
  {
   "cell_type": "markdown",
   "id": "6cbd941c",
   "metadata": {
    "slideshow": {
     "slide_type": "subslide"
    }
   },
   "source": [
    "## Goals of this module\n",
    "\n",
    "- Define the Bottleneck and Wasserstein Distances for persistence diagrams \n",
    "- Give some examples of vectorization of persistence diagrams for use in machine learning applications \n"
   ]
  },
  {
   "cell_type": "markdown",
   "id": "bbb5ff33",
   "metadata": {
    "slideshow": {
     "slide_type": "slide"
    }
   },
   "source": [
    "# Distances for Persistence Diagrams\n"
   ]
  },
  {
   "cell_type": "markdown",
   "id": "fd0c3ab2",
   "metadata": {
    "slideshow": {
     "slide_type": "subslide"
    }
   },
   "source": [
    "# Matchings\n",
    "\n",
    "\n",
    "\n",
    "\n",
    "<div class = 'row'>\n",
    "<div class = 'column'>\n",
    "\n",
    "## Definition \n",
    "\n",
    "- A *(partial) matching* between two diagrams $\\varphi:D_1 \\rightsquigarrow D_2$ is a bijection on a subset of the off diagonal points: \n",
    "$$\n",
    "\\begin{matrix}\n",
    "\\varphi: & S_1 & \\longrightarrow & S_2 \n",
    "\\end{matrix}\n",
    "$$     \n",
    "where $S_1 \\subseteq D_1$ and $S_2 \\subseteq D_2$.\n",
    "    \n",
    "- A matching defines two types of points:\n",
    "  - Matched points: \n",
    "    $$S_1 \\cup S_2$$\n",
    "  - Unmatched points:\n",
    "    $$\\left(D_1 \\setminus S_1\\right) \\cup \\left(D_2 \\setminus S_2\\right)$$\n",
    "\n",
    "- Unmatched points can be viewed as being matched to the diagonal $\\Delta = \\{ (x,x) \\mid x \\in \\mathbb{R}\\}$.\n",
    "   \n",
    "</div>\n",
    "<div class = 'column'>\n",
    "    \n",
    "## Example\n",
    "    \n",
    "<!--      -->\n",
    "    \n",
    "<div class = 'row'>\n",
    "<div class = 'column'>\n",
    "\n",
    "<img src = 'figures/PersistenceDiagram-WassComputation-Bad.png' width = 80% height = auto>\n",
    "\n",
    "- Matched: $(x,c)$, $(y,d)$\n",
    "- Unmatched blue: $z$\n",
    "- Unmatched purple: $a$, $b$\n",
    "</div>\n",
    "<div class = 'column'>\n",
    "\n",
    "<img src = 'figures/PersistenceDiagram-WassComputation-Good.png' width = 80% height = auto>\n",
    " \n",
    "- Matched: $(x,b)$, $(y,c)$\n",
    "- Unmatched blue: $z$\n",
    "- Unmatched purple: $a$, $d$   \n",
    "</div>\n",
    "</div>\n",
    "<!--      -->\n",
    "    \n",
    "</div>\n",
    "</div>"
   ]
  },
  {
   "cell_type": "markdown",
   "id": "ca962fe6",
   "metadata": {
    "slideshow": {
     "slide_type": "subslide"
    }
   },
   "source": [
    "## Scoring a matching\n",
    "\n",
    "\n",
    "<div class = 'row'>\n",
    "<div class = 'column'>\n",
    "\n",
    "## Definition \n",
    "\n",
    "Given a matching $\\varphi:D_1 \\rightsquigarrow D_2$, we have the distance between a point and its match: \n",
    "- For matched points: \n",
    "    $$\\{ \\|p - \\varphi(p)\\|_\\infty \\mid  p \\in S_1\\}$$\n",
    "- For unmatched points: \n",
    "    $$\\left\\{ \\tfrac{1}{2}(p_2-p_1) \\mid  p = (p_1,p_2) \\in \\left(D_1 \\setminus S_1\\right) \\cup \\left(D_2 \\setminus S_2\\right)\\right\\}$$\n",
    "    *Note that the score for unmatched points can be viewed as the distance to the closest point on the diagonal $\\|p - \\Delta\\|_\\infty$*\n",
    "    \n",
    "Then the score of a given matching  is defined as \n",
    "\\begin{align}\n",
    "\\mathrm{Score}_\\infty(\\varphi) = \\max & \\left \\{ \\|p - \\varphi(p)\\|_\\infty \\mid  p \\in S_1 \\right\\}\\\\ \n",
    "        &\\cup \\left\\{\\|p - \\Delta\\|_\\infty \\mid  p \\in \\left(D_1 \\setminus S_1\\right) \\cup \\left(D_2 \\setminus S_2\\right)\\right\\} \n",
    "\\end{align}\n",
    "\n",
    "\n",
    "\n",
    "\n",
    "\n",
    "   \n",
    "</div>\n",
    "<div class = 'column'>\n",
    "    \n",
    "## Example\n",
    "    \n",
    "<!--      -->\n",
    "    \n",
    "<div class = 'row'>\n",
    "<div class = 'column'>\n",
    "\n",
    "<img src = 'figures/PersistenceDiagram-WassComputation-Bad.png' width = 80% height = auto>\n",
    "\n",
    "<!-- - Matched: $(x,c)$, $(y,d)$\n",
    "- Unmatched blue: $z$\n",
    "- Unmatched purple: $a$, $b$ -->\n",
    "- **${\\mathrm{Score}_\\infty(\\varphi)= \\|x-c\\|_\\infty}$**\n",
    "</div>\n",
    "<div class = 'column'>\n",
    "\n",
    "<img src = 'figures/PersistenceDiagram-WassComputation-Good.png' width = 80% height = auto>\n",
    " \n",
    "<!-- - Matched: $(x,b)$, $(y,c)$\n",
    "- Unmatched blue: $z$\n",
    "- Unmatched purple: $a$, $d$    -->\n",
    "- **$\\mathrm{Score}_\\infty(\\varphi)= \\|y-c\\|_\\infty$**\n",
    "</div>\n",
    "</div>\n",
    "<!--      -->\n",
    "    \n",
    "</div>\n",
    "</div>\n"
   ]
  },
  {
   "cell_type": "markdown",
   "id": "519a4540",
   "metadata": {
    "slideshow": {
     "slide_type": "subslide"
    }
   },
   "source": [
    "## Bottleneck Distance \n",
    "\n",
    "\n",
    "<div class = 'row'>\n",
    "<div class = 'column'>\n",
    "\n",
    "## Definition \n",
    "\n",
    "\n",
    "\n",
    "\n",
    "The bottleneck distance between two given diagrams is \n",
    "    $$d_B(D_1,D_2) = \\inf_ {\\varphi:D_1 \\rightsquigarrow D_2} \\left(\\mathrm{Score}_\\infty (\\varphi)\\right)$$\n",
    "\n",
    "\n",
    "   \n",
    "</div>\n",
    "<div class = 'column'>\n",
    "    \n",
    "## Example\n",
    "    \n",
    "<!--      -->\n",
    "    \n",
    "<div class = 'row'>\n",
    "<div class = 'column'>\n",
    "\n",
    "<img src = 'figures/PersistenceDiagram-WassComputation-Bad.png' width = 80% height = auto>\n",
    "\n",
    "\n",
    "</div>\n",
    "<div class = 'column'>\n",
    "\n",
    "<img src = 'figures/PersistenceDiagram-WassComputation-Good.png' width = 80% height = auto>\n",
    " \n",
    "This matching has a lower score than the one at left.\n",
    "</div>\n",
    "</div>\n",
    "<!--      -->\n",
    "    \n",
    "</div>\n",
    "</div>\n"
   ]
  },
  {
   "cell_type": "markdown",
   "id": "b0370c32",
   "metadata": {
    "slideshow": {
     "slide_type": "subslide"
    }
   },
   "source": [
    "# Stability\n",
    "\n",
    "\n",
    "<div class = 'row'>\n",
    "<div class = 'column'>\n",
    "\n",
    "\n",
    "## Theorem (Cohen-Steiner *et al.* 2007)\n",
    "    \n",
    "Let $\\mathbb{X}$ be a triangulable space with continuous tame functions $f,g: \\mathbb{X} \\to \\mathbb{R}$. Then the persistcence diagrams $D(f)$ and $D(g)$ satisfy \n",
    "    $$\n",
    "    d_B(D(f),D(g)) \\leq \\|f-g\\|_\\infty.\n",
    "    $$\n",
    "\n",
    "## Why do we care? \n",
    "    \n",
    "- Small noise perturbation results in small $\\|f-g\\|_\\infty$ results in small bottleneck distance.\n",
    "- Similar input data results in similar persistence diagram representations.\n",
    "   \n",
    "</div>\n",
    "<div class = 'column'>\n",
    "    \n",
    "## Example\n",
    "\n",
    "![](figures/persistence_stability.gif)\n",
    "    \n",
    "</div>\n",
    "</div>"
   ]
  },
  {
   "cell_type": "markdown",
   "id": "052adad3",
   "metadata": {
    "slideshow": {
     "slide_type": "subslide"
    }
   },
   "source": [
    "## Wasserstein Distance \n",
    "\n",
    "\n",
    "<div class = 'row'>\n",
    "<div class = 'column'>\n",
    "\n",
    "## Definition \n",
    "\n",
    "Given a matching $\\varphi:D_1 \\rightsquigarrow D_2$, the $q$-th Wasserstein score $\\mathrm{Score}_q(\\varphi)$ is defined as using the following scores for each individual point\n",
    "- For matched points: \n",
    "    $$\\{ \\|p - \\varphi(p)\\|_q \\mid  p \\in S_1\\}$$\n",
    "- For unmatched points: \n",
    "    $$\\left\\{ \\|p - \\Delta \\|_q \\mid  p = (p_1,p_2) \\in \\left(D_1 \\setminus S_1\\right) \\cup \\left(D_2 \\setminus S_2\\right)\\right\\}$$\n",
    "    \n",
    "The score of a matching is \n",
    "$$\n",
    " \\mathrm{Score}_q(\\varphi) = \\left(\\sum_{p \\in S_1} \\|p - \\varphi(p)\\|_q^q + \\sum_{p \\in U } \\|p - \\Delta\\|_q^q \\right)^{1/q}\n",
    "$$\n",
    "where $U = \\left(D_1 \\setminus S_1\\right) \\cup \\left(D_2 \\setminus S_2\\right)$ is the set of unmatched points.\n",
    "    \n",
    "The $q$-th Wasserstein distance between two given diagrams is \n",
    "    $$d_{W_q}(D_1,D_2) = \\inf_ {\\varphi:D_1 \\rightsquigarrow D_2} \\mathrm{Score}_q(\\varphi)$$\n",
    "\n",
    "\n",
    "   \n",
    "</div>\n",
    "<div class = 'column'>\n",
    "    \n",
    "## Example\n",
    "    \n",
    "<!--      -->\n",
    "    \n",
    "<div class = 'row'>\n",
    "<div class = 'column'>\n",
    "\n",
    "<img src = 'figures/PersistenceDiagram-WassComputation-Bad.png' width = 80% height = auto>\n",
    "\n",
    "\n",
    "</div>\n",
    "<div class = 'column'>\n",
    "\n",
    "<img src = 'figures/PersistenceDiagram-WassComputation-Good.png' width = 80% height = auto>\n",
    " \n",
    "This matching still has the lower cost of the two, but now it has contributions from all drawn edges, not just the longest one.\n",
    "</div>\n",
    "</div>\n",
    "<!--      -->\n",
    "    \n",
    "</div>\n",
    "</div>\n"
   ]
  },
  {
   "cell_type": "markdown",
   "id": "42a730e1",
   "metadata": {
    "slideshow": {
     "slide_type": "subslide"
    }
   },
   "source": [
    "## Code example\n",
    "\n",
    "TODO"
   ]
  },
  {
   "cell_type": "code",
   "execution_count": 2,
   "id": "bb4abe14",
   "metadata": {},
   "outputs": [],
   "source": [
    "from ripser import ripser\n",
    "from teaspoon.MakeData.PointCloud import Torus, Annulus, Cube, Clusters, Sphere\n",
    "import numpy as np\n",
    "from teaspoon.TDA.Distance import wassersteinDist, bottleneckDist\n",
    "numPts = 500\n",
    "seed = 0\n",
    "\n",
    "# Generate Torus\n",
    "t = Torus(N=numPts,seed = seed)\n",
    "\n",
    "# Generate Annulus\n",
    "a = Annulus(N=numPts,seed = seed)\n",
    "\n",
    "# Compute persistence diagrams\n",
    "PD1 = ripser(t,2)['dgms'][1]\n",
    "PD2 = ripser(a,1)['dgms'][1]"
   ]
  },
  {
   "cell_type": "markdown",
   "id": "105a7865",
   "metadata": {
    "slideshow": {
     "slide_type": "slide"
    }
   },
   "source": [
    "# Vectorization Methods for Persistence Diagrams\n"
   ]
  },
  {
   "cell_type": "markdown",
   "id": "9006d23d",
   "metadata": {
    "slideshow": {
     "slide_type": "subslide"
    }
   },
   "source": [
    "# Vectorization\n",
    "\n",
    "\n",
    "\n",
    "\n",
    "<div class = 'row'>\n",
    "<div class = 'column'>\n",
    "\n",
    "## Definition \n",
    "\n",
    "- *Vectorization* of persistence diagrams is a mapping from the set of persistence diagrams to $\\mathbb{R}$.\n",
    "\n",
    "- Many methods exist such as:\n",
    "    - Adcock-Carlsson Coordinates\n",
    "    - Template Functions (Tent Functions)\n",
    "    - Persistence Images\n",
    "    - Persistence Landscapes\n",
    "    \n",
    "## Why do we care?\n",
    "    \n",
    "It gives us a way to use information from persistence diagrams in machine learning models.  The mapping from the space of persistence diagrams to real-valued vector(s) creates features that can then be used for prediction of a response variable.\n",
    "    \n",
    "   \n",
    "</div>\n",
    "<div class = 'column'> \n",
    "    \n",
    "## Examples\n",
    "    \n",
    "<div class = 'row'>\n",
    "<div class = 'column'>\n",
    "\n",
    "### Persistence Images\n",
    "<img src = 'figures/1-4_persistence_images.jpg' width = 100% height = auto>\n",
    "\n",
    "\n",
    "</div>\n",
    "    \n",
    "<div class = 'column'>\n",
    "    \n",
    "### Template Functions\n",
    "<img src = 'figures/1-4_template_functions.pdf' width = 100% height = auto>\n",
    "  \n",
    "</div>\n",
    "</div>\n",
    "    \n"
   ]
  },
  {
   "cell_type": "markdown",
   "id": "8c3a4543",
   "metadata": {
    "slideshow": {
     "slide_type": "subslide"
    }
   },
   "source": [
    "# Adcock-Carlsson Coordinates\n",
    "\n",
    "The main idea of Adcock-Carlsson coordinates is from the fact that any persistence diagram with exactly $n$ points can be described by a vector of the form $(x_1, y_1, x_2, y_2, \\dots, x_n, y_n)$ where $x_i$ denotes the birth of the $i$-th class and $y_i$ the corresponding death time. \n",
    "\n",
    "\n",
    "### Definitiion\n",
    "The  subalgebra of  2-multisymmetric functions invariant under adding points with zero persistence,  is freely generated over \n",
    "$\\mathbb{R}$ by the set of elements of the form $\n",
    "    p_{a,b} = \\sum\\limits_{i} (x_i + y_i)^a (y_i - x_i)^b\n",
    "$ for integers $a\\geq 0$ and  $b\\geq 1$.  These are the features we call *Adcock-Carlsson coordinates*.\n",
    "\n",
    "While seemingly complex, some of the most frequently used Adcock-Carlsson Coordinates are simpler and easy to compute:\n",
    "\n",
    "- $\\sum\\limits_i x_i(y_i - x_i)$\n",
    "- $\\sum\\limits_i (y_{max} - y_i)(y_i - x_i)$\n",
    "- $\\sum\\limits_i x_i^2(y_i - x_i)^4$\n",
    "- $\\sum\\limits_i (y_{max} - y_i)^2(y_i - x_i)^4$. "
   ]
  },
  {
   "cell_type": "markdown",
   "id": "56c88cb8",
   "metadata": {
    "slideshow": {
     "slide_type": "subslide"
    }
   },
   "source": [
    "<div class = 'row'>\n",
    "<div class = 'column'>\n",
    "    \n",
    "## Tent Functions\n",
    "\n",
    "In the birth-lifetime plane, and given a point $\\mathbf{x} = (a,b) \\in \\mathbb{W}$ and a discretization scale $ 0 < \\delta <b$, we can define a tent function on $\\mathbb{W}$ by \n",
    "<p style=\"text-align: center;\"> $g_{\\mathbf{x},\\delta}(x,y) = |1 - \\frac{1}{\\delta}$max$\\{|x-a|,|y-b|\\}|_+$</p>\n",
    "\n",
    "where $|r |_+ = \\max\\{0, r\\}$. \n",
    "As $\\delta < b$, this function has support in the compact box $[a - \\delta, a + \\delta] \\times [b - \\delta, b+\\delta] \\subset \n",
    "\\mathbb{W}$.  \n",
    "\n",
    "Given a persistence diagram $D \\in \\mathcal{D}$ in birth-death coordinates, \n",
    "the value of the tent function is  \n",
    "<p style=\"text-align: center;\"> $G_{\\mathbf{x},\\delta}(D) = \n",
    "\\sum_{(x,y) \\in D}   g_{\\mathbf{x},\\delta}(x, y-x)$</p>\n",
    "</div>\n",
    "\n",
    "### Tent Function at point (4,6)\n",
    "    \n",
    "<div class = 'column'>\n",
    "<div class = 'column'>\n",
    "\n",
    "### Tent Functions in Birth-Death Coordinates\n",
    "<img src = 'figures/1-4_img_tent_functions_bd.png' width = 100% height = auto>\n",
    "\n",
    "\n",
    "</div>\n",
    "    \n",
    "<div class = 'column'>\n",
    "    \n",
    "### Tent Functions in Birth-Lifetime Coordinates\n",
    "<img src = 'figures/1-4_img_tent_functions_bl.png' width = 100% height = auto>\n",
    "  \n",
    "</div>\n",
    "</div>\n",
    "\n",
    "\n",
    "</div>\n"
   ]
  },
  {
   "cell_type": "markdown",
   "id": "e86212c0",
   "metadata": {
    "slideshow": {
     "slide_type": "subslide"
    }
   },
   "source": [
    "### Code Example\n",
    "\n",
    "The following code creates features for Adcock-Carlsson Coordinates"
   ]
  },
  {
   "cell_type": "code",
   "execution_count": 5,
   "id": "b68deded",
   "metadata": {
    "slideshow": {
     "slide_type": "fragment"
    }
   },
   "outputs": [],
   "source": [
    "from teaspoon.MakeData.PointCloud import testSetManifolds\n",
    "from teaspoon.ML import feature_functions as Ff\n",
    "\n",
    "# generate persistence diagrams\n",
    "df = testSetManifolds(numDgms=50, numPts=100)\n",
    "Diagrams_H1 = df['Dgm1'].sort_index().values\n",
    "\n",
    "# compute feature matrix\n",
    "FN = 3\n",
    "FeatureMatrix, TotalNumComb, CombList = Ff.F_CCoordinates(Diagrams_H1, FN)"
   ]
  },
  {
   "cell_type": "markdown",
   "id": "ec678ac3",
   "metadata": {
    "slideshow": {
     "slide_type": "fragment"
    }
   },
   "source": [
    "See more examples [here](https://teaspoontda.github.io/teaspoon/F_PD.html), and for interested readers, a comparison of methods is available in the paper [A Comparative Study of Machine Learning Methods for Persistence Diagrams](https://www.frontiersin.org/articles/10.3389/frai.2021.681174/full)"
   ]
  }
 ],
 "metadata": {
  "celltoolbar": "Slideshow",
  "kernelspec": {
   "display_name": "Python 3 (ipykernel)",
   "language": "python",
   "name": "python3"
  },
  "language_info": {
   "codemirror_mode": {
    "name": "ipython",
    "version": 3
   },
   "file_extension": ".py",
   "mimetype": "text/x-python",
   "name": "python",
   "nbconvert_exporter": "python",
   "pygments_lexer": "ipython3",
   "version": "3.9.6"
  }
 },
 "nbformat": 4,
 "nbformat_minor": 5
}
