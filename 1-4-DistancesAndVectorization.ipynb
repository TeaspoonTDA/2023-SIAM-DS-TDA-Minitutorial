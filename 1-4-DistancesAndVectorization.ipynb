{
 "cells": [
  {
   "cell_type": "code",
   "execution_count": 1,
   "id": "9843489e",
   "metadata": {
    "slideshow": {
     "slide_type": "skip"
    }
   },
   "outputs": [
    {
     "data": {
      "text/html": [
       "    \n",
       "<!-- reveal.js CSS theme and local overrides -->\n",
       "<link rel=\"stylesheet\" href=\"https://fonts.googleapis.com/css?family=Open+Sans:300,400,600,700&amp;lang=en\"/>\n",
       "<link rel=\"stylesheet\" href=\"https://fonts.googleapis.com/css?family=Merriweather:italic&amp;lang=en\"/>\n",
       "<link rel=\"stylesheet\" href=\"stylefiles/presentation.css\"/> \n"
      ],
      "text/plain": [
       "<IPython.core.display.HTML object>"
      ]
     },
     "metadata": {},
     "output_type": "display_data"
    }
   ],
   "source": [
    "%%HTML\n",
    "    \n",
    "<!-- reveal.js CSS theme and local overrides -->\n",
    "<link rel=\"stylesheet\" href=\"https://fonts.googleapis.com/css?family=Open+Sans:300,400,600,700&amp;lang=en\"/>\n",
    "<link rel=\"stylesheet\" href=\"https://fonts.googleapis.com/css?family=Merriweather:italic&amp;lang=en\"/>\n",
    "<link rel=\"stylesheet\" href=\"stylefiles/presentation.css\"/> "
   ]
  },
  {
   "cell_type": "markdown",
   "id": "f198536f",
   "metadata": {
    "slideshow": {
     "slide_type": "slide"
    }
   },
   "source": [
    "<section id=\"title-slide\"> \n",
    "    <br><br><br><h1><i>Module 1-4: Distances and Vectorization</i></h1>\n",
    "    <h3><i>Subtitle</i></h3>\n",
    "    <br><br>\n",
    "    <h4><i>5/15/2023</i></h4>\n",
    "    <br><br>\n",
    "    <div class=\"uu_title_container\">\n",
    "        <smaller>\n",
    "        <div>\n",
    "            <b>Presented by:</b> Your Name\n",
    "            <br><br><br><br>\n",
    "            <b>Topological Signal Processing for Dynamical Systems</b><br>\n",
    "            SIAM-DS Minitutorial 2023\n",
    "        </div>  \n",
    "        </smaller>\n",
    "    </div><br>\n",
    "    <div class='footer'>\n",
    "        Michigan State University\n",
    "    </div>\n",
    "</section>"
   ]
  },
  {
   "cell_type": "markdown",
   "id": "eaee8f1d",
   "metadata": {
    "slideshow": {
     "slide_type": "slide"
    }
   },
   "source": [
    "# Big picture intro slide "
   ]
  },
  {
   "cell_type": "markdown",
   "id": "6cbd941c",
   "metadata": {
    "slideshow": {
     "slide_type": "subslide"
    }
   },
   "source": [
    "## Goals of this module\n",
    "\n",
    "- Define the Bottleneck and Wasserstein Distances for persistence diagrams \n",
    "- Give some examples of vectorization of persistence diagrams for use in machine learning applications \n"
   ]
  },
  {
   "cell_type": "markdown",
   "id": "bbb5ff33",
   "metadata": {
    "slideshow": {
     "slide_type": "slide"
    }
   },
   "source": [
    "# Distances for Persistence Diagrams\n"
   ]
  },
  {
   "cell_type": "markdown",
   "id": "fd0c3ab2",
   "metadata": {
    "slideshow": {
     "slide_type": "subslide"
    }
   },
   "source": [
    "# Matchings\n",
    "\n",
    "\n",
    "\n",
    "\n",
    "<div class = 'row'>\n",
    "<div class = 'column'>\n",
    "\n",
    "## Definition \n",
    "\n",
    "- A *(partial) matching* between two diagrams $\\varphi:D_1 \\rightsquigarrow D_2$ is a bijection on a subset of the off diagonal points: \n",
    "$$\n",
    "\\begin{matrix}\n",
    "\\varphi: & S_1 & \\longrightarrow & S_2 \n",
    "\\end{matrix}\n",
    "$$     \n",
    "where $S_1 \\subseteq D_1$ and $S_2 \\subseteq D_2$.\n",
    "    \n",
    "- A matching defines two types of points:\n",
    "  - Matched points: \n",
    "    $$S_1 \\cup S_2$$\n",
    "  - Unmatched points:\n",
    "    $$\\left(D_1 \\setminus S_1\\right) \\cup \\left(D_2 \\setminus S_2\\right)$$\n",
    "\n",
    "- Unmatched points can be viewed as being matched to the diagonal $\\Delta = \\{ (x,x) \\mid x \\in \\mathbb{R}\\}$.\n",
    "   \n",
    "</div>\n",
    "<div class = 'column'>\n",
    "    \n",
    "## Example\n",
    "    \n",
    "<!--      -->\n",
    "    \n",
    "<div class = 'row'>\n",
    "<div class = 'column'>\n",
    "\n",
    "<img src = 'figures/PersistenceDiagram-WassComputation-Bad.png' width = 80% height = auto>\n",
    "\n",
    "- Matched: $(x,c)$, $(y,d)$\n",
    "- Unmatched blue: $z$\n",
    "- Unmatched purple: $a$, $b$\n",
    "</div>\n",
    "<div class = 'column'>\n",
    "\n",
    "<img src = 'figures/PersistenceDiagram-WassComputation-Good.png' width = 80% height = auto>\n",
    " \n",
    "- Matched: $(x,b)$, $(y,c)$\n",
    "- Unmatched blue: $z$\n",
    "- Unmatched purple: $a$, $d$   \n",
    "</div>\n",
    "</div>\n",
    "<!--      -->\n",
    "    \n",
    "</div>\n",
    "</div>"
   ]
  },
  {
   "cell_type": "markdown",
   "id": "ca962fe6",
   "metadata": {
    "slideshow": {
     "slide_type": "subslide"
    }
   },
   "source": [
    "## Scoring a matching\n",
    "\n",
    "\n",
    "<div class = 'row'>\n",
    "<div class = 'column'>\n",
    "\n",
    "## Definition \n",
    "\n",
    "Given a matching $\\varphi:D_1 \\rightsquigarrow D_2$, we have the distance between a point and its match: \n",
    "- For matched points: \n",
    "    $$\\{ \\|p - \\varphi(p)\\|_\\infty \\mid  p \\in S_1\\}$$\n",
    "- For unmatched points: \n",
    "    $$\\left\\{ \\tfrac{1}{2}(p_2-p_1) \\mid  p = (p_1,p_2) \\in \\left(D_1 \\setminus S_1\\right) \\cup \\left(D_2 \\setminus S_2\\right)\\right\\}$$\n",
    "    *Note that the score for unmatched points can be viewed as the distance to the closest point on the diagonal $\\|p - \\Delta\\|_\\infty$*\n",
    "    \n",
    "Then the score of a given matching  is defined as \n",
    "\\begin{align}\n",
    "\\mathrm{Score}_\\infty(\\varphi) = \\max & \\left \\{ \\|p - \\varphi(p)\\|_\\infty \\mid  p \\in S_1 \\right\\}\\\\ \n",
    "        &\\cup \\left\\{\\|p - \\Delta\\|_\\infty \\mid  p \\in \\left(D_1 \\setminus S_1\\right) \\cup \\left(D_2 \\setminus S_2\\right)\\right\\} \n",
    "\\end{align}\n",
    "\n",
    "\n",
    "\n",
    "\n",
    "\n",
    "   \n",
    "</div>\n",
    "<div class = 'column'>\n",
    "    \n",
    "## Example\n",
    "    \n",
    "<!--      -->\n",
    "    \n",
    "<div class = 'row'>\n",
    "<div class = 'column'>\n",
    "\n",
    "<img src = 'figures/PersistenceDiagram-WassComputation-Bad.png' width = 80% height = auto>\n",
    "\n",
    "<!-- - Matched: $(x,c)$, $(y,d)$\n",
    "- Unmatched blue: $z$\n",
    "- Unmatched purple: $a$, $b$ -->\n",
    "- **${\\mathrm{Score}_\\infty(\\varphi)= \\|x-c\\|_\\infty}$**\n",
    "</div>\n",
    "<div class = 'column'>\n",
    "\n",
    "<img src = 'figures/PersistenceDiagram-WassComputation-Good.png' width = 80% height = auto>\n",
    " \n",
    "<!-- - Matched: $(x,b)$, $(y,c)$\n",
    "- Unmatched blue: $z$\n",
    "- Unmatched purple: $a$, $d$    -->\n",
    "- **$\\mathrm{Score}_\\infty(\\varphi)= \\|y-c\\|_\\infty$**\n",
    "</div>\n",
    "</div>\n",
    "<!--      -->\n",
    "    \n",
    "</div>\n",
    "</div>\n"
   ]
  },
  {
   "cell_type": "markdown",
   "id": "519a4540",
   "metadata": {
    "slideshow": {
     "slide_type": "subslide"
    }
   },
   "source": [
    "## Bottleneck Distance \n",
    "\n",
    "\n",
    "<div class = 'row'>\n",
    "<div class = 'column'>\n",
    "\n",
    "## Definition \n",
    "\n",
    "\n",
    "\n",
    "\n",
    "The bottleneck distance between two given diagrams is \n",
    "    $$d_B(D_1,D_2) = \\inf_ {\\varphi:D_1 \\rightsquigarrow D_2} \\left(\\mathrm{Score}_\\infty (\\varphi)\\right)$$\n",
    "\n",
    "\n",
    "   \n",
    "</div>\n",
    "<div class = 'column'>\n",
    "    \n",
    "## Example\n",
    "    \n",
    "<!--      -->\n",
    "    \n",
    "<div class = 'row'>\n",
    "<div class = 'column'>\n",
    "\n",
    "<img src = 'figures/PersistenceDiagram-WassComputation-Bad.png' width = 80% height = auto>\n",
    "\n",
    "\n",
    "</div>\n",
    "<div class = 'column'>\n",
    "\n",
    "<img src = 'figures/PersistenceDiagram-WassComputation-Good.png' width = 80% height = auto>\n",
    " \n",
    "This matching has a lower score than the one at left.\n",
    "</div>\n",
    "</div>\n",
    "<!--      -->\n",
    "    \n",
    "</div>\n",
    "</div>\n"
   ]
  },
  {
   "cell_type": "markdown",
   "id": "b0370c32",
   "metadata": {
    "slideshow": {
     "slide_type": "subslide"
    }
   },
   "source": [
    "# Stability\n",
    "\n",
    "\n",
    "<div class = 'row'>\n",
    "<div class = 'column'>\n",
    "\n",
    "\n",
    "## Theorem (Cohen-Steiner *et al.* 2007)\n",
    "    \n",
    "Let $\\mathbb{X}$ be a triangulable space with continuous tame functions $f,g: \\mathbb{X} \\to \\mathbb{R}$. Then the persistcence diagrams $D(f)$ and $D(g)$ satisfy \n",
    "    $$\n",
    "    d_B(D(f),D(g)) \\leq \\|f-g\\|_\\infty.\n",
    "    $$\n",
    "\n",
    "## Why do we care? \n",
    "    \n",
    "- Small noise perturbation results in small $\\|f-g\\|_\\infty$ results in small bottleneck distance.\n",
    "- Similar input data results in similar persistence diagram representations.\n",
    "   \n",
    "</div>\n",
    "<div class = 'column'>\n",
    "    \n",
    "## Example\n",
    "\n",
    "![](figures/persistence_stability.gif)\n",
    "    \n",
    "</div>\n",
    "</div>"
   ]
  },
  {
   "cell_type": "markdown",
   "id": "052adad3",
   "metadata": {
    "slideshow": {
     "slide_type": "subslide"
    }
   },
   "source": [
    "## Wasserstein Distance \n",
    "\n",
    "\n",
    "<div class = 'row'>\n",
    "<div class = 'column'>\n",
    "\n",
    "## Definition \n",
    "\n",
    "Given a matching $\\varphi:D_1 \\rightsquigarrow D_2$, the $q$-th Wasserstein score $\\mathrm{Score}_q(\\varphi)$ is defined as using the following scores for each individual point\n",
    "- For matched points: \n",
    "    $$\\{ \\|p - \\varphi(p)\\|_q \\mid  p \\in S_1\\}$$\n",
    "- For unmatched points: \n",
    "    $$\\left\\{ \\|p - \\Delta \\|_q \\mid  p = (p_1,p_2) \\in \\left(D_1 \\setminus S_1\\right) \\cup \\left(D_2 \\setminus S_2\\right)\\right\\}$$\n",
    "    \n",
    "The score of a matching is \n",
    "$$\n",
    " \\mathrm{Score}_q(\\varphi) = \\left(\\sum_{p \\in S_1} \\|p - \\varphi(p)\\|_q^q + \\sum_{p \\in U } \\|p - \\Delta\\|_q^q \\right)^{1/q}\n",
    "$$\n",
    "where $U = \\left(D_1 \\setminus S_1\\right) \\cup \\left(D_2 \\setminus S_2\\right)$ is the set of unmatched points.\n",
    "    \n",
    "The $q$-th Wasserstein distance between two given diagrams is \n",
    "    $$d_{W_q}(D_1,D_2) = \\inf_ {\\varphi:D_1 \\rightsquigarrow D_2} \\mathrm{Score}_q(\\varphi)$$\n",
    "\n",
    "\n",
    "   \n",
    "</div>\n",
    "<div class = 'column'>\n",
    "    \n",
    "## Example\n",
    "    \n",
    "<!--      -->\n",
    "    \n",
    "<div class = 'row'>\n",
    "<div class = 'column'>\n",
    "\n",
    "<img src = 'figures/PersistenceDiagram-WassComputation-Bad.png' width = 80% height = auto>\n",
    "\n",
    "\n",
    "</div>\n",
    "<div class = 'column'>\n",
    "\n",
    "<img src = 'figures/PersistenceDiagram-WassComputation-Good.png' width = 80% height = auto>\n",
    " \n",
    "This matching still has the lower cost of the two, but now it has contributions from all drawn edges, not just the longest one.\n",
    "</div>\n",
    "</div>\n",
    "<!--      -->\n",
    "    \n",
    "</div>\n",
    "</div>\n"
   ]
  },
  {
   "cell_type": "markdown",
   "id": "42a730e1",
   "metadata": {
    "slideshow": {
     "slide_type": "subslide"
    }
   },
   "source": [
    "## Code example\n",
    "\n",
    "TODO"
   ]
  },
  {
   "cell_type": "code",
   "execution_count": 2,
   "id": "bb4abe14",
   "metadata": {},
   "outputs": [
    {
     "ename": "ImportError",
     "evalue": "/home/liz/Programs/anaconda3/bin/../lib/libstdc++.so.6: version `GLIBCXX_3.4.29' not found (required by /home/liz/Programs/anaconda3/lib/python3.9/site-packages/pyRipser.cpython-39-x86_64-linux-gnu.so)",
     "output_type": "error",
     "traceback": [
      "\u001b[0;31m---------------------------------------------------------------------------\u001b[0m",
      "\u001b[0;31mImportError\u001b[0m                               Traceback (most recent call last)",
      "\u001b[0;32m/tmp/ipykernel_60730/3429175528.py\u001b[0m in \u001b[0;36m<cell line: 1>\u001b[0;34m()\u001b[0m\n\u001b[0;32m----> 1\u001b[0;31m \u001b[0;32mfrom\u001b[0m \u001b[0mripser\u001b[0m \u001b[0;32mimport\u001b[0m \u001b[0mripser\u001b[0m\u001b[0;34m\u001b[0m\u001b[0;34m\u001b[0m\u001b[0m\n\u001b[0m\u001b[1;32m      2\u001b[0m \u001b[0;32mfrom\u001b[0m \u001b[0mteaspoon\u001b[0m\u001b[0;34m.\u001b[0m\u001b[0mMakeData\u001b[0m\u001b[0;34m.\u001b[0m\u001b[0mPointCloud\u001b[0m \u001b[0;32mimport\u001b[0m \u001b[0mTorus\u001b[0m\u001b[0;34m,\u001b[0m \u001b[0mAnnulus\u001b[0m\u001b[0;34m,\u001b[0m \u001b[0mCube\u001b[0m\u001b[0;34m,\u001b[0m \u001b[0mClusters\u001b[0m\u001b[0;34m,\u001b[0m \u001b[0mSphere\u001b[0m\u001b[0;34m\u001b[0m\u001b[0;34m\u001b[0m\u001b[0m\n\u001b[1;32m      3\u001b[0m \u001b[0;32mimport\u001b[0m \u001b[0mnumpy\u001b[0m \u001b[0;32mas\u001b[0m \u001b[0mnp\u001b[0m\u001b[0;34m\u001b[0m\u001b[0;34m\u001b[0m\u001b[0m\n\u001b[1;32m      4\u001b[0m \u001b[0;32mfrom\u001b[0m \u001b[0mteaspoon\u001b[0m\u001b[0;34m.\u001b[0m\u001b[0mTDA\u001b[0m\u001b[0;34m.\u001b[0m\u001b[0mDistance\u001b[0m \u001b[0;32mimport\u001b[0m \u001b[0mwassersteinDist\u001b[0m\u001b[0;34m,\u001b[0m \u001b[0mbottleneckDist\u001b[0m\u001b[0;34m\u001b[0m\u001b[0;34m\u001b[0m\u001b[0m\n\u001b[1;32m      5\u001b[0m \u001b[0mnumPts\u001b[0m \u001b[0;34m=\u001b[0m \u001b[0;36m500\u001b[0m\u001b[0;34m\u001b[0m\u001b[0;34m\u001b[0m\u001b[0m\n",
      "\u001b[0;32m~/Programs/anaconda3/lib/python3.9/site-packages/ripser/__init__.py\u001b[0m in \u001b[0;36m<module>\u001b[0;34m\u001b[0m\n\u001b[0;32m----> 1\u001b[0;31m \u001b[0;32mfrom\u001b[0m \u001b[0;34m.\u001b[0m\u001b[0mripser\u001b[0m \u001b[0;32mimport\u001b[0m \u001b[0;34m*\u001b[0m\u001b[0;34m\u001b[0m\u001b[0;34m\u001b[0m\u001b[0m\n\u001b[0m\u001b[1;32m      2\u001b[0m \u001b[0;34m\u001b[0m\u001b[0m\n\u001b[1;32m      3\u001b[0m \u001b[0;32mfrom\u001b[0m \u001b[0;34m.\u001b[0m\u001b[0m_version\u001b[0m \u001b[0;32mimport\u001b[0m \u001b[0m__version__\u001b[0m\u001b[0;34m\u001b[0m\u001b[0;34m\u001b[0m\u001b[0m\n",
      "\u001b[0;32m~/Programs/anaconda3/lib/python3.9/site-packages/ripser/ripser.py\u001b[0m in \u001b[0;36m<module>\u001b[0;34m\u001b[0m\n\u001b[1;32m     32\u001b[0m \u001b[0;32mfrom\u001b[0m \u001b[0msklearn\u001b[0m\u001b[0;34m.\u001b[0m\u001b[0mmetrics\u001b[0m\u001b[0;34m.\u001b[0m\u001b[0mpairwise\u001b[0m \u001b[0;32mimport\u001b[0m \u001b[0mpairwise_distances\u001b[0m\u001b[0;34m\u001b[0m\u001b[0;34m\u001b[0m\u001b[0m\n\u001b[1;32m     33\u001b[0m \u001b[0;34m\u001b[0m\u001b[0m\n\u001b[0;32m---> 34\u001b[0;31m \u001b[0;32mfrom\u001b[0m \u001b[0mpyRipser\u001b[0m \u001b[0;32mimport\u001b[0m \u001b[0mdoRipsFiltrationDM\u001b[0m \u001b[0;32mas\u001b[0m \u001b[0mDRFDM\u001b[0m\u001b[0;34m\u001b[0m\u001b[0;34m\u001b[0m\u001b[0m\n\u001b[0m\u001b[1;32m     35\u001b[0m \u001b[0;32mfrom\u001b[0m \u001b[0mpyRipser\u001b[0m \u001b[0;32mimport\u001b[0m \u001b[0mdoRipsFiltrationDMSparse\u001b[0m \u001b[0;32mas\u001b[0m \u001b[0mDRFDMSparse\u001b[0m\u001b[0;34m\u001b[0m\u001b[0;34m\u001b[0m\u001b[0m\n\u001b[1;32m     36\u001b[0m \u001b[0;34m\u001b[0m\u001b[0m\n",
      "\u001b[0;31mImportError\u001b[0m: /home/liz/Programs/anaconda3/bin/../lib/libstdc++.so.6: version `GLIBCXX_3.4.29' not found (required by /home/liz/Programs/anaconda3/lib/python3.9/site-packages/pyRipser.cpython-39-x86_64-linux-gnu.so)"
     ]
    }
   ],
   "source": [
    "from ripser import ripser\n",
    "from teaspoon.MakeData.PointCloud import Torus, Annulus, Cube, Clusters, Sphere\n",
    "import numpy as np\n",
    "from teaspoon.TDA.Distance import wassersteinDist, bottleneckDist\n",
    "numPts = 500\n",
    "seed = 0\n",
    "\n",
    "# Generate Torus\n",
    "t = Torus(N=numPts,seed = seed)\n",
    "\n",
    "# Generate Annulus\n",
    "a = Annulus(N=numPts,seed = seed)\n",
    "\n",
    "# Compute persistence diagrams\n",
    "PD1 = ripser(t,2)['dgms'][1]\n",
    "PD2 = ripser(a,1)['dgms'][1]"
   ]
  },
  {
   "cell_type": "code",
   "execution_count": null,
   "id": "8adb94a3",
   "metadata": {},
   "outputs": [],
   "source": [
    "pip install ripser"
   ]
  },
  {
   "cell_type": "code",
   "execution_count": null,
   "id": "537fe6c4",
   "metadata": {},
   "outputs": [],
   "source": [
    "import ripser"
   ]
  },
  {
   "cell_type": "code",
   "execution_count": null,
   "id": "82362e81",
   "metadata": {},
   "outputs": [],
   "source": [
    "# Danielle will add small slides about some vectorization methods."
   ]
  }
 ],
 "metadata": {
  "celltoolbar": "Slideshow",
  "kernelspec": {
   "display_name": "Python 3 (ipykernel)",
   "language": "python",
   "name": "python3"
  },
  "language_info": {
   "codemirror_mode": {
    "name": "ipython",
    "version": 3
   },
   "file_extension": ".py",
   "mimetype": "text/x-python",
   "name": "python",
   "nbconvert_exporter": "python",
   "pygments_lexer": "ipython3",
   "version": "3.9.7"
  }
 },
 "nbformat": 4,
 "nbformat_minor": 5
}
