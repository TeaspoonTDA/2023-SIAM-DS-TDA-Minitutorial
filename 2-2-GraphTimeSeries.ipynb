{
 "cells": [
  {
   "cell_type": "code",
   "execution_count": 2,
   "id": "9843489e",
   "metadata": {
    "slideshow": {
     "slide_type": "skip"
    }
   },
   "outputs": [
    {
     "data": {
      "text/html": [
       "    \n",
       "<!-- reveal.js CSS theme and local overrides -->\n",
       "<link rel=\"stylesheet\" href=\"https://fonts.googleapis.com/css?family=Open+Sans:300,400,600,700&amp;lang=en\"/>\n",
       "<link rel=\"stylesheet\" href=\"https://fonts.googleapis.com/css?family=Merriweather:italic&amp;lang=en\"/>\n",
       "<link rel=\"stylesheet\" href=\"stylefiles/presentation.css\"/> \n"
      ],
      "text/plain": [
       "<IPython.core.display.HTML object>"
      ]
     },
     "metadata": {},
     "output_type": "display_data"
    }
   ],
   "source": [
    "%%HTML\n",
    "    \n",
    "<!-- reveal.js CSS theme and local overrides -->\n",
    "<link rel=\"stylesheet\" href=\"https://fonts.googleapis.com/css?family=Open+Sans:300,400,600,700&amp;lang=en\"/>\n",
    "<link rel=\"stylesheet\" href=\"https://fonts.googleapis.com/css?family=Merriweather:italic&amp;lang=en\"/>\n",
    "<link rel=\"stylesheet\" href=\"stylefiles/presentation.css\"/> "
   ]
  },
  {
   "cell_type": "markdown",
   "id": "f198536f",
   "metadata": {
    "slideshow": {
     "slide_type": "slide"
    }
   },
   "source": [
    "<section id=\"title-slide\"> \n",
    "    <br><br><br><h1><i>Graph Representation of Timeseries Signals</i></h1>\n",
    "    <h3><i>Module 2-2</i></h3>\n",
    "    <br><br>\n",
    "    <h4><i>5/15/2023</i></h4>\n",
    "    <br><br>\n",
    "    <div class=\"uu_title_container\">\n",
    "        <smaller>\n",
    "        <div>\n",
    "            <b>Presented by:</b> Max Chumley\n",
    "            <br><br><br><br>\n",
    "            <b>Topological Signal Processing for Dynamical Systems</b><br>\n",
    "            SIAM-DS Minitutorial 2023\n",
    "        </div>  \n",
    "        </smaller>\n",
    "    </div><br>\n",
    "    <div class='footer'>\n",
    "        Michigan State University\n",
    "    </div>\n",
    "</section>"
   ]
  },
  {
   "cell_type": "markdown",
   "id": "eaee8f1d",
   "metadata": {
    "slideshow": {
     "slide_type": "slide"
    }
   },
   "source": [
    "# Overview\n",
    "\n",
    "</br></br></br>\n",
    "\n",
    "![](figures/2-2_overview.png)"
   ]
  },
  {
   "cell_type": "markdown",
   "id": "8a05670c",
   "metadata": {
    "slideshow": {
     "slide_type": "notes"
    }
   },
   "source": [
    "**Script:** Now we can move into other methods for embedding a timeseries. Specifically we will cover two methods for embedding a timeseries as a network or graph. Later we will also show how we can compute persistence on these networks."
   ]
  },
  {
   "cell_type": "markdown",
   "id": "6cbd941c",
   "metadata": {
    "slideshow": {
     "slide_type": "slide"
    }
   },
   "source": [
    "## Goals of this module\n",
    "\n",
    "- Apply the ordinal partition network to a timeseries to obtain its network representation.\n",
    "- Apply the coarse-grained state space network to a timeseries to obtain its network representation.\n",
    "- Compute persistent homology of a network with different distance definitions using teaspoon.\n"
   ]
  },
  {
   "cell_type": "markdown",
   "id": "bc6dc87b",
   "metadata": {
    "slideshow": {
     "slide_type": "notes"
    }
   },
   "source": [
    "**Script:** Goals for this module are to apply the ordinal partition network and coarse grained state space network methods to a timeseries and compute persistence on those networks."
   ]
  },
  {
   "cell_type": "markdown",
   "id": "3db045c8",
   "metadata": {
    "slideshow": {
     "slide_type": "slide"
    }
   },
   "source": [
    "# Network Representation\n",
    "\n",
    "- Why represent as a network?"
   ]
  },
  {
   "cell_type": "markdown",
   "id": "b6463558",
   "metadata": {
    "slideshow": {
     "slide_type": "fragment"
    }
   },
   "source": [
    "![](figures/NetworkPipeline_pers.png)"
   ]
  },
  {
   "cell_type": "markdown",
   "id": "8470006e",
   "metadata": {
    "slideshow": {
     "slide_type": "fragment"
    }
   },
   "source": [
    "- Computationally expensive\n",
    "- May not capture attractor structure"
   ]
  },
  {
   "cell_type": "markdown",
   "id": "33a4c0b2",
   "metadata": {
    "slideshow": {
     "slide_type": "notes"
    }
   },
   "source": [
    "**Script:** Why should we embed a timeseries as a network? Using a takens embedding and computing persistence as we did before is very computationally expensive because of how many points are in the embedding. This is why we had to subsample the embedding for persistence. The embedding may not capture the correct attractor structure either as we saw in the 2-1 worksheet."
   ]
  },
  {
   "cell_type": "markdown",
   "id": "2cecdcb1",
   "metadata": {
    "slideshow": {
     "slide_type": "slide"
    }
   },
   "source": [
    "# Ordinal Partitions$^{1,3}$\n",
    "\n",
    "![](figures/permutation_sequence_animation.gif)"
   ]
  },
  {
   "cell_type": "markdown",
   "id": "62e96ab8",
   "metadata": {
    "slideshow": {
     "slide_type": "notes"
    }
   },
   "source": [
    "**Script:** The first method for embedding a timeseries as a network is using ordinal partitions. This example uses permutation groups of order 3 and we study the permutation sequence over the timeseries."
   ]
  },
  {
   "cell_type": "markdown",
   "id": "7680ab12",
   "metadata": {
    "slideshow": {
     "slide_type": "slide"
    }
   },
   "source": [
    "# Ordinal Partition Network (OPN)$^{1,3}$\n",
    "\n",
    "![](figures/ordinal_partition_network_video_basic.gif)\n",
    "\n",
    "<font color=red>Requires embedding parameters $\\tau$ and $n$</font>"
   ]
  },
  {
   "cell_type": "markdown",
   "id": "fa3b8f8a",
   "metadata": {
    "slideshow": {
     "slide_type": "notes"
    }
   },
   "source": [
    "**Script:** Each permutation is then defined as a vertex on the network and directed edges are added when the signal jumps from one permutation to another. This results in a network being generated that represents the original timeseries. We use the same methods for estimating the delay and dimension from module 2-1 here."
   ]
  },
  {
   "cell_type": "markdown",
   "id": "65427681",
   "metadata": {
    "slideshow": {
     "slide_type": "slide"
    }
   },
   "source": [
    "# Higher Dimensional OPN ($n=7$)\n",
    "\n",
    "![](figures/ordinal_partition_network_video_complex.gif)"
   ]
  },
  {
   "cell_type": "markdown",
   "id": "05679a97",
   "metadata": {
    "slideshow": {
     "slide_type": "notes"
    }
   },
   "source": [
    "**Script:** Here is an example using permutations of dimension 7."
   ]
  },
  {
   "cell_type": "markdown",
   "id": "0f1c919a",
   "metadata": {
    "slideshow": {
     "slide_type": "slide"
    }
   },
   "source": [
    "# OPN Example\n",
    "\n",
    "### Teaspoon Function: \n",
    "\n",
    "```python\n",
    "teaspoon.SP.network.ordinal_partition_graph(ts, n=None, tau=None)\n",
    "```\n",
    "Returns the adjacency matrix of the network.\n",
    "\n",
    "- Uses ```Multiscale Permutation Entropy``` for parameters by default.\n",
    "\n",
    "See:\n",
    "[teaspoon.SP.network_tools](https://teaspoontda.github.io/teaspoon/network.html#module-teaspoon.SP.network_tools) for miscellaneous network analysis tools built in to teaspoon.\n",
    "\n",
    "\n"
   ]
  },
  {
   "cell_type": "markdown",
   "id": "1240cf2d",
   "metadata": {
    "slideshow": {
     "slide_type": "notes"
    }
   },
   "source": [
    "**Script:** In teaspoon, the oridinal_partition_graph function can be used to obtain the addjecency matrix of the network. The network can then be visualized using the python networkx module."
   ]
  },
  {
   "cell_type": "markdown",
   "id": "2abb056e",
   "metadata": {
    "slideshow": {
     "slide_type": "slide"
    }
   },
   "source": [
    "# OPN Example"
   ]
  },
  {
   "cell_type": "code",
   "execution_count": 7,
   "id": "3dc85375",
   "metadata": {
    "slideshow": {
     "slide_type": "fragment"
    }
   },
   "outputs": [
    {
     "data": {
      "image/png": "[encoded data removed]",
      "text/plain": [
       "<Figure size 640x480 with 1 Axes>"
      ]
     },
     "metadata": {},
     "output_type": "display_data"
    }
   ],
   "source": [
    "import networkx as nx\n",
    "import matplotlib.pyplot as plt\n",
    "#teaspoon functions\n",
    "from teaspoon.SP.network import ordinal_partition_graph\n",
    "from teaspoon.SP.network_tools import remove_zeros\n",
    "from teaspoon.SP.network_tools import make_network\n",
    "import teaspoon.MakeData.DynSysLib.DynSysLib as DSL\n",
    "\n",
    "t, ts = DSL.DynamicSystems('driven_pendulum', 'periodic')\n",
    "A = ordinal_partition_graph(ts[0], n=5) #adjacency matrix\n",
    "A = remove_zeros(A) #remove nodes of unused permutation\n",
    "G, pos = make_network(A) #get networkx representation\n",
    "nx.draw(G, pos, with_labels=False, font_weight='bold', node_color='red', node_size = 30)"
   ]
  },
  {
   "cell_type": "markdown",
   "id": "87ca300a",
   "metadata": {
    "slideshow": {
     "slide_type": "notes"
    }
   },
   "source": [
    "**Script:** Here is an example usage of the ordinal partition network function to generate the opn for the periodic driven pendulum. We see that the network resulted in a large loop structure which indicates that it is periodic."
   ]
  },
  {
   "cell_type": "markdown",
   "id": "1e17e9b4",
   "metadata": {
    "slideshow": {
     "slide_type": "slide"
    }
   },
   "source": [
    "# Coarse-Grained State Space Network (CGSSN)$^2$\n",
    "\n",
    "![](figures/state_assignment_OPN_and_CGSSN.png)\n",
    "\n",
    "$s_i=3(8^0) + 5(8^1) + 2(8^2) + 1 = 172$"
   ]
  },
  {
   "cell_type": "markdown",
   "id": "e0695a2c",
   "metadata": {
    "slideshow": {
     "slide_type": "notes"
    }
   },
   "source": [
    "**Script:** Another method for representing a timeseries as a network is called the coarse grained state space network. This method is similar to the ordinal partition network in that the permutation groups are still used, but the difference here is we bin the amplitude of the signal and study the heights of the permutation group nodes. These heights allow for computing a state assignment and results in significantly more possible states. \n",
    "\n",
    "In the opn, the states are just the number for the corresponding permutation group but in cgssn the states are a function of the bins and the total number of bins. In this example the permutation group nodes are in bins 3,5, and 2 respectively and we have 8 total bins so the state is taken as $s_i=3(8^0) + 5(8^1) + 2(8^2) + 1 = 172$."
   ]
  },
  {
   "cell_type": "markdown",
   "id": "11e4e40d",
   "metadata": {
    "slideshow": {
     "slide_type": "slide"
    }
   },
   "source": [
    "# CGSSN Creation\n",
    "\n",
    "</br></br></br>\n",
    "\n",
    "![](figures/CGSSN_2d_example_cycle.gif)\n"
   ]
  },
  {
   "cell_type": "markdown",
   "id": "c92edbde",
   "metadata": {
    "slideshow": {
     "slide_type": "notes"
    }
   },
   "source": [
    "**Script:** Here is an animation of the creation of the cgssn with 10 bins. We see that each red square in the grid corresponds to a vertex in the network and the transitions between vertices correspond to moving between bins in the state space."
   ]
  },
  {
   "cell_type": "markdown",
   "id": "84285c2e",
   "metadata": {
    "slideshow": {
     "slide_type": "slide"
    }
   },
   "source": [
    "# CGSSN Example\n",
    "\n",
    "### Teaspoon Function:\n",
    "\n",
    "```python\n",
    "teaspoon.SP.network.cgss_graph(ts, B_array, n=None, tau=None)\n",
    "```\n",
    "- Generate CGSSN adjacency matrix \n",
    "\n",
    "```python\n",
    "teaspoon.SP.tsa_tools.cgss_binning(ts, n=None, tau=None, b=12, binning_method='equal_size', plot_binning=False)\n",
    "```\n",
    "- Generate bin edges for cgssn\n",
    "\n"
   ]
  },
  {
   "cell_type": "markdown",
   "id": "ee57bbbe",
   "metadata": {
    "slideshow": {
     "slide_type": "notes"
    }
   },
   "source": [
    "**Script:** The teaspoon functions for CGSSN are shown here. We use the graph function to generate the network and the binning function to supply the bin edges to the graph function."
   ]
  },
  {
   "cell_type": "code",
   "execution_count": 11,
   "id": "299df389",
   "metadata": {
    "scrolled": false,
    "slideshow": {
     "slide_type": "slide"
    }
   },
   "outputs": [
    {
     "data": {
      "image/png": "[encoded data removed]",
      "text/plain": [
       "<Figure size 640x480 with 1 Axes>"
      ]
     },
     "metadata": {},
     "output_type": "display_data"
    }
   ],
   "source": [
    "#import needed packages\n",
    "import matplotlib.pyplot as plt\n",
    "import networkx as nx\n",
    "from teaspoon.SP.network import cgss_graph\n",
    "from teaspoon.SP.network_tools import remove_zeros\n",
    "from teaspoon.SP.network_tools import make_network\n",
    "import teaspoon.SP.tsa_tools as tsa_tools\n",
    "from teaspoon.SP.tsa_tools import takens\n",
    "import teaspoon.MakeData.DynSysLib.DynSysLib as DSL\n",
    "from teaspoon.parameter_selection.MsPE import MsPE_tau, MsPE_n\n",
    "t, ts = DSL.DynamicSystems('driven_pendulum', 'periodic')\n",
    "tau = MsPE_tau(ts[0]) # Esimtate tau and n using MSPE\n",
    "n = MsPE_n(ts[0], tau)\n",
    "B_array = tsa_tools.cgss_binning(ts[0], n, tau, b=8) #binning array\n",
    "A = cgss_graph(ts[0], B_array, n, tau) #adjacency matrix\n",
    "A = remove_zeros(A) #remove nodes of unused permutation\n",
    "G, pos = make_network(A) #get networkx representation\n",
    "nx.draw(G, pos, with_labels=False, font_weight='bold', node_color='green', node_size = 30)"
   ]
  },
  {
   "cell_type": "markdown",
   "id": "834736f1",
   "metadata": {
    "slideshow": {
     "slide_type": "notes"
    }
   },
   "source": [
    "**Script:** The resulting cgssn for the driven pendulum is here. We use the mspe methods for estimating the parameters and networkx for visualization."
   ]
  },
  {
   "cell_type": "markdown",
   "id": "81798a5e",
   "metadata": {
    "slideshow": {
     "slide_type": "slide"
    }
   },
   "source": [
    "# Persistent Homology of Networks\n",
    "\n",
    "</br></br></br></br>\n",
    "\n",
    "![](figures/2-2_overview_dm_pd.png)"
   ]
  },
  {
   "cell_type": "markdown",
   "id": "fb6d6c73",
   "metadata": {
    "slideshow": {
     "slide_type": "notes"
    }
   },
   "source": [
    "**Script:** The next step in the pipeline is to compute the distance matrix so that we can obtain a persistence diagram for a network."
   ]
  },
  {
   "cell_type": "markdown",
   "id": "a426b398",
   "metadata": {
    "slideshow": {
     "slide_type": "slide"
    }
   },
   "source": [
    "# Distances on Graphs$^2$\n",
    "\n",
    "### Shortest Path:\n",
    "\n",
    "$$C(P) = \\sum_{e\\in P}w(e)$$\n",
    "\n",
    "$$D(a,b) = \\min_{P}C(P)$$\n",
    "\n",
    "- Unweighted set $w(e)=1$"
   ]
  },
  {
   "cell_type": "markdown",
   "id": "cee562e2",
   "metadata": {
    "slideshow": {
     "slide_type": "notes"
    }
   },
   "source": [
    "**Script:** In order to compute persistence on an object, we need to know the distances between points in the object. This is done by computing a distance matrix for the network. First we need to define how distances are computed on the network. We have 4 methods for doing this and the first is shown here. This method is called the shortest path distance where we minimize the cost function c(p) as the sum of the weights. so we are looking for the path in the network with minimal weights. \n",
    "\n",
    "If the network is unweighted we set all w(e) to be 1 and the shortest path becomes the path with the fewest edges."
   ]
  },
  {
   "cell_type": "markdown",
   "id": "eafaeb6e",
   "metadata": {
    "slideshow": {
     "slide_type": "slide"
    }
   },
   "source": [
    "# Distances on Graphs$^2$\n",
    "\n",
    "### Weighted Shortest Path\n",
    "\n",
    "$$C'(P)=\\sum_{e\\in P}\\frac{1}{w(e)}$$\n",
    "\n",
    "$$D(a,b) = \\sum_{e\\in P}w(e)$$ \n",
    "\n",
    "- Encodes information about frequency of traversal $^2$"
   ]
  },
  {
   "cell_type": "markdown",
   "id": "58437ea5",
   "metadata": {
    "slideshow": {
     "slide_type": "notes"
    }
   },
   "source": [
    "**Script:** The second distance is called the weighted shortest path. Here the cost function is now the sum of reciprocal weights and we take the distance as the sum of the weights along the path that minimizes the cost. Including weight information in the distance encodes information about the frequency of traversal of a path."
   ]
  },
  {
   "cell_type": "markdown",
   "id": "f5685d14",
   "metadata": {
    "slideshow": {
     "slide_type": "slide"
    }
   },
   "source": [
    "# Distances on Graphs$^2$\n",
    "\n",
    "### Shortest Weighted Path\n",
    "\n",
    "$$C'(P)=\\sum_{e\\in P}\\frac{1}{w(e)}$$\n",
    "\n",
    "$$D(a,b) = |\\min_{P}C'(P)|~~~~~\\text{(Number of edges in $P$)}$$ \n",
    "\n",
    "- Gives higher priority to well traveled paths $^2$"
   ]
  },
  {
   "cell_type": "markdown",
   "id": "dbce24ac",
   "metadata": {
    "slideshow": {
     "slide_type": "notes"
    }
   },
   "source": [
    "**Script:** The third distance is called the shortest weighted path. This is similar to the weighted shortest path but we take the distance to be the number of edges in the path that minimized the cost function instead of the sum of the weights. This method gives priority to well traveled paths."
   ]
  },
  {
   "cell_type": "markdown",
   "id": "9cfc7cfe",
   "metadata": {
    "slideshow": {
     "slide_type": "slide"
    }
   },
   "source": [
    "# Distances on Graphs$^2$\n",
    "\n",
    "### Diffusion Distance\n",
    "\n",
    "$$P(i,j)=\\frac{A(i,j)}{\\sum_{k=1}^{|V|}A(i,k)}$$\n",
    "\n",
    "- $A$ is adjacency matrix with no self loops\n",
    "- $P$ is probability of transitioning from $i$ to $j$\n",
    "\n",
    "#### t-random walk (walk in t steps): $P^t(a,b)$\n",
    "\n",
    "#### Lazy Transition Probability: $\\tilde{P} = \\frac{1}{2}[P(a,b)+I]~~~~$ (Allows for random walk to remain at current vertex)\n",
    "\n",
    "$$d_t(a,b)=\\sqrt{\\sum_{c\\in V}\\frac{1}{\\textbf{d}(c)}[\\tilde{P}^t(a,c)-\\tilde{P}^t(b,c)]^2}$$\n",
    "\n",
    "- $\\textbf{d}$ is the degree vector"
   ]
  },
  {
   "cell_type": "markdown",
   "id": "1e77944a",
   "metadata": {
    "slideshow": {
     "slide_type": "notes"
    }
   },
   "source": [
    "**Script:** The final method is called the diffusion distance where we study the probability of transitioning between nodes. We also account for the lazy transition probability where a walk may remain at the current vertex."
   ]
  },
  {
   "cell_type": "markdown",
   "id": "224d788f",
   "metadata": {
    "slideshow": {
     "slide_type": "slide"
    }
   },
   "source": [
    "# Distance Matrix and Persistence\n",
    "\n",
    "![](figures/example_periodic_2D_CGSSN_D_PH.png)"
   ]
  },
  {
   "cell_type": "markdown",
   "id": "152b0553",
   "metadata": {
    "slideshow": {
     "slide_type": "notes"
    }
   },
   "source": [
    "**Script:** Using these distance methods, we can obtain a distance matrix like the one shown here and obtain the persistence diagrams for the network. "
   ]
  },
  {
   "cell_type": "markdown",
   "id": "77ac563d",
   "metadata": {
    "slideshow": {
     "slide_type": "slide"
    }
   },
   "source": [
    "# Network Persistence Example\n",
    "\n",
    "### Teaspoon Functions\n",
    "\n",
    "```python\n",
    "teaspoon.TDA.PHN.DistanceMatrix(A, method='shortest_unweighted_path')\n",
    "```\n",
    "- Supports all distances discussed previously\n",
    "- Returns distance matrix\n",
    "\n",
    "```python\n",
    "teaspoon.TDA.PHN.PH_network(D, max_homology_dimension=1)\n",
    "```\n",
    "- Returns persistence diagram\n"
   ]
  },
  {
   "cell_type": "markdown",
   "id": "2f584c59",
   "metadata": {
    "slideshow": {
     "slide_type": "notes"
    }
   },
   "source": [
    "**Script:** In teaspoon, the distance matrix function can be used to get the distance matrix for a particular distance method and the ph_network function computes persistence using that distance matrix."
   ]
  },
  {
   "cell_type": "code",
   "execution_count": 4,
   "id": "cfd77935",
   "metadata": {
    "slideshow": {
     "slide_type": "slide"
    }
   },
   "outputs": [
    {
     "name": "stdout",
     "output_type": "stream",
     "text": [
      "1-D Persistent Homology (loops):  [[0.02592446 0.22763994]]\n"
     ]
    },
    {
     "data": {
      "image/png": "[encoded data removed]",
      "text/plain": [
       "<Figure size 640x480 with 1 Axes>"
      ]
     },
     "metadata": {},
     "output_type": "display_data"
    }
   ],
   "source": [
    "#teaspoon functions\n",
    "import networkx as nx\n",
    "from teaspoon.SP.network import ordinal_partition_graph\n",
    "from teaspoon.SP.network_tools import remove_zeros\n",
    "from teaspoon.SP.network_tools import make_network\n",
    "from teaspoon.TDA.PHN import DistanceMatrix, point_summaries, PH_network\n",
    "import teaspoon.MakeData.DynSysLib.DynSysLib as DSL\n",
    "t, ts = DSL.DynamicSystems('driven_pendulum', 'periodic')\n",
    "A = ordinal_partition_graph(ts[0], n = 6) #adjacency matrix\n",
    "A = remove_zeros(A) #remove nodes of unused permutation\n",
    "G = nx.from_numpy_matrix(A)\n",
    "G.remove_edges_from(nx.selfloop_edges(G))\n",
    "#create distance matrix and calculate persistence diagram\n",
    "D = DistanceMatrix(A, method = 'diffusion_distance')\n",
    "diagram = PH_network(D)\n",
    "print('1-D Persistent Homology (loops): ', diagram[1])\n",
    "G, pos = make_network(A) #get networkx representation\n",
    "nx.draw(G, pos, with_labels=False, font_weight='bold', node_color='red', node_size = 30)"
   ]
  },
  {
   "cell_type": "markdown",
   "id": "e87004dc",
   "metadata": {
    "slideshow": {
     "slide_type": "notes"
    }
   },
   "source": [
    "**Script:** Here is an example for computing persistence on the ordinal partition network for the periodic pendulum system. We see that the persistence diagram returned a single loop as expected."
   ]
  },
  {
   "cell_type": "markdown",
   "id": "054da1ba",
   "metadata": {
    "slideshow": {
     "slide_type": "slide"
    }
   },
   "source": [
    "# You try it \n",
    "\n",
    "<div class = 'row'>\n",
    "<div class = 'column'>\n",
    "    \n",
    "- Open the [2-2-Wkst-GraphTimeSeries.ipynb](2-2-Wkst-GraphTimeSeries.ipynb) notebook and get started! \n",
    "- The notebook has both a basic example, and a challenge version.\n",
    "- Answers are included but hidden.\n",
    "- We will come back together in 10-15 minutes to start on the next module.\n",
    "- Make sure to download your work as you go!  We won't be able to share any specific files after the conference.\n",
    "    \n",
    "</div>\n",
    "<div class = 'column'>\n",
    "\n",
    "![](figures/Screenshot-2-2-Wkst.png)\n",
    "        \n",
    "</div>\n",
    "</div>"
   ]
  },
  {
   "cell_type": "markdown",
   "id": "bf478079",
   "metadata": {
    "slideshow": {
     "slide_type": "notes"
    }
   },
   "source": [
    "**Script:** Now you try embedding a timeseries as a network and compute its persistence diagram. Open the 2-2 worksheet for instructions. We will come back in about 10-15 minutes for the next module."
   ]
  },
  {
   "cell_type": "markdown",
   "id": "aac51b8c",
   "metadata": {
    "slideshow": {
     "slide_type": "slide"
    }
   },
   "source": [
    "# Thank you!\n",
    "\n",
    "\n",
    "- These network embedding methods are covered in more detail in our papers:\n",
    "\n",
    "    - _Myers, Audun D., et al. \"Persistent homology of coarse-grained state-space networks.\" Physical Review E 107.3 (2023): 034303._\n",
    "\n",
    "    - _Myers, Audun, Elizabeth Munch, and Firas A. Khasawneh. \"Persistent homology of complex networks for dynamic state detection.\" Physical Review E 100.2 (2019): 022314._\n",
    "\n",
    "![](figures/ordinal_partition_network_video_complex.gif)"
   ]
  },
  {
   "cell_type": "markdown",
   "id": "1b180fa7",
   "metadata": {
    "slideshow": {
     "slide_type": "notes"
    }
   },
   "source": [
    "**Script:** Thank you! These methods are covered in more detail in our papers shown here."
   ]
  },
  {
   "cell_type": "markdown",
   "id": "e4f9d26d",
   "metadata": {
    "slideshow": {
     "slide_type": "notes"
    }
   },
   "source": [
    "# References\n",
    "\n",
    "1. Myers, Audun, Elizabeth Munch, and Firas A. Khasawneh. \"Persistent homology of complex networks for dynamic state detection.\" Physical Review E 100.2 (2019): 022314. \n",
    "\n",
    "2. Myers, Audun D., et al. \"Persistent homology of coarse-grained state-space networks.\" Physical Review E 107.3 (2023): 034303.\n",
    "\n",
    "3. M. Small, in 2013 IEEE International Symposium on Circuits and Systems (ISCAS2013) (IEEE, 2013)."
   ]
  },
  {
   "cell_type": "code",
   "execution_count": null,
   "id": "e4d44272",
   "metadata": {},
   "outputs": [],
   "source": []
  }
 ],
 "metadata": {
  "celltoolbar": "Slideshow",
  "kernelspec": {
   "display_name": "Python 3 (ipykernel)",
   "language": "python",
   "name": "python3"
  },
  "language_info": {
   "codemirror_mode": {
    "name": "ipython",
    "version": 3
   },
   "file_extension": ".py",
   "mimetype": "text/x-python",
   "name": "python",
   "nbconvert_exporter": "python",
   "pygments_lexer": "ipython3",
   "version": "3.9.7"
  }
 },
 "nbformat": 4,
 "nbformat_minor": 5
}
