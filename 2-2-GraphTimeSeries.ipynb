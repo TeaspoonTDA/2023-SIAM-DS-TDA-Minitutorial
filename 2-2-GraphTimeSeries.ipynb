{
 "cells": [
  {
   "cell_type": "code",
   "execution_count": 76,
   "id": "9843489e",
   "metadata": {
    "slideshow": {
     "slide_type": "skip"
    }
   },
   "outputs": [
    {
     "data": {
      "text/html": [
       "    \n",
       "<!-- reveal.js CSS theme and local overrides -->\n",
       "<link rel=\"stylesheet\" href=\"https://fonts.googleapis.com/css?family=Open+Sans:300,400,600,700&amp;lang=en\"/>\n",
       "<link rel=\"stylesheet\" href=\"https://fonts.googleapis.com/css?family=Merriweather:italic&amp;lang=en\"/>\n",
       "<link rel=\"stylesheet\" href=\"stylefiles/presentation.css\"/> \n"
      ],
      "text/plain": [
       "<IPython.core.display.HTML object>"
      ]
     },
     "metadata": {},
     "output_type": "display_data"
    }
   ],
   "source": [
    "%%HTML\n",
    "    \n",
    "<!-- reveal.js CSS theme and local overrides -->\n",
    "<link rel=\"stylesheet\" href=\"https://fonts.googleapis.com/css?family=Open+Sans:300,400,600,700&amp;lang=en\"/>\n",
    "<link rel=\"stylesheet\" href=\"https://fonts.googleapis.com/css?family=Merriweather:italic&amp;lang=en\"/>\n",
    "<link rel=\"stylesheet\" href=\"stylefiles/presentation.css\"/> "
   ]
  },
  {
   "cell_type": "markdown",
   "id": "f198536f",
   "metadata": {
    "slideshow": {
     "slide_type": "slide"
    }
   },
   "source": [
    "<section id=\"title-slide\"> \n",
    "    <br><br><br><h1><i>Module 2-2: Graph Representation of Timeseries Signals</i></h1>\n",
    "    <br><br>\n",
    "    <h4><i>5/15/2023</i></h4>\n",
    "    <br><br>\n",
    "    <div class=\"uu_title_container\">\n",
    "        <smaller>\n",
    "        <div>\n",
    "            <b>Presented by:</b> Max Chumley\n",
    "            <br><br><br><br>\n",
    "            <b>Topological Signal Processing for Dynamical Systems</b><br>\n",
    "            SIAM-DS Minitutorial 2023\n",
    "        </div>  \n",
    "        </smaller>\n",
    "    </div><br>\n",
    "    <div class='footer'>\n",
    "        Michigan State University\n",
    "    </div>\n",
    "</section>"
   ]
  },
  {
   "cell_type": "markdown",
   "id": "eaee8f1d",
   "metadata": {
    "slideshow": {
     "slide_type": "slide"
    }
   },
   "source": [
    "# Overview\n",
    "\n",
    "</br></br></br>\n",
    "\n",
    "![](figures/2-2_overview.png)"
   ]
  },
  {
   "cell_type": "markdown",
   "id": "6cbd941c",
   "metadata": {
    "slideshow": {
     "slide_type": "slide"
    }
   },
   "source": [
    "## Goals of this module\n",
    "\n",
    "- Apply the ordinal partition network to a timeseries to obtain its network representation.\n",
    "- Apply the coarse-grained state space network to a timeseries to obtain its network representation.\n"
   ]
  },
  {
   "cell_type": "markdown",
   "id": "3db045c8",
   "metadata": {
    "slideshow": {
     "slide_type": "slide"
    }
   },
   "source": [
    "# Network Representation\n",
    "\n",
    "- Why represent as a network?"
   ]
  },
  {
   "cell_type": "markdown",
   "id": "b6463558",
   "metadata": {
    "slideshow": {
     "slide_type": "fragment"
    }
   },
   "source": [
    "![](figures/NetworkPipeline_pers.png)"
   ]
  },
  {
   "cell_type": "markdown",
   "id": "8470006e",
   "metadata": {
    "slideshow": {
     "slide_type": "fragment"
    }
   },
   "source": [
    "- Computationally expensive\n",
    "- May not capture attractor structure"
   ]
  },
  {
   "cell_type": "markdown",
   "id": "2cecdcb1",
   "metadata": {
    "slideshow": {
     "slide_type": "slide"
    }
   },
   "source": [
    "# Ordinal Partitions$^1$\n",
    "\n",
    "![](figures/permutation_sequence_animation.gif)"
   ]
  },
  {
   "cell_type": "markdown",
   "id": "7680ab12",
   "metadata": {},
   "source": [
    "# Ordinal Partition Network (OPN)$^1$\n",
    "\n",
    "![](figures/ordinal_partition_network_video_basic.gif)\n",
    "\n",
    "<font color=red>Requires embedding parameters $\\tau$ and $n$</font>"
   ]
  },
  {
   "cell_type": "markdown",
   "id": "65427681",
   "metadata": {},
   "source": [
    "# Higher Dimensional OPN ($n=7$)\n",
    "\n",
    "![](figures/ordinal_partition_network_video_complex.gif)"
   ]
  },
  {
   "cell_type": "markdown",
   "id": "0f1c919a",
   "metadata": {
    "slideshow": {
     "slide_type": "slide"
    }
   },
   "source": [
    "# OPN Example\n",
    "\n",
    "### Teaspoon Function: \n",
    "\n",
    "```python\n",
    "teaspoon.SP.network.ordinal_partition_graph(ts, n=None, tau=None)\n",
    "```\n",
    "Returns the adjacency matrix of the network.\n",
    "\n",
    "- Uses ```Multiscale Permutation Entropy``` for parameters by default.\n",
    "\n",
    "See:\n",
    "[teaspoon.SP.network_tools](https://teaspoontda.github.io/teaspoon/network.html#module-teaspoon.SP.network_tools) for miscellaneous network analysis tools built in to teaspoon.\n",
    "\n",
    "\n"
   ]
  },
  {
   "cell_type": "markdown",
   "id": "2abb056e",
   "metadata": {
    "slideshow": {
     "slide_type": "slide"
    }
   },
   "source": [
    "# OPN Example"
   ]
  },
  {
   "cell_type": "code",
   "execution_count": 42,
   "id": "3dc85375",
   "metadata": {
    "slideshow": {
     "slide_type": "fragment"
    }
   },
   "outputs": [
    {
     "data": {
      "image/png": "[encoded data removed]",
      "text/plain": [
       "<Figure size 640x480 with 1 Axes>"
      ]
     },
     "metadata": {},
     "output_type": "display_data"
    }
   ],
   "source": [
    "import networkx as nx\n",
    "import matplotlib.pyplot as plt\n",
    "#teaspoon functions\n",
    "from teaspoon.SP.network import ordinal_partition_graph\n",
    "from teaspoon.SP.network_tools import remove_zeros\n",
    "from teaspoon.SP.network_tools import make_network\n",
    "import teaspoon.MakeData.DynSysLib.DynSysLib as DSL\n",
    "\n",
    "t, ts = DSL.DynamicSystems('driven_pendulum', 'periodic')\n",
    "A = ordinal_partition_graph(ts[0], n=5) #adjacency matrix\n",
    "A = remove_zeros(A) #remove nodes of unused permutation\n",
    "G, pos = make_network(A) #get networkx representation\n",
    "nx.draw(G, pos, with_labels=False, font_weight='bold', node_color='red', node_size = 30)"
   ]
  },
  {
   "cell_type": "markdown",
   "id": "1e17e9b4",
   "metadata": {
    "slideshow": {
     "slide_type": "slide"
    }
   },
   "source": [
    "# Coarse-Grained State Space Network (CGSSN)$^2$\n",
    "\n",
    "![](figures/state_assignment_OPN_and_CGSSN.png)\n",
    "\n",
    "$s_i=3(80) + 5(81) + 2(82) + 1 = 172$"
   ]
  },
  {
   "cell_type": "markdown",
   "id": "11e4e40d",
   "metadata": {
    "slideshow": {
     "slide_type": "slide"
    }
   },
   "source": [
    "# CGSSN Creation\n",
    "\n",
    "</br></br></br>\n",
    "\n",
    "![](figures/CGSSN_2d_example_cycle.gif)\n"
   ]
  },
  {
   "cell_type": "markdown",
   "id": "84285c2e",
   "metadata": {},
   "source": [
    "# CGSSN Example\n",
    "\n",
    "### Teaspoon Function:\n",
    "\n",
    "```python\n",
    "teaspoon.SP.network.cgss_graph(ts, B_array, n=None, tau=None)\n",
    "```\n",
    "- Generate CGSSN adjacency matrix \n",
    "\n",
    "```python\n",
    "teaspoon.SP.tsa_tools.cgss_binning(ts, n=None, tau=None, b=12, binning_method='equal_size', plot_binning=False)\n",
    "```\n",
    "- Generate bin edges for cgssn\n",
    "\n"
   ]
  },
  {
   "cell_type": "code",
   "execution_count": 64,
   "id": "299df389",
   "metadata": {
    "scrolled": false
   },
   "outputs": [
    {
     "data": {
      "image/png": "[encoded data removed]",
      "text/plain": [
       "<Figure size 640x480 with 1 Axes>"
      ]
     },
     "metadata": {},
     "output_type": "display_data"
    }
   ],
   "source": [
    "#import needed packages\n",
    "import matplotlib.pyplot as plt\n",
    "import networkx as nx\n",
    "from teaspoon.SP.network import cgss_graph\n",
    "from teaspoon.SP.network_tools import remove_zeros\n",
    "from teaspoon.SP.network_tools import make_network\n",
    "import teaspoon.SP.tsa_tools as tsa_tools\n",
    "from teaspoon.SP.tsa_tools import takens\n",
    "import teaspoon.MakeData.DynSysLib.DynSysLib as DSL\n",
    "from teaspoon.parameter_selection.MsPE import MsPE_tau, MsPE_n\n",
    "t, ts = DSL.DynamicSystems('driven_pendulum', 'periodic')\n",
    "tau = MsPE_tau(ts[0]) # Esimtate tau and n using MSPE\n",
    "n = MsPE_n(ts[0], tau)\n",
    "B_array = tsa_tools.cgss_binning(ts[0], n, tau, b=8) #binning array\n",
    "SSR = takens(ts[0], n, tau)  #state space reconstruction\n",
    "A = cgss_graph(ts[0], B_array, n, tau) #adjacency matrix\n",
    "A = remove_zeros(A) #remove nodes of unused permutation\n",
    "G, pos = make_network(A) #get networkx representation\n",
    "nx.draw(G, pos, with_labels=False, font_weight='bold', node_color='green', node_size = 30)"
   ]
  },
  {
   "cell_type": "markdown",
   "id": "81798a5e",
   "metadata": {
    "slideshow": {
     "slide_type": "slide"
    }
   },
   "source": [
    "# Persistent Homology of Networks\n",
    "\n",
    "</br></br></br></br>\n",
    "\n",
    "![](figures/2-2_overview_dm_pd.png)"
   ]
  },
  {
   "cell_type": "markdown",
   "id": "a426b398",
   "metadata": {
    "slideshow": {
     "slide_type": "slide"
    }
   },
   "source": [
    "# Distances on Graphs$^2$\n",
    "\n",
    "### Shortest Path:\n",
    "\n",
    "$$C(P) = \\sum_{e\\in P}w(e)$$\n",
    "\n",
    "$$D(a,b) = \\min_{P}C(P)$$\n",
    "\n",
    "- Unweighted set $w(e)=1$"
   ]
  },
  {
   "cell_type": "markdown",
   "id": "eafaeb6e",
   "metadata": {
    "slideshow": {
     "slide_type": "fragment"
    }
   },
   "source": [
    "### Weighted Shortest Path\n",
    "\n",
    "$$C'(P)=\\sum_{e\\in P}\\frac{1}{w(e)}$$\n",
    "\n",
    "$$D(a,b) = \\sum_{e\\in P}w(e)$$ \n",
    "\n",
    "- Encodes information about frequency of traversal $^2$"
   ]
  },
  {
   "cell_type": "markdown",
   "id": "f5685d14",
   "metadata": {
    "slideshow": {
     "slide_type": "slide"
    }
   },
   "source": [
    "# Distances on Graphs\n",
    "\n",
    "### Shortest Weighted Path\n",
    "\n",
    "$$C'(P)=\\sum_{e\\in P}\\frac{1}{w(e)}$$\n",
    "\n",
    "$$D(a,b) = |\\min_{P}C'(P)|~~~~~\\text{(Number of edges in $P$)}$$ \n",
    "\n",
    "- Gives higher priority to well traveled paths $^2$"
   ]
  },
  {
   "cell_type": "markdown",
   "id": "9cfc7cfe",
   "metadata": {
    "slideshow": {
     "slide_type": "slide"
    }
   },
   "source": [
    "# Distances on Graphs\n",
    "\n",
    "### Diffusion Distance\n",
    "\n",
    "$$P(i,j)=\\frac{A(i,j)}{\\sum_{k=1}^{|V|}A(i,k)}$$\n",
    "\n",
    "- $A$ is adjacency matrix with no self loops\n",
    "- $P$ is probability of transitioning from $i$ to $j$\n",
    "\n",
    "#### t-random walk: $P^t(a,b)$\n",
    "\n",
    "#### Lazy Transition Probability: $\\tilde{P} = \\frac{1}{2}[P(a,b)+I]~~~~$ (Allows for random walk to remain at current vertex)\n",
    "\n",
    "$$d_t(a,b)=\\sqrt{\\sum_{c\\in V}\\frac{1}{\\textbf{d}(c)}[\\tilde{P}^t(a,c)-\\tilde{P}^t(b,c)]^2}$$\n",
    "\n",
    "- $\\textbf{d}$ is the degree vector"
   ]
  },
  {
   "cell_type": "markdown",
   "id": "224d788f",
   "metadata": {},
   "source": [
    "# Distance Matrix and Persistence\n",
    "\n",
    "![](figures/example_periodic_2D_CGSSN_D_PH.png)"
   ]
  },
  {
   "cell_type": "markdown",
   "id": "77ac563d",
   "metadata": {
    "slideshow": {
     "slide_type": "slide"
    }
   },
   "source": [
    "# Network Persistence Example\n",
    "\n",
    "### Teaspoon Functions\n",
    "\n",
    "```python\n",
    "teaspoon.TDA.PHN.DistanceMatrix(A, method='shortest_unweighted_path')\n",
    "```\n",
    "- Supports all distances discussed previously\n",
    "- Returns distance matrix\n",
    "\n",
    "```python\n",
    "teaspoon.TDA.PHN.PH_network(D, max_homology_dimension=1)\n",
    "```\n",
    "- Returns persistence diagram\n"
   ]
  },
  {
   "cell_type": "code",
   "execution_count": 74,
   "id": "cfd77935",
   "metadata": {
    "slideshow": {
     "slide_type": "fragment"
    }
   },
   "outputs": [
    {
     "name": "stdout",
     "output_type": "stream",
     "text": [
      "1-D Persistent Homology (loops):  [[0.02592446 0.22763994]]\n"
     ]
    }
   ],
   "source": [
    "#teaspoon functions\n",
    "from teaspoon.SP.network import ordinal_partition_graph\n",
    "from teaspoon.SP.network_tools import remove_zeros\n",
    "from teaspoon.SP.network_tools import make_network\n",
    "from teaspoon.TDA.PHN import DistanceMatrix, point_summaries, PH_network\n",
    "import teaspoon.MakeData.DynSysLib.DynSysLib as DSL\n",
    "\n",
    "t, ts = DSL.DynamicSystems('driven_pendulum', 'periodic')\n",
    "A = ordinal_partition_graph(ts[0], n = 6) #adjacency matrix\n",
    "A = remove_zeros(A) #remove nodes of unused permutation\n",
    "G = nx.from_numpy_matrix(A)\n",
    "G.remove_edges_from(nx.selfloop_edges(G))\n",
    "#create distance matrix and calculate persistence diagram\n",
    "D = DistanceMatrix(A, method = 'diffusion_distance')\n",
    "diagram = PH_network(D)\n",
    "print('1-D Persistent Homology (loops): ', diagram[1])"
   ]
  },
  {
   "cell_type": "markdown",
   "id": "054da1ba",
   "metadata": {
    "slideshow": {
     "slide_type": "slide"
    }
   },
   "source": [
    "# You try it \n",
    "\n",
    "<div class = 'row'>\n",
    "<div class = 'column'>\n",
    "    \n",
    "- Open the [1-1-Wkst-SimplicialCpx_Homology.ipynb](1-1-Wkst-SimplicialCpx_Homology) notebook and get started! \n",
    "- The notebook has both a basic example, and a challenge version.\n",
    "- Answers are included but hidden.\n",
    "- We will come back together in 10-15 minutes to start on the next module.\n",
    "    \n",
    "</div>\n",
    "<div class = 'column'>\n",
    "\n",
    "![](figures/Screenshot-1-1-Wkst.png)\n",
    "        \n",
    "</div>\n",
    "</div>"
   ]
  },
  {
   "cell_type": "markdown",
   "id": "e4f9d26d",
   "metadata": {
    "slideshow": {
     "slide_type": "notes"
    }
   },
   "source": [
    "# References\n",
    "\n",
    "1. Myers, Audun, Elizabeth Munch, and Firas A. Khasawneh. \"Persistent homology of complex networks for dynamic state detection.\" Physical Review E 100.2 (2019): 022314. \n",
    "\n",
    "2. Myers, Audun D., et al. \"Persistent homology of coarse-grained state-space networks.\" Physical Review E 107.3 (2023): 034303."
   ]
  }
 ],
 "metadata": {
  "celltoolbar": "Slideshow",
  "kernelspec": {
   "display_name": "Python 3 (ipykernel)",
   "language": "python",
   "name": "python3"
  },
  "language_info": {
   "codemirror_mode": {
    "name": "ipython",
    "version": 3
   },
   "file_extension": ".py",
   "mimetype": "text/x-python",
   "name": "python",
   "nbconvert_exporter": "python",
   "pygments_lexer": "ipython3",
   "version": "3.9.7"
  }
 },
 "nbformat": 4,
 "nbformat_minor": 5
}
