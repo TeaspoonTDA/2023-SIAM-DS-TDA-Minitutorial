{
 "cells": [
  {
   "cell_type": "code",
   "execution_count": 1,
   "id": "9843489e",
   "metadata": {
    "slideshow": {
     "slide_type": "skip"
    }
   },
   "outputs": [
    {
     "data": {
      "text/html": [
       "    \n",
       "<!-- reveal.js CSS theme and local overrides -->\n",
       "<link rel=\"stylesheet\" href=\"https://fonts.googleapis.com/css?family=Open+Sans:300,400,600,700&amp;lang=en\"/>\n",
       "<link rel=\"stylesheet\" href=\"https://fonts.googleapis.com/css?family=Merriweather:italic&amp;lang=en\"/>\n",
       "<link rel=\"stylesheet\" href=\"stylefiles/presentation.css\"/> \n"
      ],
      "text/plain": [
       "<IPython.core.display.HTML object>"
      ]
     },
     "metadata": {},
     "output_type": "display_data"
    }
   ],
   "source": [
    "%%HTML\n",
    "    \n",
    "<!-- reveal.js CSS theme and local overrides -->\n",
    "<link rel=\"stylesheet\" href=\"https://fonts.googleapis.com/css?family=Open+Sans:300,400,600,700&amp;lang=en\"/>\n",
    "<link rel=\"stylesheet\" href=\"https://fonts.googleapis.com/css?family=Merriweather:italic&amp;lang=en\"/>\n",
    "<link rel=\"stylesheet\" href=\"stylefiles/presentation.css\"/> "
   ]
  },
  {
   "cell_type": "markdown",
   "id": "f198536f",
   "metadata": {
    "slideshow": {
     "slide_type": "slide"
    }
   },
   "source": [
    "<section id=\"title-slide\"> \n",
    "    <br><br><br><h1><i>Session 2 Wrap-up</i></h1>\n",
    "    <h3><i>Module 2-6</i></h3>\n",
    "    <br><br>\n",
    "    <h4><i>5/15/2023</i></h4>\n",
    "    <br><br>\n",
    "    <div id='title-slide' class=\"pull-right\"><img id=\"logo\" src=\"figures/msu_seal.png\" width=\"100%\" height=\"100%\"></div>\n",
    "    <div class=\"uu_title_container\">\n",
    "        <smaller>\n",
    "        <div>\n",
    "            <b>Presented by:</b> Firas Khasawneh & Elizabeth Munch\n",
    "            <br><br><br><br>\n",
    "            <b>Topological Signal Processing for Dynamical Systems</b><br>\n",
    "            SIAM-DS Minitutorial 2023\n",
    "        </div>  \n",
    "        </smaller>\n",
    "    </div><br>\n",
    "    <div class='footer'>\n",
    "        Michigan State University\n",
    "    </div>\n",
    "</section>"
   ]
  },
  {
   "cell_type": "markdown",
   "id": "bbb5ff33",
   "metadata": {
    "slideshow": {
     "slide_type": "slide"
    }
   },
   "source": [
    "# Technical stuff\n",
    "\n",
    "\n"
   ]
  },
  {
   "cell_type": "markdown",
   "id": "9dd55053",
   "metadata": {
    "slideshow": {
     "slide_type": "fragment"
    }
   },
   "source": [
    "- Fill out the following survey please and thank you! **Add a short link to the second half survey**\n",
    "- Save your work to your local machine! We will be shutting down the servers after this session and you won't be able to retrieve anything you've modified in the notebooks after that. \n"
   ]
  },
  {
   "cell_type": "markdown",
   "id": "5aab5c90",
   "metadata": {
    "slideshow": {
     "slide_type": "slide"
    }
   },
   "source": [
    "# Contributing to `teaspoon`\n",
    "\n",
    "**Danielle can you add some things here?**"
   ]
  },
  {
   "cell_type": "markdown",
   "id": "99f4fd0e",
   "metadata": {
    "slideshow": {
     "slide_type": "slide"
    }
   },
   "source": [
    "# Thank you!\n",
    "\n",
    "<img src = 'figures/PeopleAndFunding.png'>"
   ]
  }
 ],
 "metadata": {
  "celltoolbar": "Slideshow",
  "kernelspec": {
   "display_name": "Python 3 (ipykernel)",
   "language": "python",
   "name": "python3"
  },
  "language_info": {
   "codemirror_mode": {
    "name": "ipython",
    "version": 3
   },
   "file_extension": ".py",
   "mimetype": "text/x-python",
   "name": "python",
   "nbconvert_exporter": "python",
   "pygments_lexer": "ipython3",
   "version": "3.9.7"
  }
 },
 "nbformat": 4,
 "nbformat_minor": 5
}
