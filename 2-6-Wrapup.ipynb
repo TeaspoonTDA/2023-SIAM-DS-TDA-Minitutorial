{
 "cells": [
  {
   "cell_type": "code",
   "execution_count": 3,
   "id": "9843489e",
   "metadata": {
    "slideshow": {
     "slide_type": "skip"
    }
   },
   "outputs": [
    {
     "data": {
      "text/html": [
       "    \n",
       "<!-- reveal.js CSS theme and local overrides -->\n",
       "<link rel=\"stylesheet\" href=\"https://fonts.googleapis.com/css?family=Open+Sans:300,400,600,700&amp;lang=en\"/>\n",
       "<link rel=\"stylesheet\" href=\"https://fonts.googleapis.com/css?family=Merriweather:italic&amp;lang=en\"/>\n",
       "<link rel=\"stylesheet\" href=\"stylefiles/presentation.css\"/> \n"
      ],
      "text/plain": [
       "<IPython.core.display.HTML object>"
      ]
     },
     "metadata": {},
     "output_type": "display_data"
    }
   ],
   "source": [
    "%%HTML\n",
    "    \n",
    "<!-- reveal.js CSS theme and local overrides -->\n",
    "<link rel=\"stylesheet\" href=\"https://fonts.googleapis.com/css?family=Open+Sans:300,400,600,700&amp;lang=en\"/>\n",
    "<link rel=\"stylesheet\" href=\"https://fonts.googleapis.com/css?family=Merriweather:italic&amp;lang=en\"/>\n",
    "<link rel=\"stylesheet\" href=\"stylefiles/presentation.css\"/> "
   ]
  },
  {
   "cell_type": "markdown",
   "id": "f198536f",
   "metadata": {
    "slideshow": {
     "slide_type": "slide"
    }
   },
   "source": [
    "<section id=\"title-slide\"> \n",
    "    <br><br><br><h1><i>Session 2 Wrap-up</i></h1>\n",
    "    <h3><i>Module 2-6</i></h3>\n",
    "    <br><br>\n",
    "    <h4><i>5/15/2023</i></h4>\n",
    "    <br><br>\n",
    "    <div class=\"uu_title_container\">\n",
    "        <smaller>\n",
    "        <div>\n",
    "            <b>Presented by:</b> Firas Khasawneh & Elizabeth Munch\n",
    "            <br><br><br><br>\n",
    "            <b>Topological Signal Processing for Dynamical Systems</b><br>\n",
    "            SIAM-DS Minitutorial 2023\n",
    "        </div>  \n",
    "        </smaller>\n",
    "    </div><br>\n",
    "    <div class='footer'>\n",
    "        Michigan State University\n",
    "    </div>\n",
    "</section>"
   ]
  },
  {
   "cell_type": "markdown",
   "id": "e33ba9ec",
   "metadata": {},
   "source": [
    "## Closing Remarks?"
   ]
  },
  {
   "cell_type": "markdown",
   "id": "9989c070",
   "metadata": {
    "slideshow": {
     "slide_type": "slide"
    }
   },
   "source": [
    "<h1> Applications of TDA in Parameter Estimation </h1>\n",
    "\n",
    "<table>\n",
    "\n",
    "<tr>\n",
    "</tr>\n",
    "\n",
    "<tr>\n",
    "    <th><center><a href=\"https://www.sciencedirect.com/science/article/pii/S0888327022002151?via%3Dihub\" class=\"image\"><img src=\"figures/OtherApplications/SLSP_damping.png\" width = 60% height = 'auto' padding=\"50px;50px;50px;50px\"/></a></center></th>\n",
    "    <th><center><a href=\"https://asmedigitalcollection.asme.org/IDETC-CIE/proceedings/IDETC-CIE2021/85475/V010T10A007/1128253\" class=\"image\"><img src=\"figures/OtherApplications/coulomb_viscous.png\" width = 60% height = 'auto' padding=\"50px;50px;50px;50px\"/></a></center></th>\n",
    "    <th><center><a href=\"https://arxiv.org/abs/1905.04329\" class=\"image\"><img src=\"figures/OtherApplications/delay_param_TDA.PNG\" width = 60% height = 'auto' padding=\"50px;50px;50px;50px\"/></a></center></th>\n",
    "</tr>\n",
    "    \n",
    "<tr>\n",
    "</tr>\n",
    "    \n",
    "<tr>\n",
    "    <th><center>Damping Parameter Estimation</center></th>\n",
    "    <th><center>Coulomb and Viscous Damping Estimation</center></th>\n",
    "    <th><center>Permutation Entropy Parameter Selection</center></th>\n",
    "</tr>\n",
    "\n",
    "<tr>\n",
    "</tr>\n",
    "    \n",
    "</table>"
   ]
  },
  {
   "cell_type": "markdown",
   "id": "cc4d5f21",
   "metadata": {
    "slideshow": {
     "slide_type": "subslide"
    }
   },
   "source": [
    "<h1> Applications of TDA in System State Analysis </h1>\n",
    "\n",
    "<table>\n",
    "\n",
    "<tr>\n",
    "</tr>\n",
    "\n",
    "<tr>\n",
    "     <th><center><a href=\"https://link.springer.com/chapter/10.1007/978-3-319-53426-8_7\" class=\"image\"><img src=\"figures/OtherApplications/time_delay.png\" width = 60% height = 'auto' padding=\"50px;50px;50px;50px\"/></a></center></th>\n",
    "    <th><center><a href=\"https://asmedigitalcollection.asme.org/IDETC-CIE/proceedings/IDETC-CIE2020/83969/V007T07A021/1089956\" class=\"image\"><img src=\"figures/OtherApplications/assembly.PNG\" width = 60% height = 'auto' padding=\"50px;50px;50px;50px\"/></a></center></th>\n",
    "    <th><center><a href=\"https://www.sciencedirect.com/science/article/pii/S0167278919300739?via%3Dihub\" class=\"image\"><img src=\"figures/OtherApplications/chaos_detec.jpg\" width = 60% height = 'auto' padding=\"50px;50px;50px;50px\"/></a></center></th>\n",
    "\n",
    "</tr>\n",
    "    \n",
    "<tr>\n",
    "</tr>\n",
    "    \n",
    "<tr>\n",
    "    <th><center>Studying Signals of Time-Delay Systems</center></th>\n",
    "    <th><center>Dynamic State Analysis of Pendulum</center></th>\n",
    "    <th><center>Chaos Detection</center></th>\n",
    "</tr>\n",
    "    \n",
    "<tr>\n",
    "</tr>\n",
    "    \n",
    "</table>"
   ]
  },
  {
   "cell_type": "markdown",
   "id": "197bd1b5",
   "metadata": {
    "slideshow": {
     "slide_type": "subslide"
    }
   },
   "source": [
    "<h1> Applications of TDA in Texture Analysis </h1>\n",
    "\n",
    "<table>\n",
    "\n",
    "<tr>\n",
    "</tr>\n",
    "\n",
    "<tr>\n",
    "    <th><center><a href=\"https://ieeexplore.ieee.org/stamp/stamp.jsp?tp=&arnumber=9680194\" class=\"image\"><img src=\"figures/OtherApplications/melih_data_driven_texture_analysis.png\" width = 60% height = 'auto' padding=\"50px;50px;50px;50px\"/></a></center></th>\n",
    "    <th><center><a href=\"https://arxiv.org/pdf/2209.05531.pdf\" class=\"image\"><img src=\"figures/OtherApplications/pvst2.png\" width = 60% height = 'auto' padding=\"50px;50px;50px;50px\"/></a></center></th>\n",
    "    <th><center><a href=\"https://arxiv.org/pdf/2210.06333.pdf\" class=\"image\"><img src=\"figures/OtherApplications/pvst.png\" width = 60% height = 'auto' padding=\"50px;50px;50px;50px\"/></a></center></th>\n",
    "</tr>\n",
    "    \n",
    "<tr>\n",
    "</tr>\n",
    "    \n",
    "<tr>\n",
    "    <th><center>Surface Texture Analysis</center></th>\n",
    "    <th><center>Pattern Quantification in PVST</center></th>\n",
    "    <th><center>Pattern Characterization in PVST</center></th>\n",
    "</tr>\n",
    "    \n",
    "<tr>\n",
    "</tr>\n",
    "    \n",
    "</table>"
   ]
  },
  {
   "cell_type": "markdown",
   "id": "2c208263",
   "metadata": {
    "slideshow": {
     "slide_type": "subslide"
    }
   },
   "source": [
    "<h1> Applications of TDA in Time Signals </h1>\n",
    "\n",
    "<table>\n",
    "\n",
    "<tr>\n",
    "</tr>\n",
    "\n",
    "<tr>\n",
    "   <th><center><a href=\"https://www.biorxiv.org/content/10.1101/2023.03.22.533807v1\" class=\"image\"><img src=\"figures/OtherApplications/saptiotemporal.jpg\" width = 60% height = 'auto' padding=\"50px;50px;50px;50px\"/></a></center></th>\n",
    "   <th><center><a href=\"https://royalsocietypublishing.org/doi/10.1098/rspa.2018.0027\" class=\"image\"><img src=\"figures/OtherApplications/true_step.jpg\" width = 60% height = 'auto' padding=\"50px;50px;50px;50px\"/></a></center></th>\n",
    "    <th><center><a href=\"https://arxiv.org/abs/2301.07703\" class=\"image\"><img src=\"figures/OtherApplications/robust_zero_crossing_detection.png\" width = 60% height = 'auto' padding=\"50px;50px;50px;50px\"/></a></center></th>\n",
    "</tr>\n",
    "    \n",
    "<tr>\n",
    "</tr>\n",
    "    \n",
    "<tr>\n",
    "    <th><center>Spatiotemporal Signaling Patterns</center></th>\n",
    "    <th><center>True Step Detection</center></th>\n",
    "    <th><center>Zero Crossing Detection</center></th>\n",
    "</tr>\n",
    "    \n",
    "<tr>\n",
    "</tr>\n",
    "    \n",
    "</table>"
   ]
  },
  {
   "cell_type": "markdown",
   "id": "232364dc",
   "metadata": {
    "slideshow": {
     "slide_type": "subslide"
    }
   },
   "source": [
    "<h1> Applications of TDA in Chatter Detection </h1>\n",
    "\n",
    "<table>\n",
    "\n",
    "<tr>\n",
    "</tr>\n",
    "\n",
    "<tr>\n",
    "    <th><center><a href=\"https://www.sciencedirect.com/science/article/pii/S1526612522003504?via%3Dihub\" class=\"image\"><img src=\"figures/OtherApplications/melih_transfer_learning.jpg\" width = 60% height = 'auto' padding=\"50px;50px;50px;50px\"/></a></center></th>\n",
    "    <th><center><a href=\"https://ieeexplore.ieee.org/document/8999256\" class=\"image\"><img src=\"figures/OtherApplications/melih_milling_and_TDA.png\" width = 60% height = 'auto' padding=\"50px;50px;50px;50px\"/></a></center></th>\n",
    "    <th><center><a href=\"https://link.springer.com/article/10.1007/s00170-021-08242-5\" class=\"image\"><img src=\"figures/OtherApplications/melih_chatter_detection.png\" width = 60% height = 'auto' padding=\"50px;50px;50px;50px\"/></a></center></th>\n",
    "</tr>\n",
    "    \n",
    "<tr>\n",
    "</tr>\n",
    "    \n",
    "<tr>\n",
    "    <th><center>Autonomous Chatter Detection<br> in Machining</center></th>\n",
    "    <th><center>Chatter Diagnosis in Milling</center></th>\n",
    "    <th><center>Chatter Detection in Turning</center></th>\n",
    "</tr>\n",
    "    \n",
    "<tr>\n",
    "</tr>\n",
    "    \n",
    "</table>"
   ]
  },
  {
   "cell_type": "markdown",
   "id": "99f4fd0e",
   "metadata": {
    "slideshow": {
     "slide_type": "slide"
    }
   },
   "source": [
    "# Thank you!\n",
    "\n",
    "<div class = 'row'>\n",
    "<div class = 'column60'>\n",
    "\n",
    "<center>\n",
    "<img src = 'figures/PeopleAndFunding.png' width = 80% height = auto>\n",
    "</center>\n",
    "   \n",
    "</div>\n",
    "<div class = 'column30'>\n",
    "  \n",
    "- **Survey:** [bit.ly/3nYSXws](https://bit.ly/3nYSXws) \n",
    "- Save your work to your local machine! We will be shutting down the servers after the second session and you won't be able to retrieve anything you've modified in the notebooks after that. \n",
    "  \n",
    "\n",
    "</div>\n",
    "\n",
    "</div>\n",
    "\n",
    "\n"
   ]
  },
  {
   "cell_type": "code",
   "execution_count": null,
   "id": "118245e5",
   "metadata": {},
   "outputs": [],
   "source": []
  }
 ],
 "metadata": {
  "celltoolbar": "Slideshow",
  "kernelspec": {
   "display_name": "Python 3 (ipykernel)",
   "language": "python",
   "name": "python3"
  },
  "language_info": {
   "codemirror_mode": {
    "name": "ipython",
    "version": 3
   },
   "file_extension": ".py",
   "mimetype": "text/x-python",
   "name": "python",
   "nbconvert_exporter": "python",
   "pygments_lexer": "ipython3",
   "version": "3.9.16"
  }
 },
 "nbformat": 4,
 "nbformat_minor": 5
}
