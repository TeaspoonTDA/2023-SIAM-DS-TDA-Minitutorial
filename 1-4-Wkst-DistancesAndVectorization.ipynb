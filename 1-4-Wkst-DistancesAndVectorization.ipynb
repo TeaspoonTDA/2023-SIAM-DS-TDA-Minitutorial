{
 "cells": [
  {
   "cell_type": "markdown",
   "id": "e28d8f87",
   "metadata": {},
   "source": [
    "# Module 1-4 Worksheet: Distances and Vectorization\n",
    "\n",
    "<font color = 'purple'>\n",
    "    \n",
    "*Once we are done talking through the slides from [the main module 1-4 notebook](1-4-DistancesAndVectorization.ipynb), we will take some time to test out your understanding of the definitions by working through the following questions. We encourage talking to your neighbor, and drawing pictures for understanding! Please ask if you need help!*\n",
    "    \n",
    "</font>\n"
   ]
  },
  {
   "cell_type": "markdown",
   "id": "c9339886",
   "metadata": {},
   "source": [
    "TODO TODO TODO TODO TODO TODO TODO TODO TODO TODO "
   ]
  },
  {
   "cell_type": "markdown",
   "id": "5395a344",
   "metadata": {},
   "source": [
    "<font color = 'purple'><b>Question:</b></font>\n",
    "My question goes here"
   ]
  },
  {
   "cell_type": "markdown",
   "id": "f44aea4c",
   "metadata": {},
   "source": [
    "*Space for your notes/answer*"
   ]
  },
  {
   "cell_type": "markdown",
   "id": "15d03b32",
   "metadata": {},
   "source": [
    "*The correct answer is hidden here. Highlight or double-click to open the cell to see it when you're ready. No peeking!*\n",
    "\n",
    "<font color='white'>\n",
    "    \n",
    "Hidden solution goes in here.     \n",
    "</font>"
   ]
  },
  {
   "cell_type": "markdown",
   "id": "dad0af22",
   "metadata": {},
   "source": [
    "## <font color = 'purple'>Take home message:</font>\n",
    "- TODO"
   ]
  },
  {
   "cell_type": "markdown",
   "id": "a879266e",
   "metadata": {},
   "source": [
    "## Challenge problem\n",
    "\n",
    "If you have a ton of time left, here's a challenge problem to think about. \n",
    "\n",
    "TODO "
   ]
  },
  {
   "cell_type": "code",
   "execution_count": null,
   "id": "93da8746",
   "metadata": {},
   "outputs": [],
   "source": []
  }
 ],
 "metadata": {
  "kernelspec": {
   "display_name": "Python 3 (ipykernel)",
   "language": "python",
   "name": "python3"
  },
  "language_info": {
   "codemirror_mode": {
    "name": "ipython",
    "version": 3
   },
   "file_extension": ".py",
   "mimetype": "text/x-python",
   "name": "python",
   "nbconvert_exporter": "python",
   "pygments_lexer": "ipython3",
   "version": "3.9.7"
  }
 },
 "nbformat": 4,
 "nbformat_minor": 5
}
