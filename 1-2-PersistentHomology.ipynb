{
 "cells": [
  {
   "cell_type": "code",
   "execution_count": 1,
   "id": "9843489e",
   "metadata": {
    "slideshow": {
     "slide_type": "skip"
    }
   },
   "outputs": [
    {
     "data": {
      "text/html": [
       "    \n",
       "<!-- reveal.js CSS theme and local overrides -->\n",
       "<link rel=\"stylesheet\" href=\"https://fonts.googleapis.com/css?family=Open+Sans:300,400,600,700&amp;lang=en\"/>\n",
       "<link rel=\"stylesheet\" href=\"https://fonts.googleapis.com/css?family=Merriweather:italic&amp;lang=en\"/>\n",
       "<link rel=\"stylesheet\" href=\"stylefiles/presentation.css\"/> \n"
      ],
      "text/plain": [
       "<IPython.core.display.HTML object>"
      ]
     },
     "metadata": {},
     "output_type": "display_data"
    }
   ],
   "source": [
    "%%HTML\n",
    "    \n",
    "<!-- reveal.js CSS theme and local overrides -->\n",
    "<link rel=\"stylesheet\" href=\"https://fonts.googleapis.com/css?family=Open+Sans:300,400,600,700&amp;lang=en\"/>\n",
    "<link rel=\"stylesheet\" href=\"https://fonts.googleapis.com/css?family=Merriweather:italic&amp;lang=en\"/>\n",
    "<link rel=\"stylesheet\" href=\"stylefiles/presentation.css\"/> "
   ]
  },
  {
   "cell_type": "markdown",
   "id": "f198536f",
   "metadata": {
    "slideshow": {
     "slide_type": "slide"
    }
   },
   "source": [
    "<section id=\"title-slide\"> \n",
    "    <br><br><br><h1><i>Module 1-2: Persistent Homology</i></h1>\n",
    "    <h3><i>Subtitle</i></h3>\n",
    "    <br><br>\n",
    "    <h4><i>5/15/2023</i></h4>\n",
    "    <br><br>\n",
    "    <div id='title-slide' class=\"pull-right\"><img id=\"logo\" src=\"figures/msu_seal.png\" width=\"100%\" height=\"100%\"></div>\n",
    "    <div class=\"uu_title_container\">\n",
    "        <smaller>\n",
    "        <div>\n",
    "            <b>Presented by:</b> Your Name\n",
    "            <br><br><br><br>\n",
    "            <b>Topological Signal Processing for Dynamical Systems</b><br>\n",
    "            SIAM-DS Minitutorial 2023\n",
    "        </div>  \n",
    "        </smaller>\n",
    "    </div><br>\n",
    "    <div class='footer'>\n",
    "        Michigan State University\n",
    "    </div>\n",
    "</section>"
   ]
  },
  {
   "cell_type": "markdown",
   "id": "eaee8f1d",
   "metadata": {
    "slideshow": {
     "slide_type": "slide"
    }
   },
   "source": [
    "# Big picture intro slide "
   ]
  },
  {
   "cell_type": "markdown",
   "id": "6cbd941c",
   "metadata": {
    "slideshow": {
     "slide_type": "subslide"
    }
   },
   "source": [
    "## Goals of this module\n",
    "\n",
    "- Get a high level understanding of a persistence generator. \n",
    "- Be able to connect points in a persistence diagram to steps in a filtration.\n",
    "\n"
   ]
  },
  {
   "cell_type": "markdown",
   "id": "bbb5ff33",
   "metadata": {
    "slideshow": {
     "slide_type": "slide"
    }
   },
   "source": [
    "# Filtration\n"
   ]
  },
  {
   "cell_type": "markdown",
   "id": "9dd55053",
   "metadata": {
    "slideshow": {
     "slide_type": "-"
    }
   },
   "source": [
    "<div class = 'row'>\n",
    "<div class = 'column'>\n",
    "\n",
    "## Definition\n",
    "\n",
    "- A filtration is a nested sequence of simplicial complexes\n",
    "    \n",
    "$$\n",
    "\\emptyset = K_0 \\subseteq K_1 \\subseteq K_2 \\subseteq \\cdots \\subseteq K_n = K\n",
    "$$\n",
    "    \n",
    "\n",
    "    \n",
    "\n",
    "   \n",
    "</div>\n",
    "<div class = 'column'>\n",
    "    \n",
    "## Generalizations\n",
    "   - More generally, a filtration is indexed by a sequence of real numbers $a_1<a_2<\\cdots<a_n$ where we then have the nested sequence written as \n",
    "     \n",
    "$$\n",
    "K_{a_1} \\subseteq K_{a_2} \\subseteq K_{a_3} \\subseteq \\cdots \\subseteq K_{a_n}\n",
    "$$   \n",
    "- These concepts can be generalized to indexing in $\\mathbb{R}$, but that is outside the scope of these examples. \n",
    "\n",
    "    \n",
    "    \n",
    "</div>\n",
    "</div>\n",
    "\n",
    "\n",
    "![](figures/1-1_ExFiltration_WithLabels.png)"
   ]
  },
  {
   "cell_type": "markdown",
   "id": "99f4fd0e",
   "metadata": {
    "slideshow": {
     "slide_type": "subslide"
    }
   },
   "source": [
    "# Maps on Homology \n",
    "\n",
    "<div class = 'row'>\n",
    "<div class = 'column'>\n",
    "\n",
    "## Induced maps\n",
    "\n",
    "The inclusions induce maps on homology, where \n",
    "    \n",
    "$$\n",
    "f_{i}^{i+1}:H_p(K_i) \\to H_p(K_{i+1})\n",
    "$$\n",
    "\n",
    " is given by $f_{i}^{i+1}([\\alpha]) = [\\alpha]$. \n",
    "    \n",
    "Really, just take the representative from the class in $H_p(K_i)$ and see what class it represents in $H_p(K_{i+1})$. \n",
    "    \n",
    "## From example at right\n",
    "    \n",
    "- Can choose either $[\\alpha]$ and $[\\beta]$; or $[\\alpha]$ and $[\\gamma]$ as generators of $H_1(K_3)$\n",
    "- Note that $[\\alpha]$ maps to the zero element because $\\alpha$ becomes an element of the boundary once we add the triangle. \n",
    "- The other two map to the same homology class in $H_1(K_4)$. \n",
    "    \n",
    "        \n",
    "\n",
    "   \n",
    "</div>\n",
    "<div class = 'column'>\n",
    "    \n",
    "## Example\n",
    "    \n",
    "![](figures/1-1_ExFiltration-LastTwo_WithComputation.png)\n",
    "    \n",
    "    \n",
    "</div>\n",
    "</div>\n",
    "\n",
    "\n"
   ]
  },
  {
   "cell_type": "markdown",
   "id": "1fe3477e",
   "metadata": {
    "slideshow": {
     "slide_type": "subslide"
    }
   },
   "source": [
    "# Birth \n",
    "\n",
    "<div class = 'row'>\n",
    "<div class = 'column'>\n",
    "\n",
    "## Definition \n",
    "\n",
    "A $p$-th homology class $[\\alpha]$ is born at $K_i$ if $[\\alpha] \\in  H_p (K_i)$, but $[\\alpha]$ is not in the image of $f_{i-1}^{i}:H_p(K_{i-1}) \\to H_p(K_i)$\n",
    "\n",
    "    \n",
    "## From example at right\n",
    "    \n",
    "The classes $[\\beta]$ and $[\\gamma]$ are born at $K_3$ since they are not in the image of the induced map from $H_p(K_2)$.\n",
    "    \n",
    "        \n",
    "   \n",
    "</div>\n",
    "<div class = 'column'>\n",
    "    \n",
    "\n",
    "    \n",
    "    \n",
    "## Example\n",
    "![](figures/1-1_ExFiltration-MiddleTwoWithComputation.png)\n",
    "    \n",
    "    \n",
    "</div>\n",
    "</div>"
   ]
  },
  {
   "cell_type": "markdown",
   "id": "578f45e1",
   "metadata": {
    "slideshow": {
     "slide_type": "subslide"
    }
   },
   "source": [
    "# Death \n",
    "\n",
    "<div class = 'row'>\n",
    "<div class = 'column'>\n",
    "\n",
    "## Definition \n",
    "\n",
    "- Similarly, a $p$-th homology class $[\\alpha]$ dies entering $K_j$ if $[\\alpha] \\in H_p(K_{j-1})$ is not zero, but it is zero $H_p(K_{j})$.\n",
    "- Rephrased, this means that $\\alpha$ is the boundary of a collection of $p+1$ dimensional simplicies in $K_j$. \n",
    "\n",
    "    \n",
    "## From example at right\n",
    "    \n",
    "- $[\\alpha]$ dies at $K_4$ since it is the in the same class as 0 after the inclusion.\n",
    "    \n",
    "        \n",
    "\n",
    "   \n",
    "</div>\n",
    "<div class = 'column'>\n",
    "    \n",
    "## Example\n",
    "    \n",
    "![](figures/1-1_ExFiltration-LastTwo_WithComputation.png)\n",
    "    \n",
    "    \n",
    "</div>\n",
    "</div>"
   ]
  },
  {
   "cell_type": "markdown",
   "id": "dec5af30",
   "metadata": {
    "slideshow": {
     "slide_type": "subslide"
    }
   },
   "source": [
    "# Persistence generators \n",
    "\n",
    "<div class = 'row'>\n",
    "<div class = 'column'>\n",
    "\n",
    "\n",
    "- *(Waves a magic algebra wand)* There is a choice of generators for each $H_p(K_i)$ such that the induced maps send each generator either to another generator or to 0, and the non-zero portions are a bijection.\n",
    "\n",
    "\n",
    "    \n",
    "\n",
    "   \n",
    "</div>\n",
    "<div class = 'column'>\n",
    "    \n",
    "- Assume $[\\alpha]$ is a generator that dies entering $K_j$. If it was born entering $K_i$, we say the persistence of $[\\alpha]$ is $j-i$. \n",
    "- For a generator lives to the end of the filtration, we often say it dies at $\\infty$.\n",
    "\n",
    "    \n",
    "    \n",
    "</div>\n",
    "</div>\n",
    "\n",
    "\n",
    "<img src = 'figures/1-1_ExFiltration-AllComputation.png' width = 75% height = 'auto' >"
   ]
  },
  {
   "cell_type": "markdown",
   "id": "abee0971",
   "metadata": {
    "slideshow": {
     "slide_type": "subslide"
    }
   },
   "source": [
    "# Persistence diagram \n",
    "\n",
    "<div class = 'row'>\n",
    "<div class = 'column'>\n",
    "\n",
    "- The persistence diagram is a collection of points $(i,j)$ in the upper half plane, one for each generator, representing when the class was born and died in the filtration.\n",
    "\n",
    "![](figures/1-1_ExFiltration-AllComputation.png)\n",
    "\n",
    "   \n",
    "</div>\n",
    "<div class = 'column'>\n",
    "    \n",
    "\n",
    "    \n",
    "<img src=\"figures/1-1_ExFiltration-Dgm.png\" \n",
    "     width=\"50%\" \n",
    "     height=auto />\n",
    "\n",
    "    \n",
    "</div>\n",
    "</div>\n",
    "\n"
   ]
  },
  {
   "cell_type": "markdown",
   "id": "e5d528c3",
   "metadata": {
    "slideshow": {
     "slide_type": "slide"
    }
   },
   "source": [
    "# A slide that makes it clear that they're about to start doing examples"
   ]
  }
 ],
 "metadata": {
  "celltoolbar": "Slideshow",
  "kernelspec": {
   "display_name": "Python 3 (ipykernel)",
   "language": "python",
   "name": "python3"
  },
  "language_info": {
   "codemirror_mode": {
    "name": "ipython",
    "version": 3
   },
   "file_extension": ".py",
   "mimetype": "text/x-python",
   "name": "python",
   "nbconvert_exporter": "python",
   "pygments_lexer": "ipython3",
   "version": "3.9.7"
  }
 },
 "nbformat": 4,
 "nbformat_minor": 5
}
