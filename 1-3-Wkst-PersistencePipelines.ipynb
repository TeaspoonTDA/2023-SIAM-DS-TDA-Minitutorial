{
 "cells": [
  {
   "cell_type": "markdown",
   "id": "e28d8f87",
   "metadata": {},
   "source": [
    "# Module 1-3 Worksheet: Persistent Homology Pipelines\n",
    "\n",
    "<font color = 'purple'>\n",
    "    \n",
    "*Once we are done talking through the slides from [the main module 1-3 notebook](1-3-PersistencePipelines.ipynb), we will take some time to test out your understanding of the definitions by working through the following questions. We encourage talking to your neighbor, and drawing pictures for understanding! Please ask if you need help!*\n",
    "    \n",
    "</font>\n"
   ]
  },
  {
   "cell_type": "code",
   "execution_count": null,
   "id": "64a98bf0",
   "metadata": {},
   "outputs": [],
   "source": [
    "# Run this code once to make the answer widgets work\n",
    "\n",
    "import ipywidgets as widgets\n",
    "from IPython.display import display, Image\n",
    "button = widgets.Button(description=\"Reveal Answer\")\n",
    "\n",
    "def on_button_clicked(b):\n",
    "    global filename\n",
    "    display(Image(filename=filename, width='auto', height='auto'))"
   ]
  },
  {
   "cell_type": "code",
   "execution_count": null,
   "id": "b48ecbd5",
   "metadata": {},
   "outputs": [],
   "source": [
    "# Standard imports\n",
    "\n",
    "import numpy as np\n",
    "import matplotlib.pyplot as plt\n",
    "\n",
    "from teaspoon.MakeData.PointCloud import Torus, Annulus, Circle\n",
    "from teaspoon.TDA.Persistence import BettiCurve\n",
    "from teaspoon.TDA.Draw import drawDgm\n",
    "from ripser import ripser"
   ]
  },
  {
   "cell_type": "markdown",
   "id": "30e88fce",
   "metadata": {},
   "source": [
    "The goal of this worksheet is to give you some starter code to build examples, and to build a connection between types of input filtrations and the resulting persistence diagrams. We have two sections:\n",
    "- Point cloud input data, where we are building a Rips complex filtration; and \n",
    "- Matrix/Image data. "
   ]
  },
  {
   "cell_type": "markdown",
   "id": "1c8ad2af",
   "metadata": {},
   "source": [
    "# 1. Input data: Point cloud \n",
    "\n",
    "Our first examples come from studying how persistence measures points clouds, particularly ones with a circular structure. \n",
    "\n",
    "Consider the following point cloud, which samples from an annulus with inner radius $r$ and outer radius $R$ as in the figure below. \n",
    "\n",
    "![](figures/AnnulusWithLabels.png)"
   ]
  },
  {
   "cell_type": "code",
   "execution_count": null,
   "id": "7bb4033c",
   "metadata": {},
   "outputs": [],
   "source": [
    "# An annulus and its persistence diagram\n",
    "A = Annulus(N = 300, r = 2, R = 3)\n",
    "Dgm = ripser(A,2)['dgms'][1]\n",
    "\n",
    "# Create subplots\n",
    "f, (ax1, ax2) = plt.subplots(1, 2, figsize= (12,6))\n",
    "\n",
    "# Point Cloud\n",
    "ax1.scatter(*A.T)\n",
    "ax1.set_title('Point Cloud')\n",
    "ax1.axis('equal')\n",
    "\n",
    "# Persistence Dgm\n",
    "ax2.scatter(Dgm[:, 0], Dgm[:, 1])\n",
    "ax2.plot([0, 4], [0, 4], '--k')\n",
    "ax2.axis('equal')\n",
    "ax2.set_title('Persistence Diagram')"
   ]
  },
  {
   "cell_type": "markdown",
   "id": "5395a344",
   "metadata": {},
   "source": [
    "<font color = 'purple'><b>Question:</b></font>\n",
    "Change the value of $r$ to some other value in $[0,R] = [0,3]$, resimulate the data and check the resulting persistence diagram. What changed? What didn't change? "
   ]
  },
  {
   "cell_type": "markdown",
   "id": "f44aea4c",
   "metadata": {},
   "source": [
    "*Space for your notes/answer*"
   ]
  },
  {
   "cell_type": "markdown",
   "id": "15d03b32",
   "metadata": {},
   "source": [
    "*The correct answer is hidden here. Highlight or double-click to open the cell to see it when you're ready. No peeking!*\n",
    "\n",
    "<font color='white'>\n",
    "    \n",
    "The $r$ value changes the size of the inner radius. In this example, the point in the persistence diagram far from the diagonal is directly connected to the size of the inner radius, so changing the $r$ value moves the point far from the diagonal around. Small $r$ means it will nearly disappear into the diagonal while closer to $R=3$ will make it more prominent.\n",
    "\n",
    "</font>"
   ]
  },
  {
   "cell_type": "markdown",
   "id": "0ae52592",
   "metadata": {},
   "source": [
    "<font color = 'purple'><b>Question:</b></font>\n",
    "Reset $r=2$ and test what happens when you change $R$ to be values in $[2,5]$. What changed? What didn't change? "
   ]
  },
  {
   "cell_type": "markdown",
   "id": "22e69b6b",
   "metadata": {},
   "source": [
    "*Space for your notes/answer*"
   ]
  },
  {
   "cell_type": "markdown",
   "id": "f70048c2",
   "metadata": {},
   "source": [
    "*The correct answer is hidden here. Highlight or double-click to open the cell to see it when you're ready. No peeking!*\n",
    "\n",
    "<font color='white'>\n",
    "  \n",
    "The value of $R$ spreads out the noise, but doesn't directly affect the high persistence point. So you should see some differences in the noise near the diagonal, but the high persistence point will stay generally stable. \n",
    "\n",
    "</font>"
   ]
  },
  {
   "cell_type": "markdown",
   "id": "fd1c10c5",
   "metadata": {},
   "source": [
    "<font color = 'purple'><b>Question:</b></font>\n",
    "Try playing with the $r$ and $R$ parameters in the following example to see what changes."
   ]
  },
  {
   "cell_type": "code",
   "execution_count": null,
   "id": "39300948",
   "metadata": {},
   "outputs": [],
   "source": [
    "# Two annuluses\n",
    "A1 = Annulus(N = 200, r = 3, R = 4)\n",
    "A2 = Annulus(N = 200, r = 1, R = 2.5)\n",
    "A2.T[0, :] = A2.T[0, :] + 5\n",
    "A = np.concatenate((A1, A2), axis=0)\n",
    "\n",
    "Dgm = ripser(A,2)['dgms'][1]\n",
    "# Create subplots\n",
    "f, (ax1, ax2) = plt.subplots(1, 2, figsize= (12,6))\n",
    "\n",
    "# Point Cloud\n",
    "ax1.scatter(*A.T)\n",
    "ax1.set_title('Point Cloud')\n",
    "ax1.axis('equal')\n",
    "\n",
    "# Persistence Dgm\n",
    "ax2.scatter(Dgm[:, 0], Dgm[:, 1])\n",
    "ax2.plot([0, 6], [0, 6], '--k')\n",
    "ax2.axis('equal')\n",
    "ax2.set_title('Persistence Diagram')"
   ]
  },
  {
   "cell_type": "markdown",
   "id": "00de0409",
   "metadata": {},
   "source": [
    "# 2. Input data: Matrix\n",
    "\n",
    "In this section, we assume that you are given a black and white image (AKA a matrix) as input, and intend to do sublevelset persistence. For the purposes of this worksheet, we will assume we are represenging our sublevelsets at a fixed function value by the top dimensional cells (squares). "
   ]
  },
  {
   "cell_type": "markdown",
   "id": "ce38d45d",
   "metadata": {},
   "source": [
    "## Sample matrix\n",
    "\n",
    "Consider the following matrix. Draw the sublevel sets at levels 1, 2, and 3. Compare with answers hidden below\n",
    "\n",
    "<img src = 'figures/Cubical/Nice_Example_Matrix.png' width = 20% height = 'auto'>\n"
   ]
  },
  {
   "cell_type": "code",
   "execution_count": null,
   "id": "bbb8bf52",
   "metadata": {},
   "outputs": [],
   "source": [
    "# Run this cell everytime\n",
    "\n",
    "display(button)\n",
    "filename = 'figures/Cubical/Nice_Example.png'\n",
    "button.on_click(on_button_clicked)"
   ]
  },
  {
   "cell_type": "markdown",
   "id": "76294e4f",
   "metadata": {},
   "source": [
    "### Code version \n",
    "\n",
    "Of course, we won't expect you to be computing persistence on your input data by yourself, so the following blocks will provide code for computing persistence on this filtration for you. "
   ]
  },
  {
   "cell_type": "code",
   "execution_count": null,
   "id": "3d41e90e",
   "metadata": {},
   "outputs": [],
   "source": [
    "# Import Libraries. \n",
    "# In this case, we will use giotto-tda for cubical computations\n",
    "\n",
    "from gtda.homology import CubicalPersistence\n",
    "from gtda.diagrams import Filtering"
   ]
  },
  {
   "cell_type": "code",
   "execution_count": null,
   "id": "07f452d5",
   "metadata": {},
   "outputs": [],
   "source": [
    "# Here is the code that generates our simple example matrix above.\n",
    "Density = np.array([[1, 1, 1, 1, 1], \n",
    "                    [1, 2, 2, 2, 1], \n",
    "                    [1, 2, 3, 2, 1],\n",
    "                    [1, 2, 2, 2, 1],\n",
    "                    [1, 1, 1, 1, 1]])\n",
    "print(Density)\n",
    "\n",
    "im = plt.matshow(Density)\n",
    "plt.colorbar()"
   ]
  },
  {
   "cell_type": "markdown",
   "id": "260b498a",
   "metadata": {},
   "source": [
    "Now with our simple input example, we can compute the sublevelset persistence using the following code."
   ]
  },
  {
   "cell_type": "code",
   "execution_count": null,
   "id": "7b8d109c",
   "metadata": {},
   "outputs": [],
   "source": [
    "# Find Cubical Persistence\n",
    "\n",
    "Density = np.array([Density])\n",
    "cubical_persistence = CubicalPersistence(n_jobs=-1, reduced_homology=True)\n",
    "Persistence = cubical_persistence.fit_transform(Density)\n",
    "\n",
    "filtered = Filtering(epsilon=10 ** -2)\n",
    "Filtered_Persistence = filtered.fit_transform(Persistence)[0]"
   ]
  },
  {
   "cell_type": "code",
   "execution_count": null,
   "id": "02b1174f",
   "metadata": {},
   "outputs": [],
   "source": [
    "Rows = Filtered_Persistence[:,2]==1\n",
    "Dgm = Filtered_Persistence[Rows,:2]\n",
    "drawDgm(Dgm)"
   ]
  },
  {
   "cell_type": "markdown",
   "id": "bf80c2b6",
   "metadata": {},
   "source": [
    "To see the resulting persistence diagram in case of issues, click the button below. "
   ]
  },
  {
   "cell_type": "code",
   "execution_count": null,
   "id": "a39e937d",
   "metadata": {},
   "outputs": [],
   "source": [
    "# Run this cell everytime\n",
    "\n",
    "display(button)\n",
    "filename = 'figures/Cubical/Nice_Example_PD.png'\n",
    "button.on_click(on_button_clicked)"
   ]
  },
  {
   "cell_type": "markdown",
   "id": "623c666b",
   "metadata": {},
   "source": [
    "Based on your persistence diagram above, test your understanding of the persistence diagram using the following questions."
   ]
  },
  {
   "cell_type": "markdown",
   "id": "a05b789a",
   "metadata": {},
   "source": [
    "<font color = 'purple'><b>Question:</b></font>\n",
    "There is a single point in the persistence diagram. When is the associated class birth time and death time? "
   ]
  },
  {
   "cell_type": "markdown",
   "id": "a9450253",
   "metadata": {},
   "source": [
    "_Your answer_"
   ]
  },
  {
   "cell_type": "markdown",
   "id": "57b9453b",
   "metadata": {},
   "source": [
    "*The correct answer is hidden here. Highlight or double-click to open the cell to see it when you're ready. No peeking!*\n",
    "\n",
    "<font color='white'>\n",
    "    The class is born at 1 and dies at 3. \n",
    "</font>"
   ]
  },
  {
   "cell_type": "markdown",
   "id": "b1ce3711",
   "metadata": {},
   "source": [
    "<font color = 'purple'><b>Question:</b></font>\n",
    "What is the persistence (also called lifetime) of the component?"
   ]
  },
  {
   "cell_type": "markdown",
   "id": "5a6d5211",
   "metadata": {},
   "source": [
    "_Your answer_"
   ]
  },
  {
   "cell_type": "markdown",
   "id": "6a2c889c",
   "metadata": {},
   "source": [
    "*The correct answer is hidden here. Highlight or double-click to open the cell to see it when you're ready. No peeking!*\n",
    "\n",
    "<font color='white'>\n",
    "    The lifetime is death time minus birth time, so in this case $3-1=2$.\n",
    "    \n",
    "</font>"
   ]
  },
  {
   "cell_type": "markdown",
   "id": "42488ecf",
   "metadata": {},
   "source": [
    "<font color = 'purple'><b>Question:</b></font>\n",
    "Can you change the value of one pixel in this matrix in order to increase the lifetime of this class? Which one?"
   ]
  },
  {
   "cell_type": "markdown",
   "id": "e20bb2bf",
   "metadata": {},
   "source": [
    "_Your answer_"
   ]
  },
  {
   "cell_type": "markdown",
   "id": "85ff0a1d",
   "metadata": {},
   "source": [
    "*The correct answer is hidden here. Highlight or double-click to open the cell to see it when you're ready. No peeking!*\n",
    "\n",
    "<font color='white'>\n",
    "    If you increase the value of the center pixel, the death time will increase to whatever value you choose so you can make your lifetime as long as you want. \n",
    "</font>"
   ]
  },
  {
   "cell_type": "markdown",
   "id": "9ef098c7",
   "metadata": {},
   "source": [
    "## A more complex example: Sample Density\n",
    "\n",
    "Below, we have included a more complicated (and more interesting!) function to try out cubical persistence. "
   ]
  },
  {
   "cell_type": "code",
   "execution_count": null,
   "id": "6b15aca1",
   "metadata": {
    "scrolled": false
   },
   "outputs": [],
   "source": [
    "# Generate grid and function\n",
    "\n",
    "X1, X2 = np.mgrid[-6:6:250j, -6:6:250j]\n",
    "Density = np.exp(-0.5 * (X1 ** 2 + X2 ** 2)) + np.exp(-0.5 * ((X1-3) ** 2 + X2 ** 2))\n",
    "fig = plt.figure(figsize=(6, 6))\n",
    "ax = plt.axes(projection='3d')\n",
    "surf = ax.plot_surface(X1, X2, Density, rstride=1, cstride=1, cmap='viridis', edgecolor='none')\n",
    "plt.show()"
   ]
  },
  {
   "cell_type": "markdown",
   "id": "821ea5e3",
   "metadata": {},
   "source": [
    "The image is included below in case of plotting issues above. "
   ]
  },
  {
   "cell_type": "code",
   "execution_count": null,
   "id": "d71691f9",
   "metadata": {},
   "outputs": [],
   "source": [
    "# Run this cell everytime\n",
    "\n",
    "display(button)\n",
    "filename = 'figures/Cubical/Gaussian.png'\n",
    "button.on_click(on_button_clicked)"
   ]
  },
  {
   "cell_type": "markdown",
   "id": "37759146",
   "metadata": {},
   "source": [
    "<font color = 'purple'><b>Question:</b></font>\n",
    "Before attempting to use the code to compute persistence, how many points do you expect to see in the 1-dimensional persistence diagram?"
   ]
  },
  {
   "cell_type": "markdown",
   "id": "0e1ebe7a",
   "metadata": {},
   "source": [
    "_Your answer_"
   ]
  },
  {
   "cell_type": "markdown",
   "id": "0ed9f4f3",
   "metadata": {},
   "source": [
    "*The correct answer is hidden here. Highlight or double-click to open the cell to see it when you're ready. No peeking!*\n",
    "\n",
    "<font color='white'>\n",
    "   You should expect to see two points, but you're about to go find that out in the next code example anyway. \n",
    "</font>"
   ]
  },
  {
   "cell_type": "markdown",
   "id": "83cbb9da",
   "metadata": {},
   "source": [
    "## Use the code below to compute the persistence diagram"
   ]
  },
  {
   "cell_type": "code",
   "execution_count": null,
   "id": "98139ded",
   "metadata": {
    "scrolled": false
   },
   "outputs": [],
   "source": [
    "# Find Cubical Persistence\n",
    "\n",
    "Density = np.array([Density])\n",
    "cubical_persistence = CubicalPersistence(n_jobs=-1, reduced_homology=True)\n",
    "Persistence = cubical_persistence.fit_transform(Density)\n",
    "\n",
    "filtered = Filtering(epsilon=10 ** -2)\n",
    "Filtered_Persistence = filtered.fit_transform(Persistence)[0]\n",
    "Rows = Filtered_Persistence[:,2]==1\n",
    "Dgm = Filtered_Persistence[Rows,:2]\n",
    "drawDgm(Dgm)"
   ]
  },
  {
   "cell_type": "markdown",
   "id": "a14103d0",
   "metadata": {},
   "source": [
    "See below in case of plotting or computation issues."
   ]
  },
  {
   "cell_type": "code",
   "execution_count": null,
   "id": "a46de75d",
   "metadata": {},
   "outputs": [],
   "source": [
    "# Run this cell everytime\n",
    "\n",
    "display(button)\n",
    "filename = 'figures/Cubical/Gaussian_PD.png'\n",
    "button.on_click(on_button_clicked)"
   ]
  },
  {
   "cell_type": "markdown",
   "id": "321fd1f8",
   "metadata": {},
   "source": [
    "<font color = 'purple'><b>Question:</b></font>\n",
    "Connect the points in the diagram to the features in the original input function. What structural features of the function do the birth and death times correspond to? "
   ]
  },
  {
   "cell_type": "markdown",
   "id": "82668bea",
   "metadata": {},
   "source": [
    "_Your answer_"
   ]
  },
  {
   "cell_type": "markdown",
   "id": "08472610",
   "metadata": {},
   "source": [
    "*The correct answer is hidden here. Highlight or double-click to open the cell to see it when you're ready. No peeking!*\n",
    "\n",
    "<font color='white'>\n",
    "    Death is at 1 for both of them\n",
    "</font>"
   ]
  },
  {
   "cell_type": "markdown",
   "id": "fff6e297",
   "metadata": {},
   "source": [
    "# Challenge Problem\n",
    "\n",
    "Here is a more complicated example to try out. Can you connect the points in the persistence diagram to the holes in the filtration induced by the matrix?"
   ]
  },
  {
   "cell_type": "code",
   "execution_count": null,
   "id": "41fbd909",
   "metadata": {},
   "outputs": [],
   "source": [
    "Density = np.array([[1, 1, 1, 1, 1, 1, 1, 1, 1, 1],\n",
    "                   [1, 3, 3, 3, 3, 3, 6, 6, 6, 1],\n",
    "                   [1, 3, 5, 5, 4, 4, 6, 4, 6, 1],\n",
    "                   [1, 3, 5, 5, 4, 4, 6, 4, 6, 1],\n",
    "                   [1, 3, 3, 3, 3, 3, 6, 6, 6, 1],\n",
    "                   [1, 1, 1, 1, 1, 1, 1, 1, 1, 1],\n",
    "                   [1, 3, 3, 1, 1, 1, 2, 1, 1, 1],\n",
    "                   [1, 1, 1, 1, 1, 1, 1, 1, 1, 1]])\n",
    "print(Density)\n",
    "\n",
    "plt.imshow(Density)\n",
    "plt.colorbar()"
   ]
  },
  {
   "cell_type": "code",
   "execution_count": null,
   "id": "40888894",
   "metadata": {},
   "outputs": [],
   "source": [
    "# Find Cubical Persistence\n",
    "\n",
    "Density = np.array([Density])\n",
    "cubical_persistence = CubicalPersistence(n_jobs=-1, reduced_homology=True)\n",
    "Persistence = cubical_persistence.fit_transform(Density)\n",
    "\n",
    "filtered = Filtering(epsilon=10 ** -2)\n",
    "Filtered_Persistence = filtered.fit_transform(Persistence)[0]\n",
    "Rows = Filtered_Persistence[:,2]==1\n",
    "Dgm = Filtered_Persistence[Rows,:2]\n",
    "drawDgm(Dgm)"
   ]
  },
  {
   "cell_type": "markdown",
   "id": "021d21b0",
   "metadata": {
    "slideshow": {
     "slide_type": "slide"
    }
   },
   "source": [
    "In case the code doesn't run for you, click the button below to see the persistence diagram."
   ]
  },
  {
   "cell_type": "code",
   "execution_count": null,
   "id": "51f3e968",
   "metadata": {},
   "outputs": [],
   "source": [
    "# Run the cell first\n",
    "\n",
    "display(button)\n",
    "filename = 'figures/Cubical/Cubical_Example_PD.png'\n",
    "button.on_click(on_button_clicked)"
   ]
  },
  {
   "cell_type": "markdown",
   "id": "1375402f",
   "metadata": {
    "slideshow": {
     "slide_type": "slide"
    }
   },
   "source": [
    "## Side note: In these modules, we have only found sublevel persistence\n",
    "\n",
    "### That is: Everything below the threshold is included, everything above is excluded\n",
    "\n",
    "Here's an animation which computes superlevel persistence, we'll look at these more in Module 2-4 while discussing stochastic bifurcations\n",
    "\n",
    "![](figures/Stochastic/Cubical.gif)"
   ]
  }
 ],
 "metadata": {
  "kernelspec": {
   "display_name": "Python 3 (ipykernel)",
   "language": "python",
   "name": "python3"
  },
  "language_info": {
   "codemirror_mode": {
    "name": "ipython",
    "version": 3
   },
   "file_extension": ".py",
   "mimetype": "text/x-python",
   "name": "python",
   "nbconvert_exporter": "python",
   "pygments_lexer": "ipython3",
   "version": "3.11.3"
  }
 },
 "nbformat": 4,
 "nbformat_minor": 5
}
