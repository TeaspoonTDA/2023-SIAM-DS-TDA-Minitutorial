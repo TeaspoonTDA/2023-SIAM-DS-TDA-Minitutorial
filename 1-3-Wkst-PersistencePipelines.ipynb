{
 "cells": [
  {
   "cell_type": "markdown",
   "id": "e28d8f87",
   "metadata": {},
   "source": [
    "# Module 1-3 Worksheet: Persistent Homology Pipelines\n",
    "\n",
    "<font color = 'purple'>\n",
    "    \n",
    "*Once we are done talking through the slides from [the main module 1-3 notebook](1-3-PersistencePipelines.ipynb), we will take some time to test out your understanding of the definitions by working through the following questions. We encourage talking to your neighbor, and drawing pictures for understanding! Please ask if you need help!*\n",
    "    \n",
    "</font>\n"
   ]
  },
  {
   "cell_type": "markdown",
   "id": "30e88fce",
   "metadata": {},
   "source": [
    "TODO TODO TODO TODO TODO TODO TODO TODO TODO TODO "
   ]
  },
  {
   "cell_type": "markdown",
   "id": "5395a344",
   "metadata": {},
   "source": [
    "<font color = 'purple'><b>Question:</b></font>\n",
    "My question goes here"
   ]
  },
  {
   "cell_type": "markdown",
   "id": "f44aea4c",
   "metadata": {},
   "source": [
    "*Space for your notes/answer*"
   ]
  },
  {
   "cell_type": "markdown",
   "id": "15d03b32",
   "metadata": {},
   "source": [
    "*The correct answer is hidden here. Highlight or double-click to open the cell to see it when you're ready. No peeking!*\n",
    "\n",
    "<font color='white'>\n",
    "    \n",
    "Hidden solution goes in here.     \n",
    "</font>"
   ]
  },
  {
   "cell_type": "markdown",
   "id": "dad0af22",
   "metadata": {},
   "source": [
    "## <font color = 'purple'>Take home message:</font>\n",
    "- TODO"
   ]
  },
  {
   "cell_type": "markdown",
   "id": "a879266e",
   "metadata": {},
   "source": [
    "## Challenge problem\n",
    "\n",
    "If you have a ton of time left, here's a challenge problem to think about. \n",
    "\n",
    "TODO "
   ]
  },
  {
   "cell_type": "markdown",
   "id": "b421492d",
   "metadata": {},
   "source": [
    "<font color = 'purple'><b>Question:</b></font>\n",
    "What is the homology for the "
   ]
  },
  {
   "cell_type": "markdown",
   "id": "6c3a774e",
   "metadata": {},
   "source": [
    "*Space for your notes/answer*"
   ]
  },
  {
   "cell_type": "markdown",
   "id": "9e29cb37",
   "metadata": {},
   "source": [
    "*The correct answer is hidden here. Highlight or double-click to open the cell to see it when you're ready. No peeking!*\n",
    "\n",
    "<font color='white'>\n",
    "    \n",
    "Hidden solution goes in here.     \n",
    "</font>"
   ]
  },
  {
   "cell_type": "markdown",
   "id": "b9118a13",
   "metadata": {},
   "source": [
    "## <font color = 'purple'>Take home message:</font>\n",
    "- TODO"
   ]
  },
  {
   "cell_type": "markdown",
   "id": "b5eb7560",
   "metadata": {},
   "source": [
    "## Cubical Practice Example\n",
    "\n",
    "Just run the codes"
   ]
  },
  {
   "cell_type": "code",
   "execution_count": 1,
   "id": "dfddfea3",
   "metadata": {},
   "outputs": [],
   "source": [
    "# Import Libraries\n",
    "\n",
    "import numpy as np\n",
    "import matplotlib.pyplot as plt\n",
    "from gtda.homology import CubicalPersistence\n",
    "from gtda.diagrams import Filtering"
   ]
  },
  {
   "cell_type": "code",
   "execution_count": 22,
   "id": "a854e645",
   "metadata": {},
   "outputs": [
    {
     "name": "stdout",
     "output_type": "stream",
     "text": [
      "[[1 1 1 1 1 1 1 1 1 1]\n",
      " [1 3 3 3 3 3 6 6 6 1]\n",
      " [1 3 5 5 4 4 6 4 6 1]\n",
      " [1 3 5 5 4 4 6 4 6 1]\n",
      " [1 3 3 3 3 3 6 6 6 1]\n",
      " [1 1 1 1 1 1 1 1 1 1]\n",
      " [1 3 3 1 1 1 2 1 1 1]\n",
      " [1 1 1 1 1 1 1 1 1 1]]\n"
     ]
    }
   ],
   "source": [
    "X1, X2 = np.mgrid[1:9, 1:11]\n",
    "Density = np.array([np.array([1, 1, 1, 1, 1, 1, 1, 1, 1, 1]), np.array([1, 3, 3, 3, 3, 3, 6, 6, 6, 1]), np.array([1, 3, 5, 5, 4, 4, 6, 4, 6, 1]), np.array([1, 3, 5, 5, 4, 4, 6, 4, 6, 1]), np.array([1, 3, 3, 3, 3, 3, 6, 6, 6, 1]), np.array([1, 1, 1, 1, 1, 1, 1, 1, 1, 1]), np.array([1, 3, 3, 1, 1, 1, 2, 1, 1, 1]), np.array([1, 1, 1, 1, 1, 1, 1, 1, 1, 1])])\n",
    "print(Density)"
   ]
  },
  {
   "cell_type": "code",
   "execution_count": 28,
   "id": "044eb4aa",
   "metadata": {},
   "outputs": [
    {
     "data": {
      "application/javascript": [
       "/* Put everything inside the global mpl namespace */\n",
       "/* global mpl */\n",
       "window.mpl = {};\n",
       "\n",
       "mpl.get_websocket_type = function () {\n",
       "    if (typeof WebSocket !== 'undefined') {\n",
       "        return WebSocket;\n",
       "    } else if (typeof MozWebSocket !== 'undefined') {\n",
       "        return MozWebSocket;\n",
       "    } else {\n",
       "        alert(\n",
       "            'Your browser does not have WebSocket support. ' +\n",
       "                'Please try Chrome, Safari or Firefox ≥ 6. ' +\n",
       "                'Firefox 4 and 5 are also supported but you ' +\n",
       "                'have to enable WebSockets in about:config.'\n",
       "        );\n",
       "    }\n",
       "};\n",
       "\n",
       "mpl.figure = function (figure_id, websocket, ondownload, parent_element) {\n",
       "    this.id = figure_id;\n",
       "\n",
       "    this.ws = websocket;\n",
       "\n",
       "    this.supports_binary = this.ws.binaryType !== undefined;\n",
       "\n",
       "    if (!this.supports_binary) {\n",
       "        var warnings = document.getElementById('mpl-warnings');\n",
       "        if (warnings) {\n",
       "            warnings.style.display = 'block';\n",
       "            warnings.textContent =\n",
       "                'This browser does not support binary websocket messages. ' +\n",
       "                'Performance may be slow.';\n",
       "        }\n",
       "    }\n",
       "\n",
       "    this.imageObj = new Image();\n",
       "\n",
       "    this.context = undefined;\n",
       "    this.message = undefined;\n",
       "    this.canvas = undefined;\n",
       "    this.rubberband_canvas = undefined;\n",
       "    this.rubberband_context = undefined;\n",
       "    this.format_dropdown = undefined;\n",
       "\n",
       "    this.image_mode = 'full';\n",
       "\n",
       "    this.root = document.createElement('div');\n",
       "    this.root.setAttribute('style', 'display: inline-block');\n",
       "    this._root_extra_style(this.root);\n",
       "\n",
       "    parent_element.appendChild(this.root);\n",
       "\n",
       "    this._init_header(this);\n",
       "    this._init_canvas(this);\n",
       "    this._init_toolbar(this);\n",
       "\n",
       "    var fig = this;\n",
       "\n",
       "    this.waiting = false;\n",
       "\n",
       "    this.ws.onopen = function () {\n",
       "        fig.send_message('supports_binary', { value: fig.supports_binary });\n",
       "        fig.send_message('send_image_mode', {});\n",
       "        if (fig.ratio !== 1) {\n",
       "            fig.send_message('set_device_pixel_ratio', {\n",
       "                device_pixel_ratio: fig.ratio,\n",
       "            });\n",
       "        }\n",
       "        fig.send_message('refresh', {});\n",
       "    };\n",
       "\n",
       "    this.imageObj.onload = function () {\n",
       "        if (fig.image_mode === 'full') {\n",
       "            // Full images could contain transparency (where diff images\n",
       "            // almost always do), so we need to clear the canvas so that\n",
       "            // there is no ghosting.\n",
       "            fig.context.clearRect(0, 0, fig.canvas.width, fig.canvas.height);\n",
       "        }\n",
       "        fig.context.drawImage(fig.imageObj, 0, 0);\n",
       "    };\n",
       "\n",
       "    this.imageObj.onunload = function () {\n",
       "        fig.ws.close();\n",
       "    };\n",
       "\n",
       "    this.ws.onmessage = this._make_on_message_function(this);\n",
       "\n",
       "    this.ondownload = ondownload;\n",
       "};\n",
       "\n",
       "mpl.figure.prototype._init_header = function () {\n",
       "    var titlebar = document.createElement('div');\n",
       "    titlebar.classList =\n",
       "        'ui-dialog-titlebar ui-widget-header ui-corner-all ui-helper-clearfix';\n",
       "    var titletext = document.createElement('div');\n",
       "    titletext.classList = 'ui-dialog-title';\n",
       "    titletext.setAttribute(\n",
       "        'style',\n",
       "        'width: 100%; text-align: center; padding: 3px;'\n",
       "    );\n",
       "    titlebar.appendChild(titletext);\n",
       "    this.root.appendChild(titlebar);\n",
       "    this.header = titletext;\n",
       "};\n",
       "\n",
       "mpl.figure.prototype._canvas_extra_style = function (_canvas_div) {};\n",
       "\n",
       "mpl.figure.prototype._root_extra_style = function (_canvas_div) {};\n",
       "\n",
       "mpl.figure.prototype._init_canvas = function () {\n",
       "    var fig = this;\n",
       "\n",
       "    var canvas_div = (this.canvas_div = document.createElement('div'));\n",
       "    canvas_div.setAttribute(\n",
       "        'style',\n",
       "        'border: 1px solid #ddd;' +\n",
       "            'box-sizing: content-box;' +\n",
       "            'clear: both;' +\n",
       "            'min-height: 1px;' +\n",
       "            'min-width: 1px;' +\n",
       "            'outline: 0;' +\n",
       "            'overflow: hidden;' +\n",
       "            'position: relative;' +\n",
       "            'resize: both;'\n",
       "    );\n",
       "\n",
       "    function on_keyboard_event_closure(name) {\n",
       "        return function (event) {\n",
       "            return fig.key_event(event, name);\n",
       "        };\n",
       "    }\n",
       "\n",
       "    canvas_div.addEventListener(\n",
       "        'keydown',\n",
       "        on_keyboard_event_closure('key_press')\n",
       "    );\n",
       "    canvas_div.addEventListener(\n",
       "        'keyup',\n",
       "        on_keyboard_event_closure('key_release')\n",
       "    );\n",
       "\n",
       "    this._canvas_extra_style(canvas_div);\n",
       "    this.root.appendChild(canvas_div);\n",
       "\n",
       "    var canvas = (this.canvas = document.createElement('canvas'));\n",
       "    canvas.classList.add('mpl-canvas');\n",
       "    canvas.setAttribute('style', 'box-sizing: content-box;');\n",
       "\n",
       "    this.context = canvas.getContext('2d');\n",
       "\n",
       "    var backingStore =\n",
       "        this.context.backingStorePixelRatio ||\n",
       "        this.context.webkitBackingStorePixelRatio ||\n",
       "        this.context.mozBackingStorePixelRatio ||\n",
       "        this.context.msBackingStorePixelRatio ||\n",
       "        this.context.oBackingStorePixelRatio ||\n",
       "        this.context.backingStorePixelRatio ||\n",
       "        1;\n",
       "\n",
       "    this.ratio = (window.devicePixelRatio || 1) / backingStore;\n",
       "\n",
       "    var rubberband_canvas = (this.rubberband_canvas = document.createElement(\n",
       "        'canvas'\n",
       "    ));\n",
       "    rubberband_canvas.setAttribute(\n",
       "        'style',\n",
       "        'box-sizing: content-box; position: absolute; left: 0; top: 0; z-index: 1;'\n",
       "    );\n",
       "\n",
       "    // Apply a ponyfill if ResizeObserver is not implemented by browser.\n",
       "    if (this.ResizeObserver === undefined) {\n",
       "        if (window.ResizeObserver !== undefined) {\n",
       "            this.ResizeObserver = window.ResizeObserver;\n",
       "        } else {\n",
       "            var obs = _JSXTOOLS_RESIZE_OBSERVER({});\n",
       "            this.ResizeObserver = obs.ResizeObserver;\n",
       "        }\n",
       "    }\n",
       "\n",
       "    this.resizeObserverInstance = new this.ResizeObserver(function (entries) {\n",
       "        var nentries = entries.length;\n",
       "        for (var i = 0; i < nentries; i++) {\n",
       "            var entry = entries[i];\n",
       "            var width, height;\n",
       "            if (entry.contentBoxSize) {\n",
       "                if (entry.contentBoxSize instanceof Array) {\n",
       "                    // Chrome 84 implements new version of spec.\n",
       "                    width = entry.contentBoxSize[0].inlineSize;\n",
       "                    height = entry.contentBoxSize[0].blockSize;\n",
       "                } else {\n",
       "                    // Firefox implements old version of spec.\n",
       "                    width = entry.contentBoxSize.inlineSize;\n",
       "                    height = entry.contentBoxSize.blockSize;\n",
       "                }\n",
       "            } else {\n",
       "                // Chrome <84 implements even older version of spec.\n",
       "                width = entry.contentRect.width;\n",
       "                height = entry.contentRect.height;\n",
       "            }\n",
       "\n",
       "            // Keep the size of the canvas and rubber band canvas in sync with\n",
       "            // the canvas container.\n",
       "            if (entry.devicePixelContentBoxSize) {\n",
       "                // Chrome 84 implements new version of spec.\n",
       "                canvas.setAttribute(\n",
       "                    'width',\n",
       "                    entry.devicePixelContentBoxSize[0].inlineSize\n",
       "                );\n",
       "                canvas.setAttribute(\n",
       "                    'height',\n",
       "                    entry.devicePixelContentBoxSize[0].blockSize\n",
       "                );\n",
       "            } else {\n",
       "                canvas.setAttribute('width', width * fig.ratio);\n",
       "                canvas.setAttribute('height', height * fig.ratio);\n",
       "            }\n",
       "            canvas.setAttribute(\n",
       "                'style',\n",
       "                'width: ' + width + 'px; height: ' + height + 'px;'\n",
       "            );\n",
       "\n",
       "            rubberband_canvas.setAttribute('width', width);\n",
       "            rubberband_canvas.setAttribute('height', height);\n",
       "\n",
       "            // And update the size in Python. We ignore the initial 0/0 size\n",
       "            // that occurs as the element is placed into the DOM, which should\n",
       "            // otherwise not happen due to the minimum size styling.\n",
       "            if (fig.ws.readyState == 1 && width != 0 && height != 0) {\n",
       "                fig.request_resize(width, height);\n",
       "            }\n",
       "        }\n",
       "    });\n",
       "    this.resizeObserverInstance.observe(canvas_div);\n",
       "\n",
       "    function on_mouse_event_closure(name) {\n",
       "        return function (event) {\n",
       "            return fig.mouse_event(event, name);\n",
       "        };\n",
       "    }\n",
       "\n",
       "    rubberband_canvas.addEventListener(\n",
       "        'mousedown',\n",
       "        on_mouse_event_closure('button_press')\n",
       "    );\n",
       "    rubberband_canvas.addEventListener(\n",
       "        'mouseup',\n",
       "        on_mouse_event_closure('button_release')\n",
       "    );\n",
       "    rubberband_canvas.addEventListener(\n",
       "        'dblclick',\n",
       "        on_mouse_event_closure('dblclick')\n",
       "    );\n",
       "    // Throttle sequential mouse events to 1 every 20ms.\n",
       "    rubberband_canvas.addEventListener(\n",
       "        'mousemove',\n",
       "        on_mouse_event_closure('motion_notify')\n",
       "    );\n",
       "\n",
       "    rubberband_canvas.addEventListener(\n",
       "        'mouseenter',\n",
       "        on_mouse_event_closure('figure_enter')\n",
       "    );\n",
       "    rubberband_canvas.addEventListener(\n",
       "        'mouseleave',\n",
       "        on_mouse_event_closure('figure_leave')\n",
       "    );\n",
       "\n",
       "    canvas_div.addEventListener('wheel', function (event) {\n",
       "        if (event.deltaY < 0) {\n",
       "            event.step = 1;\n",
       "        } else {\n",
       "            event.step = -1;\n",
       "        }\n",
       "        on_mouse_event_closure('scroll')(event);\n",
       "    });\n",
       "\n",
       "    canvas_div.appendChild(canvas);\n",
       "    canvas_div.appendChild(rubberband_canvas);\n",
       "\n",
       "    this.rubberband_context = rubberband_canvas.getContext('2d');\n",
       "    this.rubberband_context.strokeStyle = '#000000';\n",
       "\n",
       "    this._resize_canvas = function (width, height, forward) {\n",
       "        if (forward) {\n",
       "            canvas_div.style.width = width + 'px';\n",
       "            canvas_div.style.height = height + 'px';\n",
       "        }\n",
       "    };\n",
       "\n",
       "    // Disable right mouse context menu.\n",
       "    this.rubberband_canvas.addEventListener('contextmenu', function (_e) {\n",
       "        event.preventDefault();\n",
       "        return false;\n",
       "    });\n",
       "\n",
       "    function set_focus() {\n",
       "        canvas.focus();\n",
       "        canvas_div.focus();\n",
       "    }\n",
       "\n",
       "    window.setTimeout(set_focus, 100);\n",
       "};\n",
       "\n",
       "mpl.figure.prototype._init_toolbar = function () {\n",
       "    var fig = this;\n",
       "\n",
       "    var toolbar = document.createElement('div');\n",
       "    toolbar.classList = 'mpl-toolbar';\n",
       "    this.root.appendChild(toolbar);\n",
       "\n",
       "    function on_click_closure(name) {\n",
       "        return function (_event) {\n",
       "            return fig.toolbar_button_onclick(name);\n",
       "        };\n",
       "    }\n",
       "\n",
       "    function on_mouseover_closure(tooltip) {\n",
       "        return function (event) {\n",
       "            if (!event.currentTarget.disabled) {\n",
       "                return fig.toolbar_button_onmouseover(tooltip);\n",
       "            }\n",
       "        };\n",
       "    }\n",
       "\n",
       "    fig.buttons = {};\n",
       "    var buttonGroup = document.createElement('div');\n",
       "    buttonGroup.classList = 'mpl-button-group';\n",
       "    for (var toolbar_ind in mpl.toolbar_items) {\n",
       "        var name = mpl.toolbar_items[toolbar_ind][0];\n",
       "        var tooltip = mpl.toolbar_items[toolbar_ind][1];\n",
       "        var image = mpl.toolbar_items[toolbar_ind][2];\n",
       "        var method_name = mpl.toolbar_items[toolbar_ind][3];\n",
       "\n",
       "        if (!name) {\n",
       "            /* Instead of a spacer, we start a new button group. */\n",
       "            if (buttonGroup.hasChildNodes()) {\n",
       "                toolbar.appendChild(buttonGroup);\n",
       "            }\n",
       "            buttonGroup = document.createElement('div');\n",
       "            buttonGroup.classList = 'mpl-button-group';\n",
       "            continue;\n",
       "        }\n",
       "\n",
       "        var button = (fig.buttons[name] = document.createElement('button'));\n",
       "        button.classList = 'mpl-widget';\n",
       "        button.setAttribute('role', 'button');\n",
       "        button.setAttribute('aria-disabled', 'false');\n",
       "        button.addEventListener('click', on_click_closure(method_name));\n",
       "        button.addEventListener('mouseover', on_mouseover_closure(tooltip));\n",
       "\n",
       "        var icon_img = document.createElement('img');\n",
       "        icon_img.src = '_images/' + image + '.png';\n",
       "        icon_img.srcset = '_images/' + image + '_large.png 2x';\n",
       "        icon_img.alt = tooltip;\n",
       "        button.appendChild(icon_img);\n",
       "\n",
       "        buttonGroup.appendChild(button);\n",
       "    }\n",
       "\n",
       "    if (buttonGroup.hasChildNodes()) {\n",
       "        toolbar.appendChild(buttonGroup);\n",
       "    }\n",
       "\n",
       "    var fmt_picker = document.createElement('select');\n",
       "    fmt_picker.classList = 'mpl-widget';\n",
       "    toolbar.appendChild(fmt_picker);\n",
       "    this.format_dropdown = fmt_picker;\n",
       "\n",
       "    for (var ind in mpl.extensions) {\n",
       "        var fmt = mpl.extensions[ind];\n",
       "        var option = document.createElement('option');\n",
       "        option.selected = fmt === mpl.default_extension;\n",
       "        option.innerHTML = fmt;\n",
       "        fmt_picker.appendChild(option);\n",
       "    }\n",
       "\n",
       "    var status_bar = document.createElement('span');\n",
       "    status_bar.classList = 'mpl-message';\n",
       "    toolbar.appendChild(status_bar);\n",
       "    this.message = status_bar;\n",
       "};\n",
       "\n",
       "mpl.figure.prototype.request_resize = function (x_pixels, y_pixels) {\n",
       "    // Request matplotlib to resize the figure. Matplotlib will then trigger a resize in the client,\n",
       "    // which will in turn request a refresh of the image.\n",
       "    this.send_message('resize', { width: x_pixels, height: y_pixels });\n",
       "};\n",
       "\n",
       "mpl.figure.prototype.send_message = function (type, properties) {\n",
       "    properties['type'] = type;\n",
       "    properties['figure_id'] = this.id;\n",
       "    this.ws.send(JSON.stringify(properties));\n",
       "};\n",
       "\n",
       "mpl.figure.prototype.send_draw_message = function () {\n",
       "    if (!this.waiting) {\n",
       "        this.waiting = true;\n",
       "        this.ws.send(JSON.stringify({ type: 'draw', figure_id: this.id }));\n",
       "    }\n",
       "};\n",
       "\n",
       "mpl.figure.prototype.handle_save = function (fig, _msg) {\n",
       "    var format_dropdown = fig.format_dropdown;\n",
       "    var format = format_dropdown.options[format_dropdown.selectedIndex].value;\n",
       "    fig.ondownload(fig, format);\n",
       "};\n",
       "\n",
       "mpl.figure.prototype.handle_resize = function (fig, msg) {\n",
       "    var size = msg['size'];\n",
       "    if (size[0] !== fig.canvas.width || size[1] !== fig.canvas.height) {\n",
       "        fig._resize_canvas(size[0], size[1], msg['forward']);\n",
       "        fig.send_message('refresh', {});\n",
       "    }\n",
       "};\n",
       "\n",
       "mpl.figure.prototype.handle_rubberband = function (fig, msg) {\n",
       "    var x0 = msg['x0'] / fig.ratio;\n",
       "    var y0 = (fig.canvas.height - msg['y0']) / fig.ratio;\n",
       "    var x1 = msg['x1'] / fig.ratio;\n",
       "    var y1 = (fig.canvas.height - msg['y1']) / fig.ratio;\n",
       "    x0 = Math.floor(x0) + 0.5;\n",
       "    y0 = Math.floor(y0) + 0.5;\n",
       "    x1 = Math.floor(x1) + 0.5;\n",
       "    y1 = Math.floor(y1) + 0.5;\n",
       "    var min_x = Math.min(x0, x1);\n",
       "    var min_y = Math.min(y0, y1);\n",
       "    var width = Math.abs(x1 - x0);\n",
       "    var height = Math.abs(y1 - y0);\n",
       "\n",
       "    fig.rubberband_context.clearRect(\n",
       "        0,\n",
       "        0,\n",
       "        fig.canvas.width / fig.ratio,\n",
       "        fig.canvas.height / fig.ratio\n",
       "    );\n",
       "\n",
       "    fig.rubberband_context.strokeRect(min_x, min_y, width, height);\n",
       "};\n",
       "\n",
       "mpl.figure.prototype.handle_figure_label = function (fig, msg) {\n",
       "    // Updates the figure title.\n",
       "    fig.header.textContent = msg['label'];\n",
       "};\n",
       "\n",
       "mpl.figure.prototype.handle_cursor = function (fig, msg) {\n",
       "    fig.rubberband_canvas.style.cursor = msg['cursor'];\n",
       "};\n",
       "\n",
       "mpl.figure.prototype.handle_message = function (fig, msg) {\n",
       "    fig.message.textContent = msg['message'];\n",
       "};\n",
       "\n",
       "mpl.figure.prototype.handle_draw = function (fig, _msg) {\n",
       "    // Request the server to send over a new figure.\n",
       "    fig.send_draw_message();\n",
       "};\n",
       "\n",
       "mpl.figure.prototype.handle_image_mode = function (fig, msg) {\n",
       "    fig.image_mode = msg['mode'];\n",
       "};\n",
       "\n",
       "mpl.figure.prototype.handle_history_buttons = function (fig, msg) {\n",
       "    for (var key in msg) {\n",
       "        if (!(key in fig.buttons)) {\n",
       "            continue;\n",
       "        }\n",
       "        fig.buttons[key].disabled = !msg[key];\n",
       "        fig.buttons[key].setAttribute('aria-disabled', !msg[key]);\n",
       "    }\n",
       "};\n",
       "\n",
       "mpl.figure.prototype.handle_navigate_mode = function (fig, msg) {\n",
       "    if (msg['mode'] === 'PAN') {\n",
       "        fig.buttons['Pan'].classList.add('active');\n",
       "        fig.buttons['Zoom'].classList.remove('active');\n",
       "    } else if (msg['mode'] === 'ZOOM') {\n",
       "        fig.buttons['Pan'].classList.remove('active');\n",
       "        fig.buttons['Zoom'].classList.add('active');\n",
       "    } else {\n",
       "        fig.buttons['Pan'].classList.remove('active');\n",
       "        fig.buttons['Zoom'].classList.remove('active');\n",
       "    }\n",
       "};\n",
       "\n",
       "mpl.figure.prototype.updated_canvas_event = function () {\n",
       "    // Called whenever the canvas gets updated.\n",
       "    this.send_message('ack', {});\n",
       "};\n",
       "\n",
       "// A function to construct a web socket function for onmessage handling.\n",
       "// Called in the figure constructor.\n",
       "mpl.figure.prototype._make_on_message_function = function (fig) {\n",
       "    return function socket_on_message(evt) {\n",
       "        if (evt.data instanceof Blob) {\n",
       "            var img = evt.data;\n",
       "            if (img.type !== 'image/png') {\n",
       "                /* FIXME: We get \"Resource interpreted as Image but\n",
       "                 * transferred with MIME type text/plain:\" errors on\n",
       "                 * Chrome.  But how to set the MIME type?  It doesn't seem\n",
       "                 * to be part of the websocket stream */\n",
       "                img.type = 'image/png';\n",
       "            }\n",
       "\n",
       "            /* Free the memory for the previous frames */\n",
       "            if (fig.imageObj.src) {\n",
       "                (window.URL || window.webkitURL).revokeObjectURL(\n",
       "                    fig.imageObj.src\n",
       "                );\n",
       "            }\n",
       "\n",
       "            fig.imageObj.src = (window.URL || window.webkitURL).createObjectURL(\n",
       "                img\n",
       "            );\n",
       "            fig.updated_canvas_event();\n",
       "            fig.waiting = false;\n",
       "            return;\n",
       "        } else if (\n",
       "            typeof evt.data === 'string' &&\n",
       "            evt.data.slice(0, 21) === 'data:image/png;base64'\n",
       "        ) {\n",
       "            fig.imageObj.src = evt.data;\n",
       "            fig.updated_canvas_event();\n",
       "            fig.waiting = false;\n",
       "            return;\n",
       "        }\n",
       "\n",
       "        var msg = JSON.parse(evt.data);\n",
       "        var msg_type = msg['type'];\n",
       "\n",
       "        // Call the  \"handle_{type}\" callback, which takes\n",
       "        // the figure and JSON message as its only arguments.\n",
       "        try {\n",
       "            var callback = fig['handle_' + msg_type];\n",
       "        } catch (e) {\n",
       "            console.log(\n",
       "                \"No handler for the '\" + msg_type + \"' message type: \",\n",
       "                msg\n",
       "            );\n",
       "            return;\n",
       "        }\n",
       "\n",
       "        if (callback) {\n",
       "            try {\n",
       "                // console.log(\"Handling '\" + msg_type + \"' message: \", msg);\n",
       "                callback(fig, msg);\n",
       "            } catch (e) {\n",
       "                console.log(\n",
       "                    \"Exception inside the 'handler_\" + msg_type + \"' callback:\",\n",
       "                    e,\n",
       "                    e.stack,\n",
       "                    msg\n",
       "                );\n",
       "            }\n",
       "        }\n",
       "    };\n",
       "};\n",
       "\n",
       "// from https://stackoverflow.com/questions/1114465/getting-mouse-location-in-canvas\n",
       "mpl.findpos = function (e) {\n",
       "    //this section is from http://www.quirksmode.org/js/events_properties.html\n",
       "    var targ;\n",
       "    if (!e) {\n",
       "        e = window.event;\n",
       "    }\n",
       "    if (e.target) {\n",
       "        targ = e.target;\n",
       "    } else if (e.srcElement) {\n",
       "        targ = e.srcElement;\n",
       "    }\n",
       "    if (targ.nodeType === 3) {\n",
       "        // defeat Safari bug\n",
       "        targ = targ.parentNode;\n",
       "    }\n",
       "\n",
       "    // pageX,Y are the mouse positions relative to the document\n",
       "    var boundingRect = targ.getBoundingClientRect();\n",
       "    var x = e.pageX - (boundingRect.left + document.body.scrollLeft);\n",
       "    var y = e.pageY - (boundingRect.top + document.body.scrollTop);\n",
       "\n",
       "    return { x: x, y: y };\n",
       "};\n",
       "\n",
       "/*\n",
       " * return a copy of an object with only non-object keys\n",
       " * we need this to avoid circular references\n",
       " * https://stackoverflow.com/a/24161582/3208463\n",
       " */\n",
       "function simpleKeys(original) {\n",
       "    return Object.keys(original).reduce(function (obj, key) {\n",
       "        if (typeof original[key] !== 'object') {\n",
       "            obj[key] = original[key];\n",
       "        }\n",
       "        return obj;\n",
       "    }, {});\n",
       "}\n",
       "\n",
       "mpl.figure.prototype.mouse_event = function (event, name) {\n",
       "    var canvas_pos = mpl.findpos(event);\n",
       "\n",
       "    if (name === 'button_press') {\n",
       "        this.canvas.focus();\n",
       "        this.canvas_div.focus();\n",
       "    }\n",
       "\n",
       "    var x = canvas_pos.x * this.ratio;\n",
       "    var y = canvas_pos.y * this.ratio;\n",
       "\n",
       "    this.send_message(name, {\n",
       "        x: x,\n",
       "        y: y,\n",
       "        button: event.button,\n",
       "        step: event.step,\n",
       "        guiEvent: simpleKeys(event),\n",
       "    });\n",
       "\n",
       "    /* This prevents the web browser from automatically changing to\n",
       "     * the text insertion cursor when the button is pressed.  We want\n",
       "     * to control all of the cursor setting manually through the\n",
       "     * 'cursor' event from matplotlib */\n",
       "    event.preventDefault();\n",
       "    return false;\n",
       "};\n",
       "\n",
       "mpl.figure.prototype._key_event_extra = function (_event, _name) {\n",
       "    // Handle any extra behaviour associated with a key event\n",
       "};\n",
       "\n",
       "mpl.figure.prototype.key_event = function (event, name) {\n",
       "    // Prevent repeat events\n",
       "    if (name === 'key_press') {\n",
       "        if (event.key === this._key) {\n",
       "            return;\n",
       "        } else {\n",
       "            this._key = event.key;\n",
       "        }\n",
       "    }\n",
       "    if (name === 'key_release') {\n",
       "        this._key = null;\n",
       "    }\n",
       "\n",
       "    var value = '';\n",
       "    if (event.ctrlKey && event.key !== 'Control') {\n",
       "        value += 'ctrl+';\n",
       "    }\n",
       "    else if (event.altKey && event.key !== 'Alt') {\n",
       "        value += 'alt+';\n",
       "    }\n",
       "    else if (event.shiftKey && event.key !== 'Shift') {\n",
       "        value += 'shift+';\n",
       "    }\n",
       "\n",
       "    value += 'k' + event.key;\n",
       "\n",
       "    this._key_event_extra(event, name);\n",
       "\n",
       "    this.send_message(name, { key: value, guiEvent: simpleKeys(event) });\n",
       "    return false;\n",
       "};\n",
       "\n",
       "mpl.figure.prototype.toolbar_button_onclick = function (name) {\n",
       "    if (name === 'download') {\n",
       "        this.handle_save(this, null);\n",
       "    } else {\n",
       "        this.send_message('toolbar_button', { name: name });\n",
       "    }\n",
       "};\n",
       "\n",
       "mpl.figure.prototype.toolbar_button_onmouseover = function (tooltip) {\n",
       "    this.message.textContent = tooltip;\n",
       "};\n",
       "\n",
       "///////////////// REMAINING CONTENT GENERATED BY embed_js.py /////////////////\n",
       "// prettier-ignore\n",
       "var _JSXTOOLS_RESIZE_OBSERVER=function(A){var t,i=new WeakMap,n=new WeakMap,a=new WeakMap,r=new WeakMap,o=new Set;function s(e){if(!(this instanceof s))throw new TypeError(\"Constructor requires 'new' operator\");i.set(this,e)}function h(){throw new TypeError(\"Function is not a constructor\")}function c(e,t,i,n){e=0 in arguments?Number(arguments[0]):0,t=1 in arguments?Number(arguments[1]):0,i=2 in arguments?Number(arguments[2]):0,n=3 in arguments?Number(arguments[3]):0,this.right=(this.x=this.left=e)+(this.width=i),this.bottom=(this.y=this.top=t)+(this.height=n),Object.freeze(this)}function d(){t=requestAnimationFrame(d);var s=new WeakMap,p=new Set;o.forEach((function(t){r.get(t).forEach((function(i){var r=t instanceof window.SVGElement,o=a.get(t),d=r?0:parseFloat(o.paddingTop),f=r?0:parseFloat(o.paddingRight),l=r?0:parseFloat(o.paddingBottom),u=r?0:parseFloat(o.paddingLeft),g=r?0:parseFloat(o.borderTopWidth),m=r?0:parseFloat(o.borderRightWidth),w=r?0:parseFloat(o.borderBottomWidth),b=u+f,F=d+l,v=(r?0:parseFloat(o.borderLeftWidth))+m,W=g+w,y=r?0:t.offsetHeight-W-t.clientHeight,E=r?0:t.offsetWidth-v-t.clientWidth,R=b+v,z=F+W,M=r?t.width:parseFloat(o.width)-R-E,O=r?t.height:parseFloat(o.height)-z-y;if(n.has(t)){var k=n.get(t);if(k[0]===M&&k[1]===O)return}n.set(t,[M,O]);var S=Object.create(h.prototype);S.target=t,S.contentRect=new c(u,d,M,O),s.has(i)||(s.set(i,[]),p.add(i)),s.get(i).push(S)}))})),p.forEach((function(e){i.get(e).call(e,s.get(e),e)}))}return s.prototype.observe=function(i){if(i instanceof window.Element){r.has(i)||(r.set(i,new Set),o.add(i),a.set(i,window.getComputedStyle(i)));var n=r.get(i);n.has(this)||n.add(this),cancelAnimationFrame(t),t=requestAnimationFrame(d)}},s.prototype.unobserve=function(i){if(i instanceof window.Element&&r.has(i)){var n=r.get(i);n.has(this)&&(n.delete(this),n.size||(r.delete(i),o.delete(i))),n.size||r.delete(i),o.size||cancelAnimationFrame(t)}},A.DOMRectReadOnly=c,A.ResizeObserver=s,A.ResizeObserverEntry=h,A}; // eslint-disable-line\n",
       "mpl.toolbar_items = [[\"Home\", \"Reset original view\", \"fa fa-home icon-home\", \"home\"], [\"Back\", \"Back to previous view\", \"fa fa-arrow-left icon-arrow-left\", \"back\"], [\"Forward\", \"Forward to next view\", \"fa fa-arrow-right icon-arrow-right\", \"forward\"], [\"\", \"\", \"\", \"\"], [\"Pan\", \"Left button pans, Right button zooms\\nx/y fixes axis, CTRL fixes aspect\", \"fa fa-arrows icon-move\", \"pan\"], [\"Zoom\", \"Zoom to rectangle\\nx/y fixes axis\", \"fa fa-square-o icon-check-empty\", \"zoom\"], [\"\", \"\", \"\", \"\"], [\"Download\", \"Download plot\", \"fa fa-floppy-o icon-save\", \"download\"]];\n",
       "\n",
       "mpl.extensions = [\"eps\", \"jpeg\", \"pgf\", \"pdf\", \"png\", \"ps\", \"raw\", \"svg\", \"tif\"];\n",
       "\n",
       "mpl.default_extension = \"png\";/* global mpl */\n",
       "\n",
       "var comm_websocket_adapter = function (comm) {\n",
       "    // Create a \"websocket\"-like object which calls the given IPython comm\n",
       "    // object with the appropriate methods. Currently this is a non binary\n",
       "    // socket, so there is still some room for performance tuning.\n",
       "    var ws = {};\n",
       "\n",
       "    ws.binaryType = comm.kernel.ws.binaryType;\n",
       "    ws.readyState = comm.kernel.ws.readyState;\n",
       "    function updateReadyState(_event) {\n",
       "        if (comm.kernel.ws) {\n",
       "            ws.readyState = comm.kernel.ws.readyState;\n",
       "        } else {\n",
       "            ws.readyState = 3; // Closed state.\n",
       "        }\n",
       "    }\n",
       "    comm.kernel.ws.addEventListener('open', updateReadyState);\n",
       "    comm.kernel.ws.addEventListener('close', updateReadyState);\n",
       "    comm.kernel.ws.addEventListener('error', updateReadyState);\n",
       "\n",
       "    ws.close = function () {\n",
       "        comm.close();\n",
       "    };\n",
       "    ws.send = function (m) {\n",
       "        //console.log('sending', m);\n",
       "        comm.send(m);\n",
       "    };\n",
       "    // Register the callback with on_msg.\n",
       "    comm.on_msg(function (msg) {\n",
       "        //console.log('receiving', msg['content']['data'], msg);\n",
       "        var data = msg['content']['data'];\n",
       "        if (data['blob'] !== undefined) {\n",
       "            data = {\n",
       "                data: new Blob(msg['buffers'], { type: data['blob'] }),\n",
       "            };\n",
       "        }\n",
       "        // Pass the mpl event to the overridden (by mpl) onmessage function.\n",
       "        ws.onmessage(data);\n",
       "    });\n",
       "    return ws;\n",
       "};\n",
       "\n",
       "mpl.mpl_figure_comm = function (comm, msg) {\n",
       "    // This is the function which gets called when the mpl process\n",
       "    // starts-up an IPython Comm through the \"matplotlib\" channel.\n",
       "\n",
       "    var id = msg.content.data.id;\n",
       "    // Get hold of the div created by the display call when the Comm\n",
       "    // socket was opened in Python.\n",
       "    var element = document.getElementById(id);\n",
       "    var ws_proxy = comm_websocket_adapter(comm);\n",
       "\n",
       "    function ondownload(figure, _format) {\n",
       "        window.open(figure.canvas.toDataURL());\n",
       "    }\n",
       "\n",
       "    var fig = new mpl.figure(id, ws_proxy, ondownload, element);\n",
       "\n",
       "    // Call onopen now - mpl needs it, as it is assuming we've passed it a real\n",
       "    // web socket which is closed, not our websocket->open comm proxy.\n",
       "    ws_proxy.onopen();\n",
       "\n",
       "    fig.parent_element = element;\n",
       "    fig.cell_info = mpl.find_output_cell(\"<div id='\" + id + \"'></div>\");\n",
       "    if (!fig.cell_info) {\n",
       "        console.error('Failed to find cell for figure', id, fig);\n",
       "        return;\n",
       "    }\n",
       "    fig.cell_info[0].output_area.element.on(\n",
       "        'cleared',\n",
       "        { fig: fig },\n",
       "        fig._remove_fig_handler\n",
       "    );\n",
       "};\n",
       "\n",
       "mpl.figure.prototype.handle_close = function (fig, msg) {\n",
       "    var width = fig.canvas.width / fig.ratio;\n",
       "    fig.cell_info[0].output_area.element.off(\n",
       "        'cleared',\n",
       "        fig._remove_fig_handler\n",
       "    );\n",
       "    fig.resizeObserverInstance.unobserve(fig.canvas_div);\n",
       "\n",
       "    // Update the output cell to use the data from the current canvas.\n",
       "    fig.push_to_output();\n",
       "    var dataURL = fig.canvas.toDataURL();\n",
       "    // Re-enable the keyboard manager in IPython - without this line, in FF,\n",
       "    // the notebook keyboard shortcuts fail.\n",
       "    IPython.keyboard_manager.enable();\n",
       "    fig.parent_element.innerHTML =\n",
       "        '<img src=\"' + dataURL + '\" width=\"' + width + '\">';\n",
       "    fig.close_ws(fig, msg);\n",
       "};\n",
       "\n",
       "mpl.figure.prototype.close_ws = function (fig, msg) {\n",
       "    fig.send_message('closing', msg);\n",
       "    // fig.ws.close()\n",
       "};\n",
       "\n",
       "mpl.figure.prototype.push_to_output = function (_remove_interactive) {\n",
       "    // Turn the data on the canvas into data in the output cell.\n",
       "    var width = this.canvas.width / this.ratio;\n",
       "    var dataURL = this.canvas.toDataURL();\n",
       "    this.cell_info[1]['text/html'] =\n",
       "        '<img src=\"' + dataURL + '\" width=\"' + width + '\">';\n",
       "};\n",
       "\n",
       "mpl.figure.prototype.updated_canvas_event = function () {\n",
       "    // Tell IPython that the notebook contents must change.\n",
       "    IPython.notebook.set_dirty(true);\n",
       "    this.send_message('ack', {});\n",
       "    var fig = this;\n",
       "    // Wait a second, then push the new image to the DOM so\n",
       "    // that it is saved nicely (might be nice to debounce this).\n",
       "    setTimeout(function () {\n",
       "        fig.push_to_output();\n",
       "    }, 1000);\n",
       "};\n",
       "\n",
       "mpl.figure.prototype._init_toolbar = function () {\n",
       "    var fig = this;\n",
       "\n",
       "    var toolbar = document.createElement('div');\n",
       "    toolbar.classList = 'btn-toolbar';\n",
       "    this.root.appendChild(toolbar);\n",
       "\n",
       "    function on_click_closure(name) {\n",
       "        return function (_event) {\n",
       "            return fig.toolbar_button_onclick(name);\n",
       "        };\n",
       "    }\n",
       "\n",
       "    function on_mouseover_closure(tooltip) {\n",
       "        return function (event) {\n",
       "            if (!event.currentTarget.disabled) {\n",
       "                return fig.toolbar_button_onmouseover(tooltip);\n",
       "            }\n",
       "        };\n",
       "    }\n",
       "\n",
       "    fig.buttons = {};\n",
       "    var buttonGroup = document.createElement('div');\n",
       "    buttonGroup.classList = 'btn-group';\n",
       "    var button;\n",
       "    for (var toolbar_ind in mpl.toolbar_items) {\n",
       "        var name = mpl.toolbar_items[toolbar_ind][0];\n",
       "        var tooltip = mpl.toolbar_items[toolbar_ind][1];\n",
       "        var image = mpl.toolbar_items[toolbar_ind][2];\n",
       "        var method_name = mpl.toolbar_items[toolbar_ind][3];\n",
       "\n",
       "        if (!name) {\n",
       "            /* Instead of a spacer, we start a new button group. */\n",
       "            if (buttonGroup.hasChildNodes()) {\n",
       "                toolbar.appendChild(buttonGroup);\n",
       "            }\n",
       "            buttonGroup = document.createElement('div');\n",
       "            buttonGroup.classList = 'btn-group';\n",
       "            continue;\n",
       "        }\n",
       "\n",
       "        button = fig.buttons[name] = document.createElement('button');\n",
       "        button.classList = 'btn btn-default';\n",
       "        button.href = '#';\n",
       "        button.title = name;\n",
       "        button.innerHTML = '<i class=\"fa ' + image + ' fa-lg\"></i>';\n",
       "        button.addEventListener('click', on_click_closure(method_name));\n",
       "        button.addEventListener('mouseover', on_mouseover_closure(tooltip));\n",
       "        buttonGroup.appendChild(button);\n",
       "    }\n",
       "\n",
       "    if (buttonGroup.hasChildNodes()) {\n",
       "        toolbar.appendChild(buttonGroup);\n",
       "    }\n",
       "\n",
       "    // Add the status bar.\n",
       "    var status_bar = document.createElement('span');\n",
       "    status_bar.classList = 'mpl-message pull-right';\n",
       "    toolbar.appendChild(status_bar);\n",
       "    this.message = status_bar;\n",
       "\n",
       "    // Add the close button to the window.\n",
       "    var buttongrp = document.createElement('div');\n",
       "    buttongrp.classList = 'btn-group inline pull-right';\n",
       "    button = document.createElement('button');\n",
       "    button.classList = 'btn btn-mini btn-primary';\n",
       "    button.href = '#';\n",
       "    button.title = 'Stop Interaction';\n",
       "    button.innerHTML = '<i class=\"fa fa-power-off icon-remove icon-large\"></i>';\n",
       "    button.addEventListener('click', function (_evt) {\n",
       "        fig.handle_close(fig, {});\n",
       "    });\n",
       "    button.addEventListener(\n",
       "        'mouseover',\n",
       "        on_mouseover_closure('Stop Interaction')\n",
       "    );\n",
       "    buttongrp.appendChild(button);\n",
       "    var titlebar = this.root.querySelector('.ui-dialog-titlebar');\n",
       "    titlebar.insertBefore(buttongrp, titlebar.firstChild);\n",
       "};\n",
       "\n",
       "mpl.figure.prototype._remove_fig_handler = function (event) {\n",
       "    var fig = event.data.fig;\n",
       "    if (event.target !== this) {\n",
       "        // Ignore bubbled events from children.\n",
       "        return;\n",
       "    }\n",
       "    fig.close_ws(fig, {});\n",
       "};\n",
       "\n",
       "mpl.figure.prototype._root_extra_style = function (el) {\n",
       "    el.style.boxSizing = 'content-box'; // override notebook setting of border-box.\n",
       "};\n",
       "\n",
       "mpl.figure.prototype._canvas_extra_style = function (el) {\n",
       "    // this is important to make the div 'focusable\n",
       "    el.setAttribute('tabindex', 0);\n",
       "    // reach out to IPython and tell the keyboard manager to turn it's self\n",
       "    // off when our div gets focus\n",
       "\n",
       "    // location in version 3\n",
       "    if (IPython.notebook.keyboard_manager) {\n",
       "        IPython.notebook.keyboard_manager.register_events(el);\n",
       "    } else {\n",
       "        // location in version 2\n",
       "        IPython.keyboard_manager.register_events(el);\n",
       "    }\n",
       "};\n",
       "\n",
       "mpl.figure.prototype._key_event_extra = function (event, _name) {\n",
       "    // Check for shift+enter\n",
       "    if (event.shiftKey && event.which === 13) {\n",
       "        this.canvas_div.blur();\n",
       "        // select the cell after this one\n",
       "        var index = IPython.notebook.find_cell_index(this.cell_info[0]);\n",
       "        IPython.notebook.select(index + 1);\n",
       "    }\n",
       "};\n",
       "\n",
       "mpl.figure.prototype.handle_save = function (fig, _msg) {\n",
       "    fig.ondownload(fig, null);\n",
       "};\n",
       "\n",
       "mpl.find_output_cell = function (html_output) {\n",
       "    // Return the cell and output element which can be found *uniquely* in the notebook.\n",
       "    // Note - this is a bit hacky, but it is done because the \"notebook_saving.Notebook\"\n",
       "    // IPython event is triggered only after the cells have been serialised, which for\n",
       "    // our purposes (turning an active figure into a static one), is too late.\n",
       "    var cells = IPython.notebook.get_cells();\n",
       "    var ncells = cells.length;\n",
       "    for (var i = 0; i < ncells; i++) {\n",
       "        var cell = cells[i];\n",
       "        if (cell.cell_type === 'code') {\n",
       "            for (var j = 0; j < cell.output_area.outputs.length; j++) {\n",
       "                var data = cell.output_area.outputs[j];\n",
       "                if (data.data) {\n",
       "                    // IPython >= 3 moved mimebundle to data attribute of output\n",
       "                    data = data.data;\n",
       "                }\n",
       "                if (data['text/html'] === html_output) {\n",
       "                    return [cell, data, j];\n",
       "                }\n",
       "            }\n",
       "        }\n",
       "    }\n",
       "};\n",
       "\n",
       "// Register the function which deals with the matplotlib target/channel.\n",
       "// The kernel may be null if the page has been refreshed.\n",
       "if (IPython.notebook.kernel !== null) {\n",
       "    IPython.notebook.kernel.comm_manager.register_target(\n",
       "        'matplotlib',\n",
       "        mpl.mpl_figure_comm\n",
       "    );\n",
       "}\n"
      ],
      "text/plain": [
       "<IPython.core.display.Javascript object>"
      ]
     },
     "metadata": {},
     "output_type": "display_data"
    },
    {
     "data": {
      "text/html": [
       "<img src=\"data:image/png;base64,iVBORw0KGgoAAAANSUhEUgAAAlgAAAJYCAYAAAC+ZpjcAAAAAXNSR0IArs4c6QAAIABJREFUeF7t3XuYFdWZsP2nAQEVIR9+wQRsEFFEICIHo6ASUAlqYoAxMoijeIgmYhQkaisqdCsCSiLkBIIYJSYMigpEDQ6DytkoHoMQFEzE5hTN+yIBlUYa3qsq2VtOsp9N1Vq1qtbd18U/w+qqtX9PdeZ29e6mZNeuXbuEDwQQQAABBBBAAIHYBEoIrNgsuRACCCCAAAIIIBAKEFg8CAgggAACCCCAQMwCBFbMoFwOAQQQQAABBBAgsHgGEEAAAQQQQACBmAUIrJhBuRwCCCCAAAIIIEBg8QwggAACCCCAAAIxCxBYMYNyOQQQQAABBBBAgMDiGUAAAQQQQAABBGIWILBiBuVyCCCAAAIIIIAAgcUzgAACCCCAAAIIxCxAYMUMyuUQQAABBBBAAAECi2cAAQQQQAABBBCIWYDAihmUyyGAAAIIIIAAAgQWzwACCCCAAAIIIBCzAIEVMyiXQwABBBBAAAEECCyeAQQQQAABBBBAIGYBAitmUC6HAAIIIIAAAggQWDwDCCCAAAIIIIBAzAIEVsygXA4BBBBAAAEEECCweAYQQAABBBBAAIGYBQismEG5HAIIIIAAAgggQGDxDCCAAAIIIIAAAjELEFgxg3I5BBBAAAEEEECAwOIZQAABBBBAAAEEYhYgsGIG5XIIIIAAAggggACBxTOAAAIIIIAAAgjELEBgxQzK5RBAAAEEEEAAAQKLZwABBBBAAAEEEIhZgMCKGZTLIYAAAggggAACBBbPAAIIIIAAAgggELMAgRUzKJdDAAEEEEAAAQQILJ4BBBBAAAEEEEAgZgECK2ZQLocAAggggAACCBBYPAMIIIAAAggggEDMAgRWzKBcDgEEEEAAAQQQILB4BhBAAAEEEEAAgZgFCKyYQbkcAggggAACCCBAYPEMIIAAAggggAACMQsQWDGDcjkEEEAAAQQQQIDA4hlAAAEEEEAAAQRiFiCwYgblcggggAACCCCAAIHFM4AAAggggAACCMQsQGDFDMrlEEAAAQQQQAABAotnAAEEEEAAAQQQiFmAwIoZlMshgAACCCCAAAIEFs8AAggggAACCCAQswCBFTMol0MAAQQQQAABBAgsngEEEEAAAQQQQCBmAQIrZlAuhwACCCCAAAIIEFg8AwgggAACCCCAQMwCBFbMoFwOAQQQQAABBBAgsHgGEEAAAQQQQACBmAUIrJhBuRwCCCCAAAIIIEBg8QwggAACCCCAAAIxCxBYMYNyOQQQQAABBBBAgMDiGUAAAQQQQAABBGIWILBiBuVyCCCAAAIIIIAAgcUzgAACCCCAAAIIxCxAYMUMyuUQQAABBBBAAAECi2cAAQQQQAABBBCIWYDAihmUyyGAAAIIIIAAAgQWzwACCCCAAAIIIBCzAIEVMyiXQwABBBBAAAEECCyeAQQQQAABBBBAIGYBAitmUC6HAAIIIIAAAggQWDwDCCCAAAIIIIBAzAIEVsygXA4BBBBAAAFXBNatWydlZWUye/Zs+eyzz6Rly5by0EMPSceOHV3ZYmb3QWBldrS8MAQQQAABnwU2bdok7du3l+7du8u1114rjRo1kvfee0+OOeYYadGihc80Vl47gWWFmZsggAACCCBgV+DWW2+VxYsXy8KFC+3emLuFAgQWDwICCCCAAAIZFGjdurX07NlT1q5dK/Pnz5cmTZrIwIED5eqrr87gq3XvJRFY7s2EHSGAAAIIpFhg27Ztsn37diOvYNeuXVJSUrLHtevUqSPBn70/6tatG/6fhgwZIhdddJG88sorMnjwYJk4caJcdtllRvbHRb8QILB4GhBAAAEEEIhJIIir5s3qycYPq2O64p6XqVevnmzdunWP/+Pw4cOlvLx8n/vVrl1bOnXqJEuWLMn/3Q033CBLly6Vl156ycj+uCiBxTOAAAIIIIBA7AL//Oc/pUGDBrLmtWOk/hE1Yr3+P7fslGYd35fKykqpX79+/tpfdoLVrFkz6dGjh0yePDm/dsKECTJixAgJfrqQD7MCnGCZ9eXqCCCAAAIeCeQC6/+829xIYB3Z8m+yefPmPQLry3j79+8fxtjub3K/8cYb5eWXX97jVMuj8Vh9qQSWVW5uhgACCCCQZQGXAiv4VmCXLl2koqJC+vbtG74HK3iD+6RJk+SSSy7J8hiceG0ElhNjYBMIIIAAAlkQyAXWh+80M3KC1eiENeoTrMDzmWeekdtuu01WrVolzZs3D9/wzk8R2nnSCCw7ztwFAQQQQMADgVxgbXynqZHA+toJHxQVWB6QO/sSCSxnR8PGEEAAAQTSJkBgpW1i5vZLYJmz5coIIIAAAp4J5AJr/TtHGznBanzCWk6wUvJMEVgpGRTbRAABBBBwX4DAcn9GtnZIYNmS5j4IIIAAApkXyAVW5comRk6wSlut4wQrJU8RgZWSQbFNBBBAAAH3BQgs92dka4cEli1p7oMAAgggkHmB/G9yX9nYyAlWs1brOcFKyVNEYKVkUGwTAQQQQMB9AQLL/RnZ2iGBZUua+yCAAAIIZF4gF1h/W/l1OSLmf4twy5ad0rzVBk6wUvIUEVgpGRTbRAABBBBwXyAXWO+t/JqRwGrRaiOB5f5jEO6QwErJoNgmAggggID7AgSW+zOytUMCy5Y090EAAQQQyLxALrDe/ctRRk6wWp74d06wUvIUEVgpGRTbRAABBBBwX4DAcn9GtnZIYNmS5j4IIIAAApkXyAXWSkMnWK04wUrNM0RgpWZUbBQBBBBAwHUBAsv1CdnbH4Flz5o7IYAAAghkXCAXWMv/0sjIe7DanPgh78FKyTNEYKVkUGwTAQQQQMB9AQLL/RnZ2iGBZUua+yCAAAIIZF4gF1h/XmHmBOuk1pxgpeUhIrDSMin2iQACCCDgvEAusN40FFgnE1jOPwO5DRJYqRkVG0UAAQQQcF2AwHJ9Qvb2R2DZs+ZOCCCAAAIZF8gF1usrjpJ6Mf9bhFu37JQOrflFo2l5hAistEyKfSKAAAIIOC9AYDk/ImsbJLCsUXMjBBBAAIGsC+QC69XlZk6wOrXhBCstzxCBlZZJsU8EEEAAAecFCCznR2RtgwSWNWpuhAACCCCQdYFcYL28/GtG3oN1apuN/KLRlDxEBFZKBsU2EUAAAQTcFyCw3J+RrR0SWLakuQ8CCCCAQOYFcoG1ZPnXjZxgdWmzgROslDxFBFZKBsU2EUAAAQTcF8gF1qK3GxsJrDPariew3H8Mwh0SWCkZFNtEAAEEEHBfgMByf0a2dkhg2ZLmPggggAACmRfIBdb8t5sYOcH6Vtt1nGCl5CkisFIyKLaJAAIIIOC+AIHl/oxs7ZDAsiXNfRBAAAEEMi+QC6wX3i41coJ1VttKTrBS8hQRWCkZFNtEAAEEEHBfgMByf0a2dkhg2ZLmPggggAACmRfIBdbzy5rK4TH/Y8+fbNkpZ3/jA06wUvIUEVgpGRTbRAABBBBwX4DAcn9GtnZIYNmS5j4IIIAAApkXyAXWnGXNjJxgffsbazjBSslTRGClZFBsEwEEEEDAfQECy/0Z2dohgWVLmvsggAACCGReIBdYs//c3MgJ1nkn/Y0TrJQ8RQRWSgbFNhFAAAEE3BfIBdazfz5WDj+iZqwb/mRLtXznpL8SWLGqmrsYgWXOlisjgAACCHgmQGB5NvADvFwCi2cBAQQQQACBmARygfWHP7cwcoL1vZPe4wQrplmZvgyBZVqY6yOAAAIIeCNAYHkz6oIvlMAqSMQCBBBAAAEEdAK5wJrx1vFGTrD6tFvFCZZuFImvIrASHwEbQAABBBDIigCBlZVJRn8dBFZ0Q66AAAIIIIBAKJALrCffamnkBOvCdu9ygpWSZ43ASsmg2CYCCCCAgPsCBJb7M7K1QwLLljT3QQABBBDIvEAusKa/1UoOi/n3YH26pVouareSE6yUPEUEVkoGxTYRQAABBNwXyAXWtDdbGwmsfievILDcfwzCHRJYKRkU20QAAQQQcF+AwHJ/RrZ2SGDZkuY+CCCAAAKZF8gF1tQ32xo5wep/8tucYKXkKSKwUjIotokAAggg4L4AgeX+jGztkMCyJc19EEAAAQQyL5ALrEff+IaRE6xL2y/jBCslTxGBlZJBsU0EEEAAAfcFCCz3Z2RrhwSWLWnugwACCCCQeYFcYD3yRjsjJ1iXt3+LE6yUPEUEVkoGxTYRQAABBNwXILDcn5GtHRJYtqS5DwIIIIBA5gVygfWb19sbOcG6ssMbnGCl5CkisFIyKLaJAAIIIOC+QC6wHny9o5HAurrDawSW+49BuEMCKyWDYpsIIIAAAu4LEFjuz8jWDgksW9LcBwEEEEAg8wK5wJr4ekc5tF6tWF/vZ1t3yA85wYrV1OTFCCyTulwbAQQQQMArAQLLq3Ef8MUSWDwLCCCAAAIIxCSQC6wJr59i5ATr2g5LeQ9WTLMyfRkCy7Qw10cAAQQQ8EaAwPJm1AVfKIFVkIgFCCCAAAII6ARygfWr1041coL1444vc4KlG0XiqwisxEfABhBAAAEEsiJAYGVlktFfB4EV3ZArIIAAAgggEArkAusXr51m5ATrho5/4gQrJc8agZWSQbFNBBBAAAH3BXKBNfbVLkYC68ZOSwgs9x+DcIcEVkoGxTYRQAABBNwXILDcn5GtHRJYtqS5DwIIIIBA5gVygfXTV88wcoJ1U6dFnGCl5CkisFIyKLaJAAIIIOC+AIHl/oxs7ZDAsiXNfRBAAAEEMi+QC6z7lp5p5ATrllMWcoKVkqeIwErJoNgmAggggID7AgSW+zOytUMCy5Y090EAAQQQyLxALrBGL/2W1I35H3vetnWH3HrKfE6wUvIUEVgpGRTbRAABBBBwX4DAcn9GtnZIYNmS5j4IIIAAApkXyAXWyFe6GznBGvrNFznBSslTRGClZFBsEwEEEEDAfYFcYN39yllGAuvOb75AYLn/GIQ7JLBSMii2iQACCCDgvgCB5f6MbO2QwFJK79y5U9avXy9HHHGElJSUKD+LZQgggAACrgns2rVLtmzZIo0bN5YaNWrEur1cYFW8fI6RE6zhp87lBCvWiZm7GIGltF27dq2UlpYqV7MMAQQQQMB1gcrKSjn66KNj3SaBFStnqi9GYCnHt3nzZvnKV74iZ8j5UksOUX4WyxBAAAEEXBPYIZ/LIvmjfPzxx9KgQYNYt5cLrGHhCVa8/79i29bP5S5OsGKdl8mLEVhK3dwXTTfpJbVK4v2iUW6BZQgggAACMQjs2PW5zJNZRr7VRmDFMKCMXILAUg6SwFJCsQwBBBBwXMBGYN3xp28bOcEacdocI2Ho+MhSuT0CSzk2AksJxTIEEEDAcQECy/EBZWR7BJZykASWEoplCCCAgOMCNgLrtpfONXKCNarzc5xgOf585bZHYCkHRWApoViGAAIIOC5gI7Bufek8qRPzm9yrtn4uozvPVgdWeXm5VFRU7DGNo446SjZu3Oj4hLKxPQJLOUcCSwnFMgQQQMBxAZ8C64knnpC5c+fmJ1KzZk356le/6viEsrE9Aks5RwJLCcUyBBBAwHEBG4F185LvGDnBGtPl2aJOsGbOnClvvvmm4xPJ5vYILOVcCSwlFMsQQAABxwXSHljBL0itX79+XrlOnToS/Nn7I/gW4ZgxY8Lf9RX8/amnniojR46UY4891vEJZWN7BJZyjgSWEoplCCCAgOMCNgLrJ4u/a+QE62enP7OP7vDhwyWIqb0/Zs+eLZ9++qm0bNlS/v73v8uIESNk5cqVsnz5cjnyyCMdn1L6t0dgKWdIYCmhWIYAAgg4LpD2wNKeYO09hk8++URatGght9xyiwwZMsTxKaV/ewSWcoYElhKKZQgggIDjAjYCa/Di7xk5wRp3+h/U78Ha3xh69Oghxx13nEyYMMHxKaV/ewSWcoYElhKKZQgggIDjAr4GVlVVVXiCdc0118iwYcMcn1L6t+dVYI0fPz58w9+GDRukTZs2Mm7cODnzzDNVUySwVEwsQgABBJwXsBFYNyzqZeQE6xdn6P8NxZtuukkuuOACadq0qXz44Yfhe7Dmz58vy5Ytk2bNmjk/p7Rv0JvAeuyxx+TSSy+VILJOP/10mThxokyePFlWrFgRPnyFPgisQkL8PQIIIJAOARuB9eNFfYwE1q/OmKH+FmG/fv1kwYIF8o9//CP83VennXaa3H333dK6det0DCrlu/QmsIIfT+3QocMe33c+8cQTpXfv3jJq1KiCYySwChKxAAEEEEiFgC+BlYphZHiTXgTW9u3b5bDDDpPp06dLnz598uMcNGhQ+AvYgiPTQh8EViEh/h4BBBBIh4CNwLp24X8YOcGacOZT6hOsdEwju7v0IrDWr18vTZo0kcWLF0uXLl3y0wx+4dqUKVPknXfe2WfCwZsBgz+5jyCwSktLpZv0klolh2T3ieCVIYAAAhkXILAyPmBHXp5XgbVkyRLp3Llznv6ee+6RRx99NPzFa3t/7O8fyQzWEFiOPLlsAwEEEDhIARuB9cMFFxo5wZrY9UlOsA5y7rY/zYvAOphvEXKCZftR5H4IIICAHQECy46z73fxIrCCIQdvcu/YsWP4U4S5j+AnKXr16sWb3H3/KuD1I4CAVwI2Auua+RdJ7Xrxvp1k+9bPZdK3pnOClZKn1ZvAyv2ahgceeCD8NuGkSZPkwQcfDP9NJs3vA+FN7il5otkmAgggUECAwOIRsSHgTWAFmMHp1X333Rf+otG2bdvK2LFjpWvXripnAkvFxCIEEEDAeQEbgXXV/L5GTrAe+tbjnGA5/4T9a4NeBVaUmRBYUfT4XAQQQMAdARuBdcW8ILBqx/qit2/dLg93I7BiRTV4MQJLiUtgKaFYhgACCDguQGA5PqCMbI/AUg6SwFJCsQwBBBBwXMBGYA14sZ+RE6wp3afxLULHn6/c9ggs5aAILCUUyxBAAAHHBQgsxweUke0RWMpBElhKKJYhgAACjgvYCKxLX7zYyAnWo93/mxMsx58vTrCKHBCBVSQYyxFAAAFHBQgsRweTsW1xgqUcKIGlhGIZAggg4LiAjcDq/0J/IydYU8+aygmW488XJ1hFDojAKhKM5QgggICjAgSWo4PJ2LY4wVIOlMBSQrEMAQQQcFzARmD1e/6/jJxgTTv7d5xgOf58cYJV5IAIrCLBWI4AAgg4KmAjsPo+f6nUPjzmXzT6yXZ5/OxHCSxHn6u9t8UJlnJQBJYSimUIIICA4wIEluMDysj2CCzlIAksJRTLEEAAAccFbATWRc9fJofEfIL1+SfbZfrZv+UEy/Hni28RFjkgAqtIMJYjgAACjgoQWI4OJmPb4gRLOVBXA2tdWRflK2AZAukWeHvQ+HS/AM9337Pxyc4I2AisC+cOMHKC9eQ5UzjBcuZJOvBGCCzloAgsJRTLEDAkQGAZgrV0WQIrOnTwLUICK7qjrSsQWEppAksJxTIEDAkQWIZgLV3Wt8Dq879XGDnBmtHjYU6wLD2zUW9DYCkFCSwlFMsQMCRAYBmCtXRZAis6dHCCRWBFd7R1BQJLKU1gKaFYhoAhAQLLEKyly/oWWL3mXGnkBGvWt3/DCZalZzbqbQgspSCBpYRiGQKGBAgsQ7CWLktgRYcOTrAIrOiOtq5AYCmlCSwlFMsQMCRAYBmCtXRZ3wLrgjlXGTnBevrbD3GCZemZjXobAkspSGApoViGgCEBAssQrKXL+hZY3/mfHxgJrGd7TiawLD2zUW9DYCkFCSwlFMsQMCRAYBmCtXRZAis6dPAtQgIruqOtKxBYSmkCSwnFMgQMCRBYhmAtXda3wDrvuauNnGDNPvdBTrAsPbNRb0NgKQUJLCUUyxAwJEBgGYK1dFkCKzp0cIJFYEV3tHUFAkspTWApoViGgCEBAssQrKXL+hZYPWdfY+QE63/Om8QJlqVnNuptCCylIIGlhGIZAoYECCxDsJYuS2BFhw5OsAis6I62rkBgKaUJLCUUyxAwJEBgGYK1dFnfAqvHH39o5ATrf8+fyAmWpWc26m0ILKUggaWEYhkChgQILEOwli5LYEWHDk6wCKzojrau4E1gLViwQMaMGSOvvfaabNiwQWbMmCG9e/dWOxNYaioWImBEgMAywmrtor4F1jl//KHUOrxOrL47PqmSuZxgxWpq8mLeBNbs2bNl8eLF0qFDB7nwwgsJLJNPFddGwIAAgWUA1eIlfQuss579kZHAeuE7D/AtQovPbZRbeRNYuyOVlJQQWFGeGj4XgQQECKwE0GO8JYEVHTM4wSKwojvaugKB9SXSVVVVEvzJfQTfIiwtLZVu0ktqlRxiaz4F77OurEvBNSxAIAsCBFa6p+hbYHV75lojJ1jzvjuBE6yUfCkQWF8yqPLycqmoqNjnbwmslDzZbDNzAgRWukdKYEWfX3CCRWBFd7R1BQKLEyxbzxr3QSCSAIEViS/xT/YtsLo+PdDICdaCC8ZzgpX406zbAIGlcxJ+ilAJxTIEDAkQWIZgLV2WwIoOHZxgEVjRHW1dgcBSShNYSiiWIWBIgMAyBGvpsr4F1hl/uM7ICdai7/2aEyxLz2zU23gTWFu3bpXVq1eHXu3bt5f7779funfvLg0bNpSmTZsWdCSwChKxAAGjAgSWUV7jFyewohMHJ1gEVnRHW1fwJrDmzZsXBtXeHwMGDJBHHnmkoDeBVZCIBQgYFSCwjPIav7hvgXX6rB8bOcFa3OtXnGAZf1rjuYE3gRWVi8CKKsjnIxBNgMCK5pf0Z/sWWJ1nXW8ksF7q9UsCK+mHWXl/AksJRWApoViGgCEBAssQrKXLEljRoYNvERJY0R1tXYHAUkoTWEooliFgSIDAMgRr6bK+BdapM28wcoL1cu9fcIJl6ZmNehsCSylIYCmhWIaAIQECyxCspcsSWNGhgxMsAiu6o60rEFhKaQJLCcUyBAwJEFiGYC1d1rfA+uaMQUZOsF7p83NOsCw9s1FvQ2ApBQksJRTLEDAkQGAZgrV0WQIrOnRwgkVgRXe0dQUCSylNYCmhWIaAIQECyxCspcv6Flidnhps5ATr1f8YxwmWpWc26m0ILKUggaWEYhkChgQILEOwli5LYEWHDk6wCKzojrauQGAppQksJRTLEDAkQGAZgrV0Wd8Cq+OTNxo5wXrtwrGcYFl6ZqPehsBSChJYSiiWIWBIgMAyBGvpsr4FVocnhkjNw+vEqlv9SZW8/v37CaxYVc1djMBS2hJYSiiWIWBIgMAyBGvpsgRWdGgCK7qhzSsQWEptAksJxTIEDAkQWIZgLV3Wt8BqH5xgHRbzCdanVfIGJ1iWntjotyGwlIYElhLq38t6X7ywuE/wdPVjKzp6+sqLf9mruhX+R9mLv2q0zzh+3uXRLmDgs110Cl4mgRV92NUEVnREi1cgsJTYBJYSisAqCorA0nO5GA4Eln5+vgVWuyd+YuQE663v/4z3YOkfu0RXElhKfgJLCUVgFQVFYOm5CCydlYtOPp5gEVi65zXLqwgs5XQJLCUUgVUUFIGl53IxHDjB0s/PtxOsk6bfZOQE688X/ZQTLP1jl+hKAkvJT2ApoQisoqAILD0XgaWzctHJxxMsAkv3vGZ5FYGlnC6BpYQisIqCIrD0XC6GAydY+vn5doLV9vGbjZxgvd13DCdY+scu0ZUElpKfwFJCEVhFQRFYei4CS2flopOPJ1htHjMTWMv/k8DSfSUkv4rAUs6AwFJCEVhFQRFYei4Xw4ETLP38fDvBIrD0z0ZWVxJYyskSWEooAqsoKAJLz0Vg6axcdPLxBKv1tFuMfItwRb/7+Bah7ksh8VUElnIEBJYSisAqCorA0nO5GA6cYOnn59sJFoGlfzayupLAUk6WwFJCEVhFQRFYei4CS2flopOPJ1gn/neZkROsv1x8LydYui+FxFcRWMoREFhKKAKrKCgCS8/lYjhwgqWfn28nWASW/tnI6koCSzlZAksJRWAVBUVg6bkILJ2Vi04+nmCdMPVWIydY7/QfzQmW7ksh8VUElnIEBJYSisAqCorA0nO5GA6cYOnn59sJFoGlfzayupLAUk6WwFJCEVhFQRFYei4CS2flopOPJ1gtf2/mBOvdSzjB0n0lJL/Ki8AaNWqUPPXUU7Jy5Uo59NBDpUuXLnLvvffKCSecoJ4AgaWmChf2vnhhcZ/g6WoCSz94F8OBEyz9/Hw7wTr+d0Fg1dUDKVZWf7pNVv0XgaWgcmKJF4F17rnnSr9+/eSUU06RHTt2yO233y7Lli2TFStWyOGHH64aBIGlYsovIrB0XgSWzilYRWDprFx08vEEi8DSPa9ZXuVFYO09wI8++kgaNWok8+fPl65du6rmS2CpmAis4piEwNKDuRgOnGDp5+fbCdZxj95m5ARr9aWjeJO7/rFLdKWXgbV69Wo5/vjjw1Ostm3b7ncAVVVVEvzJfQSBVVpaKt2kl9QqOSTRoe1+83VlXZzZy+4b4QRLNxYCS+fECVa6nXw8wSKw9M9sVld6F1i7du2SXr16yaZNm2Thwi9/n1B5eblUVFTsM3cCS/elQGDpnAgsnROBlW4nHwOrhaETrPc4wdJ/MSS80rvAuu666+TZZ5+VRYsWydFHH/2l/JxgRXsyCSydH4GlcyKw0u1EYOnnd6CVwZvcCax4LG1cxavAuv7662XmzJmyYMECad68eVG+vAerKC5+ilDJRWApoXiTuxrKxfeq+RhYx/52qJH3YP31spG8B0v91ZDsQi8CK/i2YBBXM2bMkHnz5oXvvyr2g8AqTowTLJ0XgaVz4gQr3U4Eln5+hU6wCKx4LG1cxYvAGjhwoEydOlVmzZq1x+++atCgQfh7sTQfBJZG6Ys1BJbOi8DSORFY6XbyMrCmGDrBGsAJlv6rIdmVXgRWSUnJfpUffvhhufzyy1UTILBUTPlFBJbOi8DSORFY6XbyMrAeuV1qxPyLRnd+uk3+evk9B/0twuCXbg8dOlQGDRok48aN0z9UrDxe6awSAAAgAElEQVQoAS8C66Bk9vokAqs4RQJL50Vg6ZwIrHQ7EVj6+R1oZZTAWrp0qfTt21fq168v3bt3J7DiGckBr0JgKZEJLCXUv5cRWDovAkvnRGCl28nHwGr+sJkTrL9dUfwJ1tatW6VDhw4yfvx4GTFihJx88skElv5L6qBXElhKOgJLCUVgFQVFYOm5XPzpOH6Tu35+vv0md5cCa8CAAdKwYUMZO3asdOvWjcDSP7aRVhJYSj4CSwlFYBUFRWDpuQgsnZWLTj6eYB3zmzuMvAfr/StHSGVlZfitvtxHnTp1JPizv49p06aFp1avvvqq1K1bl8DSfRnFsorAUjISWEooAqsoKAJLz+ViOHCCpZ+fbydYJgNrb/Xhw4dL8K+P7P0RhFinTp1kzpw50q5du/CvOcHSP7NRVxJYSkECSwlFYBUFRWDpuQgsnZWLTl6eYD10p5kTrKvuVp9gBb9Yu0+fPlKzZs38w1NdXS3BT9bXqFEj/Pd2d/873RPGKq0AgaWUIrCUUARWUVAElp7LxXDgBEs/P+9OsAwG1ubNm/f4FuGXTWHLli2yZs2aPf76iiuukFatWklZWZm0bdtWP0BWFi1AYCnJCCwlFIFVFBSBpecisHRWLjr5eILVbLKZE6w1P7j7oH8PFt8i1H0NxbWKwFJKElhKKAKrKCgCS8/lYjhwgqWfn28nWM0eNBRYVxNY+qcu2ZUEltKfwFJCEVhFQRFYei4CS2flopOXJ1iOBpbuKWJVHAIEllKRwFJCEVhFQRFYei4Xw4ETLP38fDvBajppmJE3uX9wzV2RvkWonxgrowoQWEpBAksJRWAVBUVg6bkILJ2Vi04+nmARWLrnNcurCCzldAksJRSBVRQUgaXncjEcOMHSz8/LE6xD6+qBFCt3frZNOMFSQDmyhMBSDoLAUkIRWEVBEVh6LgJLZ+Wik7cnWASW7qHN6CoCSzlYAksJRWAVBUVg6blcDAdOsPTz8+0Eq3TicKlhILAqf1jBe7D0j12iKwksJT+BpYQisIqCIrD0XASWzspFJx9PsAgs3fOa5VUElnK6BJYSisAqCorA0nO5GA6cYOnn590J1gOGTrB+xAmW/qlLdiWBpfQnsJRQBFZRUASWnovA0lm56OTlCRaBpXtgM7yKwFIOl8BSQhFYRUERWHouF8OBEyz9/Pw7wSo38x6sH5XzHiz9Y5foSgJLyU9gKaEIrKKgCCw9F4Gls3LRycsTrAmGAutaAkv3lZD8KgJLOQMCSwlFYBUFRWDpuVwMB06w9PPz7gSLwNI/HBldSWApB0tgKaEIrKKgCCw9F4Gls3LRycsTrPGGTrAGcoKl+0pIfhWBpZwBgaWEIrCKgiKw9FwuhgMnWPr5eXeCRWDpH46MriSwlIMlsJRQBFZRUASWnovA0lm56OTlCdavK8y8yf264bzJXfelkPgqAks5AgJLCUVgFQVFYOm5XAwHTrD08/PuBIvA0j8cGV1JYCkHS2ApoQisoqAILD0XgaWzctHJxxOso39l5gRr7Y85wdJ9JSS/isBSzoDAUkIRWEVBEVh6LhfDgRMs/fx8O8EisPTPRlZXehFYEyZMkODP+++/H86xTZs2MmzYMDnvvPPUcyWw1FThwt4XLyzuEzxdTWDpB09g6axcdPLyBOuXhk6wrucES/eVkPwqLwLr6aeflpo1a8pxxx0Xik+ZMkXGjBkjb7zxRhhbmg8CS6P0xRoCS+dFYOmcglUuhgMnWPr5eXeC9Yu7jLzJfe0Nw3iTu/6xS3SlF4G1P+GGDRuGkXXVVVepBkBgqZjyiwgsnReBpXMisNLt5OUJFoGlf2gzutK7wKqurpbp06fLgAEDwhOs1q1b73e0VVVVEvzJfQSBVVpaKt2kl9QqOcSZx2FdWRdn9rL7Rggs3VgILJ0TgZVuJx8Dq/TnZk6wKgdxgqX/akh2pTeBtWzZMuncubNs27ZN6tWrJ1OnTpXzzz//S/XLy8uloqJin78nsHQPLIGlcyKwdE4EVrqdCCz9/A60cudn24TAisfSxlW8Cazt27fLBx98IB9//LE8+eSTMnnyZJk/fz4nWIaeMgJLB0tg6ZwIrHQ7eRlY4wydYA3mBEv/1ZDsSm8Ca2/mc845R1q0aCETJ05UTYD3YKmY8osILJ0XgaVzIrDS7URg6edX8ASLwIoH08JVvA2ss88+O3xP1SOPPKJiJrBUTARWcUxCYOnB+ClCnZWLTl4G1ti7jfwUYeWNd/JThLovhcRXeRFYQ4cODX/nVRBUW7ZskWnTpsno0aPlueeekx49eqiGQGCpmAis4pgIrCK8XAwHfk2DfoC+/ZqGUgJL/3BkdKUXgRX8Kobnn39eNmzYIA0aNJCTTjpJysrK1HEVzJ7AKu4rgG8R6rw4wdI58S3CdDt5eYJ1v6ETrCGcYOm/GpJd6UVgxUFMYBWnSGDpvAgsnROBlW4nLwPrZ4YC6ycElv6rIdmVBJbSn8BSQv17GYGl8yKwdE4EVrqdCCz9/A60Mvw1DQRWPJgWrkJgKZEJLCUUgVUUFIGl5+I9WDorF528DKyfGjrBuokTLN1XQvKrCCzlDAgsJRSBVRQUgaXncjEceJO7fn7evcmdwNI/HBldSWApB0tgKaEIrKKgCCw9F4Gls3LRycsTrDEjzPyahpvv4Nc06L4UEl9FYClHQGApoQisoqAILD2Xi+HACZZ+ft6dYBFY+ocjoysJLOVgCSwlFIFVFBSBpecisHRWLjr5eILV9D4zJ1gf3MIJlu4rIflVBJZyBgSWEorAKgqKwNJzuRgOnGDp5+fbCRaBpX82srqSwFJOlsBSQhFYRUERWHouAktn5aKTlydY9xo6wSrjBEv3lZD8KgJLOQMCSwlFYBUFRWDpuVwMB06w9PPz7gSLwNI/HBldSWApB0tgKaEIrKKgCCw9F4Gls3LRiRMs3ewKrQp+0egHnGAVYnLm7wks5SgILCUUgVUUFIGl53IxHDjB0s/PtxOsZsEJVt26eiDFyp3btskaAksh5cYSAks5BwJLCUVgFQVFYOm5CCydlYtOPp5gEVi65zXLqwgs5XQJLCUUyxAwJPD2oPGGrsxlbQh4d4I1+h4zJ1i33s4vGrXxwMZwDwJLiUhgKaFYhoAhAQLLEKylyxJY0aHDbxESWNEhLV2BwFJCE1hKKJYhYEiAwDIEa+my3gXWKEMnWLdxgmXpkY18GwJLSUhgKaFYhoAhAQLLEKylyxJY0aHDEywCKzqkpSsQWEpoAksJxTIEDAkQWIZgLV3Wu8AaaegEaygnWJYe2ci3IbCUhASWEoplCBgSILAMwVq6rG+Bdcw9ZgLr/dsJLEuPbOTbEFhKQgJLCcUyBAwJEFiGYC1dlsCKDh18i5DAiu5o6woEllKawFJCsQwBQwIEliFYS5f1LrBGGDrBuoMTLEuPbOTbEFhKQgJLCcUyBAwJEFiGYC1dlsCKDh2eYBFY0SEtXYHAUkITWEooliFgSIDAMgRr6bLeBdbdhk6w7uQEy9IjG/k2BJaSkMBSQrEMAUMCBJYhWEuXJbCiQ4cnWARWdEhLVyCwlNAElhKKZQgYEiCwDMFauqxvgdX8LjMnWH8bxgmWpUc28m0ILCUhgaWEYhkChgQILEOwli5LYEWHDk6wCKzojrauQGAppQksJRTLEDAkQGAZgrV0We8Cq2KkkX/s+W/Dh/KPPVt6ZqPexsvAGjVqlAwdOlQGDRok48aNUxkSWComFiFgTIDAMkZr5cLeBVa5ocAqJ7CsPLAx3MS7wFq6dKn07dtX6tevL927dyewYniIuAQCNgQILBvK5u5BYEW3Db9FSGBFh7R0Ba8Ca+vWrdKhQwcZP368jBgxQk4++WQCy9KDxm0QiCpAYEUVTPbzfQusY4ebOcH6awUnWMk+yfq7exVYAwYMkIYNG8rYsWOlW7duBJb+OWElAokLEFiJjyDSBgisSHzhJwcnWARWdEdbV/AmsKZNmxaeWr366qtSt27dgoFVVVUlwZ/cR/AerNLSUukmvaRWySG25lPwPuvKuhRcwwIEsiBAYKV7it4F1jBDJ1h3cYKVlq8ELwKrsrJSOnXqJHPmzJF27dqFsyl0glVeXi4VFRX7zJHASsujzT6zJkBgpXuiBFb0+YUnWARWdEhLV/AisGbOnCl9+vSRmjVr5lmrq6ulpKREatSoEZ5U7f53wSJOsCw9gdwGAaUAgaWEcnSZd4F150ipWbdurNOoDgLrbk6wYkU1eDEvAmvLli2yZs2aPRivuOIKadWqlZSVlUnbtm0LEvNrGgoSsQABowIEllFe4xcnsKITE1jRDW1ewYvA2h9ooW8R7v05BJbNx5J7IbCvAIGV7qfCu8C6w9AJ1ghOsNLylUBg8YtG0/Kssk/PBQisdD8A3gXW7YYC6x4CKy1fCd4GVrED4gSrWDHWIxCvAIEVr6ftqxFY0cXDbxESWNEhLV2BwFJCE1hKKJYhYEiAwDIEa+myvgVWi6FmTrDeG8kJlqVHNvJtCCwlIYGlhGIZAoYECCxDsJYuS2BFhw5OsAis6I62rkBgKaUJLCUUyxAwJEBgGYK1dFkCKzo0gRXd0OYVCCylNoGlhGIZAoYECCxDsJYuS2BFhyawohvavAKBpdQmsJRQLEPAkACBZQjW0mW9C6zbDL0HaxTvwbL0yEa+DYGlJCSwlFAsQ8CQAIFlCNbSZQms6NDhCRaBFR3S0hUILCU0gaWEYhkChgQILEOwli7rW2Add6uZE6zVoznBsvTIRr4NgaUkJLCUUCxDwJAAgWUI1tJlvQysOjH/W4RV24TAsvTAxnAbAkuJSGApoViGgCEBAssQrKXLEljRoasJrOiIFq9AYCmxCSwlFMsQMCRAYBmCtXRZ7wKrbKTUNHGCdS/fIrT0yEa+DYGlJCSwlFAsQ8CQAIFlCNbSZQms6NDhCRaBFR3S0hUILCU0gaWEYhkChgQILEOwli7rW2Adf4uZE6xV93GCZemRjXwbAktJ6GpgKbfPMgQQQACBfwvs2PW5zJNZsnnzZqlfv36sLrn/X0FgxcqayosRWMqxEVhKKJYhgAACjgtYCaybDZ1gjeEEy/HHK789Aks5KQJLCcUyBBBAwHEBAsvxAWVkewSWcpAElhKKZQgggIDjAjYCq+VNZk6w3v0pJ1iOP16cYBU7IAKrWDHWI4AAAm4KEFhuziVru+IESzlRAksJxTIEEEDAcQErgfUTQydYP9OfYE2YMEGCP++//344kTZt2siwYcPkvPPOc3xC2dgegaWcI4GlhGIZAggg4LiAlcAaYiiw7tcH1tNPPy01a9aU4447LpzIlClTZMyYMfLGG2+EscWHWQECS+lLYCmhWIYAAgg4LuBLYO1vDA0bNgwj66qrrnJ8SunfHoGlnCGBpYRiGQIIIOC4gI3AOuFGMydY74wdKpWVlXv8/q46depI8OdAH9XV1TJ9+nQZMGBAeILVunVrx6eU/u0RWMoZElhKKJYhgAACjgukPbD25h0+fLiUl5fvV33ZsmXSuXNn2bZtm9SrV0+mTp0q559/vuMTysb2CCzlHAksJRTLEEAAAccFrATWYEMnWOOKO8Havn27fPDBB/Lxxx/Lk08+KZMnT5b58+dzgmXhGSWwlMgElhKKZQgggIDjAmkPrCj/xM8555wjLVq0kIkTJzo+pfRvj8BSzpDAUkKxDAEEEHBcwEpgDTJ0gvVz/U8R7m8MZ599tpSWlsojjzzi+JTSvz0CSzlDAksJxTIEEEDAcQFfAmvo0KHh77wKgmrLli0ybdo0GT16tDz33HPSo0cPx6eU/u15EVjBm/8qKir2mNZRRx0lGzduVE+QwFJTsRABBBBwWsBGYLW6wcwJ1spf6E+wgl/F8Pzzz8uGDRukQYMGctJJJ0lZWRlxZenp9CawnnjiCZk7d26eNfjla1/96lfVzASWmoqFCCCAgNMCVgLrekOB9Ut9YDk9BA82501gzZw5U958882DHimBddB0fCICCCDglACB5dQ4MrsZbwIr+M21wRFp8MvYTj31VBk5cqQce+yx6sESWGoqFiKAAAJOC9gIrBN/bOYE6y+/4gTL6Ydrt815EVizZ8+WTz/9VFq2bCl///vfZcSIEbJy5UpZvny5HHnkkfudVVVVlQR/ch9BYAVvFOwmvaRWySFpmS/7RAABBBDYS4DA4pGwIeBFYO0N+cknn4S/B+SWW26RIUOG7Nd5f2+MDxYSWDYeS+6BAAIImBOwEljXGTrB+jUnWOaejHiv7GVgBYTBj6gG/8L4hAkTOMGK95niaggggIDTAgSW0+PJzOa8DKzgW3/BCdY111wjw4YNUw2T92CpmFiEAAIIOC9gJbAGGjrBGs8JlvMP2L836EVg3XTTTXLBBRdI06ZN5cMPPwzfgxX8W0zBP4LZrFkz1awILBUTixBAAAHnBQgs50eUiQ16EVj9+vWTBQsWyD/+8Y/wd1+ddtppcvfddxf1j10SWJl43nkRCCCAgNgIrNaGTrBWcIKVmifYi8CKYxoEVhyKXAMBBBBIXsBKYF1r5luEKybwLcLknyDdDggsnZMQWEooliGAAAKOCxBYjg8oI9sjsJSDJLCUUCxDAAEEHBewEVhtfmTmBGv5A5xgOf545bdHYCknRWApoViGAAIIOC5AYDk+oIxsj8BSDpLAUkKxDAEEEHBcwEpg/dDQCdZETrAcf7w4wSp2QARWsWKsRwABBNwUILDcnEvWdsUJlnKiBJYSimUIIICA4wLWAqt23Vglqrdvk+WcYMVqavJiBJZSl8BSQrEMAQQQcFyAwHJ8QBnZHoGlHCSBpYRiGQIIIOC4gI3AanvNSKlp4ATr7Um8B8vxxyu/PQJLOSkCSwnFMgQQQMBxASuBdbWhwHqQwHL88SKwih0QgVWsGOsRQAABNwUILDfnkrVdcYKlnCiBpYRiGQIIIOC4gI3A+sYPzJxgLZvMCZbjjxcnWMUOiMAqVoz1CCCAgJsCBJabc8narjjBUk7U1cBaV9ZF+QpY1uTeJSCkWGDHWR2d232tF15zbk9sqLCAlcC6ytAJ1kOcYBWesBsrCCzlHAgsJZTDywgsh4ej2BqBpUBiiUqAwFIxsSiiAIGlBCSwlFAOLyOwHB6OYmsElgKJJSoBG4F10pVmTrD+/BtOsFRDdmARgaUcAoGlhHJ4GYHl8HAUWyOwFEgsUQkQWComFkUUILCUgASWEsrhZQSWw8NRbI3AUiCxRCVgJbCuMHSC9TAnWKohO7CIwFIOgcBSQjm8jMByeDiKrRFYCiSWqASsBNblhgLrEQJLNWQHFhFYyiEQWEooh5cRWA4PR7E1AkuBxBKVAIGlYmJRRAECSwlIYCmhHF5GYDk8HMXWCCwFEktUAjYCq90AMydYb03hBEs1ZAcWEVjKIRBYSiiHlxFYDg9HsTUCS4HEEpUAgaViYlFEAQJLCUhgKaEcXkZgOTwcxdYILAUSS1QCVgLrMkMnWL/lBEs1ZAcWEVjKIRBYSiiHlxFYDg9HsTUCS4HEEpUAgaViYlFEAQJLCUhgKaEcXkZgOTwcxdYILAUSS1QCNgLr5EvvkZq166r2o11UvX2bvPno7bJ582apX7++9tNYl5AAgaWEJ7CUUA4vI7AcHo5iawSWAoklKgECS8XEoogCBJYSkMBSQjm8jMByeDiKrRFYCiSWqASsBNZ/GTrB+h0nWKohO7CIwFIOgcBSQjm8jMByeDiKrRFYCiSWqARsBFb7S8wE1hu/J7BUQ3ZgkTeBtW7dOikrK5PZs2fLZ599Ji1btpSHHnpIOnbsqBoDgaVicnoRgeX0eApujsAqSMQCpQCBpYRiWSQBLwJr06ZN0r59e+nevbtce+210qhRI3nvvffkmGOOkRYtWqgACSwVk9OLCCynx1NwcwRWQSIWKAWsBFZ/QydYUznBUo458WVeBNatt94qixcvloULFx40OIF10HTOfCKB5cwoDmojBNZBsfFJ+xEgsHgsbAh4EVitW7eWnj17ytq1a2X+/PnSpEkTGThwoFx99dVfalxVVSXBn9xHEFilpaXSTXpJrZJDbMxGdY91ZV1U61gkQmCl+ykgsNI9P5d2byOwOlxs5gTr9f/mBMulZ+lAe/EisOrW/dfvIhkyZIhcdNFF8sorr8jgwYNl4sSJctlll+3Xp7y8XCoqKvb5OwIrLY/2vvsksNI7u2DnBFa65+fS7gksl6aR3b14EVi1a9eWTp06yZIlS/KTvOGGG2Tp0qXy0ksv7Xe6nGBl76EnsNI9UwIr3fNzafdWAqufoROsaZxgufQseX+C1axZM+nRo4dMnjw5bzFhwgQZMWKEBD9dqPngPVgaJbfXEFhuz6fQ7gisQkL8vVaAwNJKsS6KgBcnWP3795fKyso93uR+4403yssvv7zHqdaBIAmsKI+ZG59LYLkxh4PdBYF1sHJ83t4CNgKr43+aOcF67TFOsNLyRHsRWMG3Art06RK+p6pv377he7CCN7hPmjRJLrnkEtWsCCwVk9OLCCynx1NwcwRWQSIWKAWsBFZfQ4H1OIGlHHPiy7wIrED5mWeekdtuu01WrVolzZs3D9/wfqCfItx7MgRW4s9q5A0QWJEJE70AgZUof6ZuTmBlapzOvhhvAivqBAisqILJfz6BlfwMouyAwIqix+fuLmArsGod8q+fYI/rY8fn2+Q1TrDi4jR+HQJLSUxgKaEcXkZgOTwcxdYILAUSS1QCBJaKiUURBQgsJSCBpYRyeBmB5fBwFFsjsBRILFEJWAmsi0aIkROs6XfI5s2bpX79+qrXyqLkBAgspT2BpYRyeBmB5fBwFFsjsBRILFEJEFgqJhZFFCCwlIAElhLK4WUElsPDUWyNwFIgsUQlYCOwOn3fzAnWq09wgqUasgOLCCzlEAgsJZTDywgsh4ej2BqBpUBiiUqAwFIxsSiiAIGlBCSwlFAOLyOwHB6OYmsElgKJJSoBK4F1oaETrCc5wVIN2YFFBJZyCASWEsrhZQSWw8NRbI3AUiCxRCVgI7BO6WMmsJbOILBUQ3ZgEYGlHAKBpYRyeBmB5fBwFFsjsBRILFEJEFgqJhZFFCCwlIAElhLK4WUElsPDUWyNwFIgsUQlYCWwehs6wZrJCZZqyA4sIrCUQyCwlFAOLyOwHB6OYmsElgKJJSoBAkvFxKKIAgSWEpDAUkI5vIzAcng4iq0RWAoklqgEbATWN3uZOcF6ZRYnWKohO7CIwFIOgcBSQjm8jMByeDiKrRFYCiSWqAQILBUTiyIKEFhKQFcDS7l9liGAAAII/FvASmB9724j/1TOK3+4k38qJyVPMoGlHBSBpYRiGQIIIOC4AIHl+IAysj0CSzlIAksJxTIEEEDAcQEbgXXqBWZOsF5+mhMsxx+v/PYILOWkCCwlFMsQQAABxwUILMcHlJHtEVjKQRJYSiiWIYAAAo4LWAms7xo6wXqGEyzHHy9OsIodEIFVrBjrEUAAATcFbATWad8xE1h/epbAcvOp2ndXnGApJ0VgKaFYhgACCDguQGA5PqCMbI/AUg6SwFJCsQwBBBBwXMBKYJ1/l5Ff0/CnPw7j1zQ4/nzltkdgKQdFYCmhWIYAAgg4LkBgOT6gjGyPwFIOksBSQrEMAQQQcFzARmB1Ps/MCdZLsznBcvzxym+PwFJOisBSQrEMAQQQcFyAwHJ8QBnZHoGlHCSBpYRiGQIIIOC4gJXAOtfQCdZznGA5/nhxglXsgAisYsVYjwACCLgpQGC5OZes7YoTLOVECSwlFMsQQAABxwVsBFaXnmZOsJb8DydYjj9e/p1gHXPMMbJmzZp95jJw4ED59a9/XXBeBFZBIhYggAACqRCwElg9Koz8moYl/zucX9OQiqdMxJsTrI8++kiqq6vzY3n77belR48e8uKLL0q3bt0KjovAKkjEAgQQQCAVAgRWKsaU+k16E1h7T2rw4MHyzDPPyKpVq6SkpKTgIAmsgkQsQAABBFIhYCWwzjF0gjWXE6xUPGTi0QnW7gPZvn27NG7cWIYMGSJDhw7d76yqqqok+JP7CAKrtLRUukkvqVVySFrmyz4RQAABBPYSILB4JGwIeHmC9fjjj0v//v3lgw8+CENrfx/l5eVSUVGxz18RWDYeS+6BAAIImBOwEVinBydYterG+iJ27NgmiznBitXU5MW8DKyePXtK7dq15emnn/5SW06wTD52XBsBBBBIToDASs7epzt7F1jBTxIee+yx8tRTT0mvXr3Us+Y9WGoqFiKAAAJOC1gJrLPLzZxgPV/OTxE6/XR9sTnvAiv41t/EiROlsrJSatWqpR4TgaWmYiECCCDgtACB5fR4MrM5rwJr586d0rx5c7n44otl9OjRRQ2RwCqKi8UIIICAswI2AuuMs8ycYC16QX+CNWrUqPC7NStXrpRDDz1UunTpIvfee6+ccMIJzs4mSxvzKrDmzJkjwfuv3nnnHWnZsmVRcySwiuJiMQIIIOCsgJXA6m4osF7UB9a5554r/fr1k1NOOUV27Nght99+uyxbtkxWrFghhx9+uLPzycrGvAqsKEMjsKLo8bkIIICAOwK+BNbe4sEv3G7UqJHMnz9funbt6s5AMroTAks5WAJLCcUyBBBAwHEBG4F1ZrfhRt7kvnBexUG/yX316tVy/PHHh6dYbdu2dXxK6d8egaWcIYGlhGIZAggg4LhA2gMr+CGt+vXr55Xr1KkjwZ8DfezatSv8yflNmzbJwoULHZ9QNrZHYCnnSGApoViGAAIIOC5gJbC6GjrBWrDvL8AePny4BD8hf6CP6667Tp599llZtGiRHH300Y5PKBvbI7CUcySwlFAsQwABBBwXSHtgFXuCdf3118vMmTNlwYIF4U/S82FHgMBSOhNYSiiWIYAAAo4L2AisrmcOM/IerAUL71K/Byv4tmAQVzNmzJB58+aF77/iw54AgaW0JrCUUGQyiBQAABMxSURBVCxDAAEEHBfwJbAGDhwoU6dOlVmzZu3xu68aNGgQ/l4sPswKEFhKXwJLCcUyBBBAwHEBK4F1hqETrEX6E6ySkpL9TuLhhx+Wyy+/3PEppX97BJZyhgSWEoplCCCAgOMCVgLr9DvNfItw8d3qbxE6PobMb4/AUo6YwFJCsQwBBBBwXIDAcnxAGdkegaUcJIGlhGIZAggg4LiAjcD6VhczJ1jzl3CC5fjjld8egaWcFIGlhGIZAggg4LgAgeX4gDKyPQJLOcjNmzfLV77yFTlDzpdacojys1iGAAIIIOCawA75XBbJH+Xjjz+W4Cfq4vzI/cf4tzrfYeQ9WPNfGsF7sOIcmMFrEVhK3LVr10ppaalyNcsQQAABBFwXCH5hZ9y/1ZzAcn3q9vZHYCmtd+7cKevXr5cjjjhCvuxHX5WXkuALMIi1vX8br/bzfVmHk27SOOmcglVY6ayy7hT8As4tW7ZI48aNpUaNGjoU5ar820lONXOCNe9lTrCUo0h8GYGVwAhyX4DBtx13/wc7E9iK07fESTcenHROucAKviXE196BzXim9M/U3isJrIO3y9pnElgJTJT/8dKh44STTkC/imdKZ4WTzml/q/KB9c3bjbwHa94r9/AfCAc/HqufSWBZ5f7XzfgfLx06TjjpBPSreKZ0VjjpnA4YWKcYCqylBNbBT8fuZxJYdr3Du1VVVcmoUaPktttukzp16iSwg3TcEifdnHDSOfG1h5Ne4OBX5k+wCKyDR8zIZxJYGRkkLwMBBBBAIHmBXGB17zTUyLcIX3x1JN8iTH7Mqh0QWComFiGAAAIIIFBYgMAqbOTLCgLLl0nzOhFAAAEEjAvkA6vjbWZOsF4bxQmW8SnGcwMCKx5HroIAAggggED+h5i6E1jePw0ElvePAAAIIIAAAnEJ5E+wOtwmtWrWjeuy4XV2VG+TF1/nBCtWVIMXI7AM4u7v0uPHj5cxY8bIhg0bpE2bNjJu3Dg588wzLe/C7dsFP2H51FNPycqVK+XQQw+VLl26yL333isnnHCC2xtPeHeB29ChQ2XQoEHhc8XHFwLr1q2TsrIymT17tnz22WfSsmVLeeihh6Rjx44w7SawY8cOKS8vl9///veyceNG+frXvy6XX3653HHHHbH/xvOswhNYWZ1s8a+LwCre7KA/47HHHpNLL71Ugsg6/fTTZeLEiTJ58mRZsWKFNG3a9KCvm7VPPPfcc6Vfv35yyimnSPA/+LfffrssW7YsdDr88MOz9nJjeT1Lly6Vvn37hv8yQPfu3Qms3VQ3bdok7du3D12uvfZaadSokbz33ntyzDHHSIsWLWLxz8pF7rnnHhk7dqxMmTIl/A/AV199Va644goZMWJEGO58FBbIBdZZ7W81coL1whujeQ9W4TE4sYLAsjiGU089VTp06CATJkzI3/XEE0+U3r17h78Xi4/9C3z00Ufh/1OcP3++dO3aFaa9BLZu3Ro+V0G4B/+P8OSTTyawdjO69dZbZfHixbJw4UKenQIC3/3ud+Woo44KT/dyHxdeeKEcdthh8uijj+KnEMgH1slBYMX7ew53VFfJC28SWIoxOLGEwLI0hu3bt4f/IzV9+nTp06dP/q7BfxW++eabYTzwsX+B1atXy/HHHx+eYrVt2xamvQQGDBggDRs2DE8eunXrRmDt5dO6dWvp2bOnrF27Nvw6a9KkiQwcOFCuvvpqnqW9BEaPHi0PPPCAzJkzJ/w26ltvvSXf/va3w2C/+OKL8VIIEFgKJE+WEFiWBr1+/frwf9iD/5IO3lOU+xg5cmR4HP/OO+9Y2km6bhP8q/e9evWS4Ns8nEDsO7tp06aFp1bBt3Lq1q1LYO3n8Q5cgo8hQ4bIRRddJK+88ooMHjw4/Bb9ZZddlq4vCMO7Db7egvfxBe95rFmzplRXV0vwbcPgX53gQyeQD6x2ZWZOsN66l28R6kaR+CoCy9IIcoG1ZMkS6dy5c/6uwf94BUfvwRu6+dhX4LrrrpNnn31WFi1aJEcffTREuwlUVlZKp06dwtOGdu3ahX/DCda+j0jt2rVDp+BrL/dxww03SPC+tZdeeolnajeBINhvvvnm8AdxgvdgBafrQYzef//9EpyU8lFYgMAqbOTLCgLL0qT5FmHx0Ndff73MnDlTFixYIM2bNy/+Ahn/jMAm+HZzcNKQ+whOHEpKSsKf+Ar+jcLd/y7jHF/68po1ayY9evQIf6Ak9xG8DzI4+Qt+upCPLwRKS0sleM9a8B82uY/A6Xe/+x3/Eah8UPKB9Q1DJ1jLOMFSjiLxZQSWxREEb3IPfiw8eDNy7iN4f0jwLTDe5P7FIIJvUwRxNWPGDJk3b174/is+9hXYsmWLrFmzZo+/CH7iq1WrVuGvJOD9av+i6d+/vwSnfbt/i/nGG2+Ul19+eY9TLZ4xkSOPPDIMz+CnLXMfwf82Pfzww/Luu+9CpBAgsBRIniwhsCwOOvdrGoI3kQbfJpw0aZI8+OCDsnz5cgn+K5uPfwkEb0CeOnWqzJo1a4/ffdWgQYPw92Lx8eUCfItwX5vgW4HB+x4rKirCX2URvAcreIN78PV3ySWX8DjtJhD8zqu5c+eG708LvkX4xhtvyDXXXCNXXnll+L4sPgoL5ALr7La3GHkP1vNv38d7sAqPwYkVBJblMQSnV/fdd1/4i0aDE4bgJ7/41QN7DiH4Ftf+PoL/ig7+HwAfBFaxz8AzzzwTvlF71apV4bebgze881OE+yoGp6J33nlneHr84YcfSuPGjcOfHhw2bJgE72Xjo7AAgVXYyJcVBJYvk+Z1IoAAAggYF8gHVpubzZxgLR/DCZbxKcZzAwIrHkeuggACCCCAQP4fez679U1mAmvFTwmslDxnBFZKBsU2EUAAAQTcF8ifYBFY7g/L8A4JLMPAXB4BBBBAwB+BfGCd+BMzJ1h/+RknWCl5nAislAyKbSKAAAIIuC9AYLk/I1s7JLBsSXMfBBBAAIHMC+QD6wRDJ1jvcIKVloeIwErLpNgnAggggIDzAgSW8yOytkECyxo1N0IAAQQQyLpALrDOaTnEyHuw5r57P+/BSslDRGClZFBsEwEEEEDAfQECy/0Z2dohgWVLmvsggAACCGReIB9Yx99o5gRr1VhOsFLyFBFYKRkU20QAAQQQcF8gH1gtBpsJrPfGEVjuPwbhDgmslAyKbSKAAAIIuC9AYLk/I1s7JLBsSXMfBBBAAIHMC+QD69hBZk6w/vpzTrBS8hQRWCkZFNtEAAEEEHBfgMByf0a2dkhg2ZLmPggggAACmRf4IrBukFo16sT6enfsrJK5f/0FJ1ixqpq7GIFlzpYrI4AAAgh4JkBgeTbwA7xcAotnAQEEEEAAgZgE8oHV/HozJ1h/+yUnWDHNyvRlCCzTwlwfAQQQQMAbAQLLm1EXfKEEVkEiFiCAAAIIIKATyAdWsx+bOcFa8ytOsHSjSHwVgZX4CNgAAggggEBWBPKB1XSgmcD6YDyBlZKHhcBKyaDYJgIIIICA+wIElvszsrVDAsuWNPdBAAEEEMi8QD6wSq81c4JVOYETrJQ8RQRWSgbFNhFAAAEE3BcgsNyfka0dEli2pLkPAggggEDmBfKB1eRHZk6w1j3ACVZKniICKyWDYpsIIIAAAu4LEFjuz8jWDgksW9LcBwEEEEAg8wL5wGr8QzMnWOsncoKVkqeIwErJoNgmAggggID7AgSW+zOytUMCy5Y090EAAQQQyLxAPrC+Hpxg1Y719e7YuV3mbuAEK1ZUgxcjsAzicmkEEEAAAb8ECCy/5n2gV0tg8SwggAACCCAQk0A+sL52jZkTrI2TeA9WTLMyfRkCy7Qw10cAAQQQ8EYgH1iNfmAmsD6cTGCl5GkisFIyKLaJAAIIIOC+AIHl/oxs7ZDAsiXNfRBAAAEEMi+QD6yvXmXmBOujhzjBSslTRGClZFBsEwEEEEDAfQECy/0Z2dohgWVLmvsggAACCGReIB9Y//+VZk6w/vEbTrBS8hQRWCkZFNtEAAEEEHBfgMByf0a2dkhg2ZLmPggggAACmRfIB1bDK8ycYP3fhznBSslTRGClZFBsEwEEEEDAfQECy/0Z2dohgWVLmvsggAACCGReIBdYZ/9/A4ycYD2/aQonWCl5igislAyKbSKAAAIIuC+QD6yvXCa1SmL+twh3bZfnP/4tgeX+YxDukMBKyaDYJgIIIICA+wIElvszsrVDAsuWNPdBAAEEEMi8QD6wGlxq5gRr86OcYKXkKSKwUjIotokAAggg4L4AgeX+jGztkMCyJc19EEAAAQQyL5APrCMuMXOCteX3nGCl5CkisFIyKLaJAAIIIOC+AIHl/oxs7ZDAsiXNfRBAAAEEMi+QD6x6/c2cYG2dyglWSp4iAislg2KbCCCAAALuCxBY7s/I1g4JLFvS3AcBBBBAIPMCucA667B+Rk6wXvh0GidYKXmKCKyUDIptIoAAAgi4L5APrEP/00xgffYYgeX+YxDukMBKyaDYJgIIIICA+wIElvszsrVDAsuWNPdBAAEEEMi8QD6w6vQ1c4JV9TgnWCl5igislAyKbSKAAAIIuC9AYLk/I1s7JLBsSXMfBBBAAIHMC+QDq/ZFUqvkkFhf745dn8sL26dzghWrqrmLEVjmbLkyAggggIBnAgSWZwM/wMslsHgWEEAAAQQQiEkgF1jda33fyAnWizue4AQrplmZvgyBZVqY6yOAAAIIeCNAYHkz6oIvlMAqSMQCBBBAAAEEdAL5wKr5H2ZOsKqf4gRLN4rEVxFYiY+ADSCAAAIIZEUgF1jdSvoYCax5u2YUFVgLFiyQMWPGyGuvvSYbNmyQGTNmSO/evbPC7fTrILCcHg+bQwABBBBIk4BrgTV79mxZvHixdOjQQS688EICy+LDRGBZxOZWCCCAAALZFsgHlvQyc4Ils4o6wdpdu6SkhMCy+PgRWBaxuRUCCCCAQLYFcoF1hpwvtSTm34Mln8si+aNUVlZK/fr185B16tSR4E+hDwKrkFC8f09gxevJ1RBAAAEEPBbYtm2bNG/eXDZu3GhEoV69erJ169Y9rj18+HApLy8veD8CqyBRrAsIrFg5uRgCCCCAgO8CQWRt377dCMOuXbskCKXdPzjBMkId+aIEVmRCLoAAAggggID7Apxg2Z0RgWXXm7shgAACCCCQiACBZZedwLLrzd0QQAABBBCwJhC8X2v16tXh/dq3by/333+/dO/eXRo2bChNmza1tg8fb0Rg+Th1XjMCCCCAgBcC8+bNC4Nq748BAwbII4884oVBUi+SwEpKnvsigAACCCCAQGYFCKzMjpYXhgACCCCAAAJJCRBYSclzXwQQQAABBBDIrACBldnR8sIQQAABBBBAICkBAispee6LAAIIIIAAApkVILAyO1peGAIIIIAAAggkJUBgJSXPfRFAAAEEEEAgswIEVmZHywtDAAEEEEAAgaQECKyk5LkvAggggAACCGRWgMDK7Gh5YQgggAACCCCQlACBlZQ890UAAQQQQACBzAoQWJkdLS8MAQQQQAABBJISILCSkue+CCCAAAIIIJBZAQIrs6PlhSGAAAIIIIBAUgIEVlLy3BcBBBBAAAEEMitAYGV2tLwwBBBAAAEEEEhKgMBKSp77IoAAAggggEBmBQiszI6WF4YAAggggAACSQkQWEnJc18EEEAAAQQQyKwAgZXZ0fLCEEAAAQQQQCApAQIrKXnuiwACCCCAAAKZFSCwMjtaXhgCCCCAAAIIJCVAYCUlz30RQAABBBBAILMCBFZmR8sLQwABBBBAAIGkBAispOS5LwIIIIAAAghkVoDAyuxoeWEIIIAAAgggkJQAgZWUPPdFAAEEEEAAgcwKEFiZHS0vDAEEEEAAAQSSEiCwkpLnvggggAACCCCQWQECK7Oj5YUhgAACCCCAQFICBFZS8twXAQQQQAABBDIrQGBldrS8MAQQQAABBBBISoDASkqe+yKAAAIIIIBAZgUIrMyOlheGAAIIIIAAAkkJEFhJyXNfBBBAAAEEEMisAIGV2dHywhBAAAEEEEAgKQECKyl57osAAggggAACmRUgsDI7Wl4YAggggAACCCQlQGAlJc99EUAAAQQQQCCzAgRWZkfLC0MAAQQQQACBpAQIrKTkuS8CCCCAAAIIZFaAwMrsaHlhCCCAAAIIIJCUAIGVlDz3RQABBBBAAIHMChBYmR0tLwwBBBBAAAEEkhIgsJKS574IIIAAAgggkFkBAiuzo+WFIYAAAggggEBSAgRWUvLcFwEEEEAAAQQyK0BgZXa0vDAEEEAAAQQQSEqAwEpKnvsigAACCCCAQGYFCKzMjpYXhgACCCCAAAJJCRBYSclzXwQQQAABBBDIrACBldnR8sIQQAABBBBAICkBAispee6LAAIIIIAAApkVILAyO1peGAIIIIAAAggkJUBgJSXPfRFAAAEEEEAgswIEVmZHywtDAAEEEEAAgaQECKyk5LkvAggggAACCGRWgMDK7Gh5YQgggAACCCCQlACBlZQ890UAAQQQQACBzAoQWJkdLS8MAQQQQAABBJIS+H/rWtYycccWdQAAAABJRU5ErkJggg==\" width=\"600\">"
      ],
      "text/plain": [
       "<IPython.core.display.HTML object>"
      ]
     },
     "metadata": {},
     "output_type": "display_data"
    },
    {
     "data": {
      "text/plain": [
       "<matplotlib.colorbar.Colorbar at 0x220c9216c40>"
      ]
     },
     "execution_count": 28,
     "metadata": {},
     "output_type": "execute_result"
    }
   ],
   "source": [
    "fig = plt.figure(figsize=(6, 6))\n",
    "plt.imshow(Density)\n",
    "plt.colorbar()"
   ]
  },
  {
   "cell_type": "code",
   "execution_count": 29,
   "id": "2ff8d263",
   "metadata": {},
   "outputs": [
    {
     "data": {
      "application/vnd.plotly.v1+json": {
       "config": {
        "plotlyServerURL": "https://plot.ly"
       },
       "data": [
        {
         "hoverinfo": "none",
         "line": {
          "color": "black",
          "dash": "dash",
          "width": 1
         },
         "mode": "lines",
         "showlegend": false,
         "type": "scatter",
         "x": [
          0.9,
          6.1
         ],
         "y": [
          0.9,
          6.1
         ]
        },
        {
         "hoverinfo": "text",
         "hovertext": [
          "(1.0, 6.0)",
          "(4.0, 6.0)"
         ],
         "mode": "markers",
         "name": "H0",
         "type": "scatter",
         "x": [
          1,
          4
         ],
         "y": [
          6,
          6
         ]
        },
        {
         "hoverinfo": "text",
         "hovertext": [
          "(1.0, 6.0)",
          "(1.0, 3.0)",
          "(1.0, 2.0)",
          "(4.0, 5.0)"
         ],
         "mode": "markers",
         "name": "H1",
         "type": "scatter",
         "x": [
          1,
          1,
          1,
          4
         ],
         "y": [
          6,
          3,
          2,
          5
         ]
        }
       ],
       "layout": {
        "height": 500,
        "plot_bgcolor": "white",
        "template": {
         "data": {
          "bar": [
           {
            "error_x": {
             "color": "#2a3f5f"
            },
            "error_y": {
             "color": "#2a3f5f"
            },
            "marker": {
             "line": {
              "color": "#E5ECF6",
              "width": 0.5
             },
             "pattern": {
              "fillmode": "overlay",
              "size": 10,
              "solidity": 0.2
             }
            },
            "type": "bar"
           }
          ],
          "barpolar": [
           {
            "marker": {
             "line": {
              "color": "#E5ECF6",
              "width": 0.5
             },
             "pattern": {
              "fillmode": "overlay",
              "size": 10,
              "solidity": 0.2
             }
            },
            "type": "barpolar"
           }
          ],
          "carpet": [
           {
            "aaxis": {
             "endlinecolor": "#2a3f5f",
             "gridcolor": "white",
             "linecolor": "white",
             "minorgridcolor": "white",
             "startlinecolor": "#2a3f5f"
            },
            "baxis": {
             "endlinecolor": "#2a3f5f",
             "gridcolor": "white",
             "linecolor": "white",
             "minorgridcolor": "white",
             "startlinecolor": "#2a3f5f"
            },
            "type": "carpet"
           }
          ],
          "choropleth": [
           {
            "colorbar": {
             "outlinewidth": 0,
             "ticks": ""
            },
            "type": "choropleth"
           }
          ],
          "contour": [
           {
            "colorbar": {
             "outlinewidth": 0,
             "ticks": ""
            },
            "colorscale": [
             [
              0,
              "#0d0887"
             ],
             [
              0.1111111111111111,
              "#46039f"
             ],
             [
              0.2222222222222222,
              "#7201a8"
             ],
             [
              0.3333333333333333,
              "#9c179e"
             ],
             [
              0.4444444444444444,
              "#bd3786"
             ],
             [
              0.5555555555555556,
              "#d8576b"
             ],
             [
              0.6666666666666666,
              "#ed7953"
             ],
             [
              0.7777777777777778,
              "#fb9f3a"
             ],
             [
              0.8888888888888888,
              "#fdca26"
             ],
             [
              1,
              "#f0f921"
             ]
            ],
            "type": "contour"
           }
          ],
          "contourcarpet": [
           {
            "colorbar": {
             "outlinewidth": 0,
             "ticks": ""
            },
            "type": "contourcarpet"
           }
          ],
          "heatmap": [
           {
            "colorbar": {
             "outlinewidth": 0,
             "ticks": ""
            },
            "colorscale": [
             [
              0,
              "#0d0887"
             ],
             [
              0.1111111111111111,
              "#46039f"
             ],
             [
              0.2222222222222222,
              "#7201a8"
             ],
             [
              0.3333333333333333,
              "#9c179e"
             ],
             [
              0.4444444444444444,
              "#bd3786"
             ],
             [
              0.5555555555555556,
              "#d8576b"
             ],
             [
              0.6666666666666666,
              "#ed7953"
             ],
             [
              0.7777777777777778,
              "#fb9f3a"
             ],
             [
              0.8888888888888888,
              "#fdca26"
             ],
             [
              1,
              "#f0f921"
             ]
            ],
            "type": "heatmap"
           }
          ],
          "heatmapgl": [
           {
            "colorbar": {
             "outlinewidth": 0,
             "ticks": ""
            },
            "colorscale": [
             [
              0,
              "#0d0887"
             ],
             [
              0.1111111111111111,
              "#46039f"
             ],
             [
              0.2222222222222222,
              "#7201a8"
             ],
             [
              0.3333333333333333,
              "#9c179e"
             ],
             [
              0.4444444444444444,
              "#bd3786"
             ],
             [
              0.5555555555555556,
              "#d8576b"
             ],
             [
              0.6666666666666666,
              "#ed7953"
             ],
             [
              0.7777777777777778,
              "#fb9f3a"
             ],
             [
              0.8888888888888888,
              "#fdca26"
             ],
             [
              1,
              "#f0f921"
             ]
            ],
            "type": "heatmapgl"
           }
          ],
          "histogram": [
           {
            "marker": {
             "pattern": {
              "fillmode": "overlay",
              "size": 10,
              "solidity": 0.2
             }
            },
            "type": "histogram"
           }
          ],
          "histogram2d": [
           {
            "colorbar": {
             "outlinewidth": 0,
             "ticks": ""
            },
            "colorscale": [
             [
              0,
              "#0d0887"
             ],
             [
              0.1111111111111111,
              "#46039f"
             ],
             [
              0.2222222222222222,
              "#7201a8"
             ],
             [
              0.3333333333333333,
              "#9c179e"
             ],
             [
              0.4444444444444444,
              "#bd3786"
             ],
             [
              0.5555555555555556,
              "#d8576b"
             ],
             [
              0.6666666666666666,
              "#ed7953"
             ],
             [
              0.7777777777777778,
              "#fb9f3a"
             ],
             [
              0.8888888888888888,
              "#fdca26"
             ],
             [
              1,
              "#f0f921"
             ]
            ],
            "type": "histogram2d"
           }
          ],
          "histogram2dcontour": [
           {
            "colorbar": {
             "outlinewidth": 0,
             "ticks": ""
            },
            "colorscale": [
             [
              0,
              "#0d0887"
             ],
             [
              0.1111111111111111,
              "#46039f"
             ],
             [
              0.2222222222222222,
              "#7201a8"
             ],
             [
              0.3333333333333333,
              "#9c179e"
             ],
             [
              0.4444444444444444,
              "#bd3786"
             ],
             [
              0.5555555555555556,
              "#d8576b"
             ],
             [
              0.6666666666666666,
              "#ed7953"
             ],
             [
              0.7777777777777778,
              "#fb9f3a"
             ],
             [
              0.8888888888888888,
              "#fdca26"
             ],
             [
              1,
              "#f0f921"
             ]
            ],
            "type": "histogram2dcontour"
           }
          ],
          "mesh3d": [
           {
            "colorbar": {
             "outlinewidth": 0,
             "ticks": ""
            },
            "type": "mesh3d"
           }
          ],
          "parcoords": [
           {
            "line": {
             "colorbar": {
              "outlinewidth": 0,
              "ticks": ""
             }
            },
            "type": "parcoords"
           }
          ],
          "pie": [
           {
            "automargin": true,
            "type": "pie"
           }
          ],
          "scatter": [
           {
            "fillpattern": {
             "fillmode": "overlay",
             "size": 10,
             "solidity": 0.2
            },
            "type": "scatter"
           }
          ],
          "scatter3d": [
           {
            "line": {
             "colorbar": {
              "outlinewidth": 0,
              "ticks": ""
             }
            },
            "marker": {
             "colorbar": {
              "outlinewidth": 0,
              "ticks": ""
             }
            },
            "type": "scatter3d"
           }
          ],
          "scattercarpet": [
           {
            "marker": {
             "colorbar": {
              "outlinewidth": 0,
              "ticks": ""
             }
            },
            "type": "scattercarpet"
           }
          ],
          "scattergeo": [
           {
            "marker": {
             "colorbar": {
              "outlinewidth": 0,
              "ticks": ""
             }
            },
            "type": "scattergeo"
           }
          ],
          "scattergl": [
           {
            "marker": {
             "colorbar": {
              "outlinewidth": 0,
              "ticks": ""
             }
            },
            "type": "scattergl"
           }
          ],
          "scattermapbox": [
           {
            "marker": {
             "colorbar": {
              "outlinewidth": 0,
              "ticks": ""
             }
            },
            "type": "scattermapbox"
           }
          ],
          "scatterpolar": [
           {
            "marker": {
             "colorbar": {
              "outlinewidth": 0,
              "ticks": ""
             }
            },
            "type": "scatterpolar"
           }
          ],
          "scatterpolargl": [
           {
            "marker": {
             "colorbar": {
              "outlinewidth": 0,
              "ticks": ""
             }
            },
            "type": "scatterpolargl"
           }
          ],
          "scatterternary": [
           {
            "marker": {
             "colorbar": {
              "outlinewidth": 0,
              "ticks": ""
             }
            },
            "type": "scatterternary"
           }
          ],
          "surface": [
           {
            "colorbar": {
             "outlinewidth": 0,
             "ticks": ""
            },
            "colorscale": [
             [
              0,
              "#0d0887"
             ],
             [
              0.1111111111111111,
              "#46039f"
             ],
             [
              0.2222222222222222,
              "#7201a8"
             ],
             [
              0.3333333333333333,
              "#9c179e"
             ],
             [
              0.4444444444444444,
              "#bd3786"
             ],
             [
              0.5555555555555556,
              "#d8576b"
             ],
             [
              0.6666666666666666,
              "#ed7953"
             ],
             [
              0.7777777777777778,
              "#fb9f3a"
             ],
             [
              0.8888888888888888,
              "#fdca26"
             ],
             [
              1,
              "#f0f921"
             ]
            ],
            "type": "surface"
           }
          ],
          "table": [
           {
            "cells": {
             "fill": {
              "color": "#EBF0F8"
             },
             "line": {
              "color": "white"
             }
            },
            "header": {
             "fill": {
              "color": "#C8D4E3"
             },
             "line": {
              "color": "white"
             }
            },
            "type": "table"
           }
          ]
         },
         "layout": {
          "annotationdefaults": {
           "arrowcolor": "#2a3f5f",
           "arrowhead": 0,
           "arrowwidth": 1
          },
          "autotypenumbers": "strict",
          "coloraxis": {
           "colorbar": {
            "outlinewidth": 0,
            "ticks": ""
           }
          },
          "colorscale": {
           "diverging": [
            [
             0,
             "#8e0152"
            ],
            [
             0.1,
             "#c51b7d"
            ],
            [
             0.2,
             "#de77ae"
            ],
            [
             0.3,
             "#f1b6da"
            ],
            [
             0.4,
             "#fde0ef"
            ],
            [
             0.5,
             "#f7f7f7"
            ],
            [
             0.6,
             "#e6f5d0"
            ],
            [
             0.7,
             "#b8e186"
            ],
            [
             0.8,
             "#7fbc41"
            ],
            [
             0.9,
             "#4d9221"
            ],
            [
             1,
             "#276419"
            ]
           ],
           "sequential": [
            [
             0,
             "#0d0887"
            ],
            [
             0.1111111111111111,
             "#46039f"
            ],
            [
             0.2222222222222222,
             "#7201a8"
            ],
            [
             0.3333333333333333,
             "#9c179e"
            ],
            [
             0.4444444444444444,
             "#bd3786"
            ],
            [
             0.5555555555555556,
             "#d8576b"
            ],
            [
             0.6666666666666666,
             "#ed7953"
            ],
            [
             0.7777777777777778,
             "#fb9f3a"
            ],
            [
             0.8888888888888888,
             "#fdca26"
            ],
            [
             1,
             "#f0f921"
            ]
           ],
           "sequentialminus": [
            [
             0,
             "#0d0887"
            ],
            [
             0.1111111111111111,
             "#46039f"
            ],
            [
             0.2222222222222222,
             "#7201a8"
            ],
            [
             0.3333333333333333,
             "#9c179e"
            ],
            [
             0.4444444444444444,
             "#bd3786"
            ],
            [
             0.5555555555555556,
             "#d8576b"
            ],
            [
             0.6666666666666666,
             "#ed7953"
            ],
            [
             0.7777777777777778,
             "#fb9f3a"
            ],
            [
             0.8888888888888888,
             "#fdca26"
            ],
            [
             1,
             "#f0f921"
            ]
           ]
          },
          "colorway": [
           "#636efa",
           "#EF553B",
           "#00cc96",
           "#ab63fa",
           "#FFA15A",
           "#19d3f3",
           "#FF6692",
           "#B6E880",
           "#FF97FF",
           "#FECB52"
          ],
          "font": {
           "color": "#2a3f5f"
          },
          "geo": {
           "bgcolor": "white",
           "lakecolor": "white",
           "landcolor": "#E5ECF6",
           "showlakes": true,
           "showland": true,
           "subunitcolor": "white"
          },
          "hoverlabel": {
           "align": "left"
          },
          "hovermode": "closest",
          "mapbox": {
           "style": "light"
          },
          "paper_bgcolor": "white",
          "plot_bgcolor": "#E5ECF6",
          "polar": {
           "angularaxis": {
            "gridcolor": "white",
            "linecolor": "white",
            "ticks": ""
           },
           "bgcolor": "#E5ECF6",
           "radialaxis": {
            "gridcolor": "white",
            "linecolor": "white",
            "ticks": ""
           }
          },
          "scene": {
           "xaxis": {
            "backgroundcolor": "#E5ECF6",
            "gridcolor": "white",
            "gridwidth": 2,
            "linecolor": "white",
            "showbackground": true,
            "ticks": "",
            "zerolinecolor": "white"
           },
           "yaxis": {
            "backgroundcolor": "#E5ECF6",
            "gridcolor": "white",
            "gridwidth": 2,
            "linecolor": "white",
            "showbackground": true,
            "ticks": "",
            "zerolinecolor": "white"
           },
           "zaxis": {
            "backgroundcolor": "#E5ECF6",
            "gridcolor": "white",
            "gridwidth": 2,
            "linecolor": "white",
            "showbackground": true,
            "ticks": "",
            "zerolinecolor": "white"
           }
          },
          "shapedefaults": {
           "line": {
            "color": "#2a3f5f"
           }
          },
          "ternary": {
           "aaxis": {
            "gridcolor": "white",
            "linecolor": "white",
            "ticks": ""
           },
           "baxis": {
            "gridcolor": "white",
            "linecolor": "white",
            "ticks": ""
           },
           "bgcolor": "#E5ECF6",
           "caxis": {
            "gridcolor": "white",
            "linecolor": "white",
            "ticks": ""
           }
          },
          "title": {
           "x": 0.05
          },
          "xaxis": {
           "automargin": true,
           "gridcolor": "white",
           "linecolor": "white",
           "ticks": "",
           "title": {
            "standoff": 15
           },
           "zerolinecolor": "white",
           "zerolinewidth": 2
          },
          "yaxis": {
           "automargin": true,
           "gridcolor": "white",
           "linecolor": "white",
           "ticks": "",
           "title": {
            "standoff": 15
           },
           "zerolinecolor": "white",
           "zerolinewidth": 2
          }
         }
        },
        "width": 500,
        "xaxis": {
         "autorange": false,
         "exponentformat": "e",
         "linecolor": "black",
         "linewidth": 1,
         "mirror": false,
         "range": [
          0.9,
          6.1
         ],
         "showexponent": "all",
         "showline": true,
         "side": "bottom",
         "ticks": "outside",
         "title": {
          "text": "Birth"
         },
         "type": "linear",
         "zeroline": true
        },
        "yaxis": {
         "autorange": false,
         "exponentformat": "e",
         "linecolor": "black",
         "linewidth": 1,
         "mirror": false,
         "range": [
          0.9,
          6.1
         ],
         "scaleanchor": "x",
         "scaleratio": 1,
         "showexponent": "all",
         "showline": true,
         "side": "left",
         "ticks": "outside",
         "title": {
          "text": "Death"
         },
         "type": "linear",
         "zeroline": true
        }
       }
      },
      "text/html": [
       "<div>                            <div id=\"5c740a47-5456-4bf7-96da-bfa7e2b9e8b7\" class=\"plotly-graph-div\" style=\"height:500px; width:500px;\"></div>            <script type=\"text/javascript\">                require([\"plotly\"], function(Plotly) {                    window.PLOTLYENV=window.PLOTLYENV || {};                                    if (document.getElementById(\"5c740a47-5456-4bf7-96da-bfa7e2b9e8b7\")) {                    Plotly.newPlot(                        \"5c740a47-5456-4bf7-96da-bfa7e2b9e8b7\",                        [{\"hoverinfo\":\"none\",\"line\":{\"color\":\"black\",\"dash\":\"dash\",\"width\":1},\"mode\":\"lines\",\"showlegend\":false,\"x\":[0.9,6.1],\"y\":[0.9,6.1],\"type\":\"scatter\"},{\"hoverinfo\":\"text\",\"hovertext\":[\"(1.0, 6.0)\",\"(4.0, 6.0)\"],\"mode\":\"markers\",\"name\":\"H0\",\"x\":[1.0,4.0],\"y\":[6.0,6.0],\"type\":\"scatter\"},{\"hoverinfo\":\"text\",\"hovertext\":[\"(1.0, 6.0)\",\"(1.0, 3.0)\",\"(1.0, 2.0)\",\"(4.0, 5.0)\"],\"mode\":\"markers\",\"name\":\"H1\",\"x\":[1.0,1.0,1.0,4.0],\"y\":[6.0,3.0,2.0,5.0],\"type\":\"scatter\"}],                        {\"template\":{\"data\":{\"histogram2dcontour\":[{\"type\":\"histogram2dcontour\",\"colorbar\":{\"outlinewidth\":0,\"ticks\":\"\"},\"colorscale\":[[0.0,\"#0d0887\"],[0.1111111111111111,\"#46039f\"],[0.2222222222222222,\"#7201a8\"],[0.3333333333333333,\"#9c179e\"],[0.4444444444444444,\"#bd3786\"],[0.5555555555555556,\"#d8576b\"],[0.6666666666666666,\"#ed7953\"],[0.7777777777777778,\"#fb9f3a\"],[0.8888888888888888,\"#fdca26\"],[1.0,\"#f0f921\"]]}],\"choropleth\":[{\"type\":\"choropleth\",\"colorbar\":{\"outlinewidth\":0,\"ticks\":\"\"}}],\"histogram2d\":[{\"type\":\"histogram2d\",\"colorbar\":{\"outlinewidth\":0,\"ticks\":\"\"},\"colorscale\":[[0.0,\"#0d0887\"],[0.1111111111111111,\"#46039f\"],[0.2222222222222222,\"#7201a8\"],[0.3333333333333333,\"#9c179e\"],[0.4444444444444444,\"#bd3786\"],[0.5555555555555556,\"#d8576b\"],[0.6666666666666666,\"#ed7953\"],[0.7777777777777778,\"#fb9f3a\"],[0.8888888888888888,\"#fdca26\"],[1.0,\"#f0f921\"]]}],\"heatmap\":[{\"type\":\"heatmap\",\"colorbar\":{\"outlinewidth\":0,\"ticks\":\"\"},\"colorscale\":[[0.0,\"#0d0887\"],[0.1111111111111111,\"#46039f\"],[0.2222222222222222,\"#7201a8\"],[0.3333333333333333,\"#9c179e\"],[0.4444444444444444,\"#bd3786\"],[0.5555555555555556,\"#d8576b\"],[0.6666666666666666,\"#ed7953\"],[0.7777777777777778,\"#fb9f3a\"],[0.8888888888888888,\"#fdca26\"],[1.0,\"#f0f921\"]]}],\"heatmapgl\":[{\"type\":\"heatmapgl\",\"colorbar\":{\"outlinewidth\":0,\"ticks\":\"\"},\"colorscale\":[[0.0,\"#0d0887\"],[0.1111111111111111,\"#46039f\"],[0.2222222222222222,\"#7201a8\"],[0.3333333333333333,\"#9c179e\"],[0.4444444444444444,\"#bd3786\"],[0.5555555555555556,\"#d8576b\"],[0.6666666666666666,\"#ed7953\"],[0.7777777777777778,\"#fb9f3a\"],[0.8888888888888888,\"#fdca26\"],[1.0,\"#f0f921\"]]}],\"contourcarpet\":[{\"type\":\"contourcarpet\",\"colorbar\":{\"outlinewidth\":0,\"ticks\":\"\"}}],\"contour\":[{\"type\":\"contour\",\"colorbar\":{\"outlinewidth\":0,\"ticks\":\"\"},\"colorscale\":[[0.0,\"#0d0887\"],[0.1111111111111111,\"#46039f\"],[0.2222222222222222,\"#7201a8\"],[0.3333333333333333,\"#9c179e\"],[0.4444444444444444,\"#bd3786\"],[0.5555555555555556,\"#d8576b\"],[0.6666666666666666,\"#ed7953\"],[0.7777777777777778,\"#fb9f3a\"],[0.8888888888888888,\"#fdca26\"],[1.0,\"#f0f921\"]]}],\"surface\":[{\"type\":\"surface\",\"colorbar\":{\"outlinewidth\":0,\"ticks\":\"\"},\"colorscale\":[[0.0,\"#0d0887\"],[0.1111111111111111,\"#46039f\"],[0.2222222222222222,\"#7201a8\"],[0.3333333333333333,\"#9c179e\"],[0.4444444444444444,\"#bd3786\"],[0.5555555555555556,\"#d8576b\"],[0.6666666666666666,\"#ed7953\"],[0.7777777777777778,\"#fb9f3a\"],[0.8888888888888888,\"#fdca26\"],[1.0,\"#f0f921\"]]}],\"mesh3d\":[{\"type\":\"mesh3d\",\"colorbar\":{\"outlinewidth\":0,\"ticks\":\"\"}}],\"scatter\":[{\"fillpattern\":{\"fillmode\":\"overlay\",\"size\":10,\"solidity\":0.2},\"type\":\"scatter\"}],\"parcoords\":[{\"type\":\"parcoords\",\"line\":{\"colorbar\":{\"outlinewidth\":0,\"ticks\":\"\"}}}],\"scatterpolargl\":[{\"type\":\"scatterpolargl\",\"marker\":{\"colorbar\":{\"outlinewidth\":0,\"ticks\":\"\"}}}],\"bar\":[{\"error_x\":{\"color\":\"#2a3f5f\"},\"error_y\":{\"color\":\"#2a3f5f\"},\"marker\":{\"line\":{\"color\":\"#E5ECF6\",\"width\":0.5},\"pattern\":{\"fillmode\":\"overlay\",\"size\":10,\"solidity\":0.2}},\"type\":\"bar\"}],\"scattergeo\":[{\"type\":\"scattergeo\",\"marker\":{\"colorbar\":{\"outlinewidth\":0,\"ticks\":\"\"}}}],\"scatterpolar\":[{\"type\":\"scatterpolar\",\"marker\":{\"colorbar\":{\"outlinewidth\":0,\"ticks\":\"\"}}}],\"histogram\":[{\"marker\":{\"pattern\":{\"fillmode\":\"overlay\",\"size\":10,\"solidity\":0.2}},\"type\":\"histogram\"}],\"scattergl\":[{\"type\":\"scattergl\",\"marker\":{\"colorbar\":{\"outlinewidth\":0,\"ticks\":\"\"}}}],\"scatter3d\":[{\"type\":\"scatter3d\",\"line\":{\"colorbar\":{\"outlinewidth\":0,\"ticks\":\"\"}},\"marker\":{\"colorbar\":{\"outlinewidth\":0,\"ticks\":\"\"}}}],\"scattermapbox\":[{\"type\":\"scattermapbox\",\"marker\":{\"colorbar\":{\"outlinewidth\":0,\"ticks\":\"\"}}}],\"scatterternary\":[{\"type\":\"scatterternary\",\"marker\":{\"colorbar\":{\"outlinewidth\":0,\"ticks\":\"\"}}}],\"scattercarpet\":[{\"type\":\"scattercarpet\",\"marker\":{\"colorbar\":{\"outlinewidth\":0,\"ticks\":\"\"}}}],\"carpet\":[{\"aaxis\":{\"endlinecolor\":\"#2a3f5f\",\"gridcolor\":\"white\",\"linecolor\":\"white\",\"minorgridcolor\":\"white\",\"startlinecolor\":\"#2a3f5f\"},\"baxis\":{\"endlinecolor\":\"#2a3f5f\",\"gridcolor\":\"white\",\"linecolor\":\"white\",\"minorgridcolor\":\"white\",\"startlinecolor\":\"#2a3f5f\"},\"type\":\"carpet\"}],\"table\":[{\"cells\":{\"fill\":{\"color\":\"#EBF0F8\"},\"line\":{\"color\":\"white\"}},\"header\":{\"fill\":{\"color\":\"#C8D4E3\"},\"line\":{\"color\":\"white\"}},\"type\":\"table\"}],\"barpolar\":[{\"marker\":{\"line\":{\"color\":\"#E5ECF6\",\"width\":0.5},\"pattern\":{\"fillmode\":\"overlay\",\"size\":10,\"solidity\":0.2}},\"type\":\"barpolar\"}],\"pie\":[{\"automargin\":true,\"type\":\"pie\"}]},\"layout\":{\"autotypenumbers\":\"strict\",\"colorway\":[\"#636efa\",\"#EF553B\",\"#00cc96\",\"#ab63fa\",\"#FFA15A\",\"#19d3f3\",\"#FF6692\",\"#B6E880\",\"#FF97FF\",\"#FECB52\"],\"font\":{\"color\":\"#2a3f5f\"},\"hovermode\":\"closest\",\"hoverlabel\":{\"align\":\"left\"},\"paper_bgcolor\":\"white\",\"plot_bgcolor\":\"#E5ECF6\",\"polar\":{\"bgcolor\":\"#E5ECF6\",\"angularaxis\":{\"gridcolor\":\"white\",\"linecolor\":\"white\",\"ticks\":\"\"},\"radialaxis\":{\"gridcolor\":\"white\",\"linecolor\":\"white\",\"ticks\":\"\"}},\"ternary\":{\"bgcolor\":\"#E5ECF6\",\"aaxis\":{\"gridcolor\":\"white\",\"linecolor\":\"white\",\"ticks\":\"\"},\"baxis\":{\"gridcolor\":\"white\",\"linecolor\":\"white\",\"ticks\":\"\"},\"caxis\":{\"gridcolor\":\"white\",\"linecolor\":\"white\",\"ticks\":\"\"}},\"coloraxis\":{\"colorbar\":{\"outlinewidth\":0,\"ticks\":\"\"}},\"colorscale\":{\"sequential\":[[0.0,\"#0d0887\"],[0.1111111111111111,\"#46039f\"],[0.2222222222222222,\"#7201a8\"],[0.3333333333333333,\"#9c179e\"],[0.4444444444444444,\"#bd3786\"],[0.5555555555555556,\"#d8576b\"],[0.6666666666666666,\"#ed7953\"],[0.7777777777777778,\"#fb9f3a\"],[0.8888888888888888,\"#fdca26\"],[1.0,\"#f0f921\"]],\"sequentialminus\":[[0.0,\"#0d0887\"],[0.1111111111111111,\"#46039f\"],[0.2222222222222222,\"#7201a8\"],[0.3333333333333333,\"#9c179e\"],[0.4444444444444444,\"#bd3786\"],[0.5555555555555556,\"#d8576b\"],[0.6666666666666666,\"#ed7953\"],[0.7777777777777778,\"#fb9f3a\"],[0.8888888888888888,\"#fdca26\"],[1.0,\"#f0f921\"]],\"diverging\":[[0,\"#8e0152\"],[0.1,\"#c51b7d\"],[0.2,\"#de77ae\"],[0.3,\"#f1b6da\"],[0.4,\"#fde0ef\"],[0.5,\"#f7f7f7\"],[0.6,\"#e6f5d0\"],[0.7,\"#b8e186\"],[0.8,\"#7fbc41\"],[0.9,\"#4d9221\"],[1,\"#276419\"]]},\"xaxis\":{\"gridcolor\":\"white\",\"linecolor\":\"white\",\"ticks\":\"\",\"title\":{\"standoff\":15},\"zerolinecolor\":\"white\",\"automargin\":true,\"zerolinewidth\":2},\"yaxis\":{\"gridcolor\":\"white\",\"linecolor\":\"white\",\"ticks\":\"\",\"title\":{\"standoff\":15},\"zerolinecolor\":\"white\",\"automargin\":true,\"zerolinewidth\":2},\"scene\":{\"xaxis\":{\"backgroundcolor\":\"#E5ECF6\",\"gridcolor\":\"white\",\"linecolor\":\"white\",\"showbackground\":true,\"ticks\":\"\",\"zerolinecolor\":\"white\",\"gridwidth\":2},\"yaxis\":{\"backgroundcolor\":\"#E5ECF6\",\"gridcolor\":\"white\",\"linecolor\":\"white\",\"showbackground\":true,\"ticks\":\"\",\"zerolinecolor\":\"white\",\"gridwidth\":2},\"zaxis\":{\"backgroundcolor\":\"#E5ECF6\",\"gridcolor\":\"white\",\"linecolor\":\"white\",\"showbackground\":true,\"ticks\":\"\",\"zerolinecolor\":\"white\",\"gridwidth\":2}},\"shapedefaults\":{\"line\":{\"color\":\"#2a3f5f\"}},\"annotationdefaults\":{\"arrowcolor\":\"#2a3f5f\",\"arrowhead\":0,\"arrowwidth\":1},\"geo\":{\"bgcolor\":\"white\",\"landcolor\":\"#E5ECF6\",\"subunitcolor\":\"white\",\"showland\":true,\"showlakes\":true,\"lakecolor\":\"white\"},\"title\":{\"x\":0.05},\"mapbox\":{\"style\":\"light\"}}},\"xaxis\":{\"title\":{\"text\":\"Birth\"},\"side\":\"bottom\",\"type\":\"linear\",\"range\":[0.9,6.1],\"autorange\":false,\"ticks\":\"outside\",\"showline\":true,\"zeroline\":true,\"linewidth\":1,\"linecolor\":\"black\",\"mirror\":false,\"showexponent\":\"all\",\"exponentformat\":\"e\"},\"yaxis\":{\"title\":{\"text\":\"Death\"},\"side\":\"left\",\"type\":\"linear\",\"range\":[0.9,6.1],\"autorange\":false,\"scaleanchor\":\"x\",\"scaleratio\":1,\"ticks\":\"outside\",\"showline\":true,\"zeroline\":true,\"linewidth\":1,\"linecolor\":\"black\",\"mirror\":false,\"showexponent\":\"all\",\"exponentformat\":\"e\"},\"width\":500,\"height\":500,\"plot_bgcolor\":\"white\"},                        {\"responsive\": true}                    ).then(function(){\n",
       "                            \n",
       "var gd = document.getElementById('5c740a47-5456-4bf7-96da-bfa7e2b9e8b7');\n",
       "var x = new MutationObserver(function (mutations, observer) {{\n",
       "        var display = window.getComputedStyle(gd).display;\n",
       "        if (!display || display === 'none') {{\n",
       "            console.log([gd, 'removed!']);\n",
       "            Plotly.purge(gd);\n",
       "            observer.disconnect();\n",
       "        }}\n",
       "}});\n",
       "\n",
       "// Listen for the removal of the full notebook cells\n",
       "var notebookContainer = gd.closest('#notebook-container');\n",
       "if (notebookContainer) {{\n",
       "    x.observe(notebookContainer, {childList: true});\n",
       "}}\n",
       "\n",
       "// Listen for the clearing of the current output cell\n",
       "var outputEl = gd.closest('.output');\n",
       "if (outputEl) {{\n",
       "    x.observe(outputEl, {childList: true});\n",
       "}}\n",
       "\n",
       "                        })                };                });            </script>        </div>"
      ]
     },
     "metadata": {},
     "output_type": "display_data"
    }
   ],
   "source": [
    "# Find Cubical Persistence\n",
    "\n",
    "Density = np.array([Density])\n",
    "cubical_persistence = CubicalPersistence(n_jobs=-1, reduced_homology=False)\n",
    "Persistence = cubical_persistence.fit_transform(Density)\n",
    "\n",
    "filtered = Filtering(epsilon=10 ** -2)\n",
    "Filtered_Persistence = filtered.fit_transform(Persistence)\n",
    "plot = filtered.plot(Filtered_Persistence)\n",
    "plot.show()"
   ]
  },
  {
   "cell_type": "code",
   "execution_count": null,
   "id": "c78681ed",
   "metadata": {},
   "outputs": [],
   "source": []
  }
 ],
 "metadata": {
  "kernelspec": {
   "display_name": "Python 3 (ipykernel)",
   "language": "python",
   "name": "python3"
  },
  "language_info": {
   "codemirror_mode": {
    "name": "ipython",
    "version": 3
   },
   "file_extension": ".py",
   "mimetype": "text/x-python",
   "name": "python",
   "nbconvert_exporter": "python",
   "pygments_lexer": "ipython3",
   "version": "3.9.15"
  }
 },
 "nbformat": 4,
 "nbformat_minor": 5
}
