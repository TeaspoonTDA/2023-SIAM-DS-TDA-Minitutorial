{
 "cells": [
  {
   "cell_type": "code",
   "execution_count": 6,
   "id": "9843489e",
   "metadata": {
    "slideshow": {
     "slide_type": "skip"
    }
   },
   "outputs": [
    {
     "data": {
      "text/html": [
       "    \n",
       "<!-- reveal.js CSS theme and local overrides -->\n",
       "<link rel=\"stylesheet\" href=\"https://fonts.googleapis.com/css?family=Open+Sans:300,400,600,700&amp;lang=en\"/>\n",
       "<link rel=\"stylesheet\" href=\"https://fonts.googleapis.com/css?family=Merriweather:italic&amp;lang=en\"/>\n",
       "<link rel=\"stylesheet\" href=\"stylefiles/presentation.css\"/> \n"
      ],
      "text/plain": [
       "<IPython.core.display.HTML object>"
      ]
     },
     "metadata": {},
     "output_type": "display_data"
    }
   ],
   "source": [
    "%%HTML\n",
    "    \n",
    "<!-- reveal.js CSS theme and local overrides -->\n",
    "<link rel=\"stylesheet\" href=\"https://fonts.googleapis.com/css?family=Open+Sans:300,400,600,700&amp;lang=en\"/>\n",
    "<link rel=\"stylesheet\" href=\"https://fonts.googleapis.com/css?family=Merriweather:italic&amp;lang=en\"/>\n",
    "<link rel=\"stylesheet\" href=\"stylefiles/presentation.css\"/> "
   ]
  },
  {
   "cell_type": "markdown",
   "id": "f198536f",
   "metadata": {
    "slideshow": {
     "slide_type": "slide"
    }
   },
   "source": [
    "<section id=\"title-slide\"> \n",
    "    <br><br><br><h1><i>CROCKER Plots for Bifurcation Analysis</i></h1>\n",
    "    <h3><i>Module 2-3</i></h3>\n",
    "    <br><br>\n",
    "    <h4><i>5/15/2023</i></h4>\n",
    "    <br><br>\n",
    "    <div class=\"uu_title_container\">\n",
    "        <smaller>\n",
    "        <div>\n",
    "            <b>Presented by:</b> Sunia Tanweer\n",
    "            <br><br><br><br>\n",
    "            <b>Topological Signal Processing for Dynamical Systems</b><br>\n",
    "            SIAM-DS Minitutorial 2023\n",
    "        </div>  \n",
    "        </smaller>\n",
    "    </div><br>\n",
    "    <div class='footer'>\n",
    "        Michigan State University\n",
    "    </div>\n",
    "</section>"
   ]
  },
  {
   "cell_type": "markdown",
   "id": "18ae4857",
   "metadata": {
    "slideshow": {
     "slide_type": "notes"
    }
   },
   "source": [
    "I will be looking at the use of a specific type of plot called CROCKER for bifurcation detection in deterministic dynamical systems."
   ]
  },
  {
   "cell_type": "markdown",
   "id": "46790f28",
   "metadata": {
    "slideshow": {
     "slide_type": "slide"
    }
   },
   "source": [
    "# Visual Abstract \n",
    "\n",
    "![](figures/big_picture.png)"
   ]
  },
  {
   "cell_type": "markdown",
   "id": "6cbd941c",
   "metadata": {
    "slideshow": {
     "slide_type": "subslide"
    }
   },
   "source": [
    "## Goals of this module\n",
    "\n",
    "- Define Betti Curves and CROCKER plots\n",
    "- Learn how to compute the two\n",
    "- Apply them to dynamical systems for bifurcation analysis"
   ]
  },
  {
   "cell_type": "markdown",
   "id": "226b160c",
   "metadata": {
    "slideshow": {
     "slide_type": "notes"
    }
   },
   "source": [
    "The goal of this module is to introduce two more TDA concepts: Betti curves and CROCKER plots, see how they are computed, and look at how they can help in a system's bifurcation analysis."
   ]
  },
  {
   "cell_type": "markdown",
   "id": "bbb5ff33",
   "metadata": {
    "slideshow": {
     "slide_type": "slide"
    }
   },
   "source": [
    "# Betti Curves\n",
    "\n",
    "## Recall\n",
    " \n",
    "The Betti number $\\beta_p(K)$ is the dimension of the $p$-dimensional homology, $\\dim(H_p(K))$\n",
    "    \n",
    "<center><img src=\"figures/1-1_ExSimpComplex.jpg\" width=50% height='auto'></center>\n",
    "\n",
    "Here, $\\beta_1(K) = 2$."
   ]
  },
  {
   "cell_type": "markdown",
   "id": "8928a634",
   "metadata": {
    "slideshow": {
     "slide_type": "notes"
    }
   },
   "source": [
    "Before we define a betti curve, let's recall what the betti number was. Given a complex, we defined the p-th betti number as the dimension of the p-dimensional homology. For example, for this complex you looked earlier, the betti number was 2. "
   ]
  },
  {
   "cell_type": "markdown",
   "id": "a392a0aa",
   "metadata": {
    "slideshow": {
     "slide_type": "subslide"
    }
   },
   "source": [
    "## Why Betti Curves?\n",
    "\n",
    "<img src='figures/Crocker/betti_number.png' width=70%>"
   ]
  },
  {
   "cell_type": "markdown",
   "id": "925d67ae",
   "metadata": {
    "slideshow": {
     "slide_type": "notes"
    }
   },
   "source": [
    "Now that we remember what a betti number was, let's take this point cloud and its persistence diagram. The persistence diagram is on a two-dimensional space and stores a lot of information with several points on it. Betti curves is motivated by the need to distill this 2-dimensional persistence diagram to a 1-dimensional vector which is still capable of giving the information on the underlying structure of data. "
   ]
  },
  {
   "cell_type": "markdown",
   "id": "3b4a8ae5",
   "metadata": {
    "slideshow": {
     "slide_type": "subslide"
    }
   },
   "source": [
    "## The Betti Curve \n",
    "\n",
    "Given a filtration $K_0 \\subseteq K_1 \\subseteq \\cdots K_n$\n",
    "the Betti curve is a function \n",
    "    $$t \\mapsto \\left(\\beta_i (K_{\\lfloor t \\rfloor})\\right).$$\n",
    "       \n",
    "![](figures/Crocker/betti_example.png)"
   ]
  },
  {
   "cell_type": "markdown",
   "id": "418c98da",
   "metadata": {
    "slideshow": {
     "slide_type": "notes"
    }
   },
   "source": [
    "A Betti curve which is defined as a function mapping to the $i$-th betti number of the space at filtration value $t$.\n",
    "So for this point cloud and persistence diagram, we see that the betti curve shows a constant value of 1 for a long range of thresholds, indicating the presence of one significant loop in the dataset."
   ]
  },
  {
   "cell_type": "markdown",
   "id": "de2af711",
   "metadata": {
    "slideshow": {
     "slide_type": "subslide"
    }
   },
   "source": [
    "## Computing Betti Curve\n",
    "\n",
    "Given a persistence diagram, the Betti curve is the function $\\beta: \\mathbb{R} \\rightarrow \\mathbb{N}$ whose value on $t \\in \\mathbb{R}$ is the number of points $(b_i, d_i)$ on the diagram such that $b_i \\leq t < d_i$."
   ]
  },
  {
   "cell_type": "markdown",
   "id": "9139dfc5",
   "metadata": {
    "slideshow": {
     "slide_type": "notes"
    }
   },
   "source": [
    "Given a full persistence diagram, an easy way to compute the betti curve is to slowly raise your proximity parameter t, and count the number of points in the diagram which have taken birth but haven't died. "
   ]
  },
  {
   "cell_type": "markdown",
   "id": "144344f3",
   "metadata": {
    "slideshow": {
     "slide_type": "fragment"
    }
   },
   "source": [
    "![](figures/Crocker/betti_curve1.gif)"
   ]
  },
  {
   "cell_type": "markdown",
   "id": "5f3d2f55",
   "metadata": {
    "slideshow": {
     "slide_type": "notes"
    }
   },
   "source": [
    "Let's look at this animation. On the left is the point cloud and the rips complex as we raise our proximity parameter. In the middle is the persistence diagram and on the right is the betti curve. On the persistence diagram, you will see two dynamic lines making a small window. Essentially, at each proximity parameter, the betti curve's value corresponds to the number of points falling within that window (also known as the fundamental window). Notice that the betti curve takes the value 1 for the longest range of proximity parameters indicating that there is one significant loop in the data."
   ]
  },
  {
   "cell_type": "markdown",
   "id": "93132ddc",
   "metadata": {
    "slideshow": {
     "slide_type": "subslide"
    }
   },
   "source": [
    "# CROCKER plots$ ^{[1]}$ \n",
    "#### (Contour Realization Of Computed k-dimensional hole Evolution in the Rips complex)\n",
    "\n",
    "\n",
    "### Definition \n",
    "\n",
    "    \n",
    "- Given a parameterized family of input filtered complexes $\\{ K^t \\mid t \\in T\\}$. \n",
    "- Fix thresholds for filtration parameter $\\{ a_1 \\leq a_2 \\cdots \\leq a_n\\}$\n",
    "- Plot the Betti curve for a fixed input filtered complex vertically, stack Betti curves horizontally. \n",
    "\n",
    "$ ^{[1]}$  C. M. Topaz, L. Ziegelmeier and T. Halverson. *Topological data analysis of biological aggregation models*, PloS One, 10 (2015), [DOI:10.1371/journal.pone.0126383](http://dx.doi.org/10.1371/journal.pone.0126383)."
   ]
  },
  {
   "cell_type": "markdown",
   "id": "9003b4a5",
   "metadata": {
    "slideshow": {
     "slide_type": "notes"
    }
   },
   "source": [
    "Now that we know how to compute a betti curve, we are in a position to understand CROCKER plots. Given a parametrized family of filtered complexes, a crocker plot is 2D plot of Betti curves for fixed input filtered complexes stacked horizontally."
   ]
  },
  {
   "cell_type": "markdown",
   "id": "d8fc8e54",
   "metadata": {
    "slideshow": {
     "slide_type": "subslide"
    }
   },
   "source": [
    "### Usage\n",
    "    \n",
    "- To summarize the evolution of persistence diagram for varying data\n",
    "- The variation can be with respect to any system parameter\n",
    "- Typicaly monitored against time or some bifurcation parameter\n"
   ]
  },
  {
   "cell_type": "markdown",
   "id": "0bddb4ee",
   "metadata": {
    "slideshow": {
     "slide_type": "notes"
    }
   },
   "source": [
    "We know that for one specific data set, we get one persistence diagram and one betti curve. CROCKER plots are a way to summarize the evolution of the persistence diagram as a data set varies. This variation of the dataset can be with respect to many parameters. Typically, this evolution is wrt time or a bifurcation parameter. "
   ]
  },
  {
   "cell_type": "markdown",
   "id": "02212fe9",
   "metadata": {
    "slideshow": {
     "slide_type": "subslide"
    }
   },
   "source": [
    "## Example\n",
    "\n",
    "<div class = 'row'>\n",
    "<div class = 'column'>        \n",
    "Let's take a annulus with fixed outer radius and changing inner radius. Let's define the inner radius as\n",
    "<center><img src=\"figures/Crocker/inner_radius.png\" width=60% height='auto'></center>\n",
    "</div>\n",
    "<div class = 'column'>\n",
    "E.g. the point cloud would assume different shapes as follows at different times:\n",
    "<br><br><br>\n",
    "<center><img src=\"figures/Crocker/changing_pointcloud.png\" width=100% height='auto'></center>\n",
    "</div>\n",
    "</div>"
   ]
  },
  {
   "cell_type": "markdown",
   "id": "2a2a4a17",
   "metadata": {
    "slideshow": {
     "slide_type": "notes"
    }
   },
   "source": [
    "Let's look at an example. Say that we have a set of point clouds in the shape of an annulus with a fixed outside radius but changing inner radius. The inner radius follows the function shown here, such that the point cloud will assume different shapes over the course of this variation in its inner radius."
   ]
  },
  {
   "cell_type": "markdown",
   "id": "16843fea",
   "metadata": {
    "slideshow": {
     "slide_type": "subslide"
    }
   },
   "source": [
    "### $H_1$ CROCKER plot as the point cloud varies\n"
   ]
  },
  {
   "cell_type": "markdown",
   "id": "a19f4238",
   "metadata": {
    "slideshow": {
     "slide_type": "fragment"
    }
   },
   "source": [
    "<center><img src=\"figures/Crocker/Crocker_Torus.gif\" width = 50% height = 'auto'></center>"
   ]
  },
  {
   "cell_type": "markdown",
   "id": "0bc5e199",
   "metadata": {
    "slideshow": {
     "slide_type": "notes"
    }
   },
   "source": [
    "Let's look at what the 1D homology CROCKER plot would be like as this point cloud varies.\n",
    "The white line on the crocker plot corresponds to the location of the betti curve corresponding to the specific point cloud displayed. Recall that I said earlier that the range for which the betti curve takes a certain value indicate its importance. Now notice the thick regions in orange having a value 1 since the point cloud has one loop for the most part. Between these thick regions of value 1, notice the blue regions of value 0 indicating the change in shape of the annulus to a filled circle. Hence, this way, a crocker plot can help summarize the evolution of a point cloud with the change in some parameter."
   ]
  },
  {
   "cell_type": "markdown",
   "id": "8c3573a3",
   "metadata": {
    "slideshow": {
     "slide_type": "slide"
    }
   },
   "source": [
    "# Lorenz System\n",
    "\n",
    "Lorenz system can be represented by the following equations:\n",
    "<br>\n",
    "<center>$\\dot{x} = \\sigma (y-x) \\quad \\dot{y} = x(\\rho - z)-y  \\quad \\dot{z} = xy - \\beta z$</center>\n",
    "<br>\n",
    "\n",
    "We fix $\\sigma = 10$ and $\\beta = 8/3$, and the initial condition as $[x, y, z] = [10^{-10}, 0, 1]$, while $\\rho \\in [90, 105]$ acts as the bifurcation parameter."
   ]
  },
  {
   "cell_type": "markdown",
   "id": "4aa0b192",
   "metadata": {
    "slideshow": {
     "slide_type": "notes"
    }
   },
   "source": [
    "Now that we know what Betti curve and CROCKER plots are, let's look at how they relate to the bifurcation diagram of a deterministic dynamical system. Here, I'll take the example of a Lorenz system with fixed sigma and beta values. The parameter rho here acts as the bifurcaTion parameter, and belongs to the interval 90 to 105."
   ]
  },
  {
   "cell_type": "markdown",
   "id": "9d6cc847",
   "metadata": {
    "slideshow": {
     "slide_type": "subslide"
    }
   },
   "source": [
    "<center><img src=\"figures/Crocker/Lorenz.png\" width=50% height='auto'></center>"
   ]
  },
  {
   "cell_type": "markdown",
   "id": "de7d9e04",
   "metadata": {
    "slideshow": {
     "slide_type": "notes"
    }
   },
   "source": [
    "Let's plot a couple of things for this system. At the top, we see the attractors corresponding to some values of the bifurcation parameter. Next is the bifurcation diagram which shows the periodic and chaotic regions as the bifurcation parameter varies.\n",
    "The next two plots are the CROCKERs for H0 and H1 classes. Figure d is the plot of the largest lyapunov exponent, and finally, the last two plots show the L1 norms of the betti curve against each bifurcation parameter.\n",
    "On the next slides, I'll be breaking this very big figure in chunks, and discuss some conclusions which can be drawn from them."
   ]
  },
  {
   "cell_type": "markdown",
   "id": "16dafb97",
   "metadata": {
    "slideshow": {
     "slide_type": "subslide"
    }
   },
   "source": [
    "#### Bifurcation Diagram and CROCKER Plots\n",
    "\n",
    "<center><img src=\"figures/Crocker/Lorenz1.png\" width=65% height='auto'></center>"
   ]
  },
  {
   "cell_type": "markdown",
   "id": "36b42ffb",
   "metadata": {
    "slideshow": {
     "slide_type": "notes"
    }
   },
   "source": [
    "Lets just look at the bifurcation diagram and the crocker plots. In plot b, which is the H0 crocker plot, we can see that each time the system enters a window of order, the minimum epsilon at which the betti curve becomes 1 drops, which is a result of earlier merging of the points into one component due to higher density of points in same regions in a periodic attracter. In plot c, we notice a marked shift in the maximum epsilon until which the betti curve is positive, indicating the presence of long life of some loopy structures in the windows of order. "
   ]
  },
  {
   "cell_type": "markdown",
   "id": "7ff251d1",
   "metadata": {
    "slideshow": {
     "slide_type": "fragment"
    }
   },
   "source": [
    "##### Conclusion 1: CROCKER Plots can be qualitatively compared to Bifurcation Diagrams"
   ]
  },
  {
   "cell_type": "markdown",
   "id": "9e8f224c",
   "metadata": {
    "slideshow": {
     "slide_type": "notes"
    }
   },
   "source": [
    "Hence, we can conclude that a qualitative comparison can be established between crocker plots and bifurcation diagram."
   ]
  },
  {
   "cell_type": "markdown",
   "id": "83116167",
   "metadata": {
    "slideshow": {
     "slide_type": "subslide"
    }
   },
   "source": [
    "#### Bifurcation Diagram, LLE and $L_1$ norm of Betti Vectors\n",
    "\n",
    "<center><img src=\"figures/Crocker/Lorenz2.png\" width=45% height='auto'></center>"
   ]
  },
  {
   "cell_type": "markdown",
   "id": "0b59c477",
   "metadata": {
    "slideshow": {
     "slide_type": "notes"
    }
   },
   "source": [
    "Now, lets just look at the bifurcation diagram, lyapunov exponent and the L1 norms of betti curves. Just based on the shapes of the curves, it is easily noticeable that the L1 norms and lyapunov exponent follow a similar trajectory. On entering windows of order, both the lyapunov exponent and L1 norms see a dip in their values."
   ]
  },
  {
   "cell_type": "markdown",
   "id": "522e74ca",
   "metadata": {
    "slideshow": {
     "slide_type": "fragment"
    }
   },
   "source": [
    "##### Conclusion 2: $L_1$ norm of Betti vectors can be qualitatively compared to LLE"
   ]
  },
  {
   "cell_type": "markdown",
   "id": "07ed4f0e",
   "metadata": {
    "slideshow": {
     "slide_type": "notes"
    }
   },
   "source": [
    "Hence, it can be concluded that the L1 norm of betti curve has some relation to the lyapunov exponent and can be qualitatively compared to it."
   ]
  },
  {
   "cell_type": "markdown",
   "id": "92abd4ab",
   "metadata": {
    "slideshow": {
     "slide_type": "subslide"
    }
   },
   "source": [
    "#### Bifurcation Diagram, LLE and CROCKERS\n",
    "<center><img src=\"figures/Crocker/Lorenz3.png\" width=75% height='auto'></center>"
   ]
  },
  {
   "cell_type": "markdown",
   "id": "d8efa1f3",
   "metadata": {
    "slideshow": {
     "slide_type": "notes"
    }
   },
   "source": [
    "Finally, let's compare the crockers with the lyapunov exponent plots and focus on the bifurcation parameter values of 92.5 and 100: these correspond to the second and third attractors shown here. Both of these values are in the periodic regime and hence have a dip in the value of the lyapunov exponent. But at 92.5, we see that the attractor has multiple loops in it, while the attractor at the value of 100 has only two loops. However, the value of lyapunov exponent is virtually constant and the same for both of these regions. But for these windows of order, the thick regions in the H1 crocker plot have difference in their values. For the 92.5 value, the thicker region on crocker plot corresponds to a value of 4, while for the 100 value, the thicker region on the crocker plot corresponds to a 2."
   ]
  },
  {
   "cell_type": "markdown",
   "id": "642bc889",
   "metadata": {
    "slideshow": {
     "slide_type": "fragment"
    }
   },
   "source": [
    "##### Conclusion 3: CROCKER Plots give information on the shape of the attractor"
   ]
  },
  {
   "cell_type": "markdown",
   "id": "c89e6e6a",
   "metadata": {
    "slideshow": {
     "slide_type": "notes"
    }
   },
   "source": [
    "From this we can conclude that even though the well-established lyapunov exponent approach cannot differentiate between these two periodic regimes and treats them equally, 1D crocker plots have the capacity to give further information on the shape of the attracter and by extension the periodicity."
   ]
  },
  {
   "cell_type": "markdown",
   "id": "83815747",
   "metadata": {
    "slideshow": {
     "slide_type": "slide"
    }
   },
   "source": [
    "### Refer to the paper for more details and results from other systems:\n",
    "\n",
    "<center><img src=\"figures/Crocker/QR.png\" width=15% height='auto'></center>\n",
    "\n",
    "İsmail Güzel, Elizabeth Munch, and Firas A. Khasawneh. *Detecting bifurcations in dynamical systems with CROCKER plots*,  CHAOS, 2022. [DOI:10.1063/5.0102421](https://doi.org/10.1063/5.0102421)"
   ]
  },
  {
   "cell_type": "markdown",
   "id": "b83c3760",
   "metadata": {
    "slideshow": {
     "slide_type": "notes"
    }
   },
   "source": [
    "This concludes the discussion on how crocker plots can assist in bifurcation analysis. Feel free to refer to the paper for more details and a number of other systems which have been analyzed using CROCKERS."
   ]
  },
  {
   "cell_type": "markdown",
   "id": "6bfad471",
   "metadata": {
    "slideshow": {
     "slide_type": "subslide"
    }
   },
   "source": [
    "# You try it \n",
    "\n",
    "<div class = 'row'>\n",
    "<div class = 'column'>\n",
    "    \n",
    "- Open the [2-3-Wkst-CrockerPlots.ipynb](2-3-Wkst-CrockerPlots.ipynb) notebook and get started! \n",
    "- Answers are included but hidden.\n",
    "- We will come back together in 5-10 minutes to start on the next module.\n",
    "- Make sure to download your work as you go!  We won't be able to share any specific files after the conference.\n",
    "    \n",
    "</div>\n",
    "<div class = 'column'>\n",
    "\n",
    "![](figures/2-3_wkst.png)\n",
    "        \n",
    "</div>\n",
    "</div>"
   ]
  },
  {
   "cell_type": "markdown",
   "id": "56957d88",
   "metadata": {
    "slideshow": {
     "slide_type": "notes"
    }
   },
   "source": [
    "Like all modules, there's a worksheet for this one as well for you to test out your understanding. We'll come back together after 5-10 minutes for the next module."
   ]
  }
 ],
 "metadata": {
  "celltoolbar": "Slideshow",
  "kernelspec": {
   "display_name": "Python 3 (ipykernel)",
   "language": "python",
   "name": "python3"
  },
  "language_info": {
   "codemirror_mode": {
    "name": "ipython",
    "version": 3
   },
   "file_extension": ".py",
   "mimetype": "text/x-python",
   "name": "python",
   "nbconvert_exporter": "python",
   "pygments_lexer": "ipython3",
   "version": "3.11.0"
  }
 },
 "nbformat": 4,
 "nbformat_minor": 5
}
