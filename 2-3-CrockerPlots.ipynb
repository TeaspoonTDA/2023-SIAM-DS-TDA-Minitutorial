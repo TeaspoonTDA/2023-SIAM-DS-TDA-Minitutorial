{
 "cells": [
  {
   "cell_type": "code",
   "execution_count": 1,
   "id": "9843489e",
   "metadata": {
    "slideshow": {
     "slide_type": "skip"
    }
   },
   "outputs": [
    {
     "data": {
      "text/html": [
       "    \n",
       "<!-- reveal.js CSS theme and local overrides -->\n",
       "<link rel=\"stylesheet\" href=\"https://fonts.googleapis.com/css?family=Open+Sans:300,400,600,700&amp;lang=en\"/>\n",
       "<link rel=\"stylesheet\" href=\"https://fonts.googleapis.com/css?family=Merriweather:italic&amp;lang=en\"/>\n",
       "<link rel=\"stylesheet\" href=\"stylefiles/presentation.css\"/> \n"
      ],
      "text/plain": [
       "<IPython.core.display.HTML object>"
      ]
     },
     "metadata": {},
     "output_type": "display_data"
    }
   ],
   "source": [
    "%%HTML\n",
    "    \n",
    "<!-- reveal.js CSS theme and local overrides -->\n",
    "<link rel=\"stylesheet\" href=\"https://fonts.googleapis.com/css?family=Open+Sans:300,400,600,700&amp;lang=en\"/>\n",
    "<link rel=\"stylesheet\" href=\"https://fonts.googleapis.com/css?family=Merriweather:italic&amp;lang=en\"/>\n",
    "<link rel=\"stylesheet\" href=\"stylefiles/presentation.css\"/> "
   ]
  },
  {
   "cell_type": "markdown",
   "id": "f198536f",
   "metadata": {
    "slideshow": {
     "slide_type": "slide"
    }
   },
   "source": [
    "<section id=\"title-slide\"> \n",
    "    <br><br><br><h1><i>CROCKER Plots for Bifurcation Analysis</i></h1>\n",
    "    <h3><i>Module 2-3</i></h3>\n",
    "    <br><br>\n",
    "    <h4><i>5/15/2023</i></h4>\n",
    "    <br><br>\n",
    "    <div class=\"uu_title_container\">\n",
    "        <smaller>\n",
    "        <div>\n",
    "            <b>Presented by:</b> Sunia Tanweer\n",
    "            <br><br><br><br>\n",
    "            <b>Topological Signal Processing for Dynamical Systems</b><br>\n",
    "            SIAM-DS Minitutorial 2023\n",
    "        </div>  \n",
    "        </smaller>\n",
    "    </div><br>\n",
    "    <div class='footer'>\n",
    "        Michigan State University\n",
    "    </div>\n",
    "</section>"
   ]
  },
  {
   "cell_type": "markdown",
   "id": "46790f28",
   "metadata": {
    "slideshow": {
     "slide_type": "slide"
    }
   },
   "source": [
    "# Visual Abstract \n",
    "\n",
    "![](figures/big_picture.png)"
   ]
  },
  {
   "cell_type": "markdown",
   "id": "6cbd941c",
   "metadata": {
    "slideshow": {
     "slide_type": "subslide"
    }
   },
   "source": [
    "## Goals of this module\n",
    "\n",
    "- Define Betti Curves and CROCKER plots\n",
    "- Learn how to compute the two\n",
    "- Apply them to dynamical systems for bifurcation analysis"
   ]
  },
  {
   "cell_type": "markdown",
   "id": "bbb5ff33",
   "metadata": {
    "slideshow": {
     "slide_type": "slide"
    }
   },
   "source": [
    "# Betti Curves\n",
    "\n",
    "## Recall\n",
    " \n",
    "The Betti number $\\beta_p(K)$ is the dimension of the $p$-dimensional homology, $\\dim(H_p(K))$\n",
    "    \n",
    "<center><img src=\"figures/Crocker/betti_number.png\" width=50% height='auto'></center>\n",
    "\n",
    "Here, $\\beta_1(K) = 11$ even though there is one _significant_ loop in the data."
   ]
  },
  {
   "cell_type": "markdown",
   "id": "3b4a8ae5",
   "metadata": {
    "slideshow": {
     "slide_type": "subslide"
    }
   },
   "source": [
    "## The Betti Curve \n",
    "\n",
    "Given a filtration $K_0 \\subseteq K_1 \\subseteq \\cdots K_n$\n",
    "the Betti curve is a function \n",
    "    $$t \\mapsto \\left(\\beta_i (K_{\\lfloor t \\rfloor})\\right).$$\n",
    "       \n",
    "![](figures/Crocker/betti_example.png)"
   ]
  },
  {
   "cell_type": "markdown",
   "id": "de2af711",
   "metadata": {
    "slideshow": {
     "slide_type": "subslide"
    }
   },
   "source": [
    "## Computing Betti Curve\n",
    "\n",
    "Given a persistence diagram, the Betti curve is the function $\\beta: \\mathbb{R} \\rightarrow \\mathbb{N}$ whose value on $t \\in \\mathbb{R}$ is the number of points $(b_i, d_i)$ on the diagram such that $b_i \\leq t < d_i$."
   ]
  },
  {
   "cell_type": "markdown",
   "id": "144344f3",
   "metadata": {
    "slideshow": {
     "slide_type": "fragment"
    }
   },
   "source": [
    "![](figures/Crocker/betti_curve.gif)"
   ]
  },
  {
   "cell_type": "markdown",
   "id": "93132ddc",
   "metadata": {
    "slideshow": {
     "slide_type": "subslide"
    }
   },
   "source": [
    "# CROCKER plots$ ^{[1]}$ \n",
    "#### (Contour Realization Of Computed k-dimensional hole Evolution in the Rips complex)\n",
    "\n",
    "\n",
    "### Definition \n",
    "\n",
    "    \n",
    "- Given a parameterized family of input filtered complexes $\\{ K^t \\mid t \\in T\\}$. \n",
    "- Fix thresholds for filtration parameter $\\{ a_1 \\leq a_2 \\cdots \\leq a_n\\}$\n",
    "- Plot the Betti curve for a fixed input filtered complex vertically, stack Betti curves horizontally. \n",
    "\n",
    "$ ^{[1]}$  C. M. Topaz, L. Ziegelmeier and T. Halverson. *Topological data analysis of biological aggregation models*, PloS One, 10 (2015), [DOI:10.1371/journal.pone.0126383](http://dx.doi.org/10.1371/journal.pone.0126383)."
   ]
  },
  {
   "cell_type": "markdown",
   "id": "d8fc8e54",
   "metadata": {
    "slideshow": {
     "slide_type": "fragment"
    }
   },
   "source": [
    "### Usage\n",
    "    \n",
    "- To summarize the evolution of persistence diagram for varying data\n",
    "- The variation can be with respect to any system parameter\n",
    "- Typicaly monitored against time or some bifurcation parameter\n"
   ]
  },
  {
   "cell_type": "markdown",
   "id": "02212fe9",
   "metadata": {
    "slideshow": {
     "slide_type": "subslide"
    }
   },
   "source": [
    "## Example\n",
    "\n",
    "Let's take a annulus with fixed outer radius and changing inner radius. Let's define the inner radius as:\n",
    "<center><img src=\"figures/Crocker/inner_radius.png\" width=30% height='auto'></center>\n",
    "\n",
    "E.g. the point cloud would assume different shapes as follows at different times:\n",
    "<center><img src=\"figures/Crocker/changing_pointcloud.png\" width=70% height='auto'></center>"
   ]
  },
  {
   "cell_type": "markdown",
   "id": "a19f4238",
   "metadata": {
    "slideshow": {
     "slide_type": "subslide"
    }
   },
   "source": [
    "### CROCKER plot as the point cloud varies\n",
    "\n",
    "<center><img src=\"figures/Crocker/Crocker_Torus.gif\" width = 50% height = 'auto'></center>"
   ]
  },
  {
   "cell_type": "markdown",
   "id": "8c3573a3",
   "metadata": {
    "slideshow": {
     "slide_type": "slide"
    }
   },
   "source": [
    "# Lorenz System\n",
    "\n",
    "Lorenz system can be represented by the following equations:\n",
    "<br>\n",
    "<center>$\\dot{x} = \\sigma (y-x) \\quad \\dot{y} = x(\\rho - z)-y  \\quad \\dot{z} = xy - \\beta z$</center>\n",
    "<br>\n",
    "\n",
    "We fix $\\sigma = 10$ and $\\beta = 8/3$, and the initial condition as $[x, y, z] = [10^{-10}, 0, 1]$, while $\\rho \\in [90, 105]$ acts as the bifurcation parameter."
   ]
  },
  {
   "cell_type": "markdown",
   "id": "9d6cc847",
   "metadata": {
    "slideshow": {
     "slide_type": "subslide"
    }
   },
   "source": [
    "<center><img src=\"figures/Crocker/Lorenz.png\" width=50% height='auto'></center>"
   ]
  },
  {
   "cell_type": "markdown",
   "id": "16dafb97",
   "metadata": {
    "slideshow": {
     "slide_type": "subslide"
    }
   },
   "source": [
    "#### Bifurcation Diagram and CROCKER Plots\n",
    "\n",
    "<center><img src=\"figures/Crocker/Lorenz1.png\" width=65% height='auto'></center>"
   ]
  },
  {
   "cell_type": "markdown",
   "id": "7ff251d1",
   "metadata": {
    "slideshow": {
     "slide_type": "fragment"
    }
   },
   "source": [
    "##### Conclusion 1: CROCKER Plots can be qualitatively compared to Bifurcation Diagrams"
   ]
  },
  {
   "cell_type": "markdown",
   "id": "83116167",
   "metadata": {
    "slideshow": {
     "slide_type": "subslide"
    }
   },
   "source": [
    "#### Bifurcation Diagram, LLE and $L_1$ norm of Betti Vectors\n",
    "\n",
    "<center><img src=\"figures/Crocker/Lorenz2.png\" width=45% height='auto'></center>"
   ]
  },
  {
   "cell_type": "markdown",
   "id": "522e74ca",
   "metadata": {
    "slideshow": {
     "slide_type": "fragment"
    }
   },
   "source": [
    "##### Conclusion 2: $L_1$ norm of Betti vectors can be qualitatively compared to LLE and used as an alternative"
   ]
  },
  {
   "cell_type": "markdown",
   "id": "92abd4ab",
   "metadata": {
    "slideshow": {
     "slide_type": "subslide"
    }
   },
   "source": [
    "#### Bifurcation Diagram, LLE and CROCKERS\n",
    "<center><img src=\"figures/Crocker/Lorenz3.png\" width=75% height='auto'></center>"
   ]
  },
  {
   "cell_type": "markdown",
   "id": "642bc889",
   "metadata": {
    "slideshow": {
     "slide_type": "fragment"
    }
   },
   "source": [
    "##### Conclusion 3: CROCKER Plots give information on the shape of the attractor"
   ]
  },
  {
   "cell_type": "markdown",
   "id": "83815747",
   "metadata": {
    "slideshow": {
     "slide_type": "slide"
    }
   },
   "source": [
    "### Refer to the paper for more details and results from other systems:\n",
    "\n",
    "<center><img src=\"figures/Crocker/QR.png\" width=15% height='auto'></center>\n",
    "\n",
    "İsmail Güzel, Elizabeth Munch, and Firas A. Khasawneh. *Detecting bifurcations in dynamical systems with CROCKER plots*,  CHAOS, 2022. [DOI:10.1063/5.0102421](https://doi.org/10.1063/5.0102421)"
   ]
  },
  {
   "cell_type": "markdown",
   "id": "6bfad471",
   "metadata": {
    "slideshow": {
     "slide_type": "subslide"
    }
   },
   "source": [
    "# You try it \n",
    "\n",
    "<div class = 'row'>\n",
    "<div class = 'column'>\n",
    "    \n",
    "- Open the [2-3-Wkst-CrockerPlots.ipynb](2-3-Wkst-CrockerPlots.ipynb) notebook and get started! \n",
    "- Answers are included but hidden.\n",
    "- We will come back together in 5-10 minutes to start on the next module.\n",
    "- Make sure to download your work as you go!  We won't be able to share any specific files after the conference.\n",
    "    \n",
    "</div>\n",
    "<div class = 'column'>\n",
    "\n",
    "![](figures/2-3_wkst.png)\n",
    "        \n",
    "</div>\n",
    "</div>"
   ]
  }
 ],
 "metadata": {
  "celltoolbar": "Slideshow",
  "kernelspec": {
   "display_name": "Python 3 (ipykernel)",
   "language": "python",
   "name": "python3"
  },
  "language_info": {
   "codemirror_mode": {
    "name": "ipython",
    "version": 3
   },
   "file_extension": ".py",
   "mimetype": "text/x-python",
   "name": "python",
   "nbconvert_exporter": "python",
   "pygments_lexer": "ipython3",
   "version": "3.11.0"
  }
 },
 "nbformat": 4,
 "nbformat_minor": 5
}
