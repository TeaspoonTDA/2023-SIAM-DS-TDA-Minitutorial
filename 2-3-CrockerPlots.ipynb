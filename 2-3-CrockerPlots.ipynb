{
 "cells": [
  {
   "cell_type": "code",
   "execution_count": 1,
   "id": "9843489e",
   "metadata": {
    "slideshow": {
     "slide_type": "skip"
    }
   },
   "outputs": [
    {
     "data": {
      "text/html": [
       "    \n",
       "<!-- reveal.js CSS theme and local overrides -->\n",
       "<link rel=\"stylesheet\" href=\"https://fonts.googleapis.com/css?family=Open+Sans:300,400,600,700&amp;lang=en\"/>\n",
       "<link rel=\"stylesheet\" href=\"https://fonts.googleapis.com/css?family=Merriweather:italic&amp;lang=en\"/>\n",
       "<link rel=\"stylesheet\" href=\"stylefiles/presentation.css\"/> \n"
      ],
      "text/plain": [
       "<IPython.core.display.HTML object>"
      ]
     },
     "metadata": {},
     "output_type": "display_data"
    }
   ],
   "source": [
    "%%HTML\n",
    "    \n",
    "<!-- reveal.js CSS theme and local overrides -->\n",
    "<link rel=\"stylesheet\" href=\"https://fonts.googleapis.com/css?family=Open+Sans:300,400,600,700&amp;lang=en\"/>\n",
    "<link rel=\"stylesheet\" href=\"https://fonts.googleapis.com/css?family=Merriweather:italic&amp;lang=en\"/>\n",
    "<link rel=\"stylesheet\" href=\"stylefiles/presentation.css\"/> "
   ]
  },
  {
   "cell_type": "markdown",
   "id": "f198536f",
   "metadata": {
    "slideshow": {
     "slide_type": "slide"
    }
   },
   "source": [
    "<section id=\"title-slide\"> \n",
    "    <br><br><br><h1><i>CROCKER plots for bifurcation analysis</i></h1>\n",
    "    <h3><i>Module 2-3</i></h3>\n",
    "    <br><br>\n",
    "    <h4><i>5/15/2023</i></h4>\n",
    "    <br><br>\n",
    "    <div id='title-slide' class=\"pull-right\"><img id=\"logo\" src=\"figures/msu_seal.png\" width=\"100%\" height=\"100%\"></div>\n",
    "    <div class=\"uu_title_container\">\n",
    "        <smaller>\n",
    "        <div>\n",
    "            <b>Presented by:</b> Sunia Tanweer\n",
    "            <br><br><br><br>\n",
    "            <b>Topological Signal Processing for Dynamical Systems</b><br>\n",
    "            SIAM-DS Minitutorial 2023\n",
    "        </div>  \n",
    "        </smaller>\n",
    "    </div><br>\n",
    "    <div class='footer'>\n",
    "        Michigan State University\n",
    "    </div>\n",
    "</section>"
   ]
  },
  {
   "cell_type": "markdown",
   "id": "6cbd941c",
   "metadata": {
    "slideshow": {
     "slide_type": "subslide"
    }
   },
   "source": [
    "## Goals of this module\n",
    "\n",
    "- Define CROCKER plots\n",
    "- Understand basic interpretation and connection to persistence diagrams\n",
    "- See potential connections to analyzing parameterized families of dynamical systems\n",
    "\n",
    "## References \n",
    "\n",
    "- İsmail Güzel, Elizabeth Munch, and Firas A. Khasawneh. *Detecting bifurcations in dynamical systems with CROCKER plots*,  CHAOS, 2022. [DOI:10.1063/5.0102421](https://doi.org/10.1063/5.0102421)\n",
    "- C. M. Topaz, L. Ziegelmeier and T. Halverson. *Topological data analysis of biological aggregation models*, PloS One, 10 (2015), [DOI:10.1371/journal.pone.0126383](http://dx.doi.org/10.1371/journal.pone.0126383).\n"
   ]
  },
  {
   "cell_type": "code",
   "execution_count": 8,
   "id": "c784907b",
   "metadata": {
    "slideshow": {
     "slide_type": "subslide"
    }
   },
   "outputs": [],
   "source": [
    "# Make sure to run these imports\n",
    "import numpy as np\n",
    "import matplotlib.pyplot as plt\n",
    "\n",
    "from ripser import ripser\n",
    "from teaspoon.TDA.Draw import drawDgm, drawPtCloud\n",
    "from teaspoon.MakeData.PointCloud import Annulus"
   ]
  },
  {
   "cell_type": "markdown",
   "id": "bbb5ff33",
   "metadata": {
    "slideshow": {
     "slide_type": "slide"
    }
   },
   "source": [
    "# Betti Curves\n",
    "\n",
    "\n",
    "<div class = 'row'>\n",
    "<div class = 'column'>\n",
    "    \n",
    "# Recall\n",
    " \n",
    "The Betti number $\\beta_p(K)$ is the dimension of the $p$-dimensional homology, $\\dim(H_p(K))$\n",
    "    \n",
    "# The Betti Curve \n",
    "\n",
    "Given a filtration $K_0 \\subseteq K_1 \\subseteq \\cdots K_n$\n",
    "the Betti curve is a function \n",
    "    $$t \\mapsto \\left(\\beta_i (K_{\\lfloor t \\rfloor})\\right).$$\n",
    "    \n",
    "</div>\n",
    "<div class = 'column'>\n",
    "\n",
    "\n",
    "        \n",
    "</div>\n",
    "</div>\n",
    "\n"
   ]
  },
  {
   "cell_type": "markdown",
   "id": "33dd0bec",
   "metadata": {
    "slideshow": {
     "slide_type": "subslide"
    }
   },
   "source": [
    "# Example"
   ]
  },
  {
   "cell_type": "code",
   "execution_count": 66,
   "id": "f6c1fb70",
   "metadata": {
    "slideshow": {
     "slide_type": "subslide"
    }
   },
   "outputs": [],
   "source": [
    "# Run this to get the code for the Betti Curve\n",
    "def BettiCurve(Dgm, maxEps = 3, numStops = 10):\n",
    "\n",
    "    vecOfThresholds = np.linspace(0,maxEps,numStops)\n",
    "    BettiCurve = np.zeros(np.shape(vecOfThresholds))\n",
    "\n",
    "    for i,v in enumerate(vecOfThresholds):\n",
    "        BettiCurve[i] = sum(np.logical_and((Dgm[:,0]<v), (Dgm[:,1] >v) ))\n",
    "\n",
    "    return vecOfThresholds,BettiCurve\n",
    "\n",
    "def drawingBettiCurve(A,Dgm,t,x):\n",
    "    # Drawing \n",
    "    fig = plt.figure(figsize = (9,3))\n",
    "    plt.subplot(1,3,1)\n",
    "    drawPtCloud(A)\n",
    "    plt.axis('square')\n",
    "    plt.subplot(1,3,2)\n",
    "    drawDgm(Dgm)\n",
    "    plt.axis('square')\n",
    "    plt.subplot(1,3,3)\n",
    "    plt.step(t,x)\n",
    "    plt.xlabel\n",
    "    ax = plt.gca()\n",
    "    ax.set(xlabel='Filtration Parameter', ylabel='Betti number')\n",
    "\n",
    "\n",
    "    plt.subplots_adjust( wspace = 0.3)"
   ]
  },
  {
   "cell_type": "code",
   "execution_count": 65,
   "id": "245734e1",
   "metadata": {
    "slideshow": {
     "slide_type": "subslide"
    }
   },
   "outputs": [
    {
     "data": {
      "image/png": "[encoded data removed]",
      "text/plain": [
       "<Figure size 900x300 with 3 Axes>"
      ]
     },
     "metadata": {},
     "output_type": "display_data"
    }
   ],
   "source": [
    "# 1-dimensional diagram of the annulus\n",
    "A = Annulus(r = 1.5, R = 2)\n",
    "Dgm = ripser(A,2)['dgms'][1]\n",
    "t,x = BettiCurve(Dgm,3,10)\n",
    "drawingBettiCurve(A,Dgm,t,x)"
   ]
  },
  {
   "cell_type": "markdown",
   "id": "93132ddc",
   "metadata": {
    "slideshow": {
     "slide_type": "subslide"
    }
   },
   "source": [
    "# CROCKER plots\n",
    "\n",
    "\n",
    "<div class = 'row'>\n",
    "<div class = 'column'>\n",
    "    \n",
    "\n",
    "# Definition \n",
    "\n",
    "    \n",
    "- Given a parameterized family of input filtered complexes $\\{ K^t \\mid t \\in T\\}$. \n",
    "- Fix thresholds for filtration parameter $\\{ a_1 \\leq a_2 \\cdots \\leq a_n\\}$\n",
    "- Plot the Betti curve for a fixed input filtered complex vertically, stack Betti curves horizontally. \n",
    " \n",
    "\n",
    "    \n",
    "</div>\n",
    "<div class = 'column'>\n",
    "\n",
    "\n",
    "        \n",
    "</div>\n",
    "</div>\n"
   ]
  },
  {
   "cell_type": "markdown",
   "id": "9715804d",
   "metadata": {
    "slideshow": {
     "slide_type": "slide"
    }
   },
   "source": [
    "# Some examples with bifurcations\n",
    "\n",
    "stuff from ismail's paper"
   ]
  },
  {
   "cell_type": "markdown",
   "id": "6bfad471",
   "metadata": {
    "slideshow": {
     "slide_type": "slide"
    }
   },
   "source": [
    "# You try it \n",
    "\n",
    "<div class = 'row'>\n",
    "<div class = 'column'>\n",
    "    \n",
    "- Open the [2-3-Wkst-CrockerPlots.ipynb](2-3-Wkst-CrockerPlots.ipynb) notebook and get started! \n",
    "- The notebook has both a basic example, and a challenge version.\n",
    "- Answers are included but hidden.\n",
    "- We will come back together in 10-15 minutes to start on the next module.\n",
    "    \n",
    "</div>\n",
    "<div class = 'column'>\n",
    "\n",
    "    UPDATE ME!\n",
    "![](figures/Screenshot-1-1-Wkst.png)\n",
    "        \n",
    "</div>\n",
    "</div>"
   ]
  },
  {
   "cell_type": "code",
   "execution_count": null,
   "id": "10c99c6f",
   "metadata": {},
   "outputs": [],
   "source": []
  }
 ],
 "metadata": {
  "celltoolbar": "Slideshow",
  "kernelspec": {
   "display_name": "Python 3 (ipykernel)",
   "language": "python",
   "name": "python3"
  },
  "language_info": {
   "codemirror_mode": {
    "name": "ipython",
    "version": 3
   },
   "file_extension": ".py",
   "mimetype": "text/x-python",
   "name": "python",
   "nbconvert_exporter": "python",
   "pygments_lexer": "ipython3",
   "version": "3.9.16"
  }
 },
 "nbformat": 4,
 "nbformat_minor": 5
}
