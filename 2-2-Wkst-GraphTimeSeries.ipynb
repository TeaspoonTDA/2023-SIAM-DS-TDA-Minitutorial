{
 "cells": [
  {
   "cell_type": "markdown",
   "id": "45dcc505",
   "metadata": {},
   "source": [
    "# Module 2-2 Worksheet: Network Representation of Timeseries\n",
    "\n",
    "## Part 1: Timeseries $\\rightarrow$ Graph/Network\n",
    "\n",
    "<font color = 'purple'>\n",
    "    \n",
    "*Once we are done talking through the slides from [the main module 2-2 notebook](2-2-GraphTimeSeries.ipynb), we will take some time to test out your understanding of the method by using the teaspoon functions to represent a timeseries signal as a network. We encourage talking to your neighbor. Please ask if you need help!* The relevant teaspoon functions have been imported below and documentation can be found [here](https://teaspoontda.github.io/teaspoon/index.html) if needed.\n",
    "    \n",
    "</font>\n",
    "\n",
    "### Task: Compute the ordinal partition network and coarse grained state space network representations of the chaotic Lorenz system."
   ]
  },
  {
   "cell_type": "code",
   "execution_count": 3,
   "id": "ab5c41fe",
   "metadata": {},
   "outputs": [],
   "source": [
    "# Embedding/Simulation Functions\n",
    "import teaspoon.MakeData.DynSysLib.DynSysLib as DSL\n",
    "from teaspoon.SP.tsa_tools import takens\n",
    "\n",
    "# Graph Teaspoon Functions\n",
    "\n",
    "from teaspoon.SP.network import ordinal_partition_graph\n",
    "from teaspoon.SP.network_tools import remove_zeros\n",
    "from teaspoon.SP.network_tools import make_network\n",
    "from teaspoon.TDA.PHN import DistanceMatrix, point_summaries, PH_network\n",
    "from teaspoon.SP.network import cgss_graph\n",
    "from teaspoon.SP.network_tools import remove_zeros\n",
    "from teaspoon.SP.network_tools import make_network\n",
    "import teaspoon.SP.tsa_tools as tsa_tools\n",
    "from teaspoon.SP.tsa_tools import takens\n",
    "import teaspoon.MakeData.DynSysLib.DynSysLib as DSL\n",
    "from teaspoon.parameter_selection.MsPE import MsPE_tau, MsPE_n\n",
    "from teaspoon.SP.network import ordinal_partition_graph\n",
    "\n",
    "# Miscellaneous python functions\n",
    "import numpy as np\n",
    "import matplotlib.pyplot as plt\n",
    "import matplotlib.gridspec as gridspec\n",
    "from ripser import Rips\n",
    "import networkx as nx"
   ]
  },
  {
   "cell_type": "markdown",
   "id": "08b1941d",
   "metadata": {},
   "source": [
    "## Lorenz System Embedding\n",
    "\n",
    "The Lorenz system used is defined as\n",
    "\n",
    "\\begin{align*}\n",
    "\\dot{x}&=\\sigma (y-x),\\\\\n",
    "\\dot{y}&=x(\\rho−z)−y,\\\\\n",
    "\\dot{z}&=xy-\\beta z.\n",
    "\\end{align*}\n",
    "\n",
    "In Teaspoon, The Lorenz system is solved with a sampling rate of 100 Hz for 100 seconds with only the last 20 seconds used to avoid transients. For a chaotic response, parameters of σ = 10.0, β = 8.0/3.0, and ρ = 105 and initial conditions [x0,y0,z0] = [10−10,0,1] are used. For a periodic response set ρ = 100."
   ]
  },
  {
   "cell_type": "markdown",
   "id": "f5409716",
   "metadata": {},
   "source": [
    "### Step 1: Simulate the chaotic Lorenz System and estimate $\\tau$ and $n$ using MSPE\n",
    "\n",
    "**Hint:** Use ```\n",
    "MsPE_tau, and MsPE_n\n",
    "```"
   ]
  },
  {
   "cell_type": "code",
   "execution_count": 4,
   "id": "d684be97",
   "metadata": {},
   "outputs": [],
   "source": [
    "t, ts = DSL.DynamicSystems('lorenz', 'chaotic')\n",
    "\n",
    "# Your code here\n",
    "\n",
    "# tau_mspe =\n",
    "# n_mspe = \n",
    "\n",
    "\n",
    "# print your parameters\n"
   ]
  },
  {
   "cell_type": "markdown",
   "id": "ae63850d",
   "metadata": {},
   "source": [
    "*The correct answer is hidden here. Highlight or double-click to open the cell to see it when you're ready.*\n",
    "\n",
    "<font color='white'>\n",
    "    \n",
    "tau_mspe = MsPE_tau(ts[0])\n",
    "n_mspe = MsPE_n(ts[0], tau_mspe)\n",
    "\n",
    "print(tau_mspe, n_mspe)\n",
    "    \n",
    "tau_mspe = 17\n",
    "n_mspe = 5\n",
    "    \n",
    "</font>"
   ]
  },
  {
   "cell_type": "markdown",
   "id": "0d04a6ae",
   "metadata": {},
   "source": [
    "### Step 2: Obtain the ordinal partition network representation for this system.\n",
    "\n",
    "Hint: \n",
    "\n",
    "```python\n",
    "teaspoon.SP.network.ordinal_partition_graph(ts, n=None, tau=None)\n",
    "```\n",
    "\n",
    "<font color=red>Be sure to pass ```ts[0]``` and not ```ts``` or this will not work.</font>"
   ]
  },
  {
   "cell_type": "code",
   "execution_count": null,
   "id": "452631e4",
   "metadata": {},
   "outputs": [],
   "source": [
    "# Get the adjacency matrix using the ordinal_partition_graph function. \n",
    "# Fill in the input using the definition above.\n",
    "\n",
    "# A_opn = ordinal_partition_graph(YOUR CODE HERE) \n",
    "# A_opn = remove_zeros(A_opn)"
   ]
  },
  {
   "cell_type": "markdown",
   "id": "da523c65",
   "metadata": {},
   "source": [
    "*The correct answer is hidden here. Highlight or double-click to open the cell to see it when you're ready.*\n",
    "\n",
    "<font color='white'>\n",
    "A_opn = ordinal_partition_graph(ts[0], n_mspe, tau_mspe) #adjacency matrix\n",
    "A_opn = remove_zeros(A_opn) #remove nodes of unused permutation\n",
    "</font>"
   ]
  },
  {
   "cell_type": "markdown",
   "id": "a115d280",
   "metadata": {},
   "source": [
    "Run the cell below to plot the generated ordinal partition network."
   ]
  },
  {
   "cell_type": "code",
   "execution_count": null,
   "id": "9568be32",
   "metadata": {},
   "outputs": [],
   "source": [
    "G_opn, pos = make_network(A_opn) #get networkx representation\n",
    "nx.draw(G_opn, pos, with_labels=False, font_weight='bold', node_color='red', node_size = 30)"
   ]
  },
  {
   "cell_type": "markdown",
   "id": "bb7c0f5f",
   "metadata": {},
   "source": [
    "### Step 3: Generate the coarse-grained state space network for this system.\n",
    "\n",
    "Hint: \n",
    "```python\n",
    "teaspoon.SP.network.cgss_graph(ts, B_array, n=None, tau=None)\n",
    "teaspoon.SP.tsa_tools.cgss_binning(ts, n=None, tau=None, b=12, binning_method='equal_size', plot_binning=False)\n",
    "```\n",
    "\n",
    "#### Take $b=8$"
   ]
  },
  {
   "cell_type": "code",
   "execution_count": 5,
   "id": "6a1cea81",
   "metadata": {},
   "outputs": [],
   "source": [
    "# B_array = \n",
    "# A_cgss = cgss_graph(YOUR CODE HERE) \n",
    "# A_cgss = remove_zeros(A_cgss) "
   ]
  },
  {
   "cell_type": "markdown",
   "id": "4f6385d6",
   "metadata": {},
   "source": [
    "*The correct answer is hidden here. Highlight or double-click to open the cell to see it when you're ready.*\n",
    "\n",
    "<font color='white'>\n",
    "B_array = tsa_tools.cgss_binning(ts[0], n_mspe, tau_mspe, b=8) #binning array\n",
    "A_cgss = cgss_graph(ts[0], B_array, n_mspe, tau_mspe) #adjacency matrix\n",
    "A_cgss = remove_zeros(A_cgss) #remove nodes of unused permutation\n",
    "</font>"
   ]
  },
  {
   "cell_type": "markdown",
   "id": "0ef2c341",
   "metadata": {},
   "source": [
    "Run the cell below to plot the coarse grained state space network"
   ]
  },
  {
   "cell_type": "code",
   "execution_count": null,
   "id": "69002694",
   "metadata": {},
   "outputs": [],
   "source": [
    "G_cgss, pos = make_network(A_cgss) #get networkx representation\n",
    "nx.draw(G_cgss, pos, with_labels=False, font_weight='bold', node_color='green', node_size = 30)"
   ]
  },
  {
   "cell_type": "markdown",
   "id": "2274a0d6",
   "metadata": {},
   "source": [
    "### Step 4: Get the persistence diagrams for each network using the different distances\n",
    "\n",
    "Run the following cell to plot the opn, and cgssn persistence diagrams using the four distance definitions. "
   ]
  },
  {
   "cell_type": "code",
   "execution_count": null,
   "id": "c99705a0",
   "metadata": {
    "scrolled": false
   },
   "outputs": [],
   "source": [
    "methods = ['shortest_unweighted_path', 'shortest_weighted_path', \n",
    "           'weighted_shortest_path', 'diffusion_distance']\n",
    "\n",
    "\n",
    "\n",
    "for dist in methods:\n",
    "    plt.figure(figsize=(5,5))\n",
    "    D_opn = DistanceMatrix(A_opn, method = dist)\n",
    "    diagram_opn = PH_network(D_opn)\n",
    "    diagram_opn = diagram_opn[1]\n",
    "    \n",
    "    D_cgss = DistanceMatrix(A_cgss, method = dist)\n",
    "    diagram_cgss = PH_network(D_cgss)\n",
    "    diagram_cgss = diagram_cgss[1]\n",
    "    \n",
    "    max_opn = max(max(diagram_opn[:,0]), max(diagram_opn[:,1]))\n",
    "    max_cgss = max(max(diagram_cgss[:,0]), max(diagram_cgss[:,1]))\n",
    "    \n",
    "    top = max(max_opn, max_cgss)\n",
    "    plt.plot(diagram_cgss[:,0], diagram_cgss[:,1], '.g', markersize=10, label='CGSSN')\n",
    "    plt.plot(diagram_opn[:,0], diagram_opn[:,1], '.r', markersize=10, label='OPN')\n",
    "    plt.plot([-0.01,1.1*top],[-0.01,1.1*top],'--k')\n",
    "    plt.title(f'{dist} 1D Persistence')\n",
    "    plt.legend(loc='lower right')\n",
    "    plt.xlabel('Birth', fontsize=15)\n",
    "    plt.ylabel('Death', fontsize=15)\n",
    "    plt.xticks(fontsize=15)\n",
    "    plt.yticks(fontsize=15)\n",
    "    plt.show()\n",
    "    "
   ]
  },
  {
   "cell_type": "markdown",
   "id": "76520683",
   "metadata": {},
   "source": [
    "Which distances give characteristic results for chaos? \n",
    "\n",
    "Hint: If the response is truly periodic, we will only have a single loop in the OPN and CGSSN."
   ]
  },
  {
   "cell_type": "markdown",
   "id": "2e239b21",
   "metadata": {},
   "source": [
    "**Challenge Problem:** If you still have time, do the same process for the periodic lorenz system and observe how the persistence diagrams change.\n",
    "\n",
    "**Extra Problem:** Generate these results for another system in the [teaspoon dynamical systems library](https://teaspoontda.github.io/teaspoon/DynSysLib.html)\n"
   ]
  },
  {
   "cell_type": "markdown",
   "id": "58e462fd",
   "metadata": {},
   "source": [
    "## Code not working? Double click this cell, uncomment the code  and run to see the figures generated in this worksheet.\n",
    "\n",
    "<!-- ![](figures/2-2-wkst-opn.png)\n",
    "![](figures/2-2-wkst-cgssn.png)\n",
    "![](figures/2-2-wkst-shortest-unweighted.png)\n",
    "![](figures/2-2-wkst-shortest-weighted.png)\n",
    "![](figures/2-2-wkst-weighted-shortest.png)\n",
    "![](figures/2-2-wkst-diffusion.png) -->"
   ]
  }
 ],
 "metadata": {
  "kernelspec": {
   "display_name": "Python 3 (ipykernel)",
   "language": "python",
   "name": "python3"
  },
  "language_info": {
   "codemirror_mode": {
    "name": "ipython",
    "version": 3
   },
   "file_extension": ".py",
   "mimetype": "text/x-python",
   "name": "python",
   "nbconvert_exporter": "python",
   "pygments_lexer": "ipython3",
   "version": "3.9.7"
  }
 },
 "nbformat": 4,
 "nbformat_minor": 5
}
