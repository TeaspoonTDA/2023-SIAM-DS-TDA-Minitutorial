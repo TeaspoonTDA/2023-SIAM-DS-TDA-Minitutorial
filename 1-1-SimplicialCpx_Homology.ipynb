{
 "cells": [
  {
   "cell_type": "code",
   "execution_count": 1,
   "id": "9843489e",
   "metadata": {
    "slideshow": {
     "slide_type": "skip"
    }
   },
   "outputs": [
    {
     "data": {
      "text/html": [
       "    \n",
       "<!-- reveal.js CSS theme and local overrides -->\n",
       "<link rel=\"stylesheet\" href=\"https://fonts.googleapis.com/css?family=Open+Sans:300,400,600,700&amp;lang=en\"/>\n",
       "<link rel=\"stylesheet\" href=\"https://fonts.googleapis.com/css?family=Merriweather:italic&amp;lang=en\"/>\n",
       "<link rel=\"stylesheet\" href=\"stylefiles/presentation.css\"/> \n"
      ],
      "text/plain": [
       "<IPython.core.display.HTML object>"
      ]
     },
     "metadata": {},
     "output_type": "display_data"
    }
   ],
   "source": [
    "%%HTML\n",
    "    \n",
    "<!-- reveal.js CSS theme and local overrides -->\n",
    "<link rel=\"stylesheet\" href=\"https://fonts.googleapis.com/css?family=Open+Sans:300,400,600,700&amp;lang=en\"/>\n",
    "<link rel=\"stylesheet\" href=\"https://fonts.googleapis.com/css?family=Merriweather:italic&amp;lang=en\"/>\n",
    "<link rel=\"stylesheet\" href=\"stylefiles/presentation.css\"/> "
   ]
  },
  {
   "cell_type": "markdown",
   "id": "f198536f",
   "metadata": {
    "slideshow": {
     "slide_type": "slide"
    }
   },
   "source": [
    "<section id=\"title-slide\"> \n",
    "    <br><br><br><h1><i>Simplicial Complexes, and Homology</i></h1>\n",
    "    <h3><i>Module 1-1</i></h3>\n",
    "    <br><br>\n",
    "    <h4><i>5/15/2023</i></h4>\n",
    "    <br><br>\n",
    "<!--     <div id='title-slide' class=\"pull-right\"><img id=\"logo\" src=\"figures/msu_seal.png\" width=\"100%\" height=\"100%\"></div> -->\n",
    "    <div class=\"uu_title_container\">\n",
    "        <smaller>\n",
    "        <div>\n",
    "            <b>Presented by:</b> Liz Munch\n",
    "            <br><br><br><br>\n",
    "            <b>Topological Signal Processing for Dynamical Systems</b><br>\n",
    "            SIAM-DS Minitutorial 2023\n",
    "        </div>  \n",
    "        </smaller>\n",
    "    </div><br>\n",
    "    <div class='footer'>\n",
    "        Michigan State University\n",
    "    </div>\n",
    "</section>"
   ]
  },
  {
   "cell_type": "markdown",
   "id": "37fd15d7",
   "metadata": {
    "slideshow": {
     "slide_type": "skip"
    }
   },
   "source": [
    "### A note\n",
    "\n",
    "This jupyter notebook creates the slides for the module. The associated worksheet to be done at the end is [here](1-1-Wkst-SimplicialCpx_Homology.ipynb).\n",
    "\n",
    "For the curious, these slide decks are created using [RISE](https://rise.readthedocs.io/). "
   ]
  },
  {
   "cell_type": "markdown",
   "id": "eaee8f1d",
   "metadata": {
    "slideshow": {
     "slide_type": "slide"
    }
   },
   "source": [
    "# Module goals\n",
    "\n",
    "- Introduce basics and vocabulary for a simplicial complex\n",
    "  - Simplices\n",
    "  - Faces \n",
    "  - Dimension \n",
    "  \n",
    "- Indroduce basic concepts of simplicial homology \n",
    "  - $p$-chains\n",
    "  - Cycle\n",
    "  - Boundary \n",
    "  - Homology class "
   ]
  },
  {
   "cell_type": "markdown",
   "id": "bbb5ff33",
   "metadata": {
    "slideshow": {
     "slide_type": "slide"
    }
   },
   "source": [
    "# Simplicial Complexes "
   ]
  },
  {
   "cell_type": "markdown",
   "id": "55c48393",
   "metadata": {
    "slideshow": {
     "slide_type": "subslide"
    }
   },
   "source": [
    "# What is a simplex? \n",
    "\n",
    "<div class = 'row'>\n",
    "<div class = 'column60'>\n",
    "\n",
    "## Definition\n",
    "\n",
    "- Given a set of vertices $V$\n",
    "- A simplex is a subset of vertices $\\sigma \\subseteq V$ \n",
    "- Simplex $\\sigma$ is a face of $\\tau$ if $\\sigma \\subseteq \\tau$\n",
    "- Commonly denoted $\\sigma \\leq \\tau$\n",
    "- The dimension of $\\sigma = \\{v_0,\\cdots,v_d\\}$ is $d$: \n",
    "  - $\\dim(\\sigma) = |\\sigma|-1$\n",
    "    \n",
    "## From example at right\n",
    "- $\\sigma \\leq \\tau$\n",
    "- $\\nu \\leq \\tau$ and $\\nu \\leq \\rho$\n",
    "- $\\dim(\\sigma) = \\dim(\\nu) = 1$\n",
    "- $\\dim(\\tau) = 2$\n",
    "- $\\dim(\\rho) = 3$\n",
    "   \n",
    "</div>\n",
    "<div class = 'column30'>\n",
    "    \n",
    "## Example\n",
    "\n",
    "![](figures/1-1_ExSimpComplex-SomeSimpsLabeled.jpg)\n",
    "    \n",
    "    \n",
    "</div>\n",
    "</div>"
   ]
  },
  {
   "cell_type": "markdown",
   "id": "c8537d78",
   "metadata": {
    "slideshow": {
     "slide_type": "subslide"
    }
   },
   "source": [
    "# What is a simplicial complex?\n",
    "\n",
    "<div class = 'row'>\n",
    "<div class = 'column60'>\n",
    "\n",
    "## Definition\n",
    "\n",
    "A collection of simplices $K$ is a simplicial complex if is is closed under the face relation\n",
    "- $\\sigma \\in K$ and $\\tau \\leq \\sigma$ then $\\tau \\in K$.\n",
    "    \n",
    "## From example at right\n",
    "    \n",
    "- Triangle $\\tau = \\langle g, f, c\\rangle$ is included, so all of its edges are included. \n",
    "- Common notation: $\\langle v_0, \\cdots, \\hat{v_i}, \\cdots, v_p \\rangle$ means vertex $v_i$ is removed\n",
    "    - $\\langle f, c \\rangle = \\langle \\hat{g}, f, c\\rangle$\n",
    "    - $\\langle g, c \\rangle = \\langle g, \\hat{f}, c\\rangle$\n",
    "    - $\\langle g, f \\rangle = \\langle g, f, \\hat{c}\\rangle$\n",
    "   \n",
    "</div>\n",
    "<div class = 'column30'>\n",
    "    \n",
    "## Example\n",
    "\n",
    "![](figures/1-1_ExSimpComplex.jpg)\n",
    "</div>\n",
    "</div>"
   ]
  },
  {
   "cell_type": "markdown",
   "id": "67a80b1f",
   "metadata": {
    "slideshow": {
     "slide_type": "slide"
    }
   },
   "source": [
    "# Homology \n"
   ]
  },
  {
   "cell_type": "markdown",
   "id": "dd258fe7",
   "metadata": {
    "slideshow": {
     "slide_type": "subslide"
    }
   },
   "source": [
    "# Big picture\n",
    "\n",
    "<center>\n",
    "<img src = 'figures/spaces_Homology.png'>\n",
    "</center>"
   ]
  },
  {
   "cell_type": "markdown",
   "id": "6f5e0093",
   "metadata": {
    "slideshow": {
     "slide_type": "subslide"
    }
   },
   "source": [
    "# $p$-Chains\n",
    "\n",
    "\n",
    "<div class = 'row'>\n",
    "<div class = 'column60'>\n",
    "\n",
    "## Definition\n",
    "\n",
    "- The vector space $C_p$ consists of finite formal sums of $p$-dimensional simplices. \n",
    "    - $\\alpha = \\sum_{\\sigma_i \\in K} \\alpha_i\\sigma_i$\n",
    "- Coefficients $\\alpha_i$ are chosen from some field. \n",
    "    - In TDA, $\\mathbb{Z_2}=\\{0,1\\}$ is common, where $1+1=0 \\mod 2$.     \n",
    "\n",
    "\n",
    "## Examples from right (using $\\mathbb{Z}_2$)\n",
    "Elements of $C_1$:    \n",
    "- $\\alpha = \\langle g,e\\rangle +\\langle c, e\\rangle +\\langle c,g \\rangle  $\n",
    "- $\\beta = \\langle a, b \\rangle +\\langle b,c \\rangle +\\langle c,g \\rangle +\\langle a,g \\rangle$\n",
    "- $\\gamma = \\langle a,b \\rangle +\\langle b,c \\rangle +\\langle c,e \\rangle + \\langle g,e\\rangle +\\langle a,g \\rangle $\n",
    "\n",
    "    \n",
    "\n",
    "   \n",
    "</div>\n",
    "<div class = 'column30'>\n",
    "    \n",
    "## Example\n",
    "\n",
    "![](figures/1-1_ExSimpComplex-SomeChains.jpg)\n",
    "</div>\n",
    "</div>"
   ]
  },
  {
   "cell_type": "markdown",
   "id": "5895d169",
   "metadata": {
    "slideshow": {
     "slide_type": "subslide"
    }
   },
   "source": [
    "# $p$-Chain addition \n",
    "\n",
    "<div class = 'row'>\n",
    "<div class = 'column60'>\n",
    "\n",
    "## Definition \n",
    "- Chains can be added by adding coefficients from the same simplex\n",
    "    \n",
    "    \n",
    "## Example addition of $1$-chains\n",
    "\\begin{align}\n",
    "\\alpha &+ \\beta\\\\\n",
    "    &= \\big(\\langle g,e\\rangle +\\langle c, e\\rangle +\\langle c,g \\rangle \\big) + \\big(\\langle a, b \\rangle +\\langle b,c \\rangle +\\langle c,g \\rangle +\\langle a,g \\rangle\\big)\\\\\n",
    "&= \\langle g,e\\rangle +\\langle c, e\\rangle +2\\langle c,g \\rangle) + \\langle a, b \\rangle +\\langle b,c \\rangle +\\langle a,g \\rangle\\\\\n",
    "&= \\langle g,e\\rangle +\\langle c, e\\rangle + \\langle a, b \\rangle +\\langle b,c \\rangle +\\langle a,g \\rangle\\\\\n",
    "&= \\gamma\n",
    "\\end{align}\n",
    "\n",
    "    \n",
    "\n",
    "   \n",
    "</div>\n",
    "<div class = 'column30'>\n",
    "    \n",
    "## Example\n",
    "\n",
    "![](figures/1-1_ExSimpComplex-SomeChains.jpg)\n",
    "</div>\n",
    "</div>\n",
    "\n"
   ]
  },
  {
   "cell_type": "markdown",
   "id": "0805b278",
   "metadata": {
    "slideshow": {
     "slide_type": "subslide"
    }
   },
   "source": [
    "# Boundary maps $\\partial_p:C_p \\to C_{p-1}$\n",
    "\n",
    "$$ \n",
    "\\Large{\n",
    "\\dotsb \n",
    "{\\overset {\\partial _{4}}{\\longrightarrow \\,}}\n",
    "C_{3}\n",
    "{\\overset {\\partial _{3}}{\\longrightarrow \\,}}\n",
    "C_{2}\n",
    "{\\overset {\\partial _{2}}{\\longrightarrow \\,}}\n",
    "C_{1}\n",
    "{\\overset {\\partial _{1}}{\\longrightarrow \\,}}\n",
    "C_0\n",
    "}\n",
    "$$\n",
    "\n",
    "\n",
    "\n",
    "<div class = 'row'>\n",
    "<div class = 'column60'>\n",
    "\n",
    "    \n",
    "## Definition\n",
    "\n",
    "- The $p$-th boundary of a $p$-dimensional simplex $\\sigma = \\langle v_0,\\cdots,v_p \\rangle$ is \n",
    "    $$ \\partial_p(\\sigma) = \\sum_{i}(-1)^i \\langle v_0, \\cdots, \\hat{v_i}, \\cdots, v_p \\rangle$$\n",
    "  where $\\langle v_0, \\cdots, \\hat{v_i}, \\cdots, v_p \\rangle$ is the face with vertex $v_i$ is removed\n",
    "- The $p$th boundary of a $p$-chain is \n",
    "    $$ \\partial_p(\\alpha) = \\partial_p\\left(\\sum_j \\alpha_j \\sigma_j\\right) = \\sum_j \\partial_p(\\alpha_j)$$\n",
    "\n",
    "## Examples from right (using $\\mathbb{Z}_2$)\n",
    "    \n",
    "- $\\partial_2(\\langle g,f,c \\rangle) = \\langle f,c \\rangle + \\langle g,c \\rangle + \\langle g,f \\rangle$\n",
    "- $\\partial_1(\\alpha)$\n",
    "    $= \\big(\\langle g \\rangle + \\langle e \\rangle \\big) +  \\big(\\langle e \\rangle+ \\langle c \\rangle\\big)+ \\big(\\langle c \\rangle+ \\langle g \\rangle\\big) = 0$\n",
    "- $\\partial_1(\\delta) = \\langle a \\rangle + \\langle d \\rangle$\n",
    "   \n",
    "</div>\n",
    "<div class = 'column30'>\n",
    "    \n",
    "## Example\n",
    "\n",
    "![](figures/1-1_ExSimpComplex-BdyMapExamples.jpg)\n",
    "</div>\n",
    "</div>"
   ]
  },
  {
   "cell_type": "markdown",
   "id": "444666be",
   "metadata": {
    "slideshow": {
     "slide_type": "subslide"
    }
   },
   "source": [
    "# Cycles\n",
    "\n",
    "\n",
    "\n",
    "<div class = 'row'>\n",
    "<div class = 'column60'>\n",
    "\n",
    "## Definition\n",
    "\n",
    "- A $p$-chain $\\alpha \\in C_p$ is a cycle if $\\alpha \\in \\mathrm{Ker}\\, \\partial_p:C_p \\to C_{p-1}$\n",
    "  - $\\partial_p(\\alpha) = 0$\n",
    "- **Note:** $\\mathrm{Ker}\\,\\partial_p \\subseteq C_p$\n",
    "- Commonly denoted $Z_p$\n",
    "    \n",
    "## Examples from right\n",
    "    \n",
    "- $\\alpha$, $\\beta$, and $\\gamma$ are all $1$-cycles\n",
    "\n",
    "   \n",
    "</div>\n",
    "<div class = 'column30'>\n",
    "    \n",
    "## Example\n",
    "\n",
    "![](figures/1-1_ExSimpComplex-SomeChains.jpg)\n",
    "</div>\n",
    "</div>\n",
    "\n",
    "$$ \n",
    "\\Large{\n",
    "C_{2}\n",
    "{\\overset {\\partial _{2}}{\\longrightarrow \\,}}\n",
    "C_{1}\n",
    "{\\overset {\\partial _{1}}{\\longrightarrow \\,}}\n",
    "C_0\n",
    "}\n",
    "$$"
   ]
  },
  {
   "cell_type": "markdown",
   "id": "9a97189e",
   "metadata": {
    "slideshow": {
     "slide_type": "subslide"
    }
   },
   "source": [
    "# Boundaries\n",
    "\n",
    "\n",
    "<div class = 'row'>\n",
    "<div class = 'column60'>\n",
    "\n",
    "## Definition\n",
    "\n",
    "- A $p$-chain $\\alpha \\in C_p$ is a boundary if $\\alpha \\in \\mathrm{Im}\\, \\partial_{p+1}:C_{p+1} \\to C_{p}$\n",
    "- **Note:** $\\mathrm{Im}\\,\\partial_{p+1} \\subseteq C_p$\n",
    "- Commonly denoted $B_p$\n",
    "\n",
    "## Examples from right\n",
    "    \n",
    "- $\\eta \\in B_1$ is a boundary. Note that $\\eta \\in Z_1$ also.\n",
    "- $\\beta \\not \\in B_1$ but it is a cycle in $Z_1$.\n",
    "   \n",
    "</div>\n",
    "<div class = 'column30'>\n",
    "    \n",
    "## Example\n",
    "\n",
    "![](figures/1-1_ExSimpComplex-Boundaries.jpg)\n",
    "</div>\n",
    "</div>\n",
    "\n",
    "$$ \n",
    "\\Large{\n",
    "C_{2}\n",
    "{\\overset {\\partial _{2}}{\\longrightarrow \\,}}\n",
    "C_{1}\n",
    "{\\overset {\\partial _{1}}{\\longrightarrow \\,}}\n",
    "C_0\n",
    "}\n",
    "$$"
   ]
  },
  {
   "cell_type": "markdown",
   "id": "4ebca873",
   "metadata": {
    "slideshow": {
     "slide_type": "subslide"
    }
   },
   "source": [
    "# Homology \n",
    "\n",
    "\n",
    "\n",
    "\n",
    "<div class = 'row'>\n",
    "<div class = 'column60'>\n",
    "    \n",
    "## Properties \n",
    "  \n",
    "- $\\partial_{p+1}\\partial_p = 0$\n",
    "- $B_p \\subseteq Z_p \\subseteq C_p$\n",
    "\n",
    "## Definition\n",
    "\n",
    "- The $p$th homology group is \n",
    "    $$H_p(K) = Z_p/B_p = \\mathrm{Ker}\\,\\partial_p / \\mathrm{Im}\\,\\partial_{p+1}$$\n",
    "- Elements are equivalences classes $[\\alpha]$ consisting of all $p$-cycles $\\beta$ where $\\alpha - \\beta \\in B_p$\n",
    "- The dimension of the $p$th homology group is called the Betti number, often denoted $\\beta_p(K)$\n",
    "\n",
    "   \n",
    "</div>\n",
    "<div class = 'column30'>\n",
    "    \n",
    "## Example\n",
    "\n",
    "![](figures/1-1_ExSimpComplex.jpg)\n",
    "</div>\n",
    "</div>\n",
    "\n",
    "$$ \n",
    "\\Large{\n",
    "C_{2}\n",
    "{\\overset {\\partial _{2}}{\\longrightarrow \\,}}\n",
    "C_{1}\n",
    "{\\overset {\\partial _{1}}{\\longrightarrow \\,}}\n",
    "C_0\n",
    "}\n",
    "$$"
   ]
  },
  {
   "cell_type": "markdown",
   "id": "d0b834ce",
   "metadata": {
    "slideshow": {
     "slide_type": "subslide"
    }
   },
   "source": [
    "# This example \n",
    "\n",
    "\n",
    "\n",
    "\n",
    "<div class = 'row'>\n",
    "<div class = 'column60'>\n",
    "    \n",
    "For this example, $H_1(K)$ has four elements:\n",
    "\n",
    "- $[\\alpha]$\n",
    "- $[\\beta]$\n",
    "- $[\\gamma]$\n",
    "- $0$\n",
    "\n",
    "But since $[\\alpha] + [\\beta] = [\\alpha + \\beta] = [\\gamma]$, this homology group has the structure \n",
    "    $$ \\mathbb{Z}_2 \\times \\mathbb{Z}_2$$\n",
    "generated by $[\\alpha]$ and $[\\beta]$. \n",
    "    \n",
    "This means $\\beta_1(K) = 2$\n",
    "    \n",
    "**Warning:**\n",
    "- I made lots of choices in terms of both representatives of homology classes and generators of the homology group.\n",
    "- This is by no means the only representation of $H_1(K)$\n",
    "   \n",
    "</div>\n",
    "<div class = 'column30'>\n",
    "    \n",
    "## Example\n",
    "\n",
    "![](figures/1-1_ExSimpComplex-SomeChains.jpg)\n",
    "</div>\n",
    "</div>\n",
    "\n",
    "$$ \n",
    "\\Large{\n",
    "C_{2}\n",
    "{\\overset {\\partial _{2}}{\\longrightarrow \\,}}\n",
    "C_{1}\n",
    "{\\overset {\\partial _{1}}{\\longrightarrow \\,}}\n",
    "C_0\n",
    "}\n",
    "$$"
   ]
  },
  {
   "cell_type": "markdown",
   "id": "e5d528c3",
   "metadata": {
    "slideshow": {
     "slide_type": "slide"
    }
   },
   "source": [
    "# You try it \n",
    "\n",
    "<div class = 'row'>\n",
    "<div class = 'column'>\n",
    "    \n",
    "- Open the [1-1-Wkst-SimplicialCpx_Homology.ipynb](1-1-Wkst-SimplicialCpx_Homology) notebook and get started! \n",
    "- The notebook has both a basic example, and a challenge version.\n",
    "- Answers are included but hidden.\n",
    "- We will come back together in 10-15 minutes to start on the next module.\n",
    "    \n",
    "</div>\n",
    "<div class = 'column'>\n",
    "\n",
    "![](figures/Screenshot-1-1-Wkst.png)\n",
    "        \n",
    "</div>\n",
    "</div>"
   ]
  }
 ],
 "metadata": {
  "celltoolbar": "Slideshow",
  "kernelspec": {
   "display_name": "Python 3 (ipykernel)",
   "language": "python",
   "name": "python3"
  },
  "language_info": {
   "codemirror_mode": {
    "name": "ipython",
    "version": 3
   },
   "file_extension": ".py",
   "mimetype": "text/x-python",
   "name": "python",
   "nbconvert_exporter": "python",
   "pygments_lexer": "ipython3",
   "version": "3.9.16"
  }
 },
 "nbformat": 4,
 "nbformat_minor": 5
}
