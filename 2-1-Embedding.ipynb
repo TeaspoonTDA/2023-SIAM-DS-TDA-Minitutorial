{
 "cells": [
  {
   "cell_type": "code",
   "execution_count": 3,
   "id": "488b718d",
   "metadata": {
    "slideshow": {
     "slide_type": "skip"
    }
   },
   "outputs": [
    {
     "data": {
      "text/html": [
       "    \n",
       "<!-- reveal.js CSS theme and local overrides -->\n",
       "<link rel=\"stylesheet\" href=\"https://fonts.googleapis.com/css?family=Open+Sans:300,400,600,700&amp;lang=en\"/>\n",
       "<link rel=\"stylesheet\" href=\"https://fonts.googleapis.com/css?family=Merriweather:italic&amp;lang=en\"/>\n",
       "<link rel=\"stylesheet\" href=\"stylefiles/presentation.css\"/> \n"
      ],
      "text/plain": [
       "<IPython.core.display.HTML object>"
      ]
     },
     "metadata": {},
     "output_type": "display_data"
    }
   ],
   "source": [
    "%%HTML\n",
    "    \n",
    "<!-- reveal.js CSS theme and local overrides -->\n",
    "<link rel=\"stylesheet\" href=\"https://fonts.googleapis.com/css?family=Open+Sans:300,400,600,700&amp;lang=en\"/>\n",
    "<link rel=\"stylesheet\" href=\"https://fonts.googleapis.com/css?family=Merriweather:italic&amp;lang=en\"/>\n",
    "<link rel=\"stylesheet\" href=\"stylefiles/presentation.css\"/> "
   ]
  },
  {
   "cell_type": "code",
   "execution_count": 4,
   "id": "e78e4fda",
   "metadata": {
    "slideshow": {
     "slide_type": "skip"
    }
   },
   "outputs": [],
   "source": [
    "import matplotlib.pyplot as plt\n",
    "import numpy as np\n",
    "import matplotlib.animation as anim\n",
    "import matplotlib.gridspec as gridspec\n",
    "from IPython.display import HTML\n",
    "from teaspoon.SP.tsa_tools import takens\n",
    "import teaspoon.MakeData.DynSysLib.DynSysLib as DSL\n",
    "def step_2d_takens(i):\n",
    "    system = 'driven_pendulum'\n",
    "    dynamic_state = 'periodic'\n",
    "    t, ts = DSL.DynamicSystems(system, dynamic_state)\n",
    "    embedded_ts = takens(ts[0], n = 2, tau = i)\n",
    "    data.set_data(embedded_ts.T[0], embedded_ts.T[1])\n",
    "    true.set_data(ts[0], ts[1])\n",
    "    \n",
    "    ax.set_title(rf'$\\tau$={i}')\n",
    "    ax.set_xlabel(r'$\\theta$')\n",
    "    ax.set_ylabel(r'$\\dot{\\theta}}$')\n",
    "    ax.legend()\n",
    "    \n",
    "    plt.tight_layout()"
   ]
  },
  {
   "cell_type": "markdown",
   "id": "f5789fad",
   "metadata": {
    "slideshow": {
     "slide_type": "slide"
    }
   },
   "source": [
    "<section id=\"title-slide\"> \n",
    "    <br><br><br><h1><i>Module 2-1: Time Delay Embedding and Attractor Reconstruction</i></h1>\n",
    "    <h3><i>Methods for Automatically Selecting Embedding Parameters</i></h3>\n",
    "    <br><br>\n",
    "    <h4><i>5/15/2023</i></h4>\n",
    "    <br><br>\n",
    "<!--     <div id='title-slide' class=\"pull-right\"><img id=\"logo\" src=\"figures/msu_seal.png\" width=\"100%\" height=\"100%\"></div> -->\n",
    "    <div class=\"uu_title_container\">\n",
    "        <smaller>\n",
    "        <div>\n",
    "            <b>Presented by:</b> Max Chumley\n",
    "            <br><br><br><br>\n",
    "            <b>Topological Signal Processing for Dynamical Systems</b><br>\n",
    "            SIAM-DS Minitutorial 2023\n",
    "        </div>  \n",
    "        </smaller>\n",
    "    </div><br>\n",
    "    <div class='footer'>\n",
    "        Michigan State University\n",
    "    </div>\n",
    "</section>"
   ]
  },
  {
   "cell_type": "markdown",
   "id": "1df9d973",
   "metadata": {
    "slideshow": {
     "slide_type": "slide"
    }
   },
   "source": [
    "# Overview\n",
    "\n",
    "</br></br></br></br>\n",
    "\n",
    "![](figures/2-1_overview.png)"
   ]
  },
  {
   "cell_type": "markdown",
   "id": "6cbd941c",
   "metadata": {
    "slideshow": {
     "slide_type": "slide"
    }
   },
   "source": [
    "<br/><br/><br/><br/><br/><br/><br/><br/>\n",
    "## Goals of this module\n",
    "\n",
    "\n",
    "- Understand how to embed a timeseries signal in higher dimensions.\n",
    "- Apply different methods for selecting delay and dimension for a timeseries embedding.\n"
   ]
  },
  {
   "cell_type": "markdown",
   "id": "125a196c",
   "metadata": {
    "slideshow": {
     "slide_type": "slide"
    }
   },
   "source": [
    "  \n",
    "  \n",
    "# Motivation - Single Pendulum\n",
    "\n",
    "\n",
    "<div class = 'row'>\n",
    "<div class = 'column'>\n",
    "\n",
    "## Driven Single Pendulum\n",
    "\n",
    "    \n",
    "- $\\begin{bmatrix}\\dot{\\theta}\\\\\\dot{\\omega}\\end{bmatrix}=\\begin{bmatrix}0 & \\omega\\\\-\\frac{g}{l}\\sin{(\\theta)} & -c\\omega\\end{bmatrix} + \\begin{bmatrix}0\\\\\\frac{A}{m l^2}\\sin{(\\omega_m t)}\\end{bmatrix}$\n",
    "\n",
    "- $\\omega=\\frac{d\\theta}{dt}$\n",
    "    \n",
    "- $m=1~kg$, $g=9.81~\\frac{m}{s^2}$, $l=1~m$\n",
    "- $c=0.1~/s$ (Damping)\n",
    "- $A=5.0~Nm$ (Forcing Amplitude)\n",
    "</div>\n",
    "<div class = 'column' style=\"max-width:30%\">\n",
    "<img style=\"padding: 20px 20px 20px 20px;\" src=\"figures/2-1_single_pendulum.png\"></img>\n",
    "</div>\n",
    "</div>"
   ]
  },
  {
   "cell_type": "markdown",
   "id": "d5207a6e",
   "metadata": {
    "slideshow": {
     "slide_type": "fragment"
    }
   },
   "source": [
    "- Teaspoon dynamic systems library\n",
    "- 60+ dynamical systems "
   ]
  },
  {
   "cell_type": "markdown",
   "id": "d4d96eb0",
   "metadata": {
    "slideshow": {
     "slide_type": "skip"
    }
   },
   "source": [
    "# Motivation - State Space\n",
    "\n",
    "<div class = 'row'>\n",
    "<div class = 'column'>\n",
    "\n",
    "## Driven Single Pendulum\n",
    "\n",
    "    \n",
    "- Teaspoon dynamic systems library\n",
    "- 60+ dynamical systems \n",
    "    \n",
    "   \n",
    "</div>\n",
    "<div class = 'column' style=\"max-width:30%\">\n",
    "\n",
    "<img style=\"padding: 20px 20px 20px 20px;\" src=\"figures/2-1_single_pendulum.png\"></img>\n",
    "\n",
    "</div>\n",
    "</div>"
   ]
  },
  {
   "cell_type": "code",
   "execution_count": 3,
   "id": "812401fd",
   "metadata": {
    "slideshow": {
     "slide_type": "fragment"
    }
   },
   "outputs": [],
   "source": [
    "# Easily generate new dynamic system simulations with the teaspoon make data module\n",
    "import teaspoon.MakeData.DynSysLib.DynSysLib as DSL\n",
    "\n",
    "system = 'driven_pendulum'\n",
    "dynamic_state = 'periodic'\n",
    "t, ts = DSL.DynamicSystems(system, dynamic_state)"
   ]
  },
  {
   "cell_type": "markdown",
   "id": "4897406e",
   "metadata": {
    "slideshow": {
     "slide_type": "slide"
    }
   },
   "source": [
    "# Motivation - State Space\n",
    "\n",
    "- Plot the state space solution "
   ]
  },
  {
   "cell_type": "markdown",
   "id": "b1e7929c",
   "metadata": {
    "slideshow": {
     "slide_type": "fragment"
    }
   },
   "source": [
    "![](figures/2-1_pendulum_ss.png)"
   ]
  },
  {
   "cell_type": "markdown",
   "id": "db16b95a",
   "metadata": {
    "slideshow": {
     "slide_type": "fragment"
    }
   },
   "source": [
    "- Attractor contains valuable information about the original system (e.g. periodic)"
   ]
  },
  {
   "cell_type": "markdown",
   "id": "d50a6529",
   "metadata": {
    "slideshow": {
     "slide_type": "fragment"
    }
   },
   "source": [
    "- What if we only had equipment to measure the angle and not the angular velocity?"
   ]
  },
  {
   "cell_type": "markdown",
   "id": "330095b0",
   "metadata": {
    "slideshow": {
     "slide_type": "slide"
    }
   },
   "source": [
    "# Takens Embedding\n",
    "\n",
    "![](figures/2-1_takens_embedding_gif_2d.gif)\n"
   ]
  },
  {
   "cell_type": "markdown",
   "id": "fafa8cbd",
   "metadata": {
    "slideshow": {
     "slide_type": "fragment"
    }
   },
   "source": [
    "**Takens Theorem:** The embedded state space attractor has the same topology of the original system if the correct dimension and delay are chosen.\n",
    "\n",
    "Teaspoon function:\n",
    "```python\n",
    "teaspoon.SP.tsa_tools.takens(ts, n=None, tau=None)\n",
    "```"
   ]
  },
  {
   "cell_type": "markdown",
   "id": "216cd4bb",
   "metadata": {
    "slideshow": {
     "slide_type": "slide"
    }
   },
   "source": [
    "## Delay Impact on Attractor Topology"
   ]
  },
  {
   "cell_type": "code",
   "execution_count": null,
   "id": "f5ff8a6b",
   "metadata": {
    "scrolled": false,
    "slideshow": {
     "slide_type": "skip"
    }
   },
   "outputs": [],
   "source": [
    "# Code for varying the embedding delay (animation)\n",
    "%matplotlib notebook\n",
    "from teaspoon.SP.tsa_tools import takens\n",
    "fig = plt.figure(figsize=(7, 4))\n",
    "ax = plt.subplot()\n",
    "ax.axis([-1,1,-2,2])\n",
    "data, = ax.plot([],[], 'k.', label='Embedded')\n",
    "true, = ax.plot([],[],'--b', alpha=0.2, label='True')\n",
    "animation = anim.FuncAnimation(fig, step_2d_takens, frames=100, interval=100, blit=True)\n",
    "plt.show()\n",
    "\n",
    "# Run: \"%matplotlib notebook\" to stop the animation"
   ]
  },
  {
   "cell_type": "markdown",
   "id": "2608dbfd",
   "metadata": {
    "slideshow": {
     "slide_type": "fragment"
    }
   },
   "source": [
    "![](figures/delay_animation.gif)"
   ]
  },
  {
   "cell_type": "markdown",
   "id": "55d125bc",
   "metadata": {
    "slideshow": {
     "slide_type": "slide"
    }
   },
   "source": [
    "# Embedding Dimension\n",
    "\n",
    "![](figures/2-1_takens_embedding_gif_3d.gif)"
   ]
  },
  {
   "cell_type": "markdown",
   "id": "b2e84cb8",
   "metadata": {
    "slideshow": {
     "slide_type": "slide"
    }
   },
   "source": [
    "# Parameter Selection\n",
    "\n",
    "- How do we choose the embedding dimension $n$ and delay $\\tau$?\n",
    "- Many methods for estimating parameters separately or simultaneously. \n",
    "\n",
    "### Delay$^1$\n",
    "\n",
    "![](figures/2-1_delay_methods.png)"
   ]
  },
  {
   "cell_type": "markdown",
   "id": "03de4d9a",
   "metadata": {
    "slideshow": {
     "slide_type": "slide"
    }
   },
   "source": [
    "# Parameter Selection\n",
    "\n",
    "- How do we choose the embedding dimension $n$ and delay $\\tau$?\n",
    "\n",
    "### Dimension$^1$\n",
    "\n",
    "![](figures/2-1_dimension_methods.png)"
   ]
  },
  {
   "cell_type": "markdown",
   "id": "80a9593c",
   "metadata": {
    "slideshow": {
     "slide_type": "slide"
    }
   },
   "source": [
    "# Parameter Selection - $\\tau$\n",
    "\n",
    "![](figures/2-1_delay_methods_frequency.png)"
   ]
  },
  {
   "cell_type": "markdown",
   "id": "8d7cd11d",
   "metadata": {
    "slideshow": {
     "slide_type": "slide"
    }
   },
   "source": [
    "# Frequency Approach - Overview\n",
    "\n",
    "<br/><br/><br/><br/>\n",
    "\n",
    "![](figures/2-1_LMS_procedure.pdf)\n",
    "\n",
    "<br/><br/><br/><br/>"
   ]
  },
  {
   "cell_type": "markdown",
   "id": "91024c60",
   "metadata": {
    "slideshow": {
     "slide_type": "slide"
    }
   },
   "source": [
    "# Frequency Approach - Methodology\n",
    "\n",
    "- Frequency Criteria$^{2,3}$: $2f_{max}< f_s < 4f_{max}$"
   ]
  },
  {
   "cell_type": "markdown",
   "id": "3a01c3ba",
   "metadata": {
    "slideshow": {
     "slide_type": "fragment"
    }
   },
   "source": [
    "- $f_{max}$: Maximum significant frequency in the system"
   ]
  },
  {
   "cell_type": "markdown",
   "id": "1a8ba5f5",
   "metadata": {
    "slideshow": {
     "slide_type": "fragment"
    }
   },
   "source": [
    "- $f_s$: Sampling frequency"
   ]
  },
  {
   "cell_type": "markdown",
   "id": "30974c52",
   "metadata": {
    "slideshow": {
     "slide_type": "fragment"
    }
   },
   "source": [
    "- How can $f_{max}$ be determined automatically for an oversampled timeseries?\n",
    "\n",
    "\n",
    "![](figures/2-1_fft_cutoff.png)"
   ]
  },
  {
   "cell_type": "markdown",
   "id": "1930c9e9",
   "metadata": {
    "slideshow": {
     "slide_type": "slide"
    }
   },
   "source": [
    "# Frequency Approach - Cutoff Frequency\n",
    "#### Steps:"
   ]
  },
  {
   "cell_type": "markdown",
   "id": "3ac0681e",
   "metadata": {
    "slideshow": {
     "slide_type": "fragment"
    }
   },
   "source": [
    "- GWN Fourier Transform Distribution: $P_{|X|}(|X|) = \\frac{2|X|}{E_w \\sigma_x^2} e^{\\frac{-|X|^2}{E_w \\sigma_x^2}}$\n",
    "- $E_w$: Window energy\n"
   ]
  },
  {
   "cell_type": "markdown",
   "id": "3ad7f39b",
   "metadata": {
    "slideshow": {
     "slide_type": "fragment"
    }
   },
   "source": [
    "![](figures/2-1_FFTdistributions.pdf)"
   ]
  },
  {
   "cell_type": "markdown",
   "id": "8bee8f88",
   "metadata": {
    "slideshow": {
     "slide_type": "slide"
    }
   },
   "source": [
    "# Frequency Approach - Cutoff Frequency\n",
    "\n",
    "- Get an approximate $|X_{max}|$ from the 1D LMS regression of the FFT.\n",
    "- Robust up to 50% outliers"
   ]
  },
  {
   "cell_type": "markdown",
   "id": "ce49e37f",
   "metadata": {
    "slideshow": {
     "slide_type": "fragment"
    }
   },
   "source": [
    "- Compute $\\sigma_x = \\sqrt{\\frac{2|X_{max}|^2}{E_w}}$ (Theoretical maximum)"
   ]
  },
  {
   "cell_type": "markdown",
   "id": "80de749d",
   "metadata": {
    "slideshow": {
     "slide_type": "fragment"
    }
   },
   "source": [
    "- Use the CDF to solve for the cutoff: $CP_{|X|} = 1 - \\exp\\left({\\frac{-|X|^2}{E_w \\sigma_X^2}}\\right)$"
   ]
  },
  {
   "cell_type": "markdown",
   "id": "8e677890",
   "metadata": {
    "slideshow": {
     "slide_type": "fragment"
    }
   },
   "source": [
    "### Cutoff Ratio: $C = \\frac{|X|_{\\text{cutoff}}}{|X|_{\\text{max}}} = \\sqrt{-2\\ln{(1-CP)}}$ \n",
    "\n",
    "- Reccomended cutoff ratio $\\approx 6$ for $10^4$ data points.\n",
    "\n",
    "![](figures/2-1_PDFvCDF.png)"
   ]
  },
  {
   "cell_type": "markdown",
   "id": "b64c7681",
   "metadata": {
    "slideshow": {
     "slide_type": "slide"
    }
   },
   "source": [
    "# Frequency Approach - Finding $\\tau$\n",
    "\n",
    "- The delay is then computed as: $\\tau = \\frac{f_s}{\\alpha f_{max}}$\n",
    "- Set $\\alpha=2$ to satisfy Nyquist sampling criteria\n",
    "\n",
    "<br/><br/><br/><br/>\n",
    "\n",
    "![](figures/2-1_LMS_procedure.pdf)"
   ]
  },
  {
   "cell_type": "markdown",
   "id": "c9aab565",
   "metadata": {
    "slideshow": {
     "slide_type": "slide"
    }
   },
   "source": [
    "# Frequency Approach - Teaspoon Functions\n",
    "\n",
    "Teaspoon functions:\n",
    "```python\n",
    "teaspoon.parameter_selection.delay_LMS.AbsFFT(ts, fs)\n",
    "``` \n",
    "- _AbsFFT_ - Returns fft coordinates of a timeseries"
   ]
  },
  {
   "cell_type": "markdown",
   "id": "578f60a9",
   "metadata": {
    "slideshow": {
     "slide_type": "fragment"
    }
   },
   "source": [
    "```python\n",
    "teaspoon.parameter_selection.delay_LMS.LMSforDelay(ts, fs, plotting=False)\n",
    "``` \n",
    "- _LMSforDelay_ - Computes embedding delay using LMS regression to find cutoff for the maximum significant frequency."
   ]
  },
  {
   "cell_type": "markdown",
   "id": "2aca6aeb",
   "metadata": {
    "slideshow": {
     "slide_type": "fragment"
    }
   },
   "source": [
    "```python\n",
    "teaspoon.parameter_selection.delay_LMS.MaximumFrequency(xf, yf, cutoff)\n",
    "``` \n",
    "- _MaximumFrequency_ - Gives maximum frequency in fft at a given cutoff threshold.\n",
    "\n",
    "### Example:"
   ]
  },
  {
   "cell_type": "code",
   "execution_count": 6,
   "id": "3c5d6409",
   "metadata": {
    "slideshow": {
     "slide_type": "fragment"
    }
   },
   "outputs": [
    {
     "data": {
      "text/plain": [
       "29"
      ]
     },
     "execution_count": 6,
     "metadata": {},
     "output_type": "execute_result"
    }
   ],
   "source": [
    "import teaspoon.MakeData.DynSysLib.DynSysLib as DSL\n",
    "from teaspoon.parameter_selection.delay_LMS import LMSforDelay\n",
    "t, ts = DSL.DynamicSystems('driven_pendulum', 'periodic')\n",
    "LMSforDelay(ts[0], 50)"
   ]
  },
  {
   "cell_type": "markdown",
   "id": "20fdc3ce",
   "metadata": {
    "slideshow": {
     "slide_type": "slide"
    }
   },
   "source": [
    "# Parameter Selection - $\\tau$\n",
    "\n",
    "![](figures/2-1_delay_methods_mspe.png)"
   ]
  },
  {
   "cell_type": "markdown",
   "id": "56357f6d",
   "metadata": {
    "slideshow": {
     "slide_type": "slide"
    }
   },
   "source": [
    "# Multiscale Permutation Entropy (MsPE/MPE)\n",
    "\n",
    "- Study the distribution of permutation groups in a signal by varying $\\tau$\n",
    "![](figures/2-1_motifs.png)"
   ]
  },
  {
   "cell_type": "markdown",
   "id": "dd59c536",
   "metadata": {
    "slideshow": {
     "slide_type": "fragment"
    }
   },
   "source": [
    "- $h_n  = -\\frac{1}{\\log_2{n!}} \\sum{} p(\\pi_i) \\log_2{p(\\pi_i)}$\n",
    "\n",
    "![](figures/2-1_Regions_ABC.PNG)"
   ]
  },
  {
   "cell_type": "markdown",
   "id": "372255af",
   "metadata": {
    "slideshow": {
     "slide_type": "slide"
    }
   },
   "source": [
    "# Multiscale Permutation Entropy\n",
    "\n",
    "- Dip in MSPE occurs around half of the system period$^4$.\n",
    "- $d_2 = \\frac{P}{2}=\\frac{1}{f_s}\\tau_r$\n",
    "![](figures/2-1_MdPE.PNG)"
   ]
  },
  {
   "cell_type": "markdown",
   "id": "4391333e",
   "metadata": {
    "slideshow": {
     "slide_type": "fragment"
    }
   },
   "source": [
    "- $\\tau=\\frac{2}{\\alpha}\\tau_r$ for $\\alpha \\in [2,4]$$^1$\n",
    "- $\\tau_r$ is the resonance delay at MPE dip ($d_2$)"
   ]
  },
  {
   "cell_type": "markdown",
   "id": "099e2941",
   "metadata": {
    "slideshow": {
     "slide_type": "slide"
    }
   },
   "source": [
    "# Multiscale Permutation Entropy\n",
    "\n",
    "- Dip in MPE plot may not always be present due to nonlinear effects. E.g. Chaotic Lorenz system MPE plot.\n",
    "\n",
    "![](figures/2-1_delay_segments.png)"
   ]
  },
  {
   "cell_type": "markdown",
   "id": "088638d5",
   "metadata": {
    "slideshow": {
     "slide_type": "fragment"
    }
   },
   "source": [
    "- Take $\\tau$ to be delay at maximum MPE in this case"
   ]
  },
  {
   "cell_type": "markdown",
   "id": "4814f6cc",
   "metadata": {
    "slideshow": {
     "slide_type": "slide"
    }
   },
   "source": [
    "# MsPE Example\n",
    "\n",
    "### Teaspoon Function:\n",
    "\n",
    "```python\n",
    "teaspoon.parameter_selection.MsPE.MsPE_tau(time_series, delay_end=200, plotting=False)\n",
    "```\n",
    "- Compute the timeseries embedding delay using multiscale permutation entropy."
   ]
  },
  {
   "cell_type": "markdown",
   "id": "eea4afc9",
   "metadata": {
    "slideshow": {
     "slide_type": "fragment"
    }
   },
   "source": [
    "### Example:"
   ]
  },
  {
   "cell_type": "code",
   "execution_count": 14,
   "id": "a23f9b77",
   "metadata": {
    "slideshow": {
     "slide_type": "fragment"
    }
   },
   "outputs": [
    {
     "data": {
      "text/plain": [
       "<Figure size 640x480 with 0 Axes>"
      ]
     },
     "metadata": {},
     "output_type": "display_data"
    },
    {
     "data": {
      "image/png": "[encoded data removed]",
      "text/plain": [
       "<Figure size 800x300 with 1 Axes>"
      ]
     },
     "metadata": {},
     "output_type": "display_data"
    },
    {
     "data": {
      "text/plain": [
       "36"
      ]
     },
     "execution_count": 14,
     "metadata": {},
     "output_type": "execute_result"
    }
   ],
   "source": [
    "import teaspoon.MakeData.DynSysLib.DynSysLib as DSL\n",
    "from teaspoon.parameter_selection.MsPE import MsPE_tau\n",
    "t, ts = DSL.DynamicSystems('driven_pendulum', 'periodic')\n",
    "MsPE_tau(ts[0], plotting=True)"
   ]
  },
  {
   "cell_type": "markdown",
   "id": "57cb9c15",
   "metadata": {
    "slideshow": {
     "slide_type": "slide"
    }
   },
   "source": [
    "# Parameter Selection - $\\tau$\n",
    "\n",
    "![](figures/2-1_delay_methods_autocor.png)"
   ]
  },
  {
   "cell_type": "markdown",
   "id": "fdb680c3",
   "metadata": {
    "slideshow": {
     "slide_type": "slide"
    }
   },
   "source": [
    "# Autocorrelation\n",
    "\n",
    "- Compute the correlation function between the signal and its delayed version."
   ]
  },
  {
   "cell_type": "markdown",
   "id": "46ad24d6",
   "metadata": {
    "slideshow": {
     "slide_type": "fragment"
    }
   },
   "source": [
    "- Correlation coefficient/function: $\\rho(\\tau)$"
   ]
  },
  {
   "cell_type": "markdown",
   "id": "aa930879",
   "metadata": {
    "slideshow": {
     "slide_type": "fragment"
    }
   },
   "source": [
    "- $\\tau$ is taken as the point when $\\rho= 1/e \\approx 0.3679$ (folding time) [5]"
   ]
  },
  {
   "cell_type": "markdown",
   "id": "614ff0a2",
   "metadata": {
    "slideshow": {
     "slide_type": "fragment"
    }
   },
   "source": [
    "### Teaspoon Function:\n",
    "\n",
    "```python\n",
    "teaspoon.parameter_selection.autocorrelation.autoCorrelation_tau(ts, cutoff=0.36788, AC_method='spearman', plotting=False)\n",
    "```"
   ]
  },
  {
   "cell_type": "markdown",
   "id": "9f691a56",
   "metadata": {
    "slideshow": {
     "slide_type": "slide"
    }
   },
   "source": [
    "# Autocorrelation - Example"
   ]
  },
  {
   "cell_type": "code",
   "execution_count": 8,
   "id": "4787507a",
   "metadata": {
    "slideshow": {
     "slide_type": "fragment"
    }
   },
   "outputs": [
    {
     "data": {
      "text/plain": [
       "42"
      ]
     },
     "execution_count": 8,
     "metadata": {},
     "output_type": "execute_result"
    }
   ],
   "source": [
    "import teaspoon.MakeData.DynSysLib.DynSysLib as DSL\n",
    "from teaspoon.parameter_selection.autocorrelation import autoCorrelation_tau\n",
    "t, ts = DSL.DynamicSystems('driven_pendulum', 'periodic')\n",
    "autoCorrelation_tau(ts[0])"
   ]
  },
  {
   "cell_type": "markdown",
   "id": "86daa640",
   "metadata": {
    "slideshow": {
     "slide_type": "fragment"
    }
   },
   "source": [
    "![](figures/2-1_autocor_plot.png)"
   ]
  },
  {
   "cell_type": "markdown",
   "id": "44016fab",
   "metadata": {
    "slideshow": {
     "slide_type": "slide"
    }
   },
   "source": [
    "# Parameter Selection - $\\tau$\n",
    "\n",
    "![](figures/2-1_delay_methods_mutual_info.png)"
   ]
  },
  {
   "cell_type": "markdown",
   "id": "77840daa",
   "metadata": {
    "slideshow": {
     "slide_type": "slide"
    }
   },
   "source": [
    "# Mutual Information\n",
    "\n",
    "![](figures/2-1_mutual_information.gif)"
   ]
  },
  {
   "cell_type": "markdown",
   "id": "6b12d130",
   "metadata": {
    "slideshow": {
     "slide_type": "slide"
    }
   },
   "source": [
    "# Mutual Information$^6$\n",
    "\n",
    "- $I(X;Y) = \\sum_{x \\in X} \\sum_{y \\in Y}p(x,y)\\log\\frac{p(x,y)}{p(x)p(y)}$"
   ]
  },
  {
   "cell_type": "markdown",
   "id": "f49e873b",
   "metadata": {
    "slideshow": {
     "slide_type": "fragment"
    }
   },
   "source": [
    "- Compute MI between $x(t)$ and $x(t-\\tau)$"
   ]
  },
  {
   "cell_type": "markdown",
   "id": "3f6788c4",
   "metadata": {
    "slideshow": {
     "slide_type": "fragment"
    }
   },
   "source": [
    "- First minimum in $I$ specifies optimal $\\tau$"
   ]
  },
  {
   "cell_type": "markdown",
   "id": "a6a40e5d",
   "metadata": {
    "slideshow": {
     "slide_type": "fragment"
    }
   },
   "source": [
    "- <span style=\"color:red\">Warning:</span> a minimum is not guaranteed for $I$\n",
    "- *Try different binning methods*"
   ]
  },
  {
   "cell_type": "markdown",
   "id": "dff0143a",
   "metadata": {
    "slideshow": {
     "slide_type": "fragment"
    }
   },
   "source": [
    "### Teaspoon Function:\n",
    "```python\n",
    "teaspoon.parameter_selection.MI_delay.MI_for_delay(ts, plotting=False, method='basic', \n",
    "                                                   h_method='sturge', k=2, ranking=True)\n",
    "```"
   ]
  },
  {
   "cell_type": "markdown",
   "id": "117b874d",
   "metadata": {
    "slideshow": {
     "slide_type": "slide"
    }
   },
   "source": [
    "# Mutual Information Example"
   ]
  },
  {
   "cell_type": "code",
   "execution_count": 3,
   "id": "cad88c27",
   "metadata": {
    "slideshow": {
     "slide_type": "fragment"
    }
   },
   "outputs": [
    {
     "data": {
      "text/plain": [
       "16"
      ]
     },
     "execution_count": 3,
     "metadata": {},
     "output_type": "execute_result"
    }
   ],
   "source": [
    "from teaspoon.parameter_selection.MI_delay import MI_for_delay\n",
    "import teaspoon.MakeData.DynSysLib.DynSysLib as DSL\n",
    "t, ts = DSL.DynamicSystems('driven_pendulum', 'periodic')\n",
    "# kraskov 1 method uses partitioning based on 1 nearest neighbor in MI function\n",
    "# (Estimating mutual information. Physical Review E, 69(6), jun 2004.)\n",
    "MI_for_delay(ts[0], method='kraskov 1')"
   ]
  },
  {
   "cell_type": "markdown",
   "id": "5f1e16d1",
   "metadata": {
    "slideshow": {
     "slide_type": "fragment"
    }
   },
   "source": [
    "![](figures/2-1_mi_example.png)"
   ]
  },
  {
   "cell_type": "markdown",
   "id": "6404a801",
   "metadata": {
    "slideshow": {
     "slide_type": "slide"
    }
   },
   "source": [
    "# Parameter Selection - $\\tau$\n",
    "\n",
    "![](figures/2-1_delay_methods_pami.png)"
   ]
  },
  {
   "cell_type": "markdown",
   "id": "4f54fc61",
   "metadata": {
    "slideshow": {
     "slide_type": "slide"
    }
   },
   "source": [
    "# Permutation Auto-Mutual Information (PAMI)$^{1,7}$\n",
    "\n",
    "- Estimating $\\tau$ with MI does not account for permutations."
   ]
  },
  {
   "cell_type": "markdown",
   "id": "0fc664c3",
   "metadata": {
    "slideshow": {
     "slide_type": "fragment"
    }
   },
   "source": [
    "- PAMI measures joint probability between permutations at $\\tau=1$ to larger delays."
   ]
  },
  {
   "cell_type": "markdown",
   "id": "b54ec9e5",
   "metadata": {
    "slideshow": {
     "slide_type": "fragment"
    }
   },
   "source": [
    "- $I_p(\\tau, n) = H_{x(t,n)} + H_{x(t+\\tau,n)} - H_{x(t,n), x(t+\\tau,n)}$ \n",
    "- where $H$ is the permutation entropy: $H_s(n) = -\\sum{} p(x_i) \\log{p(x_i)}$"
   ]
  },
  {
   "cell_type": "markdown",
   "id": "8b3e2bb6",
   "metadata": {
    "slideshow": {
     "slide_type": "fragment"
    }
   },
   "source": [
    "- Plot $I_p$ with $(n-1)\\tau$ and find minimum when $n=2$\n",
    "![](figures/2-1_PAMI.png)"
   ]
  },
  {
   "cell_type": "markdown",
   "id": "08c894d4",
   "metadata": {
    "slideshow": {
     "slide_type": "slide"
    }
   },
   "source": [
    "# Permutation Auto-Mutual Information (PAMI)\n",
    "\n",
    "### Teaspoon Function:\n",
    "\n",
    "```python\n",
    "teaspoon.parameter_selection.PAMI_delay.PAMI_for_delay(ts, n=5, plotting=False)\n",
    "```\n",
    "\n",
    "### Example:"
   ]
  },
  {
   "cell_type": "code",
   "execution_count": 10,
   "id": "ba28fe2e",
   "metadata": {
    "slideshow": {
     "slide_type": "fragment"
    }
   },
   "outputs": [
    {
     "data": {
      "application/javascript": [
       "/* Put everything inside the global mpl namespace */\n",
       "/* global mpl */\n",
       "window.mpl = {};\n",
       "\n",
       "mpl.get_websocket_type = function () {\n",
       "    if (typeof WebSocket !== 'undefined') {\n",
       "        return WebSocket;\n",
       "    } else if (typeof MozWebSocket !== 'undefined') {\n",
       "        return MozWebSocket;\n",
       "    } else {\n",
       "        alert(\n",
       "            'Your browser does not have WebSocket support. ' +\n",
       "                'Please try Chrome, Safari or Firefox ≥ 6. ' +\n",
       "                'Firefox 4 and 5 are also supported but you ' +\n",
       "                'have to enable WebSockets in about:config.'\n",
       "        );\n",
       "    }\n",
       "};\n",
       "\n",
       "mpl.figure = function (figure_id, websocket, ondownload, parent_element) {\n",
       "    this.id = figure_id;\n",
       "\n",
       "    this.ws = websocket;\n",
       "\n",
       "    this.supports_binary = this.ws.binaryType !== undefined;\n",
       "\n",
       "    if (!this.supports_binary) {\n",
       "        var warnings = document.getElementById('mpl-warnings');\n",
       "        if (warnings) {\n",
       "            warnings.style.display = 'block';\n",
       "            warnings.textContent =\n",
       "                'This browser does not support binary websocket messages. ' +\n",
       "                'Performance may be slow.';\n",
       "        }\n",
       "    }\n",
       "\n",
       "    this.imageObj = new Image();\n",
       "\n",
       "    this.context = undefined;\n",
       "    this.message = undefined;\n",
       "    this.canvas = undefined;\n",
       "    this.rubberband_canvas = undefined;\n",
       "    this.rubberband_context = undefined;\n",
       "    this.format_dropdown = undefined;\n",
       "\n",
       "    this.image_mode = 'full';\n",
       "\n",
       "    this.root = document.createElement('div');\n",
       "    this.root.setAttribute('style', 'display: inline-block');\n",
       "    this._root_extra_style(this.root);\n",
       "\n",
       "    parent_element.appendChild(this.root);\n",
       "\n",
       "    this._init_header(this);\n",
       "    this._init_canvas(this);\n",
       "    this._init_toolbar(this);\n",
       "\n",
       "    var fig = this;\n",
       "\n",
       "    this.waiting = false;\n",
       "\n",
       "    this.ws.onopen = function () {\n",
       "        fig.send_message('supports_binary', { value: fig.supports_binary });\n",
       "        fig.send_message('send_image_mode', {});\n",
       "        if (fig.ratio !== 1) {\n",
       "            fig.send_message('set_device_pixel_ratio', {\n",
       "                device_pixel_ratio: fig.ratio,\n",
       "            });\n",
       "        }\n",
       "        fig.send_message('refresh', {});\n",
       "    };\n",
       "\n",
       "    this.imageObj.onload = function () {\n",
       "        if (fig.image_mode === 'full') {\n",
       "            // Full images could contain transparency (where diff images\n",
       "            // almost always do), so we need to clear the canvas so that\n",
       "            // there is no ghosting.\n",
       "            fig.context.clearRect(0, 0, fig.canvas.width, fig.canvas.height);\n",
       "        }\n",
       "        fig.context.drawImage(fig.imageObj, 0, 0);\n",
       "    };\n",
       "\n",
       "    this.imageObj.onunload = function () {\n",
       "        fig.ws.close();\n",
       "    };\n",
       "\n",
       "    this.ws.onmessage = this._make_on_message_function(this);\n",
       "\n",
       "    this.ondownload = ondownload;\n",
       "};\n",
       "\n",
       "mpl.figure.prototype._init_header = function () {\n",
       "    var titlebar = document.createElement('div');\n",
       "    titlebar.classList =\n",
       "        'ui-dialog-titlebar ui-widget-header ui-corner-all ui-helper-clearfix';\n",
       "    var titletext = document.createElement('div');\n",
       "    titletext.classList = 'ui-dialog-title';\n",
       "    titletext.setAttribute(\n",
       "        'style',\n",
       "        'width: 100%; text-align: center; padding: 3px;'\n",
       "    );\n",
       "    titlebar.appendChild(titletext);\n",
       "    this.root.appendChild(titlebar);\n",
       "    this.header = titletext;\n",
       "};\n",
       "\n",
       "mpl.figure.prototype._canvas_extra_style = function (_canvas_div) {};\n",
       "\n",
       "mpl.figure.prototype._root_extra_style = function (_canvas_div) {};\n",
       "\n",
       "mpl.figure.prototype._init_canvas = function () {\n",
       "    var fig = this;\n",
       "\n",
       "    var canvas_div = (this.canvas_div = document.createElement('div'));\n",
       "    canvas_div.setAttribute(\n",
       "        'style',\n",
       "        'border: 1px solid #ddd;' +\n",
       "            'box-sizing: content-box;' +\n",
       "            'clear: both;' +\n",
       "            'min-height: 1px;' +\n",
       "            'min-width: 1px;' +\n",
       "            'outline: 0;' +\n",
       "            'overflow: hidden;' +\n",
       "            'position: relative;' +\n",
       "            'resize: both;'\n",
       "    );\n",
       "\n",
       "    function on_keyboard_event_closure(name) {\n",
       "        return function (event) {\n",
       "            return fig.key_event(event, name);\n",
       "        };\n",
       "    }\n",
       "\n",
       "    canvas_div.addEventListener(\n",
       "        'keydown',\n",
       "        on_keyboard_event_closure('key_press')\n",
       "    );\n",
       "    canvas_div.addEventListener(\n",
       "        'keyup',\n",
       "        on_keyboard_event_closure('key_release')\n",
       "    );\n",
       "\n",
       "    this._canvas_extra_style(canvas_div);\n",
       "    this.root.appendChild(canvas_div);\n",
       "\n",
       "    var canvas = (this.canvas = document.createElement('canvas'));\n",
       "    canvas.classList.add('mpl-canvas');\n",
       "    canvas.setAttribute('style', 'box-sizing: content-box;');\n",
       "\n",
       "    this.context = canvas.getContext('2d');\n",
       "\n",
       "    var backingStore =\n",
       "        this.context.backingStorePixelRatio ||\n",
       "        this.context.webkitBackingStorePixelRatio ||\n",
       "        this.context.mozBackingStorePixelRatio ||\n",
       "        this.context.msBackingStorePixelRatio ||\n",
       "        this.context.oBackingStorePixelRatio ||\n",
       "        this.context.backingStorePixelRatio ||\n",
       "        1;\n",
       "\n",
       "    this.ratio = (window.devicePixelRatio || 1) / backingStore;\n",
       "\n",
       "    var rubberband_canvas = (this.rubberband_canvas = document.createElement(\n",
       "        'canvas'\n",
       "    ));\n",
       "    rubberband_canvas.setAttribute(\n",
       "        'style',\n",
       "        'box-sizing: content-box; position: absolute; left: 0; top: 0; z-index: 1;'\n",
       "    );\n",
       "\n",
       "    // Apply a ponyfill if ResizeObserver is not implemented by browser.\n",
       "    if (this.ResizeObserver === undefined) {\n",
       "        if (window.ResizeObserver !== undefined) {\n",
       "            this.ResizeObserver = window.ResizeObserver;\n",
       "        } else {\n",
       "            var obs = _JSXTOOLS_RESIZE_OBSERVER({});\n",
       "            this.ResizeObserver = obs.ResizeObserver;\n",
       "        }\n",
       "    }\n",
       "\n",
       "    this.resizeObserverInstance = new this.ResizeObserver(function (entries) {\n",
       "        var nentries = entries.length;\n",
       "        for (var i = 0; i < nentries; i++) {\n",
       "            var entry = entries[i];\n",
       "            var width, height;\n",
       "            if (entry.contentBoxSize) {\n",
       "                if (entry.contentBoxSize instanceof Array) {\n",
       "                    // Chrome 84 implements new version of spec.\n",
       "                    width = entry.contentBoxSize[0].inlineSize;\n",
       "                    height = entry.contentBoxSize[0].blockSize;\n",
       "                } else {\n",
       "                    // Firefox implements old version of spec.\n",
       "                    width = entry.contentBoxSize.inlineSize;\n",
       "                    height = entry.contentBoxSize.blockSize;\n",
       "                }\n",
       "            } else {\n",
       "                // Chrome <84 implements even older version of spec.\n",
       "                width = entry.contentRect.width;\n",
       "                height = entry.contentRect.height;\n",
       "            }\n",
       "\n",
       "            // Keep the size of the canvas and rubber band canvas in sync with\n",
       "            // the canvas container.\n",
       "            if (entry.devicePixelContentBoxSize) {\n",
       "                // Chrome 84 implements new version of spec.\n",
       "                canvas.setAttribute(\n",
       "                    'width',\n",
       "                    entry.devicePixelContentBoxSize[0].inlineSize\n",
       "                );\n",
       "                canvas.setAttribute(\n",
       "                    'height',\n",
       "                    entry.devicePixelContentBoxSize[0].blockSize\n",
       "                );\n",
       "            } else {\n",
       "                canvas.setAttribute('width', width * fig.ratio);\n",
       "                canvas.setAttribute('height', height * fig.ratio);\n",
       "            }\n",
       "            canvas.setAttribute(\n",
       "                'style',\n",
       "                'width: ' + width + 'px; height: ' + height + 'px;'\n",
       "            );\n",
       "\n",
       "            rubberband_canvas.setAttribute('width', width);\n",
       "            rubberband_canvas.setAttribute('height', height);\n",
       "\n",
       "            // And update the size in Python. We ignore the initial 0/0 size\n",
       "            // that occurs as the element is placed into the DOM, which should\n",
       "            // otherwise not happen due to the minimum size styling.\n",
       "            if (fig.ws.readyState == 1 && width != 0 && height != 0) {\n",
       "                fig.request_resize(width, height);\n",
       "            }\n",
       "        }\n",
       "    });\n",
       "    this.resizeObserverInstance.observe(canvas_div);\n",
       "\n",
       "    function on_mouse_event_closure(name) {\n",
       "        return function (event) {\n",
       "            return fig.mouse_event(event, name);\n",
       "        };\n",
       "    }\n",
       "\n",
       "    rubberband_canvas.addEventListener(\n",
       "        'mousedown',\n",
       "        on_mouse_event_closure('button_press')\n",
       "    );\n",
       "    rubberband_canvas.addEventListener(\n",
       "        'mouseup',\n",
       "        on_mouse_event_closure('button_release')\n",
       "    );\n",
       "    rubberband_canvas.addEventListener(\n",
       "        'dblclick',\n",
       "        on_mouse_event_closure('dblclick')\n",
       "    );\n",
       "    // Throttle sequential mouse events to 1 every 20ms.\n",
       "    rubberband_canvas.addEventListener(\n",
       "        'mousemove',\n",
       "        on_mouse_event_closure('motion_notify')\n",
       "    );\n",
       "\n",
       "    rubberband_canvas.addEventListener(\n",
       "        'mouseenter',\n",
       "        on_mouse_event_closure('figure_enter')\n",
       "    );\n",
       "    rubberband_canvas.addEventListener(\n",
       "        'mouseleave',\n",
       "        on_mouse_event_closure('figure_leave')\n",
       "    );\n",
       "\n",
       "    canvas_div.addEventListener('wheel', function (event) {\n",
       "        if (event.deltaY < 0) {\n",
       "            event.step = 1;\n",
       "        } else {\n",
       "            event.step = -1;\n",
       "        }\n",
       "        on_mouse_event_closure('scroll')(event);\n",
       "    });\n",
       "\n",
       "    canvas_div.appendChild(canvas);\n",
       "    canvas_div.appendChild(rubberband_canvas);\n",
       "\n",
       "    this.rubberband_context = rubberband_canvas.getContext('2d');\n",
       "    this.rubberband_context.strokeStyle = '#000000';\n",
       "\n",
       "    this._resize_canvas = function (width, height, forward) {\n",
       "        if (forward) {\n",
       "            canvas_div.style.width = width + 'px';\n",
       "            canvas_div.style.height = height + 'px';\n",
       "        }\n",
       "    };\n",
       "\n",
       "    // Disable right mouse context menu.\n",
       "    this.rubberband_canvas.addEventListener('contextmenu', function (_e) {\n",
       "        event.preventDefault();\n",
       "        return false;\n",
       "    });\n",
       "\n",
       "    function set_focus() {\n",
       "        canvas.focus();\n",
       "        canvas_div.focus();\n",
       "    }\n",
       "\n",
       "    window.setTimeout(set_focus, 100);\n",
       "};\n",
       "\n",
       "mpl.figure.prototype._init_toolbar = function () {\n",
       "    var fig = this;\n",
       "\n",
       "    var toolbar = document.createElement('div');\n",
       "    toolbar.classList = 'mpl-toolbar';\n",
       "    this.root.appendChild(toolbar);\n",
       "\n",
       "    function on_click_closure(name) {\n",
       "        return function (_event) {\n",
       "            return fig.toolbar_button_onclick(name);\n",
       "        };\n",
       "    }\n",
       "\n",
       "    function on_mouseover_closure(tooltip) {\n",
       "        return function (event) {\n",
       "            if (!event.currentTarget.disabled) {\n",
       "                return fig.toolbar_button_onmouseover(tooltip);\n",
       "            }\n",
       "        };\n",
       "    }\n",
       "\n",
       "    fig.buttons = {};\n",
       "    var buttonGroup = document.createElement('div');\n",
       "    buttonGroup.classList = 'mpl-button-group';\n",
       "    for (var toolbar_ind in mpl.toolbar_items) {\n",
       "        var name = mpl.toolbar_items[toolbar_ind][0];\n",
       "        var tooltip = mpl.toolbar_items[toolbar_ind][1];\n",
       "        var image = mpl.toolbar_items[toolbar_ind][2];\n",
       "        var method_name = mpl.toolbar_items[toolbar_ind][3];\n",
       "\n",
       "        if (!name) {\n",
       "            /* Instead of a spacer, we start a new button group. */\n",
       "            if (buttonGroup.hasChildNodes()) {\n",
       "                toolbar.appendChild(buttonGroup);\n",
       "            }\n",
       "            buttonGroup = document.createElement('div');\n",
       "            buttonGroup.classList = 'mpl-button-group';\n",
       "            continue;\n",
       "        }\n",
       "\n",
       "        var button = (fig.buttons[name] = document.createElement('button'));\n",
       "        button.classList = 'mpl-widget';\n",
       "        button.setAttribute('role', 'button');\n",
       "        button.setAttribute('aria-disabled', 'false');\n",
       "        button.addEventListener('click', on_click_closure(method_name));\n",
       "        button.addEventListener('mouseover', on_mouseover_closure(tooltip));\n",
       "\n",
       "        var icon_img = document.createElement('img');\n",
       "        icon_img.src = '_images/' + image + '.png';\n",
       "        icon_img.srcset = '_images/' + image + '_large.png 2x';\n",
       "        icon_img.alt = tooltip;\n",
       "        button.appendChild(icon_img);\n",
       "\n",
       "        buttonGroup.appendChild(button);\n",
       "    }\n",
       "\n",
       "    if (buttonGroup.hasChildNodes()) {\n",
       "        toolbar.appendChild(buttonGroup);\n",
       "    }\n",
       "\n",
       "    var fmt_picker = document.createElement('select');\n",
       "    fmt_picker.classList = 'mpl-widget';\n",
       "    toolbar.appendChild(fmt_picker);\n",
       "    this.format_dropdown = fmt_picker;\n",
       "\n",
       "    for (var ind in mpl.extensions) {\n",
       "        var fmt = mpl.extensions[ind];\n",
       "        var option = document.createElement('option');\n",
       "        option.selected = fmt === mpl.default_extension;\n",
       "        option.innerHTML = fmt;\n",
       "        fmt_picker.appendChild(option);\n",
       "    }\n",
       "\n",
       "    var status_bar = document.createElement('span');\n",
       "    status_bar.classList = 'mpl-message';\n",
       "    toolbar.appendChild(status_bar);\n",
       "    this.message = status_bar;\n",
       "};\n",
       "\n",
       "mpl.figure.prototype.request_resize = function (x_pixels, y_pixels) {\n",
       "    // Request matplotlib to resize the figure. Matplotlib will then trigger a resize in the client,\n",
       "    // which will in turn request a refresh of the image.\n",
       "    this.send_message('resize', { width: x_pixels, height: y_pixels });\n",
       "};\n",
       "\n",
       "mpl.figure.prototype.send_message = function (type, properties) {\n",
       "    properties['type'] = type;\n",
       "    properties['figure_id'] = this.id;\n",
       "    this.ws.send(JSON.stringify(properties));\n",
       "};\n",
       "\n",
       "mpl.figure.prototype.send_draw_message = function () {\n",
       "    if (!this.waiting) {\n",
       "        this.waiting = true;\n",
       "        this.ws.send(JSON.stringify({ type: 'draw', figure_id: this.id }));\n",
       "    }\n",
       "};\n",
       "\n",
       "mpl.figure.prototype.handle_save = function (fig, _msg) {\n",
       "    var format_dropdown = fig.format_dropdown;\n",
       "    var format = format_dropdown.options[format_dropdown.selectedIndex].value;\n",
       "    fig.ondownload(fig, format);\n",
       "};\n",
       "\n",
       "mpl.figure.prototype.handle_resize = function (fig, msg) {\n",
       "    var size = msg['size'];\n",
       "    if (size[0] !== fig.canvas.width || size[1] !== fig.canvas.height) {\n",
       "        fig._resize_canvas(size[0], size[1], msg['forward']);\n",
       "        fig.send_message('refresh', {});\n",
       "    }\n",
       "};\n",
       "\n",
       "mpl.figure.prototype.handle_rubberband = function (fig, msg) {\n",
       "    var x0 = msg['x0'] / fig.ratio;\n",
       "    var y0 = (fig.canvas.height - msg['y0']) / fig.ratio;\n",
       "    var x1 = msg['x1'] / fig.ratio;\n",
       "    var y1 = (fig.canvas.height - msg['y1']) / fig.ratio;\n",
       "    x0 = Math.floor(x0) + 0.5;\n",
       "    y0 = Math.floor(y0) + 0.5;\n",
       "    x1 = Math.floor(x1) + 0.5;\n",
       "    y1 = Math.floor(y1) + 0.5;\n",
       "    var min_x = Math.min(x0, x1);\n",
       "    var min_y = Math.min(y0, y1);\n",
       "    var width = Math.abs(x1 - x0);\n",
       "    var height = Math.abs(y1 - y0);\n",
       "\n",
       "    fig.rubberband_context.clearRect(\n",
       "        0,\n",
       "        0,\n",
       "        fig.canvas.width / fig.ratio,\n",
       "        fig.canvas.height / fig.ratio\n",
       "    );\n",
       "\n",
       "    fig.rubberband_context.strokeRect(min_x, min_y, width, height);\n",
       "};\n",
       "\n",
       "mpl.figure.prototype.handle_figure_label = function (fig, msg) {\n",
       "    // Updates the figure title.\n",
       "    fig.header.textContent = msg['label'];\n",
       "};\n",
       "\n",
       "mpl.figure.prototype.handle_cursor = function (fig, msg) {\n",
       "    fig.rubberband_canvas.style.cursor = msg['cursor'];\n",
       "};\n",
       "\n",
       "mpl.figure.prototype.handle_message = function (fig, msg) {\n",
       "    fig.message.textContent = msg['message'];\n",
       "};\n",
       "\n",
       "mpl.figure.prototype.handle_draw = function (fig, _msg) {\n",
       "    // Request the server to send over a new figure.\n",
       "    fig.send_draw_message();\n",
       "};\n",
       "\n",
       "mpl.figure.prototype.handle_image_mode = function (fig, msg) {\n",
       "    fig.image_mode = msg['mode'];\n",
       "};\n",
       "\n",
       "mpl.figure.prototype.handle_history_buttons = function (fig, msg) {\n",
       "    for (var key in msg) {\n",
       "        if (!(key in fig.buttons)) {\n",
       "            continue;\n",
       "        }\n",
       "        fig.buttons[key].disabled = !msg[key];\n",
       "        fig.buttons[key].setAttribute('aria-disabled', !msg[key]);\n",
       "    }\n",
       "};\n",
       "\n",
       "mpl.figure.prototype.handle_navigate_mode = function (fig, msg) {\n",
       "    if (msg['mode'] === 'PAN') {\n",
       "        fig.buttons['Pan'].classList.add('active');\n",
       "        fig.buttons['Zoom'].classList.remove('active');\n",
       "    } else if (msg['mode'] === 'ZOOM') {\n",
       "        fig.buttons['Pan'].classList.remove('active');\n",
       "        fig.buttons['Zoom'].classList.add('active');\n",
       "    } else {\n",
       "        fig.buttons['Pan'].classList.remove('active');\n",
       "        fig.buttons['Zoom'].classList.remove('active');\n",
       "    }\n",
       "};\n",
       "\n",
       "mpl.figure.prototype.updated_canvas_event = function () {\n",
       "    // Called whenever the canvas gets updated.\n",
       "    this.send_message('ack', {});\n",
       "};\n",
       "\n",
       "// A function to construct a web socket function for onmessage handling.\n",
       "// Called in the figure constructor.\n",
       "mpl.figure.prototype._make_on_message_function = function (fig) {\n",
       "    return function socket_on_message(evt) {\n",
       "        if (evt.data instanceof Blob) {\n",
       "            var img = evt.data;\n",
       "            if (img.type !== 'image/png') {\n",
       "                /* FIXME: We get \"Resource interpreted as Image but\n",
       "                 * transferred with MIME type text/plain:\" errors on\n",
       "                 * Chrome.  But how to set the MIME type?  It doesn't seem\n",
       "                 * to be part of the websocket stream */\n",
       "                img.type = 'image/png';\n",
       "            }\n",
       "\n",
       "            /* Free the memory for the previous frames */\n",
       "            if (fig.imageObj.src) {\n",
       "                (window.URL || window.webkitURL).revokeObjectURL(\n",
       "                    fig.imageObj.src\n",
       "                );\n",
       "            }\n",
       "\n",
       "            fig.imageObj.src = (window.URL || window.webkitURL).createObjectURL(\n",
       "                img\n",
       "            );\n",
       "            fig.updated_canvas_event();\n",
       "            fig.waiting = false;\n",
       "            return;\n",
       "        } else if (\n",
       "            typeof evt.data === 'string' &&\n",
       "            evt.data.slice(0, 21) === 'data:image/png;base64'\n",
       "        ) {\n",
       "            fig.imageObj.src = evt.data;\n",
       "            fig.updated_canvas_event();\n",
       "            fig.waiting = false;\n",
       "            return;\n",
       "        }\n",
       "\n",
       "        var msg = JSON.parse(evt.data);\n",
       "        var msg_type = msg['type'];\n",
       "\n",
       "        // Call the  \"handle_{type}\" callback, which takes\n",
       "        // the figure and JSON message as its only arguments.\n",
       "        try {\n",
       "            var callback = fig['handle_' + msg_type];\n",
       "        } catch (e) {\n",
       "            console.log(\n",
       "                \"No handler for the '\" + msg_type + \"' message type: \",\n",
       "                msg\n",
       "            );\n",
       "            return;\n",
       "        }\n",
       "\n",
       "        if (callback) {\n",
       "            try {\n",
       "                // console.log(\"Handling '\" + msg_type + \"' message: \", msg);\n",
       "                callback(fig, msg);\n",
       "            } catch (e) {\n",
       "                console.log(\n",
       "                    \"Exception inside the 'handler_\" + msg_type + \"' callback:\",\n",
       "                    e,\n",
       "                    e.stack,\n",
       "                    msg\n",
       "                );\n",
       "            }\n",
       "        }\n",
       "    };\n",
       "};\n",
       "\n",
       "// from https://stackoverflow.com/questions/1114465/getting-mouse-location-in-canvas\n",
       "mpl.findpos = function (e) {\n",
       "    //this section is from http://www.quirksmode.org/js/events_properties.html\n",
       "    var targ;\n",
       "    if (!e) {\n",
       "        e = window.event;\n",
       "    }\n",
       "    if (e.target) {\n",
       "        targ = e.target;\n",
       "    } else if (e.srcElement) {\n",
       "        targ = e.srcElement;\n",
       "    }\n",
       "    if (targ.nodeType === 3) {\n",
       "        // defeat Safari bug\n",
       "        targ = targ.parentNode;\n",
       "    }\n",
       "\n",
       "    // pageX,Y are the mouse positions relative to the document\n",
       "    var boundingRect = targ.getBoundingClientRect();\n",
       "    var x = e.pageX - (boundingRect.left + document.body.scrollLeft);\n",
       "    var y = e.pageY - (boundingRect.top + document.body.scrollTop);\n",
       "\n",
       "    return { x: x, y: y };\n",
       "};\n",
       "\n",
       "/*\n",
       " * return a copy of an object with only non-object keys\n",
       " * we need this to avoid circular references\n",
       " * https://stackoverflow.com/a/24161582/3208463\n",
       " */\n",
       "function simpleKeys(original) {\n",
       "    return Object.keys(original).reduce(function (obj, key) {\n",
       "        if (typeof original[key] !== 'object') {\n",
       "            obj[key] = original[key];\n",
       "        }\n",
       "        return obj;\n",
       "    }, {});\n",
       "}\n",
       "\n",
       "mpl.figure.prototype.mouse_event = function (event, name) {\n",
       "    var canvas_pos = mpl.findpos(event);\n",
       "\n",
       "    if (name === 'button_press') {\n",
       "        this.canvas.focus();\n",
       "        this.canvas_div.focus();\n",
       "    }\n",
       "\n",
       "    var x = canvas_pos.x * this.ratio;\n",
       "    var y = canvas_pos.y * this.ratio;\n",
       "\n",
       "    this.send_message(name, {\n",
       "        x: x,\n",
       "        y: y,\n",
       "        button: event.button,\n",
       "        step: event.step,\n",
       "        guiEvent: simpleKeys(event),\n",
       "    });\n",
       "\n",
       "    /* This prevents the web browser from automatically changing to\n",
       "     * the text insertion cursor when the button is pressed.  We want\n",
       "     * to control all of the cursor setting manually through the\n",
       "     * 'cursor' event from matplotlib */\n",
       "    event.preventDefault();\n",
       "    return false;\n",
       "};\n",
       "\n",
       "mpl.figure.prototype._key_event_extra = function (_event, _name) {\n",
       "    // Handle any extra behaviour associated with a key event\n",
       "};\n",
       "\n",
       "mpl.figure.prototype.key_event = function (event, name) {\n",
       "    // Prevent repeat events\n",
       "    if (name === 'key_press') {\n",
       "        if (event.key === this._key) {\n",
       "            return;\n",
       "        } else {\n",
       "            this._key = event.key;\n",
       "        }\n",
       "    }\n",
       "    if (name === 'key_release') {\n",
       "        this._key = null;\n",
       "    }\n",
       "\n",
       "    var value = '';\n",
       "    if (event.ctrlKey && event.key !== 'Control') {\n",
       "        value += 'ctrl+';\n",
       "    }\n",
       "    else if (event.altKey && event.key !== 'Alt') {\n",
       "        value += 'alt+';\n",
       "    }\n",
       "    else if (event.shiftKey && event.key !== 'Shift') {\n",
       "        value += 'shift+';\n",
       "    }\n",
       "\n",
       "    value += 'k' + event.key;\n",
       "\n",
       "    this._key_event_extra(event, name);\n",
       "\n",
       "    this.send_message(name, { key: value, guiEvent: simpleKeys(event) });\n",
       "    return false;\n",
       "};\n",
       "\n",
       "mpl.figure.prototype.toolbar_button_onclick = function (name) {\n",
       "    if (name === 'download') {\n",
       "        this.handle_save(this, null);\n",
       "    } else {\n",
       "        this.send_message('toolbar_button', { name: name });\n",
       "    }\n",
       "};\n",
       "\n",
       "mpl.figure.prototype.toolbar_button_onmouseover = function (tooltip) {\n",
       "    this.message.textContent = tooltip;\n",
       "};\n",
       "\n",
       "///////////////// REMAINING CONTENT GENERATED BY embed_js.py /////////////////\n",
       "// prettier-ignore\n",
       "var _JSXTOOLS_RESIZE_OBSERVER=function(A){var t,i=new WeakMap,n=new WeakMap,a=new WeakMap,r=new WeakMap,o=new Set;function s(e){if(!(this instanceof s))throw new TypeError(\"Constructor requires 'new' operator\");i.set(this,e)}function h(){throw new TypeError(\"Function is not a constructor\")}function c(e,t,i,n){e=0 in arguments?Number(arguments[0]):0,t=1 in arguments?Number(arguments[1]):0,i=2 in arguments?Number(arguments[2]):0,n=3 in arguments?Number(arguments[3]):0,this.right=(this.x=this.left=e)+(this.width=i),this.bottom=(this.y=this.top=t)+(this.height=n),Object.freeze(this)}function d(){t=requestAnimationFrame(d);var s=new WeakMap,p=new Set;o.forEach((function(t){r.get(t).forEach((function(i){var r=t instanceof window.SVGElement,o=a.get(t),d=r?0:parseFloat(o.paddingTop),f=r?0:parseFloat(o.paddingRight),l=r?0:parseFloat(o.paddingBottom),u=r?0:parseFloat(o.paddingLeft),g=r?0:parseFloat(o.borderTopWidth),m=r?0:parseFloat(o.borderRightWidth),w=r?0:parseFloat(o.borderBottomWidth),b=u+f,F=d+l,v=(r?0:parseFloat(o.borderLeftWidth))+m,W=g+w,y=r?0:t.offsetHeight-W-t.clientHeight,E=r?0:t.offsetWidth-v-t.clientWidth,R=b+v,z=F+W,M=r?t.width:parseFloat(o.width)-R-E,O=r?t.height:parseFloat(o.height)-z-y;if(n.has(t)){var k=n.get(t);if(k[0]===M&&k[1]===O)return}n.set(t,[M,O]);var S=Object.create(h.prototype);S.target=t,S.contentRect=new c(u,d,M,O),s.has(i)||(s.set(i,[]),p.add(i)),s.get(i).push(S)}))})),p.forEach((function(e){i.get(e).call(e,s.get(e),e)}))}return s.prototype.observe=function(i){if(i instanceof window.Element){r.has(i)||(r.set(i,new Set),o.add(i),a.set(i,window.getComputedStyle(i)));var n=r.get(i);n.has(this)||n.add(this),cancelAnimationFrame(t),t=requestAnimationFrame(d)}},s.prototype.unobserve=function(i){if(i instanceof window.Element&&r.has(i)){var n=r.get(i);n.has(this)&&(n.delete(this),n.size||(r.delete(i),o.delete(i))),n.size||r.delete(i),o.size||cancelAnimationFrame(t)}},A.DOMRectReadOnly=c,A.ResizeObserver=s,A.ResizeObserverEntry=h,A}; // eslint-disable-line\n",
       "mpl.toolbar_items = [[\"Home\", \"Reset original view\", \"fa fa-home icon-home\", \"home\"], [\"Back\", \"Back to previous view\", \"fa fa-arrow-left icon-arrow-left\", \"back\"], [\"Forward\", \"Forward to next view\", \"fa fa-arrow-right icon-arrow-right\", \"forward\"], [\"\", \"\", \"\", \"\"], [\"Pan\", \"Left button pans, Right button zooms\\nx/y fixes axis, CTRL fixes aspect\", \"fa fa-arrows icon-move\", \"pan\"], [\"Zoom\", \"Zoom to rectangle\\nx/y fixes axis\", \"fa fa-square-o icon-check-empty\", \"zoom\"], [\"\", \"\", \"\", \"\"], [\"Download\", \"Download plot\", \"fa fa-floppy-o icon-save\", \"download\"]];\n",
       "\n",
       "mpl.extensions = [\"eps\", \"jpeg\", \"pgf\", \"pdf\", \"png\", \"ps\", \"raw\", \"svg\", \"tif\"];\n",
       "\n",
       "mpl.default_extension = \"png\";/* global mpl */\n",
       "\n",
       "var comm_websocket_adapter = function (comm) {\n",
       "    // Create a \"websocket\"-like object which calls the given IPython comm\n",
       "    // object with the appropriate methods. Currently this is a non binary\n",
       "    // socket, so there is still some room for performance tuning.\n",
       "    var ws = {};\n",
       "\n",
       "    ws.binaryType = comm.kernel.ws.binaryType;\n",
       "    ws.readyState = comm.kernel.ws.readyState;\n",
       "    function updateReadyState(_event) {\n",
       "        if (comm.kernel.ws) {\n",
       "            ws.readyState = comm.kernel.ws.readyState;\n",
       "        } else {\n",
       "            ws.readyState = 3; // Closed state.\n",
       "        }\n",
       "    }\n",
       "    comm.kernel.ws.addEventListener('open', updateReadyState);\n",
       "    comm.kernel.ws.addEventListener('close', updateReadyState);\n",
       "    comm.kernel.ws.addEventListener('error', updateReadyState);\n",
       "\n",
       "    ws.close = function () {\n",
       "        comm.close();\n",
       "    };\n",
       "    ws.send = function (m) {\n",
       "        //console.log('sending', m);\n",
       "        comm.send(m);\n",
       "    };\n",
       "    // Register the callback with on_msg.\n",
       "    comm.on_msg(function (msg) {\n",
       "        //console.log('receiving', msg['content']['data'], msg);\n",
       "        var data = msg['content']['data'];\n",
       "        if (data['blob'] !== undefined) {\n",
       "            data = {\n",
       "                data: new Blob(msg['buffers'], { type: data['blob'] }),\n",
       "            };\n",
       "        }\n",
       "        // Pass the mpl event to the overridden (by mpl) onmessage function.\n",
       "        ws.onmessage(data);\n",
       "    });\n",
       "    return ws;\n",
       "};\n",
       "\n",
       "mpl.mpl_figure_comm = function (comm, msg) {\n",
       "    // This is the function which gets called when the mpl process\n",
       "    // starts-up an IPython Comm through the \"matplotlib\" channel.\n",
       "\n",
       "    var id = msg.content.data.id;\n",
       "    // Get hold of the div created by the display call when the Comm\n",
       "    // socket was opened in Python.\n",
       "    var element = document.getElementById(id);\n",
       "    var ws_proxy = comm_websocket_adapter(comm);\n",
       "\n",
       "    function ondownload(figure, _format) {\n",
       "        window.open(figure.canvas.toDataURL());\n",
       "    }\n",
       "\n",
       "    var fig = new mpl.figure(id, ws_proxy, ondownload, element);\n",
       "\n",
       "    // Call onopen now - mpl needs it, as it is assuming we've passed it a real\n",
       "    // web socket which is closed, not our websocket->open comm proxy.\n",
       "    ws_proxy.onopen();\n",
       "\n",
       "    fig.parent_element = element;\n",
       "    fig.cell_info = mpl.find_output_cell(\"<div id='\" + id + \"'></div>\");\n",
       "    if (!fig.cell_info) {\n",
       "        console.error('Failed to find cell for figure', id, fig);\n",
       "        return;\n",
       "    }\n",
       "    fig.cell_info[0].output_area.element.on(\n",
       "        'cleared',\n",
       "        { fig: fig },\n",
       "        fig._remove_fig_handler\n",
       "    );\n",
       "};\n",
       "\n",
       "mpl.figure.prototype.handle_close = function (fig, msg) {\n",
       "    var width = fig.canvas.width / fig.ratio;\n",
       "    fig.cell_info[0].output_area.element.off(\n",
       "        'cleared',\n",
       "        fig._remove_fig_handler\n",
       "    );\n",
       "    fig.resizeObserverInstance.unobserve(fig.canvas_div);\n",
       "\n",
       "    // Update the output cell to use the data from the current canvas.\n",
       "    fig.push_to_output();\n",
       "    var dataURL = fig.canvas.toDataURL();\n",
       "    // Re-enable the keyboard manager in IPython - without this line, in FF,\n",
       "    // the notebook keyboard shortcuts fail.\n",
       "    IPython.keyboard_manager.enable();\n",
       "    fig.parent_element.innerHTML =\n",
       "        '<img src=\"' + dataURL + '\" width=\"' + width + '\">';\n",
       "    fig.close_ws(fig, msg);\n",
       "};\n",
       "\n",
       "mpl.figure.prototype.close_ws = function (fig, msg) {\n",
       "    fig.send_message('closing', msg);\n",
       "    // fig.ws.close()\n",
       "};\n",
       "\n",
       "mpl.figure.prototype.push_to_output = function (_remove_interactive) {\n",
       "    // Turn the data on the canvas into data in the output cell.\n",
       "    var width = this.canvas.width / this.ratio;\n",
       "    var dataURL = this.canvas.toDataURL();\n",
       "    this.cell_info[1]['text/html'] =\n",
       "        '<img src=\"' + dataURL + '\" width=\"' + width + '\">';\n",
       "};\n",
       "\n",
       "mpl.figure.prototype.updated_canvas_event = function () {\n",
       "    // Tell IPython that the notebook contents must change.\n",
       "    IPython.notebook.set_dirty(true);\n",
       "    this.send_message('ack', {});\n",
       "    var fig = this;\n",
       "    // Wait a second, then push the new image to the DOM so\n",
       "    // that it is saved nicely (might be nice to debounce this).\n",
       "    setTimeout(function () {\n",
       "        fig.push_to_output();\n",
       "    }, 1000);\n",
       "};\n",
       "\n",
       "mpl.figure.prototype._init_toolbar = function () {\n",
       "    var fig = this;\n",
       "\n",
       "    var toolbar = document.createElement('div');\n",
       "    toolbar.classList = 'btn-toolbar';\n",
       "    this.root.appendChild(toolbar);\n",
       "\n",
       "    function on_click_closure(name) {\n",
       "        return function (_event) {\n",
       "            return fig.toolbar_button_onclick(name);\n",
       "        };\n",
       "    }\n",
       "\n",
       "    function on_mouseover_closure(tooltip) {\n",
       "        return function (event) {\n",
       "            if (!event.currentTarget.disabled) {\n",
       "                return fig.toolbar_button_onmouseover(tooltip);\n",
       "            }\n",
       "        };\n",
       "    }\n",
       "\n",
       "    fig.buttons = {};\n",
       "    var buttonGroup = document.createElement('div');\n",
       "    buttonGroup.classList = 'btn-group';\n",
       "    var button;\n",
       "    for (var toolbar_ind in mpl.toolbar_items) {\n",
       "        var name = mpl.toolbar_items[toolbar_ind][0];\n",
       "        var tooltip = mpl.toolbar_items[toolbar_ind][1];\n",
       "        var image = mpl.toolbar_items[toolbar_ind][2];\n",
       "        var method_name = mpl.toolbar_items[toolbar_ind][3];\n",
       "\n",
       "        if (!name) {\n",
       "            /* Instead of a spacer, we start a new button group. */\n",
       "            if (buttonGroup.hasChildNodes()) {\n",
       "                toolbar.appendChild(buttonGroup);\n",
       "            }\n",
       "            buttonGroup = document.createElement('div');\n",
       "            buttonGroup.classList = 'btn-group';\n",
       "            continue;\n",
       "        }\n",
       "\n",
       "        button = fig.buttons[name] = document.createElement('button');\n",
       "        button.classList = 'btn btn-default';\n",
       "        button.href = '#';\n",
       "        button.title = name;\n",
       "        button.innerHTML = '<i class=\"fa ' + image + ' fa-lg\"></i>';\n",
       "        button.addEventListener('click', on_click_closure(method_name));\n",
       "        button.addEventListener('mouseover', on_mouseover_closure(tooltip));\n",
       "        buttonGroup.appendChild(button);\n",
       "    }\n",
       "\n",
       "    if (buttonGroup.hasChildNodes()) {\n",
       "        toolbar.appendChild(buttonGroup);\n",
       "    }\n",
       "\n",
       "    // Add the status bar.\n",
       "    var status_bar = document.createElement('span');\n",
       "    status_bar.classList = 'mpl-message pull-right';\n",
       "    toolbar.appendChild(status_bar);\n",
       "    this.message = status_bar;\n",
       "\n",
       "    // Add the close button to the window.\n",
       "    var buttongrp = document.createElement('div');\n",
       "    buttongrp.classList = 'btn-group inline pull-right';\n",
       "    button = document.createElement('button');\n",
       "    button.classList = 'btn btn-mini btn-primary';\n",
       "    button.href = '#';\n",
       "    button.title = 'Stop Interaction';\n",
       "    button.innerHTML = '<i class=\"fa fa-power-off icon-remove icon-large\"></i>';\n",
       "    button.addEventListener('click', function (_evt) {\n",
       "        fig.handle_close(fig, {});\n",
       "    });\n",
       "    button.addEventListener(\n",
       "        'mouseover',\n",
       "        on_mouseover_closure('Stop Interaction')\n",
       "    );\n",
       "    buttongrp.appendChild(button);\n",
       "    var titlebar = this.root.querySelector('.ui-dialog-titlebar');\n",
       "    titlebar.insertBefore(buttongrp, titlebar.firstChild);\n",
       "};\n",
       "\n",
       "mpl.figure.prototype._remove_fig_handler = function (event) {\n",
       "    var fig = event.data.fig;\n",
       "    if (event.target !== this) {\n",
       "        // Ignore bubbled events from children.\n",
       "        return;\n",
       "    }\n",
       "    fig.close_ws(fig, {});\n",
       "};\n",
       "\n",
       "mpl.figure.prototype._root_extra_style = function (el) {\n",
       "    el.style.boxSizing = 'content-box'; // override notebook setting of border-box.\n",
       "};\n",
       "\n",
       "mpl.figure.prototype._canvas_extra_style = function (el) {\n",
       "    // this is important to make the div 'focusable\n",
       "    el.setAttribute('tabindex', 0);\n",
       "    // reach out to IPython and tell the keyboard manager to turn it's self\n",
       "    // off when our div gets focus\n",
       "\n",
       "    // location in version 3\n",
       "    if (IPython.notebook.keyboard_manager) {\n",
       "        IPython.notebook.keyboard_manager.register_events(el);\n",
       "    } else {\n",
       "        // location in version 2\n",
       "        IPython.keyboard_manager.register_events(el);\n",
       "    }\n",
       "};\n",
       "\n",
       "mpl.figure.prototype._key_event_extra = function (event, _name) {\n",
       "    // Check for shift+enter\n",
       "    if (event.shiftKey && event.which === 13) {\n",
       "        this.canvas_div.blur();\n",
       "        // select the cell after this one\n",
       "        var index = IPython.notebook.find_cell_index(this.cell_info[0]);\n",
       "        IPython.notebook.select(index + 1);\n",
       "    }\n",
       "};\n",
       "\n",
       "mpl.figure.prototype.handle_save = function (fig, _msg) {\n",
       "    fig.ondownload(fig, null);\n",
       "};\n",
       "\n",
       "mpl.find_output_cell = function (html_output) {\n",
       "    // Return the cell and output element which can be found *uniquely* in the notebook.\n",
       "    // Note - this is a bit hacky, but it is done because the \"notebook_saving.Notebook\"\n",
       "    // IPython event is triggered only after the cells have been serialised, which for\n",
       "    // our purposes (turning an active figure into a static one), is too late.\n",
       "    var cells = IPython.notebook.get_cells();\n",
       "    var ncells = cells.length;\n",
       "    for (var i = 0; i < ncells; i++) {\n",
       "        var cell = cells[i];\n",
       "        if (cell.cell_type === 'code') {\n",
       "            for (var j = 0; j < cell.output_area.outputs.length; j++) {\n",
       "                var data = cell.output_area.outputs[j];\n",
       "                if (data.data) {\n",
       "                    // IPython >= 3 moved mimebundle to data attribute of output\n",
       "                    data = data.data;\n",
       "                }\n",
       "                if (data['text/html'] === html_output) {\n",
       "                    return [cell, data, j];\n",
       "                }\n",
       "            }\n",
       "        }\n",
       "    }\n",
       "};\n",
       "\n",
       "// Register the function which deals with the matplotlib target/channel.\n",
       "// The kernel may be null if the page has been refreshed.\n",
       "if (IPython.notebook.kernel !== null) {\n",
       "    IPython.notebook.kernel.comm_manager.register_target(\n",
       "        'matplotlib',\n",
       "        mpl.mpl_figure_comm\n",
       "    );\n",
       "}\n"
      ],
      "text/plain": [
       "<IPython.core.display.Javascript object>"
      ]
     },
     "metadata": {},
     "output_type": "display_data"
    },
    {
     "data": {
      "text/html": [
       "<img src=\"data:image/png;base64,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\" width=\"640\">"
      ],
      "text/plain": [
       "<IPython.core.display.HTML object>"
      ]
     },
     "metadata": {},
     "output_type": "display_data"
    },
    {
     "data": {
      "text/plain": [
       "13"
      ]
     },
     "execution_count": 10,
     "metadata": {},
     "output_type": "execute_result"
    }
   ],
   "source": [
    "from teaspoon.parameter_selection.PAMI_delay import PAMI_for_delay\n",
    "import teaspoon.MakeData.DynSysLib.DynSysLib as DSL\n",
    "t, ts = DSL.DynamicSystems('driven_pendulum', 'periodic')\n",
    "PAMI_for_delay(ts[0], n=5, plotting=True)"
   ]
  },
  {
   "cell_type": "markdown",
   "id": "e5d528c3",
   "metadata": {
    "slideshow": {
     "slide_type": "slide"
    }
   },
   "source": [
    "\n",
    "# **Exercise:** Estimate the embedding delay for the periodic and chaotic _Rossler_ system using the five methods discussed.\n",
    "\n",
    "### Explore the embedded attractor point cloud persistence diagrams and how they compare to the full system persistence diagrams.\n",
    "\n",
    "- See **[2-1-Wkst-Embedding.ipynb](2-1-Wkst-Embedding.ipynb)** part 1.\n",
    "\n",
    "![](figures/2-1_delay_methods.png)"
   ]
  },
  {
   "cell_type": "markdown",
   "id": "7fc7d111",
   "metadata": {
    "slideshow": {
     "slide_type": "slide"
    }
   },
   "source": [
    "# Parameter Selection - $n$\n",
    "\n",
    "### Dimension$^1$\n",
    "\n",
    "![](figures/2-1_dimension_methods_fnn.png)"
   ]
  },
  {
   "cell_type": "markdown",
   "id": "161b137a",
   "metadata": {
    "slideshow": {
     "slide_type": "slide"
    }
   },
   "source": [
    "# False Nearest Neighbors (FNN)\n",
    "\n",
    "- Embed the system in increasing dimensions and compute distances between nearest neighbors."
   ]
  },
  {
   "cell_type": "markdown",
   "id": "53fdd1ac",
   "metadata": {
    "slideshow": {
     "slide_type": "fragment"
    }
   },
   "source": [
    "- FNN Fraction: $R_{i} = \\sqrt{\\frac{d^2_{m+1}(i,j) - d^2_{m}(i,j)}{d^2_{m}(i,j)}}$, False Nearest Neighbor if $R_i > R_{tol}$ (we use $R_{tol}=15$)"
   ]
  },
  {
   "cell_type": "markdown",
   "id": "76956cec",
   "metadata": {
    "slideshow": {
     "slide_type": "fragment"
    }
   },
   "source": [
    "![](figures/fnn_animation.gif)"
   ]
  },
  {
   "cell_type": "markdown",
   "id": "2c1bd5d3",
   "metadata": {
    "slideshow": {
     "slide_type": "slide"
    }
   },
   "source": [
    "# False Nearest Neighbors \n",
    "\n",
    "### Teaspoon Function:\n",
    "\n",
    "```python\n",
    "teaspoon.parameter_selection.FNN_n.FNN_n(ts, tau, maxDim=10, plotting=False, Rtol=15, Atol=2, threshold=10)\n",
    "```\n",
    "<font color=red>Warning: This requires estimating the delay first.</font>\n",
    "### Example:\n"
   ]
  },
  {
   "cell_type": "code",
   "execution_count": 21,
   "id": "1508d91d",
   "metadata": {
    "slideshow": {
     "slide_type": "fragment"
    }
   },
   "outputs": [
    {
     "data": {
      "application/javascript": [
       "/* Put everything inside the global mpl namespace */\n",
       "/* global mpl */\n",
       "window.mpl = {};\n",
       "\n",
       "mpl.get_websocket_type = function () {\n",
       "    if (typeof WebSocket !== 'undefined') {\n",
       "        return WebSocket;\n",
       "    } else if (typeof MozWebSocket !== 'undefined') {\n",
       "        return MozWebSocket;\n",
       "    } else {\n",
       "        alert(\n",
       "            'Your browser does not have WebSocket support. ' +\n",
       "                'Please try Chrome, Safari or Firefox ≥ 6. ' +\n",
       "                'Firefox 4 and 5 are also supported but you ' +\n",
       "                'have to enable WebSockets in about:config.'\n",
       "        );\n",
       "    }\n",
       "};\n",
       "\n",
       "mpl.figure = function (figure_id, websocket, ondownload, parent_element) {\n",
       "    this.id = figure_id;\n",
       "\n",
       "    this.ws = websocket;\n",
       "\n",
       "    this.supports_binary = this.ws.binaryType !== undefined;\n",
       "\n",
       "    if (!this.supports_binary) {\n",
       "        var warnings = document.getElementById('mpl-warnings');\n",
       "        if (warnings) {\n",
       "            warnings.style.display = 'block';\n",
       "            warnings.textContent =\n",
       "                'This browser does not support binary websocket messages. ' +\n",
       "                'Performance may be slow.';\n",
       "        }\n",
       "    }\n",
       "\n",
       "    this.imageObj = new Image();\n",
       "\n",
       "    this.context = undefined;\n",
       "    this.message = undefined;\n",
       "    this.canvas = undefined;\n",
       "    this.rubberband_canvas = undefined;\n",
       "    this.rubberband_context = undefined;\n",
       "    this.format_dropdown = undefined;\n",
       "\n",
       "    this.image_mode = 'full';\n",
       "\n",
       "    this.root = document.createElement('div');\n",
       "    this.root.setAttribute('style', 'display: inline-block');\n",
       "    this._root_extra_style(this.root);\n",
       "\n",
       "    parent_element.appendChild(this.root);\n",
       "\n",
       "    this._init_header(this);\n",
       "    this._init_canvas(this);\n",
       "    this._init_toolbar(this);\n",
       "\n",
       "    var fig = this;\n",
       "\n",
       "    this.waiting = false;\n",
       "\n",
       "    this.ws.onopen = function () {\n",
       "        fig.send_message('supports_binary', { value: fig.supports_binary });\n",
       "        fig.send_message('send_image_mode', {});\n",
       "        if (fig.ratio !== 1) {\n",
       "            fig.send_message('set_device_pixel_ratio', {\n",
       "                device_pixel_ratio: fig.ratio,\n",
       "            });\n",
       "        }\n",
       "        fig.send_message('refresh', {});\n",
       "    };\n",
       "\n",
       "    this.imageObj.onload = function () {\n",
       "        if (fig.image_mode === 'full') {\n",
       "            // Full images could contain transparency (where diff images\n",
       "            // almost always do), so we need to clear the canvas so that\n",
       "            // there is no ghosting.\n",
       "            fig.context.clearRect(0, 0, fig.canvas.width, fig.canvas.height);\n",
       "        }\n",
       "        fig.context.drawImage(fig.imageObj, 0, 0);\n",
       "    };\n",
       "\n",
       "    this.imageObj.onunload = function () {\n",
       "        fig.ws.close();\n",
       "    };\n",
       "\n",
       "    this.ws.onmessage = this._make_on_message_function(this);\n",
       "\n",
       "    this.ondownload = ondownload;\n",
       "};\n",
       "\n",
       "mpl.figure.prototype._init_header = function () {\n",
       "    var titlebar = document.createElement('div');\n",
       "    titlebar.classList =\n",
       "        'ui-dialog-titlebar ui-widget-header ui-corner-all ui-helper-clearfix';\n",
       "    var titletext = document.createElement('div');\n",
       "    titletext.classList = 'ui-dialog-title';\n",
       "    titletext.setAttribute(\n",
       "        'style',\n",
       "        'width: 100%; text-align: center; padding: 3px;'\n",
       "    );\n",
       "    titlebar.appendChild(titletext);\n",
       "    this.root.appendChild(titlebar);\n",
       "    this.header = titletext;\n",
       "};\n",
       "\n",
       "mpl.figure.prototype._canvas_extra_style = function (_canvas_div) {};\n",
       "\n",
       "mpl.figure.prototype._root_extra_style = function (_canvas_div) {};\n",
       "\n",
       "mpl.figure.prototype._init_canvas = function () {\n",
       "    var fig = this;\n",
       "\n",
       "    var canvas_div = (this.canvas_div = document.createElement('div'));\n",
       "    canvas_div.setAttribute(\n",
       "        'style',\n",
       "        'border: 1px solid #ddd;' +\n",
       "            'box-sizing: content-box;' +\n",
       "            'clear: both;' +\n",
       "            'min-height: 1px;' +\n",
       "            'min-width: 1px;' +\n",
       "            'outline: 0;' +\n",
       "            'overflow: hidden;' +\n",
       "            'position: relative;' +\n",
       "            'resize: both;'\n",
       "    );\n",
       "\n",
       "    function on_keyboard_event_closure(name) {\n",
       "        return function (event) {\n",
       "            return fig.key_event(event, name);\n",
       "        };\n",
       "    }\n",
       "\n",
       "    canvas_div.addEventListener(\n",
       "        'keydown',\n",
       "        on_keyboard_event_closure('key_press')\n",
       "    );\n",
       "    canvas_div.addEventListener(\n",
       "        'keyup',\n",
       "        on_keyboard_event_closure('key_release')\n",
       "    );\n",
       "\n",
       "    this._canvas_extra_style(canvas_div);\n",
       "    this.root.appendChild(canvas_div);\n",
       "\n",
       "    var canvas = (this.canvas = document.createElement('canvas'));\n",
       "    canvas.classList.add('mpl-canvas');\n",
       "    canvas.setAttribute('style', 'box-sizing: content-box;');\n",
       "\n",
       "    this.context = canvas.getContext('2d');\n",
       "\n",
       "    var backingStore =\n",
       "        this.context.backingStorePixelRatio ||\n",
       "        this.context.webkitBackingStorePixelRatio ||\n",
       "        this.context.mozBackingStorePixelRatio ||\n",
       "        this.context.msBackingStorePixelRatio ||\n",
       "        this.context.oBackingStorePixelRatio ||\n",
       "        this.context.backingStorePixelRatio ||\n",
       "        1;\n",
       "\n",
       "    this.ratio = (window.devicePixelRatio || 1) / backingStore;\n",
       "\n",
       "    var rubberband_canvas = (this.rubberband_canvas = document.createElement(\n",
       "        'canvas'\n",
       "    ));\n",
       "    rubberband_canvas.setAttribute(\n",
       "        'style',\n",
       "        'box-sizing: content-box; position: absolute; left: 0; top: 0; z-index: 1;'\n",
       "    );\n",
       "\n",
       "    // Apply a ponyfill if ResizeObserver is not implemented by browser.\n",
       "    if (this.ResizeObserver === undefined) {\n",
       "        if (window.ResizeObserver !== undefined) {\n",
       "            this.ResizeObserver = window.ResizeObserver;\n",
       "        } else {\n",
       "            var obs = _JSXTOOLS_RESIZE_OBSERVER({});\n",
       "            this.ResizeObserver = obs.ResizeObserver;\n",
       "        }\n",
       "    }\n",
       "\n",
       "    this.resizeObserverInstance = new this.ResizeObserver(function (entries) {\n",
       "        var nentries = entries.length;\n",
       "        for (var i = 0; i < nentries; i++) {\n",
       "            var entry = entries[i];\n",
       "            var width, height;\n",
       "            if (entry.contentBoxSize) {\n",
       "                if (entry.contentBoxSize instanceof Array) {\n",
       "                    // Chrome 84 implements new version of spec.\n",
       "                    width = entry.contentBoxSize[0].inlineSize;\n",
       "                    height = entry.contentBoxSize[0].blockSize;\n",
       "                } else {\n",
       "                    // Firefox implements old version of spec.\n",
       "                    width = entry.contentBoxSize.inlineSize;\n",
       "                    height = entry.contentBoxSize.blockSize;\n",
       "                }\n",
       "            } else {\n",
       "                // Chrome <84 implements even older version of spec.\n",
       "                width = entry.contentRect.width;\n",
       "                height = entry.contentRect.height;\n",
       "            }\n",
       "\n",
       "            // Keep the size of the canvas and rubber band canvas in sync with\n",
       "            // the canvas container.\n",
       "            if (entry.devicePixelContentBoxSize) {\n",
       "                // Chrome 84 implements new version of spec.\n",
       "                canvas.setAttribute(\n",
       "                    'width',\n",
       "                    entry.devicePixelContentBoxSize[0].inlineSize\n",
       "                );\n",
       "                canvas.setAttribute(\n",
       "                    'height',\n",
       "                    entry.devicePixelContentBoxSize[0].blockSize\n",
       "                );\n",
       "            } else {\n",
       "                canvas.setAttribute('width', width * fig.ratio);\n",
       "                canvas.setAttribute('height', height * fig.ratio);\n",
       "            }\n",
       "            canvas.setAttribute(\n",
       "                'style',\n",
       "                'width: ' + width + 'px; height: ' + height + 'px;'\n",
       "            );\n",
       "\n",
       "            rubberband_canvas.setAttribute('width', width);\n",
       "            rubberband_canvas.setAttribute('height', height);\n",
       "\n",
       "            // And update the size in Python. We ignore the initial 0/0 size\n",
       "            // that occurs as the element is placed into the DOM, which should\n",
       "            // otherwise not happen due to the minimum size styling.\n",
       "            if (fig.ws.readyState == 1 && width != 0 && height != 0) {\n",
       "                fig.request_resize(width, height);\n",
       "            }\n",
       "        }\n",
       "    });\n",
       "    this.resizeObserverInstance.observe(canvas_div);\n",
       "\n",
       "    function on_mouse_event_closure(name) {\n",
       "        return function (event) {\n",
       "            return fig.mouse_event(event, name);\n",
       "        };\n",
       "    }\n",
       "\n",
       "    rubberband_canvas.addEventListener(\n",
       "        'mousedown',\n",
       "        on_mouse_event_closure('button_press')\n",
       "    );\n",
       "    rubberband_canvas.addEventListener(\n",
       "        'mouseup',\n",
       "        on_mouse_event_closure('button_release')\n",
       "    );\n",
       "    rubberband_canvas.addEventListener(\n",
       "        'dblclick',\n",
       "        on_mouse_event_closure('dblclick')\n",
       "    );\n",
       "    // Throttle sequential mouse events to 1 every 20ms.\n",
       "    rubberband_canvas.addEventListener(\n",
       "        'mousemove',\n",
       "        on_mouse_event_closure('motion_notify')\n",
       "    );\n",
       "\n",
       "    rubberband_canvas.addEventListener(\n",
       "        'mouseenter',\n",
       "        on_mouse_event_closure('figure_enter')\n",
       "    );\n",
       "    rubberband_canvas.addEventListener(\n",
       "        'mouseleave',\n",
       "        on_mouse_event_closure('figure_leave')\n",
       "    );\n",
       "\n",
       "    canvas_div.addEventListener('wheel', function (event) {\n",
       "        if (event.deltaY < 0) {\n",
       "            event.step = 1;\n",
       "        } else {\n",
       "            event.step = -1;\n",
       "        }\n",
       "        on_mouse_event_closure('scroll')(event);\n",
       "    });\n",
       "\n",
       "    canvas_div.appendChild(canvas);\n",
       "    canvas_div.appendChild(rubberband_canvas);\n",
       "\n",
       "    this.rubberband_context = rubberband_canvas.getContext('2d');\n",
       "    this.rubberband_context.strokeStyle = '#000000';\n",
       "\n",
       "    this._resize_canvas = function (width, height, forward) {\n",
       "        if (forward) {\n",
       "            canvas_div.style.width = width + 'px';\n",
       "            canvas_div.style.height = height + 'px';\n",
       "        }\n",
       "    };\n",
       "\n",
       "    // Disable right mouse context menu.\n",
       "    this.rubberband_canvas.addEventListener('contextmenu', function (_e) {\n",
       "        event.preventDefault();\n",
       "        return false;\n",
       "    });\n",
       "\n",
       "    function set_focus() {\n",
       "        canvas.focus();\n",
       "        canvas_div.focus();\n",
       "    }\n",
       "\n",
       "    window.setTimeout(set_focus, 100);\n",
       "};\n",
       "\n",
       "mpl.figure.prototype._init_toolbar = function () {\n",
       "    var fig = this;\n",
       "\n",
       "    var toolbar = document.createElement('div');\n",
       "    toolbar.classList = 'mpl-toolbar';\n",
       "    this.root.appendChild(toolbar);\n",
       "\n",
       "    function on_click_closure(name) {\n",
       "        return function (_event) {\n",
       "            return fig.toolbar_button_onclick(name);\n",
       "        };\n",
       "    }\n",
       "\n",
       "    function on_mouseover_closure(tooltip) {\n",
       "        return function (event) {\n",
       "            if (!event.currentTarget.disabled) {\n",
       "                return fig.toolbar_button_onmouseover(tooltip);\n",
       "            }\n",
       "        };\n",
       "    }\n",
       "\n",
       "    fig.buttons = {};\n",
       "    var buttonGroup = document.createElement('div');\n",
       "    buttonGroup.classList = 'mpl-button-group';\n",
       "    for (var toolbar_ind in mpl.toolbar_items) {\n",
       "        var name = mpl.toolbar_items[toolbar_ind][0];\n",
       "        var tooltip = mpl.toolbar_items[toolbar_ind][1];\n",
       "        var image = mpl.toolbar_items[toolbar_ind][2];\n",
       "        var method_name = mpl.toolbar_items[toolbar_ind][3];\n",
       "\n",
       "        if (!name) {\n",
       "            /* Instead of a spacer, we start a new button group. */\n",
       "            if (buttonGroup.hasChildNodes()) {\n",
       "                toolbar.appendChild(buttonGroup);\n",
       "            }\n",
       "            buttonGroup = document.createElement('div');\n",
       "            buttonGroup.classList = 'mpl-button-group';\n",
       "            continue;\n",
       "        }\n",
       "\n",
       "        var button = (fig.buttons[name] = document.createElement('button'));\n",
       "        button.classList = 'mpl-widget';\n",
       "        button.setAttribute('role', 'button');\n",
       "        button.setAttribute('aria-disabled', 'false');\n",
       "        button.addEventListener('click', on_click_closure(method_name));\n",
       "        button.addEventListener('mouseover', on_mouseover_closure(tooltip));\n",
       "\n",
       "        var icon_img = document.createElement('img');\n",
       "        icon_img.src = '_images/' + image + '.png';\n",
       "        icon_img.srcset = '_images/' + image + '_large.png 2x';\n",
       "        icon_img.alt = tooltip;\n",
       "        button.appendChild(icon_img);\n",
       "\n",
       "        buttonGroup.appendChild(button);\n",
       "    }\n",
       "\n",
       "    if (buttonGroup.hasChildNodes()) {\n",
       "        toolbar.appendChild(buttonGroup);\n",
       "    }\n",
       "\n",
       "    var fmt_picker = document.createElement('select');\n",
       "    fmt_picker.classList = 'mpl-widget';\n",
       "    toolbar.appendChild(fmt_picker);\n",
       "    this.format_dropdown = fmt_picker;\n",
       "\n",
       "    for (var ind in mpl.extensions) {\n",
       "        var fmt = mpl.extensions[ind];\n",
       "        var option = document.createElement('option');\n",
       "        option.selected = fmt === mpl.default_extension;\n",
       "        option.innerHTML = fmt;\n",
       "        fmt_picker.appendChild(option);\n",
       "    }\n",
       "\n",
       "    var status_bar = document.createElement('span');\n",
       "    status_bar.classList = 'mpl-message';\n",
       "    toolbar.appendChild(status_bar);\n",
       "    this.message = status_bar;\n",
       "};\n",
       "\n",
       "mpl.figure.prototype.request_resize = function (x_pixels, y_pixels) {\n",
       "    // Request matplotlib to resize the figure. Matplotlib will then trigger a resize in the client,\n",
       "    // which will in turn request a refresh of the image.\n",
       "    this.send_message('resize', { width: x_pixels, height: y_pixels });\n",
       "};\n",
       "\n",
       "mpl.figure.prototype.send_message = function (type, properties) {\n",
       "    properties['type'] = type;\n",
       "    properties['figure_id'] = this.id;\n",
       "    this.ws.send(JSON.stringify(properties));\n",
       "};\n",
       "\n",
       "mpl.figure.prototype.send_draw_message = function () {\n",
       "    if (!this.waiting) {\n",
       "        this.waiting = true;\n",
       "        this.ws.send(JSON.stringify({ type: 'draw', figure_id: this.id }));\n",
       "    }\n",
       "};\n",
       "\n",
       "mpl.figure.prototype.handle_save = function (fig, _msg) {\n",
       "    var format_dropdown = fig.format_dropdown;\n",
       "    var format = format_dropdown.options[format_dropdown.selectedIndex].value;\n",
       "    fig.ondownload(fig, format);\n",
       "};\n",
       "\n",
       "mpl.figure.prototype.handle_resize = function (fig, msg) {\n",
       "    var size = msg['size'];\n",
       "    if (size[0] !== fig.canvas.width || size[1] !== fig.canvas.height) {\n",
       "        fig._resize_canvas(size[0], size[1], msg['forward']);\n",
       "        fig.send_message('refresh', {});\n",
       "    }\n",
       "};\n",
       "\n",
       "mpl.figure.prototype.handle_rubberband = function (fig, msg) {\n",
       "    var x0 = msg['x0'] / fig.ratio;\n",
       "    var y0 = (fig.canvas.height - msg['y0']) / fig.ratio;\n",
       "    var x1 = msg['x1'] / fig.ratio;\n",
       "    var y1 = (fig.canvas.height - msg['y1']) / fig.ratio;\n",
       "    x0 = Math.floor(x0) + 0.5;\n",
       "    y0 = Math.floor(y0) + 0.5;\n",
       "    x1 = Math.floor(x1) + 0.5;\n",
       "    y1 = Math.floor(y1) + 0.5;\n",
       "    var min_x = Math.min(x0, x1);\n",
       "    var min_y = Math.min(y0, y1);\n",
       "    var width = Math.abs(x1 - x0);\n",
       "    var height = Math.abs(y1 - y0);\n",
       "\n",
       "    fig.rubberband_context.clearRect(\n",
       "        0,\n",
       "        0,\n",
       "        fig.canvas.width / fig.ratio,\n",
       "        fig.canvas.height / fig.ratio\n",
       "    );\n",
       "\n",
       "    fig.rubberband_context.strokeRect(min_x, min_y, width, height);\n",
       "};\n",
       "\n",
       "mpl.figure.prototype.handle_figure_label = function (fig, msg) {\n",
       "    // Updates the figure title.\n",
       "    fig.header.textContent = msg['label'];\n",
       "};\n",
       "\n",
       "mpl.figure.prototype.handle_cursor = function (fig, msg) {\n",
       "    fig.rubberband_canvas.style.cursor = msg['cursor'];\n",
       "};\n",
       "\n",
       "mpl.figure.prototype.handle_message = function (fig, msg) {\n",
       "    fig.message.textContent = msg['message'];\n",
       "};\n",
       "\n",
       "mpl.figure.prototype.handle_draw = function (fig, _msg) {\n",
       "    // Request the server to send over a new figure.\n",
       "    fig.send_draw_message();\n",
       "};\n",
       "\n",
       "mpl.figure.prototype.handle_image_mode = function (fig, msg) {\n",
       "    fig.image_mode = msg['mode'];\n",
       "};\n",
       "\n",
       "mpl.figure.prototype.handle_history_buttons = function (fig, msg) {\n",
       "    for (var key in msg) {\n",
       "        if (!(key in fig.buttons)) {\n",
       "            continue;\n",
       "        }\n",
       "        fig.buttons[key].disabled = !msg[key];\n",
       "        fig.buttons[key].setAttribute('aria-disabled', !msg[key]);\n",
       "    }\n",
       "};\n",
       "\n",
       "mpl.figure.prototype.handle_navigate_mode = function (fig, msg) {\n",
       "    if (msg['mode'] === 'PAN') {\n",
       "        fig.buttons['Pan'].classList.add('active');\n",
       "        fig.buttons['Zoom'].classList.remove('active');\n",
       "    } else if (msg['mode'] === 'ZOOM') {\n",
       "        fig.buttons['Pan'].classList.remove('active');\n",
       "        fig.buttons['Zoom'].classList.add('active');\n",
       "    } else {\n",
       "        fig.buttons['Pan'].classList.remove('active');\n",
       "        fig.buttons['Zoom'].classList.remove('active');\n",
       "    }\n",
       "};\n",
       "\n",
       "mpl.figure.prototype.updated_canvas_event = function () {\n",
       "    // Called whenever the canvas gets updated.\n",
       "    this.send_message('ack', {});\n",
       "};\n",
       "\n",
       "// A function to construct a web socket function for onmessage handling.\n",
       "// Called in the figure constructor.\n",
       "mpl.figure.prototype._make_on_message_function = function (fig) {\n",
       "    return function socket_on_message(evt) {\n",
       "        if (evt.data instanceof Blob) {\n",
       "            var img = evt.data;\n",
       "            if (img.type !== 'image/png') {\n",
       "                /* FIXME: We get \"Resource interpreted as Image but\n",
       "                 * transferred with MIME type text/plain:\" errors on\n",
       "                 * Chrome.  But how to set the MIME type?  It doesn't seem\n",
       "                 * to be part of the websocket stream */\n",
       "                img.type = 'image/png';\n",
       "            }\n",
       "\n",
       "            /* Free the memory for the previous frames */\n",
       "            if (fig.imageObj.src) {\n",
       "                (window.URL || window.webkitURL).revokeObjectURL(\n",
       "                    fig.imageObj.src\n",
       "                );\n",
       "            }\n",
       "\n",
       "            fig.imageObj.src = (window.URL || window.webkitURL).createObjectURL(\n",
       "                img\n",
       "            );\n",
       "            fig.updated_canvas_event();\n",
       "            fig.waiting = false;\n",
       "            return;\n",
       "        } else if (\n",
       "            typeof evt.data === 'string' &&\n",
       "            evt.data.slice(0, 21) === 'data:image/png;base64'\n",
       "        ) {\n",
       "            fig.imageObj.src = evt.data;\n",
       "            fig.updated_canvas_event();\n",
       "            fig.waiting = false;\n",
       "            return;\n",
       "        }\n",
       "\n",
       "        var msg = JSON.parse(evt.data);\n",
       "        var msg_type = msg['type'];\n",
       "\n",
       "        // Call the  \"handle_{type}\" callback, which takes\n",
       "        // the figure and JSON message as its only arguments.\n",
       "        try {\n",
       "            var callback = fig['handle_' + msg_type];\n",
       "        } catch (e) {\n",
       "            console.log(\n",
       "                \"No handler for the '\" + msg_type + \"' message type: \",\n",
       "                msg\n",
       "            );\n",
       "            return;\n",
       "        }\n",
       "\n",
       "        if (callback) {\n",
       "            try {\n",
       "                // console.log(\"Handling '\" + msg_type + \"' message: \", msg);\n",
       "                callback(fig, msg);\n",
       "            } catch (e) {\n",
       "                console.log(\n",
       "                    \"Exception inside the 'handler_\" + msg_type + \"' callback:\",\n",
       "                    e,\n",
       "                    e.stack,\n",
       "                    msg\n",
       "                );\n",
       "            }\n",
       "        }\n",
       "    };\n",
       "};\n",
       "\n",
       "// from https://stackoverflow.com/questions/1114465/getting-mouse-location-in-canvas\n",
       "mpl.findpos = function (e) {\n",
       "    //this section is from http://www.quirksmode.org/js/events_properties.html\n",
       "    var targ;\n",
       "    if (!e) {\n",
       "        e = window.event;\n",
       "    }\n",
       "    if (e.target) {\n",
       "        targ = e.target;\n",
       "    } else if (e.srcElement) {\n",
       "        targ = e.srcElement;\n",
       "    }\n",
       "    if (targ.nodeType === 3) {\n",
       "        // defeat Safari bug\n",
       "        targ = targ.parentNode;\n",
       "    }\n",
       "\n",
       "    // pageX,Y are the mouse positions relative to the document\n",
       "    var boundingRect = targ.getBoundingClientRect();\n",
       "    var x = e.pageX - (boundingRect.left + document.body.scrollLeft);\n",
       "    var y = e.pageY - (boundingRect.top + document.body.scrollTop);\n",
       "\n",
       "    return { x: x, y: y };\n",
       "};\n",
       "\n",
       "/*\n",
       " * return a copy of an object with only non-object keys\n",
       " * we need this to avoid circular references\n",
       " * https://stackoverflow.com/a/24161582/3208463\n",
       " */\n",
       "function simpleKeys(original) {\n",
       "    return Object.keys(original).reduce(function (obj, key) {\n",
       "        if (typeof original[key] !== 'object') {\n",
       "            obj[key] = original[key];\n",
       "        }\n",
       "        return obj;\n",
       "    }, {});\n",
       "}\n",
       "\n",
       "mpl.figure.prototype.mouse_event = function (event, name) {\n",
       "    var canvas_pos = mpl.findpos(event);\n",
       "\n",
       "    if (name === 'button_press') {\n",
       "        this.canvas.focus();\n",
       "        this.canvas_div.focus();\n",
       "    }\n",
       "\n",
       "    var x = canvas_pos.x * this.ratio;\n",
       "    var y = canvas_pos.y * this.ratio;\n",
       "\n",
       "    this.send_message(name, {\n",
       "        x: x,\n",
       "        y: y,\n",
       "        button: event.button,\n",
       "        step: event.step,\n",
       "        guiEvent: simpleKeys(event),\n",
       "    });\n",
       "\n",
       "    /* This prevents the web browser from automatically changing to\n",
       "     * the text insertion cursor when the button is pressed.  We want\n",
       "     * to control all of the cursor setting manually through the\n",
       "     * 'cursor' event from matplotlib */\n",
       "    event.preventDefault();\n",
       "    return false;\n",
       "};\n",
       "\n",
       "mpl.figure.prototype._key_event_extra = function (_event, _name) {\n",
       "    // Handle any extra behaviour associated with a key event\n",
       "};\n",
       "\n",
       "mpl.figure.prototype.key_event = function (event, name) {\n",
       "    // Prevent repeat events\n",
       "    if (name === 'key_press') {\n",
       "        if (event.key === this._key) {\n",
       "            return;\n",
       "        } else {\n",
       "            this._key = event.key;\n",
       "        }\n",
       "    }\n",
       "    if (name === 'key_release') {\n",
       "        this._key = null;\n",
       "    }\n",
       "\n",
       "    var value = '';\n",
       "    if (event.ctrlKey && event.key !== 'Control') {\n",
       "        value += 'ctrl+';\n",
       "    }\n",
       "    else if (event.altKey && event.key !== 'Alt') {\n",
       "        value += 'alt+';\n",
       "    }\n",
       "    else if (event.shiftKey && event.key !== 'Shift') {\n",
       "        value += 'shift+';\n",
       "    }\n",
       "\n",
       "    value += 'k' + event.key;\n",
       "\n",
       "    this._key_event_extra(event, name);\n",
       "\n",
       "    this.send_message(name, { key: value, guiEvent: simpleKeys(event) });\n",
       "    return false;\n",
       "};\n",
       "\n",
       "mpl.figure.prototype.toolbar_button_onclick = function (name) {\n",
       "    if (name === 'download') {\n",
       "        this.handle_save(this, null);\n",
       "    } else {\n",
       "        this.send_message('toolbar_button', { name: name });\n",
       "    }\n",
       "};\n",
       "\n",
       "mpl.figure.prototype.toolbar_button_onmouseover = function (tooltip) {\n",
       "    this.message.textContent = tooltip;\n",
       "};\n",
       "\n",
       "///////////////// REMAINING CONTENT GENERATED BY embed_js.py /////////////////\n",
       "// prettier-ignore\n",
       "var _JSXTOOLS_RESIZE_OBSERVER=function(A){var t,i=new WeakMap,n=new WeakMap,a=new WeakMap,r=new WeakMap,o=new Set;function s(e){if(!(this instanceof s))throw new TypeError(\"Constructor requires 'new' operator\");i.set(this,e)}function h(){throw new TypeError(\"Function is not a constructor\")}function c(e,t,i,n){e=0 in arguments?Number(arguments[0]):0,t=1 in arguments?Number(arguments[1]):0,i=2 in arguments?Number(arguments[2]):0,n=3 in arguments?Number(arguments[3]):0,this.right=(this.x=this.left=e)+(this.width=i),this.bottom=(this.y=this.top=t)+(this.height=n),Object.freeze(this)}function d(){t=requestAnimationFrame(d);var s=new WeakMap,p=new Set;o.forEach((function(t){r.get(t).forEach((function(i){var r=t instanceof window.SVGElement,o=a.get(t),d=r?0:parseFloat(o.paddingTop),f=r?0:parseFloat(o.paddingRight),l=r?0:parseFloat(o.paddingBottom),u=r?0:parseFloat(o.paddingLeft),g=r?0:parseFloat(o.borderTopWidth),m=r?0:parseFloat(o.borderRightWidth),w=r?0:parseFloat(o.borderBottomWidth),b=u+f,F=d+l,v=(r?0:parseFloat(o.borderLeftWidth))+m,W=g+w,y=r?0:t.offsetHeight-W-t.clientHeight,E=r?0:t.offsetWidth-v-t.clientWidth,R=b+v,z=F+W,M=r?t.width:parseFloat(o.width)-R-E,O=r?t.height:parseFloat(o.height)-z-y;if(n.has(t)){var k=n.get(t);if(k[0]===M&&k[1]===O)return}n.set(t,[M,O]);var S=Object.create(h.prototype);S.target=t,S.contentRect=new c(u,d,M,O),s.has(i)||(s.set(i,[]),p.add(i)),s.get(i).push(S)}))})),p.forEach((function(e){i.get(e).call(e,s.get(e),e)}))}return s.prototype.observe=function(i){if(i instanceof window.Element){r.has(i)||(r.set(i,new Set),o.add(i),a.set(i,window.getComputedStyle(i)));var n=r.get(i);n.has(this)||n.add(this),cancelAnimationFrame(t),t=requestAnimationFrame(d)}},s.prototype.unobserve=function(i){if(i instanceof window.Element&&r.has(i)){var n=r.get(i);n.has(this)&&(n.delete(this),n.size||(r.delete(i),o.delete(i))),n.size||r.delete(i),o.size||cancelAnimationFrame(t)}},A.DOMRectReadOnly=c,A.ResizeObserver=s,A.ResizeObserverEntry=h,A}; // eslint-disable-line\n",
       "mpl.toolbar_items = [[\"Home\", \"Reset original view\", \"fa fa-home icon-home\", \"home\"], [\"Back\", \"Back to previous view\", \"fa fa-arrow-left icon-arrow-left\", \"back\"], [\"Forward\", \"Forward to next view\", \"fa fa-arrow-right icon-arrow-right\", \"forward\"], [\"\", \"\", \"\", \"\"], [\"Pan\", \"Left button pans, Right button zooms\\nx/y fixes axis, CTRL fixes aspect\", \"fa fa-arrows icon-move\", \"pan\"], [\"Zoom\", \"Zoom to rectangle\\nx/y fixes axis\", \"fa fa-square-o icon-check-empty\", \"zoom\"], [\"\", \"\", \"\", \"\"], [\"Download\", \"Download plot\", \"fa fa-floppy-o icon-save\", \"download\"]];\n",
       "\n",
       "mpl.extensions = [\"eps\", \"jpeg\", \"pgf\", \"pdf\", \"png\", \"ps\", \"raw\", \"svg\", \"tif\"];\n",
       "\n",
       "mpl.default_extension = \"png\";/* global mpl */\n",
       "\n",
       "var comm_websocket_adapter = function (comm) {\n",
       "    // Create a \"websocket\"-like object which calls the given IPython comm\n",
       "    // object with the appropriate methods. Currently this is a non binary\n",
       "    // socket, so there is still some room for performance tuning.\n",
       "    var ws = {};\n",
       "\n",
       "    ws.binaryType = comm.kernel.ws.binaryType;\n",
       "    ws.readyState = comm.kernel.ws.readyState;\n",
       "    function updateReadyState(_event) {\n",
       "        if (comm.kernel.ws) {\n",
       "            ws.readyState = comm.kernel.ws.readyState;\n",
       "        } else {\n",
       "            ws.readyState = 3; // Closed state.\n",
       "        }\n",
       "    }\n",
       "    comm.kernel.ws.addEventListener('open', updateReadyState);\n",
       "    comm.kernel.ws.addEventListener('close', updateReadyState);\n",
       "    comm.kernel.ws.addEventListener('error', updateReadyState);\n",
       "\n",
       "    ws.close = function () {\n",
       "        comm.close();\n",
       "    };\n",
       "    ws.send = function (m) {\n",
       "        //console.log('sending', m);\n",
       "        comm.send(m);\n",
       "    };\n",
       "    // Register the callback with on_msg.\n",
       "    comm.on_msg(function (msg) {\n",
       "        //console.log('receiving', msg['content']['data'], msg);\n",
       "        var data = msg['content']['data'];\n",
       "        if (data['blob'] !== undefined) {\n",
       "            data = {\n",
       "                data: new Blob(msg['buffers'], { type: data['blob'] }),\n",
       "            };\n",
       "        }\n",
       "        // Pass the mpl event to the overridden (by mpl) onmessage function.\n",
       "        ws.onmessage(data);\n",
       "    });\n",
       "    return ws;\n",
       "};\n",
       "\n",
       "mpl.mpl_figure_comm = function (comm, msg) {\n",
       "    // This is the function which gets called when the mpl process\n",
       "    // starts-up an IPython Comm through the \"matplotlib\" channel.\n",
       "\n",
       "    var id = msg.content.data.id;\n",
       "    // Get hold of the div created by the display call when the Comm\n",
       "    // socket was opened in Python.\n",
       "    var element = document.getElementById(id);\n",
       "    var ws_proxy = comm_websocket_adapter(comm);\n",
       "\n",
       "    function ondownload(figure, _format) {\n",
       "        window.open(figure.canvas.toDataURL());\n",
       "    }\n",
       "\n",
       "    var fig = new mpl.figure(id, ws_proxy, ondownload, element);\n",
       "\n",
       "    // Call onopen now - mpl needs it, as it is assuming we've passed it a real\n",
       "    // web socket which is closed, not our websocket->open comm proxy.\n",
       "    ws_proxy.onopen();\n",
       "\n",
       "    fig.parent_element = element;\n",
       "    fig.cell_info = mpl.find_output_cell(\"<div id='\" + id + \"'></div>\");\n",
       "    if (!fig.cell_info) {\n",
       "        console.error('Failed to find cell for figure', id, fig);\n",
       "        return;\n",
       "    }\n",
       "    fig.cell_info[0].output_area.element.on(\n",
       "        'cleared',\n",
       "        { fig: fig },\n",
       "        fig._remove_fig_handler\n",
       "    );\n",
       "};\n",
       "\n",
       "mpl.figure.prototype.handle_close = function (fig, msg) {\n",
       "    var width = fig.canvas.width / fig.ratio;\n",
       "    fig.cell_info[0].output_area.element.off(\n",
       "        'cleared',\n",
       "        fig._remove_fig_handler\n",
       "    );\n",
       "    fig.resizeObserverInstance.unobserve(fig.canvas_div);\n",
       "\n",
       "    // Update the output cell to use the data from the current canvas.\n",
       "    fig.push_to_output();\n",
       "    var dataURL = fig.canvas.toDataURL();\n",
       "    // Re-enable the keyboard manager in IPython - without this line, in FF,\n",
       "    // the notebook keyboard shortcuts fail.\n",
       "    IPython.keyboard_manager.enable();\n",
       "    fig.parent_element.innerHTML =\n",
       "        '<img src=\"' + dataURL + '\" width=\"' + width + '\">';\n",
       "    fig.close_ws(fig, msg);\n",
       "};\n",
       "\n",
       "mpl.figure.prototype.close_ws = function (fig, msg) {\n",
       "    fig.send_message('closing', msg);\n",
       "    // fig.ws.close()\n",
       "};\n",
       "\n",
       "mpl.figure.prototype.push_to_output = function (_remove_interactive) {\n",
       "    // Turn the data on the canvas into data in the output cell.\n",
       "    var width = this.canvas.width / this.ratio;\n",
       "    var dataURL = this.canvas.toDataURL();\n",
       "    this.cell_info[1]['text/html'] =\n",
       "        '<img src=\"' + dataURL + '\" width=\"' + width + '\">';\n",
       "};\n",
       "\n",
       "mpl.figure.prototype.updated_canvas_event = function () {\n",
       "    // Tell IPython that the notebook contents must change.\n",
       "    IPython.notebook.set_dirty(true);\n",
       "    this.send_message('ack', {});\n",
       "    var fig = this;\n",
       "    // Wait a second, then push the new image to the DOM so\n",
       "    // that it is saved nicely (might be nice to debounce this).\n",
       "    setTimeout(function () {\n",
       "        fig.push_to_output();\n",
       "    }, 1000);\n",
       "};\n",
       "\n",
       "mpl.figure.prototype._init_toolbar = function () {\n",
       "    var fig = this;\n",
       "\n",
       "    var toolbar = document.createElement('div');\n",
       "    toolbar.classList = 'btn-toolbar';\n",
       "    this.root.appendChild(toolbar);\n",
       "\n",
       "    function on_click_closure(name) {\n",
       "        return function (_event) {\n",
       "            return fig.toolbar_button_onclick(name);\n",
       "        };\n",
       "    }\n",
       "\n",
       "    function on_mouseover_closure(tooltip) {\n",
       "        return function (event) {\n",
       "            if (!event.currentTarget.disabled) {\n",
       "                return fig.toolbar_button_onmouseover(tooltip);\n",
       "            }\n",
       "        };\n",
       "    }\n",
       "\n",
       "    fig.buttons = {};\n",
       "    var buttonGroup = document.createElement('div');\n",
       "    buttonGroup.classList = 'btn-group';\n",
       "    var button;\n",
       "    for (var toolbar_ind in mpl.toolbar_items) {\n",
       "        var name = mpl.toolbar_items[toolbar_ind][0];\n",
       "        var tooltip = mpl.toolbar_items[toolbar_ind][1];\n",
       "        var image = mpl.toolbar_items[toolbar_ind][2];\n",
       "        var method_name = mpl.toolbar_items[toolbar_ind][3];\n",
       "\n",
       "        if (!name) {\n",
       "            /* Instead of a spacer, we start a new button group. */\n",
       "            if (buttonGroup.hasChildNodes()) {\n",
       "                toolbar.appendChild(buttonGroup);\n",
       "            }\n",
       "            buttonGroup = document.createElement('div');\n",
       "            buttonGroup.classList = 'btn-group';\n",
       "            continue;\n",
       "        }\n",
       "\n",
       "        button = fig.buttons[name] = document.createElement('button');\n",
       "        button.classList = 'btn btn-default';\n",
       "        button.href = '#';\n",
       "        button.title = name;\n",
       "        button.innerHTML = '<i class=\"fa ' + image + ' fa-lg\"></i>';\n",
       "        button.addEventListener('click', on_click_closure(method_name));\n",
       "        button.addEventListener('mouseover', on_mouseover_closure(tooltip));\n",
       "        buttonGroup.appendChild(button);\n",
       "    }\n",
       "\n",
       "    if (buttonGroup.hasChildNodes()) {\n",
       "        toolbar.appendChild(buttonGroup);\n",
       "    }\n",
       "\n",
       "    // Add the status bar.\n",
       "    var status_bar = document.createElement('span');\n",
       "    status_bar.classList = 'mpl-message pull-right';\n",
       "    toolbar.appendChild(status_bar);\n",
       "    this.message = status_bar;\n",
       "\n",
       "    // Add the close button to the window.\n",
       "    var buttongrp = document.createElement('div');\n",
       "    buttongrp.classList = 'btn-group inline pull-right';\n",
       "    button = document.createElement('button');\n",
       "    button.classList = 'btn btn-mini btn-primary';\n",
       "    button.href = '#';\n",
       "    button.title = 'Stop Interaction';\n",
       "    button.innerHTML = '<i class=\"fa fa-power-off icon-remove icon-large\"></i>';\n",
       "    button.addEventListener('click', function (_evt) {\n",
       "        fig.handle_close(fig, {});\n",
       "    });\n",
       "    button.addEventListener(\n",
       "        'mouseover',\n",
       "        on_mouseover_closure('Stop Interaction')\n",
       "    );\n",
       "    buttongrp.appendChild(button);\n",
       "    var titlebar = this.root.querySelector('.ui-dialog-titlebar');\n",
       "    titlebar.insertBefore(buttongrp, titlebar.firstChild);\n",
       "};\n",
       "\n",
       "mpl.figure.prototype._remove_fig_handler = function (event) {\n",
       "    var fig = event.data.fig;\n",
       "    if (event.target !== this) {\n",
       "        // Ignore bubbled events from children.\n",
       "        return;\n",
       "    }\n",
       "    fig.close_ws(fig, {});\n",
       "};\n",
       "\n",
       "mpl.figure.prototype._root_extra_style = function (el) {\n",
       "    el.style.boxSizing = 'content-box'; // override notebook setting of border-box.\n",
       "};\n",
       "\n",
       "mpl.figure.prototype._canvas_extra_style = function (el) {\n",
       "    // this is important to make the div 'focusable\n",
       "    el.setAttribute('tabindex', 0);\n",
       "    // reach out to IPython and tell the keyboard manager to turn it's self\n",
       "    // off when our div gets focus\n",
       "\n",
       "    // location in version 3\n",
       "    if (IPython.notebook.keyboard_manager) {\n",
       "        IPython.notebook.keyboard_manager.register_events(el);\n",
       "    } else {\n",
       "        // location in version 2\n",
       "        IPython.keyboard_manager.register_events(el);\n",
       "    }\n",
       "};\n",
       "\n",
       "mpl.figure.prototype._key_event_extra = function (event, _name) {\n",
       "    // Check for shift+enter\n",
       "    if (event.shiftKey && event.which === 13) {\n",
       "        this.canvas_div.blur();\n",
       "        // select the cell after this one\n",
       "        var index = IPython.notebook.find_cell_index(this.cell_info[0]);\n",
       "        IPython.notebook.select(index + 1);\n",
       "    }\n",
       "};\n",
       "\n",
       "mpl.figure.prototype.handle_save = function (fig, _msg) {\n",
       "    fig.ondownload(fig, null);\n",
       "};\n",
       "\n",
       "mpl.find_output_cell = function (html_output) {\n",
       "    // Return the cell and output element which can be found *uniquely* in the notebook.\n",
       "    // Note - this is a bit hacky, but it is done because the \"notebook_saving.Notebook\"\n",
       "    // IPython event is triggered only after the cells have been serialised, which for\n",
       "    // our purposes (turning an active figure into a static one), is too late.\n",
       "    var cells = IPython.notebook.get_cells();\n",
       "    var ncells = cells.length;\n",
       "    for (var i = 0; i < ncells; i++) {\n",
       "        var cell = cells[i];\n",
       "        if (cell.cell_type === 'code') {\n",
       "            for (var j = 0; j < cell.output_area.outputs.length; j++) {\n",
       "                var data = cell.output_area.outputs[j];\n",
       "                if (data.data) {\n",
       "                    // IPython >= 3 moved mimebundle to data attribute of output\n",
       "                    data = data.data;\n",
       "                }\n",
       "                if (data['text/html'] === html_output) {\n",
       "                    return [cell, data, j];\n",
       "                }\n",
       "            }\n",
       "        }\n",
       "    }\n",
       "};\n",
       "\n",
       "// Register the function which deals with the matplotlib target/channel.\n",
       "// The kernel may be null if the page has been refreshed.\n",
       "if (IPython.notebook.kernel !== null) {\n",
       "    IPython.notebook.kernel.comm_manager.register_target(\n",
       "        'matplotlib',\n",
       "        mpl.mpl_figure_comm\n",
       "    );\n",
       "}\n"
      ],
      "text/plain": [
       "<IPython.core.display.Javascript object>"
      ]
     },
     "metadata": {},
     "output_type": "display_data"
    },
    {
     "data": {
      "text/html": [
       "<img src=\"data:image/png;base64,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\" width=\"640\">"
      ],
      "text/plain": [
       "<IPython.core.display.HTML object>"
      ]
     },
     "metadata": {},
     "output_type": "display_data"
    },
    {
     "name": "stdout",
     "output_type": "stream",
     "text": [
      "FNN embedding Dimension:  2\n"
     ]
    }
   ],
   "source": [
    "from teaspoon.parameter_selection.FNN_n import FNN_n\n",
    "import teaspoon.MakeData.DynSysLib.DynSysLib as DSL\n",
    "t, ts = DSL.DynamicSystems('driven_pendulum', 'periodic')\n",
    "# Use PAMI delay 13\n",
    "perc_FNN, n = FNN_n(ts[0], 13, plotting = True)\n",
    "print('FNN embedding Dimension: ',n)"
   ]
  },
  {
   "cell_type": "markdown",
   "id": "fd8b852d",
   "metadata": {
    "slideshow": {
     "slide_type": "slide"
    }
   },
   "source": [
    "# False Nearest Strands$^8$\n",
    "\n",
    "- New functionality being added to teaspoon soon. \n",
    "- Useful for systems with significant noise.  "
   ]
  },
  {
   "cell_type": "markdown",
   "id": "258b6ab8",
   "metadata": {
    "slideshow": {
     "slide_type": "fragment"
    }
   },
   "source": [
    "- Assigns nearest neighbors to groups called strands based on successive nearest neighbor indices."
   ]
  },
  {
   "cell_type": "markdown",
   "id": "4e41b841",
   "metadata": {
    "slideshow": {
     "slide_type": "fragment"
    }
   },
   "source": [
    "- False nearest strand if $\\left<d_{m+1}(i,j)\\right>_k > s\\sigma_x$ ($\\sigma_x$ - Standard Deviation, $s$ is threshold we use 0.5 by default)"
   ]
  },
  {
   "cell_type": "markdown",
   "id": "d0206b82",
   "metadata": {
    "slideshow": {
     "slide_type": "fragment"
    }
   },
   "source": [
    "- The $k^{th}$ strand: $S_k=\\left<d_{m+1}(i,j)\\right>_k = \\frac{1}{||S_k||}\\sum_{i\\in S_k}d_{m+1}(i,j)$"
   ]
  },
  {
   "cell_type": "markdown",
   "id": "2194ca1d",
   "metadata": {
    "slideshow": {
     "slide_type": "fragment"
    }
   },
   "source": [
    "### Teaspoon:\n",
    "\n",
    "Set:\n",
    "\n",
    "```python\n",
    "strands=True\n",
    "```\n",
    "in\n",
    "```python\n",
    "teaspoon.parameter_selection.FNN_n.FNN_n(ts, tau, maxDim=10, plotting=False, Rtol=15, Atol=2, threshold=10)\n",
    "```\n"
   ]
  },
  {
   "cell_type": "markdown",
   "id": "4137b4ea",
   "metadata": {
    "slideshow": {
     "slide_type": "slide"
    }
   },
   "source": [
    "# Parameter Selection - $n$\n",
    "\n",
    "### Dimension$^1$\n",
    "\n",
    "![](figures/2-1_dimension_methods_mspe.png)"
   ]
  },
  {
   "cell_type": "markdown",
   "id": "32d5a8e9",
   "metadata": {
    "slideshow": {
     "slide_type": "slide"
    }
   },
   "source": [
    "# Multiscale Permutation Entropy - $n$\n",
    "\n",
    "- Normalize MPE as $h'_n = \\frac{1}{n-1}H(n)$\n",
    "- $n$ with largest $h'(n)$ is sufficient dimension$^9$"
   ]
  },
  {
   "cell_type": "markdown",
   "id": "ca5d1c34",
   "metadata": {
    "slideshow": {
     "slide_type": "fragment"
    }
   },
   "source": [
    "- <font color=red>Warning: Requires estimating $\\tau$</font>"
   ]
  },
  {
   "cell_type": "markdown",
   "id": "93eca324",
   "metadata": {
    "slideshow": {
     "slide_type": "fragment"
    }
   },
   "source": [
    "### Teaspoon function:\n",
    "\n",
    "```python\n",
    "teaspoon.parameter_selection.MsPE.MsPE_n(time_series, delay, m_start=3, m_end=7, plotting=False)\n",
    "```"
   ]
  },
  {
   "cell_type": "markdown",
   "id": "baead0ac",
   "metadata": {
    "slideshow": {
     "slide_type": "slide"
    }
   },
   "source": [
    "# Multiscale Permutation Entropy - $n$\n",
    "\n",
    "### Example:"
   ]
  },
  {
   "cell_type": "code",
   "execution_count": 13,
   "id": "7d19e014",
   "metadata": {},
   "outputs": [
    {
     "data": {
      "text/plain": [
       "<Figure size 640x480 with 0 Axes>"
      ]
     },
     "metadata": {},
     "output_type": "display_data"
    },
    {
     "data": {
      "image/png": "[encoded data removed]",
      "text/plain": [
       "<Figure size 800x300 with 1 Axes>"
      ]
     },
     "metadata": {},
     "output_type": "display_data"
    },
    {
     "name": "stdout",
     "output_type": "stream",
     "text": [
      "Embedding Dimension:   4\n"
     ]
    }
   ],
   "source": [
    "from teaspoon.parameter_selection.MsPE import MsPE_n,  MsPE_tau\n",
    "import teaspoon.MakeData.DynSysLib.DynSysLib as DSL\n",
    "t, ts = DSL.DynamicSystems('driven_pendulum', 'periodic')\n",
    "\n",
    "tau = int(MsPE_tau(ts[0], plotting = False))\n",
    "n = MsPE_n(ts[0], tau, 3, 7, plotting = True)\n",
    "print('Embedding Dimension:   '+str(n))"
   ]
  },
  {
   "cell_type": "markdown",
   "id": "e1cd51e1",
   "metadata": {
    "slideshow": {
     "slide_type": "slide"
    }
   },
   "source": [
    "\n",
    "# **Exercise:** Estimate the embedding _dimension_ for the periodic and chaotic _Rossler_ system using the five methods discussed.\n",
    "\n",
    "### Explore the embedded attractor point cloud persistence diagrams and how they compare to the full system persistence diagrams.\n",
    "\n",
    "- See **[2-1-Wkst-Embedding.ipynb](2-1-Wkst-Embedding.ipynb)** part 2.\n",
    "\n",
    "![](figures/2-1_dimension_methods.png)"
   ]
  },
  {
   "cell_type": "markdown",
   "id": "63d235ce",
   "metadata": {
    "slideshow": {
     "slide_type": "slide"
    }
   },
   "source": [
    "# Thank you!\n",
    "\n",
    "\n",
    "- These parameter selection methods are covered in more detail in our paper:\n",
    "\n",
    "_Myers, A., and F. A. Khasawneh. \"On the automatic parameter selection for permutation entropy.\" Chaos (Woodbury, NY) 30.3 (2020): 033130-033130._\n",
    "\n",
    "![](figures/2-1_takens_embedding_gif_3d.gif)"
   ]
  },
  {
   "cell_type": "markdown",
   "id": "6c770b08",
   "metadata": {
    "slideshow": {
     "slide_type": "notes"
    }
   },
   "source": [
    "# References\n",
    "\n",
    "1. Myers, A., & Khasawneh, F. A. (2020). On the automatic parameter selection for permutation entropy<? A3B2 show [editpick]?>. Chaos: An Interdisciplinary Journal of Nonlinear Science, 30(3), 033130.\n",
    "\n",
    "2. Melosik, Michał, and W. Marszalek. \"On the 0/1 test for chaos in continuous systems.\" Bulletin of the Polish Academy of Sciences: Technical Sciences 3 (2016).\n",
    "\n",
    "3. Landau, H. J. \"Sampling, data transmission, and the Nyquist rate.\" Proceedings of the IEEE 55.10 (1967): 1701-1706.\n",
    "\n",
    "4. Zunino, Luciano, et al. \"Permutation-information-theory approach to unveil delay dynamics from time-series analysis.\" Physical Review E 82.4 (2010): 046212.\n",
    "\n",
    "5. Kantz, Holger, and Thomas Schreiber. Nonlinear time series analysis. Vol. 7. Cambridge university press, 2004.\n",
    "\n",
    "6. Shannon, Claude E. \"A mathematical theory of communication.\" The Bell system technical journal 27.3 (1948): 379-423.\n",
    "\n",
    "7. Liang, Zhenhu, et al. \"Permutation auto-mutual information of electroencephalogram in anesthesia.\" Journal of neural engineering 10.2 (2013): 026004.\n",
    "\n",
    "8. Chelidze, David. \"Reliable estimation of minimum embedding dimension through statistical analysis of nearest neighbors.\" Journal of Computational and Nonlinear Dynamics 12.5 (2017).\n",
    "\n",
    "9. Riedl, Maik, Andreas Müller, and Niels Wessel. \"Practical considerations of permutation entropy: A tutorial review.\" The European Physical Journal Special Topics 222.2 (2013): 249-262."
   ]
  }
 ],
 "metadata": {
  "celltoolbar": "Slideshow",
  "center": "false",
  "kernelspec": {
   "display_name": "Python 3 (ipykernel)",
   "language": "python",
   "name": "python3"
  },
  "language_info": {
   "codemirror_mode": {
    "name": "ipython",
    "version": 3
   },
   "file_extension": ".py",
   "mimetype": "text/x-python",
   "name": "python",
   "nbconvert_exporter": "python",
   "pygments_lexer": "ipython3",
   "version": "3.9.7"
  }
 },
 "nbformat": 4,
 "nbformat_minor": 5
}
