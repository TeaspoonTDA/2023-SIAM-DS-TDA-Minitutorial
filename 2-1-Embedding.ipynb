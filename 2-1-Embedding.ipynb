{
 "cells": [
  {
   "cell_type": "code",
   "execution_count": 1,
   "id": "488b718d",
   "metadata": {
    "slideshow": {
     "slide_type": "skip"
    }
   },
   "outputs": [
    {
     "data": {
      "text/html": [
       "    \n",
       "<!-- reveal.js CSS theme and local overrides -->\n",
       "<link rel=\"stylesheet\" href=\"https://fonts.googleapis.com/css?family=Open+Sans:300,400,600,700&amp;lang=en\"/>\n",
       "<link rel=\"stylesheet\" href=\"https://fonts.googleapis.com/css?family=Merriweather:italic&amp;lang=en\"/>\n",
       "<link rel=\"stylesheet\" href=\"stylefiles/presentation.css\"/> \n"
      ],
      "text/plain": [
       "<IPython.core.display.HTML object>"
      ]
     },
     "metadata": {},
     "output_type": "display_data"
    }
   ],
   "source": [
    "%%HTML\n",
    "    \n",
    "<!-- reveal.js CSS theme and local overrides -->\n",
    "<link rel=\"stylesheet\" href=\"https://fonts.googleapis.com/css?family=Open+Sans:300,400,600,700&amp;lang=en\"/>\n",
    "<link rel=\"stylesheet\" href=\"https://fonts.googleapis.com/css?family=Merriweather:italic&amp;lang=en\"/>\n",
    "<link rel=\"stylesheet\" href=\"stylefiles/presentation.css\"/> "
   ]
  },
  {
   "cell_type": "code",
   "execution_count": 2,
   "id": "e78e4fda",
   "metadata": {
    "slideshow": {
     "slide_type": "skip"
    }
   },
   "outputs": [],
   "source": [
    "import matplotlib.pyplot as plt\n",
    "import numpy as np\n",
    "import matplotlib.animation as anim\n",
    "import matplotlib.gridspec as gridspec\n",
    "from IPython.display import HTML\n",
    "from teaspoon.SP.tsa_tools import takens\n",
    "import teaspoon.MakeData.DynSysLib.DynSysLib as DSL\n",
    "def step_2d_takens(i):\n",
    "    system = 'driven_pendulum'\n",
    "    dynamic_state = 'periodic'\n",
    "    t, ts = DSL.DynamicSystems(system, dynamic_state)\n",
    "    embedded_ts = takens(ts[0], n = 2, tau = i)\n",
    "    data.set_data(embedded_ts.T[0], embedded_ts.T[1])\n",
    "    true.set_data(ts[0], ts[1])\n",
    "    \n",
    "    ax.set_title(rf'$\\tau$={i}')\n",
    "    ax.set_xlabel(r'$\\theta$')\n",
    "    ax.set_ylabel(r'$\\dot{\\theta}}$')\n",
    "    ax.legend()\n",
    "    \n",
    "    plt.tight_layout()"
   ]
  },
  {
   "cell_type": "markdown",
   "id": "f5789fad",
   "metadata": {
    "slideshow": {
     "slide_type": "slide"
    }
   },
   "source": [
    "<section id=\"title-slide\"> \n",
    "    <br><br><br><h1><i>Module 1: Time Delay Embedding and Attractor Reconstruction</i></h1>\n",
    "    <h3><i>Methods for Automatically Selecting Embedding Parameters</i></h3>\n",
    "    <br><br>\n",
    "    <h4><i>5/15/2023</i></h4>\n",
    "    <br><br>\n",
    "    <div id='title-slide' class=\"pull-right\"><img id=\"logo\" src=\"figures/msu_seal.png\" width=\"100%\" height=\"100%\"></div>\n",
    "    <div class=\"uu_title_container\">\n",
    "        <smaller>\n",
    "        <div>\n",
    "            <b>Presented by:</b> Your Name\n",
    "            <br><br><br><br>\n",
    "            <b>Topological Signal Processing for Dynamical Systems</b><br>\n",
    "            SIAM-DS Minitutorial 2023\n",
    "        </div>  \n",
    "        </smaller>\n",
    "    </div><br>\n",
    "    <div class='footer'>\n",
    "        Michigan State University\n",
    "    </div>\n",
    "</section>"
   ]
  },
  {
   "cell_type": "markdown",
   "id": "eaee8f1d",
   "metadata": {
    "slideshow": {
     "slide_type": "slide"
    }
   },
   "source": [
    "# Big picture intro slide "
   ]
  },
  {
   "cell_type": "markdown",
   "id": "6cbd941c",
   "metadata": {
    "slideshow": {
     "slide_type": "slide"
    }
   },
   "source": [
    "<br/><br/><br/><br/><br/><br/><br/><br/>\n",
    "## Goals of this module\n",
    "\n",
    "\n",
    "- Understand how to embed a timeseries signal in higher dimensions.\n",
    "- Apply different methods for selecting delay and dimension for a timeseries embedding.\n"
   ]
  },
  {
   "cell_type": "markdown",
   "id": "125a196c",
   "metadata": {
    "slideshow": {
     "slide_type": "slide"
    }
   },
   "source": [
    "  \n",
    "  \n",
    "# Motivation - Single Pendulum\n",
    "\n",
    "\n",
    "<div class = 'row'>\n",
    "<div class = 'column'>\n",
    "\n",
    "## Driven Single Pendulum\n",
    "\n",
    "    \n",
    "- $\\begin{bmatrix}\\dot{\\theta}\\\\\\dot{\\omega}\\end{bmatrix}=\\begin{bmatrix}0 & \\omega\\\\-\\frac{g}{l}\\sin{(\\theta)} & -c\\omega\\end{bmatrix} + \\begin{bmatrix}0\\\\\\frac{A}{m l^2}\\sin{(\\omega_m t)}\\end{bmatrix}$\n",
    "\n",
    "- $\\omega=\\frac{d\\theta}{dt}$\n",
    "    \n",
    "- $m=1~kg$, $g=9.81~\\frac{m}{s^2}$, $l=1~m$\n",
    "- $c=0.1~/s$ (Damping)\n",
    "- $A=5.0~Nm$ (Forcing Amplitude)\n",
    "</div>\n",
    "<div class = 'column' style=\"max-width:30%\">\n",
    "<img style=\"padding: 20px 20px 20px 20px;\" src=\"figures/2-1_single_pendulum.png\"></img>\n",
    "</div>\n",
    "</div>"
   ]
  },
  {
   "cell_type": "markdown",
   "id": "d5207a6e",
   "metadata": {
    "slideshow": {
     "slide_type": "fragment"
    }
   },
   "source": [
    "- Teaspoon dynamic systems library\n",
    "- 60+ dynamical systems "
   ]
  },
  {
   "cell_type": "markdown",
   "id": "d4d96eb0",
   "metadata": {
    "slideshow": {
     "slide_type": "skip"
    }
   },
   "source": [
    "# Motivation - State Space\n",
    "\n",
    "<div class = 'row'>\n",
    "<div class = 'column'>\n",
    "\n",
    "## Driven Single Pendulum\n",
    "\n",
    "    \n",
    "- Teaspoon dynamic systems library\n",
    "- 60+ dynamical systems \n",
    "    \n",
    "   \n",
    "</div>\n",
    "<div class = 'column' style=\"max-width:30%\">\n",
    "\n",
    "<img style=\"padding: 20px 20px 20px 20px;\" src=\"figures/2-1_single_pendulum.png\"></img>\n",
    "\n",
    "</div>\n",
    "</div>"
   ]
  },
  {
   "cell_type": "code",
   "execution_count": 3,
   "id": "812401fd",
   "metadata": {
    "slideshow": {
     "slide_type": "fragment"
    }
   },
   "outputs": [],
   "source": [
    "# Easily generate new dynamic system simulations with the teaspoon make data module\n",
    "import teaspoon.MakeData.DynSysLib.DynSysLib as DSL\n",
    "\n",
    "system = 'driven_pendulum'\n",
    "dynamic_state = 'periodic'\n",
    "t, ts = DSL.DynamicSystems(system, dynamic_state)"
   ]
  },
  {
   "cell_type": "markdown",
   "id": "4897406e",
   "metadata": {
    "slideshow": {
     "slide_type": "slide"
    }
   },
   "source": [
    "# Motivation - State Space\n",
    "\n",
    "- Plot the state space solution "
   ]
  },
  {
   "cell_type": "markdown",
   "id": "b1e7929c",
   "metadata": {
    "slideshow": {
     "slide_type": "fragment"
    }
   },
   "source": [
    "![](figures/2-1_pendulum_ss.png)"
   ]
  },
  {
   "cell_type": "markdown",
   "id": "db16b95a",
   "metadata": {
    "slideshow": {
     "slide_type": "fragment"
    }
   },
   "source": [
    "- Attractor contains valuable information about the original system (e.g. periodic)"
   ]
  },
  {
   "cell_type": "markdown",
   "id": "d50a6529",
   "metadata": {
    "slideshow": {
     "slide_type": "fragment"
    }
   },
   "source": [
    "- What if we only had equipment to measure the angle and not the angular velocity?"
   ]
  },
  {
   "cell_type": "markdown",
   "id": "330095b0",
   "metadata": {
    "slideshow": {
     "slide_type": "slide"
    }
   },
   "source": [
    "# Takens Embedding\n",
    "\n",
    "![](figures/2-1_takens_embedding_gif_2d.gif)\n"
   ]
  },
  {
   "cell_type": "markdown",
   "id": "fafa8cbd",
   "metadata": {
    "slideshow": {
     "slide_type": "fragment"
    }
   },
   "source": [
    "**Takens Theorem:** The embedded state space attractor has the same topology of the original system if the correct dimension and delay are chosen.\n",
    "\n",
    "Teaspoon function:\n",
    "```python\n",
    "teaspoon.SP.tsa_tools.takens(ts, n=None, tau=None)\n",
    "```"
   ]
  },
  {
   "cell_type": "markdown",
   "id": "216cd4bb",
   "metadata": {
    "slideshow": {
     "slide_type": "slide"
    }
   },
   "source": [
    "## Delay Impact on Attractor Topology"
   ]
  },
  {
   "cell_type": "code",
   "execution_count": 4,
   "id": "f5ff8a6b",
   "metadata": {
    "scrolled": false,
    "slideshow": {
     "slide_type": "fragment"
    }
   },
   "outputs": [
    {
     "data": {
      "application/javascript": [
       "/* Put everything inside the global mpl namespace */\n",
       "/* global mpl */\n",
       "window.mpl = {};\n",
       "\n",
       "mpl.get_websocket_type = function () {\n",
       "    if (typeof WebSocket !== 'undefined') {\n",
       "        return WebSocket;\n",
       "    } else if (typeof MozWebSocket !== 'undefined') {\n",
       "        return MozWebSocket;\n",
       "    } else {\n",
       "        alert(\n",
       "            'Your browser does not have WebSocket support. ' +\n",
       "                'Please try Chrome, Safari or Firefox ≥ 6. ' +\n",
       "                'Firefox 4 and 5 are also supported but you ' +\n",
       "                'have to enable WebSockets in about:config.'\n",
       "        );\n",
       "    }\n",
       "};\n",
       "\n",
       "mpl.figure = function (figure_id, websocket, ondownload, parent_element) {\n",
       "    this.id = figure_id;\n",
       "\n",
       "    this.ws = websocket;\n",
       "\n",
       "    this.supports_binary = this.ws.binaryType !== undefined;\n",
       "\n",
       "    if (!this.supports_binary) {\n",
       "        var warnings = document.getElementById('mpl-warnings');\n",
       "        if (warnings) {\n",
       "            warnings.style.display = 'block';\n",
       "            warnings.textContent =\n",
       "                'This browser does not support binary websocket messages. ' +\n",
       "                'Performance may be slow.';\n",
       "        }\n",
       "    }\n",
       "\n",
       "    this.imageObj = new Image();\n",
       "\n",
       "    this.context = undefined;\n",
       "    this.message = undefined;\n",
       "    this.canvas = undefined;\n",
       "    this.rubberband_canvas = undefined;\n",
       "    this.rubberband_context = undefined;\n",
       "    this.format_dropdown = undefined;\n",
       "\n",
       "    this.image_mode = 'full';\n",
       "\n",
       "    this.root = document.createElement('div');\n",
       "    this.root.setAttribute('style', 'display: inline-block');\n",
       "    this._root_extra_style(this.root);\n",
       "\n",
       "    parent_element.appendChild(this.root);\n",
       "\n",
       "    this._init_header(this);\n",
       "    this._init_canvas(this);\n",
       "    this._init_toolbar(this);\n",
       "\n",
       "    var fig = this;\n",
       "\n",
       "    this.waiting = false;\n",
       "\n",
       "    this.ws.onopen = function () {\n",
       "        fig.send_message('supports_binary', { value: fig.supports_binary });\n",
       "        fig.send_message('send_image_mode', {});\n",
       "        if (fig.ratio !== 1) {\n",
       "            fig.send_message('set_device_pixel_ratio', {\n",
       "                device_pixel_ratio: fig.ratio,\n",
       "            });\n",
       "        }\n",
       "        fig.send_message('refresh', {});\n",
       "    };\n",
       "\n",
       "    this.imageObj.onload = function () {\n",
       "        if (fig.image_mode === 'full') {\n",
       "            // Full images could contain transparency (where diff images\n",
       "            // almost always do), so we need to clear the canvas so that\n",
       "            // there is no ghosting.\n",
       "            fig.context.clearRect(0, 0, fig.canvas.width, fig.canvas.height);\n",
       "        }\n",
       "        fig.context.drawImage(fig.imageObj, 0, 0);\n",
       "    };\n",
       "\n",
       "    this.imageObj.onunload = function () {\n",
       "        fig.ws.close();\n",
       "    };\n",
       "\n",
       "    this.ws.onmessage = this._make_on_message_function(this);\n",
       "\n",
       "    this.ondownload = ondownload;\n",
       "};\n",
       "\n",
       "mpl.figure.prototype._init_header = function () {\n",
       "    var titlebar = document.createElement('div');\n",
       "    titlebar.classList =\n",
       "        'ui-dialog-titlebar ui-widget-header ui-corner-all ui-helper-clearfix';\n",
       "    var titletext = document.createElement('div');\n",
       "    titletext.classList = 'ui-dialog-title';\n",
       "    titletext.setAttribute(\n",
       "        'style',\n",
       "        'width: 100%; text-align: center; padding: 3px;'\n",
       "    );\n",
       "    titlebar.appendChild(titletext);\n",
       "    this.root.appendChild(titlebar);\n",
       "    this.header = titletext;\n",
       "};\n",
       "\n",
       "mpl.figure.prototype._canvas_extra_style = function (_canvas_div) {};\n",
       "\n",
       "mpl.figure.prototype._root_extra_style = function (_canvas_div) {};\n",
       "\n",
       "mpl.figure.prototype._init_canvas = function () {\n",
       "    var fig = this;\n",
       "\n",
       "    var canvas_div = (this.canvas_div = document.createElement('div'));\n",
       "    canvas_div.setAttribute(\n",
       "        'style',\n",
       "        'border: 1px solid #ddd;' +\n",
       "            'box-sizing: content-box;' +\n",
       "            'clear: both;' +\n",
       "            'min-height: 1px;' +\n",
       "            'min-width: 1px;' +\n",
       "            'outline: 0;' +\n",
       "            'overflow: hidden;' +\n",
       "            'position: relative;' +\n",
       "            'resize: both;'\n",
       "    );\n",
       "\n",
       "    function on_keyboard_event_closure(name) {\n",
       "        return function (event) {\n",
       "            return fig.key_event(event, name);\n",
       "        };\n",
       "    }\n",
       "\n",
       "    canvas_div.addEventListener(\n",
       "        'keydown',\n",
       "        on_keyboard_event_closure('key_press')\n",
       "    );\n",
       "    canvas_div.addEventListener(\n",
       "        'keyup',\n",
       "        on_keyboard_event_closure('key_release')\n",
       "    );\n",
       "\n",
       "    this._canvas_extra_style(canvas_div);\n",
       "    this.root.appendChild(canvas_div);\n",
       "\n",
       "    var canvas = (this.canvas = document.createElement('canvas'));\n",
       "    canvas.classList.add('mpl-canvas');\n",
       "    canvas.setAttribute('style', 'box-sizing: content-box;');\n",
       "\n",
       "    this.context = canvas.getContext('2d');\n",
       "\n",
       "    var backingStore =\n",
       "        this.context.backingStorePixelRatio ||\n",
       "        this.context.webkitBackingStorePixelRatio ||\n",
       "        this.context.mozBackingStorePixelRatio ||\n",
       "        this.context.msBackingStorePixelRatio ||\n",
       "        this.context.oBackingStorePixelRatio ||\n",
       "        this.context.backingStorePixelRatio ||\n",
       "        1;\n",
       "\n",
       "    this.ratio = (window.devicePixelRatio || 1) / backingStore;\n",
       "\n",
       "    var rubberband_canvas = (this.rubberband_canvas = document.createElement(\n",
       "        'canvas'\n",
       "    ));\n",
       "    rubberband_canvas.setAttribute(\n",
       "        'style',\n",
       "        'box-sizing: content-box; position: absolute; left: 0; top: 0; z-index: 1;'\n",
       "    );\n",
       "\n",
       "    // Apply a ponyfill if ResizeObserver is not implemented by browser.\n",
       "    if (this.ResizeObserver === undefined) {\n",
       "        if (window.ResizeObserver !== undefined) {\n",
       "            this.ResizeObserver = window.ResizeObserver;\n",
       "        } else {\n",
       "            var obs = _JSXTOOLS_RESIZE_OBSERVER({});\n",
       "            this.ResizeObserver = obs.ResizeObserver;\n",
       "        }\n",
       "    }\n",
       "\n",
       "    this.resizeObserverInstance = new this.ResizeObserver(function (entries) {\n",
       "        var nentries = entries.length;\n",
       "        for (var i = 0; i < nentries; i++) {\n",
       "            var entry = entries[i];\n",
       "            var width, height;\n",
       "            if (entry.contentBoxSize) {\n",
       "                if (entry.contentBoxSize instanceof Array) {\n",
       "                    // Chrome 84 implements new version of spec.\n",
       "                    width = entry.contentBoxSize[0].inlineSize;\n",
       "                    height = entry.contentBoxSize[0].blockSize;\n",
       "                } else {\n",
       "                    // Firefox implements old version of spec.\n",
       "                    width = entry.contentBoxSize.inlineSize;\n",
       "                    height = entry.contentBoxSize.blockSize;\n",
       "                }\n",
       "            } else {\n",
       "                // Chrome <84 implements even older version of spec.\n",
       "                width = entry.contentRect.width;\n",
       "                height = entry.contentRect.height;\n",
       "            }\n",
       "\n",
       "            // Keep the size of the canvas and rubber band canvas in sync with\n",
       "            // the canvas container.\n",
       "            if (entry.devicePixelContentBoxSize) {\n",
       "                // Chrome 84 implements new version of spec.\n",
       "                canvas.setAttribute(\n",
       "                    'width',\n",
       "                    entry.devicePixelContentBoxSize[0].inlineSize\n",
       "                );\n",
       "                canvas.setAttribute(\n",
       "                    'height',\n",
       "                    entry.devicePixelContentBoxSize[0].blockSize\n",
       "                );\n",
       "            } else {\n",
       "                canvas.setAttribute('width', width * fig.ratio);\n",
       "                canvas.setAttribute('height', height * fig.ratio);\n",
       "            }\n",
       "            canvas.setAttribute(\n",
       "                'style',\n",
       "                'width: ' + width + 'px; height: ' + height + 'px;'\n",
       "            );\n",
       "\n",
       "            rubberband_canvas.setAttribute('width', width);\n",
       "            rubberband_canvas.setAttribute('height', height);\n",
       "\n",
       "            // And update the size in Python. We ignore the initial 0/0 size\n",
       "            // that occurs as the element is placed into the DOM, which should\n",
       "            // otherwise not happen due to the minimum size styling.\n",
       "            if (fig.ws.readyState == 1 && width != 0 && height != 0) {\n",
       "                fig.request_resize(width, height);\n",
       "            }\n",
       "        }\n",
       "    });\n",
       "    this.resizeObserverInstance.observe(canvas_div);\n",
       "\n",
       "    function on_mouse_event_closure(name) {\n",
       "        return function (event) {\n",
       "            return fig.mouse_event(event, name);\n",
       "        };\n",
       "    }\n",
       "\n",
       "    rubberband_canvas.addEventListener(\n",
       "        'mousedown',\n",
       "        on_mouse_event_closure('button_press')\n",
       "    );\n",
       "    rubberband_canvas.addEventListener(\n",
       "        'mouseup',\n",
       "        on_mouse_event_closure('button_release')\n",
       "    );\n",
       "    rubberband_canvas.addEventListener(\n",
       "        'dblclick',\n",
       "        on_mouse_event_closure('dblclick')\n",
       "    );\n",
       "    // Throttle sequential mouse events to 1 every 20ms.\n",
       "    rubberband_canvas.addEventListener(\n",
       "        'mousemove',\n",
       "        on_mouse_event_closure('motion_notify')\n",
       "    );\n",
       "\n",
       "    rubberband_canvas.addEventListener(\n",
       "        'mouseenter',\n",
       "        on_mouse_event_closure('figure_enter')\n",
       "    );\n",
       "    rubberband_canvas.addEventListener(\n",
       "        'mouseleave',\n",
       "        on_mouse_event_closure('figure_leave')\n",
       "    );\n",
       "\n",
       "    canvas_div.addEventListener('wheel', function (event) {\n",
       "        if (event.deltaY < 0) {\n",
       "            event.step = 1;\n",
       "        } else {\n",
       "            event.step = -1;\n",
       "        }\n",
       "        on_mouse_event_closure('scroll')(event);\n",
       "    });\n",
       "\n",
       "    canvas_div.appendChild(canvas);\n",
       "    canvas_div.appendChild(rubberband_canvas);\n",
       "\n",
       "    this.rubberband_context = rubberband_canvas.getContext('2d');\n",
       "    this.rubberband_context.strokeStyle = '#000000';\n",
       "\n",
       "    this._resize_canvas = function (width, height, forward) {\n",
       "        if (forward) {\n",
       "            canvas_div.style.width = width + 'px';\n",
       "            canvas_div.style.height = height + 'px';\n",
       "        }\n",
       "    };\n",
       "\n",
       "    // Disable right mouse context menu.\n",
       "    this.rubberband_canvas.addEventListener('contextmenu', function (_e) {\n",
       "        event.preventDefault();\n",
       "        return false;\n",
       "    });\n",
       "\n",
       "    function set_focus() {\n",
       "        canvas.focus();\n",
       "        canvas_div.focus();\n",
       "    }\n",
       "\n",
       "    window.setTimeout(set_focus, 100);\n",
       "};\n",
       "\n",
       "mpl.figure.prototype._init_toolbar = function () {\n",
       "    var fig = this;\n",
       "\n",
       "    var toolbar = document.createElement('div');\n",
       "    toolbar.classList = 'mpl-toolbar';\n",
       "    this.root.appendChild(toolbar);\n",
       "\n",
       "    function on_click_closure(name) {\n",
       "        return function (_event) {\n",
       "            return fig.toolbar_button_onclick(name);\n",
       "        };\n",
       "    }\n",
       "\n",
       "    function on_mouseover_closure(tooltip) {\n",
       "        return function (event) {\n",
       "            if (!event.currentTarget.disabled) {\n",
       "                return fig.toolbar_button_onmouseover(tooltip);\n",
       "            }\n",
       "        };\n",
       "    }\n",
       "\n",
       "    fig.buttons = {};\n",
       "    var buttonGroup = document.createElement('div');\n",
       "    buttonGroup.classList = 'mpl-button-group';\n",
       "    for (var toolbar_ind in mpl.toolbar_items) {\n",
       "        var name = mpl.toolbar_items[toolbar_ind][0];\n",
       "        var tooltip = mpl.toolbar_items[toolbar_ind][1];\n",
       "        var image = mpl.toolbar_items[toolbar_ind][2];\n",
       "        var method_name = mpl.toolbar_items[toolbar_ind][3];\n",
       "\n",
       "        if (!name) {\n",
       "            /* Instead of a spacer, we start a new button group. */\n",
       "            if (buttonGroup.hasChildNodes()) {\n",
       "                toolbar.appendChild(buttonGroup);\n",
       "            }\n",
       "            buttonGroup = document.createElement('div');\n",
       "            buttonGroup.classList = 'mpl-button-group';\n",
       "            continue;\n",
       "        }\n",
       "\n",
       "        var button = (fig.buttons[name] = document.createElement('button'));\n",
       "        button.classList = 'mpl-widget';\n",
       "        button.setAttribute('role', 'button');\n",
       "        button.setAttribute('aria-disabled', 'false');\n",
       "        button.addEventListener('click', on_click_closure(method_name));\n",
       "        button.addEventListener('mouseover', on_mouseover_closure(tooltip));\n",
       "\n",
       "        var icon_img = document.createElement('img');\n",
       "        icon_img.src = '_images/' + image + '.png';\n",
       "        icon_img.srcset = '_images/' + image + '_large.png 2x';\n",
       "        icon_img.alt = tooltip;\n",
       "        button.appendChild(icon_img);\n",
       "\n",
       "        buttonGroup.appendChild(button);\n",
       "    }\n",
       "\n",
       "    if (buttonGroup.hasChildNodes()) {\n",
       "        toolbar.appendChild(buttonGroup);\n",
       "    }\n",
       "\n",
       "    var fmt_picker = document.createElement('select');\n",
       "    fmt_picker.classList = 'mpl-widget';\n",
       "    toolbar.appendChild(fmt_picker);\n",
       "    this.format_dropdown = fmt_picker;\n",
       "\n",
       "    for (var ind in mpl.extensions) {\n",
       "        var fmt = mpl.extensions[ind];\n",
       "        var option = document.createElement('option');\n",
       "        option.selected = fmt === mpl.default_extension;\n",
       "        option.innerHTML = fmt;\n",
       "        fmt_picker.appendChild(option);\n",
       "    }\n",
       "\n",
       "    var status_bar = document.createElement('span');\n",
       "    status_bar.classList = 'mpl-message';\n",
       "    toolbar.appendChild(status_bar);\n",
       "    this.message = status_bar;\n",
       "};\n",
       "\n",
       "mpl.figure.prototype.request_resize = function (x_pixels, y_pixels) {\n",
       "    // Request matplotlib to resize the figure. Matplotlib will then trigger a resize in the client,\n",
       "    // which will in turn request a refresh of the image.\n",
       "    this.send_message('resize', { width: x_pixels, height: y_pixels });\n",
       "};\n",
       "\n",
       "mpl.figure.prototype.send_message = function (type, properties) {\n",
       "    properties['type'] = type;\n",
       "    properties['figure_id'] = this.id;\n",
       "    this.ws.send(JSON.stringify(properties));\n",
       "};\n",
       "\n",
       "mpl.figure.prototype.send_draw_message = function () {\n",
       "    if (!this.waiting) {\n",
       "        this.waiting = true;\n",
       "        this.ws.send(JSON.stringify({ type: 'draw', figure_id: this.id }));\n",
       "    }\n",
       "};\n",
       "\n",
       "mpl.figure.prototype.handle_save = function (fig, _msg) {\n",
       "    var format_dropdown = fig.format_dropdown;\n",
       "    var format = format_dropdown.options[format_dropdown.selectedIndex].value;\n",
       "    fig.ondownload(fig, format);\n",
       "};\n",
       "\n",
       "mpl.figure.prototype.handle_resize = function (fig, msg) {\n",
       "    var size = msg['size'];\n",
       "    if (size[0] !== fig.canvas.width || size[1] !== fig.canvas.height) {\n",
       "        fig._resize_canvas(size[0], size[1], msg['forward']);\n",
       "        fig.send_message('refresh', {});\n",
       "    }\n",
       "};\n",
       "\n",
       "mpl.figure.prototype.handle_rubberband = function (fig, msg) {\n",
       "    var x0 = msg['x0'] / fig.ratio;\n",
       "    var y0 = (fig.canvas.height - msg['y0']) / fig.ratio;\n",
       "    var x1 = msg['x1'] / fig.ratio;\n",
       "    var y1 = (fig.canvas.height - msg['y1']) / fig.ratio;\n",
       "    x0 = Math.floor(x0) + 0.5;\n",
       "    y0 = Math.floor(y0) + 0.5;\n",
       "    x1 = Math.floor(x1) + 0.5;\n",
       "    y1 = Math.floor(y1) + 0.5;\n",
       "    var min_x = Math.min(x0, x1);\n",
       "    var min_y = Math.min(y0, y1);\n",
       "    var width = Math.abs(x1 - x0);\n",
       "    var height = Math.abs(y1 - y0);\n",
       "\n",
       "    fig.rubberband_context.clearRect(\n",
       "        0,\n",
       "        0,\n",
       "        fig.canvas.width / fig.ratio,\n",
       "        fig.canvas.height / fig.ratio\n",
       "    );\n",
       "\n",
       "    fig.rubberband_context.strokeRect(min_x, min_y, width, height);\n",
       "};\n",
       "\n",
       "mpl.figure.prototype.handle_figure_label = function (fig, msg) {\n",
       "    // Updates the figure title.\n",
       "    fig.header.textContent = msg['label'];\n",
       "};\n",
       "\n",
       "mpl.figure.prototype.handle_cursor = function (fig, msg) {\n",
       "    fig.rubberband_canvas.style.cursor = msg['cursor'];\n",
       "};\n",
       "\n",
       "mpl.figure.prototype.handle_message = function (fig, msg) {\n",
       "    fig.message.textContent = msg['message'];\n",
       "};\n",
       "\n",
       "mpl.figure.prototype.handle_draw = function (fig, _msg) {\n",
       "    // Request the server to send over a new figure.\n",
       "    fig.send_draw_message();\n",
       "};\n",
       "\n",
       "mpl.figure.prototype.handle_image_mode = function (fig, msg) {\n",
       "    fig.image_mode = msg['mode'];\n",
       "};\n",
       "\n",
       "mpl.figure.prototype.handle_history_buttons = function (fig, msg) {\n",
       "    for (var key in msg) {\n",
       "        if (!(key in fig.buttons)) {\n",
       "            continue;\n",
       "        }\n",
       "        fig.buttons[key].disabled = !msg[key];\n",
       "        fig.buttons[key].setAttribute('aria-disabled', !msg[key]);\n",
       "    }\n",
       "};\n",
       "\n",
       "mpl.figure.prototype.handle_navigate_mode = function (fig, msg) {\n",
       "    if (msg['mode'] === 'PAN') {\n",
       "        fig.buttons['Pan'].classList.add('active');\n",
       "        fig.buttons['Zoom'].classList.remove('active');\n",
       "    } else if (msg['mode'] === 'ZOOM') {\n",
       "        fig.buttons['Pan'].classList.remove('active');\n",
       "        fig.buttons['Zoom'].classList.add('active');\n",
       "    } else {\n",
       "        fig.buttons['Pan'].classList.remove('active');\n",
       "        fig.buttons['Zoom'].classList.remove('active');\n",
       "    }\n",
       "};\n",
       "\n",
       "mpl.figure.prototype.updated_canvas_event = function () {\n",
       "    // Called whenever the canvas gets updated.\n",
       "    this.send_message('ack', {});\n",
       "};\n",
       "\n",
       "// A function to construct a web socket function for onmessage handling.\n",
       "// Called in the figure constructor.\n",
       "mpl.figure.prototype._make_on_message_function = function (fig) {\n",
       "    return function socket_on_message(evt) {\n",
       "        if (evt.data instanceof Blob) {\n",
       "            var img = evt.data;\n",
       "            if (img.type !== 'image/png') {\n",
       "                /* FIXME: We get \"Resource interpreted as Image but\n",
       "                 * transferred with MIME type text/plain:\" errors on\n",
       "                 * Chrome.  But how to set the MIME type?  It doesn't seem\n",
       "                 * to be part of the websocket stream */\n",
       "                img.type = 'image/png';\n",
       "            }\n",
       "\n",
       "            /* Free the memory for the previous frames */\n",
       "            if (fig.imageObj.src) {\n",
       "                (window.URL || window.webkitURL).revokeObjectURL(\n",
       "                    fig.imageObj.src\n",
       "                );\n",
       "            }\n",
       "\n",
       "            fig.imageObj.src = (window.URL || window.webkitURL).createObjectURL(\n",
       "                img\n",
       "            );\n",
       "            fig.updated_canvas_event();\n",
       "            fig.waiting = false;\n",
       "            return;\n",
       "        } else if (\n",
       "            typeof evt.data === 'string' &&\n",
       "            evt.data.slice(0, 21) === 'data:image/png;base64'\n",
       "        ) {\n",
       "            fig.imageObj.src = evt.data;\n",
       "            fig.updated_canvas_event();\n",
       "            fig.waiting = false;\n",
       "            return;\n",
       "        }\n",
       "\n",
       "        var msg = JSON.parse(evt.data);\n",
       "        var msg_type = msg['type'];\n",
       "\n",
       "        // Call the  \"handle_{type}\" callback, which takes\n",
       "        // the figure and JSON message as its only arguments.\n",
       "        try {\n",
       "            var callback = fig['handle_' + msg_type];\n",
       "        } catch (e) {\n",
       "            console.log(\n",
       "                \"No handler for the '\" + msg_type + \"' message type: \",\n",
       "                msg\n",
       "            );\n",
       "            return;\n",
       "        }\n",
       "\n",
       "        if (callback) {\n",
       "            try {\n",
       "                // console.log(\"Handling '\" + msg_type + \"' message: \", msg);\n",
       "                callback(fig, msg);\n",
       "            } catch (e) {\n",
       "                console.log(\n",
       "                    \"Exception inside the 'handler_\" + msg_type + \"' callback:\",\n",
       "                    e,\n",
       "                    e.stack,\n",
       "                    msg\n",
       "                );\n",
       "            }\n",
       "        }\n",
       "    };\n",
       "};\n",
       "\n",
       "// from https://stackoverflow.com/questions/1114465/getting-mouse-location-in-canvas\n",
       "mpl.findpos = function (e) {\n",
       "    //this section is from http://www.quirksmode.org/js/events_properties.html\n",
       "    var targ;\n",
       "    if (!e) {\n",
       "        e = window.event;\n",
       "    }\n",
       "    if (e.target) {\n",
       "        targ = e.target;\n",
       "    } else if (e.srcElement) {\n",
       "        targ = e.srcElement;\n",
       "    }\n",
       "    if (targ.nodeType === 3) {\n",
       "        // defeat Safari bug\n",
       "        targ = targ.parentNode;\n",
       "    }\n",
       "\n",
       "    // pageX,Y are the mouse positions relative to the document\n",
       "    var boundingRect = targ.getBoundingClientRect();\n",
       "    var x = e.pageX - (boundingRect.left + document.body.scrollLeft);\n",
       "    var y = e.pageY - (boundingRect.top + document.body.scrollTop);\n",
       "\n",
       "    return { x: x, y: y };\n",
       "};\n",
       "\n",
       "/*\n",
       " * return a copy of an object with only non-object keys\n",
       " * we need this to avoid circular references\n",
       " * https://stackoverflow.com/a/24161582/3208463\n",
       " */\n",
       "function simpleKeys(original) {\n",
       "    return Object.keys(original).reduce(function (obj, key) {\n",
       "        if (typeof original[key] !== 'object') {\n",
       "            obj[key] = original[key];\n",
       "        }\n",
       "        return obj;\n",
       "    }, {});\n",
       "}\n",
       "\n",
       "mpl.figure.prototype.mouse_event = function (event, name) {\n",
       "    var canvas_pos = mpl.findpos(event);\n",
       "\n",
       "    if (name === 'button_press') {\n",
       "        this.canvas.focus();\n",
       "        this.canvas_div.focus();\n",
       "    }\n",
       "\n",
       "    var x = canvas_pos.x * this.ratio;\n",
       "    var y = canvas_pos.y * this.ratio;\n",
       "\n",
       "    this.send_message(name, {\n",
       "        x: x,\n",
       "        y: y,\n",
       "        button: event.button,\n",
       "        step: event.step,\n",
       "        guiEvent: simpleKeys(event),\n",
       "    });\n",
       "\n",
       "    /* This prevents the web browser from automatically changing to\n",
       "     * the text insertion cursor when the button is pressed.  We want\n",
       "     * to control all of the cursor setting manually through the\n",
       "     * 'cursor' event from matplotlib */\n",
       "    event.preventDefault();\n",
       "    return false;\n",
       "};\n",
       "\n",
       "mpl.figure.prototype._key_event_extra = function (_event, _name) {\n",
       "    // Handle any extra behaviour associated with a key event\n",
       "};\n",
       "\n",
       "mpl.figure.prototype.key_event = function (event, name) {\n",
       "    // Prevent repeat events\n",
       "    if (name === 'key_press') {\n",
       "        if (event.key === this._key) {\n",
       "            return;\n",
       "        } else {\n",
       "            this._key = event.key;\n",
       "        }\n",
       "    }\n",
       "    if (name === 'key_release') {\n",
       "        this._key = null;\n",
       "    }\n",
       "\n",
       "    var value = '';\n",
       "    if (event.ctrlKey && event.key !== 'Control') {\n",
       "        value += 'ctrl+';\n",
       "    }\n",
       "    else if (event.altKey && event.key !== 'Alt') {\n",
       "        value += 'alt+';\n",
       "    }\n",
       "    else if (event.shiftKey && event.key !== 'Shift') {\n",
       "        value += 'shift+';\n",
       "    }\n",
       "\n",
       "    value += 'k' + event.key;\n",
       "\n",
       "    this._key_event_extra(event, name);\n",
       "\n",
       "    this.send_message(name, { key: value, guiEvent: simpleKeys(event) });\n",
       "    return false;\n",
       "};\n",
       "\n",
       "mpl.figure.prototype.toolbar_button_onclick = function (name) {\n",
       "    if (name === 'download') {\n",
       "        this.handle_save(this, null);\n",
       "    } else {\n",
       "        this.send_message('toolbar_button', { name: name });\n",
       "    }\n",
       "};\n",
       "\n",
       "mpl.figure.prototype.toolbar_button_onmouseover = function (tooltip) {\n",
       "    this.message.textContent = tooltip;\n",
       "};\n",
       "\n",
       "///////////////// REMAINING CONTENT GENERATED BY embed_js.py /////////////////\n",
       "// prettier-ignore\n",
       "var _JSXTOOLS_RESIZE_OBSERVER=function(A){var t,i=new WeakMap,n=new WeakMap,a=new WeakMap,r=new WeakMap,o=new Set;function s(e){if(!(this instanceof s))throw new TypeError(\"Constructor requires 'new' operator\");i.set(this,e)}function h(){throw new TypeError(\"Function is not a constructor\")}function c(e,t,i,n){e=0 in arguments?Number(arguments[0]):0,t=1 in arguments?Number(arguments[1]):0,i=2 in arguments?Number(arguments[2]):0,n=3 in arguments?Number(arguments[3]):0,this.right=(this.x=this.left=e)+(this.width=i),this.bottom=(this.y=this.top=t)+(this.height=n),Object.freeze(this)}function d(){t=requestAnimationFrame(d);var s=new WeakMap,p=new Set;o.forEach((function(t){r.get(t).forEach((function(i){var r=t instanceof window.SVGElement,o=a.get(t),d=r?0:parseFloat(o.paddingTop),f=r?0:parseFloat(o.paddingRight),l=r?0:parseFloat(o.paddingBottom),u=r?0:parseFloat(o.paddingLeft),g=r?0:parseFloat(o.borderTopWidth),m=r?0:parseFloat(o.borderRightWidth),w=r?0:parseFloat(o.borderBottomWidth),b=u+f,F=d+l,v=(r?0:parseFloat(o.borderLeftWidth))+m,W=g+w,y=r?0:t.offsetHeight-W-t.clientHeight,E=r?0:t.offsetWidth-v-t.clientWidth,R=b+v,z=F+W,M=r?t.width:parseFloat(o.width)-R-E,O=r?t.height:parseFloat(o.height)-z-y;if(n.has(t)){var k=n.get(t);if(k[0]===M&&k[1]===O)return}n.set(t,[M,O]);var S=Object.create(h.prototype);S.target=t,S.contentRect=new c(u,d,M,O),s.has(i)||(s.set(i,[]),p.add(i)),s.get(i).push(S)}))})),p.forEach((function(e){i.get(e).call(e,s.get(e),e)}))}return s.prototype.observe=function(i){if(i instanceof window.Element){r.has(i)||(r.set(i,new Set),o.add(i),a.set(i,window.getComputedStyle(i)));var n=r.get(i);n.has(this)||n.add(this),cancelAnimationFrame(t),t=requestAnimationFrame(d)}},s.prototype.unobserve=function(i){if(i instanceof window.Element&&r.has(i)){var n=r.get(i);n.has(this)&&(n.delete(this),n.size||(r.delete(i),o.delete(i))),n.size||r.delete(i),o.size||cancelAnimationFrame(t)}},A.DOMRectReadOnly=c,A.ResizeObserver=s,A.ResizeObserverEntry=h,A}; // eslint-disable-line\n",
       "mpl.toolbar_items = [[\"Home\", \"Reset original view\", \"fa fa-home icon-home\", \"home\"], [\"Back\", \"Back to previous view\", \"fa fa-arrow-left icon-arrow-left\", \"back\"], [\"Forward\", \"Forward to next view\", \"fa fa-arrow-right icon-arrow-right\", \"forward\"], [\"\", \"\", \"\", \"\"], [\"Pan\", \"Left button pans, Right button zooms\\nx/y fixes axis, CTRL fixes aspect\", \"fa fa-arrows icon-move\", \"pan\"], [\"Zoom\", \"Zoom to rectangle\\nx/y fixes axis\", \"fa fa-square-o icon-check-empty\", \"zoom\"], [\"\", \"\", \"\", \"\"], [\"Download\", \"Download plot\", \"fa fa-floppy-o icon-save\", \"download\"]];\n",
       "\n",
       "mpl.extensions = [\"eps\", \"jpeg\", \"pgf\", \"pdf\", \"png\", \"ps\", \"raw\", \"svg\", \"tif\"];\n",
       "\n",
       "mpl.default_extension = \"png\";/* global mpl */\n",
       "\n",
       "var comm_websocket_adapter = function (comm) {\n",
       "    // Create a \"websocket\"-like object which calls the given IPython comm\n",
       "    // object with the appropriate methods. Currently this is a non binary\n",
       "    // socket, so there is still some room for performance tuning.\n",
       "    var ws = {};\n",
       "\n",
       "    ws.binaryType = comm.kernel.ws.binaryType;\n",
       "    ws.readyState = comm.kernel.ws.readyState;\n",
       "    function updateReadyState(_event) {\n",
       "        if (comm.kernel.ws) {\n",
       "            ws.readyState = comm.kernel.ws.readyState;\n",
       "        } else {\n",
       "            ws.readyState = 3; // Closed state.\n",
       "        }\n",
       "    }\n",
       "    comm.kernel.ws.addEventListener('open', updateReadyState);\n",
       "    comm.kernel.ws.addEventListener('close', updateReadyState);\n",
       "    comm.kernel.ws.addEventListener('error', updateReadyState);\n",
       "\n",
       "    ws.close = function () {\n",
       "        comm.close();\n",
       "    };\n",
       "    ws.send = function (m) {\n",
       "        //console.log('sending', m);\n",
       "        comm.send(m);\n",
       "    };\n",
       "    // Register the callback with on_msg.\n",
       "    comm.on_msg(function (msg) {\n",
       "        //console.log('receiving', msg['content']['data'], msg);\n",
       "        var data = msg['content']['data'];\n",
       "        if (data['blob'] !== undefined) {\n",
       "            data = {\n",
       "                data: new Blob(msg['buffers'], { type: data['blob'] }),\n",
       "            };\n",
       "        }\n",
       "        // Pass the mpl event to the overridden (by mpl) onmessage function.\n",
       "        ws.onmessage(data);\n",
       "    });\n",
       "    return ws;\n",
       "};\n",
       "\n",
       "mpl.mpl_figure_comm = function (comm, msg) {\n",
       "    // This is the function which gets called when the mpl process\n",
       "    // starts-up an IPython Comm through the \"matplotlib\" channel.\n",
       "\n",
       "    var id = msg.content.data.id;\n",
       "    // Get hold of the div created by the display call when the Comm\n",
       "    // socket was opened in Python.\n",
       "    var element = document.getElementById(id);\n",
       "    var ws_proxy = comm_websocket_adapter(comm);\n",
       "\n",
       "    function ondownload(figure, _format) {\n",
       "        window.open(figure.canvas.toDataURL());\n",
       "    }\n",
       "\n",
       "    var fig = new mpl.figure(id, ws_proxy, ondownload, element);\n",
       "\n",
       "    // Call onopen now - mpl needs it, as it is assuming we've passed it a real\n",
       "    // web socket which is closed, not our websocket->open comm proxy.\n",
       "    ws_proxy.onopen();\n",
       "\n",
       "    fig.parent_element = element;\n",
       "    fig.cell_info = mpl.find_output_cell(\"<div id='\" + id + \"'></div>\");\n",
       "    if (!fig.cell_info) {\n",
       "        console.error('Failed to find cell for figure', id, fig);\n",
       "        return;\n",
       "    }\n",
       "    fig.cell_info[0].output_area.element.on(\n",
       "        'cleared',\n",
       "        { fig: fig },\n",
       "        fig._remove_fig_handler\n",
       "    );\n",
       "};\n",
       "\n",
       "mpl.figure.prototype.handle_close = function (fig, msg) {\n",
       "    var width = fig.canvas.width / fig.ratio;\n",
       "    fig.cell_info[0].output_area.element.off(\n",
       "        'cleared',\n",
       "        fig._remove_fig_handler\n",
       "    );\n",
       "    fig.resizeObserverInstance.unobserve(fig.canvas_div);\n",
       "\n",
       "    // Update the output cell to use the data from the current canvas.\n",
       "    fig.push_to_output();\n",
       "    var dataURL = fig.canvas.toDataURL();\n",
       "    // Re-enable the keyboard manager in IPython - without this line, in FF,\n",
       "    // the notebook keyboard shortcuts fail.\n",
       "    IPython.keyboard_manager.enable();\n",
       "    fig.parent_element.innerHTML =\n",
       "        '<img src=\"' + dataURL + '\" width=\"' + width + '\">';\n",
       "    fig.close_ws(fig, msg);\n",
       "};\n",
       "\n",
       "mpl.figure.prototype.close_ws = function (fig, msg) {\n",
       "    fig.send_message('closing', msg);\n",
       "    // fig.ws.close()\n",
       "};\n",
       "\n",
       "mpl.figure.prototype.push_to_output = function (_remove_interactive) {\n",
       "    // Turn the data on the canvas into data in the output cell.\n",
       "    var width = this.canvas.width / this.ratio;\n",
       "    var dataURL = this.canvas.toDataURL();\n",
       "    this.cell_info[1]['text/html'] =\n",
       "        '<img src=\"' + dataURL + '\" width=\"' + width + '\">';\n",
       "};\n",
       "\n",
       "mpl.figure.prototype.updated_canvas_event = function () {\n",
       "    // Tell IPython that the notebook contents must change.\n",
       "    IPython.notebook.set_dirty(true);\n",
       "    this.send_message('ack', {});\n",
       "    var fig = this;\n",
       "    // Wait a second, then push the new image to the DOM so\n",
       "    // that it is saved nicely (might be nice to debounce this).\n",
       "    setTimeout(function () {\n",
       "        fig.push_to_output();\n",
       "    }, 1000);\n",
       "};\n",
       "\n",
       "mpl.figure.prototype._init_toolbar = function () {\n",
       "    var fig = this;\n",
       "\n",
       "    var toolbar = document.createElement('div');\n",
       "    toolbar.classList = 'btn-toolbar';\n",
       "    this.root.appendChild(toolbar);\n",
       "\n",
       "    function on_click_closure(name) {\n",
       "        return function (_event) {\n",
       "            return fig.toolbar_button_onclick(name);\n",
       "        };\n",
       "    }\n",
       "\n",
       "    function on_mouseover_closure(tooltip) {\n",
       "        return function (event) {\n",
       "            if (!event.currentTarget.disabled) {\n",
       "                return fig.toolbar_button_onmouseover(tooltip);\n",
       "            }\n",
       "        };\n",
       "    }\n",
       "\n",
       "    fig.buttons = {};\n",
       "    var buttonGroup = document.createElement('div');\n",
       "    buttonGroup.classList = 'btn-group';\n",
       "    var button;\n",
       "    for (var toolbar_ind in mpl.toolbar_items) {\n",
       "        var name = mpl.toolbar_items[toolbar_ind][0];\n",
       "        var tooltip = mpl.toolbar_items[toolbar_ind][1];\n",
       "        var image = mpl.toolbar_items[toolbar_ind][2];\n",
       "        var method_name = mpl.toolbar_items[toolbar_ind][3];\n",
       "\n",
       "        if (!name) {\n",
       "            /* Instead of a spacer, we start a new button group. */\n",
       "            if (buttonGroup.hasChildNodes()) {\n",
       "                toolbar.appendChild(buttonGroup);\n",
       "            }\n",
       "            buttonGroup = document.createElement('div');\n",
       "            buttonGroup.classList = 'btn-group';\n",
       "            continue;\n",
       "        }\n",
       "\n",
       "        button = fig.buttons[name] = document.createElement('button');\n",
       "        button.classList = 'btn btn-default';\n",
       "        button.href = '#';\n",
       "        button.title = name;\n",
       "        button.innerHTML = '<i class=\"fa ' + image + ' fa-lg\"></i>';\n",
       "        button.addEventListener('click', on_click_closure(method_name));\n",
       "        button.addEventListener('mouseover', on_mouseover_closure(tooltip));\n",
       "        buttonGroup.appendChild(button);\n",
       "    }\n",
       "\n",
       "    if (buttonGroup.hasChildNodes()) {\n",
       "        toolbar.appendChild(buttonGroup);\n",
       "    }\n",
       "\n",
       "    // Add the status bar.\n",
       "    var status_bar = document.createElement('span');\n",
       "    status_bar.classList = 'mpl-message pull-right';\n",
       "    toolbar.appendChild(status_bar);\n",
       "    this.message = status_bar;\n",
       "\n",
       "    // Add the close button to the window.\n",
       "    var buttongrp = document.createElement('div');\n",
       "    buttongrp.classList = 'btn-group inline pull-right';\n",
       "    button = document.createElement('button');\n",
       "    button.classList = 'btn btn-mini btn-primary';\n",
       "    button.href = '#';\n",
       "    button.title = 'Stop Interaction';\n",
       "    button.innerHTML = '<i class=\"fa fa-power-off icon-remove icon-large\"></i>';\n",
       "    button.addEventListener('click', function (_evt) {\n",
       "        fig.handle_close(fig, {});\n",
       "    });\n",
       "    button.addEventListener(\n",
       "        'mouseover',\n",
       "        on_mouseover_closure('Stop Interaction')\n",
       "    );\n",
       "    buttongrp.appendChild(button);\n",
       "    var titlebar = this.root.querySelector('.ui-dialog-titlebar');\n",
       "    titlebar.insertBefore(buttongrp, titlebar.firstChild);\n",
       "};\n",
       "\n",
       "mpl.figure.prototype._remove_fig_handler = function (event) {\n",
       "    var fig = event.data.fig;\n",
       "    if (event.target !== this) {\n",
       "        // Ignore bubbled events from children.\n",
       "        return;\n",
       "    }\n",
       "    fig.close_ws(fig, {});\n",
       "};\n",
       "\n",
       "mpl.figure.prototype._root_extra_style = function (el) {\n",
       "    el.style.boxSizing = 'content-box'; // override notebook setting of border-box.\n",
       "};\n",
       "\n",
       "mpl.figure.prototype._canvas_extra_style = function (el) {\n",
       "    // this is important to make the div 'focusable\n",
       "    el.setAttribute('tabindex', 0);\n",
       "    // reach out to IPython and tell the keyboard manager to turn it's self\n",
       "    // off when our div gets focus\n",
       "\n",
       "    // location in version 3\n",
       "    if (IPython.notebook.keyboard_manager) {\n",
       "        IPython.notebook.keyboard_manager.register_events(el);\n",
       "    } else {\n",
       "        // location in version 2\n",
       "        IPython.keyboard_manager.register_events(el);\n",
       "    }\n",
       "};\n",
       "\n",
       "mpl.figure.prototype._key_event_extra = function (event, _name) {\n",
       "    // Check for shift+enter\n",
       "    if (event.shiftKey && event.which === 13) {\n",
       "        this.canvas_div.blur();\n",
       "        // select the cell after this one\n",
       "        var index = IPython.notebook.find_cell_index(this.cell_info[0]);\n",
       "        IPython.notebook.select(index + 1);\n",
       "    }\n",
       "};\n",
       "\n",
       "mpl.figure.prototype.handle_save = function (fig, _msg) {\n",
       "    fig.ondownload(fig, null);\n",
       "};\n",
       "\n",
       "mpl.find_output_cell = function (html_output) {\n",
       "    // Return the cell and output element which can be found *uniquely* in the notebook.\n",
       "    // Note - this is a bit hacky, but it is done because the \"notebook_saving.Notebook\"\n",
       "    // IPython event is triggered only after the cells have been serialised, which for\n",
       "    // our purposes (turning an active figure into a static one), is too late.\n",
       "    var cells = IPython.notebook.get_cells();\n",
       "    var ncells = cells.length;\n",
       "    for (var i = 0; i < ncells; i++) {\n",
       "        var cell = cells[i];\n",
       "        if (cell.cell_type === 'code') {\n",
       "            for (var j = 0; j < cell.output_area.outputs.length; j++) {\n",
       "                var data = cell.output_area.outputs[j];\n",
       "                if (data.data) {\n",
       "                    // IPython >= 3 moved mimebundle to data attribute of output\n",
       "                    data = data.data;\n",
       "                }\n",
       "                if (data['text/html'] === html_output) {\n",
       "                    return [cell, data, j];\n",
       "                }\n",
       "            }\n",
       "        }\n",
       "    }\n",
       "};\n",
       "\n",
       "// Register the function which deals with the matplotlib target/channel.\n",
       "// The kernel may be null if the page has been refreshed.\n",
       "if (IPython.notebook.kernel !== null) {\n",
       "    IPython.notebook.kernel.comm_manager.register_target(\n",
       "        'matplotlib',\n",
       "        mpl.mpl_figure_comm\n",
       "    );\n",
       "}\n"
      ],
      "text/plain": [
       "<IPython.core.display.Javascript object>"
      ]
     },
     "metadata": {},
     "output_type": "display_data"
    },
    {
     "data": {
      "text/html": [
       "<img src=\"data:image/png;base64,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\" width=\"700\">"
      ],
      "text/plain": [
       "<IPython.core.display.HTML object>"
      ]
     },
     "metadata": {},
     "output_type": "display_data"
    }
   ],
   "source": [
    "%matplotlib notebook\n",
    "from teaspoon.SP.tsa_tools import takens\n",
    "fig = plt.figure(figsize=(7, 4))\n",
    "ax = plt.subplot()\n",
    "ax.axis([-1,1,-2,2])\n",
    "data, = ax.plot([],[], 'k.', label='Embedded')\n",
    "true, = ax.plot([],[],'--b', alpha=0.2, label='True')\n",
    "animation = anim.FuncAnimation(fig, step_2d_takens, frames=100, interval=100, blit=True)\n",
    "plt.show()"
   ]
  },
  {
   "cell_type": "code",
   "execution_count": 5,
   "id": "071ce8a3",
   "metadata": {
    "slideshow": {
     "slide_type": "fragment"
    }
   },
   "outputs": [],
   "source": [
    "# Stop the animation\n",
    "%matplotlib notebook"
   ]
  },
  {
   "cell_type": "markdown",
   "id": "55d125bc",
   "metadata": {
    "slideshow": {
     "slide_type": "slide"
    }
   },
   "source": [
    "# Embedding Dimension\n",
    "\n",
    "![](figures/2-1_takens_embedding_gif_3d.gif)"
   ]
  },
  {
   "cell_type": "markdown",
   "id": "b2e84cb8",
   "metadata": {
    "slideshow": {
     "slide_type": "slide"
    }
   },
   "source": [
    "# Parameter Selection\n",
    "\n",
    "- How do we choose the embedding dimension $n$ and delay $\\tau$?\n",
    "\n",
    "### Delay [1]\n",
    "\n",
    "![](figures/2-1_delay_methods.png)"
   ]
  },
  {
   "cell_type": "markdown",
   "id": "03de4d9a",
   "metadata": {
    "slideshow": {
     "slide_type": "slide"
    }
   },
   "source": [
    "# Parameter Selection\n",
    "\n",
    "- How do we choose the embedding dimension $n$ and delay $\\tau$?\n",
    "\n",
    "### Dimension [1]\n",
    "\n",
    "![](figures/2-1_dimension_methods.png)"
   ]
  },
  {
   "cell_type": "markdown",
   "id": "80a9593c",
   "metadata": {
    "slideshow": {
     "slide_type": "slide"
    }
   },
   "source": [
    "# Parameter Selection - $\\tau$\n",
    "\n",
    "![](figures/2-1_delay_methods_frequency.png)"
   ]
  },
  {
   "cell_type": "markdown",
   "id": "8d7cd11d",
   "metadata": {
    "slideshow": {
     "slide_type": "slide"
    }
   },
   "source": [
    "# Frequency Approach - Overview\n",
    "\n",
    "<br/><br/><br/><br/>\n",
    "\n",
    "![](figures/2-1_LMS_procedure.pdf)\n",
    "\n",
    "<br/><br/><br/><br/>"
   ]
  },
  {
   "cell_type": "markdown",
   "id": "91024c60",
   "metadata": {
    "slideshow": {
     "slide_type": "slide"
    }
   },
   "source": [
    "# Frequency Approach - Methodology\n",
    "\n",
    "- Frequency Criteria: $2f_{max}< f_s < 4f_{max}$ [2,3]"
   ]
  },
  {
   "cell_type": "markdown",
   "id": "3a01c3ba",
   "metadata": {
    "slideshow": {
     "slide_type": "fragment"
    }
   },
   "source": [
    "- $f_{max}$: Maximum significant frequency in the system"
   ]
  },
  {
   "cell_type": "markdown",
   "id": "1a8ba5f5",
   "metadata": {
    "slideshow": {
     "slide_type": "fragment"
    }
   },
   "source": [
    "- $f_s$: Sampling frequency"
   ]
  },
  {
   "cell_type": "markdown",
   "id": "30974c52",
   "metadata": {
    "slideshow": {
     "slide_type": "fragment"
    }
   },
   "source": [
    "- How can $f_{max} be determined automatically for an oversampled timeseries?\n",
    "\n",
    "\n",
    "![](figures/2-1_fft_cutoff.png)"
   ]
  },
  {
   "cell_type": "markdown",
   "id": "1930c9e9",
   "metadata": {
    "slideshow": {
     "slide_type": "slide"
    }
   },
   "source": [
    "# Frequency Approach - Cutoff Frequency\n",
    "#### Steps:"
   ]
  },
  {
   "cell_type": "markdown",
   "id": "3ac0681e",
   "metadata": {
    "slideshow": {
     "slide_type": "fragment"
    }
   },
   "source": [
    "- GWN Fourier Transform Distribution: $P_{|X|}(|X|) = \\frac{2|X|}{E_w \\sigma_x^2} e^{\\frac{-|X|^2}{E_w \\sigma_x^2}}$\n",
    "- $E_w$: Window energy\n"
   ]
  },
  {
   "cell_type": "markdown",
   "id": "3ad7f39b",
   "metadata": {
    "slideshow": {
     "slide_type": "fragment"
    }
   },
   "source": [
    "![](figures/2-1_FFTdistributions.pdf)"
   ]
  },
  {
   "cell_type": "markdown",
   "id": "8bee8f88",
   "metadata": {
    "slideshow": {
     "slide_type": "slide"
    }
   },
   "source": [
    "# Frequency Approach - Cutoff Frequency\n",
    "\n",
    "- Get an approximate $|X_{max}|$ from the 1D LMS regression of the FFT.\n",
    "- Robust up to 50% outliers"
   ]
  },
  {
   "cell_type": "markdown",
   "id": "ce49e37f",
   "metadata": {
    "slideshow": {
     "slide_type": "fragment"
    }
   },
   "source": [
    "- Compute $\\sigma_x = \\sqrt{\\frac{2|X_{max}|^2}{E_w}}$ (Theoretical maximum)"
   ]
  },
  {
   "cell_type": "markdown",
   "id": "80de749d",
   "metadata": {
    "slideshow": {
     "slide_type": "fragment"
    }
   },
   "source": [
    "- Use the CDF to solve for the cutoff: $CP_{|X|} = 1 - \\exp\\left({\\frac{-|X|^2}{E_w \\sigma_X^2}}\\right)$"
   ]
  },
  {
   "cell_type": "markdown",
   "id": "8e677890",
   "metadata": {
    "slideshow": {
     "slide_type": "fragment"
    }
   },
   "source": [
    "### Cutoff Ratio: $C = \\frac{|X|_{\\text{cutoff}}}{|X|_{\\text{max}}} = \\sqrt{-2\\ln{(1-CP)}}$ \n",
    "\n",
    "- Reccomended cutoff ratio $\\approx 6$ for $10^4$ data points.\n",
    "\n",
    "![](figures/2-1_PDFvCDF.png)"
   ]
  },
  {
   "cell_type": "markdown",
   "id": "b64c7681",
   "metadata": {
    "slideshow": {
     "slide_type": "slide"
    }
   },
   "source": [
    "# Frequency Approach - Finding $\\tau$\n",
    "\n",
    "- The delay is then computed as: $\\tau = \\frac{f_s}{\\alpha f_{max}}$\n",
    "- Set $\\alpha=2$ to satisfy Nyquist sampling criteria\n",
    "\n",
    "<br/><br/><br/><br/>\n",
    "\n",
    "![](figures/2-1_LMS_procedure.pdf)"
   ]
  },
  {
   "cell_type": "markdown",
   "id": "c9aab565",
   "metadata": {
    "slideshow": {
     "slide_type": "slide"
    }
   },
   "source": [
    "# Frequency Approach - Teaspoon Functions\n",
    "\n",
    "Teaspoon functions:\n",
    "```python\n",
    "teaspoon.parameter_selection.delay_LMS.AbsFFT(ts, fs)\n",
    "``` \n",
    "- _AbsFFT_ - Returns fft coordinates of a timeseries"
   ]
  },
  {
   "cell_type": "markdown",
   "id": "578f60a9",
   "metadata": {
    "slideshow": {
     "slide_type": "fragment"
    }
   },
   "source": [
    "```python\n",
    "teaspoon.parameter_selection.delay_LMS.LMSforDelay(ts, fs, plotting=False)\n",
    "``` \n",
    "- _LMSforDelay_ - Computes embedding delay using LMS regression to find cutoff for the maximum significant frequency."
   ]
  },
  {
   "cell_type": "markdown",
   "id": "2aca6aeb",
   "metadata": {
    "slideshow": {
     "slide_type": "fragment"
    }
   },
   "source": [
    "```python\n",
    "teaspoon.parameter_selection.delay_LMS.MaximumFrequency(xf, yf, cutoff)\n",
    "``` \n",
    "- _MaximumFrequency_ - Gives maximum frequency in fft at a given cutoff threshold.\n",
    "\n",
    "### Example:"
   ]
  },
  {
   "cell_type": "code",
   "execution_count": 6,
   "id": "3c5d6409",
   "metadata": {
    "slideshow": {
     "slide_type": "fragment"
    }
   },
   "outputs": [
    {
     "data": {
      "text/plain": [
       "29"
      ]
     },
     "execution_count": 6,
     "metadata": {},
     "output_type": "execute_result"
    }
   ],
   "source": [
    "import teaspoon.MakeData.DynSysLib.DynSysLib as DSL\n",
    "from teaspoon.parameter_selection.delay_LMS import LMSforDelay\n",
    "t, ts = DSL.DynamicSystems('driven_pendulum', 'periodic')\n",
    "LMSforDelay(ts[0], 50)"
   ]
  },
  {
   "cell_type": "markdown",
   "id": "20fdc3ce",
   "metadata": {
    "slideshow": {
     "slide_type": "slide"
    }
   },
   "source": [
    "# Parameter Selection - $\\tau$\n",
    "\n",
    "![](figures/2-1_delay_methods_mspe.png)"
   ]
  },
  {
   "cell_type": "markdown",
   "id": "56357f6d",
   "metadata": {
    "slideshow": {
     "slide_type": "slide"
    }
   },
   "source": [
    "# Multiscale Permutation Entropy (MsPE/MPE)\n",
    "\n",
    "- Study the distribution of permutation groups in a signal by varying $\\tau$\n",
    "![](figures/2-1_motifs.png)"
   ]
  },
  {
   "cell_type": "markdown",
   "id": "dd59c536",
   "metadata": {
    "slideshow": {
     "slide_type": "fragment"
    }
   },
   "source": [
    "- $h_n  = -\\frac{1}{\\log_2{n!}} \\sum{} p(\\pi_i) \\log_2{p(\\pi_i)}$\n",
    "\n",
    "![](figures/2-1_Regions_ABC.PNG)"
   ]
  },
  {
   "cell_type": "markdown",
   "id": "372255af",
   "metadata": {
    "slideshow": {
     "slide_type": "slide"
    }
   },
   "source": [
    "# Multiscale Permutation Entropy\n",
    "\n",
    "- Dip in MSPE occurs around half of the system period. [4]\n",
    "- $d_2 = \\frac{P}{2}=\\frac{1}{f_s}\\tau_r$\n",
    "![](figures/2-1_MdPE.PNG)"
   ]
  },
  {
   "cell_type": "markdown",
   "id": "4391333e",
   "metadata": {
    "slideshow": {
     "slide_type": "fragment"
    }
   },
   "source": [
    "- $\\tau=\\frac{2}{\\alpha}\\tau_r$ for $\\alpha \\in [2,4]$ [1]\n",
    "- $\\tau_r$ is the resonance delay at MPE dip ($d_2$)"
   ]
  },
  {
   "cell_type": "markdown",
   "id": "099e2941",
   "metadata": {
    "slideshow": {
     "slide_type": "slide"
    }
   },
   "source": [
    "# Multiscale Permutation Entropy\n",
    "\n",
    "- Dip in MPE plot may not always be present due to nonlinear effects. E.g. Chaotic Lorenz system MPE plot.\n",
    "\n",
    "![](figures/2-1_delay_segments.png)"
   ]
  },
  {
   "cell_type": "markdown",
   "id": "088638d5",
   "metadata": {
    "slideshow": {
     "slide_type": "fragment"
    }
   },
   "source": [
    "- Take $\\tau$ to be delay at maximum MPE in this case"
   ]
  },
  {
   "cell_type": "markdown",
   "id": "4814f6cc",
   "metadata": {
    "slideshow": {
     "slide_type": "slide"
    }
   },
   "source": [
    "# MsPE Example\n",
    "\n",
    "### Teaspoon Function:\n",
    "\n",
    "```python\n",
    "teaspoon.parameter_selection.MsPE.MsPE_tau(time_series, delay_end=200, plotting=False)\n",
    "```\n",
    "- Compute the timeseries embedding delay using multiscale permutation entropy."
   ]
  },
  {
   "cell_type": "markdown",
   "id": "eea4afc9",
   "metadata": {
    "slideshow": {
     "slide_type": "fragment"
    }
   },
   "source": [
    "### Example:"
   ]
  },
  {
   "cell_type": "code",
   "execution_count": 7,
   "id": "a23f9b77",
   "metadata": {
    "slideshow": {
     "slide_type": "fragment"
    }
   },
   "outputs": [
    {
     "data": {
      "text/plain": [
       "36"
      ]
     },
     "execution_count": 7,
     "metadata": {},
     "output_type": "execute_result"
    }
   ],
   "source": [
    "import teaspoon.MakeData.DynSysLib.DynSysLib as DSL\n",
    "from teaspoon.parameter_selection.MsPE import MsPE_tau\n",
    "t, ts = DSL.DynamicSystems('driven_pendulum', 'periodic')\n",
    "MsPE_tau(ts[0])"
   ]
  },
  {
   "cell_type": "markdown",
   "id": "57cb9c15",
   "metadata": {
    "slideshow": {
     "slide_type": "slide"
    }
   },
   "source": [
    "# Parameter Selection - $\\tau$\n",
    "\n",
    "![](figures/2-1_delay_methods_autocor.png)"
   ]
  },
  {
   "cell_type": "markdown",
   "id": "fdb680c3",
   "metadata": {
    "slideshow": {
     "slide_type": "slide"
    }
   },
   "source": [
    "# Autocorrelation\n",
    "\n",
    "- Compute the correlation function between the signal and its delayed version."
   ]
  },
  {
   "cell_type": "markdown",
   "id": "46ad24d6",
   "metadata": {
    "slideshow": {
     "slide_type": "fragment"
    }
   },
   "source": [
    "- Correlation coefficient/function: $\\rho(\\tau)$"
   ]
  },
  {
   "cell_type": "markdown",
   "id": "aa930879",
   "metadata": {
    "slideshow": {
     "slide_type": "fragment"
    }
   },
   "source": [
    "- $\\tau$ is taken as the point when $\\rho= 1/e \\approx 0.3679$ (folding time) [5]"
   ]
  },
  {
   "cell_type": "markdown",
   "id": "614ff0a2",
   "metadata": {
    "slideshow": {
     "slide_type": "fragment"
    }
   },
   "source": [
    "### Teaspoon Function:\n",
    "\n",
    "```python\n",
    "teaspoon.parameter_selection.autocorrelation.autoCorrelation_tau(ts, cutoff=0.36788, AC_method='spearman', plotting=False)\n",
    "```"
   ]
  },
  {
   "cell_type": "markdown",
   "id": "9f691a56",
   "metadata": {
    "slideshow": {
     "slide_type": "slide"
    }
   },
   "source": [
    "# Autocorrelation - Example"
   ]
  },
  {
   "cell_type": "code",
   "execution_count": 8,
   "id": "4787507a",
   "metadata": {
    "slideshow": {
     "slide_type": "fragment"
    }
   },
   "outputs": [
    {
     "data": {
      "text/plain": [
       "42"
      ]
     },
     "execution_count": 8,
     "metadata": {},
     "output_type": "execute_result"
    }
   ],
   "source": [
    "import teaspoon.MakeData.DynSysLib.DynSysLib as DSL\n",
    "from teaspoon.parameter_selection.autocorrelation import autoCorrelation_tau\n",
    "t, ts = DSL.DynamicSystems('driven_pendulum', 'periodic')\n",
    "autoCorrelation_tau(ts[0])"
   ]
  },
  {
   "cell_type": "markdown",
   "id": "86daa640",
   "metadata": {
    "slideshow": {
     "slide_type": "fragment"
    }
   },
   "source": [
    "![](figures/2-1_autocor_plot.png)"
   ]
  },
  {
   "cell_type": "markdown",
   "id": "44016fab",
   "metadata": {
    "slideshow": {
     "slide_type": "slide"
    }
   },
   "source": [
    "# Parameter Selection - $\\tau$\n",
    "\n",
    "![](figures/2-1_delay_methods_mutual_info.png)"
   ]
  },
  {
   "cell_type": "markdown",
   "id": "77840daa",
   "metadata": {
    "slideshow": {
     "slide_type": "slide"
    }
   },
   "source": [
    "# Mutual Information\n",
    "\n",
    "![](figures/2-1_mutual_information.gif)"
   ]
  },
  {
   "cell_type": "markdown",
   "id": "6b12d130",
   "metadata": {
    "slideshow": {
     "slide_type": "slide"
    }
   },
   "source": [
    "# Mutual Information\n",
    "\n",
    "- $I(X;Y) = \\sum_{x \\in X} \\sum_{y \\in Y}p(x,y)\\log\\frac{p(x,y)}{p(x)p(y)}$ [6]"
   ]
  },
  {
   "cell_type": "markdown",
   "id": "f49e873b",
   "metadata": {
    "slideshow": {
     "slide_type": "fragment"
    }
   },
   "source": [
    "- Compute MI between $x(t)$ and $x(t-\\tau)$"
   ]
  },
  {
   "cell_type": "markdown",
   "id": "3f6788c4",
   "metadata": {
    "slideshow": {
     "slide_type": "fragment"
    }
   },
   "source": [
    "- First minimum in $I$ specifies optimal $\\tau$"
   ]
  },
  {
   "cell_type": "markdown",
   "id": "a6a40e5d",
   "metadata": {
    "slideshow": {
     "slide_type": "fragment"
    }
   },
   "source": [
    "- <span style=\"color:red\">Warning:</span> a minimum is not guaranteed for $I$\n",
    "- *Try different binning methods*"
   ]
  },
  {
   "cell_type": "markdown",
   "id": "dff0143a",
   "metadata": {
    "slideshow": {
     "slide_type": "fragment"
    }
   },
   "source": [
    "### Teaspoon Function:\n",
    "```python\n",
    "teaspoon.parameter_selection.MI_delay.MI_for_delay(ts, plotting=False, method='basic', \n",
    "                                                   h_method='sturge', k=2, ranking=True)\n",
    "```"
   ]
  },
  {
   "cell_type": "markdown",
   "id": "117b874d",
   "metadata": {
    "slideshow": {
     "slide_type": "slide"
    }
   },
   "source": [
    "# Mutual Information Example"
   ]
  },
  {
   "cell_type": "code",
   "execution_count": 9,
   "id": "cad88c27",
   "metadata": {
    "slideshow": {
     "slide_type": "fragment"
    }
   },
   "outputs": [
    {
     "data": {
      "text/plain": [
       "16"
      ]
     },
     "execution_count": 9,
     "metadata": {},
     "output_type": "execute_result"
    }
   ],
   "source": [
    "from teaspoon.parameter_selection.MI_delay import MI_for_delay\n",
    "import teaspoon.MakeData.DynSysLib.DynSysLib as DSL\n",
    "t, ts = DSL.DynamicSystems('driven_pendulum', 'periodic')\n",
    "# kraskov 1 method uses partitioning based on 1 nearest neighbor in MI function\n",
    "# (Estimating mutual information. Physical Review E, 69(6), jun 2004.)\n",
    "MI_for_delay(ts[0], method='kraskov 1')"
   ]
  },
  {
   "cell_type": "markdown",
   "id": "5f1e16d1",
   "metadata": {
    "slideshow": {
     "slide_type": "fragment"
    }
   },
   "source": [
    "![](figures/2-1_mi_example.png)"
   ]
  },
  {
   "cell_type": "markdown",
   "id": "6404a801",
   "metadata": {
    "slideshow": {
     "slide_type": "slide"
    }
   },
   "source": [
    "# Parameter Selection - $\\tau$\n",
    "\n",
    "![](figures/2-1_delay_methods_pami.png)"
   ]
  },
  {
   "cell_type": "markdown",
   "id": "4f54fc61",
   "metadata": {
    "slideshow": {
     "slide_type": "slide"
    }
   },
   "source": [
    "# Permutation Auto-Mutual Information (PAMI)\n",
    "\n",
    "- Estimating $\\tau$ with MI does not account for permutations."
   ]
  },
  {
   "cell_type": "markdown",
   "id": "0fc664c3",
   "metadata": {
    "slideshow": {
     "slide_type": "fragment"
    }
   },
   "source": [
    "- PAMI measures joint probability between permutations at $\\tau=1$ to larger delays."
   ]
  },
  {
   "cell_type": "markdown",
   "id": "b54ec9e5",
   "metadata": {
    "slideshow": {
     "slide_type": "fragment"
    }
   },
   "source": [
    "- $I_p(\\tau, n) = H_{x(t,n)} + H_{x(t+\\tau,n)} - H_{x(t,n), x(t+\\tau,n)}$ [7]\n",
    "- where $H$ is the permutation entropy: $H_s(n) = -\\sum{} p(x_i) \\log{p(x_i)}$"
   ]
  },
  {
   "cell_type": "markdown",
   "id": "8b3e2bb6",
   "metadata": {
    "slideshow": {
     "slide_type": "fragment"
    }
   },
   "source": [
    "- Plot $I_p$ with $(n-1)\\tau$ and find minimum when $n=2$\n",
    "![](figures/2-1_PAMI.png)"
   ]
  },
  {
   "cell_type": "markdown",
   "id": "08c894d4",
   "metadata": {
    "slideshow": {
     "slide_type": "slide"
    }
   },
   "source": [
    "# Permutation Auto-Mutual Information (PAMI)\n",
    "\n",
    "### Teaspoon Function:\n",
    "\n",
    "```python\n",
    "teaspoon.parameter_selection.PAMI_delay.PAMI_for_delay(ts, n=5, plotting=False)\n",
    "```\n",
    "\n",
    "### Example:"
   ]
  },
  {
   "cell_type": "code",
   "execution_count": 10,
   "id": "ba28fe2e",
   "metadata": {
    "slideshow": {
     "slide_type": "fragment"
    }
   },
   "outputs": [
    {
     "data": {
      "application/javascript": [
       "/* Put everything inside the global mpl namespace */\n",
       "/* global mpl */\n",
       "window.mpl = {};\n",
       "\n",
       "mpl.get_websocket_type = function () {\n",
       "    if (typeof WebSocket !== 'undefined') {\n",
       "        return WebSocket;\n",
       "    } else if (typeof MozWebSocket !== 'undefined') {\n",
       "        return MozWebSocket;\n",
       "    } else {\n",
       "        alert(\n",
       "            'Your browser does not have WebSocket support. ' +\n",
       "                'Please try Chrome, Safari or Firefox ≥ 6. ' +\n",
       "                'Firefox 4 and 5 are also supported but you ' +\n",
       "                'have to enable WebSockets in about:config.'\n",
       "        );\n",
       "    }\n",
       "};\n",
       "\n",
       "mpl.figure = function (figure_id, websocket, ondownload, parent_element) {\n",
       "    this.id = figure_id;\n",
       "\n",
       "    this.ws = websocket;\n",
       "\n",
       "    this.supports_binary = this.ws.binaryType !== undefined;\n",
       "\n",
       "    if (!this.supports_binary) {\n",
       "        var warnings = document.getElementById('mpl-warnings');\n",
       "        if (warnings) {\n",
       "            warnings.style.display = 'block';\n",
       "            warnings.textContent =\n",
       "                'This browser does not support binary websocket messages. ' +\n",
       "                'Performance may be slow.';\n",
       "        }\n",
       "    }\n",
       "\n",
       "    this.imageObj = new Image();\n",
       "\n",
       "    this.context = undefined;\n",
       "    this.message = undefined;\n",
       "    this.canvas = undefined;\n",
       "    this.rubberband_canvas = undefined;\n",
       "    this.rubberband_context = undefined;\n",
       "    this.format_dropdown = undefined;\n",
       "\n",
       "    this.image_mode = 'full';\n",
       "\n",
       "    this.root = document.createElement('div');\n",
       "    this.root.setAttribute('style', 'display: inline-block');\n",
       "    this._root_extra_style(this.root);\n",
       "\n",
       "    parent_element.appendChild(this.root);\n",
       "\n",
       "    this._init_header(this);\n",
       "    this._init_canvas(this);\n",
       "    this._init_toolbar(this);\n",
       "\n",
       "    var fig = this;\n",
       "\n",
       "    this.waiting = false;\n",
       "\n",
       "    this.ws.onopen = function () {\n",
       "        fig.send_message('supports_binary', { value: fig.supports_binary });\n",
       "        fig.send_message('send_image_mode', {});\n",
       "        if (fig.ratio !== 1) {\n",
       "            fig.send_message('set_device_pixel_ratio', {\n",
       "                device_pixel_ratio: fig.ratio,\n",
       "            });\n",
       "        }\n",
       "        fig.send_message('refresh', {});\n",
       "    };\n",
       "\n",
       "    this.imageObj.onload = function () {\n",
       "        if (fig.image_mode === 'full') {\n",
       "            // Full images could contain transparency (where diff images\n",
       "            // almost always do), so we need to clear the canvas so that\n",
       "            // there is no ghosting.\n",
       "            fig.context.clearRect(0, 0, fig.canvas.width, fig.canvas.height);\n",
       "        }\n",
       "        fig.context.drawImage(fig.imageObj, 0, 0);\n",
       "    };\n",
       "\n",
       "    this.imageObj.onunload = function () {\n",
       "        fig.ws.close();\n",
       "    };\n",
       "\n",
       "    this.ws.onmessage = this._make_on_message_function(this);\n",
       "\n",
       "    this.ondownload = ondownload;\n",
       "};\n",
       "\n",
       "mpl.figure.prototype._init_header = function () {\n",
       "    var titlebar = document.createElement('div');\n",
       "    titlebar.classList =\n",
       "        'ui-dialog-titlebar ui-widget-header ui-corner-all ui-helper-clearfix';\n",
       "    var titletext = document.createElement('div');\n",
       "    titletext.classList = 'ui-dialog-title';\n",
       "    titletext.setAttribute(\n",
       "        'style',\n",
       "        'width: 100%; text-align: center; padding: 3px;'\n",
       "    );\n",
       "    titlebar.appendChild(titletext);\n",
       "    this.root.appendChild(titlebar);\n",
       "    this.header = titletext;\n",
       "};\n",
       "\n",
       "mpl.figure.prototype._canvas_extra_style = function (_canvas_div) {};\n",
       "\n",
       "mpl.figure.prototype._root_extra_style = function (_canvas_div) {};\n",
       "\n",
       "mpl.figure.prototype._init_canvas = function () {\n",
       "    var fig = this;\n",
       "\n",
       "    var canvas_div = (this.canvas_div = document.createElement('div'));\n",
       "    canvas_div.setAttribute(\n",
       "        'style',\n",
       "        'border: 1px solid #ddd;' +\n",
       "            'box-sizing: content-box;' +\n",
       "            'clear: both;' +\n",
       "            'min-height: 1px;' +\n",
       "            'min-width: 1px;' +\n",
       "            'outline: 0;' +\n",
       "            'overflow: hidden;' +\n",
       "            'position: relative;' +\n",
       "            'resize: both;'\n",
       "    );\n",
       "\n",
       "    function on_keyboard_event_closure(name) {\n",
       "        return function (event) {\n",
       "            return fig.key_event(event, name);\n",
       "        };\n",
       "    }\n",
       "\n",
       "    canvas_div.addEventListener(\n",
       "        'keydown',\n",
       "        on_keyboard_event_closure('key_press')\n",
       "    );\n",
       "    canvas_div.addEventListener(\n",
       "        'keyup',\n",
       "        on_keyboard_event_closure('key_release')\n",
       "    );\n",
       "\n",
       "    this._canvas_extra_style(canvas_div);\n",
       "    this.root.appendChild(canvas_div);\n",
       "\n",
       "    var canvas = (this.canvas = document.createElement('canvas'));\n",
       "    canvas.classList.add('mpl-canvas');\n",
       "    canvas.setAttribute('style', 'box-sizing: content-box;');\n",
       "\n",
       "    this.context = canvas.getContext('2d');\n",
       "\n",
       "    var backingStore =\n",
       "        this.context.backingStorePixelRatio ||\n",
       "        this.context.webkitBackingStorePixelRatio ||\n",
       "        this.context.mozBackingStorePixelRatio ||\n",
       "        this.context.msBackingStorePixelRatio ||\n",
       "        this.context.oBackingStorePixelRatio ||\n",
       "        this.context.backingStorePixelRatio ||\n",
       "        1;\n",
       "\n",
       "    this.ratio = (window.devicePixelRatio || 1) / backingStore;\n",
       "\n",
       "    var rubberband_canvas = (this.rubberband_canvas = document.createElement(\n",
       "        'canvas'\n",
       "    ));\n",
       "    rubberband_canvas.setAttribute(\n",
       "        'style',\n",
       "        'box-sizing: content-box; position: absolute; left: 0; top: 0; z-index: 1;'\n",
       "    );\n",
       "\n",
       "    // Apply a ponyfill if ResizeObserver is not implemented by browser.\n",
       "    if (this.ResizeObserver === undefined) {\n",
       "        if (window.ResizeObserver !== undefined) {\n",
       "            this.ResizeObserver = window.ResizeObserver;\n",
       "        } else {\n",
       "            var obs = _JSXTOOLS_RESIZE_OBSERVER({});\n",
       "            this.ResizeObserver = obs.ResizeObserver;\n",
       "        }\n",
       "    }\n",
       "\n",
       "    this.resizeObserverInstance = new this.ResizeObserver(function (entries) {\n",
       "        var nentries = entries.length;\n",
       "        for (var i = 0; i < nentries; i++) {\n",
       "            var entry = entries[i];\n",
       "            var width, height;\n",
       "            if (entry.contentBoxSize) {\n",
       "                if (entry.contentBoxSize instanceof Array) {\n",
       "                    // Chrome 84 implements new version of spec.\n",
       "                    width = entry.contentBoxSize[0].inlineSize;\n",
       "                    height = entry.contentBoxSize[0].blockSize;\n",
       "                } else {\n",
       "                    // Firefox implements old version of spec.\n",
       "                    width = entry.contentBoxSize.inlineSize;\n",
       "                    height = entry.contentBoxSize.blockSize;\n",
       "                }\n",
       "            } else {\n",
       "                // Chrome <84 implements even older version of spec.\n",
       "                width = entry.contentRect.width;\n",
       "                height = entry.contentRect.height;\n",
       "            }\n",
       "\n",
       "            // Keep the size of the canvas and rubber band canvas in sync with\n",
       "            // the canvas container.\n",
       "            if (entry.devicePixelContentBoxSize) {\n",
       "                // Chrome 84 implements new version of spec.\n",
       "                canvas.setAttribute(\n",
       "                    'width',\n",
       "                    entry.devicePixelContentBoxSize[0].inlineSize\n",
       "                );\n",
       "                canvas.setAttribute(\n",
       "                    'height',\n",
       "                    entry.devicePixelContentBoxSize[0].blockSize\n",
       "                );\n",
       "            } else {\n",
       "                canvas.setAttribute('width', width * fig.ratio);\n",
       "                canvas.setAttribute('height', height * fig.ratio);\n",
       "            }\n",
       "            canvas.setAttribute(\n",
       "                'style',\n",
       "                'width: ' + width + 'px; height: ' + height + 'px;'\n",
       "            );\n",
       "\n",
       "            rubberband_canvas.setAttribute('width', width);\n",
       "            rubberband_canvas.setAttribute('height', height);\n",
       "\n",
       "            // And update the size in Python. We ignore the initial 0/0 size\n",
       "            // that occurs as the element is placed into the DOM, which should\n",
       "            // otherwise not happen due to the minimum size styling.\n",
       "            if (fig.ws.readyState == 1 && width != 0 && height != 0) {\n",
       "                fig.request_resize(width, height);\n",
       "            }\n",
       "        }\n",
       "    });\n",
       "    this.resizeObserverInstance.observe(canvas_div);\n",
       "\n",
       "    function on_mouse_event_closure(name) {\n",
       "        return function (event) {\n",
       "            return fig.mouse_event(event, name);\n",
       "        };\n",
       "    }\n",
       "\n",
       "    rubberband_canvas.addEventListener(\n",
       "        'mousedown',\n",
       "        on_mouse_event_closure('button_press')\n",
       "    );\n",
       "    rubberband_canvas.addEventListener(\n",
       "        'mouseup',\n",
       "        on_mouse_event_closure('button_release')\n",
       "    );\n",
       "    rubberband_canvas.addEventListener(\n",
       "        'dblclick',\n",
       "        on_mouse_event_closure('dblclick')\n",
       "    );\n",
       "    // Throttle sequential mouse events to 1 every 20ms.\n",
       "    rubberband_canvas.addEventListener(\n",
       "        'mousemove',\n",
       "        on_mouse_event_closure('motion_notify')\n",
       "    );\n",
       "\n",
       "    rubberband_canvas.addEventListener(\n",
       "        'mouseenter',\n",
       "        on_mouse_event_closure('figure_enter')\n",
       "    );\n",
       "    rubberband_canvas.addEventListener(\n",
       "        'mouseleave',\n",
       "        on_mouse_event_closure('figure_leave')\n",
       "    );\n",
       "\n",
       "    canvas_div.addEventListener('wheel', function (event) {\n",
       "        if (event.deltaY < 0) {\n",
       "            event.step = 1;\n",
       "        } else {\n",
       "            event.step = -1;\n",
       "        }\n",
       "        on_mouse_event_closure('scroll')(event);\n",
       "    });\n",
       "\n",
       "    canvas_div.appendChild(canvas);\n",
       "    canvas_div.appendChild(rubberband_canvas);\n",
       "\n",
       "    this.rubberband_context = rubberband_canvas.getContext('2d');\n",
       "    this.rubberband_context.strokeStyle = '#000000';\n",
       "\n",
       "    this._resize_canvas = function (width, height, forward) {\n",
       "        if (forward) {\n",
       "            canvas_div.style.width = width + 'px';\n",
       "            canvas_div.style.height = height + 'px';\n",
       "        }\n",
       "    };\n",
       "\n",
       "    // Disable right mouse context menu.\n",
       "    this.rubberband_canvas.addEventListener('contextmenu', function (_e) {\n",
       "        event.preventDefault();\n",
       "        return false;\n",
       "    });\n",
       "\n",
       "    function set_focus() {\n",
       "        canvas.focus();\n",
       "        canvas_div.focus();\n",
       "    }\n",
       "\n",
       "    window.setTimeout(set_focus, 100);\n",
       "};\n",
       "\n",
       "mpl.figure.prototype._init_toolbar = function () {\n",
       "    var fig = this;\n",
       "\n",
       "    var toolbar = document.createElement('div');\n",
       "    toolbar.classList = 'mpl-toolbar';\n",
       "    this.root.appendChild(toolbar);\n",
       "\n",
       "    function on_click_closure(name) {\n",
       "        return function (_event) {\n",
       "            return fig.toolbar_button_onclick(name);\n",
       "        };\n",
       "    }\n",
       "\n",
       "    function on_mouseover_closure(tooltip) {\n",
       "        return function (event) {\n",
       "            if (!event.currentTarget.disabled) {\n",
       "                return fig.toolbar_button_onmouseover(tooltip);\n",
       "            }\n",
       "        };\n",
       "    }\n",
       "\n",
       "    fig.buttons = {};\n",
       "    var buttonGroup = document.createElement('div');\n",
       "    buttonGroup.classList = 'mpl-button-group';\n",
       "    for (var toolbar_ind in mpl.toolbar_items) {\n",
       "        var name = mpl.toolbar_items[toolbar_ind][0];\n",
       "        var tooltip = mpl.toolbar_items[toolbar_ind][1];\n",
       "        var image = mpl.toolbar_items[toolbar_ind][2];\n",
       "        var method_name = mpl.toolbar_items[toolbar_ind][3];\n",
       "\n",
       "        if (!name) {\n",
       "            /* Instead of a spacer, we start a new button group. */\n",
       "            if (buttonGroup.hasChildNodes()) {\n",
       "                toolbar.appendChild(buttonGroup);\n",
       "            }\n",
       "            buttonGroup = document.createElement('div');\n",
       "            buttonGroup.classList = 'mpl-button-group';\n",
       "            continue;\n",
       "        }\n",
       "\n",
       "        var button = (fig.buttons[name] = document.createElement('button'));\n",
       "        button.classList = 'mpl-widget';\n",
       "        button.setAttribute('role', 'button');\n",
       "        button.setAttribute('aria-disabled', 'false');\n",
       "        button.addEventListener('click', on_click_closure(method_name));\n",
       "        button.addEventListener('mouseover', on_mouseover_closure(tooltip));\n",
       "\n",
       "        var icon_img = document.createElement('img');\n",
       "        icon_img.src = '_images/' + image + '.png';\n",
       "        icon_img.srcset = '_images/' + image + '_large.png 2x';\n",
       "        icon_img.alt = tooltip;\n",
       "        button.appendChild(icon_img);\n",
       "\n",
       "        buttonGroup.appendChild(button);\n",
       "    }\n",
       "\n",
       "    if (buttonGroup.hasChildNodes()) {\n",
       "        toolbar.appendChild(buttonGroup);\n",
       "    }\n",
       "\n",
       "    var fmt_picker = document.createElement('select');\n",
       "    fmt_picker.classList = 'mpl-widget';\n",
       "    toolbar.appendChild(fmt_picker);\n",
       "    this.format_dropdown = fmt_picker;\n",
       "\n",
       "    for (var ind in mpl.extensions) {\n",
       "        var fmt = mpl.extensions[ind];\n",
       "        var option = document.createElement('option');\n",
       "        option.selected = fmt === mpl.default_extension;\n",
       "        option.innerHTML = fmt;\n",
       "        fmt_picker.appendChild(option);\n",
       "    }\n",
       "\n",
       "    var status_bar = document.createElement('span');\n",
       "    status_bar.classList = 'mpl-message';\n",
       "    toolbar.appendChild(status_bar);\n",
       "    this.message = status_bar;\n",
       "};\n",
       "\n",
       "mpl.figure.prototype.request_resize = function (x_pixels, y_pixels) {\n",
       "    // Request matplotlib to resize the figure. Matplotlib will then trigger a resize in the client,\n",
       "    // which will in turn request a refresh of the image.\n",
       "    this.send_message('resize', { width: x_pixels, height: y_pixels });\n",
       "};\n",
       "\n",
       "mpl.figure.prototype.send_message = function (type, properties) {\n",
       "    properties['type'] = type;\n",
       "    properties['figure_id'] = this.id;\n",
       "    this.ws.send(JSON.stringify(properties));\n",
       "};\n",
       "\n",
       "mpl.figure.prototype.send_draw_message = function () {\n",
       "    if (!this.waiting) {\n",
       "        this.waiting = true;\n",
       "        this.ws.send(JSON.stringify({ type: 'draw', figure_id: this.id }));\n",
       "    }\n",
       "};\n",
       "\n",
       "mpl.figure.prototype.handle_save = function (fig, _msg) {\n",
       "    var format_dropdown = fig.format_dropdown;\n",
       "    var format = format_dropdown.options[format_dropdown.selectedIndex].value;\n",
       "    fig.ondownload(fig, format);\n",
       "};\n",
       "\n",
       "mpl.figure.prototype.handle_resize = function (fig, msg) {\n",
       "    var size = msg['size'];\n",
       "    if (size[0] !== fig.canvas.width || size[1] !== fig.canvas.height) {\n",
       "        fig._resize_canvas(size[0], size[1], msg['forward']);\n",
       "        fig.send_message('refresh', {});\n",
       "    }\n",
       "};\n",
       "\n",
       "mpl.figure.prototype.handle_rubberband = function (fig, msg) {\n",
       "    var x0 = msg['x0'] / fig.ratio;\n",
       "    var y0 = (fig.canvas.height - msg['y0']) / fig.ratio;\n",
       "    var x1 = msg['x1'] / fig.ratio;\n",
       "    var y1 = (fig.canvas.height - msg['y1']) / fig.ratio;\n",
       "    x0 = Math.floor(x0) + 0.5;\n",
       "    y0 = Math.floor(y0) + 0.5;\n",
       "    x1 = Math.floor(x1) + 0.5;\n",
       "    y1 = Math.floor(y1) + 0.5;\n",
       "    var min_x = Math.min(x0, x1);\n",
       "    var min_y = Math.min(y0, y1);\n",
       "    var width = Math.abs(x1 - x0);\n",
       "    var height = Math.abs(y1 - y0);\n",
       "\n",
       "    fig.rubberband_context.clearRect(\n",
       "        0,\n",
       "        0,\n",
       "        fig.canvas.width / fig.ratio,\n",
       "        fig.canvas.height / fig.ratio\n",
       "    );\n",
       "\n",
       "    fig.rubberband_context.strokeRect(min_x, min_y, width, height);\n",
       "};\n",
       "\n",
       "mpl.figure.prototype.handle_figure_label = function (fig, msg) {\n",
       "    // Updates the figure title.\n",
       "    fig.header.textContent = msg['label'];\n",
       "};\n",
       "\n",
       "mpl.figure.prototype.handle_cursor = function (fig, msg) {\n",
       "    fig.rubberband_canvas.style.cursor = msg['cursor'];\n",
       "};\n",
       "\n",
       "mpl.figure.prototype.handle_message = function (fig, msg) {\n",
       "    fig.message.textContent = msg['message'];\n",
       "};\n",
       "\n",
       "mpl.figure.prototype.handle_draw = function (fig, _msg) {\n",
       "    // Request the server to send over a new figure.\n",
       "    fig.send_draw_message();\n",
       "};\n",
       "\n",
       "mpl.figure.prototype.handle_image_mode = function (fig, msg) {\n",
       "    fig.image_mode = msg['mode'];\n",
       "};\n",
       "\n",
       "mpl.figure.prototype.handle_history_buttons = function (fig, msg) {\n",
       "    for (var key in msg) {\n",
       "        if (!(key in fig.buttons)) {\n",
       "            continue;\n",
       "        }\n",
       "        fig.buttons[key].disabled = !msg[key];\n",
       "        fig.buttons[key].setAttribute('aria-disabled', !msg[key]);\n",
       "    }\n",
       "};\n",
       "\n",
       "mpl.figure.prototype.handle_navigate_mode = function (fig, msg) {\n",
       "    if (msg['mode'] === 'PAN') {\n",
       "        fig.buttons['Pan'].classList.add('active');\n",
       "        fig.buttons['Zoom'].classList.remove('active');\n",
       "    } else if (msg['mode'] === 'ZOOM') {\n",
       "        fig.buttons['Pan'].classList.remove('active');\n",
       "        fig.buttons['Zoom'].classList.add('active');\n",
       "    } else {\n",
       "        fig.buttons['Pan'].classList.remove('active');\n",
       "        fig.buttons['Zoom'].classList.remove('active');\n",
       "    }\n",
       "};\n",
       "\n",
       "mpl.figure.prototype.updated_canvas_event = function () {\n",
       "    // Called whenever the canvas gets updated.\n",
       "    this.send_message('ack', {});\n",
       "};\n",
       "\n",
       "// A function to construct a web socket function for onmessage handling.\n",
       "// Called in the figure constructor.\n",
       "mpl.figure.prototype._make_on_message_function = function (fig) {\n",
       "    return function socket_on_message(evt) {\n",
       "        if (evt.data instanceof Blob) {\n",
       "            var img = evt.data;\n",
       "            if (img.type !== 'image/png') {\n",
       "                /* FIXME: We get \"Resource interpreted as Image but\n",
       "                 * transferred with MIME type text/plain:\" errors on\n",
       "                 * Chrome.  But how to set the MIME type?  It doesn't seem\n",
       "                 * to be part of the websocket stream */\n",
       "                img.type = 'image/png';\n",
       "            }\n",
       "\n",
       "            /* Free the memory for the previous frames */\n",
       "            if (fig.imageObj.src) {\n",
       "                (window.URL || window.webkitURL).revokeObjectURL(\n",
       "                    fig.imageObj.src\n",
       "                );\n",
       "            }\n",
       "\n",
       "            fig.imageObj.src = (window.URL || window.webkitURL).createObjectURL(\n",
       "                img\n",
       "            );\n",
       "            fig.updated_canvas_event();\n",
       "            fig.waiting = false;\n",
       "            return;\n",
       "        } else if (\n",
       "            typeof evt.data === 'string' &&\n",
       "            evt.data.slice(0, 21) === 'data:image/png;base64'\n",
       "        ) {\n",
       "            fig.imageObj.src = evt.data;\n",
       "            fig.updated_canvas_event();\n",
       "            fig.waiting = false;\n",
       "            return;\n",
       "        }\n",
       "\n",
       "        var msg = JSON.parse(evt.data);\n",
       "        var msg_type = msg['type'];\n",
       "\n",
       "        // Call the  \"handle_{type}\" callback, which takes\n",
       "        // the figure and JSON message as its only arguments.\n",
       "        try {\n",
       "            var callback = fig['handle_' + msg_type];\n",
       "        } catch (e) {\n",
       "            console.log(\n",
       "                \"No handler for the '\" + msg_type + \"' message type: \",\n",
       "                msg\n",
       "            );\n",
       "            return;\n",
       "        }\n",
       "\n",
       "        if (callback) {\n",
       "            try {\n",
       "                // console.log(\"Handling '\" + msg_type + \"' message: \", msg);\n",
       "                callback(fig, msg);\n",
       "            } catch (e) {\n",
       "                console.log(\n",
       "                    \"Exception inside the 'handler_\" + msg_type + \"' callback:\",\n",
       "                    e,\n",
       "                    e.stack,\n",
       "                    msg\n",
       "                );\n",
       "            }\n",
       "        }\n",
       "    };\n",
       "};\n",
       "\n",
       "// from https://stackoverflow.com/questions/1114465/getting-mouse-location-in-canvas\n",
       "mpl.findpos = function (e) {\n",
       "    //this section is from http://www.quirksmode.org/js/events_properties.html\n",
       "    var targ;\n",
       "    if (!e) {\n",
       "        e = window.event;\n",
       "    }\n",
       "    if (e.target) {\n",
       "        targ = e.target;\n",
       "    } else if (e.srcElement) {\n",
       "        targ = e.srcElement;\n",
       "    }\n",
       "    if (targ.nodeType === 3) {\n",
       "        // defeat Safari bug\n",
       "        targ = targ.parentNode;\n",
       "    }\n",
       "\n",
       "    // pageX,Y are the mouse positions relative to the document\n",
       "    var boundingRect = targ.getBoundingClientRect();\n",
       "    var x = e.pageX - (boundingRect.left + document.body.scrollLeft);\n",
       "    var y = e.pageY - (boundingRect.top + document.body.scrollTop);\n",
       "\n",
       "    return { x: x, y: y };\n",
       "};\n",
       "\n",
       "/*\n",
       " * return a copy of an object with only non-object keys\n",
       " * we need this to avoid circular references\n",
       " * https://stackoverflow.com/a/24161582/3208463\n",
       " */\n",
       "function simpleKeys(original) {\n",
       "    return Object.keys(original).reduce(function (obj, key) {\n",
       "        if (typeof original[key] !== 'object') {\n",
       "            obj[key] = original[key];\n",
       "        }\n",
       "        return obj;\n",
       "    }, {});\n",
       "}\n",
       "\n",
       "mpl.figure.prototype.mouse_event = function (event, name) {\n",
       "    var canvas_pos = mpl.findpos(event);\n",
       "\n",
       "    if (name === 'button_press') {\n",
       "        this.canvas.focus();\n",
       "        this.canvas_div.focus();\n",
       "    }\n",
       "\n",
       "    var x = canvas_pos.x * this.ratio;\n",
       "    var y = canvas_pos.y * this.ratio;\n",
       "\n",
       "    this.send_message(name, {\n",
       "        x: x,\n",
       "        y: y,\n",
       "        button: event.button,\n",
       "        step: event.step,\n",
       "        guiEvent: simpleKeys(event),\n",
       "    });\n",
       "\n",
       "    /* This prevents the web browser from automatically changing to\n",
       "     * the text insertion cursor when the button is pressed.  We want\n",
       "     * to control all of the cursor setting manually through the\n",
       "     * 'cursor' event from matplotlib */\n",
       "    event.preventDefault();\n",
       "    return false;\n",
       "};\n",
       "\n",
       "mpl.figure.prototype._key_event_extra = function (_event, _name) {\n",
       "    // Handle any extra behaviour associated with a key event\n",
       "};\n",
       "\n",
       "mpl.figure.prototype.key_event = function (event, name) {\n",
       "    // Prevent repeat events\n",
       "    if (name === 'key_press') {\n",
       "        if (event.key === this._key) {\n",
       "            return;\n",
       "        } else {\n",
       "            this._key = event.key;\n",
       "        }\n",
       "    }\n",
       "    if (name === 'key_release') {\n",
       "        this._key = null;\n",
       "    }\n",
       "\n",
       "    var value = '';\n",
       "    if (event.ctrlKey && event.key !== 'Control') {\n",
       "        value += 'ctrl+';\n",
       "    }\n",
       "    else if (event.altKey && event.key !== 'Alt') {\n",
       "        value += 'alt+';\n",
       "    }\n",
       "    else if (event.shiftKey && event.key !== 'Shift') {\n",
       "        value += 'shift+';\n",
       "    }\n",
       "\n",
       "    value += 'k' + event.key;\n",
       "\n",
       "    this._key_event_extra(event, name);\n",
       "\n",
       "    this.send_message(name, { key: value, guiEvent: simpleKeys(event) });\n",
       "    return false;\n",
       "};\n",
       "\n",
       "mpl.figure.prototype.toolbar_button_onclick = function (name) {\n",
       "    if (name === 'download') {\n",
       "        this.handle_save(this, null);\n",
       "    } else {\n",
       "        this.send_message('toolbar_button', { name: name });\n",
       "    }\n",
       "};\n",
       "\n",
       "mpl.figure.prototype.toolbar_button_onmouseover = function (tooltip) {\n",
       "    this.message.textContent = tooltip;\n",
       "};\n",
       "\n",
       "///////////////// REMAINING CONTENT GENERATED BY embed_js.py /////////////////\n",
       "// prettier-ignore\n",
       "var _JSXTOOLS_RESIZE_OBSERVER=function(A){var t,i=new WeakMap,n=new WeakMap,a=new WeakMap,r=new WeakMap,o=new Set;function s(e){if(!(this instanceof s))throw new TypeError(\"Constructor requires 'new' operator\");i.set(this,e)}function h(){throw new TypeError(\"Function is not a constructor\")}function c(e,t,i,n){e=0 in arguments?Number(arguments[0]):0,t=1 in arguments?Number(arguments[1]):0,i=2 in arguments?Number(arguments[2]):0,n=3 in arguments?Number(arguments[3]):0,this.right=(this.x=this.left=e)+(this.width=i),this.bottom=(this.y=this.top=t)+(this.height=n),Object.freeze(this)}function d(){t=requestAnimationFrame(d);var s=new WeakMap,p=new Set;o.forEach((function(t){r.get(t).forEach((function(i){var r=t instanceof window.SVGElement,o=a.get(t),d=r?0:parseFloat(o.paddingTop),f=r?0:parseFloat(o.paddingRight),l=r?0:parseFloat(o.paddingBottom),u=r?0:parseFloat(o.paddingLeft),g=r?0:parseFloat(o.borderTopWidth),m=r?0:parseFloat(o.borderRightWidth),w=r?0:parseFloat(o.borderBottomWidth),b=u+f,F=d+l,v=(r?0:parseFloat(o.borderLeftWidth))+m,W=g+w,y=r?0:t.offsetHeight-W-t.clientHeight,E=r?0:t.offsetWidth-v-t.clientWidth,R=b+v,z=F+W,M=r?t.width:parseFloat(o.width)-R-E,O=r?t.height:parseFloat(o.height)-z-y;if(n.has(t)){var k=n.get(t);if(k[0]===M&&k[1]===O)return}n.set(t,[M,O]);var S=Object.create(h.prototype);S.target=t,S.contentRect=new c(u,d,M,O),s.has(i)||(s.set(i,[]),p.add(i)),s.get(i).push(S)}))})),p.forEach((function(e){i.get(e).call(e,s.get(e),e)}))}return s.prototype.observe=function(i){if(i instanceof window.Element){r.has(i)||(r.set(i,new Set),o.add(i),a.set(i,window.getComputedStyle(i)));var n=r.get(i);n.has(this)||n.add(this),cancelAnimationFrame(t),t=requestAnimationFrame(d)}},s.prototype.unobserve=function(i){if(i instanceof window.Element&&r.has(i)){var n=r.get(i);n.has(this)&&(n.delete(this),n.size||(r.delete(i),o.delete(i))),n.size||r.delete(i),o.size||cancelAnimationFrame(t)}},A.DOMRectReadOnly=c,A.ResizeObserver=s,A.ResizeObserverEntry=h,A}; // eslint-disable-line\n",
       "mpl.toolbar_items = [[\"Home\", \"Reset original view\", \"fa fa-home icon-home\", \"home\"], [\"Back\", \"Back to previous view\", \"fa fa-arrow-left icon-arrow-left\", \"back\"], [\"Forward\", \"Forward to next view\", \"fa fa-arrow-right icon-arrow-right\", \"forward\"], [\"\", \"\", \"\", \"\"], [\"Pan\", \"Left button pans, Right button zooms\\nx/y fixes axis, CTRL fixes aspect\", \"fa fa-arrows icon-move\", \"pan\"], [\"Zoom\", \"Zoom to rectangle\\nx/y fixes axis\", \"fa fa-square-o icon-check-empty\", \"zoom\"], [\"\", \"\", \"\", \"\"], [\"Download\", \"Download plot\", \"fa fa-floppy-o icon-save\", \"download\"]];\n",
       "\n",
       "mpl.extensions = [\"eps\", \"jpeg\", \"pgf\", \"pdf\", \"png\", \"ps\", \"raw\", \"svg\", \"tif\"];\n",
       "\n",
       "mpl.default_extension = \"png\";/* global mpl */\n",
       "\n",
       "var comm_websocket_adapter = function (comm) {\n",
       "    // Create a \"websocket\"-like object which calls the given IPython comm\n",
       "    // object with the appropriate methods. Currently this is a non binary\n",
       "    // socket, so there is still some room for performance tuning.\n",
       "    var ws = {};\n",
       "\n",
       "    ws.binaryType = comm.kernel.ws.binaryType;\n",
       "    ws.readyState = comm.kernel.ws.readyState;\n",
       "    function updateReadyState(_event) {\n",
       "        if (comm.kernel.ws) {\n",
       "            ws.readyState = comm.kernel.ws.readyState;\n",
       "        } else {\n",
       "            ws.readyState = 3; // Closed state.\n",
       "        }\n",
       "    }\n",
       "    comm.kernel.ws.addEventListener('open', updateReadyState);\n",
       "    comm.kernel.ws.addEventListener('close', updateReadyState);\n",
       "    comm.kernel.ws.addEventListener('error', updateReadyState);\n",
       "\n",
       "    ws.close = function () {\n",
       "        comm.close();\n",
       "    };\n",
       "    ws.send = function (m) {\n",
       "        //console.log('sending', m);\n",
       "        comm.send(m);\n",
       "    };\n",
       "    // Register the callback with on_msg.\n",
       "    comm.on_msg(function (msg) {\n",
       "        //console.log('receiving', msg['content']['data'], msg);\n",
       "        var data = msg['content']['data'];\n",
       "        if (data['blob'] !== undefined) {\n",
       "            data = {\n",
       "                data: new Blob(msg['buffers'], { type: data['blob'] }),\n",
       "            };\n",
       "        }\n",
       "        // Pass the mpl event to the overridden (by mpl) onmessage function.\n",
       "        ws.onmessage(data);\n",
       "    });\n",
       "    return ws;\n",
       "};\n",
       "\n",
       "mpl.mpl_figure_comm = function (comm, msg) {\n",
       "    // This is the function which gets called when the mpl process\n",
       "    // starts-up an IPython Comm through the \"matplotlib\" channel.\n",
       "\n",
       "    var id = msg.content.data.id;\n",
       "    // Get hold of the div created by the display call when the Comm\n",
       "    // socket was opened in Python.\n",
       "    var element = document.getElementById(id);\n",
       "    var ws_proxy = comm_websocket_adapter(comm);\n",
       "\n",
       "    function ondownload(figure, _format) {\n",
       "        window.open(figure.canvas.toDataURL());\n",
       "    }\n",
       "\n",
       "    var fig = new mpl.figure(id, ws_proxy, ondownload, element);\n",
       "\n",
       "    // Call onopen now - mpl needs it, as it is assuming we've passed it a real\n",
       "    // web socket which is closed, not our websocket->open comm proxy.\n",
       "    ws_proxy.onopen();\n",
       "\n",
       "    fig.parent_element = element;\n",
       "    fig.cell_info = mpl.find_output_cell(\"<div id='\" + id + \"'></div>\");\n",
       "    if (!fig.cell_info) {\n",
       "        console.error('Failed to find cell for figure', id, fig);\n",
       "        return;\n",
       "    }\n",
       "    fig.cell_info[0].output_area.element.on(\n",
       "        'cleared',\n",
       "        { fig: fig },\n",
       "        fig._remove_fig_handler\n",
       "    );\n",
       "};\n",
       "\n",
       "mpl.figure.prototype.handle_close = function (fig, msg) {\n",
       "    var width = fig.canvas.width / fig.ratio;\n",
       "    fig.cell_info[0].output_area.element.off(\n",
       "        'cleared',\n",
       "        fig._remove_fig_handler\n",
       "    );\n",
       "    fig.resizeObserverInstance.unobserve(fig.canvas_div);\n",
       "\n",
       "    // Update the output cell to use the data from the current canvas.\n",
       "    fig.push_to_output();\n",
       "    var dataURL = fig.canvas.toDataURL();\n",
       "    // Re-enable the keyboard manager in IPython - without this line, in FF,\n",
       "    // the notebook keyboard shortcuts fail.\n",
       "    IPython.keyboard_manager.enable();\n",
       "    fig.parent_element.innerHTML =\n",
       "        '<img src=\"' + dataURL + '\" width=\"' + width + '\">';\n",
       "    fig.close_ws(fig, msg);\n",
       "};\n",
       "\n",
       "mpl.figure.prototype.close_ws = function (fig, msg) {\n",
       "    fig.send_message('closing', msg);\n",
       "    // fig.ws.close()\n",
       "};\n",
       "\n",
       "mpl.figure.prototype.push_to_output = function (_remove_interactive) {\n",
       "    // Turn the data on the canvas into data in the output cell.\n",
       "    var width = this.canvas.width / this.ratio;\n",
       "    var dataURL = this.canvas.toDataURL();\n",
       "    this.cell_info[1]['text/html'] =\n",
       "        '<img src=\"' + dataURL + '\" width=\"' + width + '\">';\n",
       "};\n",
       "\n",
       "mpl.figure.prototype.updated_canvas_event = function () {\n",
       "    // Tell IPython that the notebook contents must change.\n",
       "    IPython.notebook.set_dirty(true);\n",
       "    this.send_message('ack', {});\n",
       "    var fig = this;\n",
       "    // Wait a second, then push the new image to the DOM so\n",
       "    // that it is saved nicely (might be nice to debounce this).\n",
       "    setTimeout(function () {\n",
       "        fig.push_to_output();\n",
       "    }, 1000);\n",
       "};\n",
       "\n",
       "mpl.figure.prototype._init_toolbar = function () {\n",
       "    var fig = this;\n",
       "\n",
       "    var toolbar = document.createElement('div');\n",
       "    toolbar.classList = 'btn-toolbar';\n",
       "    this.root.appendChild(toolbar);\n",
       "\n",
       "    function on_click_closure(name) {\n",
       "        return function (_event) {\n",
       "            return fig.toolbar_button_onclick(name);\n",
       "        };\n",
       "    }\n",
       "\n",
       "    function on_mouseover_closure(tooltip) {\n",
       "        return function (event) {\n",
       "            if (!event.currentTarget.disabled) {\n",
       "                return fig.toolbar_button_onmouseover(tooltip);\n",
       "            }\n",
       "        };\n",
       "    }\n",
       "\n",
       "    fig.buttons = {};\n",
       "    var buttonGroup = document.createElement('div');\n",
       "    buttonGroup.classList = 'btn-group';\n",
       "    var button;\n",
       "    for (var toolbar_ind in mpl.toolbar_items) {\n",
       "        var name = mpl.toolbar_items[toolbar_ind][0];\n",
       "        var tooltip = mpl.toolbar_items[toolbar_ind][1];\n",
       "        var image = mpl.toolbar_items[toolbar_ind][2];\n",
       "        var method_name = mpl.toolbar_items[toolbar_ind][3];\n",
       "\n",
       "        if (!name) {\n",
       "            /* Instead of a spacer, we start a new button group. */\n",
       "            if (buttonGroup.hasChildNodes()) {\n",
       "                toolbar.appendChild(buttonGroup);\n",
       "            }\n",
       "            buttonGroup = document.createElement('div');\n",
       "            buttonGroup.classList = 'btn-group';\n",
       "            continue;\n",
       "        }\n",
       "\n",
       "        button = fig.buttons[name] = document.createElement('button');\n",
       "        button.classList = 'btn btn-default';\n",
       "        button.href = '#';\n",
       "        button.title = name;\n",
       "        button.innerHTML = '<i class=\"fa ' + image + ' fa-lg\"></i>';\n",
       "        button.addEventListener('click', on_click_closure(method_name));\n",
       "        button.addEventListener('mouseover', on_mouseover_closure(tooltip));\n",
       "        buttonGroup.appendChild(button);\n",
       "    }\n",
       "\n",
       "    if (buttonGroup.hasChildNodes()) {\n",
       "        toolbar.appendChild(buttonGroup);\n",
       "    }\n",
       "\n",
       "    // Add the status bar.\n",
       "    var status_bar = document.createElement('span');\n",
       "    status_bar.classList = 'mpl-message pull-right';\n",
       "    toolbar.appendChild(status_bar);\n",
       "    this.message = status_bar;\n",
       "\n",
       "    // Add the close button to the window.\n",
       "    var buttongrp = document.createElement('div');\n",
       "    buttongrp.classList = 'btn-group inline pull-right';\n",
       "    button = document.createElement('button');\n",
       "    button.classList = 'btn btn-mini btn-primary';\n",
       "    button.href = '#';\n",
       "    button.title = 'Stop Interaction';\n",
       "    button.innerHTML = '<i class=\"fa fa-power-off icon-remove icon-large\"></i>';\n",
       "    button.addEventListener('click', function (_evt) {\n",
       "        fig.handle_close(fig, {});\n",
       "    });\n",
       "    button.addEventListener(\n",
       "        'mouseover',\n",
       "        on_mouseover_closure('Stop Interaction')\n",
       "    );\n",
       "    buttongrp.appendChild(button);\n",
       "    var titlebar = this.root.querySelector('.ui-dialog-titlebar');\n",
       "    titlebar.insertBefore(buttongrp, titlebar.firstChild);\n",
       "};\n",
       "\n",
       "mpl.figure.prototype._remove_fig_handler = function (event) {\n",
       "    var fig = event.data.fig;\n",
       "    if (event.target !== this) {\n",
       "        // Ignore bubbled events from children.\n",
       "        return;\n",
       "    }\n",
       "    fig.close_ws(fig, {});\n",
       "};\n",
       "\n",
       "mpl.figure.prototype._root_extra_style = function (el) {\n",
       "    el.style.boxSizing = 'content-box'; // override notebook setting of border-box.\n",
       "};\n",
       "\n",
       "mpl.figure.prototype._canvas_extra_style = function (el) {\n",
       "    // this is important to make the div 'focusable\n",
       "    el.setAttribute('tabindex', 0);\n",
       "    // reach out to IPython and tell the keyboard manager to turn it's self\n",
       "    // off when our div gets focus\n",
       "\n",
       "    // location in version 3\n",
       "    if (IPython.notebook.keyboard_manager) {\n",
       "        IPython.notebook.keyboard_manager.register_events(el);\n",
       "    } else {\n",
       "        // location in version 2\n",
       "        IPython.keyboard_manager.register_events(el);\n",
       "    }\n",
       "};\n",
       "\n",
       "mpl.figure.prototype._key_event_extra = function (event, _name) {\n",
       "    // Check for shift+enter\n",
       "    if (event.shiftKey && event.which === 13) {\n",
       "        this.canvas_div.blur();\n",
       "        // select the cell after this one\n",
       "        var index = IPython.notebook.find_cell_index(this.cell_info[0]);\n",
       "        IPython.notebook.select(index + 1);\n",
       "    }\n",
       "};\n",
       "\n",
       "mpl.figure.prototype.handle_save = function (fig, _msg) {\n",
       "    fig.ondownload(fig, null);\n",
       "};\n",
       "\n",
       "mpl.find_output_cell = function (html_output) {\n",
       "    // Return the cell and output element which can be found *uniquely* in the notebook.\n",
       "    // Note - this is a bit hacky, but it is done because the \"notebook_saving.Notebook\"\n",
       "    // IPython event is triggered only after the cells have been serialised, which for\n",
       "    // our purposes (turning an active figure into a static one), is too late.\n",
       "    var cells = IPython.notebook.get_cells();\n",
       "    var ncells = cells.length;\n",
       "    for (var i = 0; i < ncells; i++) {\n",
       "        var cell = cells[i];\n",
       "        if (cell.cell_type === 'code') {\n",
       "            for (var j = 0; j < cell.output_area.outputs.length; j++) {\n",
       "                var data = cell.output_area.outputs[j];\n",
       "                if (data.data) {\n",
       "                    // IPython >= 3 moved mimebundle to data attribute of output\n",
       "                    data = data.data;\n",
       "                }\n",
       "                if (data['text/html'] === html_output) {\n",
       "                    return [cell, data, j];\n",
       "                }\n",
       "            }\n",
       "        }\n",
       "    }\n",
       "};\n",
       "\n",
       "// Register the function which deals with the matplotlib target/channel.\n",
       "// The kernel may be null if the page has been refreshed.\n",
       "if (IPython.notebook.kernel !== null) {\n",
       "    IPython.notebook.kernel.comm_manager.register_target(\n",
       "        'matplotlib',\n",
       "        mpl.mpl_figure_comm\n",
       "    );\n",
       "}\n"
      ],
      "text/plain": [
       "<IPython.core.display.Javascript object>"
      ]
     },
     "metadata": {},
     "output_type": "display_data"
    },
    {
     "data": {
      "text/html": [
       "<img src=\"data:image/png;base64,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\" width=\"640\">"
      ],
      "text/plain": [
       "<IPython.core.display.HTML object>"
      ]
     },
     "metadata": {},
     "output_type": "display_data"
    },
    {
     "data": {
      "text/plain": [
       "13"
      ]
     },
     "execution_count": 10,
     "metadata": {},
     "output_type": "execute_result"
    }
   ],
   "source": [
    "from teaspoon.parameter_selection.PAMI_delay import PAMI_for_delay\n",
    "import teaspoon.MakeData.DynSysLib.DynSysLib as DSL\n",
    "t, ts = DSL.DynamicSystems('driven_pendulum', 'periodic')\n",
    "PAMI_for_delay(ts[0], n=5, plotting=True)"
   ]
  },
  {
   "cell_type": "markdown",
   "id": "e5d528c3",
   "metadata": {
    "slideshow": {
     "slide_type": "slide"
    }
   },
   "source": [
    "\n",
    "# **Exercise:** Estimate the embedding delay for the periodic and chaotic _Rossler_ system using the five methods discussed.\n",
    "\n",
    "### Explore the embedded attractor point cloud persistence diagrams and how they compare to the full system persistence diagrams.\n",
    "\n",
    "- See **embedding_delay_examples.ipynb** for relevant hints and space for your code.\n",
    "\n",
    "![](figures/2-1_delay_methods.png)"
   ]
  },
  {
   "cell_type": "markdown",
   "id": "6c770b08",
   "metadata": {
    "slideshow": {
     "slide_type": "notes"
    }
   },
   "source": [
    "# References\n",
    "\n",
    "1. Myers, A., & Khasawneh, F. A. (2020). On the automatic parameter selection for permutation entropy<? A3B2 show [editpick]?>. Chaos: An Interdisciplinary Journal of Nonlinear Science, 30(3), 033130.\n",
    "\n",
    "2. Melosik, Michał, and W. Marszalek. \"On the 0/1 test for chaos in continuous systems.\" Bulletin of the Polish Academy of Sciences: Technical Sciences 3 (2016).\n",
    "\n",
    "3. Landau, H. J. \"Sampling, data transmission, and the Nyquist rate.\" Proceedings of the IEEE 55.10 (1967): 1701-1706.\n",
    "\n",
    "4. Zunino, Luciano, et al. \"Permutation-information-theory approach to unveil delay dynamics from time-series analysis.\" Physical Review E 82.4 (2010): 046212.\n",
    "\n",
    "5. Kantz, Holger, and Thomas Schreiber. Nonlinear time series analysis. Vol. 7. Cambridge university press, 2004.\n",
    "\n",
    "6. Shannon, Claude E. \"A mathematical theory of communication.\" The Bell system technical journal 27.3 (1948): 379-423.\n",
    "\n",
    "7. Liang, Zhenhu, et al. \"Permutation auto-mutual information of electroencephalogram in anesthesia.\" Journal of neural engineering 10.2 (2013): 026004."
   ]
  }
 ],
 "metadata": {
  "celltoolbar": "Slideshow",
  "center": "false",
  "kernelspec": {
   "display_name": "Python 3 (ipykernel)",
   "language": "python",
   "name": "python3"
  },
  "language_info": {
   "codemirror_mode": {
    "name": "ipython",
    "version": 3
   },
   "file_extension": ".py",
   "mimetype": "text/x-python",
   "name": "python",
   "nbconvert_exporter": "python",
   "pygments_lexer": "ipython3",
   "version": "3.9.7"
  }
 },
 "nbformat": 4,
 "nbformat_minor": 5
}
