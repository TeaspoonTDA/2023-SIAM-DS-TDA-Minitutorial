{
 "cells": [
  {
   "cell_type": "markdown",
   "id": "45dcc505",
   "metadata": {},
   "source": [
    "# Module 2-1 Worksheet: Embedding and Attractor Reconstruction\n",
    "\n",
    "## Part 1: Computing Optimal Time Delay $\\tau$\n",
    "\n",
    "<font color = 'purple'>\n",
    "    \n",
    "*Once we are done talking through the slides from [the main module 2-1 notebook](2-1-Embedding.ipynb), we will take some time to test out your understanding of the method by using the teaspoon functions to estimate the time delay for a different dynamical system. We encourage talking to your neighbor. Please ask if you need help!* The relevant teaspoon functions have been imported below and documentation can be found [here](https://teaspoontda.github.io/teaspoon/index.html) if needed.\n",
    "    \n",
    "</font>\n",
    "\n",
    "### Task: Estimate the takens embedding delay for the periodic Lorenz system using the Teaspoon library functions."
   ]
  },
  {
   "cell_type": "code",
   "execution_count": 4,
   "id": "ab5c41fe",
   "metadata": {},
   "outputs": [],
   "source": [
    "# Embedding/Simulation Functions\n",
    "import teaspoon.MakeData.DynSysLib.DynSysLib as DSL\n",
    "from teaspoon.SP.tsa_tools import takens\n",
    "\n",
    "# Time delay functions\n",
    "from teaspoon.parameter_selection.delay_LMS import LMSforDelay\n",
    "from teaspoon.parameter_selection.MsPE import MsPE_tau\n",
    "from teaspoon.parameter_selection.autocorrelation import autoCorrelation_tau\n",
    "from teaspoon.parameter_selection.MI_delay import MI_for_delay\n",
    "from teaspoon.parameter_selection.PAMI_delay import PAMI_for_delay\n",
    "\n",
    "# Miscellaneous python functions\n",
    "import numpy as np\n",
    "import matplotlib.pyplot as plt\n",
    "import matplotlib.gridspec as gridspec\n",
    "from ripser import Rips\n",
    "\n",
    "# Initialize delay variables\n",
    "tau_freq, tau_mspe, tau_autocor, tau_mi, tau_pami = 0,0,0,0,0"
   ]
  },
  {
   "cell_type": "markdown",
   "id": "08b1941d",
   "metadata": {},
   "source": [
    "## Lorenz System Embedding\n",
    "\n",
    "The Lorenz system used is defined as\n",
    "\n",
    "\\begin{align*}\n",
    "\\dot{x}&=\\sigma (y-x),\\\\\n",
    "\\dot{y}&=x(\\rho−z)−y,\\\\\n",
    "\\dot{z}&=xy-\\beta z.\n",
    "\\end{align*}\n",
    "\n",
    "In Teaspoon, The Lorenz system is solved with a sampling rate of 100 Hz for 100 seconds with only the last 20 seconds used to avoid transients. For a chaotic response, parameters of σ = 10.0, β = 8.0/3.0, and ρ = 105 and initial conditions [x0,y0,z0] = [10−10,0,1] are used. For a periodic response set ρ = 100."
   ]
  },
  {
   "cell_type": "markdown",
   "id": "f5409716",
   "metadata": {},
   "source": [
    "### Step 1: Simulate the periodic Lorenz System\n",
    "\n",
    "**Hint:** Use ```\n",
    "DSL.DynamicSystems('system', 'state')\n",
    "``` and be sure to save the time and signal in separate variables. The key for this system is *lorenz*."
   ]
  },
  {
   "cell_type": "code",
   "execution_count": 19,
   "id": "d684be97",
   "metadata": {},
   "outputs": [],
   "source": [
    "# Your code here"
   ]
  },
  {
   "cell_type": "markdown",
   "id": "ae63850d",
   "metadata": {},
   "source": [
    "*The correct answer is hidden here. Highlight or double-click to open the cell to see it when you're ready.*\n",
    "\n",
    "<font color='white'>\n",
    "    \n",
    "t, ts = DSL.DynamicSystems('lorenz', 'periodic')\n",
    "    \n",
    "</font>"
   ]
  },
  {
   "cell_type": "markdown",
   "id": "0d04a6ae",
   "metadata": {},
   "source": [
    "### Step 2: Plot the full state space for this system\n",
    "\n",
    "Run the code below to plot the 3D state space for the periodic Lorenz system."
   ]
  },
  {
   "cell_type": "code",
   "execution_count": null,
   "id": "452631e4",
   "metadata": {},
   "outputs": [],
   "source": [
    "# Define the x, y, and z functions\n",
    "x = ts[0]\n",
    "y = ts[1]\n",
    "z = ts[2]\n",
    "\n",
    "# Create a figure and add a 3D axis\n",
    "fig = plt.figure()\n",
    "ax = fig.add_subplot(projection='3d')\n",
    "\n",
    "# Plot the curve using the x, y, and z functions\n",
    "ax.plot(x, y, z, color='b')\n",
    "\n",
    "# Add labels and title\n",
    "ax.set_xlabel('x(t)')\n",
    "ax.set_ylabel('y(t)')\n",
    "ax.set_zlabel('z(t)')\n",
    "ax.set_title('Lorenz System State Space')\n",
    "\n",
    "# Show the plot\n",
    "plt.show()"
   ]
  },
  {
   "cell_type": "markdown",
   "id": "bd9e9f70",
   "metadata": {},
   "source": [
    "### Step 3: Plot the 1D persistence diagram for this attractor using ripser.\n",
    "\n",
    "**Note:** Ripser requires an array where the columns correspond to the coordinates and rows are for different points. We use ```np.array()``` and ```np.transpose()```. This computation may take some time. To speed it up a bit, the timeseries can be subsampled by taking every other point (append ```[::2]``` at the end of the ripser input). \n",
    "\n",
    "<font color=purple>\n",
    "Nothing to add here just run the cells to see how ripser works for now.\n",
    "</font>"
   ]
  },
  {
   "cell_type": "code",
   "execution_count": 32,
   "id": "bd6f00f3",
   "metadata": {
    "scrolled": false
   },
   "outputs": [
    {
     "name": "stdout",
     "output_type": "stream",
     "text": [
      "Rips(maxdim=1, thresh=inf, coeff=2, do_cocycles=False, n_perm = None, verbose=True)\n"
     ]
    }
   ],
   "source": [
    "# Compute the 1D point cloud persistence diagram for the Lorenz attractor\n",
    "rips = Rips()\n",
    "diagrams = rips.fit_transform(np.array(ts).T[::2])\n",
    "h1pers_true = diagrams[1]"
   ]
  },
  {
   "cell_type": "code",
   "execution_count": null,
   "id": "8d3c1e1d",
   "metadata": {},
   "outputs": [],
   "source": [
    "# Plot the diagram\n",
    "plt.figure(figsize=(5,5), dpi=100)\n",
    "plt.plot(h1pers_true[:,0], h1pers_true[:,1], '.b', markersize=10)\n",
    "top = max(np.max(h1pers_true[:,0]),np.max(h1pers_true[:,1]))\n",
    "plt.plot([-0.01,1.1*top],[-0.01,1.1*top],'--k')\n",
    "plt.xlabel('Birth', fontsize=15)\n",
    "plt.ylabel('Death', fontsize=15)\n",
    "plt.xticks(fontsize=15)\n",
    "plt.yticks(fontsize=15)\n",
    "plt.title('1D Persistence Diagram (Lorenz)')\n",
    "plt.show()"
   ]
  },
  {
   "cell_type": "markdown",
   "id": "a1b8159b",
   "metadata": {},
   "source": [
    "You should see a clustering of persistence cycles close to the diagonal and two significant features in the diagram that correspond to the two large loops observed in the state space plot."
   ]
  },
  {
   "cell_type": "markdown",
   "id": "9a8ec98e",
   "metadata": {},
   "source": [
    "### Step 4: Estimate the embedding delays using the five methods covered in [module 2-1](2-1-Embedding.ipynb)\n",
    "\n",
    "Use ```ts[0]``` to estimate the delays. We will use these delays in the next section to evaluate the embedded attractor. *Hint:* Make sure you use the correct sampling frequency, use the ```kraskov 1``` nearest neighbor binning for mutual information."
   ]
  },
  {
   "cell_type": "code",
   "execution_count": 21,
   "id": "f9153af5",
   "metadata": {},
   "outputs": [],
   "source": [
    "# Your code here\n",
    "\n",
    "# tau_freq = \n",
    "# tau_mspe = \n",
    "# tau_autocor = \n",
    "# tau_mi = \n",
    "# tau_pami = \n",
    "\n",
    "# Print your results"
   ]
  },
  {
   "cell_type": "markdown",
   "id": "53acc693",
   "metadata": {},
   "source": [
    "*The correct answer is hidden here. Highlight or double-click to open the cell to see it when you're ready.*\n",
    "\n",
    "<font color='white'>\n",
    "    \n",
    "tau_freq = LMSforDelay(ts[0], 100)\n",
    "    \n",
    "tau_mspe = MsPE_tau(ts[0])\n",
    "    \n",
    "tau_autocor = autoCorrelation_tau(ts[0])\n",
    "    \n",
    "tau_mi = MI_for_delay(ts[0], method='kraskov 1')\n",
    "    \n",
    "tau_pami = PAMI_for_delay(ts[0])\n",
    "\n",
    "print(tau_freq, tau_mspe, tau_autocor, tau_mi, tau_pami)\n",
    "    \n",
    "DELAYS: 4, 16, 12, 12, 6 \n",
    "</font>"
   ]
  },
  {
   "cell_type": "markdown",
   "id": "845bc495",
   "metadata": {},
   "source": [
    "### Step 5: Plot the embedded attractor in 3 dimensional space using the estimated delays\n",
    "\n",
    "Explore which methods give the best results when compared to the true state space. The persistence diagram is plotted to the right for comparison to the attractors.\n",
    "\n",
    "<font color=purple>\n",
    "    Run the following cell to embed the attractor in 3D for all 5 delays and plot the corresponding 1D persistence diagram. Which method gives the cosest results for this dimension?\n",
    "</font>"
   ]
  },
  {
   "cell_type": "code",
   "execution_count": null,
   "id": "480c1ff4",
   "metadata": {
    "scrolled": false
   },
   "outputs": [],
   "source": [
    "delays = {'Frequency':tau_freq, \n",
    "          'MSPE':tau_mspe, \n",
    "          'Autocor':tau_autocor, \n",
    "          'MI':tau_mi, \n",
    "          'PAMI':tau_pami}\n",
    "\n",
    "for method in delays:\n",
    "    # Embed the attractor:\n",
    "    if delays[method]:\n",
    "        embedded_ts = takens(ts[0], n = 3, tau = delays[method])\n",
    "\n",
    "        # Define the x, y, and z functions\n",
    "        x_emb = embedded_ts[:,0]\n",
    "        y_emb = embedded_ts[:,1]\n",
    "        z_emb = embedded_ts[:,2]\n",
    "\n",
    "        # Create a figure and add a 3D axis\n",
    "        fig = plt.figure(figsize=(14,6))\n",
    "        gs = gridspec.GridSpec(1, 2)\n",
    "        ax = plt.subplot(gs[0:1, 0:1],projection='3d')\n",
    "\n",
    "        # Plot the curve using the x, y, and z functions\n",
    "        ax.plot(x, y, z, color='b')\n",
    "        ax.plot(x_emb,y_emb, z_emb, color='r')\n",
    "        # Add labels and title\n",
    "        ax.set_xlabel('x(t)', fontsize=15)\n",
    "        ax.set_ylabel('y(t)', fontsize=15)\n",
    "        ax.set_zlabel('z(t)', fontsize=15)\n",
    "        ax.set_title(f'Lorenz System - {method}')\n",
    "\n",
    "        # Plot the persistence diagrams\n",
    "        ax = plt.subplot(gs[0:1, 1:2])\n",
    "\n",
    "        # Plot true attractor persistence diagram\n",
    "        plt.plot(h1pers_true[:,0], h1pers_true[:,1], '.b', markersize=10, label='Ground Truth')\n",
    "        top_true = max(np.max(h1pers_true[:,0]),np.max(h1pers_true[:,1]))\n",
    "        plt.plot([-0.01,1.1*top],[-0.01,1.1*top],'--k')\n",
    "\n",
    "        # Compute and plot embedded attractor persistence diagram\n",
    "        rips = Rips()\n",
    "        diagrams = rips.fit_transform(np.array(embedded_ts)[::2])\n",
    "        h1pers_est = diagrams[1]\n",
    "        plt.plot(h1pers_est[:,0], h1pers_est[:,1], '.r', markersize=10, label='Estimate')\n",
    "\n",
    "        # Plot formatting\n",
    "        top_est = max(np.max(h1pers_est[:,0]),np.max(h1pers_est[:,1]))\n",
    "        top = max(top_true, top_est)\n",
    "        plt.plot([-0.01,1.1*top],[-0.01,1.1*top],'--k')\n",
    "        plt.xlabel('Birth', fontsize=15)\n",
    "        plt.ylabel('Death', fontsize=15)\n",
    "        plt.xticks(fontsize=15)\n",
    "        plt.yticks(fontsize=15)\n",
    "        plt.title('1D Persistence Diagram (Lorenz)')\n",
    "        plt.legend(loc='lower right')\n",
    "        plt.show()"
   ]
  },
  {
   "cell_type": "markdown",
   "id": "2e239b21",
   "metadata": {},
   "source": [
    "**Challenge Problem:** If you still have time, try to add Gaussian white noise to the original signal data and observe how this changes the persistence diagrams and embedded attractors. Hint: ```use np.random.normal```. \n",
    "\n",
    "**Challenge Problem:** Estimate the delays for a system using the methods that were not discussed in the talk. Hint: see the [teaspoon documentation](https://teaspoontda.github.io/teaspoon/parameter_selection.html) for these methods. They are all imported in this notebook. \n",
    "\n",
    "**Extra Problem:** Try to embed the chaotic lorenz attractor and observe how the persistence diagrams change when the system is chaotic.\n",
    "\n",
    "\n",
    "\n"
   ]
  },
  {
   "cell_type": "markdown",
   "id": "a447c0d8",
   "metadata": {},
   "source": [
    "## Code not working? Double click this cell, uncomment the code  and run to see the figures generated in this worksheet.\n",
    "\n",
    "<!-- ![](figures/2-1-wkst-lorenz-ss.png)\n",
    "![](figures/2-1-wkst-lorenz-pd.png)\n",
    "![](figures/2-1-wkst-freq.png)\n",
    "![](figures/2-1-wkst-mspe.png)\n",
    "![](figures/2-1-wkst-autocor.png)\n",
    "![](figures/2-1-wkst-mi.png)\n",
    "![](figures/2-1-wkst-pami.png) -->"
   ]
  },
  {
   "cell_type": "markdown",
   "id": "1f43ebc4",
   "metadata": {},
   "source": [
    "# Stop Here 🛑"
   ]
  },
  {
   "cell_type": "markdown",
   "id": "67c2af27",
   "metadata": {},
   "source": [
    "---"
   ]
  },
  {
   "cell_type": "markdown",
   "id": "f49397d5",
   "metadata": {},
   "source": [
    "## Part 2: Estimating the Embedding Dimension $n$\n",
    "\n",
    "### Task: Estimate the embedding dimension for the periodic Lorenz system using the Teaspoon library functions. \n",
    "\n",
    "<font color=red>Warning: You must run all cells in part 1 for this part to work properly</font>\n",
    "\n",
    "Run your code from part 1 or use the answer keys to simulate the lorenz system. "
   ]
  },
  {
   "cell_type": "code",
   "execution_count": 6,
   "id": "6e0d62aa",
   "metadata": {},
   "outputs": [],
   "source": [
    "# Import dimension functions\n",
    "from teaspoon.parameter_selection.FNN_n import FNN_n\n",
    "from teaspoon.parameter_selection.MsPE import MsPE_n\n",
    "\n",
    "# Initialize dimension variables\n",
    "\n",
    "n_fnn, n_mspe = 0,0"
   ]
  },
  {
   "cell_type": "markdown",
   "id": "07b63136",
   "metadata": {},
   "source": [
    "### Step 1: Estimate the dimensions of the Lorenz system\n",
    "\n",
    "Use the first component of the state space ```ts[0]``` to estimate the embedding dimension. Note that both dimension methods require a delay to be predetermined. In this case, use the delay from part 1 from the **permutation auto mutual information (PAMI) method**. \n",
    "\n",
    "Compute the dimension using the false nearest neighbors and multiscale permutation entropy methods. Are the dimensions correct knowing what the true dimension is for the Lorenz system?"
   ]
  },
  {
   "cell_type": "code",
   "execution_count": 47,
   "id": "d7faafb3",
   "metadata": {},
   "outputs": [],
   "source": [
    "# Your code here\n",
    "\n",
    "# perc_fnn, n_fnn =\n",
    "# n_mspe = \n",
    "\n",
    "# Print your resulting dimensions"
   ]
  },
  {
   "cell_type": "markdown",
   "id": "b4fe466d",
   "metadata": {},
   "source": [
    "*The correct answer is hidden here. Highlight or double-click to open the cell to see it when you're ready.*\n",
    "\n",
    "<font color='white'>\n",
    "perc_fnn, n_fnn = FNN_n(ts[0], tau_mspe)\n",
    "    \n",
    "n_mspe = MsPE_n(ts[0], tau_mspe)\n",
    "    \n",
    "print(n_fnn, n_mspe)\n",
    "    \n",
    "Dimensions: 2, 3\n",
    "</font>"
   ]
  },
  {
   "cell_type": "markdown",
   "id": "1ec6e8bb",
   "metadata": {},
   "source": [
    "### Step 2: Compute the attractor persistence diagrams\n",
    "\n",
    "Run the following cell to plot the persistence diagrams for the embedded attractors. Because the dimension may be larger than 3, we only show the persistence diagram here as it is not possible to plot in higher dimensions."
   ]
  },
  {
   "cell_type": "code",
   "execution_count": null,
   "id": "b5e92293",
   "metadata": {},
   "outputs": [],
   "source": [
    "dimensions = {'FNN':n_fnn, \n",
    "          'MSPE':n_mspe}\n",
    "\n",
    "for method in dimensions:\n",
    "    # Embed the attractor:\n",
    "    if dimensions[method]:\n",
    "        embedded_ts = takens(ts[0], n = dimensions[method], tau = tau_pami)\n",
    "\n",
    "        # Create a figure\n",
    "        fig = plt.figure(figsize=(5,5))\n",
    "\n",
    "        # Plot the persistence diagrams\n",
    "\n",
    "\n",
    "        # Plot true attractor persistence diagram\n",
    "        plt.plot(h1pers_true[:,0], h1pers_true[:,1], '.b', markersize=10, label='Ground Truth')\n",
    "        top_true = max(np.max(h1pers_true[:,0]),np.max(h1pers_true[:,1]))\n",
    "        plt.plot([-0.01,1.1*top],[-0.01,1.1*top],'--k')\n",
    "\n",
    "        # Compute and plot embedded attractor persistence diagram\n",
    "        rips = Rips()\n",
    "        diagrams = rips.fit_transform(np.array(embedded_ts)[::2])\n",
    "        h1pers_est = diagrams[1]\n",
    "        plt.plot(h1pers_est[:,0], h1pers_est[:,1], '.r', markersize=10, label='Estimate')\n",
    "\n",
    "        # Plot formatting\n",
    "        top_est = max(np.max(h1pers_est[:,0]),np.max(h1pers_est[:,1]))\n",
    "        top = max(top_true, top_est)\n",
    "        plt.plot([-0.01,1.1*top],[-0.01,1.1*top],'--k')\n",
    "        plt.xlabel('Birth', fontsize=15)\n",
    "        plt.ylabel('Death', fontsize=15)\n",
    "        plt.xticks(fontsize=15)\n",
    "        plt.yticks(fontsize=15)\n",
    "        plt.title(f'1D Persistence Diagram {method}')\n",
    "        plt.legend(loc='lower right')\n",
    "        plt.show()"
   ]
  },
  {
   "cell_type": "markdown",
   "id": "854e750b",
   "metadata": {},
   "source": [
    "Are the attractor topologies what you expected compared to the ground truth?"
   ]
  },
  {
   "cell_type": "markdown",
   "id": "f47e0304",
   "metadata": {},
   "source": [
    "**Challenge Problem:** If you still have time, try to add Gaussian white noise to the original signal data and observe how this changes the dimension and persistence diagrams and embedded attractors. Hint: ```use np.random.normal```. "
   ]
  },
  {
   "cell_type": "markdown",
   "id": "3af9d041",
   "metadata": {},
   "source": [
    "## Code not working? Double click this cell, uncomment the code  and run to see the figures generated in this worksheet.\n",
    "\n",
    "<!-- ![](figures/2-1-wkst-fnn.png)\n",
    "![](figures/2-1-wkst-mspe-dim.png) -->"
   ]
  }
 ],
 "metadata": {
  "kernelspec": {
   "display_name": "Python 3 (ipykernel)",
   "language": "python",
   "name": "python3"
  },
  "language_info": {
   "codemirror_mode": {
    "name": "ipython",
    "version": 3
   },
   "file_extension": ".py",
   "mimetype": "text/x-python",
   "name": "python",
   "nbconvert_exporter": "python",
   "pygments_lexer": "ipython3",
   "version": "3.9.16"
  }
 },
 "nbformat": 4,
 "nbformat_minor": 5
}
